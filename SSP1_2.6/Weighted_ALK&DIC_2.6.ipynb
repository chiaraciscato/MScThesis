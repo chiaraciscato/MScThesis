{
 "cells": [
  {
   "cell_type": "code",
   "execution_count": 1,
   "id": "e467d34f-08cb-4a00-a9cd-4e0bfe055488",
   "metadata": {},
   "outputs": [],
   "source": [
    "import netCDF4 as nc\n",
    "from netCDF4 import Dataset\n",
    "import matplotlib as mpl\n",
    "import matplotlib.pyplot as plt\n",
    "import matplotlib.patches as mpatches\n",
    "from matplotlib.legend_handler import HandlerPatch\n",
    "import xarray as xr\n",
    "import numpy as np\n",
    "import pandas as pd\n",
    "import calendar\n",
    "import seaborn as sns\n",
    "import seaborn_image as isns\n",
    "import calendar"
   ]
  },
  {
   "cell_type": "code",
   "execution_count": 2,
   "id": "d0eb02a2-6043-4d72-ae11-3773efc46d3e",
   "metadata": {},
   "outputs": [],
   "source": [
    "data_alk_base = (r'/Volumes/FOCI_Archive_1/Data_Chiara/FOCI_Chiara/SSP1_2.6/Alk/ALK_baseline_ensemble1_ssp126_1m.nc')\n",
    "data_baseline_alk = xr.open_dataset(data_alk_base)"
   ]
  },
  {
   "cell_type": "code",
   "execution_count": 3,
   "id": "57ae8138-5dc0-46cf-acf3-e2a21f2b28bb",
   "metadata": {},
   "outputs": [],
   "source": [
    "data_alk_oae = (r'/Volumes/FOCI_Archive_1/Data_Chiara/FOCI_Chiara/SSP1_2.6/Alk/ALK_CDR_EU_coast_ssp126_1m.nc')\n",
    "data_oae_alk = xr.open_dataset(data_alk_oae)"
   ]
  },
  {
   "cell_type": "code",
   "execution_count": 2,
   "id": "a22480fb-b73c-4fcf-a7bd-21fb67ee5395",
   "metadata": {},
   "outputs": [],
   "source": [
    "mesh_mask = xr.open_dataset('/Users/chiaraciscato/Desktop/geomar/Cropped_DataTransfer/masks/mesh_mask.nc')"
   ]
  },
  {
   "cell_type": "code",
   "execution_count": 3,
   "id": "dc463ae2-5f49-446f-bc7a-720a9246c859",
   "metadata": {},
   "outputs": [],
   "source": [
    "mask = xr.open_dataset('/Users/chiaraciscato/Desktop/geomar/Cropped_DataTransfer/masks/tmaskm.nc')"
   ]
  },
  {
   "cell_type": "code",
   "execution_count": 4,
   "id": "e02031a7-f355-48d0-9b9c-2c13216be697",
   "metadata": {},
   "outputs": [],
   "source": [
    "mask = mask.tmask.isel(time=0)"
   ]
  },
  {
   "cell_type": "code",
   "execution_count": 5,
   "id": "3588d8e6-bb60-4a4d-be87-d0e436bdfe0f",
   "metadata": {},
   "outputs": [],
   "source": [
    "# calculate volume for each grid cell\n",
    "\n",
    "dx = mesh_mask.e1t \n",
    "dy = mesh_mask.e2t\n",
    "dz = mesh_mask.e3t_0\n",
    "grid_cell_area = dx * dy * dz"
   ]
  },
  {
   "cell_type": "code",
   "execution_count": 6,
   "id": "2460aec0-51ee-4f06-ba5b-a96c0b70502e",
   "metadata": {},
   "outputs": [],
   "source": [
    "gridded_mesh = grid_cell_area.isel(t=0)"
   ]
  },
  {
   "cell_type": "code",
   "execution_count": 7,
   "id": "a3305ffe-9908-4537-b897-1050feeac0c9",
   "metadata": {},
   "outputs": [],
   "source": [
    "# apply mask to weighted grid cells\n",
    "\n",
    "ocean_area = gridded_mesh * mask"
   ]
  },
  {
   "cell_type": "code",
   "execution_count": null,
   "id": "6b20f11d-17ca-4cba-8ea3-3528d01be193",
   "metadata": {},
   "outputs": [],
   "source": [
    "# multiply alkalinity in kg by seawater density 1.025 kg/m3 - unit conversion to mmol/m3\n",
    "\n",
    "data_baseline_alk = (data_baseline_alk.ALK.isel(x=slice(520,595),y=slice(330,435),deptht=slice(0,7))) * 1.025"
   ]
  },
  {
   "cell_type": "code",
   "execution_count": null,
   "id": "705c6bde-4823-47ae-89b2-7541528378d9",
   "metadata": {},
   "outputs": [],
   "source": [
    "data_baseline_alk = data_baseline_alk.to_dataset(name='ALK')"
   ]
  },
  {
   "cell_type": "code",
   "execution_count": null,
   "id": "0d0b6980-5363-44b3-8fbc-5c4c34ea0194",
   "metadata": {},
   "outputs": [],
   "source": [
    "ocean_area_sliced = ocean_area.isel(x=slice(520,595),y=slice(330,435),z=slice(0,7))"
   ]
  },
  {
   "cell_type": "code",
   "execution_count": null,
   "id": "55348944-4558-426b-8aaa-64807d7d5a89",
   "metadata": {},
   "outputs": [],
   "source": [
    "sliced_alk_baseline = ocean_area_sliced * data_baseline_alk.ALK"
   ]
  },
  {
   "cell_type": "code",
   "execution_count": null,
   "id": "7d987a1a-5fa6-4564-97c6-eec3cc4be69c",
   "metadata": {},
   "outputs": [],
   "source": [
    "regridded_alk_base = sliced_alk_baseline.sum(['x', 'y', 'z']) / ocean_area_sliced.sum(['x', 'y', 'z'])"
   ]
  },
  {
   "cell_type": "code",
   "execution_count": null,
   "id": "1a86c67d-c101-456a-a53e-f1e57eda8d67",
   "metadata": {},
   "outputs": [],
   "source": [
    "# multiply alkalinity in kg by seawater density 1.025 kg/m3 - unit conversion to mmol/m3\n",
    "\n",
    "data_oae_alk = (data_oae_alk.ALK.isel(x=slice(520,595),y=slice(330,435),deptht=slice(0,7))) * 1.025"
   ]
  },
  {
   "cell_type": "code",
   "execution_count": null,
   "id": "2f333f1a-02ca-48ea-92f5-dc94515708fe",
   "metadata": {},
   "outputs": [],
   "source": [
    "data_oae_alk = data_oae_alk.to_dataset(name='ALK')"
   ]
  },
  {
   "cell_type": "code",
   "execution_count": null,
   "id": "7a75e8a5-f133-413e-b3ef-594ddcd30990",
   "metadata": {},
   "outputs": [],
   "source": [
    "sliced_alk_oae = ocean_area_sliced * data_oae_alk.ALK"
   ]
  },
  {
   "cell_type": "code",
   "execution_count": null,
   "id": "6eed2d8f-5426-40d3-8d4e-63b44bd0f140",
   "metadata": {},
   "outputs": [],
   "source": [
    "regridded_alk_oae = sliced_alk_oae.sum(['x', 'y', 'z']) / ocean_area_sliced.sum(['x', 'y', 'z'])"
   ]
  },
  {
   "cell_type": "code",
   "execution_count": null,
   "id": "ce721c59-beb7-4ecf-9bc4-65272a91fe07",
   "metadata": {},
   "outputs": [],
   "source": [
    "regridded_alk_base = regridded_alk_base.to_dataset(name='ALK')\n",
    "regridded_alk_oae = regridded_alk_oae.to_dataset(name='ALK')"
   ]
  },
  {
   "cell_type": "code",
   "execution_count": null,
   "id": "a52fb092-589f-4ae5-b196-e44f47a31dc7",
   "metadata": {},
   "outputs": [],
   "source": [
    "#regridded_alk_base.to_netcdf('/Users/chiaraciscato/Desktop/geomar/Cropped_DataTransfer/SSP1_2.6/Alkalinity/ALK_baseline_2.6_weighted.nc')\n",
    "#regridded_alk_oae.to_netcdf('/Users/chiaraciscato/Desktop/geomar/Cropped_DataTransfer/SSP1_2.6/Alkalinity/ALK_oae_2.6_weighted.nc')"
   ]
  },
  {
   "cell_type": "code",
   "execution_count": 8,
   "id": "5465b556-64ee-4d1a-8b72-33ef7a192bc2",
   "metadata": {},
   "outputs": [],
   "source": [
    "data_dic_base = (r'/Volumes/FOCI_Archive_1/Data_Chiara/FOCI_Chiara/SSP1_2.6/DIC/DIC_baseline_ensemble1_ssp126_1m.nc')\n",
    "data_baseline_dic = xr.open_dataset(data_dic_base)"
   ]
  },
  {
   "cell_type": "code",
   "execution_count": 9,
   "id": "7222c92d-3b90-4592-bc6a-7dcd4f3dd4e1",
   "metadata": {},
   "outputs": [],
   "source": [
    "date_dic_oae = (r'/Volumes/FOCI_Archive_1/Data_Chiara/FOCI_Chiara/SSP1_2.6/DIC/DIC_CDR_EU_coast_ssp126_1m.nc')\n",
    "data_oae_dic = xr.open_dataset(date_dic_oae)"
   ]
  },
  {
   "cell_type": "code",
   "execution_count": 10,
   "id": "56822393-ade1-4673-b957-f27259b195af",
   "metadata": {},
   "outputs": [],
   "source": [
    "# multiply DIC in kg by seawater density 1.025 kg/m3 - unit conversion to mmol/m3\n",
    "\n",
    "data_baseline_dic = (data_baseline_dic.DIC.isel(x=slice(520,595),y=slice(330,435),deptht=slice(0,7))) * 1.025"
   ]
  },
  {
   "cell_type": "code",
   "execution_count": 11,
   "id": "cabcb366-b727-4397-bcf4-fc3ef7eb49a6",
   "metadata": {},
   "outputs": [],
   "source": [
    "data_baseline_dic = data_baseline_dic.to_dataset(name='DIC')"
   ]
  },
  {
   "cell_type": "code",
   "execution_count": 12,
   "id": "74908ae4-3f7a-41f5-a4da-f4a126ac68d4",
   "metadata": {},
   "outputs": [],
   "source": [
    "ocean_area_sliced = ocean_area.isel(x=slice(520,595),y=slice(330,435),z=slice(0,7))"
   ]
  },
  {
   "cell_type": "code",
   "execution_count": 13,
   "id": "eff21c5a-de28-4bd0-ad98-7f31828cd38d",
   "metadata": {},
   "outputs": [],
   "source": [
    "sliced_dic_baseline = ocean_area_sliced * data_baseline_dic.DIC"
   ]
  },
  {
   "cell_type": "code",
   "execution_count": 14,
   "id": "519e3e91-1c14-4563-af65-800a6f458a5e",
   "metadata": {},
   "outputs": [],
   "source": [
    "regridded_dic_base = sliced_dic_baseline.sum(['x', 'y', 'z']) / ocean_area_sliced.sum(['x', 'y', 'z'])"
   ]
  },
  {
   "cell_type": "code",
   "execution_count": 15,
   "id": "313d7e4f-ecf0-4e7a-896c-98c432ff0e27",
   "metadata": {},
   "outputs": [],
   "source": [
    "# multiply DIC in kg by seawater density 1.025 kg/m3 - unit conversion to mmol/m3\n",
    "\n",
    "data_oae_dic = (data_oae_dic.DIC.isel(x=slice(520,595),y=slice(330,435),deptht=slice(0,7))) * 1.025"
   ]
  },
  {
   "cell_type": "code",
   "execution_count": 16,
   "id": "fc59d97f-4eda-403f-9fc6-02778ec7ffd7",
   "metadata": {},
   "outputs": [],
   "source": [
    "data_oae_dic = data_oae_dic.to_dataset(name='DIC')"
   ]
  },
  {
   "cell_type": "code",
   "execution_count": 17,
   "id": "fea92353-acc4-4062-9e2a-5a854f36d375",
   "metadata": {},
   "outputs": [],
   "source": [
    "sliced_dic_oae = ocean_area_sliced * data_oae_dic.DIC"
   ]
  },
  {
   "cell_type": "code",
   "execution_count": 18,
   "id": "b219a2ac-1b7a-4722-9d7c-0dbafa18a272",
   "metadata": {},
   "outputs": [],
   "source": [
    "regridded_dic_oae = sliced_dic_oae.sum(['x', 'y', 'z']) / ocean_area_sliced.sum(['x', 'y', 'z'])"
   ]
  },
  {
   "cell_type": "code",
   "execution_count": 19,
   "id": "9d7893ae-263b-4f05-8567-2eca58fb2077",
   "metadata": {},
   "outputs": [],
   "source": [
    "regridded_dic_base = regridded_dic_base.to_dataset(name='DIC')\n",
    "regridded_dic_oae = regridded_dic_oae.to_dataset(name='DIC')"
   ]
  },
  {
   "cell_type": "code",
   "execution_count": 20,
   "id": "9fa56a12-fc0d-4d14-94d6-4a8dcd254361",
   "metadata": {},
   "outputs": [],
   "source": [
    "regridded_dic_base.to_netcdf('/Users/chiaraciscato/Desktop/geomar/Cropped_DataTransfer/SSP1_2.6/DIC/DIC_baseline_2.6_weighted.nc')\n",
    "regridded_dic_oae.to_netcdf('/Users/chiaraciscato/Desktop/geomar/Cropped_DataTransfer/SSP1_2.6/DIC/DIC_oae_2.6_weighted.nc')"
   ]
  },
  {
   "cell_type": "code",
   "execution_count": null,
   "id": "7f196673-6962-40f5-8717-8d816cdef082",
   "metadata": {},
   "outputs": [],
   "source": [
    "ocean_area_sliced_dp = ocean_area_sliced.isel(x=slice(58,60),y=slice(41,43))"
   ]
  },
  {
   "cell_type": "code",
   "execution_count": null,
   "id": "66f209c5-7826-4909-813f-2f2cac0a13da",
   "metadata": {},
   "outputs": [],
   "source": [
    "data_baseline_alk_dp = data_baseline_alk.isel(x=slice(58,60),y=slice(41,43)) # mmol/m3"
   ]
  },
  {
   "cell_type": "code",
   "execution_count": null,
   "id": "87fd3ef8-c898-473f-900a-d688727443db",
   "metadata": {},
   "outputs": [],
   "source": [
    "sliced_alk_baseline_dp = ocean_area_sliced_dp * data_baseline_alk_dp.ALK"
   ]
  },
  {
   "cell_type": "code",
   "execution_count": null,
   "id": "0ab1a77b-5be2-4565-832b-36600c0018d0",
   "metadata": {},
   "outputs": [],
   "source": [
    "regridded_alk_base_dp = sliced_alk_baseline_dp.sum(['x', 'y', 'z']) / ocean_area_sliced_dp.sum(['x', 'y', 'z'])"
   ]
  },
  {
   "cell_type": "code",
   "execution_count": null,
   "id": "92c7823c-b04e-4c6b-aa02-d2e3818e04ee",
   "metadata": {},
   "outputs": [],
   "source": [
    "data_oae_alk_dp = data_oae_alk.isel(x=slice(58,60),y=slice(41,43)) # mmol/m3"
   ]
  },
  {
   "cell_type": "code",
   "execution_count": null,
   "id": "24db9fd7-26d9-4059-9453-ca0a4d05c9fb",
   "metadata": {},
   "outputs": [],
   "source": [
    "sliced_alk_oae_dp = ocean_area_sliced_dp * data_oae_alk_dp.ALK"
   ]
  },
  {
   "cell_type": "code",
   "execution_count": null,
   "id": "2fbe37f1-bfd3-4ef0-914e-6ecc2cc19eed",
   "metadata": {},
   "outputs": [],
   "source": [
    "regridded_alk_oae_dp = sliced_alk_oae_dp.sum(['x', 'y', 'z']) / ocean_area_sliced_dp.sum(['x', 'y', 'z'])"
   ]
  },
  {
   "cell_type": "code",
   "execution_count": null,
   "id": "77882d2e-98da-4612-8298-40e55e26ca81",
   "metadata": {},
   "outputs": [],
   "source": [
    "data_baseline_dic_dp = data_baseline_dic.isel(x=slice(58,60),y=slice(41,43)) # mmol/m3"
   ]
  },
  {
   "cell_type": "code",
   "execution_count": null,
   "id": "553f768a-2c6b-4482-89d7-6c14e9cf8b1e",
   "metadata": {},
   "outputs": [],
   "source": [
    "sliced_dic_baseline_dp = ocean_area_sliced_dp * data_baseline_dic_dp.DIC"
   ]
  },
  {
   "cell_type": "code",
   "execution_count": null,
   "id": "abc62f84-dcac-4755-9acb-61f94ec30698",
   "metadata": {},
   "outputs": [],
   "source": [
    "regridded_dic_base_dp = sliced_dic_baseline_dp.sum(['x', 'y', 'z']) / ocean_area_sliced_dp.sum(['x', 'y', 'z'])"
   ]
  },
  {
   "cell_type": "code",
   "execution_count": null,
   "id": "2b5174a6-e256-41d8-9ada-994941c6119f",
   "metadata": {},
   "outputs": [],
   "source": [
    "data_oae_dic_dp = data_oae_dic.isel(x=slice(58,60),y=slice(41,43)) # mmol/m3"
   ]
  },
  {
   "cell_type": "code",
   "execution_count": null,
   "id": "41d4766e-bed7-44cf-afe9-4cda7e615ec7",
   "metadata": {},
   "outputs": [],
   "source": [
    "sliced_dic_oae_dp = ocean_area_sliced_dp * data_oae_dic_dp.DIC"
   ]
  },
  {
   "cell_type": "code",
   "execution_count": null,
   "id": "ad06d487-9fbe-44f0-a20f-500cf3f18fb0",
   "metadata": {},
   "outputs": [],
   "source": [
    "regridded_dic_oae_dp = sliced_dic_oae_dp.sum(['x', 'y', 'z']) / ocean_area_sliced_dp.sum(['x', 'y', 'z'])"
   ]
  },
  {
   "cell_type": "code",
   "execution_count": null,
   "id": "3ccf1cc9-ff80-45f5-9377-dc37ed108ef7",
   "metadata": {},
   "outputs": [],
   "source": [
    "regridded_alk_base_dp = regridded_alk_base_dp.to_dataset(name='ALK')\n",
    "regridded_alk_oae_dp = regridded_alk_oae_dp.to_dataset(name='ALK')\n",
    "regridded_dic_base_dp = regridded_dic_base_dp.to_dataset(name='DIC')\n",
    "regridded_dic_oae_dp = regridded_dic_oae_dp.to_dataset(name='DIC')"
   ]
  },
  {
   "cell_type": "code",
   "execution_count": null,
   "id": "4151cafb-1750-4423-a72e-041da37893dd",
   "metadata": {},
   "outputs": [],
   "source": [
    "regridded_alk_base_dp.to_netcdf('/Users/chiaraciscato/Desktop/geomar/Cropped_DataTransfer/SSP1_2.6/Alkalinity/ALK_baseline_2.6_weighted_dp.nc')\n",
    "regridded_alk_oae_dp.to_netcdf('/Users/chiaraciscato/Desktop/geomar/Cropped_DataTransfer/SSP1_2.6/Alkalinity/ALK_oae_2.6_weighted_dp.nc')"
   ]
  },
  {
   "cell_type": "code",
   "execution_count": null,
   "id": "19917a5b-747b-4589-b341-0ef010d7cc3f",
   "metadata": {},
   "outputs": [],
   "source": [
    "regridded_dic_base_dp.to_netcdf('/Users/chiaraciscato/Desktop/geomar/Cropped_DataTransfer/SSP1_2.6/DIC/DIC_baseline_2.6_weighted_dp.nc')\n",
    "regridded_dic_oae_dp.to_netcdf('/Users/chiaraciscato/Desktop/geomar/Cropped_DataTransfer/SSP1_2.6/DIC/DIC_oae_2.6_weighted_dp.nc')"
   ]
  },
  {
   "cell_type": "code",
   "execution_count": null,
   "id": "d19e4998-b171-4309-85b4-01907fd46ab2",
   "metadata": {},
   "outputs": [],
   "source": [
    "# alkalinity weighed only over the z axis (depth)"
   ]
  },
  {
   "cell_type": "code",
   "execution_count": null,
   "id": "512f9199-d50f-4a76-b175-601f85e4190e",
   "metadata": {},
   "outputs": [],
   "source": [
    "layer_depth = xr.open_dataset('/Users/chiaraciscato/Desktop/geomar/Cropped_DataTransfer/SSP1_2.6/Alkalinity/layer_integration.nc', decode_times=True)"
   ]
  },
  {
   "cell_type": "code",
   "execution_count": null,
   "id": "e42a0a1c-6407-4759-ad20-37a68972b8a4",
   "metadata": {},
   "outputs": [],
   "source": [
    "layer_depth = layer_depth.where(layer_depth)"
   ]
  },
  {
   "cell_type": "code",
   "execution_count": null,
   "id": "e3847b02-eba8-4f84-9963-18259c767a11",
   "metadata": {},
   "outputs": [],
   "source": [
    "layer_depth = layer_depth.to_dataframe()"
   ]
  },
  {
   "cell_type": "code",
   "execution_count": null,
   "id": "9d94bd7b-a579-47db-8e2c-15ebe6d3921d",
   "metadata": {},
   "outputs": [],
   "source": [
    "layer_depth = layer_depth['ALK'].apply(lambda x: 1 if not pd.isnull(x) else np.nan)"
   ]
  },
  {
   "cell_type": "code",
   "execution_count": null,
   "id": "4d891c0a-5d87-4530-8acf-5f4101da3173",
   "metadata": {},
   "outputs": [],
   "source": [
    "layer_depth = layer_depth.to_xarray()"
   ]
  },
  {
   "cell_type": "code",
   "execution_count": null,
   "id": "f25f1e3f-866c-4e90-a7d9-31bd9170ba38",
   "metadata": {},
   "outputs": [],
   "source": [
    "layer_depth = layer_depth.sum('deptht')"
   ]
  },
  {
   "cell_type": "code",
   "execution_count": null,
   "id": "4754ba04-1b3a-4090-a8ab-1bcab3925c70",
   "metadata": {},
   "outputs": [],
   "source": [
    "layer_depth = layer_depth.where(layer_depth)"
   ]
  },
  {
   "cell_type": "code",
   "execution_count": null,
   "id": "b6292355-9665-4464-b029-0ebb328c006b",
   "metadata": {},
   "outputs": [],
   "source": [
    "layer_depth = layer_depth.to_dataset(name='ALK')"
   ]
  },
  {
   "cell_type": "code",
   "execution_count": null,
   "id": "807dc964-c8b6-484e-9f77-6743d6ee9c7d",
   "metadata": {},
   "outputs": [],
   "source": [
    "layer_depth = layer_depth.to_dataframe()"
   ]
  },
  {
   "cell_type": "code",
   "execution_count": null,
   "id": "ec635816-94fa-49b8-a254-5a5a93ca6c9f",
   "metadata": {},
   "outputs": [],
   "source": [
    "# condition\n",
    "\n",
    "max_depth = [\n",
    "    (layer_depth.ALK == 1),\n",
    "    (layer_depth.ALK == 2),\n",
    "    (layer_depth.ALK == 3),\n",
    "    (layer_depth.ALK == 4),\n",
    "    (layer_depth.ALK == 5),\n",
    "    (layer_depth.ALK == 6),\n",
    "    (layer_depth.ALK == 7)\n",
    "]\n",
    "\n",
    "values_depth = [3.046773, 9.454049, 16.363966, 23.89871, 32.20929, 41.481853, 51.94513]\n",
    "\n",
    "layer_depth['ALK'] = np.select(max_depth, values_depth)"
   ]
  },
  {
   "cell_type": "code",
   "execution_count": null,
   "id": "ab3e04d7-71d8-492a-8a31-2e7525a48764",
   "metadata": {},
   "outputs": [],
   "source": [
    "layer_depth = layer_depth.to_xarray()"
   ]
  },
  {
   "cell_type": "code",
   "execution_count": null,
   "id": "5a8d4137-c000-4b92-b1c4-4ca294d56d10",
   "metadata": {},
   "outputs": [],
   "source": [
    "layer_depth = layer_depth.where(layer_depth)"
   ]
  },
  {
   "cell_type": "code",
   "execution_count": null,
   "id": "83590a52-e4a8-4baf-b48a-ecb37db8cee7",
   "metadata": {},
   "outputs": [],
   "source": [
    "data_weighted_baseline = xr.open_dataset('/Users/chiaraciscato/Desktop/geomar/Cropped_DataTransfer/ALK_Baseline_2.6_cropped.nc',\n",
    "                                         decode_times=True).isel(deptht=slice(0, 7))"
   ]
  },
  {
   "cell_type": "code",
   "execution_count": null,
   "id": "7b8a7472-98f3-4126-9bd6-79c3b20a3772",
   "metadata": {},
   "outputs": [],
   "source": [
    "data_weighted_baseline = (data_weighted_baseline.ALK * 1.025).to_dataset(name='ALK')"
   ]
  },
  {
   "cell_type": "code",
   "execution_count": null,
   "id": "50fd1067-83e7-454b-9244-564f95b6552f",
   "metadata": {},
   "outputs": [],
   "source": [
    "weights_0 = data_weighted_baseline.ALK.isel(deptht=0) * data_weighted_baseline.deptht[0]\n",
    "weights_1 = data_weighted_baseline.ALK.isel(deptht=1) * (data_weighted_baseline.deptht[1] - data_weighted_baseline.deptht[0])\n",
    "weights_2 = data_weighted_baseline.ALK.isel(deptht=2) * (data_weighted_baseline.deptht[2] - data_weighted_baseline.deptht[1])\n",
    "weights_3 = data_weighted_baseline.ALK.isel(deptht=3) * (data_weighted_baseline.deptht[3] - data_weighted_baseline.deptht[2])\n",
    "weights_4 = data_weighted_baseline.ALK.isel(deptht=4) * (data_weighted_baseline.deptht[4] - data_weighted_baseline.deptht[3])\n",
    "weights_5 = data_weighted_baseline.ALK.isel(deptht=5) * (data_weighted_baseline.deptht[5] - data_weighted_baseline.deptht[4])\n",
    "weights_6 = data_weighted_baseline.ALK.isel(deptht=6) * (data_weighted_baseline.deptht[6] - data_weighted_baseline.deptht[5])"
   ]
  },
  {
   "cell_type": "code",
   "execution_count": null,
   "id": "c28b7f3d-7099-4bfe-92af-2a73fd8a588a",
   "metadata": {},
   "outputs": [],
   "source": [
    "weighted_base = (weights_0 + weights_1 + weights_2 + weights_3 + weights_4 + weights_5 + weights_6) / layer_depth"
   ]
  },
  {
   "cell_type": "code",
   "execution_count": null,
   "id": "62ac2cf6-9809-452f-9a03-dbf86f73c239",
   "metadata": {},
   "outputs": [],
   "source": [
    "data_weighted_oae = xr.open_dataset('/Users/chiaraciscato/Desktop/geomar/Cropped_DataTransfer/ALK_OAE_2.6_cropped.nc',\n",
    "                                    decode_times=True).isel(deptht=slice(0, 7))"
   ]
  },
  {
   "cell_type": "code",
   "execution_count": null,
   "id": "b538fb4d-6a58-4eb0-a009-4eabd5bd5fd0",
   "metadata": {},
   "outputs": [],
   "source": [
    "data_weighted_oae = (data_weighted_oae.ALK * 1.025).to_dataset(name='ALK')"
   ]
  },
  {
   "cell_type": "code",
   "execution_count": null,
   "id": "7c8abd21-a1cb-48fd-a912-42311ab9e3fa",
   "metadata": {},
   "outputs": [],
   "source": [
    "weights_0_oae = data_weighted_oae.ALK.isel(deptht=0) * data_weighted_oae.deptht[0]\n",
    "weights_1_oae = data_weighted_oae.ALK.isel(deptht=1) * (data_weighted_oae.deptht[1] - data_weighted_oae.deptht[0])\n",
    "weights_2_oae = data_weighted_oae.ALK.isel(deptht=2) * (data_weighted_oae.deptht[2] - data_weighted_oae.deptht[1])\n",
    "weights_3_oae = data_weighted_oae.ALK.isel(deptht=3) * (data_weighted_oae.deptht[3] - data_weighted_oae.deptht[2])\n",
    "weights_4_oae = data_weighted_oae.ALK.isel(deptht=4) * (data_weighted_oae.deptht[4] - data_weighted_oae.deptht[3])\n",
    "weights_5_oae = data_weighted_oae.ALK.isel(deptht=5) * (data_weighted_oae.deptht[5] - data_weighted_oae.deptht[4])\n",
    "weights_6_oae = data_weighted_oae.ALK.isel(deptht=6) * (data_weighted_oae.deptht[6] - data_weighted_oae.deptht[5])"
   ]
  },
  {
   "cell_type": "code",
   "execution_count": null,
   "id": "3f91594c-317c-48bd-9a76-1e2bffaaa668",
   "metadata": {},
   "outputs": [],
   "source": [
    "weighted_oae = (weights_0_oae + weights_1_oae + weights_2_oae + weights_3_oae + weights_4_oae + weights_5_oae + weights_6_oae) / layer_depth"
   ]
  },
  {
   "cell_type": "code",
   "execution_count": null,
   "id": "74d11bea-114d-4cbd-a9eb-c866311eba30",
   "metadata": {},
   "outputs": [],
   "source": [
    "weighted_base.to_netcdf('/Users/chiaraciscato/Desktop/geomar/Cropped_DataTransfer/SSP1_2.6/ALK_amplitude_base.nc')\n",
    "weighted_oae.to_netcdf('/Users/chiaraciscato/Desktop/geomar/Cropped_DataTransfer/SSP1_2.6/ALK_amplitude_oae.nc')"
   ]
  },
  {
   "cell_type": "code",
   "execution_count": null,
   "id": "6373c21b-77da-4f3c-b666-8070c5a30cbc",
   "metadata": {},
   "outputs": [],
   "source": [
    "# DIC weighted only over the z axis (depth)"
   ]
  },
  {
   "cell_type": "code",
   "execution_count": 3,
   "id": "21b81fc0-34fd-450e-892b-d2163c737045",
   "metadata": {},
   "outputs": [],
   "source": [
    "layer_depth = xr.open_dataset('/Users/chiaraciscato/Desktop/geomar/Cropped_DataTransfer/SSP1_2.6/DIC/layer_integration.nc', decode_times=True)"
   ]
  },
  {
   "cell_type": "code",
   "execution_count": 4,
   "id": "7de9a921-1160-4a25-b25b-d61755048873",
   "metadata": {},
   "outputs": [],
   "source": [
    "layer_depth = layer_depth.where(layer_depth)"
   ]
  },
  {
   "cell_type": "code",
   "execution_count": 5,
   "id": "bfd6f4dc-cac9-45b6-8fb8-040ad51120fe",
   "metadata": {},
   "outputs": [],
   "source": [
    "layer_depth = layer_depth.to_dataframe()"
   ]
  },
  {
   "cell_type": "code",
   "execution_count": 6,
   "id": "2b801a0d-a26f-47b6-a2df-48179fbd8f26",
   "metadata": {},
   "outputs": [],
   "source": [
    "layer_depth = layer_depth['DIC'].apply(lambda x: 1 if not pd.isnull(x) else np.nan)"
   ]
  },
  {
   "cell_type": "code",
   "execution_count": 7,
   "id": "300ff8f7-76b1-4305-8367-ccdacf5247c2",
   "metadata": {},
   "outputs": [],
   "source": [
    "layer_depth = layer_depth.to_xarray()"
   ]
  },
  {
   "cell_type": "code",
   "execution_count": 8,
   "id": "4b3e1311-bfe3-47ab-9d7e-424d554c2747",
   "metadata": {},
   "outputs": [],
   "source": [
    "layer_depth = layer_depth.sum('deptht')"
   ]
  },
  {
   "cell_type": "code",
   "execution_count": 9,
   "id": "f4c13b6f-aba8-4131-ada0-49de0e418df5",
   "metadata": {},
   "outputs": [],
   "source": [
    "layer_depth = layer_depth.where(layer_depth)"
   ]
  },
  {
   "cell_type": "code",
   "execution_count": 10,
   "id": "f38dc49f-e06e-4e9b-824d-36a9af2ac7db",
   "metadata": {},
   "outputs": [],
   "source": [
    "layer_depth = layer_depth.to_dataset(name='DIC')"
   ]
  },
  {
   "cell_type": "code",
   "execution_count": 11,
   "id": "23e81e5e-68da-4dc7-b9d0-116757985d4d",
   "metadata": {},
   "outputs": [],
   "source": [
    "layer_depth = layer_depth.to_dataframe()"
   ]
  },
  {
   "cell_type": "code",
   "execution_count": 12,
   "id": "909e4e6b-8fc5-4d0d-8916-39d7cc4a9cc1",
   "metadata": {},
   "outputs": [],
   "source": [
    "# condition\n",
    "\n",
    "max_depth = [\n",
    "    (layer_depth.DIC == 1),\n",
    "    (layer_depth.DIC == 2),\n",
    "    (layer_depth.DIC == 3),\n",
    "    (layer_depth.DIC == 4),\n",
    "    (layer_depth.DIC == 5),\n",
    "    (layer_depth.DIC == 6),\n",
    "    (layer_depth.DIC == 7)\n",
    "]\n",
    "\n",
    "values_depth = [3.046773, 9.454049, 16.363966, 23.89871, 32.20929, 41.481853, 51.94513]\n",
    "\n",
    "layer_depth['DIC'] = np.select(max_depth, values_depth)"
   ]
  },
  {
   "cell_type": "code",
   "execution_count": 13,
   "id": "e12ca69f-fcff-452f-a90f-93fdec76c670",
   "metadata": {},
   "outputs": [],
   "source": [
    "layer_depth = layer_depth.to_xarray()"
   ]
  },
  {
   "cell_type": "code",
   "execution_count": 14,
   "id": "3e5437ee-8ac6-4460-a3cc-ac5454228d8f",
   "metadata": {},
   "outputs": [],
   "source": [
    "layer_depth = layer_depth.where(layer_depth)"
   ]
  },
  {
   "cell_type": "code",
   "execution_count": 16,
   "id": "cc695239-6308-49ce-801a-ee11968167b4",
   "metadata": {},
   "outputs": [],
   "source": [
    "data_weighted_baseline = xr.open_dataset('/Users/chiaraciscato/Desktop/geomar/Cropped_DataTransfer/SSP1_2.6/DIC/DIC_Baseline_2.6_cropped.nc', decode_times=True)"
   ]
  },
  {
   "cell_type": "code",
   "execution_count": 17,
   "id": "dcd1f9b8-88f1-4522-95dd-5b8be27ffddd",
   "metadata": {},
   "outputs": [],
   "source": [
    "data_weighted_baseline = (data_weighted_baseline.DIC * 1.025).to_dataset(name='DIC')"
   ]
  },
  {
   "cell_type": "code",
   "execution_count": 18,
   "id": "efb44ab1-99c2-44ed-9f8a-375074b052fd",
   "metadata": {},
   "outputs": [],
   "source": [
    "weights_0 = data_weighted_baseline.DIC.isel(deptht=0) * data_weighted_baseline.deptht[0]\n",
    "weights_1 = data_weighted_baseline.DIC.isel(deptht=1) * (data_weighted_baseline.deptht[1] - data_weighted_baseline.deptht[0])\n",
    "weights_2 = data_weighted_baseline.DIC.isel(deptht=2) * (data_weighted_baseline.deptht[2] - data_weighted_baseline.deptht[1])\n",
    "weights_3 = data_weighted_baseline.DIC.isel(deptht=3) * (data_weighted_baseline.deptht[3] - data_weighted_baseline.deptht[2])\n",
    "weights_4 = data_weighted_baseline.DIC.isel(deptht=4) * (data_weighted_baseline.deptht[4] - data_weighted_baseline.deptht[3])\n",
    "weights_5 = data_weighted_baseline.DIC.isel(deptht=5) * (data_weighted_baseline.deptht[5] - data_weighted_baseline.deptht[4])\n",
    "weights_6 = data_weighted_baseline.DIC.isel(deptht=6) * (data_weighted_baseline.deptht[6] - data_weighted_baseline.deptht[5])"
   ]
  },
  {
   "cell_type": "code",
   "execution_count": 19,
   "id": "d4903709-a027-491f-9229-a018282bfdbd",
   "metadata": {},
   "outputs": [],
   "source": [
    "weighted_base = (weights_0 + weights_1 + weights_2 + weights_3 + weights_4 + weights_5 + weights_6) / layer_depth"
   ]
  },
  {
   "cell_type": "code",
   "execution_count": 20,
   "id": "992f8bf7-d96b-4b74-868a-21e888591673",
   "metadata": {},
   "outputs": [],
   "source": [
    "weighted_base = weighted_base.where(weighted_base)"
   ]
  },
  {
   "cell_type": "code",
   "execution_count": 21,
   "id": "ce003bd2-51dc-4f18-8f9f-e5c531bfe6f2",
   "metadata": {},
   "outputs": [],
   "source": [
    "data_weighted_oae = xr.open_dataset('/Users/chiaraciscato/Desktop/geomar/Cropped_DataTransfer/SSP1_2.6/DIC/DIC_OAE_2.6_cropped.nc', decode_times=True)"
   ]
  },
  {
   "cell_type": "code",
   "execution_count": 22,
   "id": "507e6d64-fc93-419e-8932-ceb0849c511c",
   "metadata": {},
   "outputs": [],
   "source": [
    "data_weighted_oae = (data_weighted_oae.DIC * 1.025).to_dataset(name='DIC')"
   ]
  },
  {
   "cell_type": "code",
   "execution_count": 23,
   "id": "e8240c11-8f1b-48ac-a522-4e0e00543af0",
   "metadata": {},
   "outputs": [],
   "source": [
    "weights_0_oae = data_weighted_oae.DIC.isel(deptht=0) * data_weighted_oae.deptht[0]\n",
    "weights_1_oae = data_weighted_oae.DIC.isel(deptht=1) * (data_weighted_oae.deptht[1] - data_weighted_oae.deptht[0])\n",
    "weights_2_oae = data_weighted_oae.DIC.isel(deptht=2) * (data_weighted_oae.deptht[2] - data_weighted_oae.deptht[1])\n",
    "weights_3_oae = data_weighted_oae.DIC.isel(deptht=3) * (data_weighted_oae.deptht[3] - data_weighted_oae.deptht[2])\n",
    "weights_4_oae = data_weighted_oae.DIC.isel(deptht=4) * (data_weighted_oae.deptht[4] - data_weighted_oae.deptht[3])\n",
    "weights_5_oae = data_weighted_oae.DIC.isel(deptht=5) * (data_weighted_oae.deptht[5] - data_weighted_oae.deptht[4])\n",
    "weights_6_oae = data_weighted_oae.DIC.isel(deptht=6) * (data_weighted_oae.deptht[6] - data_weighted_oae.deptht[5])"
   ]
  },
  {
   "cell_type": "code",
   "execution_count": 24,
   "id": "db9aad79-77d2-45f7-a8f4-786698242061",
   "metadata": {},
   "outputs": [],
   "source": [
    "weighted_oae = (weights_0_oae + weights_1_oae + weights_2_oae + weights_3_oae + weights_4_oae + weights_5_oae + weights_6_oae) / layer_depth"
   ]
  },
  {
   "cell_type": "code",
   "execution_count": 25,
   "id": "99fdd0b7-afe7-4125-bb6e-670a8bbe7021",
   "metadata": {},
   "outputs": [],
   "source": [
    "weighted_oae = weighted_oae.where(weighted_oae)"
   ]
  },
  {
   "cell_type": "code",
   "execution_count": 26,
   "id": "2b174b41-9697-40a3-9dd7-b3f9ec760950",
   "metadata": {},
   "outputs": [],
   "source": [
    "weighted_base.to_netcdf('/Users/chiaraciscato/Desktop/geomar/Cropped_DataTransfer/SSP1_2.6/DIC/DIC_amplitude_base.nc')\n",
    "weighted_oae.to_netcdf('/Users/chiaraciscato/Desktop/geomar/Cropped_DataTransfer/SSP1_2.6/DIC/DIC_amplitude_oae.nc')"
   ]
  },
  {
   "cell_type": "code",
   "execution_count": null,
   "id": "2db0787e-f58c-44fc-9e70-0ec656a360e3",
   "metadata": {},
   "outputs": [],
   "source": []
  }
 ],
 "metadata": {
  "kernelspec": {
   "display_name": "geomar",
   "language": "python",
   "name": "geomar"
  },
  "language_info": {
   "codemirror_mode": {
    "name": "ipython",
    "version": 3
   },
   "file_extension": ".py",
   "mimetype": "text/x-python",
   "name": "python",
   "nbconvert_exporter": "python",
   "pygments_lexer": "ipython3",
   "version": "3.7.12"
  }
 },
 "nbformat": 4,
 "nbformat_minor": 5
}
