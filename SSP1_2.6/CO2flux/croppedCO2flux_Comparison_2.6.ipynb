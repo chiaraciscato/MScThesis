{
 "cells": [
  {
   "cell_type": "raw",
   "id": "bf0490c0-3d0b-4eab-958c-b8c05d962f63",
   "metadata": {},
   "source": [
    "---\n",
    "title: \"cropped_CO2flux_Comparison_2.6\"\n",
    "author: \"cciscato\"\n",
    "date: \"15/02/2023\"\n",
    "format: \n",
    "  html:\n",
    "    embed-resources: true\n",
    "    theme:\n",
    "              light: flatly\n",
    "              dark: darkly\n",
    "    toc: true\n",
    "    code-fold: true\n",
    "execute:\n",
    "  warning: false\n",
    "jupyter: python3\n",
    "---"
   ]
  },
  {
   "cell_type": "code",
   "execution_count": 1,
   "id": "cf596712-2a14-4ae0-b394-ad0b313053b2",
   "metadata": {},
   "outputs": [],
   "source": [
    "import netCDF4 as nc\n",
    "from netCDF4 import Dataset\n",
    "import matplotlib as mpl\n",
    "import matplotlib.pyplot as plt\n",
    "import matplotlib.patches as mpatches\n",
    "import xarray as xr\n",
    "import numpy as np\n",
    "import pandas as pd\n",
    "import calendar\n",
    "import seaborn as sns\n",
    "import seaborn_image as isns"
   ]
  },
  {
   "cell_type": "code",
   "execution_count": 2,
   "id": "1be9d20d-fe04-4b73-9f27-55b6bc8fce71",
   "metadata": {},
   "outputs": [],
   "source": [
    "plt.style.use('seaborn-pastel')\n",
    "isns.set_context(mode=\"notebook\", fontfamily=\"Helvetica\")\n",
    "sns.set_context(font_scale=0.8)"
   ]
  },
  {
   "cell_type": "code",
   "execution_count": 3,
   "id": "52871f7e-6f5e-4024-a91b-be439bff12c7",
   "metadata": {},
   "outputs": [
    {
     "name": "stderr",
     "output_type": "stream",
     "text": [
      "/opt/anaconda3/envs/GEOMAR/lib/python3.7/site-packages/pyproj/__init__.py:89: UserWarning: pyproj unable to set database path.\n",
      "  _pyproj_global_context_initialize()\n"
     ]
    },
    {
     "ename": "FileNotFoundError",
     "evalue": "[Errno 2] No such file or directory: b'/Users/chiaraciscato/Desktop/geomar/Cropped_DataTransfer/SSP1_2.6/CO2flux_Baseline_2.6_cropped.nc'",
     "output_type": "error",
     "traceback": [
      "\u001b[0;31m---------------------------------------------------------------------------\u001b[0m",
      "\u001b[0;31mKeyError\u001b[0m                                  Traceback (most recent call last)",
      "\u001b[0;32m/opt/anaconda3/envs/GEOMAR/lib/python3.7/site-packages/xarray/backends/file_manager.py\u001b[0m in \u001b[0;36m_acquire_with_cache_info\u001b[0;34m(self, needs_lock)\u001b[0m\n\u001b[1;32m    198\u001b[0m             \u001b[0;32mtry\u001b[0m\u001b[0;34m:\u001b[0m\u001b[0;34m\u001b[0m\u001b[0;34m\u001b[0m\u001b[0m\n\u001b[0;32m--> 199\u001b[0;31m                 \u001b[0mfile\u001b[0m \u001b[0;34m=\u001b[0m \u001b[0mself\u001b[0m\u001b[0;34m.\u001b[0m\u001b[0m_cache\u001b[0m\u001b[0;34m[\u001b[0m\u001b[0mself\u001b[0m\u001b[0;34m.\u001b[0m\u001b[0m_key\u001b[0m\u001b[0;34m]\u001b[0m\u001b[0;34m\u001b[0m\u001b[0;34m\u001b[0m\u001b[0m\n\u001b[0m\u001b[1;32m    200\u001b[0m             \u001b[0;32mexcept\u001b[0m \u001b[0mKeyError\u001b[0m\u001b[0;34m:\u001b[0m\u001b[0;34m\u001b[0m\u001b[0;34m\u001b[0m\u001b[0m\n",
      "\u001b[0;32m/opt/anaconda3/envs/GEOMAR/lib/python3.7/site-packages/xarray/backends/lru_cache.py\u001b[0m in \u001b[0;36m__getitem__\u001b[0;34m(self, key)\u001b[0m\n\u001b[1;32m     52\u001b[0m         \u001b[0;32mwith\u001b[0m \u001b[0mself\u001b[0m\u001b[0;34m.\u001b[0m\u001b[0m_lock\u001b[0m\u001b[0;34m:\u001b[0m\u001b[0;34m\u001b[0m\u001b[0;34m\u001b[0m\u001b[0m\n\u001b[0;32m---> 53\u001b[0;31m             \u001b[0mvalue\u001b[0m \u001b[0;34m=\u001b[0m \u001b[0mself\u001b[0m\u001b[0;34m.\u001b[0m\u001b[0m_cache\u001b[0m\u001b[0;34m[\u001b[0m\u001b[0mkey\u001b[0m\u001b[0;34m]\u001b[0m\u001b[0;34m\u001b[0m\u001b[0;34m\u001b[0m\u001b[0m\n\u001b[0m\u001b[1;32m     54\u001b[0m             \u001b[0mself\u001b[0m\u001b[0;34m.\u001b[0m\u001b[0m_cache\u001b[0m\u001b[0;34m.\u001b[0m\u001b[0mmove_to_end\u001b[0m\u001b[0;34m(\u001b[0m\u001b[0mkey\u001b[0m\u001b[0;34m)\u001b[0m\u001b[0;34m\u001b[0m\u001b[0;34m\u001b[0m\u001b[0m\n",
      "\u001b[0;31mKeyError\u001b[0m: [<class 'netCDF4._netCDF4.Dataset'>, ('/Users/chiaraciscato/Desktop/geomar/Cropped_DataTransfer/SSP1_2.6/CO2flux_Baseline_2.6_cropped.nc',), 'r', (('clobber', True), ('diskless', False), ('format', 'NETCDF4'), ('persist', False))]",
      "\nDuring handling of the above exception, another exception occurred:\n",
      "\u001b[0;31mFileNotFoundError\u001b[0m                         Traceback (most recent call last)",
      "\u001b[0;32m/var/folders/hq/35w1hmb96js9vgqq4730r3780000gn/T/ipykernel_72720/3930112463.py\u001b[0m in \u001b[0;36m<module>\u001b[0;34m\u001b[0m\n\u001b[1;32m      1\u001b[0m \u001b[0mdataset\u001b[0m \u001b[0;34m=\u001b[0m \u001b[0;34m(\u001b[0m\u001b[0;34mr'/Users/chiaraciscato/Desktop/geomar/Cropped_DataTransfer/SSP1_2.6/CO2flux_Baseline_2.6_cropped.nc'\u001b[0m\u001b[0;34m)\u001b[0m\u001b[0;34m\u001b[0m\u001b[0;34m\u001b[0m\u001b[0m\n\u001b[0;32m----> 2\u001b[0;31m \u001b[0mdata_baseline\u001b[0m \u001b[0;34m=\u001b[0m \u001b[0mxr\u001b[0m\u001b[0;34m.\u001b[0m\u001b[0mopen_dataset\u001b[0m\u001b[0;34m(\u001b[0m\u001b[0mdataset\u001b[0m\u001b[0;34m)\u001b[0m\u001b[0;34m\u001b[0m\u001b[0;34m\u001b[0m\u001b[0m\n\u001b[0m",
      "\u001b[0;32m/opt/anaconda3/envs/GEOMAR/lib/python3.7/site-packages/xarray/backends/api.py\u001b[0m in \u001b[0;36mopen_dataset\u001b[0;34m(filename_or_obj, engine, chunks, cache, decode_cf, mask_and_scale, decode_times, decode_timedelta, use_cftime, concat_characters, decode_coords, drop_variables, backend_kwargs, *args, **kwargs)\u001b[0m\n\u001b[1;32m    497\u001b[0m         \u001b[0mdrop_variables\u001b[0m\u001b[0;34m=\u001b[0m\u001b[0mdrop_variables\u001b[0m\u001b[0;34m,\u001b[0m\u001b[0;34m\u001b[0m\u001b[0;34m\u001b[0m\u001b[0m\n\u001b[1;32m    498\u001b[0m         \u001b[0;34m**\u001b[0m\u001b[0mdecoders\u001b[0m\u001b[0;34m,\u001b[0m\u001b[0;34m\u001b[0m\u001b[0;34m\u001b[0m\u001b[0m\n\u001b[0;32m--> 499\u001b[0;31m         \u001b[0;34m**\u001b[0m\u001b[0mkwargs\u001b[0m\u001b[0;34m,\u001b[0m\u001b[0;34m\u001b[0m\u001b[0;34m\u001b[0m\u001b[0m\n\u001b[0m\u001b[1;32m    500\u001b[0m     )\n\u001b[1;32m    501\u001b[0m     ds = _dataset_from_backend_dataset(\n",
      "\u001b[0;32m/opt/anaconda3/envs/GEOMAR/lib/python3.7/site-packages/xarray/backends/netCDF4_.py\u001b[0m in \u001b[0;36mopen_dataset\u001b[0;34m(self, filename_or_obj, mask_and_scale, decode_times, concat_characters, decode_coords, drop_variables, use_cftime, decode_timedelta, group, mode, format, clobber, diskless, persist, lock, autoclose)\u001b[0m\n\u001b[1;32m    557\u001b[0m             \u001b[0mpersist\u001b[0m\u001b[0;34m=\u001b[0m\u001b[0mpersist\u001b[0m\u001b[0;34m,\u001b[0m\u001b[0;34m\u001b[0m\u001b[0;34m\u001b[0m\u001b[0m\n\u001b[1;32m    558\u001b[0m             \u001b[0mlock\u001b[0m\u001b[0;34m=\u001b[0m\u001b[0mlock\u001b[0m\u001b[0;34m,\u001b[0m\u001b[0;34m\u001b[0m\u001b[0;34m\u001b[0m\u001b[0m\n\u001b[0;32m--> 559\u001b[0;31m             \u001b[0mautoclose\u001b[0m\u001b[0;34m=\u001b[0m\u001b[0mautoclose\u001b[0m\u001b[0;34m,\u001b[0m\u001b[0;34m\u001b[0m\u001b[0;34m\u001b[0m\u001b[0m\n\u001b[0m\u001b[1;32m    560\u001b[0m         )\n\u001b[1;32m    561\u001b[0m \u001b[0;34m\u001b[0m\u001b[0m\n",
      "\u001b[0;32m/opt/anaconda3/envs/GEOMAR/lib/python3.7/site-packages/xarray/backends/netCDF4_.py\u001b[0m in \u001b[0;36mopen\u001b[0;34m(cls, filename, mode, format, group, clobber, diskless, persist, lock, lock_maker, autoclose)\u001b[0m\n\u001b[1;32m    377\u001b[0m             \u001b[0mnetCDF4\u001b[0m\u001b[0;34m.\u001b[0m\u001b[0mDataset\u001b[0m\u001b[0;34m,\u001b[0m \u001b[0mfilename\u001b[0m\u001b[0;34m,\u001b[0m \u001b[0mmode\u001b[0m\u001b[0;34m=\u001b[0m\u001b[0mmode\u001b[0m\u001b[0;34m,\u001b[0m \u001b[0mkwargs\u001b[0m\u001b[0;34m=\u001b[0m\u001b[0mkwargs\u001b[0m\u001b[0;34m\u001b[0m\u001b[0;34m\u001b[0m\u001b[0m\n\u001b[1;32m    378\u001b[0m         )\n\u001b[0;32m--> 379\u001b[0;31m         \u001b[0;32mreturn\u001b[0m \u001b[0mcls\u001b[0m\u001b[0;34m(\u001b[0m\u001b[0mmanager\u001b[0m\u001b[0;34m,\u001b[0m \u001b[0mgroup\u001b[0m\u001b[0;34m=\u001b[0m\u001b[0mgroup\u001b[0m\u001b[0;34m,\u001b[0m \u001b[0mmode\u001b[0m\u001b[0;34m=\u001b[0m\u001b[0mmode\u001b[0m\u001b[0;34m,\u001b[0m \u001b[0mlock\u001b[0m\u001b[0;34m=\u001b[0m\u001b[0mlock\u001b[0m\u001b[0;34m,\u001b[0m \u001b[0mautoclose\u001b[0m\u001b[0;34m=\u001b[0m\u001b[0mautoclose\u001b[0m\u001b[0;34m)\u001b[0m\u001b[0;34m\u001b[0m\u001b[0;34m\u001b[0m\u001b[0m\n\u001b[0m\u001b[1;32m    380\u001b[0m \u001b[0;34m\u001b[0m\u001b[0m\n\u001b[1;32m    381\u001b[0m     \u001b[0;32mdef\u001b[0m \u001b[0m_acquire\u001b[0m\u001b[0;34m(\u001b[0m\u001b[0mself\u001b[0m\u001b[0;34m,\u001b[0m \u001b[0mneeds_lock\u001b[0m\u001b[0;34m=\u001b[0m\u001b[0;32mTrue\u001b[0m\u001b[0;34m)\u001b[0m\u001b[0;34m:\u001b[0m\u001b[0;34m\u001b[0m\u001b[0;34m\u001b[0m\u001b[0m\n",
      "\u001b[0;32m/opt/anaconda3/envs/GEOMAR/lib/python3.7/site-packages/xarray/backends/netCDF4_.py\u001b[0m in \u001b[0;36m__init__\u001b[0;34m(self, manager, group, mode, lock, autoclose)\u001b[0m\n\u001b[1;32m    325\u001b[0m         \u001b[0mself\u001b[0m\u001b[0;34m.\u001b[0m\u001b[0m_group\u001b[0m \u001b[0;34m=\u001b[0m \u001b[0mgroup\u001b[0m\u001b[0;34m\u001b[0m\u001b[0;34m\u001b[0m\u001b[0m\n\u001b[1;32m    326\u001b[0m         \u001b[0mself\u001b[0m\u001b[0;34m.\u001b[0m\u001b[0m_mode\u001b[0m \u001b[0;34m=\u001b[0m \u001b[0mmode\u001b[0m\u001b[0;34m\u001b[0m\u001b[0;34m\u001b[0m\u001b[0m\n\u001b[0;32m--> 327\u001b[0;31m         \u001b[0mself\u001b[0m\u001b[0;34m.\u001b[0m\u001b[0mformat\u001b[0m \u001b[0;34m=\u001b[0m \u001b[0mself\u001b[0m\u001b[0;34m.\u001b[0m\u001b[0mds\u001b[0m\u001b[0;34m.\u001b[0m\u001b[0mdata_model\u001b[0m\u001b[0;34m\u001b[0m\u001b[0;34m\u001b[0m\u001b[0m\n\u001b[0m\u001b[1;32m    328\u001b[0m         \u001b[0mself\u001b[0m\u001b[0;34m.\u001b[0m\u001b[0m_filename\u001b[0m \u001b[0;34m=\u001b[0m \u001b[0mself\u001b[0m\u001b[0;34m.\u001b[0m\u001b[0mds\u001b[0m\u001b[0;34m.\u001b[0m\u001b[0mfilepath\u001b[0m\u001b[0;34m(\u001b[0m\u001b[0;34m)\u001b[0m\u001b[0;34m\u001b[0m\u001b[0;34m\u001b[0m\u001b[0m\n\u001b[1;32m    329\u001b[0m         \u001b[0mself\u001b[0m\u001b[0;34m.\u001b[0m\u001b[0mis_remote\u001b[0m \u001b[0;34m=\u001b[0m \u001b[0mis_remote_uri\u001b[0m\u001b[0;34m(\u001b[0m\u001b[0mself\u001b[0m\u001b[0;34m.\u001b[0m\u001b[0m_filename\u001b[0m\u001b[0;34m)\u001b[0m\u001b[0;34m\u001b[0m\u001b[0;34m\u001b[0m\u001b[0m\n",
      "\u001b[0;32m/opt/anaconda3/envs/GEOMAR/lib/python3.7/site-packages/xarray/backends/netCDF4_.py\u001b[0m in \u001b[0;36mds\u001b[0;34m(self)\u001b[0m\n\u001b[1;32m    386\u001b[0m     \u001b[0;34m@\u001b[0m\u001b[0mproperty\u001b[0m\u001b[0;34m\u001b[0m\u001b[0;34m\u001b[0m\u001b[0m\n\u001b[1;32m    387\u001b[0m     \u001b[0;32mdef\u001b[0m \u001b[0mds\u001b[0m\u001b[0;34m(\u001b[0m\u001b[0mself\u001b[0m\u001b[0;34m)\u001b[0m\u001b[0;34m:\u001b[0m\u001b[0;34m\u001b[0m\u001b[0;34m\u001b[0m\u001b[0m\n\u001b[0;32m--> 388\u001b[0;31m         \u001b[0;32mreturn\u001b[0m \u001b[0mself\u001b[0m\u001b[0;34m.\u001b[0m\u001b[0m_acquire\u001b[0m\u001b[0;34m(\u001b[0m\u001b[0;34m)\u001b[0m\u001b[0;34m\u001b[0m\u001b[0;34m\u001b[0m\u001b[0m\n\u001b[0m\u001b[1;32m    389\u001b[0m \u001b[0;34m\u001b[0m\u001b[0m\n\u001b[1;32m    390\u001b[0m     \u001b[0;32mdef\u001b[0m \u001b[0mopen_store_variable\u001b[0m\u001b[0;34m(\u001b[0m\u001b[0mself\u001b[0m\u001b[0;34m,\u001b[0m \u001b[0mname\u001b[0m\u001b[0;34m,\u001b[0m \u001b[0mvar\u001b[0m\u001b[0;34m)\u001b[0m\u001b[0;34m:\u001b[0m\u001b[0;34m\u001b[0m\u001b[0;34m\u001b[0m\u001b[0m\n",
      "\u001b[0;32m/opt/anaconda3/envs/GEOMAR/lib/python3.7/site-packages/xarray/backends/netCDF4_.py\u001b[0m in \u001b[0;36m_acquire\u001b[0;34m(self, needs_lock)\u001b[0m\n\u001b[1;32m    380\u001b[0m \u001b[0;34m\u001b[0m\u001b[0m\n\u001b[1;32m    381\u001b[0m     \u001b[0;32mdef\u001b[0m \u001b[0m_acquire\u001b[0m\u001b[0;34m(\u001b[0m\u001b[0mself\u001b[0m\u001b[0;34m,\u001b[0m \u001b[0mneeds_lock\u001b[0m\u001b[0;34m=\u001b[0m\u001b[0;32mTrue\u001b[0m\u001b[0;34m)\u001b[0m\u001b[0;34m:\u001b[0m\u001b[0;34m\u001b[0m\u001b[0;34m\u001b[0m\u001b[0m\n\u001b[0;32m--> 382\u001b[0;31m         \u001b[0;32mwith\u001b[0m \u001b[0mself\u001b[0m\u001b[0;34m.\u001b[0m\u001b[0m_manager\u001b[0m\u001b[0;34m.\u001b[0m\u001b[0macquire_context\u001b[0m\u001b[0;34m(\u001b[0m\u001b[0mneeds_lock\u001b[0m\u001b[0;34m)\u001b[0m \u001b[0;32mas\u001b[0m \u001b[0mroot\u001b[0m\u001b[0;34m:\u001b[0m\u001b[0;34m\u001b[0m\u001b[0;34m\u001b[0m\u001b[0m\n\u001b[0m\u001b[1;32m    383\u001b[0m             \u001b[0mds\u001b[0m \u001b[0;34m=\u001b[0m \u001b[0m_nc4_require_group\u001b[0m\u001b[0;34m(\u001b[0m\u001b[0mroot\u001b[0m\u001b[0;34m,\u001b[0m \u001b[0mself\u001b[0m\u001b[0;34m.\u001b[0m\u001b[0m_group\u001b[0m\u001b[0;34m,\u001b[0m \u001b[0mself\u001b[0m\u001b[0;34m.\u001b[0m\u001b[0m_mode\u001b[0m\u001b[0;34m)\u001b[0m\u001b[0;34m\u001b[0m\u001b[0;34m\u001b[0m\u001b[0m\n\u001b[1;32m    384\u001b[0m         \u001b[0;32mreturn\u001b[0m \u001b[0mds\u001b[0m\u001b[0;34m\u001b[0m\u001b[0;34m\u001b[0m\u001b[0m\n",
      "\u001b[0;32m/opt/anaconda3/envs/GEOMAR/lib/python3.7/contextlib.py\u001b[0m in \u001b[0;36m__enter__\u001b[0;34m(self)\u001b[0m\n\u001b[1;32m    110\u001b[0m         \u001b[0;32mdel\u001b[0m \u001b[0mself\u001b[0m\u001b[0;34m.\u001b[0m\u001b[0margs\u001b[0m\u001b[0;34m,\u001b[0m \u001b[0mself\u001b[0m\u001b[0;34m.\u001b[0m\u001b[0mkwds\u001b[0m\u001b[0;34m,\u001b[0m \u001b[0mself\u001b[0m\u001b[0;34m.\u001b[0m\u001b[0mfunc\u001b[0m\u001b[0;34m\u001b[0m\u001b[0;34m\u001b[0m\u001b[0m\n\u001b[1;32m    111\u001b[0m         \u001b[0;32mtry\u001b[0m\u001b[0;34m:\u001b[0m\u001b[0;34m\u001b[0m\u001b[0;34m\u001b[0m\u001b[0m\n\u001b[0;32m--> 112\u001b[0;31m             \u001b[0;32mreturn\u001b[0m \u001b[0mnext\u001b[0m\u001b[0;34m(\u001b[0m\u001b[0mself\u001b[0m\u001b[0;34m.\u001b[0m\u001b[0mgen\u001b[0m\u001b[0;34m)\u001b[0m\u001b[0;34m\u001b[0m\u001b[0;34m\u001b[0m\u001b[0m\n\u001b[0m\u001b[1;32m    113\u001b[0m         \u001b[0;32mexcept\u001b[0m \u001b[0mStopIteration\u001b[0m\u001b[0;34m:\u001b[0m\u001b[0;34m\u001b[0m\u001b[0;34m\u001b[0m\u001b[0m\n\u001b[1;32m    114\u001b[0m             \u001b[0;32mraise\u001b[0m \u001b[0mRuntimeError\u001b[0m\u001b[0;34m(\u001b[0m\u001b[0;34m\"generator didn't yield\"\u001b[0m\u001b[0;34m)\u001b[0m \u001b[0;32mfrom\u001b[0m \u001b[0;32mNone\u001b[0m\u001b[0;34m\u001b[0m\u001b[0;34m\u001b[0m\u001b[0m\n",
      "\u001b[0;32m/opt/anaconda3/envs/GEOMAR/lib/python3.7/site-packages/xarray/backends/file_manager.py\u001b[0m in \u001b[0;36macquire_context\u001b[0;34m(self, needs_lock)\u001b[0m\n\u001b[1;32m    185\u001b[0m     \u001b[0;32mdef\u001b[0m \u001b[0macquire_context\u001b[0m\u001b[0;34m(\u001b[0m\u001b[0mself\u001b[0m\u001b[0;34m,\u001b[0m \u001b[0mneeds_lock\u001b[0m\u001b[0;34m=\u001b[0m\u001b[0;32mTrue\u001b[0m\u001b[0;34m)\u001b[0m\u001b[0;34m:\u001b[0m\u001b[0;34m\u001b[0m\u001b[0;34m\u001b[0m\u001b[0m\n\u001b[1;32m    186\u001b[0m         \u001b[0;34m\"\"\"Context manager for acquiring a file.\"\"\"\u001b[0m\u001b[0;34m\u001b[0m\u001b[0;34m\u001b[0m\u001b[0m\n\u001b[0;32m--> 187\u001b[0;31m         \u001b[0mfile\u001b[0m\u001b[0;34m,\u001b[0m \u001b[0mcached\u001b[0m \u001b[0;34m=\u001b[0m \u001b[0mself\u001b[0m\u001b[0;34m.\u001b[0m\u001b[0m_acquire_with_cache_info\u001b[0m\u001b[0;34m(\u001b[0m\u001b[0mneeds_lock\u001b[0m\u001b[0;34m)\u001b[0m\u001b[0;34m\u001b[0m\u001b[0;34m\u001b[0m\u001b[0m\n\u001b[0m\u001b[1;32m    188\u001b[0m         \u001b[0;32mtry\u001b[0m\u001b[0;34m:\u001b[0m\u001b[0;34m\u001b[0m\u001b[0;34m\u001b[0m\u001b[0m\n\u001b[1;32m    189\u001b[0m             \u001b[0;32myield\u001b[0m \u001b[0mfile\u001b[0m\u001b[0;34m\u001b[0m\u001b[0;34m\u001b[0m\u001b[0m\n",
      "\u001b[0;32m/opt/anaconda3/envs/GEOMAR/lib/python3.7/site-packages/xarray/backends/file_manager.py\u001b[0m in \u001b[0;36m_acquire_with_cache_info\u001b[0;34m(self, needs_lock)\u001b[0m\n\u001b[1;32m    203\u001b[0m                     \u001b[0mkwargs\u001b[0m \u001b[0;34m=\u001b[0m \u001b[0mkwargs\u001b[0m\u001b[0;34m.\u001b[0m\u001b[0mcopy\u001b[0m\u001b[0;34m(\u001b[0m\u001b[0;34m)\u001b[0m\u001b[0;34m\u001b[0m\u001b[0;34m\u001b[0m\u001b[0m\n\u001b[1;32m    204\u001b[0m                     \u001b[0mkwargs\u001b[0m\u001b[0;34m[\u001b[0m\u001b[0;34m\"mode\"\u001b[0m\u001b[0;34m]\u001b[0m \u001b[0;34m=\u001b[0m \u001b[0mself\u001b[0m\u001b[0;34m.\u001b[0m\u001b[0m_mode\u001b[0m\u001b[0;34m\u001b[0m\u001b[0;34m\u001b[0m\u001b[0m\n\u001b[0;32m--> 205\u001b[0;31m                 \u001b[0mfile\u001b[0m \u001b[0;34m=\u001b[0m \u001b[0mself\u001b[0m\u001b[0;34m.\u001b[0m\u001b[0m_opener\u001b[0m\u001b[0;34m(\u001b[0m\u001b[0;34m*\u001b[0m\u001b[0mself\u001b[0m\u001b[0;34m.\u001b[0m\u001b[0m_args\u001b[0m\u001b[0;34m,\u001b[0m \u001b[0;34m**\u001b[0m\u001b[0mkwargs\u001b[0m\u001b[0;34m)\u001b[0m\u001b[0;34m\u001b[0m\u001b[0;34m\u001b[0m\u001b[0m\n\u001b[0m\u001b[1;32m    206\u001b[0m                 \u001b[0;32mif\u001b[0m \u001b[0mself\u001b[0m\u001b[0;34m.\u001b[0m\u001b[0m_mode\u001b[0m \u001b[0;34m==\u001b[0m \u001b[0;34m\"w\"\u001b[0m\u001b[0;34m:\u001b[0m\u001b[0;34m\u001b[0m\u001b[0;34m\u001b[0m\u001b[0m\n\u001b[1;32m    207\u001b[0m                     \u001b[0;31m# ensure file doesn't get overriden when opened again\u001b[0m\u001b[0;34m\u001b[0m\u001b[0;34m\u001b[0m\u001b[0;34m\u001b[0m\u001b[0m\n",
      "\u001b[0;32msrc/netCDF4/_netCDF4.pyx\u001b[0m in \u001b[0;36mnetCDF4._netCDF4.Dataset.__init__\u001b[0;34m()\u001b[0m\n",
      "\u001b[0;32msrc/netCDF4/_netCDF4.pyx\u001b[0m in \u001b[0;36mnetCDF4._netCDF4._ensure_nc_success\u001b[0;34m()\u001b[0m\n",
      "\u001b[0;31mFileNotFoundError\u001b[0m: [Errno 2] No such file or directory: b'/Users/chiaraciscato/Desktop/geomar/Cropped_DataTransfer/SSP1_2.6/CO2flux_Baseline_2.6_cropped.nc'"
     ]
    }
   ],
   "source": [
    "dataset = (r'/Users/chiaraciscato/Desktop/geomar/Cropped_DataTransfer/SSP1_2.6/CO2flux_Baseline_2.6_cropped.nc')\n",
    "data_baseline = xr.open_dataset(dataset)"
   ]
  },
  {
   "cell_type": "code",
   "execution_count": null,
   "id": "611825c8-8ade-42d7-a98b-e6618be944ba",
   "metadata": {},
   "outputs": [],
   "source": [
    "dataset_oae = (r'/Users/chiaraciscato/Desktop/geomar/Cropped_DataTransfer/SSP1_2.6/CO2flux_OAE_2.6_cropped.nc')\n",
    "data_oae = xr.open_dataset(dataset_oae)"
   ]
  },
  {
   "cell_type": "markdown",
   "id": "01697dc9-7236-403d-8308-7cf795d4025c",
   "metadata": {},
   "source": [
    "### EU Average of CO2 flux"
   ]
  },
  {
   "cell_type": "code",
   "execution_count": null,
   "id": "875e36f5-2df6-4b94-ba48-bcd738ace567",
   "metadata": {},
   "outputs": [],
   "source": [
    "data_baseline = data_baseline.where(data_baseline)\n",
    "data_oae = data_oae.where(data_oae)"
   ]
  },
  {
   "cell_type": "code",
   "execution_count": null,
   "id": "350d49b1-1b9d-4968-818f-4a44e2c92a0d",
   "metadata": {},
   "outputs": [],
   "source": [
    "sliced_frame_baseline = data_baseline.sel(time_counter=slice('2090', '2100'))"
   ]
  },
  {
   "cell_type": "code",
   "execution_count": null,
   "id": "5f2e3083-332b-480f-b4f7-0ab90b9dd0a4",
   "metadata": {},
   "outputs": [],
   "source": [
    "sliced_frame_oae = data_oae.sel(time_counter=slice('2090', '2100'))"
   ]
  },
  {
   "cell_type": "code",
   "execution_count": null,
   "id": "10b4d1f0-d405-432d-b4ac-54d732c5e26e",
   "metadata": {
    "tags": []
   },
   "outputs": [],
   "source": [
    "data_baseline_plot = data_baseline.co2flux_cpl.mean(dim=('y', 'x'))\n",
    "data_oae_plot = data_oae.co2flux_cpl.mean(dim=('y', 'x'))"
   ]
  },
  {
   "cell_type": "code",
   "execution_count": null,
   "id": "01b04d4b-bddb-4b55-ac95-d5f5289d5fd7",
   "metadata": {
    "tags": []
   },
   "outputs": [],
   "source": [
    "data_baseline_plot = data_baseline_plot.to_dataset()\n",
    "data_oae_plot = data_oae_plot.to_dataset()"
   ]
  },
  {
   "cell_type": "code",
   "execution_count": null,
   "id": "0c4d0d99-c712-4851-84ba-c52d68f6f19f",
   "metadata": {},
   "outputs": [],
   "source": [
    "plt.figure(figsize=(20, 3))\n",
    "plt.plot(data_baseline_plot.time_counter, data_baseline_plot.co2flux_cpl, linewidth=2, label = 'Baseline')\n",
    "plt.plot(data_oae_plot.time_counter, data_oae_plot.co2flux_cpl, linewidth=2, label = 'OAE')\n",
    "plt.xlabel(\"Time\", fontsize=14)\n",
    "plt.ylabel(\"CO2 flux [kg/m2/sec]\", fontsize=14)\n",
    "plt.legend(bbox_to_anchor=(1, 1), loc='upper left', fontsize=14)\n",
    "plt.title('EU Average of CO2 flux', fontname=\"Helvetica\", fontsize=17, y=1.06)\n",
    "plt.axhline(0, color='black', linewidth=0.5)\n",
    "plt.show()"
   ]
  },
  {
   "cell_type": "code",
   "execution_count": null,
   "id": "f3f8d8d3-b06d-4be3-8fa0-4d02cb0164cb",
   "metadata": {
    "tags": []
   },
   "outputs": [],
   "source": [
    "sliced_frame_baseline_plot = sliced_frame_baseline.co2flux_cpl.mean(dim=('y', 'x'))\n",
    "sliced_frame_oae_plot = sliced_frame_oae.co2flux_cpl.mean(dim=('y', 'x'))"
   ]
  },
  {
   "cell_type": "code",
   "execution_count": null,
   "id": "a90e1ba5-38fa-43a9-9726-fc6dcb4eb1ef",
   "metadata": {
    "tags": []
   },
   "outputs": [],
   "source": [
    "sliced_frame_baseline_plot = sliced_frame_baseline_plot.to_dataset()\n",
    "sliced_frame_oae_plot = sliced_frame_oae_plot.to_dataset()"
   ]
  },
  {
   "cell_type": "code",
   "execution_count": null,
   "id": "d096a318-f5e1-4be4-8a02-59edfd4e41c2",
   "metadata": {},
   "outputs": [],
   "source": [
    "plt.figure(figsize=(20, 3))\n",
    "plt.plot(sliced_frame_baseline_plot.time_counter, sliced_frame_baseline_plot.co2flux_cpl, linewidth=2, label = 'Baseline')\n",
    "plt.plot(sliced_frame_oae_plot.time_counter, sliced_frame_oae_plot.co2flux_cpl, linewidth=2, label = 'OAE')\n",
    "plt.xlabel(\"Time\", fontsize=14)\n",
    "plt.ylabel(\"CO2 flux [kg/m2/sec]\", fontsize=14)\n",
    "plt.legend(bbox_to_anchor=(1, 1), loc='upper left', fontsize=14)\n",
    "plt.title('EU Average of CO2 flux', fontsize=17, y=1.06)\n",
    "plt.axhline(0, color='black', linewidth=0.5)\n",
    "plt.show()"
   ]
  },
  {
   "cell_type": "markdown",
   "id": "c4cc877f-6323-4707-a8ed-14b9d99d6364",
   "metadata": {},
   "source": [
    "### Unweighted EU Seasonal Average of CO2 flux"
   ]
  },
  {
   "cell_type": "code",
   "execution_count": null,
   "id": "7f0874b7-2738-441a-9f4d-6141723d21e9",
   "metadata": {},
   "outputs": [],
   "source": [
    "start_date = \"2090-01-01\"\n",
    "end_date = \"2100-01-01\"\n",
    "\n",
    "co2flux_cpl_baseline = data_baseline[\"co2flux_cpl\"].sel(time_counter=slice(start_date, end_date))"
   ]
  },
  {
   "cell_type": "code",
   "execution_count": null,
   "id": "3202e92b-daf9-48a5-8ca7-eb79961a417f",
   "metadata": {},
   "outputs": [],
   "source": [
    "co2flux_season_summary_baseline = co2flux_cpl_baseline.groupby('time_counter.season').mean('time_counter', skipna=True)\n",
    "co2flux_season_mean_all_years_baseline = co2flux_cpl_baseline.resample(time_counter='QS-DEC').mean(keep_attrs=True)\n",
    "co2flux_seasonal_mean_baseline = co2flux_season_mean_all_years_baseline.groupby('time_counter').mean([\"y\", \"x\"])"
   ]
  },
  {
   "cell_type": "code",
   "execution_count": null,
   "id": "534608bc-f7ce-4fb6-a7a3-56ab1e606909",
   "metadata": {},
   "outputs": [],
   "source": [
    "start_date = \"2090-01-01\"\n",
    "end_date = \"2100-01-01\"\n",
    "\n",
    "co2flux_cpl_oae = data_oae[\"co2flux_cpl\"].sel(time_counter=slice(start_date, end_date))"
   ]
  },
  {
   "cell_type": "code",
   "execution_count": null,
   "id": "27c1ee76-5ee1-4dc9-abfa-acdcd19b3b26",
   "metadata": {},
   "outputs": [],
   "source": [
    "co2flux_season_summary_oae = co2flux_cpl_oae.groupby('time_counter.season').mean('time_counter', skipna=True)\n",
    "co2flux_season_mean_all_years_oae = co2flux_cpl_oae.resample(time_counter='QS-DEC').mean(keep_attrs=True)\n",
    "co2flux_seasonal_mean_oae = co2flux_season_mean_all_years_oae.groupby('time_counter').mean([\"y\", \"x\"])"
   ]
  },
  {
   "cell_type": "code",
   "execution_count": null,
   "id": "a9c6b2c4-7e40-49cf-95f1-69cbb20152bf",
   "metadata": {},
   "outputs": [],
   "source": [
    "f, ax = plt.subplots(figsize=(20, 3))\n",
    "\n",
    "co2flux_seasonal_mean_baseline.plot(marker=\"o\", markersize=7, markeredgewidth=0.5,\n",
    "                        color=\"black\", linewidth=0.5,\n",
    "                        markerfacecolor=\"lightskyblue\", \n",
    "                        markeredgecolor=\"black\", \n",
    "                        label = 'Baseline')\n",
    "\n",
    "co2flux_seasonal_mean_oae.plot(marker=\"o\", markersize=7, markeredgewidth=0.5,\n",
    "                        color=\"black\", linewidth=0.5, \n",
    "                        markerfacecolor=\"lightgreen\",\n",
    "                        markeredgecolor=\"black\", \n",
    "                        label = 'OAE')\n",
    "ax.set_title(\"Unweighted EU Seasonal Average of CO2 flux\", fontsize= 17, y=1.06)\n",
    "\n",
    "plt.xlabel(\"Time\", fontsize=14)\n",
    "plt.ylabel(\"CO2 flux [kg/m2/sec]\", fontsize=14)\n",
    "plt.legend(bbox_to_anchor=(1, 1), loc='upper left', fontsize=14)\n",
    "plt.axhline(0, color='black', linewidth=0.5)\n",
    "plt.show()"
   ]
  },
  {
   "cell_type": "markdown",
   "id": "2ff893fb-0a5b-4597-ad6a-3eb1113c700d",
   "metadata": {},
   "source": [
    "### Weighted EU Seasonal Average of CO2 flux"
   ]
  },
  {
   "cell_type": "code",
   "execution_count": null,
   "id": "52cb1bb1-7316-4e42-befd-3d103b6b8dd6",
   "metadata": {},
   "outputs": [],
   "source": [
    "month_length_baseline = co2flux_cpl_baseline.time_counter.dt.days_in_month\n",
    "co2flux_weighted_mean_baseline = ((co2flux_cpl_baseline * month_length_baseline).resample(time_counter='QS-DEC').sum() / month_length_baseline.resample(time_counter='QS-DEC').sum())\n",
    "co2flux_weighted_mean_baseline = co2flux_weighted_mean_baseline.where(co2flux_weighted_mean_baseline)\n",
    "co2flux_weighted_season_baseline = co2flux_weighted_mean_baseline.groupby('time_counter').mean([\"y\", \"x\"])"
   ]
  },
  {
   "cell_type": "code",
   "execution_count": null,
   "id": "6ef3fb02-efe9-42b2-9acb-32b9c008c443",
   "metadata": {},
   "outputs": [],
   "source": [
    "month_length_oae = co2flux_cpl_oae.time_counter.dt.days_in_month\n",
    "co2flux_weighted_mean_oae = ((co2flux_cpl_oae * month_length_oae).resample(time_counter='QS-DEC').sum() / month_length_oae.resample(time_counter='QS-DEC').sum())\n",
    "co2flux_weighted_mean_oae = co2flux_weighted_mean_oae.where(co2flux_weighted_mean_oae)\n",
    "co2flux_weighted_season_oae = co2flux_weighted_mean_oae.groupby('time_counter').mean([\"y\", \"x\"])"
   ]
  },
  {
   "cell_type": "code",
   "execution_count": null,
   "id": "abeca0d1-1a2f-49fa-a0c0-1bb876e7f929",
   "metadata": {},
   "outputs": [],
   "source": [
    "colors = {3: \"lightgreen\", 6: \"orange\", 9: \"brown\", 12: \"lightblue\"}\n",
    "seasons = {3: \"Spring\", 6: \"Summer\", 9: \"Fall\", 12: \"Winter\"}\n",
    "\n",
    "f, ax = plt.subplots(figsize=(20, 3))\n",
    "co2flux_weighted_season_baseline.plot(marker=\"o\", markersize=7, markeredgewidth=0.5,\n",
    "                        color=\"black\", linewidth=0.5, \n",
    "                        markerfacecolor=\"lightskyblue\",\n",
    "                        markeredgecolor=\"black\", \n",
    "                        label = 'Baseline')\n",
    "\n",
    "co2flux_weighted_season_oae.plot(marker=\"o\", markersize=7, markeredgewidth=0.5,\n",
    "                        color=\"black\", linewidth=0.5, \n",
    "                        markerfacecolor=\"lightgreen\",\n",
    "                        markeredgecolor=\"black\", \n",
    "                        label = 'OAE')\n",
    "ax.set_title(\"Weighted EU Seasonal Average of CO2 flux\", fontsize=17, y=1.06)\n",
    "\n",
    "plt.xlabel(\"Time\", fontsize=14)\n",
    "plt.ylabel(\"CO2 flux [kg/m2/sec]\", fontsize=14)\n",
    "plt.legend(bbox_to_anchor=(1, 1), loc='upper left', fontsize=14)\n",
    "plt.axhline(0, color='black', linewidth=0.5)\n",
    "plt.show()"
   ]
  },
  {
   "cell_type": "markdown",
   "id": "faddc49b-6c90-46aa-9481-53289227aba6",
   "metadata": {},
   "source": [
    "### Weighted EU Seasonal Average of CO2 flux (seasons displayed)"
   ]
  },
  {
   "cell_type": "code",
   "execution_count": null,
   "id": "bb9ea00b-36e4-4044-81c9-e321adf56dd5",
   "metadata": {},
   "outputs": [],
   "source": [
    "colors = {3: \"darkseagreen\", 6: \"gold\", 9: \"lightcoral\", 12: \"paleturquoise\"}\n",
    "seasons = {3: \"Spring\", 6: \"Summer\", 9: \"Fall\", 12: \"Winter\"}\n",
    "\n",
    "f, (ax1, ax2) = plt.subplots(2, 1, figsize=(20, 8), sharey=False)\n",
    "for month, arr in co2flux_weighted_season_baseline.groupby('time_counter.month'):\n",
    "    arr.plot(ax=ax1,\n",
    "             color=\"black\", linewidth=0.5, \n",
    "             marker=\"o\", markersize=7, markeredgewidth=0.5,\n",
    "             markerfacecolor=colors[month],\n",
    "             markeredgecolor='black',\n",
    "             label=seasons[month])\n",
    "\n",
    "ax1.legend(bbox_to_anchor=(1, 1), loc='upper left', fontsize=14)\n",
    "ax1.set_title(\"Weighted EU Seasonal Average of CO2 without OAE\", fontsize=17, y=1.06)\n",
    "ax1.set_xlabel('Time', fontsize=14)\n",
    "ax1.set_ylabel('CO2 flux [kg/m2/sec]', fontsize=14)\n",
    "\n",
    "for month, arr in co2flux_weighted_season_oae.groupby('time_counter.month'):\n",
    "    arr.plot(ax=ax2,\n",
    "             color=\"black\", linewidth=0.5, \n",
    "             marker=\"o\", markersize=7, markeredgewidth=0.5,\n",
    "             markerfacecolor=colors[month],\n",
    "             markeredgecolor='black',\n",
    "             label=seasons[month])\n",
    "\n",
    "ax2.legend(bbox_to_anchor=(1, 1), loc='upper left', fontsize=14)\n",
    "ax2.set_title(\"Weighted EU Seasonal Average of CO2 with OAE\", fontsize=17, y=1.06)\n",
    "ax2.set_xlabel('Time', fontsize=14)\n",
    "ax2.set_ylabel('CO2 flux [kg/m2/sec]', fontsize=14)\n",
    "f.tight_layout()\n",
    "plt.show()"
   ]
  },
  {
   "cell_type": "markdown",
   "id": "d006d875-cb33-4d26-9ec8-e192ca37d340",
   "metadata": {},
   "source": [
    "### Weighted EU Seasonal Average of CO2 flux without OAE (seasons displayed)"
   ]
  },
  {
   "cell_type": "code",
   "execution_count": null,
   "id": "e825c63c-af9f-4fe4-85c8-4bbbca8ebddf",
   "metadata": {},
   "outputs": [],
   "source": [
    "co2flux_weighted_baseline = co2flux_weighted_season_baseline.to_dataframe('co2flux_cpl')\n",
    "co2flux_weighted_baseline['Month'] = pd.DatetimeIndex(co2flux_weighted_baseline.index).month"
   ]
  },
  {
   "cell_type": "code",
   "execution_count": null,
   "id": "c8f114a6-9060-488f-83f0-0c3c5b44aa0b",
   "metadata": {},
   "outputs": [],
   "source": [
    "conditions = [\n",
    "    (co2flux_weighted_baseline['Month'] == 3),\n",
    "    (co2flux_weighted_baseline['Month'] == 6),\n",
    "    (co2flux_weighted_baseline['Month'] == 9),\n",
    "    (co2flux_weighted_baseline['Month'] == 12)\n",
    "]\n",
    "\n",
    "values = ['Spring', 'Summer', 'Fall', 'Winter']\n",
    "\n",
    "co2flux_weighted_baseline['Month'] = np.select(conditions, values)"
   ]
  },
  {
   "cell_type": "code",
   "execution_count": null,
   "id": "a76b2dcd-8786-4c13-b87e-ca6966ec94b3",
   "metadata": {},
   "outputs": [],
   "source": [
    "colors = dict(zip(co2flux_weighted_baseline.Month.unique(), ['paleturquoise', 'darkseagreen', 'gold', 'lightcoral']))"
   ]
  },
  {
   "cell_type": "code",
   "execution_count": null,
   "id": "652f41a0-60da-4e89-b99c-781eb0b12d9a",
   "metadata": {},
   "outputs": [],
   "source": [
    "fig, ax = plt.subplots(figsize=(20, 3))\n",
    "ax.plot_date(co2flux_weighted_baseline.index, co2flux_weighted_baseline.co2flux_cpl, '-', color=\"black\", linewidth=0.5, zorder=1)\n",
    "ax.scatter(co2flux_weighted_baseline.index, co2flux_weighted_baseline.co2flux_cpl, color=co2flux_weighted_baseline.Month.map(lambda x: colors[x]), edgecolors='black', linewidth=0.5, s=70)\n",
    "legend = [mpatches.Patch(facecolor = value, edgecolor = \"black\", label = key, alpha = 1) for key, value in colors.items()]\n",
    "ax.legend(handles = legend, bbox_to_anchor=(1, 1), loc='upper left', fontsize=14)\n",
    "ax.set_xlabel('Time', fontsize=14)\n",
    "ax.set_ylabel('CO2 flux [kg/m2/sec]', fontsize=14)\n",
    "ax.set_title(\"Weighted EU Seasonal Average of CO2 flux without OAE\", fontsize=17, y=1.06)\n",
    "ax.axhline(0, color='black', linewidth=0.5)\n",
    "\n",
    "pass"
   ]
  },
  {
   "cell_type": "markdown",
   "id": "b6ad11fc-c6a5-4e91-b13c-bd786345ebc9",
   "metadata": {},
   "source": [
    "### Weighted EU Seasonal Average of CO2 flux with OAE (seasons displayed)"
   ]
  },
  {
   "cell_type": "code",
   "execution_count": null,
   "id": "1f2879ce-93b7-4e64-96dc-41f746391f8c",
   "metadata": {},
   "outputs": [],
   "source": [
    "co2flux_weighted_oae = co2flux_weighted_season_oae.to_dataframe('co2flux_cpl')\n",
    "co2flux_weighted_oae['Month'] = pd.DatetimeIndex(co2flux_weighted_oae.index).month"
   ]
  },
  {
   "cell_type": "code",
   "execution_count": null,
   "id": "23254257-3354-4a72-be8b-7cba2a9341ad",
   "metadata": {},
   "outputs": [],
   "source": [
    "conditions = [\n",
    "    (co2flux_weighted_oae['Month'] == 3),\n",
    "    (co2flux_weighted_oae['Month'] == 6),\n",
    "    (co2flux_weighted_oae['Month'] == 9),\n",
    "    (co2flux_weighted_oae['Month'] == 12)\n",
    "]\n",
    "\n",
    "values = ['Spring', 'Summer', 'Fall', 'Winter']\n",
    "\n",
    "co2flux_weighted_oae['Month'] = np.select(conditions, values)"
   ]
  },
  {
   "cell_type": "code",
   "execution_count": null,
   "id": "8b351203-507a-4d71-9b6f-e39b5548e4f5",
   "metadata": {},
   "outputs": [],
   "source": [
    "colors = dict(zip(co2flux_weighted_oae.Month.unique(), ['paleturquoise', 'darkseagreen', 'gold', 'lightcoral']))"
   ]
  },
  {
   "cell_type": "code",
   "execution_count": null,
   "id": "499132f3-20a3-472b-b2e3-57902717404b",
   "metadata": {},
   "outputs": [],
   "source": [
    "fig, ax = plt.subplots(figsize=(20, 3))\n",
    "ax.plot_date(co2flux_weighted_oae.index, co2flux_weighted_oae.co2flux_cpl, '-', color=\"black\", linewidth=0.5, zorder=1)\n",
    "ax.scatter(co2flux_weighted_oae.index, co2flux_weighted_oae.co2flux_cpl, color=co2flux_weighted_oae.Month.map(lambda x: colors[x]), edgecolors='black', linewidth=0.5, s=70)\n",
    "legend = [mpatches.Patch(facecolor = value, edgecolor = \"black\", label = key, alpha = 1) for key, value in colors.items()]\n",
    "ax.legend(handles = legend, bbox_to_anchor=(1, 1), loc='upper left', fontsize=14)\n",
    "ax.set_xlabel('Time', fontsize=14)\n",
    "ax.set_ylabel('CO2 flux [kg/m2/sec]', fontsize=14)\n",
    "ax.set_title(\"Weighted EU Seasonal Average of CO2 flux with OAE\", fontsize=17, y=1.06)\n",
    "\n",
    "pass"
   ]
  },
  {
   "cell_type": "markdown",
   "id": "c0c67892-e296-4d57-a300-0dc99d97db5d",
   "metadata": {},
   "source": [
    "### Weighted EU Seasonal Average of CO2 flux (seasons displayed)"
   ]
  },
  {
   "cell_type": "code",
   "execution_count": null,
   "id": "c2d0641c-b8de-4ef1-be90-3b54a538dc8b",
   "metadata": {},
   "outputs": [],
   "source": [
    "colors = dict(zip(co2flux_weighted_baseline.Month.unique(), ['paleturquoise', 'darkseagreen', 'gold', 'lightcoral']))\n",
    "\n",
    "fig, ax = plt.subplots(figsize=(20, 3))\n",
    "\n",
    "ax.plot_date(co2flux_weighted_baseline.index, co2flux_weighted_baseline.co2flux_cpl, '-', color=\"black\", linewidth=0.5, zorder=1)\n",
    "ax.text(43700, -0.000000001, s='Baseline')\n",
    "ax.scatter(co2flux_weighted_baseline.index, co2flux_weighted_baseline.co2flux_cpl, color=co2flux_weighted_baseline.Month.map(lambda x: colors[x]), marker='o', edgecolors='black', linewidth=0.5, s=70)\n",
    "\n",
    "ax.plot_date(co2flux_weighted_oae.index, co2flux_weighted_oae.co2flux_cpl, '-', color=\"black\", linewidth=0.5, zorder=1)\n",
    "ax.text(43900, -0.000000008, s='OAE')\n",
    "ax.scatter(co2flux_weighted_oae.index, co2flux_weighted_oae.co2flux_cpl, color=co2flux_weighted_oae.Month.map(lambda x: colors[x]), marker='o', edgecolors='black', linewidth=0.5, s=70)\n",
    "\n",
    "legend = [mpatches.Patch(facecolor = value, edgecolor = \"black\", label = key, alpha = 1) for key, value in colors.items()]\n",
    "ax.legend(handles = legend, bbox_to_anchor=(1, 1), loc='best', fontsize=14)\n",
    "ax.set_xlabel('Time', fontsize=14)\n",
    "ax.set_ylabel('CO2 flux [kg/m2/sec]', fontsize=14)\n",
    "ax.set_title(\"Weighted EU Seasonal Average of CO2 flux\", fontsize=17, y=1.06)\n",
    "ax.axhline(0, color='black', linewidth=0.5)\n",
    "\n",
    "plt.savefig('/Users/chiaraciscato/Desktop/geomar/geomarcode/SSP1_2.6/CO2flux/figs/EUCO2flux_seasonal_mean.png')\n",
    "\n",
    "pass"
   ]
  },
  {
   "cell_type": "markdown",
   "id": "0210755f-e727-4a03-a257-456aa9ff4717",
   "metadata": {},
   "source": [
    "### EU Monthly Averaged CO2 flux for the last 10 years"
   ]
  },
  {
   "cell_type": "code",
   "execution_count": null,
   "id": "5d998cb9-67fd-41bc-a56a-0eadc1d6bbfe",
   "metadata": {},
   "outputs": [],
   "source": [
    "mean_baseline = (sliced_frame_baseline.co2flux_cpl.mean(dim=('y', 'x'))).to_dataframe()\n",
    "mean_baseline = mean_baseline.groupby(mean_baseline.index.month).co2flux_cpl.mean()\n",
    "mean_baseline = mean_baseline.reset_index()\n",
    "mean_baseline['time_counter'] = mean_baseline['time_counter'].apply(lambda x: calendar.month_abbr[x])\n",
    "mean_baseline = mean_baseline.set_index('time_counter')"
   ]
  },
  {
   "cell_type": "code",
   "execution_count": null,
   "id": "7c79bc07-cab6-44e9-bd4b-91b41f115ce4",
   "metadata": {},
   "outputs": [],
   "source": [
    "mean_oae = (sliced_frame_oae.co2flux_cpl.mean(dim=('y', 'x'))).to_dataframe()\n",
    "mean_oae = mean_oae.groupby(mean_oae.index.month).co2flux_cpl.mean()\n",
    "mean_oae = mean_oae.reset_index()\n",
    "mean_oae['time_counter']= mean_oae['time_counter'].apply(lambda x: calendar.month_abbr[x])\n",
    "mean_oae = mean_oae.set_index('time_counter')"
   ]
  },
  {
   "cell_type": "code",
   "execution_count": null,
   "id": "6e85398e-a2a5-48fb-8112-d1cc2cab1588",
   "metadata": {},
   "outputs": [],
   "source": [
    "plt.figure(figsize=(8,2))\n",
    "plt.plot(mean_baseline.co2flux_cpl, label='Baseline')\n",
    "plt.plot(mean_oae.co2flux_cpl, label='OAE')\n",
    "plt.legend(bbox_to_anchor=(1, 1), loc='upper left', fontsize=12)\n",
    "plt.xlabel(\"Time\", fontsize=10)\n",
    "plt.ylabel(\"CO2 flux [kg/m2/sec]\", fontsize=10)\n",
    "plt.xticks(fontsize=10, fontname=\"Helvetica\")\n",
    "plt.yticks(fontsize=10, fontname=\"Helvetica\")\n",
    "plt.title('EU Seasonal Average of CO2 flux', fontname=\"Helvetica\", fontsize=14, y=1.06)\n",
    "plt.axhline(0, color='black', linewidth=0.5)\n",
    "plt.show()"
   ]
  },
  {
   "cell_type": "markdown",
   "id": "e0cc6042-0251-4f33-8d37-55069a44e33b",
   "metadata": {},
   "source": [
    "### Map of EU Seasonal Average of CO2 flux without OAE"
   ]
  },
  {
   "cell_type": "code",
   "execution_count": null,
   "id": "6844f9ca-7c0b-4f72-acfc-82bef64ab95f",
   "metadata": {},
   "outputs": [],
   "source": [
    "notnull = pd.notnull(ds_unweighted_baseline[\"co2flux_cpl\"][0])\n",
    "\n",
    "fig, axes = plt.subplots(nrows=4, ncols=3, figsize=(14, 12))\n",
    "for i, season in enumerate((\"DJF\", \"MAM\", \"JJA\", \"SON\")):\n",
    "    ds_weighted_baseline[\"co2flux_cpl\"].sel(season=season).where(notnull).plot.pcolormesh(\n",
    "        ax=axes[i, 0],\n",
    "        vmin=-0.00000001,\n",
    "        vmax=0.00000001,\n",
    "        cmap=\"RdBu_r\",\n",
    "        add_colorbar=True, add_labels=False,\n",
    "        extend=\"both\",\n",
    "    )\n",
    "\n",
    "    ds_unweighted_baseline[\"co2flux_cpl\"].sel(season=season).where(notnull).plot.pcolormesh(\n",
    "        ax=axes[i, 1],\n",
    "        vmin=-0.00000001,\n",
    "        vmax=0.00000001,\n",
    "        cmap=\"RdBu_r\",\n",
    "        add_colorbar=True, add_labels=False,\n",
    "        extend=\"both\",\n",
    "    )\n",
    "\n",
    "    ds_diff_baseline[\"co2flux_cpl\"].sel(season=season).where(notnull).plot.pcolormesh(\n",
    "        ax=axes[i, 2],\n",
    "        vmin=-0.000000000015,\n",
    "        vmax=0.000000000015,\n",
    "        cmap=\"RdBu_r\",\n",
    "        add_colorbar=True, add_labels=False,\n",
    "        extend=\"both\",\n",
    "    )\n",
    "\n",
    "    axes[i, 0].set_ylabel(season)\n",
    "    axes[i, 1].set_ylabel(\"\")\n",
    "    axes[i, 2].set_ylabel(\"\")\n",
    "\n",
    "for ax in axes.flat:\n",
    "    ax.axes.get_xaxis().set_ticklabels([])\n",
    "    ax.axes.get_yaxis().set_ticklabels([])\n",
    "    ax.axes.axis(\"tight\")\n",
    "    ax.set_xlabel(\"\")\n",
    "\n",
    "axes[0, 0].set_title(\"Weighted by DPM\", fontsize=15)\n",
    "axes[0, 1].set_title(\"Equal Weighting\", fontsize=15)\n",
    "axes[0, 2].set_title(\"Difference\", fontsize=15)\n",
    "\n",
    "plt.tight_layout()\n",
    "\n",
    "fig.suptitle(\"EU Seasonal Average of CO2 flux [kg/m2/sec] from 2090 to 2100 without OAE\", fontsize=17, y=1.03)\n",
    "\n",
    "pass"
   ]
  },
  {
   "cell_type": "markdown",
   "id": "169fb79b-fb54-41cf-9058-cf7e242f387b",
   "metadata": {},
   "source": [
    "### Map of EU Seasonal Average of CO2 flux with OAE"
   ]
  },
  {
   "cell_type": "code",
   "execution_count": null,
   "id": "9412f85a-0a0d-445b-ad71-51ff70b70a12",
   "metadata": {},
   "outputs": [],
   "source": [
    "month_length_oae = sliced_frame_oae.time_counter.dt.days_in_month \n",
    "weights_oae = (month_length_oae.groupby(\"time_counter.season\") / month_length_oae.groupby(\"time_counter.season\").sum())\n",
    "np.testing.assert_allclose(weights_oae.groupby('time_counter.season').sum().values, np.ones(4))"
   ]
  },
  {
   "cell_type": "code",
   "execution_count": null,
   "id": "075682e3-f384-4f07-838d-2c2f3d5f53d1",
   "metadata": {},
   "outputs": [],
   "source": [
    "weights_oae = weights_oae.to_dataset()"
   ]
  },
  {
   "cell_type": "code",
   "execution_count": null,
   "id": "0e8fdd5f-0ff7-45ec-a4d6-0037c00a96df",
   "metadata": {},
   "outputs": [],
   "source": [
    "ds_weighted_oae = (sliced_frame_oae.co2flux_cpl * weights_oae.days_in_month).groupby(\"time_counter.season\").sum(dim=\"time_counter\")\n",
    "ds_weighted_oae = ds_weighted_oae.to_dataset(name='co2flux_cpl')\n",
    "ds_unweighted_oae = sliced_frame_oae.groupby(\"time_counter.season\").mean(dim=\"time_counter\")\n",
    "ds_diff_oae = ds_weighted_oae - ds_unweighted_oae"
   ]
  },
  {
   "cell_type": "code",
   "execution_count": null,
   "id": "acfccfd9-1758-44be-be1c-dfd661ff0654",
   "metadata": {},
   "outputs": [],
   "source": [
    "notnull = pd.notnull(ds_unweighted_baseline[\"co2flux_cpl\"][0])\n",
    "\n",
    "fig, axes = plt.subplots(nrows=4, ncols=3, figsize=(14, 12))\n",
    "for i, season in enumerate((\"DJF\", \"MAM\", \"JJA\", \"SON\")):\n",
    "    ds_weighted_oae[\"co2flux_cpl\"].sel(season=season).where(notnull).plot.pcolormesh(\n",
    "        ax=axes[i, 0],\n",
    "        vmin=-0.00000001,\n",
    "        vmax=0.00000001,\n",
    "        cmap=\"RdBu_r\",\n",
    "        add_colorbar=True, add_labels=False,\n",
    "        extend=\"both\",\n",
    "    )\n",
    "\n",
    "    ds_unweighted_oae[\"co2flux_cpl\"].sel(season=season).where(notnull).plot.pcolormesh(\n",
    "        ax=axes[i, 1],\n",
    "        vmin=-0.00000001,\n",
    "        vmax=0.00000001,\n",
    "        cmap=\"RdBu_r\",\n",
    "        add_colorbar=True, add_labels=False,\n",
    "        extend=\"both\",\n",
    "    )\n",
    "\n",
    "    ds_diff_oae[\"co2flux_cpl\"].sel(season=season).where(notnull).plot.pcolormesh(\n",
    "        ax=axes[i, 2],\n",
    "        vmin=-0.000000000015,\n",
    "        vmax=0.000000000015,\n",
    "        cmap=\"RdBu_r\",\n",
    "        add_colorbar=True, add_labels=False,\n",
    "        extend=\"both\",\n",
    "    )\n",
    "\n",
    "    axes[i, 0].set_ylabel(season)\n",
    "    axes[i, 1].set_ylabel(\"\")\n",
    "    axes[i, 2].set_ylabel(\"\")\n",
    "\n",
    "for ax in axes.flat:\n",
    "    ax.axes.get_xaxis().set_ticklabels([])\n",
    "    ax.axes.get_yaxis().set_ticklabels([])\n",
    "    ax.axes.axis(\"tight\")\n",
    "    ax.set_xlabel(\"\")\n",
    "\n",
    "axes[0, 0].set_title(\"Weighted by DPM\", fontsize=15)\n",
    "axes[0, 1].set_title(\"Equal Weighting\", fontsize=15)\n",
    "axes[0, 2].set_title(\"Difference\", fontsize=15)\n",
    "\n",
    "plt.tight_layout()\n",
    "\n",
    "fig.suptitle(\"EU Seasonal Average of CO2 flux [kg/m2/sec] from 2090 to 2100 with OAE\", fontsize=17, y=1.03)\n",
    "\n",
    "pass"
   ]
  },
  {
   "cell_type": "markdown",
   "id": "587dd38b-a31d-4a79-bb9d-1c4085a38bb5",
   "metadata": {},
   "source": [
    "### EU Monthly Average of CO2 flux"
   ]
  },
  {
   "cell_type": "code",
   "execution_count": null,
   "id": "06c7b3bf-143b-4b14-a269-1bd7f3d0bc82",
   "metadata": {},
   "outputs": [],
   "source": [
    "start_date_month = \"2090-01-01\"\n",
    "end_date_month = \"2100-01-01\"\n",
    "\n",
    "co2flux_baseline_month = data_baseline[\"co2flux_cpl\"].sel(time_counter=slice(start_date_month, end_date_month))\n",
    "co2flux_monthly_mean_baseline = co2flux_baseline_month.groupby('time_counter').mean([\"y\", \"x\"])"
   ]
  },
  {
   "cell_type": "code",
   "execution_count": null,
   "id": "96931bf7-023f-4afb-bb47-038fa401157b",
   "metadata": {},
   "outputs": [],
   "source": [
    "co2flux_oae_month = data_oae[\"co2flux_cpl\"].sel(time_counter=slice(start_date_month, end_date_month))\n",
    "co2flux_monthly_mean_oae = co2flux_oae_month.groupby('time_counter').mean([\"y\", \"x\"])"
   ]
  },
  {
   "cell_type": "code",
   "execution_count": null,
   "id": "8a984f77-449c-4f6f-a4d7-03073a5cd328",
   "metadata": {},
   "outputs": [],
   "source": [
    "f, ax = plt.subplots(figsize=(20, 3))\n",
    "\n",
    "co2flux_monthly_mean_baseline.plot(marker=\"o\", markersize=5, markeredgewidth=0.5,\n",
    "                        color=\"black\", linewidth=0.5,\n",
    "                        markerfacecolor=\"lightskyblue\", \n",
    "                        markeredgecolor=\"black\", \n",
    "                        label = 'Baseline')\n",
    "\n",
    "co2flux_monthly_mean_oae.plot(marker=\"o\", markersize=5, markeredgewidth=0.5,\n",
    "                        color=\"black\", linewidth=0.5,\n",
    "                        markerfacecolor=\"lightgreen\",\n",
    "                        markeredgecolor=\"black\", \n",
    "                        label = 'OAE')\n",
    "ax.set_title(\"EU Monthly Average of CO2 flux\", fontname=\"Helvetica\", fontsize=17, y=1.06)\n",
    "\n",
    "plt.xlabel(\"Time\", fontsize=14)\n",
    "plt.ylabel(\"CO2 flux [kg/m2/sec]\", fontsize=14)\n",
    "plt.legend(bbox_to_anchor=(1, 1), loc='upper left', fontsize=14)\n",
    "plt.axhline(0, color='black', linewidth=0.5)\n",
    "plt.show()"
   ]
  },
  {
   "cell_type": "markdown",
   "id": "fa09cf58-5eff-481c-a73d-b5a63b629bb6",
   "metadata": {},
   "source": [
    "### EU Monthly Average of CO2 flux without OAE (months displayed)"
   ]
  },
  {
   "cell_type": "code",
   "execution_count": null,
   "id": "ec5708fc-b6b6-4686-bb8a-3333d4f45058",
   "metadata": {},
   "outputs": [],
   "source": [
    "co2flux_baseline_monthly = co2flux_monthly_mean_baseline.to_dataframe('co2flux_cpl')\n",
    "co2flux_baseline_monthly['Month'] = pd.DatetimeIndex(co2flux_baseline_monthly.index).month"
   ]
  },
  {
   "cell_type": "code",
   "execution_count": null,
   "id": "d7600e56-3af0-47ac-9e3c-a8a93770ed8e",
   "metadata": {},
   "outputs": [],
   "source": [
    "conditions = [\n",
    "    (co2flux_baseline_monthly['Month'] == 1),\n",
    "    (co2flux_baseline_monthly['Month'] == 2),\n",
    "    (co2flux_baseline_monthly['Month'] == 3),\n",
    "    (co2flux_baseline_monthly['Month'] == 4),\n",
    "    (co2flux_baseline_monthly['Month'] == 5),\n",
    "    (co2flux_baseline_monthly['Month'] == 6),\n",
    "    (co2flux_baseline_monthly['Month'] == 7),\n",
    "    (co2flux_baseline_monthly['Month'] == 8),\n",
    "    (co2flux_baseline_monthly['Month'] == 9),\n",
    "    (co2flux_baseline_monthly['Month'] == 10),\n",
    "    (co2flux_baseline_monthly['Month'] == 11),\n",
    "    (co2flux_baseline_monthly['Month'] == 12)\n",
    "]\n",
    "\n",
    "values = ['Jan', 'Feb', 'Mar', 'Apr', 'May', 'June', 'July', 'Aug', 'Sept', 'Oct', 'Nov', 'Dec']\n",
    "\n",
    "co2flux_baseline_monthly['Month'] = np.select(conditions, values)"
   ]
  },
  {
   "cell_type": "code",
   "execution_count": null,
   "id": "a2a11da4-8db3-461c-8a76-90fd2e90f887",
   "metadata": {},
   "outputs": [],
   "source": [
    "colors = dict(zip(co2flux_baseline_monthly.Month.unique(), ['powderblue', 'darkcyan', 'forestgreen', 'darkseagreen', \n",
    "                                                        'honeydew', 'bisque', 'khaki', 'gold', \n",
    "                                                        'sandybrown', 'lightcoral', 'chocolate', 'cadetblue']))"
   ]
  },
  {
   "cell_type": "code",
   "execution_count": null,
   "id": "da5e74b8-9182-475a-92de-8ea0eb3cc62b",
   "metadata": {},
   "outputs": [],
   "source": [
    "fig, ax = plt.subplots(figsize=(20, 3))\n",
    "ax.plot_date(co2flux_baseline_monthly.index, co2flux_baseline_monthly.co2flux_cpl, '-', color=\"black\", linewidth=0.5, zorder=1)\n",
    "ax.scatter(co2flux_baseline_monthly.index, co2flux_baseline_monthly.co2flux_cpl, color=co2flux_baseline_monthly.Month.map(lambda x: colors[x]), edgecolors='black',  linewidth=0.5, s=40)\n",
    "legend = [mpatches.Patch(facecolor = value, edgecolor = \"black\", label = key, alpha = 1) for key, value in colors.items()]\n",
    "ax.legend(handles = legend, bbox_to_anchor=(1, 1), loc='upper left', fontsize=9)\n",
    "ax.set_xlabel('Time', fontsize=14)\n",
    "ax.set_ylabel('CO2 flux [kg/m2/sec]', fontsize=14)\n",
    "ax.set_title(\"EU Monthly Average of CO2 flux without OAE\", fontname=\"Helvetica\", fontsize=17, y=1.06)\n",
    "ax.axhline(0, color='black', linewidth=0.5)\n",
    "\n",
    "pass"
   ]
  },
  {
   "cell_type": "markdown",
   "id": "35b6136f-58d0-4b47-8ceb-c436956910a4",
   "metadata": {},
   "source": [
    "### EU Monthly Average of CO2 flux with OAE (months displayed)"
   ]
  },
  {
   "cell_type": "code",
   "execution_count": null,
   "id": "a738c36d-1b3e-4ad1-82c6-0da262f4275b",
   "metadata": {},
   "outputs": [],
   "source": [
    "co2flux_oae_monthly = co2flux_monthly_mean_oae.to_dataframe('co2flux_cpl')\n",
    "co2flux_oae_monthly['Month'] = pd.DatetimeIndex(co2flux_oae_monthly.index).month"
   ]
  },
  {
   "cell_type": "code",
   "execution_count": null,
   "id": "ca7c4ee5-3d66-47d6-a36e-44c0bfe8c4b6",
   "metadata": {},
   "outputs": [],
   "source": [
    "conditions = [\n",
    "    (co2flux_oae_monthly['Month'] == 1),\n",
    "    (co2flux_oae_monthly['Month'] == 2),\n",
    "    (co2flux_oae_monthly['Month'] == 3),\n",
    "    (co2flux_oae_monthly['Month'] == 4),\n",
    "    (co2flux_oae_monthly['Month'] == 5),\n",
    "    (co2flux_oae_monthly['Month'] == 6),\n",
    "    (co2flux_oae_monthly['Month'] == 7),\n",
    "    (co2flux_oae_monthly['Month'] == 8),\n",
    "    (co2flux_oae_monthly['Month'] == 9),\n",
    "    (co2flux_oae_monthly['Month'] == 10),\n",
    "    (co2flux_oae_monthly['Month'] == 11),\n",
    "    (co2flux_oae_monthly['Month'] == 12)\n",
    "]\n",
    "\n",
    "values = ['Jan', 'Feb', 'Mar', 'Apr', 'May', 'June', 'July', 'Aug', 'Sept', 'Oct', 'Nov', 'Dec']\n",
    "\n",
    "co2flux_oae_monthly['Month'] = np.select(conditions, values)"
   ]
  },
  {
   "cell_type": "code",
   "execution_count": null,
   "id": "82d4660a-a75d-46a3-bdc9-ce4de871d0ac",
   "metadata": {},
   "outputs": [],
   "source": [
    "colors = dict(zip(co2flux_oae_monthly.Month.unique(), ['powderblue', 'darkcyan', 'forestgreen', 'darkseagreen', \n",
    "                                                        'honeydew', 'bisque', 'khaki', 'gold', \n",
    "                                                        'sandybrown', 'lightcoral', 'chocolate', 'cadetblue']))"
   ]
  },
  {
   "cell_type": "code",
   "execution_count": null,
   "id": "d8bb9e89-80ab-4cc3-a040-4e28bdf908e0",
   "metadata": {},
   "outputs": [],
   "source": [
    "fig, ax = plt.subplots(figsize=(20, 3))\n",
    "ax.plot_date(co2flux_oae_monthly.index, co2flux_oae_monthly.co2flux_cpl, '-', color=\"black\", linewidth=0.5, zorder=1)\n",
    "ax.scatter(co2flux_oae_monthly.index, co2flux_oae_monthly.co2flux_cpl, color=co2flux_oae_monthly.Month.map(lambda x: colors[x]), edgecolors='black',  linewidth=0.5, s=40)\n",
    "legend = [mpatches.Patch(facecolor = value, edgecolor = \"black\", label = key, alpha = 1) for key, value in colors.items()]\n",
    "ax.legend(handles = legend, bbox_to_anchor=(1, 1), loc='upper left', fontsize=9)\n",
    "ax.set_xlabel('Time', fontsize=14)\n",
    "ax.set_ylabel('CO2 flux [kg/m2/sec]', fontsize=14)\n",
    "ax.set_title(\"EU Monthly Average of CO2 flux with OAE\", fontname=\"Helvetica\", fontsize=17, y=1.06)\n",
    "\n",
    "pass"
   ]
  },
  {
   "cell_type": "markdown",
   "id": "9bde3840-051b-4aab-a9c4-abec5c385b27",
   "metadata": {},
   "source": [
    "### EU Monthly Average of CO2 flux (months displayed)"
   ]
  },
  {
   "cell_type": "code",
   "execution_count": null,
   "id": "09f5029b-a079-4633-93f5-ac520aee2d10",
   "metadata": {},
   "outputs": [],
   "source": [
    "colors = dict(zip(co2flux_baseline_monthly.Month.unique(), ['powderblue', 'darkcyan', 'forestgreen', 'darkseagreen', \n",
    "                                                        'honeydew', 'bisque', 'khaki', 'gold', \n",
    "                                                        'sandybrown', 'lightcoral', 'chocolate', 'cadetblue']))\n",
    "\n",
    "fig, ax = plt.subplots(figsize=(20, 3))\n",
    "\n",
    "ax.plot_date(co2flux_baseline_monthly.index, co2flux_baseline_monthly.co2flux_cpl, '-', color=\"black\", linewidth=0.5, zorder=1)\n",
    "ax.text(43700, -0.000000001, s='Baseline')\n",
    "ax.scatter(co2flux_baseline_monthly.index, co2flux_baseline_monthly.co2flux_cpl, color=co2flux_baseline_monthly.Month.map(lambda x: colors[x]), marker='o', edgecolors='black', linewidth=0.5, s=40)\n",
    "\n",
    "ax.plot_date(co2flux_oae_monthly.index, co2flux_oae_monthly.co2flux_cpl, '-', color=\"black\", linewidth=0.5, zorder=1)\n",
    "ax.text(43900, -0.000000009, s='OAE')\n",
    "ax.scatter(co2flux_oae_monthly.index, co2flux_oae_monthly.co2flux_cpl, color=co2flux_oae_monthly.Month.map(lambda x: colors[x]), marker='o', edgecolors='black', linewidth=0.5, s=40)\n",
    "\n",
    "legend = [mpatches.Patch(facecolor = value, edgecolor = \"black\", label = key, alpha = 1) for key, value in colors.items()]\n",
    "ax.legend(handles = legend, bbox_to_anchor=(1, 1), loc='best', fontsize=9)\n",
    "ax.set_xlabel('Time', fontsize=14)\n",
    "ax.set_ylabel('CO2 flux [kg/m2/sec]', fontsize=14)\n",
    "ax.set_title(\"EU monthly Average of CO2 flux\", fontsize=17, y=1.06)\n",
    "ax.axhline(0, color='black', linewidth=0.5)\n",
    "ax.set_zorder(2)\n",
    "\n",
    "plt.savefig('/Users/chiaraciscato/Desktop/geomar/geomarcode/SSP1_2.6/CO2flux/figs/EUCO2flux_monthly_mean.png')\n",
    "\n",
    "pass"
   ]
  },
  {
   "cell_type": "markdown",
   "id": "e7fed447-2f6a-4639-b0f1-3cd51ece403c",
   "metadata": {
    "tags": []
   },
   "source": [
    "### Δ CO2 flux between Baseline and OAE (months displayed)"
   ]
  },
  {
   "cell_type": "code",
   "execution_count": null,
   "id": "588402eb-9c9f-4154-a7ea-ce0e2c0d4a64",
   "metadata": {
    "tags": []
   },
   "outputs": [],
   "source": [
    "delta_co2flux = co2flux_baseline_monthly.co2flux_cpl - co2flux_oae_monthly.co2flux_cpl"
   ]
  },
  {
   "cell_type": "code",
   "execution_count": null,
   "id": "e42673e7-c430-4a86-a54a-46da2ab372aa",
   "metadata": {},
   "outputs": [],
   "source": [
    "delta_co2flux = delta_co2flux.to_xarray()"
   ]
  },
  {
   "cell_type": "code",
   "execution_count": null,
   "id": "575e69a1-24cf-44f8-a87e-0b7fdcd959ed",
   "metadata": {},
   "outputs": [],
   "source": [
    "delta_co2flux = delta_co2flux.to_dataframe('co2flux_cpl')\n",
    "delta_co2flux['Month'] = pd.DatetimeIndex(delta_co2flux.index).month"
   ]
  },
  {
   "cell_type": "code",
   "execution_count": null,
   "id": "272f2494-9083-4945-86a5-09f73678ea93",
   "metadata": {},
   "outputs": [],
   "source": [
    "conditions = [\n",
    "    (delta_co2flux['Month'] == 1),\n",
    "    (delta_co2flux['Month'] == 2),\n",
    "    (delta_co2flux['Month'] == 3),\n",
    "    (delta_co2flux['Month'] == 4),\n",
    "    (delta_co2flux['Month'] == 5),\n",
    "    (delta_co2flux['Month'] == 6),\n",
    "    (delta_co2flux['Month'] == 7),\n",
    "    (delta_co2flux['Month'] == 8),\n",
    "    (delta_co2flux['Month'] == 9),\n",
    "    (delta_co2flux['Month'] == 10),\n",
    "    (delta_co2flux['Month'] == 11),\n",
    "    (delta_co2flux['Month'] == 12)\n",
    "]\n",
    "\n",
    "values = ['Jan', 'Feb', 'Mar', 'Apr', 'May', 'June', 'July', 'Aug', 'Sept', 'Oct', 'Nov', 'Dec']\n",
    "\n",
    "delta_co2flux['Month'] = np.select(conditions, values)"
   ]
  },
  {
   "cell_type": "code",
   "execution_count": null,
   "id": "63b20298-b1e3-46b9-8a5f-bdb829255d36",
   "metadata": {},
   "outputs": [],
   "source": [
    "colors = dict(zip(delta_co2flux.Month.unique(), ['powderblue', 'darkcyan', 'forestgreen', 'darkseagreen', \n",
    "                                                        'honeydew', 'bisque', 'khaki', 'gold', \n",
    "                                                        'sandybrown', 'lightcoral', 'chocolate', 'cadetblue']))"
   ]
  },
  {
   "cell_type": "code",
   "execution_count": null,
   "id": "3dd7623c-79db-4659-85de-09b81b4a1285",
   "metadata": {},
   "outputs": [],
   "source": [
    "fig, ax = plt.subplots(figsize=(20, 3))\n",
    "ax.plot_date(delta_co2flux.index, delta_co2flux.co2flux_cpl, '-', color=\"black\", linewidth=0.5, zorder=1)\n",
    "ax.scatter(delta_co2flux.index, delta_co2flux.co2flux_cpl, color=delta_co2flux.Month.map(lambda x: colors[x]), edgecolors='black',  linewidth=0.5, s=40)\n",
    "legend = [mpatches.Patch(facecolor = value, edgecolor = \"black\", label = key, alpha = 1) for key, value in colors.items()]\n",
    "ax.legend(handles = legend, bbox_to_anchor=(1, 1), loc='upper left', fontsize=9)\n",
    "ax.set_xlabel('Time', fontsize=14)\n",
    "ax.set_ylabel('Δ CO2 flux', fontsize=14)\n",
    "ax.set_title(\"Δ CO2 flux between Baseline and OAE scenario\", fontname=\"Helvetica\", fontsize=17, y=1.06)\n",
    "\n",
    "plt.savefig('/Users/chiaraciscato/Desktop/geomar/geomarcode/SSP1_2.6/CO2flux/figs/plt.savefig('EUCO2flux_Δ_monthly_mean.png')\n",
    "\n",
    "pass"
   ]
  }
 ],
 "metadata": {
  "kernelspec": {
   "display_name": "GEOMAR",
   "language": "python",
   "name": "geomar"
  },
  "language_info": {
   "codemirror_mode": {
    "name": "ipython",
    "version": 3
   },
   "file_extension": ".py",
   "mimetype": "text/x-python",
   "name": "python",
   "nbconvert_exporter": "python",
   "pygments_lexer": "ipython3",
   "version": "3.7.12"
  }
 },
 "nbformat": 4,
 "nbformat_minor": 5
}
