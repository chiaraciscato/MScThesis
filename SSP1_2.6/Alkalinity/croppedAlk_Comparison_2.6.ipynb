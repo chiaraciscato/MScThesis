{
 "cells": [
  {
   "cell_type": "raw",
   "id": "bf0490c0-3d0b-4eab-958c-b8c05d962f63",
   "metadata": {},
   "source": [
    "---\n",
    "title: \"cropped_Alk_Comparison_2.6\"\n",
    "author: \"cciscato\"\n",
    "date: \"15/02/2023\"\n",
    "format: \n",
    "  html:\n",
    "    embed-resources: true\n",
    "    theme:\n",
    "              light: flatly\n",
    "              dark: darkly\n",
    "    toc: true\n",
    "    code-fold: true\n",
    "execute:\n",
    "  warning: false\n",
    "jupyter: python3\n",
    "---"
   ]
  },
  {
   "cell_type": "code",
   "execution_count": 1,
   "id": "cf596712-2a14-4ae0-b394-ad0b313053b2",
   "metadata": {},
   "outputs": [],
   "source": [
    "import netCDF4 as nc\n",
    "from netCDF4 import Dataset\n",
    "import matplotlib as mpl\n",
    "import matplotlib.pyplot as plt\n",
    "import matplotlib.patches as mpatches\n",
    "from matplotlib.legend_handler import HandlerPatch\n",
    "import xarray as xr\n",
    "import numpy as np\n",
    "import pandas as pd\n",
    "import seaborn as sns\n",
    "import seaborn_image as isns\n",
    "import calendar"
   ]
  },
  {
   "cell_type": "code",
   "execution_count": 2,
   "id": "9bd519f6-70ed-4315-aaf8-a298e5a3e654",
   "metadata": {},
   "outputs": [],
   "source": [
    "import plotly.io as pio\n",
    "pio.renderers.default='jupyterlab'"
   ]
  },
  {
   "cell_type": "code",
   "execution_count": 3,
   "id": "1be9d20d-fe04-4b73-9f27-55b6bc8fce71",
   "metadata": {},
   "outputs": [],
   "source": [
    "plt.style.use('seaborn-pastel')\n",
    "isns.set_context(mode=\"notebook\", fontfamily=\"Times\")\n",
    "sns.set_context(font_scale=0.8)"
   ]
  },
  {
   "cell_type": "code",
   "execution_count": 4,
   "id": "52871f7e-6f5e-4024-a91b-be439bff12c7",
   "metadata": {},
   "outputs": [
    {
     "ename": "FileNotFoundError",
     "evalue": "[Errno 2] No such file or directory: b'/Users/chiaraciscato/Desktop/geomar/Cropped_DataTransfer/SSP1_2.6/Alkalinity/ALK_Baseline_2.6_weighted.nc'",
     "output_type": "error",
     "traceback": [
      "\u001b[0;31m---------------------------------------------------------------------------\u001b[0m",
      "\u001b[0;31mKeyError\u001b[0m                                  Traceback (most recent call last)",
      "\u001b[0;32m/opt/anaconda3/envs/geomar/lib/python3.7/site-packages/xarray/backends/file_manager.py\u001b[0m in \u001b[0;36m_acquire_with_cache_info\u001b[0;34m(self, needs_lock)\u001b[0m\n\u001b[1;32m    198\u001b[0m             \u001b[0;32mtry\u001b[0m\u001b[0;34m:\u001b[0m\u001b[0;34m\u001b[0m\u001b[0;34m\u001b[0m\u001b[0m\n\u001b[0;32m--> 199\u001b[0;31m                 \u001b[0mfile\u001b[0m \u001b[0;34m=\u001b[0m \u001b[0mself\u001b[0m\u001b[0;34m.\u001b[0m\u001b[0m_cache\u001b[0m\u001b[0;34m[\u001b[0m\u001b[0mself\u001b[0m\u001b[0;34m.\u001b[0m\u001b[0m_key\u001b[0m\u001b[0;34m]\u001b[0m\u001b[0;34m\u001b[0m\u001b[0;34m\u001b[0m\u001b[0m\n\u001b[0m\u001b[1;32m    200\u001b[0m             \u001b[0;32mexcept\u001b[0m \u001b[0mKeyError\u001b[0m\u001b[0;34m:\u001b[0m\u001b[0;34m\u001b[0m\u001b[0;34m\u001b[0m\u001b[0m\n",
      "\u001b[0;32m/opt/anaconda3/envs/geomar/lib/python3.7/site-packages/xarray/backends/lru_cache.py\u001b[0m in \u001b[0;36m__getitem__\u001b[0;34m(self, key)\u001b[0m\n\u001b[1;32m     52\u001b[0m         \u001b[0;32mwith\u001b[0m \u001b[0mself\u001b[0m\u001b[0;34m.\u001b[0m\u001b[0m_lock\u001b[0m\u001b[0;34m:\u001b[0m\u001b[0;34m\u001b[0m\u001b[0;34m\u001b[0m\u001b[0m\n\u001b[0;32m---> 53\u001b[0;31m             \u001b[0mvalue\u001b[0m \u001b[0;34m=\u001b[0m \u001b[0mself\u001b[0m\u001b[0;34m.\u001b[0m\u001b[0m_cache\u001b[0m\u001b[0;34m[\u001b[0m\u001b[0mkey\u001b[0m\u001b[0;34m]\u001b[0m\u001b[0;34m\u001b[0m\u001b[0;34m\u001b[0m\u001b[0m\n\u001b[0m\u001b[1;32m     54\u001b[0m             \u001b[0mself\u001b[0m\u001b[0;34m.\u001b[0m\u001b[0m_cache\u001b[0m\u001b[0;34m.\u001b[0m\u001b[0mmove_to_end\u001b[0m\u001b[0;34m(\u001b[0m\u001b[0mkey\u001b[0m\u001b[0;34m)\u001b[0m\u001b[0;34m\u001b[0m\u001b[0;34m\u001b[0m\u001b[0m\n",
      "\u001b[0;31mKeyError\u001b[0m: [<class 'netCDF4._netCDF4.Dataset'>, ('/Users/chiaraciscato/Desktop/geomar/Cropped_DataTransfer/SSP1_2.6/Alkalinity/ALK_Baseline_2.6_weighted.nc',), 'r', (('clobber', True), ('diskless', False), ('format', 'NETCDF4'), ('persist', False))]",
      "\nDuring handling of the above exception, another exception occurred:\n",
      "\u001b[0;31mFileNotFoundError\u001b[0m                         Traceback (most recent call last)",
      "\u001b[0;32m/var/folders/hq/35w1hmb96js9vgqq4730r3780000gn/T/ipykernel_11579/345174512.py\u001b[0m in \u001b[0;36m<module>\u001b[0;34m\u001b[0m\n\u001b[1;32m      1\u001b[0m data_baseline = xr.open_dataset('/Users/chiaraciscato/Desktop/geomar/Cropped_DataTransfer/SSP1_2.6/Alkalinity/ALK_Baseline_2.6_weighted.nc', \n\u001b[0;32m----> 2\u001b[0;31m                                 decode_times=True).sel(deptht=slice(0, 8))\n\u001b[0m",
      "\u001b[0;32m/opt/anaconda3/envs/geomar/lib/python3.7/site-packages/xarray/backends/api.py\u001b[0m in \u001b[0;36mopen_dataset\u001b[0;34m(filename_or_obj, engine, chunks, cache, decode_cf, mask_and_scale, decode_times, decode_timedelta, use_cftime, concat_characters, decode_coords, drop_variables, backend_kwargs, *args, **kwargs)\u001b[0m\n\u001b[1;32m    499\u001b[0m         \u001b[0mdrop_variables\u001b[0m\u001b[0;34m=\u001b[0m\u001b[0mdrop_variables\u001b[0m\u001b[0;34m,\u001b[0m\u001b[0;34m\u001b[0m\u001b[0;34m\u001b[0m\u001b[0m\n\u001b[1;32m    500\u001b[0m         \u001b[0;34m**\u001b[0m\u001b[0mdecoders\u001b[0m\u001b[0;34m,\u001b[0m\u001b[0;34m\u001b[0m\u001b[0;34m\u001b[0m\u001b[0m\n\u001b[0;32m--> 501\u001b[0;31m         \u001b[0;34m**\u001b[0m\u001b[0mkwargs\u001b[0m\u001b[0;34m,\u001b[0m\u001b[0;34m\u001b[0m\u001b[0;34m\u001b[0m\u001b[0m\n\u001b[0m\u001b[1;32m    502\u001b[0m     )\n\u001b[1;32m    503\u001b[0m     ds = _dataset_from_backend_dataset(\n",
      "\u001b[0;32m/opt/anaconda3/envs/geomar/lib/python3.7/site-packages/xarray/backends/netCDF4_.py\u001b[0m in \u001b[0;36mopen_dataset\u001b[0;34m(self, filename_or_obj, mask_and_scale, decode_times, concat_characters, decode_coords, drop_variables, use_cftime, decode_timedelta, group, mode, format, clobber, diskless, persist, lock, autoclose)\u001b[0m\n\u001b[1;32m    558\u001b[0m             \u001b[0mpersist\u001b[0m\u001b[0;34m=\u001b[0m\u001b[0mpersist\u001b[0m\u001b[0;34m,\u001b[0m\u001b[0;34m\u001b[0m\u001b[0;34m\u001b[0m\u001b[0m\n\u001b[1;32m    559\u001b[0m             \u001b[0mlock\u001b[0m\u001b[0;34m=\u001b[0m\u001b[0mlock\u001b[0m\u001b[0;34m,\u001b[0m\u001b[0;34m\u001b[0m\u001b[0;34m\u001b[0m\u001b[0m\n\u001b[0;32m--> 560\u001b[0;31m             \u001b[0mautoclose\u001b[0m\u001b[0;34m=\u001b[0m\u001b[0mautoclose\u001b[0m\u001b[0;34m,\u001b[0m\u001b[0;34m\u001b[0m\u001b[0;34m\u001b[0m\u001b[0m\n\u001b[0m\u001b[1;32m    561\u001b[0m         )\n\u001b[1;32m    562\u001b[0m \u001b[0;34m\u001b[0m\u001b[0m\n",
      "\u001b[0;32m/opt/anaconda3/envs/geomar/lib/python3.7/site-packages/xarray/backends/netCDF4_.py\u001b[0m in \u001b[0;36mopen\u001b[0;34m(cls, filename, mode, format, group, clobber, diskless, persist, lock, lock_maker, autoclose)\u001b[0m\n\u001b[1;32m    378\u001b[0m             \u001b[0mnetCDF4\u001b[0m\u001b[0;34m.\u001b[0m\u001b[0mDataset\u001b[0m\u001b[0;34m,\u001b[0m \u001b[0mfilename\u001b[0m\u001b[0;34m,\u001b[0m \u001b[0mmode\u001b[0m\u001b[0;34m=\u001b[0m\u001b[0mmode\u001b[0m\u001b[0;34m,\u001b[0m \u001b[0mkwargs\u001b[0m\u001b[0;34m=\u001b[0m\u001b[0mkwargs\u001b[0m\u001b[0;34m\u001b[0m\u001b[0;34m\u001b[0m\u001b[0m\n\u001b[1;32m    379\u001b[0m         )\n\u001b[0;32m--> 380\u001b[0;31m         \u001b[0;32mreturn\u001b[0m \u001b[0mcls\u001b[0m\u001b[0;34m(\u001b[0m\u001b[0mmanager\u001b[0m\u001b[0;34m,\u001b[0m \u001b[0mgroup\u001b[0m\u001b[0;34m=\u001b[0m\u001b[0mgroup\u001b[0m\u001b[0;34m,\u001b[0m \u001b[0mmode\u001b[0m\u001b[0;34m=\u001b[0m\u001b[0mmode\u001b[0m\u001b[0;34m,\u001b[0m \u001b[0mlock\u001b[0m\u001b[0;34m=\u001b[0m\u001b[0mlock\u001b[0m\u001b[0;34m,\u001b[0m \u001b[0mautoclose\u001b[0m\u001b[0;34m=\u001b[0m\u001b[0mautoclose\u001b[0m\u001b[0;34m)\u001b[0m\u001b[0;34m\u001b[0m\u001b[0;34m\u001b[0m\u001b[0m\n\u001b[0m\u001b[1;32m    381\u001b[0m \u001b[0;34m\u001b[0m\u001b[0m\n\u001b[1;32m    382\u001b[0m     \u001b[0;32mdef\u001b[0m \u001b[0m_acquire\u001b[0m\u001b[0;34m(\u001b[0m\u001b[0mself\u001b[0m\u001b[0;34m,\u001b[0m \u001b[0mneeds_lock\u001b[0m\u001b[0;34m=\u001b[0m\u001b[0;32mTrue\u001b[0m\u001b[0;34m)\u001b[0m\u001b[0;34m:\u001b[0m\u001b[0;34m\u001b[0m\u001b[0;34m\u001b[0m\u001b[0m\n",
      "\u001b[0;32m/opt/anaconda3/envs/geomar/lib/python3.7/site-packages/xarray/backends/netCDF4_.py\u001b[0m in \u001b[0;36m__init__\u001b[0;34m(self, manager, group, mode, lock, autoclose)\u001b[0m\n\u001b[1;32m    326\u001b[0m         \u001b[0mself\u001b[0m\u001b[0;34m.\u001b[0m\u001b[0m_group\u001b[0m \u001b[0;34m=\u001b[0m \u001b[0mgroup\u001b[0m\u001b[0;34m\u001b[0m\u001b[0;34m\u001b[0m\u001b[0m\n\u001b[1;32m    327\u001b[0m         \u001b[0mself\u001b[0m\u001b[0;34m.\u001b[0m\u001b[0m_mode\u001b[0m \u001b[0;34m=\u001b[0m \u001b[0mmode\u001b[0m\u001b[0;34m\u001b[0m\u001b[0;34m\u001b[0m\u001b[0m\n\u001b[0;32m--> 328\u001b[0;31m         \u001b[0mself\u001b[0m\u001b[0;34m.\u001b[0m\u001b[0mformat\u001b[0m \u001b[0;34m=\u001b[0m \u001b[0mself\u001b[0m\u001b[0;34m.\u001b[0m\u001b[0mds\u001b[0m\u001b[0;34m.\u001b[0m\u001b[0mdata_model\u001b[0m\u001b[0;34m\u001b[0m\u001b[0;34m\u001b[0m\u001b[0m\n\u001b[0m\u001b[1;32m    329\u001b[0m         \u001b[0mself\u001b[0m\u001b[0;34m.\u001b[0m\u001b[0m_filename\u001b[0m \u001b[0;34m=\u001b[0m \u001b[0mself\u001b[0m\u001b[0;34m.\u001b[0m\u001b[0mds\u001b[0m\u001b[0;34m.\u001b[0m\u001b[0mfilepath\u001b[0m\u001b[0;34m(\u001b[0m\u001b[0;34m)\u001b[0m\u001b[0;34m\u001b[0m\u001b[0;34m\u001b[0m\u001b[0m\n\u001b[1;32m    330\u001b[0m         \u001b[0mself\u001b[0m\u001b[0;34m.\u001b[0m\u001b[0mis_remote\u001b[0m \u001b[0;34m=\u001b[0m \u001b[0mis_remote_uri\u001b[0m\u001b[0;34m(\u001b[0m\u001b[0mself\u001b[0m\u001b[0;34m.\u001b[0m\u001b[0m_filename\u001b[0m\u001b[0;34m)\u001b[0m\u001b[0;34m\u001b[0m\u001b[0;34m\u001b[0m\u001b[0m\n",
      "\u001b[0;32m/opt/anaconda3/envs/geomar/lib/python3.7/site-packages/xarray/backends/netCDF4_.py\u001b[0m in \u001b[0;36mds\u001b[0;34m(self)\u001b[0m\n\u001b[1;32m    387\u001b[0m     \u001b[0;34m@\u001b[0m\u001b[0mproperty\u001b[0m\u001b[0;34m\u001b[0m\u001b[0;34m\u001b[0m\u001b[0m\n\u001b[1;32m    388\u001b[0m     \u001b[0;32mdef\u001b[0m \u001b[0mds\u001b[0m\u001b[0;34m(\u001b[0m\u001b[0mself\u001b[0m\u001b[0;34m)\u001b[0m\u001b[0;34m:\u001b[0m\u001b[0;34m\u001b[0m\u001b[0;34m\u001b[0m\u001b[0m\n\u001b[0;32m--> 389\u001b[0;31m         \u001b[0;32mreturn\u001b[0m \u001b[0mself\u001b[0m\u001b[0;34m.\u001b[0m\u001b[0m_acquire\u001b[0m\u001b[0;34m(\u001b[0m\u001b[0;34m)\u001b[0m\u001b[0;34m\u001b[0m\u001b[0;34m\u001b[0m\u001b[0m\n\u001b[0m\u001b[1;32m    390\u001b[0m \u001b[0;34m\u001b[0m\u001b[0m\n\u001b[1;32m    391\u001b[0m     \u001b[0;32mdef\u001b[0m \u001b[0mopen_store_variable\u001b[0m\u001b[0;34m(\u001b[0m\u001b[0mself\u001b[0m\u001b[0;34m,\u001b[0m \u001b[0mname\u001b[0m\u001b[0;34m,\u001b[0m \u001b[0mvar\u001b[0m\u001b[0;34m)\u001b[0m\u001b[0;34m:\u001b[0m\u001b[0;34m\u001b[0m\u001b[0;34m\u001b[0m\u001b[0m\n",
      "\u001b[0;32m/opt/anaconda3/envs/geomar/lib/python3.7/site-packages/xarray/backends/netCDF4_.py\u001b[0m in \u001b[0;36m_acquire\u001b[0;34m(self, needs_lock)\u001b[0m\n\u001b[1;32m    381\u001b[0m \u001b[0;34m\u001b[0m\u001b[0m\n\u001b[1;32m    382\u001b[0m     \u001b[0;32mdef\u001b[0m \u001b[0m_acquire\u001b[0m\u001b[0;34m(\u001b[0m\u001b[0mself\u001b[0m\u001b[0;34m,\u001b[0m \u001b[0mneeds_lock\u001b[0m\u001b[0;34m=\u001b[0m\u001b[0;32mTrue\u001b[0m\u001b[0;34m)\u001b[0m\u001b[0;34m:\u001b[0m\u001b[0;34m\u001b[0m\u001b[0;34m\u001b[0m\u001b[0m\n\u001b[0;32m--> 383\u001b[0;31m         \u001b[0;32mwith\u001b[0m \u001b[0mself\u001b[0m\u001b[0;34m.\u001b[0m\u001b[0m_manager\u001b[0m\u001b[0;34m.\u001b[0m\u001b[0macquire_context\u001b[0m\u001b[0;34m(\u001b[0m\u001b[0mneeds_lock\u001b[0m\u001b[0;34m)\u001b[0m \u001b[0;32mas\u001b[0m \u001b[0mroot\u001b[0m\u001b[0;34m:\u001b[0m\u001b[0;34m\u001b[0m\u001b[0;34m\u001b[0m\u001b[0m\n\u001b[0m\u001b[1;32m    384\u001b[0m             \u001b[0mds\u001b[0m \u001b[0;34m=\u001b[0m \u001b[0m_nc4_require_group\u001b[0m\u001b[0;34m(\u001b[0m\u001b[0mroot\u001b[0m\u001b[0;34m,\u001b[0m \u001b[0mself\u001b[0m\u001b[0;34m.\u001b[0m\u001b[0m_group\u001b[0m\u001b[0;34m,\u001b[0m \u001b[0mself\u001b[0m\u001b[0;34m.\u001b[0m\u001b[0m_mode\u001b[0m\u001b[0;34m)\u001b[0m\u001b[0;34m\u001b[0m\u001b[0;34m\u001b[0m\u001b[0m\n\u001b[1;32m    385\u001b[0m         \u001b[0;32mreturn\u001b[0m \u001b[0mds\u001b[0m\u001b[0;34m\u001b[0m\u001b[0;34m\u001b[0m\u001b[0m\n",
      "\u001b[0;32m/opt/anaconda3/envs/geomar/lib/python3.7/contextlib.py\u001b[0m in \u001b[0;36m__enter__\u001b[0;34m(self)\u001b[0m\n\u001b[1;32m    110\u001b[0m         \u001b[0;32mdel\u001b[0m \u001b[0mself\u001b[0m\u001b[0;34m.\u001b[0m\u001b[0margs\u001b[0m\u001b[0;34m,\u001b[0m \u001b[0mself\u001b[0m\u001b[0;34m.\u001b[0m\u001b[0mkwds\u001b[0m\u001b[0;34m,\u001b[0m \u001b[0mself\u001b[0m\u001b[0;34m.\u001b[0m\u001b[0mfunc\u001b[0m\u001b[0;34m\u001b[0m\u001b[0;34m\u001b[0m\u001b[0m\n\u001b[1;32m    111\u001b[0m         \u001b[0;32mtry\u001b[0m\u001b[0;34m:\u001b[0m\u001b[0;34m\u001b[0m\u001b[0;34m\u001b[0m\u001b[0m\n\u001b[0;32m--> 112\u001b[0;31m             \u001b[0;32mreturn\u001b[0m \u001b[0mnext\u001b[0m\u001b[0;34m(\u001b[0m\u001b[0mself\u001b[0m\u001b[0;34m.\u001b[0m\u001b[0mgen\u001b[0m\u001b[0;34m)\u001b[0m\u001b[0;34m\u001b[0m\u001b[0;34m\u001b[0m\u001b[0m\n\u001b[0m\u001b[1;32m    113\u001b[0m         \u001b[0;32mexcept\u001b[0m \u001b[0mStopIteration\u001b[0m\u001b[0;34m:\u001b[0m\u001b[0;34m\u001b[0m\u001b[0;34m\u001b[0m\u001b[0m\n\u001b[1;32m    114\u001b[0m             \u001b[0;32mraise\u001b[0m \u001b[0mRuntimeError\u001b[0m\u001b[0;34m(\u001b[0m\u001b[0;34m\"generator didn't yield\"\u001b[0m\u001b[0;34m)\u001b[0m \u001b[0;32mfrom\u001b[0m \u001b[0;32mNone\u001b[0m\u001b[0;34m\u001b[0m\u001b[0;34m\u001b[0m\u001b[0m\n",
      "\u001b[0;32m/opt/anaconda3/envs/geomar/lib/python3.7/site-packages/xarray/backends/file_manager.py\u001b[0m in \u001b[0;36macquire_context\u001b[0;34m(self, needs_lock)\u001b[0m\n\u001b[1;32m    185\u001b[0m     \u001b[0;32mdef\u001b[0m \u001b[0macquire_context\u001b[0m\u001b[0;34m(\u001b[0m\u001b[0mself\u001b[0m\u001b[0;34m,\u001b[0m \u001b[0mneeds_lock\u001b[0m\u001b[0;34m=\u001b[0m\u001b[0;32mTrue\u001b[0m\u001b[0;34m)\u001b[0m\u001b[0;34m:\u001b[0m\u001b[0;34m\u001b[0m\u001b[0;34m\u001b[0m\u001b[0m\n\u001b[1;32m    186\u001b[0m         \u001b[0;34m\"\"\"Context manager for acquiring a file.\"\"\"\u001b[0m\u001b[0;34m\u001b[0m\u001b[0;34m\u001b[0m\u001b[0m\n\u001b[0;32m--> 187\u001b[0;31m         \u001b[0mfile\u001b[0m\u001b[0;34m,\u001b[0m \u001b[0mcached\u001b[0m \u001b[0;34m=\u001b[0m \u001b[0mself\u001b[0m\u001b[0;34m.\u001b[0m\u001b[0m_acquire_with_cache_info\u001b[0m\u001b[0;34m(\u001b[0m\u001b[0mneeds_lock\u001b[0m\u001b[0;34m)\u001b[0m\u001b[0;34m\u001b[0m\u001b[0;34m\u001b[0m\u001b[0m\n\u001b[0m\u001b[1;32m    188\u001b[0m         \u001b[0;32mtry\u001b[0m\u001b[0;34m:\u001b[0m\u001b[0;34m\u001b[0m\u001b[0;34m\u001b[0m\u001b[0m\n\u001b[1;32m    189\u001b[0m             \u001b[0;32myield\u001b[0m \u001b[0mfile\u001b[0m\u001b[0;34m\u001b[0m\u001b[0;34m\u001b[0m\u001b[0m\n",
      "\u001b[0;32m/opt/anaconda3/envs/geomar/lib/python3.7/site-packages/xarray/backends/file_manager.py\u001b[0m in \u001b[0;36m_acquire_with_cache_info\u001b[0;34m(self, needs_lock)\u001b[0m\n\u001b[1;32m    203\u001b[0m                     \u001b[0mkwargs\u001b[0m \u001b[0;34m=\u001b[0m \u001b[0mkwargs\u001b[0m\u001b[0;34m.\u001b[0m\u001b[0mcopy\u001b[0m\u001b[0;34m(\u001b[0m\u001b[0;34m)\u001b[0m\u001b[0;34m\u001b[0m\u001b[0;34m\u001b[0m\u001b[0m\n\u001b[1;32m    204\u001b[0m                     \u001b[0mkwargs\u001b[0m\u001b[0;34m[\u001b[0m\u001b[0;34m\"mode\"\u001b[0m\u001b[0;34m]\u001b[0m \u001b[0;34m=\u001b[0m \u001b[0mself\u001b[0m\u001b[0;34m.\u001b[0m\u001b[0m_mode\u001b[0m\u001b[0;34m\u001b[0m\u001b[0;34m\u001b[0m\u001b[0m\n\u001b[0;32m--> 205\u001b[0;31m                 \u001b[0mfile\u001b[0m \u001b[0;34m=\u001b[0m \u001b[0mself\u001b[0m\u001b[0;34m.\u001b[0m\u001b[0m_opener\u001b[0m\u001b[0;34m(\u001b[0m\u001b[0;34m*\u001b[0m\u001b[0mself\u001b[0m\u001b[0;34m.\u001b[0m\u001b[0m_args\u001b[0m\u001b[0;34m,\u001b[0m \u001b[0;34m**\u001b[0m\u001b[0mkwargs\u001b[0m\u001b[0;34m)\u001b[0m\u001b[0;34m\u001b[0m\u001b[0;34m\u001b[0m\u001b[0m\n\u001b[0m\u001b[1;32m    206\u001b[0m                 \u001b[0;32mif\u001b[0m \u001b[0mself\u001b[0m\u001b[0;34m.\u001b[0m\u001b[0m_mode\u001b[0m \u001b[0;34m==\u001b[0m \u001b[0;34m\"w\"\u001b[0m\u001b[0;34m:\u001b[0m\u001b[0;34m\u001b[0m\u001b[0;34m\u001b[0m\u001b[0m\n\u001b[1;32m    207\u001b[0m                     \u001b[0;31m# ensure file doesn't get overriden when opened again\u001b[0m\u001b[0;34m\u001b[0m\u001b[0;34m\u001b[0m\u001b[0;34m\u001b[0m\u001b[0m\n",
      "\u001b[0;32mnetCDF4/_netCDF4.pyx\u001b[0m in \u001b[0;36mnetCDF4._netCDF4.Dataset.__init__\u001b[0;34m()\u001b[0m\n",
      "\u001b[0;32mnetCDF4/_netCDF4.pyx\u001b[0m in \u001b[0;36mnetCDF4._netCDF4._ensure_nc_success\u001b[0;34m()\u001b[0m\n",
      "\u001b[0;31mFileNotFoundError\u001b[0m: [Errno 2] No such file or directory: b'/Users/chiaraciscato/Desktop/geomar/Cropped_DataTransfer/SSP1_2.6/Alkalinity/ALK_Baseline_2.6_weighted.nc'"
     ]
    }
   ],
   "source": [
    "data_baseline = xr.open_dataset('/Users/chiaraciscato/Desktop/geomar/Cropped_DataTransfer/SSP1_2.6/Alkalinity/ALK_Baseline_2.6_weighted.nc', \n",
    "                                decode_times=True).sel(deptht=slice(0, 8))"
   ]
  },
  {
   "cell_type": "code",
   "execution_count": null,
   "id": "611825c8-8ade-42d7-a98b-e6618be944ba",
   "metadata": {},
   "outputs": [],
   "source": [
    "data_oae = xr.open_dataset('/Users/chiaraciscato/Desktop/geomar/Cropped_DataTransfer/SSP1_2.6/Alkalinity/ALK_oae_2.6_weighted.nc', \n",
    "                           decode_times=True).sel(deptht=slice(0, 8))"
   ]
  },
  {
   "cell_type": "markdown",
   "id": "01697dc9-7236-403d-8308-7cf795d4025c",
   "metadata": {
    "tags": []
   },
   "source": [
    "### EU Average of Alkalinity"
   ]
  },
  {
   "cell_type": "code",
   "execution_count": null,
   "id": "350d49b1-1b9d-4968-818f-4a44e2c92a0d",
   "metadata": {},
   "outputs": [],
   "source": [
    "sliced_frame_baseline = data_baseline.sel(time_counter=slice('2090', '2100'))"
   ]
  },
  {
   "cell_type": "code",
   "execution_count": null,
   "id": "5f2e3083-332b-480f-b4f7-0ab90b9dd0a4",
   "metadata": {},
   "outputs": [],
   "source": [
    "sliced_frame_oae = data_oae.sel(time_counter=slice('2090', '2100'))"
   ]
  },
  {
   "cell_type": "code",
   "execution_count": null,
   "id": "10b4d1f0-d405-432d-b4ac-54d732c5e26e",
   "metadata": {
    "tags": []
   },
   "outputs": [],
   "source": [
    "data_baseline_plot = (data_baseline.ALK.mean(dim=('deptht'))).to_dataset(name='ALK')\n",
    "data_oae_plot = (data_oae.ALK.mean(dim=('deptht'))).to_dataset(name='ALK')"
   ]
  },
  {
   "cell_type": "code",
   "execution_count": null,
   "id": "0c4d0d99-c712-4851-84ba-c52d68f6f19f",
   "metadata": {},
   "outputs": [],
   "source": [
    "plt.figure(figsize=(20, 3))\n",
    "plt.plot(data_baseline_plot.time_counter, data_baseline_plot.ALK, linewidth=2, label = 'Baseline')\n",
    "plt.plot(data_oae_plot.time_counter, data_oae_plot.ALK, linewidth=2, label = 'OAE')\n",
    "plt.xlabel(\"Time\", fontsize=14)\n",
    "plt.ylabel(\"Alkalinity [mmol/m3]\", fontsize=14)\n",
    "plt.legend(bbox_to_anchor=(1, 1), loc='upper left', fontsize=14)\n",
    "plt.title('EU Average of Alkalinity', fontname=\"Times\", fontsize=17, y=1.06)\n",
    "plt.show()"
   ]
  },
  {
   "cell_type": "code",
   "execution_count": null,
   "id": "f3f8d8d3-b06d-4be3-8fa0-4d02cb0164cb",
   "metadata": {
    "tags": []
   },
   "outputs": [],
   "source": [
    "sliced_frame_baseline_plot = (sliced_frame_baseline.ALK.mean(dim=('deptht'))).to_dataset(name='ALK')\n",
    "sliced_frame_oae_plot = (sliced_frame_oae.ALK.mean(dim=('deptht'))).to_dataset(name='ALK')"
   ]
  },
  {
   "cell_type": "code",
   "execution_count": null,
   "id": "d096a318-f5e1-4be4-8a02-59edfd4e41c2",
   "metadata": {},
   "outputs": [],
   "source": [
    "plt.figure(figsize=(20, 3))\n",
    "plt.plot(sliced_frame_baseline_plot.time_counter, sliced_frame_baseline_plot.ALK, linewidth=2, label = 'Baseline')\n",
    "plt.plot(sliced_frame_oae_plot.time_counter, sliced_frame_oae_plot.ALK, linewidth=2, label = 'OAE')\n",
    "plt.xlabel(\"Time\", fontsize=14)\n",
    "plt.ylabel(\"Alkalinity [mmol/m3]\", fontsize=14)\n",
    "plt.legend(bbox_to_anchor=(1, 1), loc='upper left', fontsize=14)\n",
    "plt.title('EU Average of Alkalinity', fontsize=17, y=1.06)\n",
    "plt.show()"
   ]
  },
  {
   "cell_type": "markdown",
   "id": "c4cc877f-6323-4707-a8ed-14b9d99d6364",
   "metadata": {},
   "source": [
    "### Unweighted EU Seasonal Average of Alkalinity"
   ]
  },
  {
   "cell_type": "code",
   "execution_count": null,
   "id": "ec389c8b-c3ba-4ed2-a994-038b42fe274f",
   "metadata": {},
   "outputs": [],
   "source": [
    "# condition\n",
    "\n",
    "start_date = \"2090-01-01\"\n",
    "end_date = \"2100-01-01\""
   ]
  },
  {
   "cell_type": "code",
   "execution_count": null,
   "id": "7f0874b7-2738-441a-9f4d-6141723d21e9",
   "metadata": {},
   "outputs": [],
   "source": [
    "alk_baseline = data_baseline[\"ALK\"].sel(time_counter=slice(start_date, end_date))"
   ]
  },
  {
   "cell_type": "code",
   "execution_count": null,
   "id": "3202e92b-daf9-48a5-8ca7-eb79961a417f",
   "metadata": {},
   "outputs": [],
   "source": [
    "alk_season_mean_all_years_baseline = alk_baseline.resample(time_counter='QS-DEC').mean(keep_attrs=True) # resample quarterly, starting on December 1 ('QS-DEC')\n",
    "alk_seasonal_mean_baseline = alk_season_mean_all_years_baseline.groupby('time_counter').mean([\"deptht\"])"
   ]
  },
  {
   "cell_type": "code",
   "execution_count": null,
   "id": "534608bc-f7ce-4fb6-a7a3-56ab1e606909",
   "metadata": {},
   "outputs": [],
   "source": [
    "alk_oae = data_oae[\"ALK\"].sel(time_counter=slice(start_date, end_date))"
   ]
  },
  {
   "cell_type": "code",
   "execution_count": null,
   "id": "27c1ee76-5ee1-4dc9-abfa-acdcd19b3b26",
   "metadata": {},
   "outputs": [],
   "source": [
    "alk_season_mean_all_years_oae = alk_oae.resample(time_counter='QS-DEC').mean(keep_attrs=True)\n",
    "alk_seasonal_mean_oae = alk_season_mean_all_years_oae.groupby('time_counter').mean([\"deptht\"])"
   ]
  },
  {
   "cell_type": "code",
   "execution_count": null,
   "id": "a9c6b2c4-7e40-49cf-95f1-69cbb20152bf",
   "metadata": {},
   "outputs": [],
   "source": [
    "f, ax = plt.subplots(figsize=(20, 3))\n",
    "\n",
    "alk_seasonal_mean_baseline.plot(marker=\"o\", markersize=7, markeredgewidth=0.5,\n",
    "                        color=\"black\", linewidth=0.5,\n",
    "                        markerfacecolor=\"lightskyblue\", \n",
    "                        markeredgecolor=\"black\", \n",
    "                        label = 'Baseline')\n",
    "\n",
    "alk_seasonal_mean_oae.plot(marker=\"o\", markersize=7, markeredgewidth=0.5,\n",
    "                        color=\"black\", linewidth=0.5, \n",
    "                        markerfacecolor=\"lightgreen\",\n",
    "                        markeredgecolor=\"black\", \n",
    "                        label = 'OAE')\n",
    "ax.set_title(\"Unweighted EU Seasonal Average of Alkalinity\", fontsize= 17, y=1.06)\n",
    "\n",
    "plt.xlabel(\"Time\", fontsize=14)\n",
    "plt.ylabel(\"Alkalinity [mmol/m3]\", fontsize=14)\n",
    "plt.legend(bbox_to_anchor=(1, 1), loc='upper left', fontsize=14)\n",
    "plt.show()"
   ]
  },
  {
   "cell_type": "markdown",
   "id": "2ff893fb-0a5b-4597-ad6a-3eb1113c700d",
   "metadata": {},
   "source": [
    "### Weighted EU Seasonal Average of Alkalinity"
   ]
  },
  {
   "cell_type": "code",
   "execution_count": null,
   "id": "3ddc6878-22c3-4137-a847-c97b02b7e8b3",
   "metadata": {},
   "outputs": [],
   "source": [
    "# calculate month length in days\n",
    "# (resample dataset by season) / (number of days in each season)\n",
    "# average over lon, lat and depth"
   ]
  },
  {
   "cell_type": "code",
   "execution_count": null,
   "id": "52cb1bb1-7316-4e42-befd-3d103b6b8dd6",
   "metadata": {},
   "outputs": [],
   "source": [
    "month_length_baseline = alk_baseline.time_counter.dt.days_in_month\n",
    "alk_weighted_mean_baseline = ((alk_baseline * month_length_baseline).resample(time_counter='QS-DEC').sum() / month_length_baseline.resample(time_counter='QS-DEC').sum())\n",
    "alk_weighted_season_baseline = (alk_weighted_mean_baseline.where(alk_weighted_mean_baseline)).mean([\"deptht\"])"
   ]
  },
  {
   "cell_type": "code",
   "execution_count": null,
   "id": "6ef3fb02-efe9-42b2-9acb-32b9c008c443",
   "metadata": {},
   "outputs": [],
   "source": [
    "month_length_oae = alk_oae.time_counter.dt.days_in_month\n",
    "alk_weighted_mean_oae = ((alk_oae * month_length_oae).resample(time_counter='QS-DEC').sum() / month_length_oae.resample(time_counter='QS-DEC').sum())\n",
    "alk_weighted_season_oae = (alk_weighted_mean_oae.where(alk_weighted_mean_oae)).mean([\"deptht\"])"
   ]
  },
  {
   "cell_type": "code",
   "execution_count": null,
   "id": "abeca0d1-1a2f-49fa-a0c0-1bb876e7f929",
   "metadata": {},
   "outputs": [],
   "source": [
    "f, ax = plt.subplots(figsize=(20, 3))\n",
    "alk_weighted_season_baseline.plot(marker=\"o\", markersize=7, markeredgewidth=0.5,\n",
    "                        color=\"black\", linewidth=0.5, \n",
    "                        markerfacecolor=\"lightskyblue\",\n",
    "                        markeredgecolor=\"black\", \n",
    "                        label = 'Baseline')\n",
    "\n",
    "alk_weighted_season_oae.plot(marker=\"o\", markersize=7, markeredgewidth=0.5,\n",
    "                        color=\"black\", linewidth=0.5, \n",
    "                        markerfacecolor=\"lightgreen\",\n",
    "                        markeredgecolor=\"black\", \n",
    "                        label = 'OAE')\n",
    "ax.set_title(\"Weighted EU Seasonal Average of Alkalinity\", fontsize=17, y=1.06)\n",
    "\n",
    "plt.xlabel(\"Time\", fontsize=14)\n",
    "plt.ylabel(\"Alkalinity [mmol/m3]\", fontsize=14)\n",
    "plt.legend(bbox_to_anchor=(1, 1), loc='upper left', fontsize=14)\n",
    "plt.show()"
   ]
  },
  {
   "cell_type": "markdown",
   "id": "faddc49b-6c90-46aa-9481-53289227aba6",
   "metadata": {},
   "source": [
    "### Weighted EU Seasonal Average of Alkalinity (seasons displayed)"
   ]
  },
  {
   "cell_type": "code",
   "execution_count": null,
   "id": "519467a7-c893-45ac-8bcd-67535a4770ef",
   "metadata": {},
   "outputs": [],
   "source": [
    "# condition\n",
    "\n",
    "colors = {3: \"lightgreen\", 6: \"orange\", 9: \"brown\", 12: \"lightblue\"}\n",
    "seasons = {3: \"Spring\", 6: \"Summer\", 9: \"Fall\", 12: \"Winter\"}"
   ]
  },
  {
   "cell_type": "code",
   "execution_count": null,
   "id": "bb9ea00b-36e4-4044-81c9-e321adf56dd5",
   "metadata": {},
   "outputs": [],
   "source": [
    "f, (ax1, ax2) = plt.subplots(2, 1, figsize=(20, 8), sharey=False)\n",
    "for month, arr in alk_weighted_season_baseline.groupby('time_counter.month'):\n",
    "    arr.plot(ax=ax1,\n",
    "             color=\"black\", linewidth=0.5, \n",
    "             marker=\"o\", markersize=8, markeredgewidth=0.5,\n",
    "             markerfacecolor=colors[month],\n",
    "             markeredgecolor='black',\n",
    "             label=seasons[month])\n",
    "\n",
    "ax1.legend(bbox_to_anchor=(1, 1), loc='upper left', fontsize=14)\n",
    "ax1.set_title(\"Weighted EU Seasonal Average of Alkalinity without OAE\", fontsize=17, y=1.06)\n",
    "ax1.set_xlabel('Time', fontsize=14)\n",
    "ax1.set_ylabel('Alkalinity [mmol/m3]', fontsize=14)\n",
    "\n",
    "for month, arr in alk_weighted_season_oae.groupby('time_counter.month'):\n",
    "    arr.plot(ax=ax2,\n",
    "             color=\"black\", linewidth=0.5, \n",
    "             marker=\"o\", markersize=8, markeredgewidth=0.5,\n",
    "             markerfacecolor=colors[month],\n",
    "             markeredgecolor='black',\n",
    "             label=seasons[month])\n",
    "\n",
    "ax2.legend(bbox_to_anchor=(1, 1), loc='upper left', fontsize=14)\n",
    "ax2.set_title(\"Weighted EU Seasonal Average of Alkalinity with OAE\", fontsize=17, y=1.06)\n",
    "ax2.set_xlabel('Time', fontsize=14)\n",
    "ax2.set_ylabel('Alkalinity [mmol/m3]', fontsize=14)\n",
    "f.tight_layout()\n",
    "plt.show()"
   ]
  },
  {
   "cell_type": "code",
   "execution_count": null,
   "id": "21931c93-2244-4e67-9734-8ac4062dbc37",
   "metadata": {},
   "outputs": [],
   "source": [
    "# define handlers for future legends"
   ]
  },
  {
   "cell_type": "code",
   "execution_count": null,
   "id": "58d26ffd-de31-486a-8260-6aab5a977bd1",
   "metadata": {},
   "outputs": [],
   "source": [
    "class HandlerEllipse(HandlerPatch):\n",
    "    def create_artists(self, legend, orig_handle,\n",
    "                       xdescent, ydescent, width, height, fontsize, trans):\n",
    "        center = 0.5 * width - 0.5 * xdescent, 0.5 * height - 0.5 * ydescent\n",
    "        p = mpatches.Ellipse(xy=center, width=height + xdescent,\n",
    "                             height=height + ydescent)\n",
    "        self.update_prop(p, orig_handle, legend)\n",
    "        p.set_transform(trans)\n",
    "        return [p]"
   ]
  },
  {
   "cell_type": "markdown",
   "id": "d006d875-cb33-4d26-9ec8-e192ca37d340",
   "metadata": {},
   "source": [
    "### Weighted EU Seasonal Average of Alkalinity without OAE (seasons displayed)"
   ]
  },
  {
   "cell_type": "code",
   "execution_count": null,
   "id": "e825c63c-af9f-4fe4-85c8-4bbbca8ebddf",
   "metadata": {},
   "outputs": [],
   "source": [
    "alk_weighted_baseline = alk_weighted_season_baseline.to_dataframe('alk')"
   ]
  },
  {
   "cell_type": "code",
   "execution_count": null,
   "id": "75075f0c-be34-4cc5-b36c-4cbfa17f62f4",
   "metadata": {},
   "outputs": [],
   "source": [
    "alk_weighted_baseline['Month'] = pd.DatetimeIndex(alk_weighted_baseline.index).month # take only month for each value"
   ]
  },
  {
   "cell_type": "code",
   "execution_count": null,
   "id": "c8f114a6-9060-488f-83f0-0c3c5b44aa0b",
   "metadata": {},
   "outputs": [],
   "source": [
    "# condition\n",
    "\n",
    "conditions_season = [\n",
    "    (alk_weighted_baseline['Month'] == 3),\n",
    "    (alk_weighted_baseline['Month'] == 6),\n",
    "    (alk_weighted_baseline['Month'] == 9),\n",
    "    (alk_weighted_baseline['Month'] == 12)\n",
    "]\n",
    "\n",
    "values_season = ['Spring', 'Summer', 'Fall', 'Winter']\n",
    "\n",
    "alk_weighted_baseline['Month'] = np.select(conditions_season, values_season) # assign each month to corresponding starting season "
   ]
  },
  {
   "cell_type": "code",
   "execution_count": null,
   "id": "a76b2dcd-8786-4c13-b87e-ca6966ec94b3",
   "metadata": {},
   "outputs": [],
   "source": [
    "# condition\n",
    "\n",
    "colors_season = dict(zip(alk_weighted_baseline.Month.unique(), ['paleturquoise', 'darkseagreen', 'gold', 'lightcoral']))"
   ]
  },
  {
   "cell_type": "code",
   "execution_count": null,
   "id": "652f41a0-60da-4e89-b99c-781eb0b12d9a",
   "metadata": {},
   "outputs": [],
   "source": [
    "fig, ax = plt.subplots(figsize=(20, 3))\n",
    "ax.plot_date(alk_weighted_baseline.index, alk_weighted_baseline.alk, '-', color=\"black\", linewidth=0.5, zorder=1)\n",
    "ax.scatter(alk_weighted_baseline.index, alk_weighted_baseline.alk, color=alk_weighted_baseline.Month.map(lambda x: colors_season[x]), edgecolors='black', linewidth=0.5, s=70)\n",
    "\n",
    "legend = [mpatches.Circle((0.5, 0.5), 1, facecolor = value, edgecolor = \"black\", linewidth=0.5, label = key, alpha = 1) for key, value in colors_season.items()]\n",
    "ax.legend(handles = legend, bbox_to_anchor=(1, 1), loc='best', columnspacing=0.05, handletextpad=0.4, fontsize=12, ncol = 1, handler_map={mpatches.Circle: HandlerEllipse()})\n",
    "\n",
    "ax.set_xlabel('Time', fontsize=14)\n",
    "ax.set_ylabel('Alkalinity [mmol/m3]', fontsize=14)\n",
    "ax.set_title(\"Weighted EU Seasonal Average of Alkalinity without OAE\", fontsize=17, y=1.06)\n",
    "\n",
    "pass"
   ]
  },
  {
   "cell_type": "markdown",
   "id": "b6ad11fc-c6a5-4e91-b13c-bd786345ebc9",
   "metadata": {},
   "source": [
    "### Weighted EU Seasonal Average of Alkalinity with OAE (seasons displayed)"
   ]
  },
  {
   "cell_type": "code",
   "execution_count": null,
   "id": "1f2879ce-93b7-4e64-96dc-41f746391f8c",
   "metadata": {},
   "outputs": [],
   "source": [
    "alk_weighted_oae = alk_weighted_season_oae.to_dataframe('alk')\n",
    "alk_weighted_oae['Month'] = pd.DatetimeIndex(alk_weighted_oae.index).month"
   ]
  },
  {
   "cell_type": "code",
   "execution_count": null,
   "id": "23254257-3354-4a72-be8b-7cba2a9341ad",
   "metadata": {},
   "outputs": [],
   "source": [
    "alk_weighted_oae['Month'] = np.select(conditions_season, values_season)"
   ]
  },
  {
   "cell_type": "code",
   "execution_count": null,
   "id": "499132f3-20a3-472b-b2e3-57902717404b",
   "metadata": {},
   "outputs": [],
   "source": [
    "fig, ax = plt.subplots(figsize=(20, 3))\n",
    "ax.plot_date(alk_weighted_oae.index, alk_weighted_oae.alk, '-', color=\"black\", linewidth=0.5, zorder=1)\n",
    "ax.scatter(alk_weighted_oae.index, alk_weighted_oae.alk, color=alk_weighted_oae.Month.map(lambda x: colors_season[x]), edgecolors='black', linewidth=0.5, s=70)\n",
    "\n",
    "legend = [mpatches.Circle((0.5, 0.5), 1, facecolor = value, edgecolor = \"black\", linewidth=0.5, label = key, alpha = 1) for key, value in colors_season.items()]\n",
    "ax.legend(handles = legend, bbox_to_anchor=(1, 1), loc='best', columnspacing=0.05, handletextpad=0.4, fontsize=12, ncol = 1, handler_map={mpatches.Circle: HandlerEllipse()})\n",
    "\n",
    "ax.set_xlabel('Time', fontsize=14)\n",
    "ax.set_ylabel('Alkalinity [mmol/m3]', fontsize=14)\n",
    "ax.set_title(\"Weighted EU Seasonal Average of Alkalinity with OAE\", fontsize=17, y=1.06)\n",
    "\n",
    "pass"
   ]
  },
  {
   "cell_type": "markdown",
   "id": "c0c67892-e296-4d57-a300-0dc99d97db5d",
   "metadata": {},
   "source": [
    "### Weighted EU Seasonal Average of Alkalinity (seasons displayed)"
   ]
  },
  {
   "cell_type": "code",
   "execution_count": null,
   "id": "c2d0641c-b8de-4ef1-be90-3b54a538dc8b",
   "metadata": {},
   "outputs": [],
   "source": [
    "fig, ax = plt.subplots(figsize=(20, 3))\n",
    "\n",
    "ax.plot_date(alk_weighted_baseline.index, alk_weighted_baseline.alk, '-', color=\"black\", linewidth=0.5, zorder=1)\n",
    "ax.text(43700, 2265, s='Baseline')\n",
    "ax.scatter(alk_weighted_baseline.index, alk_weighted_baseline.alk, color=alk_weighted_baseline.Month.map(lambda x: colors_season[x]), marker='o', edgecolors='black', linewidth=0.5, s=70)\n",
    "\n",
    "ax.plot_date(alk_weighted_oae.index, alk_weighted_oae.alk, '-', color=\"black\", linewidth=0.5, zorder=1)\n",
    "ax.text(43700, 2340, s='OAE')\n",
    "ax.scatter(alk_weighted_oae.index, alk_weighted_oae.alk, color=alk_weighted_oae.Month.map(lambda x: colors_season[x]), marker='o', edgecolors='black', linewidth=0.5, s=70)\n",
    "\n",
    "legend = [mpatches.Circle((0.5, 0.5), 1, facecolor = value, edgecolor = \"black\", linewidth=0.5, label = key, alpha = 1) for key, value in colors_season.items()]\n",
    "ax.legend(handles = legend, bbox_to_anchor=(1, 1), loc='best', columnspacing=0.05, handletextpad=0.4, fontsize=12, ncol = 1, handler_map={mpatches.Circle: HandlerEllipse()})\n",
    "\n",
    "ax.set_xlabel('Time', fontsize=14)\n",
    "ax.set_ylabel('Alkalinity [mmol/m3]', fontsize=14)\n",
    "ax.set_title(\"Weighted EU Seasonal Average of Alkalinity\", fontsize=17, y=1.06)\n",
    "\n",
    "pass"
   ]
  },
  {
   "cell_type": "markdown",
   "id": "e0cc6042-0251-4f33-8d37-55069a44e33b",
   "metadata": {},
   "source": [
    "### Map of EU Seasonal Average of Alkalinity without OAE"
   ]
  },
  {
   "cell_type": "code",
   "execution_count": null,
   "id": "bccf8adf-3689-4526-9442-202f58ccb235",
   "metadata": {},
   "outputs": [],
   "source": [
    "# sliced_frame_baseline = sliced_frame_baseline.ALK.mean(dim=('deptht'))"
   ]
  },
  {
   "cell_type": "code",
   "execution_count": null,
   "id": "d9c596d4-c8fc-4f0e-b08f-dafcc627ab76",
   "metadata": {},
   "outputs": [],
   "source": [
    "# month_length = sliced_frame_baseline.time_counter.dt.days_in_month \n",
    "# weights = (month_length.groupby(\"time_counter.season\") / month_length.groupby(\"time_counter.season\").sum())\n",
    "# np.testing.assert_allclose(weights.groupby('time_counter.season').sum().values, np.ones(4))\n",
    "# ds_weighted_baseline = (sliced_frame_baseline * weights).groupby(\"time_counter.season\").sum(dim=\"time_counter\")"
   ]
  },
  {
   "cell_type": "code",
   "execution_count": null,
   "id": "f75097de-b859-4070-81ba-cf3b03c215f6",
   "metadata": {},
   "outputs": [],
   "source": [
    "# ds_weighted_baseline = ds_weighted_baseline.where(ds_weighted_baseline)"
   ]
  },
  {
   "cell_type": "code",
   "execution_count": null,
   "id": "58399f8f-fd8e-46ed-8187-2536dcfbc6ec",
   "metadata": {},
   "outputs": [],
   "source": [
    "# ds_unweighted_baseline = sliced_frame_baseline.groupby(\"time_counter.season\").mean(\"time_counter\")\n",
    "# ds_diff_baseline = ds_weighted_baseline - ds_unweighted_baseline"
   ]
  },
  {
   "cell_type": "code",
   "execution_count": null,
   "id": "b1ecfb57-eb9e-4d91-b0ff-0f5412facb5c",
   "metadata": {},
   "outputs": [],
   "source": [
    "# ds_weighted_baseline = ds_weighted_baseline.to_dataset(name='alk')\n",
    "# ds_unweighted_baseline = ds_unweighted_baseline.to_dataset(name='alk')\n",
    "# ds_diff_baseline = ds_diff_baseline.to_dataset(name='alk')"
   ]
  },
  {
   "cell_type": "code",
   "execution_count": null,
   "id": "6844f9ca-7c0b-4f72-acfc-82bef64ab95f",
   "metadata": {},
   "outputs": [],
   "source": [
    "# fig, axes = plt.subplots(nrows=4, ncols=3, figsize=(14, 12))\n",
    "# for i, season in enumerate((\"DJF\", \"MAM\", \"JJA\", \"SON\")):\n",
    "#     ds_weighted_baseline[\"alk\"].sel(season=season).plot.pcolormesh(\n",
    "#         ax=axes[i, 0],\n",
    "#         vmin=1500,\n",
    "#         vmax=2500,\n",
    "#         cmap=\"RdBu_r\",\n",
    "#         add_colorbar=True, add_labels=False,\n",
    "#         extend=\"both\",\n",
    "#     )\n",
    "\n",
    "#     ds_unweighted_baseline[\"alk\"].sel(season=season).plot.pcolormesh(\n",
    "#         ax=axes[i, 1],\n",
    "#         vmin=1000,\n",
    "#         vmax=2500,\n",
    "#         cmap=\"RdBu_r\",\n",
    "#         add_colorbar=True, add_labels=False,\n",
    "#         extend=\"both\",\n",
    "#     )\n",
    "\n",
    "#     ds_diff_baseline[\"alk\"].sel(season=season).plot.pcolormesh(\n",
    "#         ax=axes[i, 2],\n",
    "#         vmin=-0.5,\n",
    "#         vmax=0.5,\n",
    "#         cmap=\"RdBu_r\",\n",
    "#         add_colorbar=True, add_labels=False,\n",
    "#         extend=\"both\",\n",
    "#     )\n",
    "\n",
    "#     axes[i, 0].set_ylabel(season)\n",
    "#     axes[i, 1].set_ylabel(\"\")\n",
    "#     axes[i, 2].set_ylabel(\"\")\n",
    "\n",
    "# for ax in axes.flat:\n",
    "#     ax.axes.get_xaxis().set_ticklabels([])\n",
    "#     ax.axes.get_yaxis().set_ticklabels([])\n",
    "#     ax.axes.axis(\"tight\")\n",
    "#     ax.set_xlabel(\"\")\n",
    "\n",
    "# axes[0, 0].set_title(\"Weighted by DPM\", fontsize=15)\n",
    "# axes[0, 1].set_title(\"Equal Weighting\", fontsize=15)\n",
    "# axes[0, 2].set_title(\"Difference\", fontsize=15)\n",
    "\n",
    "# plt.tight_layout()\n",
    "\n",
    "# fig.suptitle(\"EU Seasonal Average of Alkalinity from 2090 to 2100 without OAE\", fontsize=17, y=1.03)\n",
    "\n",
    "# pass"
   ]
  },
  {
   "cell_type": "markdown",
   "id": "169fb79b-fb54-41cf-9058-cf7e242f387b",
   "metadata": {},
   "source": [
    "### Map of EU Seasonal Average of Alkalinity with OAE"
   ]
  },
  {
   "cell_type": "code",
   "execution_count": null,
   "id": "f3c9ea13-592d-4cf6-b5cf-c83a619c06b7",
   "metadata": {},
   "outputs": [],
   "source": [
    "# sliced_frame_oae = sliced_frame_oae.ALK.mean(dim=('deptht'))"
   ]
  },
  {
   "cell_type": "code",
   "execution_count": null,
   "id": "d1db2c90-c796-4ede-9c79-efe77769b029",
   "metadata": {},
   "outputs": [],
   "source": [
    "# month_length = sliced_frame_oae.time_counter.dt.days_in_month \n",
    "# weights = (month_length.groupby(\"time_counter.season\") / month_length.groupby(\"time_counter.season\").sum())\n",
    "# np.testing.assert_allclose(weights.groupby('time_counter.season').sum().values, np.ones(4))\n",
    "# ds_weighted_oae = (sliced_frame_oae * weights).groupby(\"time_counter.season\").sum(dim=\"time_counter\")"
   ]
  },
  {
   "cell_type": "code",
   "execution_count": null,
   "id": "98d006f7-8557-4e2a-b186-eaf665798fbb",
   "metadata": {},
   "outputs": [],
   "source": [
    "# ds_weighted_oae = ds_weighted_oae.where(ds_weighted_oae)"
   ]
  },
  {
   "cell_type": "code",
   "execution_count": null,
   "id": "8552cb18-5d06-4b1f-a066-edd370871d41",
   "metadata": {},
   "outputs": [],
   "source": [
    "# ds_unweighted_oae = sliced_frame_oae.groupby(\"time_counter.season\").mean(\"time_counter\")\n",
    "# ds_diff_oae = ds_weighted_oae - ds_unweighted_oae"
   ]
  },
  {
   "cell_type": "code",
   "execution_count": null,
   "id": "ef6826e7-df93-4d6a-b2eb-e3a001d1df24",
   "metadata": {},
   "outputs": [],
   "source": [
    "# ds_weighted_oae = ds_weighted_oae.to_dataset(name='alk')\n",
    "# ds_unweighted_oae = ds_unweighted_oae.to_dataset(name='alk')\n",
    "# ds_diff_oae = ds_diff_oae.to_dataset(name='alk')"
   ]
  },
  {
   "cell_type": "code",
   "execution_count": null,
   "id": "acfccfd9-1758-44be-be1c-dfd661ff0654",
   "metadata": {},
   "outputs": [],
   "source": [
    "# fig, axes = plt.subplots(nrows=4, ncols=3, figsize=(14, 12))\n",
    "# for i, season in enumerate((\"DJF\", \"MAM\", \"JJA\", \"SON\")):\n",
    "#     ds_weighted_oae[\"alk\"].sel(season=season).plot.pcolormesh(\n",
    "#         ax=axes[i, 0],\n",
    "#         vmin=1600,\n",
    "#         vmax=2400,\n",
    "#         cmap=\"RdBu_r\",\n",
    "#         add_colorbar=True, add_labels=False,\n",
    "#         extend=\"both\",\n",
    "#     )\n",
    "\n",
    "#     ds_unweighted_oae[\"alk\"].sel(season=season).plot.pcolormesh(\n",
    "#         ax=axes[i, 1],\n",
    "#         vmin=1600,\n",
    "#         vmax=2400,\n",
    "#         cmap=\"RdBu_r\",\n",
    "#         add_colorbar=True, add_labels=False,\n",
    "#         extend=\"both\",\n",
    "#     )\n",
    "\n",
    "#     ds_diff_oae[\"alk\"].sel(season=season).plot.pcolormesh(\n",
    "#         ax=axes[i, 2],\n",
    "#         vmin=-0.5,\n",
    "#         vmax=0.5,\n",
    "#         cmap=\"RdBu_r\",\n",
    "#         add_colorbar=True, add_labels=False,\n",
    "#         extend=\"both\",\n",
    "#     )\n",
    "\n",
    "#     axes[i, 0].set_ylabel(season)\n",
    "#     axes[i, 1].set_ylabel(\"\")\n",
    "#     axes[i, 2].set_ylabel(\"\")\n",
    "\n",
    "# for ax in axes.flat:\n",
    "#     ax.axes.get_xaxis().set_ticklabels([])\n",
    "#     ax.axes.get_yaxis().set_ticklabels([])\n",
    "#     ax.axes.axis(\"tight\")\n",
    "#     ax.set_xlabel(\"\")\n",
    "\n",
    "# axes[0, 0].set_title(\"Weighted by DPM\", fontsize=15)\n",
    "# axes[0, 1].set_title(\"Equal Weighting\", fontsize=15)\n",
    "# axes[0, 2].set_title(\"Difference\", fontsize=15)\n",
    "\n",
    "# plt.tight_layout()\n",
    "\n",
    "# fig.suptitle(\"EU Seasonal Average of Alkalinity from 2090 to 2100 with OAE\", fontsize=17, y=1.03)\n",
    "\n",
    "# pass"
   ]
  },
  {
   "cell_type": "markdown",
   "id": "587dd38b-a31d-4a79-bb9d-1c4085a38bb5",
   "metadata": {},
   "source": [
    "### EU Monthly Average of Alkalinity"
   ]
  },
  {
   "cell_type": "code",
   "execution_count": null,
   "id": "06c7b3bf-143b-4b14-a269-1bd7f3d0bc82",
   "metadata": {},
   "outputs": [],
   "source": [
    "alk_monthly_mean_baseline = (data_baseline[\"ALK\"].sel(time_counter=slice(start_date, end_date))).mean([\"deptht\"])"
   ]
  },
  {
   "cell_type": "code",
   "execution_count": null,
   "id": "96931bf7-023f-4afb-bb47-038fa401157b",
   "metadata": {},
   "outputs": [],
   "source": [
    "alk_monthly_mean_oae = (data_oae[\"ALK\"].sel(time_counter=slice(start_date, end_date))).mean([\"deptht\"])"
   ]
  },
  {
   "cell_type": "code",
   "execution_count": null,
   "id": "8a984f77-449c-4f6f-a4d7-03073a5cd328",
   "metadata": {},
   "outputs": [],
   "source": [
    "f, ax = plt.subplots(figsize=(20, 3))\n",
    "\n",
    "alk_monthly_mean_baseline.plot(marker=\"o\", markersize=5, markeredgewidth=0.5,\n",
    "                        color=\"black\", linewidth=0.5,\n",
    "                        markerfacecolor=\"lightskyblue\", \n",
    "                        markeredgecolor=\"black\", \n",
    "                        label = 'Baseline')\n",
    "\n",
    "alk_monthly_mean_oae.plot(marker=\"o\", markersize=5, markeredgewidth=0.5,\n",
    "                        color=\"black\", linewidth=0.5,\n",
    "                        markerfacecolor=\"lightgreen\",\n",
    "                        markeredgecolor=\"black\", \n",
    "                        label = 'OAE')\n",
    "ax.set_title(\"EU Monthly Average of Alkalinity\", fontname=\"Times\", fontsize=17, y=1.06)\n",
    "\n",
    "plt.xlabel(\"Time\", fontsize=14)\n",
    "plt.ylabel(\"Alkalinity [mmol/m3]\", fontsize=14)\n",
    "plt.legend(bbox_to_anchor=(1, 1), loc='upper left', fontsize=14)\n",
    "plt.show()"
   ]
  },
  {
   "cell_type": "markdown",
   "id": "fa09cf58-5eff-481c-a73d-b5a63b629bb6",
   "metadata": {},
   "source": [
    "### EU Monthly Average of Alkalinity without OAE (months displayed)"
   ]
  },
  {
   "cell_type": "code",
   "execution_count": null,
   "id": "ec5708fc-b6b6-4686-bb8a-3333d4f45058",
   "metadata": {},
   "outputs": [],
   "source": [
    "alk_baseline_monthly = alk_monthly_mean_baseline.to_dataframe('alk')\n",
    "alk_baseline_monthly['Month'] = pd.DatetimeIndex(alk_baseline_monthly.index).month"
   ]
  },
  {
   "cell_type": "code",
   "execution_count": null,
   "id": "d7600e56-3af0-47ac-9e3c-a8a93770ed8e",
   "metadata": {},
   "outputs": [],
   "source": [
    "# condition\n",
    "\n",
    "conditions_month = [\n",
    "    (alk_baseline_monthly['Month'] == 1),\n",
    "    (alk_baseline_monthly['Month'] == 2),\n",
    "    (alk_baseline_monthly['Month'] == 3),\n",
    "    (alk_baseline_monthly['Month'] == 4),\n",
    "    (alk_baseline_monthly['Month'] == 5),\n",
    "    (alk_baseline_monthly['Month'] == 6),\n",
    "    (alk_baseline_monthly['Month'] == 7),\n",
    "    (alk_baseline_monthly['Month'] == 8),\n",
    "    (alk_baseline_monthly['Month'] == 9),\n",
    "    (alk_baseline_monthly['Month'] == 10),\n",
    "    (alk_baseline_monthly['Month'] == 11),\n",
    "    (alk_baseline_monthly['Month'] == 12)\n",
    "]\n",
    "\n",
    "values_month = ['Jan', 'Feb', 'Mar', 'Apr', 'May', 'June', 'July', 'Aug', 'Sept', 'Oct', 'Nov', 'Dec']\n",
    "\n",
    "alk_baseline_monthly['Month'] = np.select(conditions_month, values_month)"
   ]
  },
  {
   "cell_type": "code",
   "execution_count": null,
   "id": "a2a11da4-8db3-461c-8a76-90fd2e90f887",
   "metadata": {},
   "outputs": [],
   "source": [
    "# condition\n",
    "\n",
    "colors_month = dict(zip(alk_baseline_monthly.Month.unique(), ['powderblue', 'darkcyan', 'forestgreen', 'darkseagreen', \n",
    "                                                        'honeydew', 'bisque', 'khaki', 'gold', \n",
    "                                                        'sandybrown', 'lightcoral', 'chocolate', 'cadetblue']))"
   ]
  },
  {
   "cell_type": "code",
   "execution_count": null,
   "id": "da5e74b8-9182-475a-92de-8ea0eb3cc62b",
   "metadata": {},
   "outputs": [],
   "source": [
    "fig, ax = plt.subplots(figsize=(20, 3))\n",
    "ax.plot_date(alk_baseline_monthly.index, alk_baseline_monthly.alk, '-', color=\"black\", linewidth=0.5, zorder=1)\n",
    "ax.scatter(alk_baseline_monthly.index, alk_baseline_monthly.alk, color=alk_baseline_monthly.Month.map(lambda x: colors_month[x]), edgecolors='black',  linewidth=0.5, s=40)\n",
    "\n",
    "legend = [mpatches.Circle((0.5, 0.5), 1, facecolor = value, edgecolor = \"black\", linewidth=0.5, label = key, alpha = 1) for key, value in colors_month.items()]\n",
    "ax.legend(handles = legend, bbox_to_anchor=(1, 1), loc='best', columnspacing=0.05, handletextpad=0.4, fontsize=9, ncol = 1, handler_map={mpatches.Circle: HandlerEllipse()})\n",
    "\n",
    "ax.set_xlabel('Time', fontsize=14)\n",
    "ax.set_ylabel('Alkalinity [mmol/m3]', fontsize=14)\n",
    "ax.set_title(\"EU Monthly Average of Alkalinity without OAE\", fontname=\"Times\", fontsize=17, y=1.06)\n",
    "\n",
    "pass"
   ]
  },
  {
   "cell_type": "markdown",
   "id": "35b6136f-58d0-4b47-8ceb-c436956910a4",
   "metadata": {},
   "source": [
    "### EU Monthly Average of Alkalinity with OAE (months displayed)"
   ]
  },
  {
   "cell_type": "code",
   "execution_count": null,
   "id": "a738c36d-1b3e-4ad1-82c6-0da262f4275b",
   "metadata": {},
   "outputs": [],
   "source": [
    "alk_oae_monthly = alk_monthly_mean_oae.to_dataframe('alk')\n",
    "alk_oae_monthly['Month'] = pd.DatetimeIndex(alk_oae_monthly.index).month"
   ]
  },
  {
   "cell_type": "code",
   "execution_count": null,
   "id": "ca7c4ee5-3d66-47d6-a36e-44c0bfe8c4b6",
   "metadata": {},
   "outputs": [],
   "source": [
    "alk_oae_monthly['Month'] = np.select(conditions_month, values_month)"
   ]
  },
  {
   "cell_type": "code",
   "execution_count": null,
   "id": "d8bb9e89-80ab-4cc3-a040-4e28bdf908e0",
   "metadata": {},
   "outputs": [],
   "source": [
    "fig, ax = plt.subplots(figsize=(20, 3))\n",
    "ax.plot_date(alk_oae_monthly.index, alk_oae_monthly.alk, '-', color=\"black\", linewidth=0.5, zorder=1)\n",
    "ax.scatter(alk_oae_monthly.index, alk_oae_monthly.alk, color=alk_oae_monthly.Month.map(lambda x: colors_month[x]), edgecolors='black',  linewidth=0.5, s=40)\n",
    "\n",
    "legend = [mpatches.Circle((0.5, 0.5), 1, facecolor = value, edgecolor = \"black\", linewidth=0.5, label = key, alpha = 1) for key, value in colors_month.items()]\n",
    "ax.legend(handles = legend, bbox_to_anchor=(1, 1), loc='best', columnspacing=0.05, handletextpad=0.4, fontsize=9, ncol = 1, handler_map={mpatches.Circle: HandlerEllipse()})\n",
    "\n",
    "ax.set_xlabel('Time', fontsize=14)\n",
    "ax.set_ylabel('Alkalinity [mmol/m3]', fontsize=14)\n",
    "ax.set_title(\"EU Monthly Average of Alkalinity with OAE\", fontname=\"Times\", fontsize=17, y=1.06)\n",
    "\n",
    "pass"
   ]
  },
  {
   "cell_type": "markdown",
   "id": "9bde3840-051b-4aab-a9c4-abec5c385b27",
   "metadata": {},
   "source": [
    "### EU Monthly Average of Alkalinity (months displayed)"
   ]
  },
  {
   "cell_type": "code",
   "execution_count": null,
   "id": "09f5029b-a079-4633-93f5-ac520aee2d10",
   "metadata": {},
   "outputs": [],
   "source": [
    "fig, ax = plt.subplots(figsize=(20, 3))\n",
    "\n",
    "ax.plot_date(alk_baseline_monthly.index, alk_baseline_monthly.alk, '-', label='Baseline', color=\"black\", linewidth=0.5, zorder=1)\n",
    "ax.text(43800, 2280, s='Baseline')\n",
    "ax.scatter(alk_baseline_monthly.index, alk_baseline_monthly.alk, color=alk_baseline_monthly.Month.map(lambda x: colors_month[x]), marker='o', edgecolors='black', linewidth=0.5, s=40)\n",
    "\n",
    "ax.plot_date(alk_oae_monthly.index, alk_oae_monthly.alk, '-', label='OAE', color=\"black\", linewidth=0.5, zorder=1)\n",
    "ax.text(43800, 2340, s='OAE')\n",
    "ax.scatter(alk_oae_monthly.index, alk_oae_monthly.alk, color=alk_oae_monthly.Month.map(lambda x: colors_month[x]), marker='o', edgecolors='black', linewidth=0.5, s=40)\n",
    "\n",
    "legend = [mpatches.Circle((0.5, 0.5), 1, facecolor = value, edgecolor = \"black\", linewidth=0.5, label = key, alpha = 1) for key, value in colors_month.items()]\n",
    "ax.legend(handles = legend, bbox_to_anchor=(1, 1), loc='best', columnspacing=0.05, handletextpad=0.4, fontsize=9, ncol = 1, handler_map={mpatches.Circle: HandlerEllipse()})\n",
    "\n",
    "ax.set_xlabel('Time', fontsize=14)\n",
    "ax.set_ylabel('Alkalinity [mmol/m3]', fontsize=14)\n",
    "ax.set_title(\"EU Monthly Average of Alkalinity\", fontsize=17, y=1.06)\n",
    "\n",
    "pass"
   ]
  },
  {
   "cell_type": "code",
   "execution_count": null,
   "id": "5fdb3cc6-d0fe-4d0a-8c84-bf57060137be",
   "metadata": {},
   "outputs": [],
   "source": [
    "mean_baseline = (alk_baseline_monthly.groupby(alk_baseline_monthly.index.month).alk.mean()).reset_index()\n",
    "mean_baseline['time_counter'] = mean_baseline['time_counter'].apply(lambda x: calendar.month_abbr[x])"
   ]
  },
  {
   "cell_type": "code",
   "execution_count": null,
   "id": "d217c029-861a-4cec-a967-4b9c3ed2c102",
   "metadata": {},
   "outputs": [],
   "source": [
    "mean_oae = (alk_oae_monthly.groupby(alk_oae_monthly.index.month).alk.mean()).reset_index()\n",
    "mean_oae['time_counter']= mean_oae['time_counter'].apply(lambda x: calendar.month_abbr[x])"
   ]
  },
  {
   "cell_type": "code",
   "execution_count": null,
   "id": "403f4902-196c-4003-9551-6d5ae162cd82",
   "metadata": {},
   "outputs": [],
   "source": [
    "# condition\n",
    "\n",
    "colors_time = dict(zip(mean_baseline.time_counter.unique(), ['powderblue', 'darkcyan', 'forestgreen', 'darkseagreen', \n",
    "                                                        'honeydew', 'bisque', 'khaki', 'gold', \n",
    "                                                        'sandybrown', 'lightcoral', 'chocolate', 'cadetblue']))"
   ]
  },
  {
   "cell_type": "code",
   "execution_count": null,
   "id": "953e973d-bfc6-43ef-b38e-0b46202c638f",
   "metadata": {},
   "outputs": [],
   "source": [
    "fig, ax = plt.subplots(figsize=(4, 4))\n",
    "ax.plot(mean_baseline.alk, '-', color=\"black\", linewidth=0.5, zorder=1)\n",
    "ax.scatter(mean_baseline.time_counter, mean_baseline.alk, color=mean_baseline.time_counter.map(lambda x: colors_time[x]), edgecolors='black',  linewidth=0.5, s=30)\n",
    "\n",
    "ax.plot(mean_oae.alk, '-', color=\"black\", linewidth=0.5, zorder=1)\n",
    "ax.scatter(mean_oae.time_counter, mean_oae.alk, color=mean_oae.time_counter.map(lambda x: colors_time[x]), edgecolors='black',  linewidth=0.5, s=30)\n",
    "\n",
    "legend = [mpatches.Circle((0.5, 0.5), 1, facecolor = value, edgecolor = \"black\", linewidth=0.5, label = key, alpha = 1) for key, value in colors_time.items()]\n",
    "ax.legend(handles = legend, bbox_to_anchor=(1.05, 1), loc='best', columnspacing=0.05, handletextpad=0.4, fontsize=9, ncol = 1, handler_map={mpatches.Circle: HandlerEllipse()})\n",
    "\n",
    "ax.set_ylabel('CO2 flux [mol/m2/yr]', fontsize=10)\n",
    "ax.tick_params(axis='both', which='major', labelsize=10)\n",
    "ax.yaxis.get_offset_text().set_fontsize(10)\n",
    "\n",
    "ax.set_title(\"EU Monthly Average of CO2 flux over the last decade\", fontname=\"Times\", fontsize=14, y=1.06)\n",
    "\n",
    "pass"
   ]
  },
  {
   "cell_type": "markdown",
   "id": "e7fed447-2f6a-4639-b0f1-3cd51ece403c",
   "metadata": {},
   "source": [
    "### Δ Alkalinity between Baseline and OAE"
   ]
  },
  {
   "cell_type": "code",
   "execution_count": null,
   "id": "588402eb-9c9f-4154-a7ea-ce0e2c0d4a64",
   "metadata": {
    "tags": []
   },
   "outputs": [],
   "source": [
    "delta_alk = (alk_oae_monthly.alk - alk_baseline_monthly.alk).to_xarray()"
   ]
  },
  {
   "cell_type": "code",
   "execution_count": null,
   "id": "575e69a1-24cf-44f8-a87e-0b7fdcd959ed",
   "metadata": {},
   "outputs": [],
   "source": [
    "delta_alk = delta_alk.to_dataframe('alk')\n",
    "delta_alk['Month'] = pd.DatetimeIndex(delta_alk.index).month"
   ]
  },
  {
   "cell_type": "code",
   "execution_count": null,
   "id": "272f2494-9083-4945-86a5-09f73678ea93",
   "metadata": {},
   "outputs": [],
   "source": [
    "delta_alk['Month'] = np.select(conditions_month, values_month)"
   ]
  },
  {
   "cell_type": "code",
   "execution_count": null,
   "id": "3dd7623c-79db-4659-85de-09b81b4a1285",
   "metadata": {},
   "outputs": [],
   "source": [
    "fig, ax = plt.subplots(figsize=(20, 3))\n",
    "ax.plot_date(delta_alk.index, delta_alk.alk, '-', color=\"black\", linewidth=0.5, zorder=1)\n",
    "ax.scatter(delta_alk.index, delta_alk.alk, color=delta_alk.Month.map(lambda x: colors_month[x]), edgecolors='black',  linewidth=0.5, s=40)\n",
    "\n",
    "legend = [mpatches.Circle((0.5, 0.5), 1, facecolor = value, edgecolor = \"black\", linewidth=0.5, label = key, alpha = 1) for key, value in colors_month.items()]\n",
    "ax.legend(handles = legend, bbox_to_anchor=(1, 1), loc='best', columnspacing=0.05, handletextpad=0.4, fontsize=9, ncol = 1, handler_map={mpatches.Circle: HandlerEllipse()})\n",
    "\n",
    "ax.set_xlabel('Time', fontsize=14)\n",
    "ax.set_ylabel('Δ Alkalinity [mmol/m3]', fontsize=14)\n",
    "ax.set_title(\"Δ Alkalinity between Baseline and OAE\", fontname=\"Times\", fontsize=17, y=1.06)\n",
    "\n",
    "pass"
   ]
  },
  {
   "cell_type": "markdown",
   "id": "df91f5fc-6c84-4268-bec6-e474fc3e1de1",
   "metadata": {},
   "source": [
    "### Averaged monthly cycle of Δ Alkalinity"
   ]
  },
  {
   "cell_type": "code",
   "execution_count": null,
   "id": "98d063c7-bfce-440f-9da5-2da7a9a1a5d9",
   "metadata": {},
   "outputs": [],
   "source": [
    "delta_alk_mean = (delta_alk.groupby(delta_alk.index.month).alk.mean()).reset_index()\n",
    "delta_alk_mean['time_counter'] = delta_alk_mean['time_counter'].apply(lambda x: calendar.month_abbr[x])"
   ]
  },
  {
   "cell_type": "code",
   "execution_count": null,
   "id": "58ba5576-b5e6-48cd-af35-25fe7632881e",
   "metadata": {},
   "outputs": [],
   "source": [
    "fig, ax = plt.subplots(figsize=(4, 4))\n",
    "ax.plot(delta_alk_mean.alk, '-', color=\"black\", linewidth=0.5, zorder=1)\n",
    "ax.scatter(delta_alk_mean.time_counter, delta_alk_mean.alk, color=delta_alk_mean.time_counter.map(lambda x: colors_time[x]), edgecolors='black',  linewidth=0.5, s=30)\n",
    "\n",
    "legend = [mpatches.Circle((0.5, 0.5), 1, facecolor = value, edgecolor = \"black\", linewidth=0.5, label = key, alpha = 1) for key, value in colors_time.items()]\n",
    "ax.legend(handles = legend, bbox_to_anchor=(1, 1), loc='best', columnspacing=0.05, handletextpad=0.4, fontsize=9, ncol = 1, handler_map={mpatches.Circle: HandlerEllipse()})\n",
    "\n",
    "ax.set_ylabel('Δ Alkalinity [mmol/m3]', fontsize=10)\n",
    "ax.tick_params(axis='both', which='major', labelsize=10)\n",
    "ax.set_title(\"EU Monthly Average of Δ Alkalinity over the last decade\", fontname=\"Times\", fontsize=14, y=1.06)\n",
    "\n",
    "pass"
   ]
  },
  {
   "cell_type": "markdown",
   "id": "22fda508-ce47-43fb-9cdf-1dbf052f13f6",
   "metadata": {},
   "source": [
    "### EU Monthly Average of Δ Alkalinity (with annual average)"
   ]
  },
  {
   "cell_type": "code",
   "execution_count": null,
   "id": "f04ff930-1770-4d71-b8b1-e6c8fe393d11",
   "metadata": {},
   "outputs": [],
   "source": [
    "f, (ax, ax2) = plt.subplots(1,2, figsize=(20, 3), gridspec_kw={'width_ratios': [6, 1]}, sharey=True) \n",
    "plt.subplots_adjust(wspace=0, hspace=0)\n",
    "\n",
    "ax.plot_date(delta_alk.index, delta_alk.alk, '-', label='Baseline', color=\"black\", linewidth=0.5, zorder=0.8)\n",
    "ax.scatter(delta_alk.index, delta_alk.alk, color=delta_alk.Month.map(lambda x: colors_month[x]), marker='o', edgecolors='black', linewidth=0.5, s=30)\n",
    "\n",
    "ax.tick_params(axis='both', which='major', labelsize=10)\n",
    "ax.set_ylabel('Δ Alkalinity [mmol/m3]', fontsize=10)\n",
    "\n",
    "legend = [mpatches.Circle((0.5, 0.5), 1, facecolor = value, edgecolor = \"black\", linewidth=0.5, label = key, alpha = 1) for key, value in colors_month.items()]\n",
    "ax2.legend(handles = legend, bbox_to_anchor=(1, 1), loc='best', columnspacing=0.05, handletextpad=0.4, fontsize=9, ncol = 1, handler_map={mpatches.Circle: HandlerEllipse()})\n",
    "\n",
    "ax2.plot(delta_alk_mean.alk, '-', color=\"black\", linewidth=0.5, zorder=1)\n",
    "ax2.scatter(delta_alk_mean.time_counter, delta_alk_mean.alk, color=delta_alk_mean.time_counter.map(lambda x: colors_time[x]), edgecolors='black',  linewidth=0.5, s=20)\n",
    "\n",
    "ax2.tick_params(axis='x', which='major', labelsize=7)\n",
    "\n",
    "#plt.savefig('/Users/chiaraciscato/Desktop/geomar/geomarcode/SSP1_2.6/Alkalinity/figs/EUAlk_change_monthly_mean.png')\n",
    "\n",
    "pass"
   ]
  },
  {
   "cell_type": "code",
   "execution_count": null,
   "id": "3c738e20-2345-48a3-b5ac-cc3c9e8f5ce4",
   "metadata": {},
   "outputs": [],
   "source": [
    "f, ((ax, ax2), (ax3, ax4)) = plt.subplots(2,2, figsize=(20, 7), gridspec_kw={'width_ratios': [6, 1], 'height_ratios': [3, 2]}, sharey='row') \n",
    "\n",
    "plt.subplots_adjust(wspace=0, hspace=0)\n",
    "\n",
    "ax.plot_date(alk_baseline_monthly.index, alk_baseline_monthly.alk, '-', label='Baseline', color=\"black\", linewidth=0.5, zorder=0.8)\n",
    "ax.text(43800, 2280, s='Baseline', fontsize=12)\n",
    "ax.scatter(alk_baseline_monthly.index, alk_baseline_monthly.alk, color=alk_baseline_monthly.Month.map(lambda x: colors_month[x]), marker='o', edgecolors='black', linewidth=0.5, s=30)\n",
    "\n",
    "ax.plot_date(alk_oae_monthly.index, alk_oae_monthly.alk, '-', label='OAE', color=\"black\", linewidth=0.5, zorder=1)\n",
    "ax.text(43800, 2350, s='OAE', fontsize=12)\n",
    "ax.scatter(alk_oae_monthly.index, alk_oae_monthly.alk, color=alk_oae_monthly.Month.map(lambda x: colors_month[x]), marker='o', edgecolors='black', linewidth=0.5, s=30)\n",
    "\n",
    "ax.tick_params(axis='both', which='major', labelsize=12)\n",
    "ax.set_ylabel('Alkalinity [mmol/m3]', fontsize=12)\n",
    "\n",
    "legend = [mpatches.Circle((0.5, 0.5), 1, facecolor = value, edgecolor = \"black\", linewidth=0.5, label = key, alpha = 1) for key, value in colors_month.items()]\n",
    "ax.legend(handles = legend, bbox_to_anchor=(1.17, 1.21), loc='best', columnspacing=0.05, handletextpad=0.4, fontsize=9, ncol = 4, handler_map={mpatches.Circle: HandlerEllipse()})\n",
    "\n",
    "ax2.plot(mean_baseline.alk, '-', color=\"black\", linewidth=0.5, zorder=1)\n",
    "ax2.scatter(mean_baseline.time_counter, mean_baseline.alk, color=mean_baseline.time_counter.map(lambda x: colors_time[x]), edgecolors='black',  linewidth=0.5, s=30)\n",
    "\n",
    "ax2.plot(mean_oae.alk, '-', color=\"black\", linewidth=0.5, zorder=1)\n",
    "ax2.scatter(mean_oae.time_counter, mean_oae.alk, color=mean_oae.time_counter.map(lambda x: colors_time[x]), edgecolors='black',  linewidth=0.5, s=30)\n",
    "ax2.tick_params(axis='y', which='major', labelsize=12)\n",
    "\n",
    "ax3.plot_date(delta_alk.index, delta_alk.alk, '-', label='Baseline', color=\"black\", linewidth=0.5, zorder=0.8)\n",
    "ax3.scatter(delta_alk.index, delta_alk.alk, color=delta_alk.Month.map(lambda x: colors_month[x]), marker='o', edgecolors='black', linewidth=0.5, s=30)\n",
    "\n",
    "ax3.tick_params(axis='both', which='major', labelsize=12)\n",
    "ax3.set_ylabel('Δ Alkalinity [mmol/m3]', fontsize=12)\n",
    "\n",
    "ax4.plot(delta_alk_mean.alk, '-', color=\"black\", linewidth=0.5, zorder=1)\n",
    "ax4.scatter(delta_alk_mean.time_counter, delta_alk_mean.alk, color=delta_alk_mean.time_counter.map(lambda x: colors_time[x]), edgecolors='black',  linewidth=0.5, s=30)\n",
    "\n",
    "ax4.tick_params(axis='x', which='major', labelsize=10, rotation=90)\n",
    "ax4.tick_params(axis='y', which='major', labelsize=12)\n",
    "\n",
    "start, end = ax.set_ylim(2240, 2390)\n",
    "ax.yaxis.set_ticks(np.arange(start+20, end, 30))\n",
    "\n",
    "start3, end3 = ax4.set_ylim(70, 140)\n",
    "ax4.yaxis.set_ticks(np.arange(start3+10, end3, 20))\n",
    "\n",
    "plt.savefig('/Users/chiaraciscato/Desktop/geomar/geomarcode/SSP1_2.6/Alkalinity/figs/EUAlk_monthly_mean.png')"
   ]
  },
  {
   "cell_type": "code",
   "execution_count": null,
   "id": "ae19126d-179d-47db-8201-c0fdca71dc76",
   "metadata": {},
   "outputs": [],
   "source": [
    "# add amplitude values to created csv table"
   ]
  },
  {
   "cell_type": "code",
   "execution_count": null,
   "id": "71d4dc96-590f-4dff-80c1-09aaf8d44a84",
   "metadata": {},
   "outputs": [],
   "source": [
    "#summary_amplitude = pd.read_csv(r'/Users/chiaraciscato/Desktop/geomar/geomarcode/SSP1_2.6/Summary_amplitude.csv', header=[0,1], index_col=0)"
   ]
  },
  {
   "cell_type": "code",
   "execution_count": null,
   "id": "10fecb4b-49f4-4e14-89a8-24ee6093a3db",
   "metadata": {},
   "outputs": [],
   "source": [
    "#summary_amplitude.loc['Alkalinity', ('European Average','With OAE')] = round(mean_oae.alk.max() - mean_oae.alk.min())"
   ]
  },
  {
   "cell_type": "code",
   "execution_count": null,
   "id": "33173a0e-1828-4f56-a86a-6d8556968bc7",
   "metadata": {},
   "outputs": [],
   "source": [
    "#summary_amplitude.loc['Alkalinity', ('European Average','Without OAE')] = round(mean_baseline.alk.max() - mean_baseline.alk.min())"
   ]
  },
  {
   "cell_type": "code",
   "execution_count": null,
   "id": "17d8e956-c3d5-4a26-b429-30d149348874",
   "metadata": {},
   "outputs": [],
   "source": [
    "#summary_amplitude.to_csv('../Summary_amplitude.csv')"
   ]
  },
  {
   "cell_type": "markdown",
   "id": "793aabd2-47b8-4ade-afe4-0019743b2c35",
   "metadata": {},
   "source": [
    "### Alkalinity over Depth"
   ]
  },
  {
   "cell_type": "code",
   "execution_count": null,
   "id": "90b3c884-5614-4b1e-8101-39156359cce4",
   "metadata": {},
   "outputs": [],
   "source": [
    "data_baseline_depth = xr.open_dataset('/Users/chiaraciscato/Desktop/geomar/Cropped_DataTransfer/SSP1_2.6/Alkalinity/layer_integration.nc', \n",
    "                                      decode_times=True).sel(deptht=slice(0, 150))"
   ]
  },
  {
   "cell_type": "code",
   "execution_count": null,
   "id": "a5a470d9-f0a8-4d26-9f76-1c1eac7e339f",
   "metadata": {},
   "outputs": [],
   "source": [
    "data_baseline_depth = data_baseline_depth.where(data_baseline_depth)"
   ]
  },
  {
   "cell_type": "code",
   "execution_count": null,
   "id": "63eab284-6a98-4e10-9337-a4f054243fb7",
   "metadata": {},
   "outputs": [],
   "source": [
    "data_baseline_depth = (data_baseline_depth.ALK * 1.025).to_dataset(name='ALK')"
   ]
  },
  {
   "cell_type": "code",
   "execution_count": null,
   "id": "c7043fde-fe67-48b9-8694-850e2fdf16e8",
   "metadata": {},
   "outputs": [],
   "source": [
    "data_oae_depth = xr.open_dataset('/Users/chiaraciscato/Desktop/geomar/Cropped_DataTransfer/SSP1_2.6/Alkalinity/try_base_oae.nc', \n",
    "                                 decode_times=True).sel(deptht=slice(0, 150))"
   ]
  },
  {
   "cell_type": "code",
   "execution_count": null,
   "id": "bfe0a8b6-7a9e-41ae-a405-f5e5860ce66f",
   "metadata": {},
   "outputs": [],
   "source": [
    "data_oae_depth = data_oae_depth.where(data_oae_depth)"
   ]
  },
  {
   "cell_type": "code",
   "execution_count": null,
   "id": "6b9b8f75-4c1e-4984-978b-7944c86ba1ce",
   "metadata": {},
   "outputs": [],
   "source": [
    "data_oae_depth = (data_oae_depth.ALK * 1.025).to_dataset(name='ALK')"
   ]
  },
  {
   "cell_type": "code",
   "execution_count": null,
   "id": "5ec59df5-97ee-45be-8a2c-95d98628e37f",
   "metadata": {},
   "outputs": [],
   "source": [
    "depth_baseline_frame = data_baseline_depth.sel(time_counter=slice('2090', '2100'))\n",
    "depth_oae_frame = data_oae_depth.sel(time_counter=slice('2090', '2100'))"
   ]
  },
  {
   "cell_type": "code",
   "execution_count": null,
   "id": "d6173195-aeff-413e-bbf4-a061a690a88e",
   "metadata": {
    "tags": []
   },
   "outputs": [],
   "source": [
    "depth_baseline_frame = (depth_baseline_frame.ALK.mean(dim=('time_counter', 'x', 'y'))).to_dataset(name='ALK')\n",
    "depth_oae_frame = (depth_oae_frame.ALK.mean(dim=('time_counter', 'x', 'y'))).to_dataset(name='ALK')"
   ]
  },
  {
   "cell_type": "code",
   "execution_count": null,
   "id": "7472c13d-0dbb-4126-8c6c-f0c26f10024b",
   "metadata": {},
   "outputs": [],
   "source": [
    "plt.figure(figsize=(20, 3))\n",
    "plt.plot(depth_baseline_frame.deptht, depth_baseline_frame.ALK, linewidth=2, label = 'Baseline')\n",
    "plt.plot(depth_oae_frame.deptht, depth_oae_frame.ALK, linewidth=2, label = 'OAE')\n",
    "plt.xlabel(\"Alkalinity [mmol/m3]\", fontsize=16)\n",
    "plt.ylabel(\"Depth [m]\", fontsize=16)\n",
    "plt.legend(bbox_to_anchor=(1, 1), loc='upper right', fontsize=13)\n",
    "plt.tick_params(axis='both', which='major', labelsize=16)\n",
    "plt.title('EU Average of Alkalinity', fontsize=17, y=1.06)\n",
    "\n",
    "pass"
   ]
  },
  {
   "cell_type": "code",
   "execution_count": null,
   "id": "3eb69a42-3922-41bc-b451-48e3d1b90a96",
   "metadata": {},
   "outputs": [],
   "source": [
    "f, (ax, ax2) = plt.subplots(1,2, figsize=(20, 3), gridspec_kw={'width_ratios': [5, 1]}, sharey=False) \n",
    "plt.subplots_adjust(wspace=0, hspace=0)\n",
    "\n",
    "ax.plot(depth_baseline_frame.deptht, depth_baseline_frame.ALK, linewidth=2, label = 'Baseline')\n",
    "ax.plot(depth_oae_frame.deptht, depth_oae_frame.ALK, linewidth=2, label = 'OAE')\n",
    "\n",
    "ax.text(3, 2220, s='Baseline', fontsize=12)\n",
    "ax.text(5, 2325, s='OAE', fontsize=12)\n",
    "\n",
    "ax.tick_params(axis='both', which='major', labelsize=12)\n",
    "\n",
    "ax.set_xlabel(\"Depth [m]\", fontsize=12)\n",
    "ax.set_ylabel(\"Alkalinity [mmol/m3]\", fontsize=12)\n",
    "\n",
    "xticks = ax.xaxis.get_major_ticks()\n",
    "xticks[-2].label1.set_visible(False)\n",
    "\n",
    "legend = [mpatches.Circle((0.5, 0.5), 1, facecolor = value, edgecolor = \"black\", linewidth=0.5, label = key, alpha = 1) for key, value in colors_time.items()]\n",
    "ax2.legend(handles = legend, bbox_to_anchor=(1.02, 1.3), loc='best', columnspacing=0.9, handletextpad=0.5, fontsize=9, ncol = 4, handler_map={mpatches.Circle: HandlerEllipse()})\n",
    "\n",
    "ax2.plot(mean_baseline.alk, '-', color=\"black\", linewidth=0.5, zorder=1)\n",
    "ax2.scatter(mean_baseline.time_counter, mean_baseline.alk, color=mean_baseline.time_counter.map(lambda x: colors_time[x]), edgecolors='black',  linewidth=0.5, s=40)\n",
    "\n",
    "ax2.plot(mean_oae.alk, '-', color=\"black\", linewidth=0.5, zorder=1)\n",
    "ax2.scatter(mean_oae.time_counter, mean_oae.alk, color=mean_oae.time_counter.map(lambda x: colors_time[x]), edgecolors='black',  linewidth=0.5, s=40)\n",
    "\n",
    "ax2.tick_params(axis='x', which='major', labelsize=10, rotation=90)\n",
    "ax2.tick_params(axis='y', which='major', labelsize=12)\n",
    "\n",
    "start, end = ax.set_ylim(2200, 2400)\n",
    "ax.yaxis.set_ticks(np.arange(start+50, end, 50))\n",
    "\n",
    "start2, end2 = ax2.set_ylim(2250, 2400)\n",
    "ax2.yaxis.set_ticks(np.arange(start2+50, end2, 50))\n",
    "\n",
    "plt.savefig('/Users/chiaraciscato/Desktop/geomar/geomarcode/SSP1_2.6/Alkalinity/figs/EUAlk_depthprof.png')"
   ]
  },
  {
   "cell_type": "code",
   "execution_count": null,
   "id": "6e2fce1a-6d50-419e-b6b3-6940923bbbbd",
   "metadata": {},
   "outputs": [],
   "source": [
    "header_mm = [np.array(['Without OAE','Without OAE', 'With OAE', 'With OAE']), \n",
    "np.array(['Max', 'Min', 'Max', 'Min',])] \n",
    "summary_maxmin = pd.DataFrame(index=['Alkalinity', 'CO2 flux', 'fCO2', 'DIC', 'pH'], columns = header_mm)\n",
    "summary_maxmin.index.name = 'Variables'"
   ]
  },
  {
   "cell_type": "code",
   "execution_count": null,
   "id": "6e909d28-aad1-4e6e-86ba-78a6e40756f3",
   "metadata": {},
   "outputs": [],
   "source": [
    "summary_maxmin.loc['Alkalinity', ('Without OAE','Max')] = round(mean_baseline.ALK.max())\n",
    "summary_maxmin.loc['Alkalinity', ('Without OAE','Min')] = round(mean_baseline.ALK.min())"
   ]
  },
  {
   "cell_type": "code",
   "execution_count": null,
   "id": "830c0ff9-26b5-4e88-96b8-74621de9f0d8",
   "metadata": {},
   "outputs": [],
   "source": [
    "summary_maxmin.loc['Alkalinity', ('With OAE','Max')] = round(mean_oae.ALK.max())\n",
    "summary_maxmin.loc['Alkalinity', ('With OAE','Min')] = round(mean_oae.ALK.min())"
   ]
  },
  {
   "cell_type": "code",
   "execution_count": null,
   "id": "26896c9a-29b0-4dee-b440-5985204dc7de",
   "metadata": {},
   "outputs": [],
   "source": [
    "summary_maxmin.to_csv('../Summary_minmax_eu.csv')"
   ]
  }
 ],
 "metadata": {
  "kernelspec": {
   "display_name": "geomar",
   "language": "python",
   "name": "geomar"
  },
  "language_info": {
   "codemirror_mode": {
    "name": "ipython",
    "version": 3
   },
   "file_extension": ".py",
   "mimetype": "text/x-python",
   "name": "python",
   "nbconvert_exporter": "python",
   "pygments_lexer": "ipython3",
   "version": "3.7.12"
  }
 },
 "nbformat": 4,
 "nbformat_minor": 5
}
