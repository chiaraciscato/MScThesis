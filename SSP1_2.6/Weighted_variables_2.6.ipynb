{
 "cells": [
  {
   "cell_type": "code",
   "execution_count": 1,
   "id": "e467d34f-08cb-4a00-a9cd-4e0bfe055488",
   "metadata": {},
   "outputs": [],
   "source": [
    "import netCDF4 as nc\n",
    "from netCDF4 import Dataset\n",
    "import matplotlib as mpl\n",
    "import matplotlib.pyplot as plt\n",
    "import matplotlib.patches as mpatches\n",
    "from matplotlib.legend_handler import HandlerPatch\n",
    "import xarray as xr\n",
    "import numpy as np\n",
    "import pandas as pd\n",
    "import calendar\n",
    "import seaborn as sns\n",
    "import seaborn_image as isns\n",
    "import calendar"
   ]
  },
  {
   "cell_type": "code",
   "execution_count": 2,
   "id": "48ecabac-2a4d-4d4c-96db-f35cb9e6e7e9",
   "metadata": {},
   "outputs": [],
   "source": [
    "import cartopy.crs as ccrs\n",
    "import cartopy\n",
    "import cartopy.feature as cfeature"
   ]
  },
  {
   "cell_type": "code",
   "execution_count": 3,
   "id": "64b4bee1-8fcc-46ff-86ed-18d0d2d1dea7",
   "metadata": {},
   "outputs": [],
   "source": [
    "plt.style.use('seaborn-pastel')\n",
    "isns.set_context(mode=\"notebook\", fontfamily=\"Times\")\n",
    "sns.set_context(font_scale=0.8)"
   ]
  },
  {
   "cell_type": "code",
   "execution_count": 4,
   "id": "a22480fb-b73c-4fcf-a7bd-21fb67ee5395",
   "metadata": {},
   "outputs": [],
   "source": [
    "mesh_mask = xr.open_dataset('/Volumes/UnionSine/Cropped_DataTransfer/masks/mesh_mask.nc')"
   ]
  },
  {
   "cell_type": "code",
   "execution_count": 5,
   "id": "dc463ae2-5f49-446f-bc7a-720a9246c859",
   "metadata": {},
   "outputs": [],
   "source": [
    "mask = xr.open_dataset('/Volumes/UnionSine/Cropped_DataTransfer/masks/tmaskm.nc')"
   ]
  },
  {
   "cell_type": "code",
   "execution_count": 6,
   "id": "e02031a7-f355-48d0-9b9c-2c13216be697",
   "metadata": {},
   "outputs": [],
   "source": [
    "mask = mask.tmask.isel(time=0)"
   ]
  },
  {
   "cell_type": "markdown",
   "id": "dd8898d9-a6c7-4675-92fc-fa3405f65928",
   "metadata": {},
   "source": [
    "### Ocean slicing and mixed layer depth average"
   ]
  },
  {
   "cell_type": "code",
   "execution_count": 7,
   "id": "2ac09bac-61f9-4486-85b3-e7b1c6c411a7",
   "metadata": {},
   "outputs": [],
   "source": [
    "# calculate volume for each grid cell\n",
    "\n",
    "dx = mesh_mask.e1t \n",
    "dy = mesh_mask.e2t\n",
    "grid_cell_area = dx * dy # m2"
   ]
  },
  {
   "cell_type": "code",
   "execution_count": 8,
   "id": "e2e688e6-7d74-4440-a152-f8cc72df7671",
   "metadata": {},
   "outputs": [],
   "source": [
    "gridded_mesh = grid_cell_area.isel(t=0)"
   ]
  },
  {
   "cell_type": "code",
   "execution_count": 9,
   "id": "8623fad8-d550-4731-abfa-794a1236b288",
   "metadata": {},
   "outputs": [],
   "source": [
    "# apply mask to weighted grid cells\n",
    "\n",
    "ocean_area = gridded_mesh * mask"
   ]
  },
  {
   "cell_type": "code",
   "execution_count": 10,
   "id": "f84f8106-a74c-4c6c-9a6c-9ba94bb5e2c7",
   "metadata": {},
   "outputs": [],
   "source": [
    "ocean_area_sliced = ocean_area.sel(x=slice(520,595),y=slice(330,435),z=0)"
   ]
  },
  {
   "cell_type": "code",
   "execution_count": 11,
   "id": "5f561f4c-14b1-4e5d-81fd-7d9738d041bb",
   "metadata": {},
   "outputs": [],
   "source": [
    "# alkalinity weighed only over the z axis (depth)"
   ]
  },
  {
   "cell_type": "code",
   "execution_count": 12,
   "id": "b27059f7-328c-4ff6-98bd-f77af5e50995",
   "metadata": {},
   "outputs": [],
   "source": [
    "layer_depth = mask.isel(x=slice(520,595),y=slice(330,435),z=slice(0,6))"
   ]
  },
  {
   "cell_type": "code",
   "execution_count": 13,
   "id": "e6c1364d-9500-4ac0-a36f-545cf9f10c53",
   "metadata": {},
   "outputs": [],
   "source": [
    "layer_depth = layer_depth.sum('z') # m"
   ]
  },
  {
   "cell_type": "code",
   "execution_count": 14,
   "id": "f8045261-1586-4945-a1c4-86f8e1755975",
   "metadata": {},
   "outputs": [],
   "source": [
    "layer_depth = layer_depth.where(layer_depth)"
   ]
  },
  {
   "cell_type": "code",
   "execution_count": 15,
   "id": "c87bdf79-7852-4b31-9962-2fe102d79a8a",
   "metadata": {},
   "outputs": [],
   "source": [
    "layer_depth = layer_depth.to_dataset(name='tmask')"
   ]
  },
  {
   "cell_type": "code",
   "execution_count": 16,
   "id": "dc740598-c29f-4523-a4a5-8f90b3b0e94c",
   "metadata": {},
   "outputs": [],
   "source": [
    "layer_depth = layer_depth.to_dataframe()"
   ]
  },
  {
   "cell_type": "code",
   "execution_count": 17,
   "id": "50bdb286-af88-4b38-892e-30457da5a853",
   "metadata": {},
   "outputs": [],
   "source": [
    "# condition\n",
    "\n",
    "max_depth = [\n",
    "    (layer_depth.tmask == 0),\n",
    "    (layer_depth.tmask == 1),\n",
    "    (layer_depth.tmask == 2),\n",
    "    (layer_depth.tmask == 3),\n",
    "    (layer_depth.tmask == 4),\n",
    "    (layer_depth.tmask == 5),\n",
    "    (layer_depth.tmask == 6),\n",
    "]\n",
    "\n",
    "values_depth = [3.04, 9.45, 16.36, 23.89, 32.20, 41.48, 51.94]\n",
    "\n",
    "layer_depth['tmask'] = np.select(max_depth, values_depth)"
   ]
  },
  {
   "cell_type": "code",
   "execution_count": 18,
   "id": "0daa881c-e6d9-4a55-83ea-465fbbf928e3",
   "metadata": {},
   "outputs": [],
   "source": [
    "layer_depth = layer_depth.to_xarray()"
   ]
  },
  {
   "cell_type": "code",
   "execution_count": 19,
   "id": "83f20c5b-95cb-42b0-9476-f76fdae5eb87",
   "metadata": {},
   "outputs": [],
   "source": [
    "layer_depth = layer_depth.where(layer_depth)"
   ]
  },
  {
   "cell_type": "code",
   "execution_count": 20,
   "id": "7f196673-6962-40f5-8717-8d816cdef082",
   "metadata": {},
   "outputs": [],
   "source": [
    "ocean_area_sliced_dp = ocean_area_sliced.isel(x=slice(58,60),y=slice(41,43))"
   ]
  },
  {
   "cell_type": "markdown",
   "id": "8fbb82d8-e97c-406c-8c86-d0d52ce8a02f",
   "metadata": {},
   "source": [
    "### Alkalinity weighted only over the z axis (depth)"
   ]
  },
  {
   "cell_type": "code",
   "execution_count": 54,
   "id": "83590a52-e4a8-4baf-b48a-ecb37db8cee7",
   "metadata": {},
   "outputs": [],
   "source": [
    "alk_weighted_baseline = xr.open_dataset('/Volumes/UnionSine/Cropped_DataTransfer/SSP1_2.6/Alkalinity/ALK_baseline_2.6_cropped.nc',\n",
    "                                         decode_times=True).isel(deptht=slice(0,6))"
   ]
  },
  {
   "cell_type": "code",
   "execution_count": null,
   "id": "7b8a7472-98f3-4126-9bd6-79c3b20a3772",
   "metadata": {},
   "outputs": [],
   "source": [
    "alk_weighted_baseline = (alk_weighted_baseline.ALK * 1.025).to_dataset(name='ALK') # mmol/m3"
   ]
  },
  {
   "cell_type": "code",
   "execution_count": null,
   "id": "c0340afd-903e-48ce-878e-280c00a6fbd9",
   "metadata": {},
   "outputs": [],
   "source": [
    "# iterate over all layers and append\n",
    "\n",
    "alk_base_layers = []\n",
    "\n",
    "for x in (range(len(alk_weighted_baseline.deptht))):\n",
    "    if x == 0:\n",
    "        alk_n_base = alk_weighted_baseline.ALK.isel(deptht=x) * alk_weighted_baseline.deptht[x] \n",
    "        alk_base_layers.append(alk_n_base)\n",
    "    else:\n",
    "        alk_n_base = alk_weighted_baseline.ALK.isel(deptht=x) * (alk_weighted_baseline.deptht[x] - alk_weighted_baseline.deptht[x-1])\n",
    "        alk_base_layers.append(alk_n_base)"
   ]
  },
  {
   "cell_type": "code",
   "execution_count": null,
   "id": "72481fd0-824f-41b1-a386-41038ac2b2bf",
   "metadata": {},
   "outputs": [],
   "source": [
    "weighted_base_alk = sum(alk_base_layers) / layer_depth.tmask # mmol/m3 * m / m"
   ]
  },
  {
   "cell_type": "code",
   "execution_count": null,
   "id": "36bce40a-ae3f-44c5-aa9c-208a4f50d29b",
   "metadata": {},
   "outputs": [],
   "source": [
    "weighted_base_alk = weighted_base_alk.to_dataset(name='ALK')"
   ]
  },
  {
   "cell_type": "code",
   "execution_count": null,
   "id": "62ac2cf6-9809-452f-9a03-dbf86f73c239",
   "metadata": {},
   "outputs": [],
   "source": [
    "alk_weighted_oae = xr.open_dataset('/Volumes/UnionSine/Cropped_DataTransfer/SSP1_2.6/Alkalinity/ALK_OAE_2.6_cropped.nc',\n",
    "                                    decode_times=True).isel(deptht=slice(0, 6))"
   ]
  },
  {
   "cell_type": "code",
   "execution_count": null,
   "id": "b538fb4d-6a58-4eb0-a009-4eabd5bd5fd0",
   "metadata": {},
   "outputs": [],
   "source": [
    "alk_weighted_oae = (alk_weighted_oae.ALK * 1.025).to_dataset(name='ALK') # mmol/m3"
   ]
  },
  {
   "cell_type": "code",
   "execution_count": null,
   "id": "ea2944b0-7a53-445f-8d82-b9dc3ee55017",
   "metadata": {},
   "outputs": [],
   "source": [
    "# iterate over all layers and append\n",
    "\n",
    "alk_oae_layers = []\n",
    "\n",
    "for x in list((range(len(alk_weighted_oae.deptht)))):\n",
    "    if x == 0:\n",
    "        alk_n_oae = alk_weighted_oae.ALK.isel(deptht=x) * alk_weighted_oae.deptht[x] \n",
    "        alk_oae_layers.append(alk_n_oae)\n",
    "    else:\n",
    "        alk_n_oae = alk_weighted_oae.ALK.isel(deptht=x) * (alk_weighted_oae.deptht[x] - alk_weighted_oae.deptht[x-1])\n",
    "        alk_oae_layers.append(alk_n_oae)"
   ]
  },
  {
   "cell_type": "code",
   "execution_count": null,
   "id": "ace470f3-35fe-4ba0-b7d7-08bdbc07f737",
   "metadata": {},
   "outputs": [],
   "source": [
    "weighted_oae_alk = sum(alk_oae_layers) / layer_depth.tmask # mmol/m3 * m / m"
   ]
  },
  {
   "cell_type": "code",
   "execution_count": null,
   "id": "825cde27-4126-434e-8000-e3c70bda3e84",
   "metadata": {},
   "outputs": [],
   "source": [
    "weighted_oae_alk = weighted_oae_alk.to_dataset(name='ALK')"
   ]
  },
  {
   "cell_type": "code",
   "execution_count": null,
   "id": "3dad8c16-e3d0-4836-a006-21aac223b066",
   "metadata": {},
   "outputs": [],
   "source": [
    "# weighted_base_alk.to_netcdf('/Volumes/UnionSine/Cropped_DataTransfer/SSP1_2.6/Alkalinity/ALK_amplitude_base.nc')\n",
    "# weighted_oae_alk.to_netcdf('/Volumes/UnionSine/Cropped_DataTransfer/SSP1_2.6/Alkalinity/ALK_amplitude_oae.nc')"
   ]
  },
  {
   "cell_type": "markdown",
   "id": "077f89a2-8152-43f6-b357-2225585d7739",
   "metadata": {},
   "source": [
    "### DIC weighted only over the z axis (depth)"
   ]
  },
  {
   "cell_type": "code",
   "execution_count": 20,
   "id": "cc695239-6308-49ce-801a-ee11968167b4",
   "metadata": {},
   "outputs": [],
   "source": [
    "dic_weighted_baseline = xr.open_dataset('/Volumes/UnionSine/Cropped_DataTransfer/SSP1_2.6/DIC/DIC_Baseline_2.6_cropped.nc', \n",
    "                                        decode_times=True).isel(deptht=slice(0, 6), z=0)"
   ]
  },
  {
   "cell_type": "code",
   "execution_count": 21,
   "id": "dcd1f9b8-88f1-4522-95dd-5b8be27ffddd",
   "metadata": {},
   "outputs": [],
   "source": [
    "dic_weighted_base = (dic_weighted_baseline.DIC * 1.025).to_dataset(name='DIC') # mmol/m3"
   ]
  },
  {
   "cell_type": "code",
   "execution_count": null,
   "id": "0e17aef4-3be5-401e-b517-8b1c4933ea8a",
   "metadata": {},
   "outputs": [],
   "source": [
    "# iterate over all layers and append\n",
    "\n",
    "dic_base_layers = []\n",
    "\n",
    "for x in list((range(len(dic_weighted_base.deptht)))):\n",
    "    if x == 0:\n",
    "        dic_n_base = dic_weighted_base.DIC.isel(deptht=x) * dic_weighted_base.deptht[x] \n",
    "        dic_base_layers.append(dic_n_base)\n",
    "    else:\n",
    "        dic_n_base = dic_weighted_base.DIC.isel(deptht=x) * (dic_weighted_base.deptht[x] - dic_weighted_base.deptht[x-1])\n",
    "        dic_base_layers.append(dic_n_base)"
   ]
  },
  {
   "cell_type": "code",
   "execution_count": null,
   "id": "d4903709-a027-491f-9229-a018282bfdbd",
   "metadata": {},
   "outputs": [],
   "source": [
    "dic_weighted_base = sum(dic_base_layers) / layer_depth.tmask"
   ]
  },
  {
   "cell_type": "code",
   "execution_count": null,
   "id": "168b1970-668d-4477-b330-8e0b28ab6f1d",
   "metadata": {},
   "outputs": [],
   "source": [
    "dic_weighted_base = dic_weighted_base.to_dataset(name='DIC')"
   ]
  },
  {
   "cell_type": "code",
   "execution_count": 63,
   "id": "ce003bd2-51dc-4f18-8f9f-e5c531bfe6f2",
   "metadata": {},
   "outputs": [],
   "source": [
    "dic_weighted_oae = xr.open_dataset('/Volumes/UnionSine/Cropped_DataTransfer/SSP1_2.6/DIC/DIC_OAE_2.6_cropped.nc', \n",
    "                                    decode_times=True).isel(deptht=slice(0, 6), z=0)"
   ]
  },
  {
   "cell_type": "code",
   "execution_count": null,
   "id": "507e6d64-fc93-419e-8932-ceb0849c511c",
   "metadata": {},
   "outputs": [],
   "source": [
    "dic_weighted_oae = (dic_weighted_oae.DIC * 1.025).to_dataset(name='DIC') # mmol/m3"
   ]
  },
  {
   "cell_type": "code",
   "execution_count": null,
   "id": "e8240c11-8f1b-48ac-a522-4e0e00543af0",
   "metadata": {},
   "outputs": [],
   "source": [
    "# iterate over all layers and append\n",
    "\n",
    "dic_oae_layers = []\n",
    "\n",
    "for x in list((range(len(dic_weighted_oae.deptht)))):\n",
    "    if x == 0:\n",
    "        dic_n_oae = dic_weighted_oae.DIC.isel(deptht=x) * dic_weighted_oae.deptht[x] \n",
    "        dic_oae_layers.append(dic_n_oae)\n",
    "    else:\n",
    "        dic_n_oae = dic_weighted_oae.DIC.isel(deptht=x) * (dic_weighted_oae.deptht[x] - dic_weighted_oae.deptht[x-1])\n",
    "        dic_oae_layers.append(dic_n_oae)"
   ]
  },
  {
   "cell_type": "code",
   "execution_count": null,
   "id": "db9aad79-77d2-45f7-a8f4-786698242061",
   "metadata": {},
   "outputs": [],
   "source": [
    "dic_weighted_oae = sum(dic_oae_layers) / layer_depth.tmask # mmol/m3 * m / m"
   ]
  },
  {
   "cell_type": "code",
   "execution_count": null,
   "id": "a1ec06e0-f76a-4e0f-a1f0-f36f61c64a49",
   "metadata": {},
   "outputs": [],
   "source": [
    "dic_weighted_oae = dic_weighted_oae.to_dataset(name='DIC')"
   ]
  },
  {
   "cell_type": "code",
   "execution_count": null,
   "id": "2b174b41-9697-40a3-9dd7-b3f9ec760950",
   "metadata": {},
   "outputs": [],
   "source": [
    "#dic_weighted_base.to_netcdf('/Users/chiaraciscato/Desktop/geomar/Cropped_DataTransfer/SSP1_2.6/DIC/DIC_amplitude_base.nc')\n",
    "#dic_weighted_oae.to_netcdf('/Users/chiaraciscato/Desktop/geomar/Cropped_DataTransfer/SSP1_2.6/DIC/DIC_amplitude_oae.nc')"
   ]
  },
  {
   "cell_type": "markdown",
   "id": "4fe093c8-5cd8-41e2-a7dd-6d9ce9f630c2",
   "metadata": {},
   "source": [
    "### DIC as a function of depth"
   ]
  },
  {
   "cell_type": "code",
   "execution_count": 72,
   "id": "ae05260e-dc08-4501-a76c-ace467209dfd",
   "metadata": {},
   "outputs": [],
   "source": [
    "# calculate volume for each grid cell\n",
    "\n",
    "dx = mesh_mask.e1t \n",
    "dy = mesh_mask.e2t\n",
    "\n",
    "grid_cell_area = dx * dy  # m2"
   ]
  },
  {
   "cell_type": "code",
   "execution_count": 73,
   "id": "2b7c8092-8144-484d-b5fb-dba127b24ba8",
   "metadata": {},
   "outputs": [],
   "source": [
    "gridded_mesh = grid_cell_area.isel(t=0)"
   ]
  },
  {
   "cell_type": "code",
   "execution_count": 74,
   "id": "4ce80ccc-2566-4c6a-8adc-de899ce802a5",
   "metadata": {},
   "outputs": [],
   "source": [
    "# apply mask to weighted grid cells\n",
    "\n",
    "ocean_area = gridded_mesh * mask"
   ]
  },
  {
   "cell_type": "code",
   "execution_count": 75,
   "id": "e91b6605-73ff-4e59-966e-d059bcff4cd6",
   "metadata": {},
   "outputs": [],
   "source": [
    "ocean_area_sliced = ocean_area.sel(x=slice(520,595),y=slice(330,435),z=slice(0,6))"
   ]
  },
  {
   "cell_type": "code",
   "execution_count": 76,
   "id": "a7e1a091-686f-4642-bf69-177a3a5fdec6",
   "metadata": {},
   "outputs": [],
   "source": [
    "dic_col_base = (dic_weighted_baseline.DIC * 1.025).to_dataset(name='DIC') # mmol/m3"
   ]
  },
  {
   "cell_type": "code",
   "execution_count": 77,
   "id": "dcbab28c-981d-448c-b9d4-4deba9e6df7b",
   "metadata": {},
   "outputs": [],
   "source": [
    "dic_col_base = dic_col_base.where(dic_col_base)"
   ]
  },
  {
   "cell_type": "code",
   "execution_count": 78,
   "id": "3a9ec75e-ffb8-4829-aba0-64a223109a01",
   "metadata": {},
   "outputs": [],
   "source": [
    "dic_col_base = dic_col_base.sel(time_counter=slice('2090', '2100'))"
   ]
  },
  {
   "cell_type": "code",
   "execution_count": 79,
   "id": "a865a7af-a549-4cb3-b436-b23f188e582a",
   "metadata": {},
   "outputs": [],
   "source": [
    "dic_col_base = ocean_area_sliced * dic_col_base.DIC # mmol/m3 * m2"
   ]
  },
  {
   "cell_type": "code",
   "execution_count": 80,
   "id": "ef3ca942-cf2d-472f-909c-69c3714b3147",
   "metadata": {},
   "outputs": [],
   "source": [
    "dic_col_base = dic_col_base.where(dic_col_base)"
   ]
  },
  {
   "cell_type": "code",
   "execution_count": 81,
   "id": "2c02b965-3afd-4bc5-9fbb-26f9c7fe2b8e",
   "metadata": {},
   "outputs": [],
   "source": [
    "dic_col_layers_base = []\n",
    "\n",
    "for x in list((range(len(dic_col_base.deptht)))):\n",
    "    dic_n_base = (dic_col_base.isel(deptht=x).sum(['x', 'y']) / ocean_area_sliced.isel(z=x).sum(['x', 'y'])).mean()\n",
    "    dic_col_layers_base.append(dic_n_base)"
   ]
  },
  {
   "cell_type": "code",
   "execution_count": 82,
   "id": "e2c3a154-62d6-4feb-9567-033de5f8b732",
   "metadata": {},
   "outputs": [],
   "source": [
    "dicList_base = []\n",
    "depthtList_base = []\n",
    "for x in dic_col_layers_base:\n",
    "    dic_base=x.to_dataset(name='DIC').DIC.values\n",
    "    deptht_base=x.to_dataset(name='DIC').deptht.values\n",
    "    dicList_base.append(dic_base)\n",
    "    depthtList_base.append(deptht_base)\n",
    "\n",
    "dic_layers_base = pd.DataFrame({'DIC':dicList_base, 'depth':depthtList_base})"
   ]
  },
  {
   "cell_type": "code",
   "execution_count": 84,
   "id": "d34194ea-db8e-4630-a716-f054be0001ad",
   "metadata": {},
   "outputs": [],
   "source": [
    "dic_col_oae = (dic_weighted_oae.DIC * 1.025).to_dataset(name='DIC') # mmol/m3"
   ]
  },
  {
   "cell_type": "code",
   "execution_count": 85,
   "id": "20fe75ff-ade3-45e2-9feb-dcfaa7567b55",
   "metadata": {},
   "outputs": [],
   "source": [
    "dic_col_oae = dic_col_oae.where(dic_col_oae)"
   ]
  },
  {
   "cell_type": "code",
   "execution_count": 86,
   "id": "7291df08-962e-440c-aa32-819561668abe",
   "metadata": {},
   "outputs": [],
   "source": [
    "dic_col_oae = dic_col_oae.sel(time_counter=slice('2090', '2100'))"
   ]
  },
  {
   "cell_type": "code",
   "execution_count": 87,
   "id": "3eaca651-e333-4864-a9e9-4851a2b077f5",
   "metadata": {},
   "outputs": [],
   "source": [
    "dic_col_oae = ocean_area_sliced * dic_col_oae.DIC # mmol/m3 * m2"
   ]
  },
  {
   "cell_type": "code",
   "execution_count": 88,
   "id": "75fe1ac2-dd46-432c-8fe5-b1d96a1ee64c",
   "metadata": {},
   "outputs": [],
   "source": [
    "dic_col_oae = dic_col_oae.where(dic_col_oae)"
   ]
  },
  {
   "cell_type": "code",
   "execution_count": 89,
   "id": "7661c881-5360-49ee-aba7-bfdf62319cc8",
   "metadata": {},
   "outputs": [],
   "source": [
    "dic_col_layers_oae = []\n",
    "\n",
    "for x in list((range(len(dic_col_oae.deptht)))):\n",
    "    dic_n_oae = (dic_col_oae.isel(deptht=x).sum(['x', 'y']) / ocean_area_sliced.isel(z=x).sum(['x', 'y'])).mean()\n",
    "    dic_col_layers_oae.append(dic_n_oae)"
   ]
  },
  {
   "cell_type": "code",
   "execution_count": 90,
   "id": "141c8b19-e52b-4245-a8ba-a6014d931f74",
   "metadata": {},
   "outputs": [],
   "source": [
    "dicList_oae = []\n",
    "depthtList_oae = []\n",
    "for x in dic_col_layers_oae:\n",
    "    dic_oae=x.to_dataset(name='DIC').DIC.values\n",
    "    deptht_oae=x.to_dataset(name='DIC').deptht.values\n",
    "    dicList_oae.append(dic_oae)\n",
    "    depthtList_oae.append(deptht_oae)\n",
    "\n",
    "dic_layers_oae = pd.DataFrame({'DIC':dicList_oae, 'depth':depthtList_oae})"
   ]
  },
  {
   "cell_type": "code",
   "execution_count": 32,
   "id": "65baefd0-b882-4d8f-a030-077de65177b0",
   "metadata": {},
   "outputs": [],
   "source": [
    "dic_layers_base = dic_layers_base.to_xarray()\n",
    "dic_layers_oae = dic_layers_oae.to_xarray()"
   ]
  },
  {
   "cell_type": "markdown",
   "id": "20fe41a9-5c2a-46e8-9131-4980bc90de99",
   "metadata": {},
   "source": [
    "### Alkalinity weighted over x,y,z"
   ]
  },
  {
   "cell_type": "code",
   "execution_count": null,
   "id": "55348944-4558-426b-8aaa-64807d7d5a89",
   "metadata": {},
   "outputs": [],
   "source": [
    "sliced_alk_baseline = ocean_area_sliced * weighted_base_alk.ALK # baseline"
   ]
  },
  {
   "cell_type": "code",
   "execution_count": null,
   "id": "7d987a1a-5fa6-4564-97c6-eec3cc4be69c",
   "metadata": {},
   "outputs": [],
   "source": [
    "regridded_alk_base = sliced_alk_baseline.sum(['x', 'y']) / ocean_area_sliced.sum(['x', 'y'])"
   ]
  },
  {
   "cell_type": "code",
   "execution_count": null,
   "id": "4542d54f-3c8c-4648-bf53-b0f22dda1510",
   "metadata": {},
   "outputs": [],
   "source": [
    "regridded_alk_base = regridded_alk_base.to_dataset(name='ALK')"
   ]
  },
  {
   "cell_type": "code",
   "execution_count": null,
   "id": "c1e620c2-5633-42ec-bcd3-b17ac415fcc4",
   "metadata": {},
   "outputs": [],
   "source": [
    "sliced_alk_oae = ocean_area_sliced * alk_weighted_oae.ALK # oae"
   ]
  },
  {
   "cell_type": "code",
   "execution_count": null,
   "id": "1c937c2f-458c-49a2-b089-9fdf7770db6b",
   "metadata": {},
   "outputs": [],
   "source": [
    "regridded_alk_oae = sliced_alk_oae.sum(['x', 'y']) / ocean_area_sliced.sum(['x', 'y'])"
   ]
  },
  {
   "cell_type": "code",
   "execution_count": null,
   "id": "3188de96-abaa-4378-962f-fa89a8cbd6d1",
   "metadata": {},
   "outputs": [],
   "source": [
    "regridded_alk_oae = regridded_alk_oae.to_dataset(name='ALK')"
   ]
  },
  {
   "cell_type": "code",
   "execution_count": null,
   "id": "4023656f-add7-4dc2-8f43-441cfc51a742",
   "metadata": {},
   "outputs": [],
   "source": [
    "#regridded_alk_base.to_netcdf('/Volumes/UnionSine/Cropped_DataTransfer/SSP1_2.6/Alkalinity/ALK_baseline_2.6_weighted.nc')\n",
    "#regridded_alk_oae.to_netcdf('/Volumes/UnionSine/Cropped_DataTransfer/SSP1_2.6/Alkalinity/ALK_oae_2.6_weighted.nc')"
   ]
  },
  {
   "cell_type": "markdown",
   "id": "ff4efe31-bee7-4ee2-83f4-efdd0f14c12c",
   "metadata": {},
   "source": [
    "### Alkalinity surface weighted over x and y"
   ]
  },
  {
   "cell_type": "code",
   "execution_count": null,
   "id": "af783d13-62e2-4c79-bd2f-7105cef05334",
   "metadata": {},
   "outputs": [],
   "source": [
    "alk_surface_baseline = xr.open_dataset('/Volumes/UnionSine/Cropped_DataTransfer/SSP1_2.6/Alkalinity/ALK_baseline_2.6_cropped.nc',\n",
    "                                         decode_times=True).isel(deptht=slice(0,1))"
   ]
  },
  {
   "cell_type": "code",
   "execution_count": null,
   "id": "7a18abb9-d41a-4b7e-8c4b-b7191d96a32d",
   "metadata": {},
   "outputs": [],
   "source": [
    "alk_surface_baseline = (alk_surface_baseline.ALK * 1.025).to_dataset(name='ALK') # mmol/m3"
   ]
  },
  {
   "cell_type": "code",
   "execution_count": null,
   "id": "f322f16c-cb42-4583-a38a-1473befbbe8e",
   "metadata": {},
   "outputs": [],
   "source": [
    "alk_surface_baseline = alk_surface_baseline.where(alk_surface_baseline)"
   ]
  },
  {
   "cell_type": "code",
   "execution_count": null,
   "id": "3769b4ee-158e-4e72-bab9-b5d68d5c5a34",
   "metadata": {},
   "outputs": [],
   "source": [
    "alk_surface_baseline = ocean_area_sliced * alk_surface_baseline.ALK # mmol/m3 * m2"
   ]
  },
  {
   "cell_type": "code",
   "execution_count": null,
   "id": "b7563155-5eb3-4af1-98f4-59a95f58e806",
   "metadata": {},
   "outputs": [],
   "source": [
    "regridded_alk_surf_base = alk_surface_baseline.sum(['x', 'y']) / ocean_area_sliced.sum(['x', 'y']) # mmol/m3 * m2 / m2"
   ]
  },
  {
   "cell_type": "code",
   "execution_count": null,
   "id": "6e313303-349b-4b4e-961f-87c794f9cd01",
   "metadata": {},
   "outputs": [],
   "source": [
    "regridded_alk_surf_base = regridded_alk_surf_base.where(regridded_alk_surf_base)"
   ]
  },
  {
   "cell_type": "code",
   "execution_count": null,
   "id": "f1623595-51dd-43b6-8781-bffc758b9287",
   "metadata": {},
   "outputs": [],
   "source": [
    "regridded_alk_surf_base = regridded_alk_surf_base.to_dataset(name='ALK')"
   ]
  },
  {
   "cell_type": "code",
   "execution_count": null,
   "id": "34ca1ead-6419-4724-a5e4-fd84bed68049",
   "metadata": {},
   "outputs": [],
   "source": [
    "alk_surface_oae = xr.open_dataset('/Volumes/UnionSine/Cropped_DataTransfer/SSP1_2.6/Alkalinity/ALK_OAE_2.6_cropped.nc',\n",
    "                                         decode_times=True).isel(deptht=slice(0,1))"
   ]
  },
  {
   "cell_type": "code",
   "execution_count": null,
   "id": "ca4bc579-312d-48a7-8f63-0b6fe6076aaf",
   "metadata": {},
   "outputs": [],
   "source": [
    "alk_surface_oae = (alk_surface_oae.ALK * 1.025).to_dataset(name='ALK') # mmol/m3"
   ]
  },
  {
   "cell_type": "code",
   "execution_count": null,
   "id": "027628c9-8e35-41cd-b4f4-a66952e7ff4d",
   "metadata": {},
   "outputs": [],
   "source": [
    "alk_surface_oae = alk_surface_oae.where(alk_surface_oae)"
   ]
  },
  {
   "cell_type": "code",
   "execution_count": null,
   "id": "884e0ff8-2dbe-4dd9-ba64-a49d4ce6ddf5",
   "metadata": {},
   "outputs": [],
   "source": [
    "alk_surface_oae = ocean_area_sliced * alk_surface_oae.ALK # mmol/m3 * m2"
   ]
  },
  {
   "cell_type": "code",
   "execution_count": null,
   "id": "d09d76ac-5a33-485c-89c5-ec690a41e770",
   "metadata": {},
   "outputs": [],
   "source": [
    "regridded_alk_surf_oae = alk_surface_oae.sum(['x', 'y']) / ocean_area_sliced.sum(['x', 'y']) # mmol/m3 * m2 / m2"
   ]
  },
  {
   "cell_type": "code",
   "execution_count": null,
   "id": "1e0ec891-fe4d-4f21-9495-50b37c872886",
   "metadata": {},
   "outputs": [],
   "source": [
    "regridded_alk_surf_oae = regridded_alk_surf_oae.where(regridded_alk_surf_oae)"
   ]
  },
  {
   "cell_type": "code",
   "execution_count": null,
   "id": "b1d0a6fb-b8ea-40ff-9ef4-c4118f5e2ba2",
   "metadata": {},
   "outputs": [],
   "source": [
    "regridded_alk_surf_oae = regridded_alk_surf_oae.to_dataset(name='ALK')"
   ]
  },
  {
   "cell_type": "code",
   "execution_count": null,
   "id": "9180b40d-7dd8-4d2a-94cf-14d4266f9834",
   "metadata": {},
   "outputs": [],
   "source": [
    "regridded_alk_surf_base.to_netcdf('/Volumes/UnionSine/Cropped_DataTransfer/SSP1_2.6/Alkalinity/ALK_baseline_surf_2.6_try.nc')\n",
    "regridded_alk_surf_oae.to_netcdf('/Volumes/UnionSine/Cropped_DataTransfer/SSP1_2.6/Alkalinity/ALK_oae_surf_2.6_TRY.nc')"
   ]
  },
  {
   "cell_type": "markdown",
   "id": "17805ab0-2d86-4f56-a054-d9613613a11c",
   "metadata": {},
   "source": [
    "### Alkalinity weighted over x and y for the first 150 metres:"
   ]
  },
  {
   "cell_type": "code",
   "execution_count": 6,
   "id": "d3798f2e-f34e-4676-a79b-8958c5c60568",
   "metadata": {},
   "outputs": [],
   "source": [
    "# calculate volume for each grid cell\n",
    "\n",
    "dx = mesh_mask.e1t \n",
    "dy = mesh_mask.e2t\n",
    "\n",
    "grid_cell_area = dx * dy  # m2"
   ]
  },
  {
   "cell_type": "code",
   "execution_count": 7,
   "id": "60ba9ccc-700b-4449-8acb-e224eac56066",
   "metadata": {},
   "outputs": [],
   "source": [
    "gridded_mesh = grid_cell_area.isel(t=0)"
   ]
  },
  {
   "cell_type": "code",
   "execution_count": 8,
   "id": "b425dd3d-f829-458c-8170-b7fc1c04e2ca",
   "metadata": {},
   "outputs": [],
   "source": [
    "# apply mask to weighted grid cells\n",
    "\n",
    "ocean_area = gridded_mesh * mask"
   ]
  },
  {
   "cell_type": "code",
   "execution_count": 9,
   "id": "a3a7ee6d-f960-4b86-bab5-ec587ef7865e",
   "metadata": {},
   "outputs": [],
   "source": [
    "ocean_area_sliced = ocean_area.sel(x=slice(520,595),y=slice(330,435),z=slice(0,12))"
   ]
  },
  {
   "cell_type": "code",
   "execution_count": 10,
   "id": "180791bc-8fc2-47a2-8b9c-a5bf52035829",
   "metadata": {},
   "outputs": [],
   "source": [
    "alk_col_baseline = xr.open_dataset('/Volumes/UnionSine/Cropped_DataTransfer/SSP1_2.6/Alkalinity/ALK_baseline_2.6_cropped.nc', decode_times=True)"
   ]
  },
  {
   "cell_type": "code",
   "execution_count": 11,
   "id": "ef1d99be-e56c-4e25-a16f-3f697c06e2ef",
   "metadata": {},
   "outputs": [],
   "source": [
    "alk_col_baseline = (alk_col_baseline.ALK * 1.025).to_dataset(name='ALK') # mmol/m3"
   ]
  },
  {
   "cell_type": "code",
   "execution_count": 12,
   "id": "55add846-544f-4b73-a3ea-de0a12fce22a",
   "metadata": {},
   "outputs": [],
   "source": [
    "alk_col_baseline = alk_col_baseline.where(alk_col_baseline)"
   ]
  },
  {
   "cell_type": "code",
   "execution_count": 13,
   "id": "c8855e21-e0df-4dea-9fdb-8a858a59f0cb",
   "metadata": {},
   "outputs": [],
   "source": [
    "alk_col_baseline = alk_col_baseline.sel(time_counter=slice('2090', '2100'))"
   ]
  },
  {
   "cell_type": "code",
   "execution_count": 14,
   "id": "8c815d4a-b260-44d7-8d33-ec8f00f2e638",
   "metadata": {},
   "outputs": [],
   "source": [
    "alk_col_baseline = ocean_area_sliced * alk_col_baseline.ALK # mmol/m3 * m2"
   ]
  },
  {
   "cell_type": "code",
   "execution_count": 15,
   "id": "2b8643b5-d94d-4d97-8485-a13688f4d619",
   "metadata": {},
   "outputs": [],
   "source": [
    "alk_col_baseline = alk_col_baseline.where(alk_col_baseline)"
   ]
  },
  {
   "cell_type": "code",
   "execution_count": 16,
   "id": "930c0252-f7ab-4966-b9db-56242dc5d63e",
   "metadata": {},
   "outputs": [],
   "source": [
    "alk_col_baseline = alk_col_baseline.isel(z=0)"
   ]
  },
  {
   "cell_type": "code",
   "execution_count": 17,
   "id": "fe74677d-0e58-4c98-8a94-2f01e0cffc81",
   "metadata": {},
   "outputs": [],
   "source": [
    "alk_col_layers = []\n",
    "\n",
    "for x in list((range(len(alk_col_baseline.deptht)))):\n",
    "    alk_n_base = (alk_col_baseline.isel(deptht=x).sum(['x', 'y']) / ocean_area_sliced.isel(z=x).sum(['x', 'y'])).mean()\n",
    "    alk_col_layers.append(alk_n_base)"
   ]
  },
  {
   "cell_type": "code",
   "execution_count": 18,
   "id": "c689cdc0-26f6-4613-a708-582b872f436b",
   "metadata": {},
   "outputs": [],
   "source": [
    "alkList = []\n",
    "depthtList = []\n",
    "for x in alk_col_layers:\n",
    "    alk=x.to_dataset(name='ALK').ALK.values\n",
    "    deptht=x.to_dataset(name='ALK').deptht.values\n",
    "    alkList.append(alk)\n",
    "    depthtList.append(deptht)\n",
    "\n",
    "alk_layers_base = pd.DataFrame({'ALK':alkList, 'depth':depthtList})"
   ]
  },
  {
   "cell_type": "code",
   "execution_count": 19,
   "id": "64e4f0e9-8ac9-4665-a2e1-017a7f435cbf",
   "metadata": {},
   "outputs": [],
   "source": [
    "alk_col_oae = xr.open_dataset('/Volumes/UnionSine/Cropped_DataTransfer/SSP1_2.6/Alkalinity/ALK_OAE_2.6_cropped.nc', decode_times=True)"
   ]
  },
  {
   "cell_type": "code",
   "execution_count": 20,
   "id": "8ccdaff0-f9f5-47a3-b02d-f876c32ceac2",
   "metadata": {},
   "outputs": [],
   "source": [
    "alk_col_oae = (alk_col_oae.ALK * 1.025).to_dataset(name='ALK') # mmol/m3"
   ]
  },
  {
   "cell_type": "code",
   "execution_count": 21,
   "id": "b2e2d17f-0220-4a16-ad34-ada7ceff5faa",
   "metadata": {},
   "outputs": [],
   "source": [
    "alk_col_oae = alk_col_oae.where(alk_col_oae)"
   ]
  },
  {
   "cell_type": "code",
   "execution_count": 22,
   "id": "ff719bc0-b184-4f89-acfa-f33245dfa456",
   "metadata": {},
   "outputs": [],
   "source": [
    "alk_col_oae = alk_col_oae.sel(time_counter=slice('2090', '2100'))"
   ]
  },
  {
   "cell_type": "code",
   "execution_count": 23,
   "id": "3e95c7c5-b3c6-40a5-8b8e-c10b7db8c63c",
   "metadata": {},
   "outputs": [],
   "source": [
    "alk_col_oae = ocean_area_sliced * alk_col_oae.ALK # mmol/m3 * m2"
   ]
  },
  {
   "cell_type": "code",
   "execution_count": 24,
   "id": "8f3217f4-a5e7-49c7-bee5-58ac9397acbd",
   "metadata": {},
   "outputs": [],
   "source": [
    "alk_col_oae = alk_col_oae.where(alk_col_oae)"
   ]
  },
  {
   "cell_type": "code",
   "execution_count": 25,
   "id": "32045c5a-f9fc-4526-9ea4-9f8bc3e9b420",
   "metadata": {},
   "outputs": [],
   "source": [
    "alk_col_oae = alk_col_oae.isel(z=0)"
   ]
  },
  {
   "cell_type": "code",
   "execution_count": 26,
   "id": "c049709f-d924-4e38-9032-00d74f1aca41",
   "metadata": {},
   "outputs": [],
   "source": [
    "alk_col_layers_oae = []\n",
    "\n",
    "for x in list((range(len(alk_col_oae.deptht)))):\n",
    "    alk_n_oae = (alk_col_oae.isel(deptht=x).sum(['x', 'y']) / ocean_area_sliced.isel(z=x).sum(['x', 'y'])).mean()\n",
    "    alk_col_layers_oae.append(alk_n_oae)"
   ]
  },
  {
   "cell_type": "code",
   "execution_count": 27,
   "id": "900008c5-00db-4df6-b539-2ff556d22cc3",
   "metadata": {},
   "outputs": [],
   "source": [
    "alkList_oae = []\n",
    "depthtList_oae = []\n",
    "for x in alk_col_layers_oae:\n",
    "    alk_oae=x.to_dataset(name='ALK').ALK.values\n",
    "    deptht_oae=x.to_dataset(name='ALK').deptht.values\n",
    "    alkList_oae.append(alk_oae)\n",
    "    depthtList_oae.append(deptht_oae)\n",
    "\n",
    "alk_layers_oae = pd.DataFrame({'ALK':alkList_oae, 'depth':depthtList_oae})"
   ]
  },
  {
   "cell_type": "code",
   "execution_count": 32,
   "id": "47979e01-5a19-44aa-bf0a-b88c7672ae60",
   "metadata": {},
   "outputs": [],
   "source": [
    "alk_layers_base = alk_layers_base.to_xarray()\n",
    "alk_layers_oae = alk_layers_oae.to_xarray()"
   ]
  },
  {
   "cell_type": "code",
   "execution_count": 34,
   "id": "92f95aa1-46fa-43db-afa8-85c033e98d7a",
   "metadata": {},
   "outputs": [],
   "source": [
    "alk_layers_base.to_netcdf('/Volumes/UnionSine/Cropped_DataTransfer/SSP1_2.6/Alkalinity/ALK_baseline_col_2.6_weighted.nc')\n",
    "alk_layers_oae.to_netcdf('/Volumes/UnionSine/Cropped_DataTransfer/SSP1_2.6/Alkalinity/ALK_oae_col_2.6_weighted.nc')"
   ]
  },
  {
   "cell_type": "markdown",
   "id": "94fed5b8-2dd6-4da8-aba3-c259d06a3d44",
   "metadata": {},
   "source": [
    "### DIC weighted over x,y,z"
   ]
  },
  {
   "cell_type": "code",
   "execution_count": null,
   "id": "1c1b0e53-c8fd-47d6-aada-71469f291b67",
   "metadata": {},
   "outputs": [],
   "source": [
    "sliced_dic_baseline = ocean_area_sliced * dic_weighted_base.DIC # mmol/m3 * m2"
   ]
  },
  {
   "cell_type": "code",
   "execution_count": null,
   "id": "120c939e-5b2e-4b7b-a166-46cf3f6dc8cc",
   "metadata": {},
   "outputs": [],
   "source": [
    "regridded_dic_base = sliced_dic_baseline.sum(['x', 'y']) / ocean_area_sliced.sum(['x', 'y']) # mmol/m3 * m2 / m2"
   ]
  },
  {
   "cell_type": "code",
   "execution_count": null,
   "id": "aa66817f-810e-4c7a-9cd6-7f50b5ce07f7",
   "metadata": {},
   "outputs": [],
   "source": [
    "regridded_dic_base = regridded_dic_base.to_dataset(name='DIC')"
   ]
  },
  {
   "cell_type": "code",
   "execution_count": null,
   "id": "aea6893a-8cf9-44a7-813a-82287a6ba2c0",
   "metadata": {},
   "outputs": [],
   "source": [
    "sliced_dic_oae = ocean_area_sliced * dic_weighted_oae.DIC # oae"
   ]
  },
  {
   "cell_type": "code",
   "execution_count": null,
   "id": "780dfe0c-71aa-4c81-ab2c-6b34af3d6cb7",
   "metadata": {},
   "outputs": [],
   "source": [
    "regridded_dic_oae = sliced_alk_oae.sum(['x', 'y']) / ocean_area_sliced.sum(['x', 'y'])"
   ]
  },
  {
   "cell_type": "code",
   "execution_count": null,
   "id": "2655cdc9-a480-436a-bbf9-f77bf68f1e14",
   "metadata": {},
   "outputs": [],
   "source": [
    "regridded_dic_oae = regridded_dic_oae.to_dataset(name='DIC')"
   ]
  },
  {
   "cell_type": "code",
   "execution_count": null,
   "id": "5d7b293d-801e-4641-a3e7-40f36a08db0f",
   "metadata": {},
   "outputs": [],
   "source": [
    "#regridded_dic_base.to_netcdf('/Volumes/UnionSine/Cropped_DataTransfer/SSP1_2.6/DIC/DIC_baseline_2.6_weighted.nc')\n",
    "#regridded_dic_oae.to_netcdf('/Volumes/UnionSine/Cropped_DataTransfer/SSP1_2.6/DIC/DIC_oae_2.6_weighted.nc')"
   ]
  },
  {
   "cell_type": "markdown",
   "id": "79245516-7540-4480-91ce-1cf59523788a",
   "metadata": {},
   "source": [
    "### Weighted alkalinity at location point"
   ]
  },
  {
   "cell_type": "code",
   "execution_count": 84,
   "id": "7305f7fa-1e17-4abc-acd3-4b1bbdc074b3",
   "metadata": {},
   "outputs": [],
   "source": [
    "alk_weighted_baseline_dp = weighted_base_alk.isel(x=slice(58,60),y=slice(41,43))"
   ]
  },
  {
   "cell_type": "code",
   "execution_count": 85,
   "id": "87fd3ef8-c898-473f-900a-d688727443db",
   "metadata": {},
   "outputs": [],
   "source": [
    "sliced_alk_baseline_dp = ocean_area_sliced_dp * alk_weighted_baseline_dp.ALK"
   ]
  },
  {
   "cell_type": "code",
   "execution_count": 86,
   "id": "0ab1a77b-5be2-4565-832b-36600c0018d0",
   "metadata": {},
   "outputs": [],
   "source": [
    "regridded_alk_base_dp = sliced_alk_baseline_dp.sum(['x', 'y']) / ocean_area_sliced_dp.sum(['x', 'y'])"
   ]
  },
  {
   "cell_type": "code",
   "execution_count": 87,
   "id": "457585a7-3f60-4dd4-9716-0cf4129b4cc8",
   "metadata": {},
   "outputs": [],
   "source": [
    "regridded_alk_base_dp = regridded_alk_base_dp.to_dataset(name='ALK')"
   ]
  },
  {
   "cell_type": "code",
   "execution_count": 88,
   "id": "92c7823c-b04e-4c6b-aa02-d2e3818e04ee",
   "metadata": {},
   "outputs": [],
   "source": [
    "alk_weighted_oae_dp = alk_weighted_oae.isel(x=slice(58,60),y=slice(41,43)) "
   ]
  },
  {
   "cell_type": "code",
   "execution_count": 89,
   "id": "24db9fd7-26d9-4059-9453-ca0a4d05c9fb",
   "metadata": {},
   "outputs": [],
   "source": [
    "sliced_alk_oae_dp = ocean_area_sliced_dp * alk_weighted_oae_dp.ALK"
   ]
  },
  {
   "cell_type": "code",
   "execution_count": 90,
   "id": "2fbe37f1-bfd3-4ef0-914e-6ecc2cc19eed",
   "metadata": {},
   "outputs": [],
   "source": [
    "regridded_alk_oae_dp = sliced_alk_oae_dp.sum(['x', 'y']) / ocean_area_sliced_dp.sum(['x', 'y'])"
   ]
  },
  {
   "cell_type": "code",
   "execution_count": 91,
   "id": "d5baae66-c458-448f-9aa9-2f289a9633cc",
   "metadata": {},
   "outputs": [],
   "source": [
    "regridded_alk_oae_dp = regridded_alk_oae_dp.to_dataset(name='ALK')"
   ]
  },
  {
   "cell_type": "code",
   "execution_count": 92,
   "id": "abe8acc4-e748-4ea8-b83a-47b7dccee9cd",
   "metadata": {},
   "outputs": [],
   "source": [
    "#regridded_alk_base_dp.to_netcdf('/Volumes/UnionSine/Cropped_DataTransfer/SSP1_2.6/Alkalinity/ALK_baseline_2.6_weighted_dp.nc')\n",
    "#regridded_alk_oae_dp.to_netcdf('/Volumes/UnionSine/Cropped_DataTransfer/SSP1_2.6/Alkalinity/ALK_oae_2.6_weighted_dp.nc')"
   ]
  },
  {
   "cell_type": "markdown",
   "id": "411179cd-1b47-47a8-a5fa-65d879cc5419",
   "metadata": {},
   "source": [
    "### Weighted DIC at location point"
   ]
  },
  {
   "cell_type": "code",
   "execution_count": 93,
   "id": "b0a559d5-71c8-4af4-aa6e-49e848d18674",
   "metadata": {},
   "outputs": [],
   "source": [
    "dic_weighted_baseline_dp = dic_weighted_base.isel(x=slice(58,60),y=slice(41,43))"
   ]
  },
  {
   "cell_type": "code",
   "execution_count": 94,
   "id": "b07e4ea4-6619-4d41-af51-153419cdbb4c",
   "metadata": {},
   "outputs": [],
   "source": [
    "sliced_dic_baseline_dp = ocean_area_sliced_dp * dic_weighted_baseline_dp.DIC"
   ]
  },
  {
   "cell_type": "code",
   "execution_count": 95,
   "id": "ee0d40f6-252c-4a48-a79f-9b83e1d81c1e",
   "metadata": {},
   "outputs": [],
   "source": [
    "regridded_dic_base_dp = sliced_dic_baseline_dp.sum(['x', 'y']) / ocean_area_sliced_dp.sum(['x', 'y'])"
   ]
  },
  {
   "cell_type": "code",
   "execution_count": 96,
   "id": "fe13cffd-a6a8-42f4-980a-a71e29e08e99",
   "metadata": {},
   "outputs": [],
   "source": [
    "regridded_dic_base_dp = regridded_dic_base_dp.to_dataset(name='DIC')"
   ]
  },
  {
   "cell_type": "code",
   "execution_count": 97,
   "id": "7c93c78e-2c6c-44f5-938e-bc93e127772a",
   "metadata": {},
   "outputs": [],
   "source": [
    "dic_weighted_oae_dp = dic_weighted_oae.isel(x=slice(58,60),y=slice(41,43)) "
   ]
  },
  {
   "cell_type": "code",
   "execution_count": 98,
   "id": "0d751dc1-a6a7-4afc-ba0a-e8e2b8d28bf2",
   "metadata": {},
   "outputs": [],
   "source": [
    "sliced_dic_oae_dp = ocean_area_sliced_dp * dic_weighted_oae_dp.DIC"
   ]
  },
  {
   "cell_type": "code",
   "execution_count": 99,
   "id": "287dd85e-8b60-474e-9e6f-6f893c4a8dc5",
   "metadata": {},
   "outputs": [],
   "source": [
    "regridded_dic_oae_dp = sliced_dic_oae_dp.sum(['x', 'y']) / ocean_area_sliced_dp.sum(['x', 'y'])"
   ]
  },
  {
   "cell_type": "code",
   "execution_count": 100,
   "id": "b530682e-4679-4758-ba56-b49cd6e89ff9",
   "metadata": {},
   "outputs": [],
   "source": [
    "regridded_dic_oae_dp = regridded_dic_oae_dp.to_dataset(name='DIC')"
   ]
  },
  {
   "cell_type": "code",
   "execution_count": 101,
   "id": "19917a5b-747b-4589-b341-0ef010d7cc3f",
   "metadata": {},
   "outputs": [],
   "source": [
    "#regridded_dic_base_dp.to_netcdf('/Volumes/UnionSine/Cropped_DataTransfer/SSP1_2.6/DIC/DIC_baseline_2.6_weighted_dp.nc')\n",
    "#regridded_dic_oae_dp.to_netcdf('/Volumes/UnionSine/Cropped_DataTransfer/SSP1_2.6/DIC/DIC_oae_2.6_weighted_dp.nc')"
   ]
  },
  {
   "cell_type": "markdown",
   "id": "f3e43693-55df-4a66-a163-ae3219be6e45",
   "metadata": {},
   "source": [
    "### Weighted CO2 flux"
   ]
  },
  {
   "cell_type": "code",
   "execution_count": 21,
   "id": "5f00371a-fe7a-48a6-a371-d47f77dd949d",
   "metadata": {},
   "outputs": [],
   "source": [
    "co2flux_weighted_base = xr.open_dataset('/Volumes/UnionSine/Cropped_DataTransfer/SSP1_2.6/CO2flux/CO2flux_Baseline_2.6_cropped.nc')"
   ]
  },
  {
   "cell_type": "code",
   "execution_count": 22,
   "id": "54fb3a05-2412-484d-8b32-4877b724d5f9",
   "metadata": {},
   "outputs": [],
   "source": [
    "sliced_co2flux_baseline = ocean_area_sliced * co2flux_weighted_base.co2flux # baseline"
   ]
  },
  {
   "cell_type": "code",
   "execution_count": 23,
   "id": "76f74dff-851e-4cc0-9f2e-d78c84402878",
   "metadata": {},
   "outputs": [],
   "source": [
    "regridded_co2flux_base = sliced_co2flux_baseline.sum(['x', 'y'])  / ocean_area_sliced.sum(['x', 'y']) "
   ]
  },
  {
   "cell_type": "code",
   "execution_count": 24,
   "id": "82519e3f-178d-48cb-a35b-9042a19efdb7",
   "metadata": {},
   "outputs": [],
   "source": [
    "regridded_co2flux_base = regridded_co2flux_base.to_dataset(name='co2flux')"
   ]
  },
  {
   "cell_type": "code",
   "execution_count": 25,
   "id": "beb4bb68-e459-4894-8157-18e0e8cfb62e",
   "metadata": {},
   "outputs": [],
   "source": [
    "co2flux_weighted_oae = xr.open_dataset('/Volumes/UnionSine/Cropped_DataTransfer/SSP1_2.6/CO2flux/CO2flux_OAE_2.6_cropped.nc')"
   ]
  },
  {
   "cell_type": "code",
   "execution_count": 26,
   "id": "2ad72df7-3c1b-4948-804c-8531da01ded1",
   "metadata": {},
   "outputs": [],
   "source": [
    "sliced_co2flux_oae = ocean_area_sliced * co2flux_weighted_oae.co2flux # oae"
   ]
  },
  {
   "cell_type": "code",
   "execution_count": 27,
   "id": "b9fba2ed-cb31-4115-90ff-cc67442b0cc4",
   "metadata": {},
   "outputs": [],
   "source": [
    "regridded_co2flux_oae = sliced_co2flux_oae.sum(['x', 'y']) / ocean_area_sliced.sum(['x', 'y'])"
   ]
  },
  {
   "cell_type": "code",
   "execution_count": 28,
   "id": "1f47e1f0-199c-49cd-8358-64a4e972780e",
   "metadata": {},
   "outputs": [],
   "source": [
    "regridded_co2flux_oae = regridded_co2flux_oae.to_dataset(name='co2flux')"
   ]
  },
  {
   "cell_type": "code",
   "execution_count": 29,
   "id": "d0426f26-7f3b-424c-b40c-7eab3fa6abd2",
   "metadata": {},
   "outputs": [],
   "source": [
    "#regridded_co2flux_base.to_netcdf('/Volumes/UnionSine/Cropped_DataTransfer/SSP1_2.6/CO2flux/co2flux_baseline_2.6_weighted.nc')\n",
    "#regridded_co2flux_oae.to_netcdf('/Volumes/UnionSine/Cropped_DataTransfer/SSP1_2.6/CO2flux/co2flux_oae_2.6_weighted.nc')"
   ]
  },
  {
   "cell_type": "code",
   "execution_count": 30,
   "id": "9c089585-9f04-4d72-9467-39e410dad9f0",
   "metadata": {},
   "outputs": [],
   "source": [
    "base = (co2flux_weighted_base * 31536000 / 3.6667 * ocean_area_sliced)"
   ]
  },
  {
   "cell_type": "code",
   "execution_count": 31,
   "id": "72a6d66d-72e0-4dd2-9294-100df8422a43",
   "metadata": {},
   "outputs": [],
   "source": [
    "oae = (co2flux_weighted_oae * 31536000 / 3.6667 * ocean_area_sliced)"
   ]
  },
  {
   "cell_type": "code",
   "execution_count": 32,
   "id": "ae18a115-797a-46ed-87f2-f073e1eb48d7",
   "metadata": {},
   "outputs": [],
   "source": [
    "diff = ((oae - base) * 1e-12)"
   ]
  },
  {
   "cell_type": "code",
   "execution_count": 33,
   "id": "175547fe-12c8-4af4-a9bf-9cd229fc2b25",
   "metadata": {},
   "outputs": [],
   "source": [
    "diff = diff.isel(time=0).sel(time_counter=slice('2090', '2100'))"
   ]
  },
  {
   "cell_type": "code",
   "execution_count": 34,
   "id": "5b58609f-2feb-4e61-956e-a30b62551225",
   "metadata": {},
   "outputs": [],
   "source": [
    "month_length = diff.time_counter.dt.days_in_month\n",
    "diff_avg = ((diff * month_length).resample(time_counter='M').sum() / month_length.resample(time_counter='M').sum())"
   ]
  },
  {
   "cell_type": "code",
   "execution_count": 35,
   "id": "101bf0c2-1ea5-45ff-b183-1a2fd2c198c2",
   "metadata": {},
   "outputs": [],
   "source": [
    "diff_avg = diff_avg.where(diff_avg)"
   ]
  },
  {
   "cell_type": "code",
   "execution_count": 36,
   "id": "924799e0-4281-49e2-85d9-8db3b1870987",
   "metadata": {},
   "outputs": [],
   "source": [
    "diff_avg = -(diff_avg.co2flux.mean(dim='time_counter')).to_dataset(name='co2flux')"
   ]
  },
  {
   "cell_type": "code",
   "execution_count": 37,
   "id": "b899b356-bfb0-4389-a0fc-5093509aeae9",
   "metadata": {},
   "outputs": [
    {
     "data": {
      "image/png": "[encoded data removed]",
      "text/plain": [
       "<Figure size 600x500 with 2 Axes>"
      ]
     },
     "metadata": {},
     "output_type": "display_data"
    }
   ],
   "source": [
    "plt.figure(figsize=(6, 5))\n",
    "\n",
    "im = diff_avg.co2flux.plot.pcolormesh(\n",
    "    add_colorbar=False, vmin = 0, vmax = 0.0002, cmap='GnBu'\n",
    ")\n",
    "\n",
    "cbar = plt.colorbar(im, aspect = 30, pad=0.04, ticks=[0, 0.00005, 0.0001, 0.00015, 0.0002])\n",
    "cbar.set_label('Δ C [Gt/yr]', fontsize=12)\n",
    "cbar.ax.set_yticklabels(['0', '0.00005', '0.0001', '0.00015', '0.0002'])\n",
    "\n",
    "plt.xlabel(\"x\", fontsize=14)\n",
    "plt.ylabel(\"y\", fontsize=14)\n",
    "plt.tick_params(axis='both', which='major', labelsize=10)\n",
    "plt.title(\"\")\n",
    "\n",
    "for t in cbar.ax.get_yticklabels():\n",
    "     t.set_fontsize(10)\n",
    "        \n",
    "plt.savefig('/Users/chiaraciscato/Desktop/geomar/geomarcode/SSP1_2.6/CO2flux/figs/co2fluxchg26.png')"
   ]
  },
  {
   "cell_type": "code",
   "execution_count": 43,
   "id": "12d684f9-438b-4111-94fc-e0b2f40cf029",
   "metadata": {},
   "outputs": [
    {
     "data": {
      "text/html": [
       "<div><svg style=\"position: absolute; width: 0; height: 0; overflow: hidden\">\n",
       "<defs>\n",
       "<symbol id=\"icon-database\" viewBox=\"0 0 32 32\">\n",
       "<path d=\"M16 0c-8.837 0-16 2.239-16 5v4c0 2.761 7.163 5 16 5s16-2.239 16-5v-4c0-2.761-7.163-5-16-5z\"></path>\n",
       "<path d=\"M16 17c-8.837 0-16-2.239-16-5v6c0 2.761 7.163 5 16 5s16-2.239 16-5v-6c0 2.761-7.163 5-16 5z\"></path>\n",
       "<path d=\"M16 26c-8.837 0-16-2.239-16-5v6c0 2.761 7.163 5 16 5s16-2.239 16-5v-6c0 2.761-7.163 5-16 5z\"></path>\n",
       "</symbol>\n",
       "<symbol id=\"icon-file-text2\" viewBox=\"0 0 32 32\">\n",
       "<path d=\"M28.681 7.159c-0.694-0.947-1.662-2.053-2.724-3.116s-2.169-2.030-3.116-2.724c-1.612-1.182-2.393-1.319-2.841-1.319h-15.5c-1.378 0-2.5 1.121-2.5 2.5v27c0 1.378 1.122 2.5 2.5 2.5h23c1.378 0 2.5-1.122 2.5-2.5v-19.5c0-0.448-0.137-1.23-1.319-2.841zM24.543 5.457c0.959 0.959 1.712 1.825 2.268 2.543h-4.811v-4.811c0.718 0.556 1.584 1.309 2.543 2.268zM28 29.5c0 0.271-0.229 0.5-0.5 0.5h-23c-0.271 0-0.5-0.229-0.5-0.5v-27c0-0.271 0.229-0.5 0.5-0.5 0 0 15.499-0 15.5 0v7c0 0.552 0.448 1 1 1h7v19.5z\"></path>\n",
       "<path d=\"M23 26h-14c-0.552 0-1-0.448-1-1s0.448-1 1-1h14c0.552 0 1 0.448 1 1s-0.448 1-1 1z\"></path>\n",
       "<path d=\"M23 22h-14c-0.552 0-1-0.448-1-1s0.448-1 1-1h14c0.552 0 1 0.448 1 1s-0.448 1-1 1z\"></path>\n",
       "<path d=\"M23 18h-14c-0.552 0-1-0.448-1-1s0.448-1 1-1h14c0.552 0 1 0.448 1 1s-0.448 1-1 1z\"></path>\n",
       "</symbol>\n",
       "</defs>\n",
       "</svg>\n",
       "<style>/* CSS stylesheet for displaying xarray objects in jupyterlab.\n",
       " *\n",
       " */\n",
       "\n",
       ":root {\n",
       "  --xr-font-color0: var(--jp-content-font-color0, rgba(0, 0, 0, 1));\n",
       "  --xr-font-color2: var(--jp-content-font-color2, rgba(0, 0, 0, 0.54));\n",
       "  --xr-font-color3: var(--jp-content-font-color3, rgba(0, 0, 0, 0.38));\n",
       "  --xr-border-color: var(--jp-border-color2, #e0e0e0);\n",
       "  --xr-disabled-color: var(--jp-layout-color3, #bdbdbd);\n",
       "  --xr-background-color: var(--jp-layout-color0, white);\n",
       "  --xr-background-color-row-even: var(--jp-layout-color1, white);\n",
       "  --xr-background-color-row-odd: var(--jp-layout-color2, #eeeeee);\n",
       "}\n",
       "\n",
       "html[theme=dark],\n",
       "body.vscode-dark {\n",
       "  --xr-font-color0: rgba(255, 255, 255, 1);\n",
       "  --xr-font-color2: rgba(255, 255, 255, 0.54);\n",
       "  --xr-font-color3: rgba(255, 255, 255, 0.38);\n",
       "  --xr-border-color: #1F1F1F;\n",
       "  --xr-disabled-color: #515151;\n",
       "  --xr-background-color: #111111;\n",
       "  --xr-background-color-row-even: #111111;\n",
       "  --xr-background-color-row-odd: #313131;\n",
       "}\n",
       "\n",
       ".xr-wrap {\n",
       "  display: block;\n",
       "  min-width: 300px;\n",
       "  max-width: 700px;\n",
       "}\n",
       "\n",
       ".xr-text-repr-fallback {\n",
       "  /* fallback to plain text repr when CSS is not injected (untrusted notebook) */\n",
       "  display: none;\n",
       "}\n",
       "\n",
       ".xr-header {\n",
       "  padding-top: 6px;\n",
       "  padding-bottom: 6px;\n",
       "  margin-bottom: 4px;\n",
       "  border-bottom: solid 1px var(--xr-border-color);\n",
       "}\n",
       "\n",
       ".xr-header > div,\n",
       ".xr-header > ul {\n",
       "  display: inline;\n",
       "  margin-top: 0;\n",
       "  margin-bottom: 0;\n",
       "}\n",
       "\n",
       ".xr-obj-type,\n",
       ".xr-array-name {\n",
       "  margin-left: 2px;\n",
       "  margin-right: 10px;\n",
       "}\n",
       "\n",
       ".xr-obj-type {\n",
       "  color: var(--xr-font-color2);\n",
       "}\n",
       "\n",
       ".xr-sections {\n",
       "  padding-left: 0 !important;\n",
       "  display: grid;\n",
       "  grid-template-columns: 150px auto auto 1fr 20px 20px;\n",
       "}\n",
       "\n",
       ".xr-section-item {\n",
       "  display: contents;\n",
       "}\n",
       "\n",
       ".xr-section-item input {\n",
       "  display: none;\n",
       "}\n",
       "\n",
       ".xr-section-item input + label {\n",
       "  color: var(--xr-disabled-color);\n",
       "}\n",
       "\n",
       ".xr-section-item input:enabled + label {\n",
       "  cursor: pointer;\n",
       "  color: var(--xr-font-color2);\n",
       "}\n",
       "\n",
       ".xr-section-item input:enabled + label:hover {\n",
       "  color: var(--xr-font-color0);\n",
       "}\n",
       "\n",
       ".xr-section-summary {\n",
       "  grid-column: 1;\n",
       "  color: var(--xr-font-color2);\n",
       "  font-weight: 500;\n",
       "}\n",
       "\n",
       ".xr-section-summary > span {\n",
       "  display: inline-block;\n",
       "  padding-left: 0.5em;\n",
       "}\n",
       "\n",
       ".xr-section-summary-in:disabled + label {\n",
       "  color: var(--xr-font-color2);\n",
       "}\n",
       "\n",
       ".xr-section-summary-in + label:before {\n",
       "  display: inline-block;\n",
       "  content: '►';\n",
       "  font-size: 11px;\n",
       "  width: 15px;\n",
       "  text-align: center;\n",
       "}\n",
       "\n",
       ".xr-section-summary-in:disabled + label:before {\n",
       "  color: var(--xr-disabled-color);\n",
       "}\n",
       "\n",
       ".xr-section-summary-in:checked + label:before {\n",
       "  content: '▼';\n",
       "}\n",
       "\n",
       ".xr-section-summary-in:checked + label > span {\n",
       "  display: none;\n",
       "}\n",
       "\n",
       ".xr-section-summary,\n",
       ".xr-section-inline-details {\n",
       "  padding-top: 4px;\n",
       "  padding-bottom: 4px;\n",
       "}\n",
       "\n",
       ".xr-section-inline-details {\n",
       "  grid-column: 2 / -1;\n",
       "}\n",
       "\n",
       ".xr-section-details {\n",
       "  display: none;\n",
       "  grid-column: 1 / -1;\n",
       "  margin-bottom: 5px;\n",
       "}\n",
       "\n",
       ".xr-section-summary-in:checked ~ .xr-section-details {\n",
       "  display: contents;\n",
       "}\n",
       "\n",
       ".xr-array-wrap {\n",
       "  grid-column: 1 / -1;\n",
       "  display: grid;\n",
       "  grid-template-columns: 20px auto;\n",
       "}\n",
       "\n",
       ".xr-array-wrap > label {\n",
       "  grid-column: 1;\n",
       "  vertical-align: top;\n",
       "}\n",
       "\n",
       ".xr-preview {\n",
       "  color: var(--xr-font-color3);\n",
       "}\n",
       "\n",
       ".xr-array-preview,\n",
       ".xr-array-data {\n",
       "  padding: 0 5px !important;\n",
       "  grid-column: 2;\n",
       "}\n",
       "\n",
       ".xr-array-data,\n",
       ".xr-array-in:checked ~ .xr-array-preview {\n",
       "  display: none;\n",
       "}\n",
       "\n",
       ".xr-array-in:checked ~ .xr-array-data,\n",
       ".xr-array-preview {\n",
       "  display: inline-block;\n",
       "}\n",
       "\n",
       ".xr-dim-list {\n",
       "  display: inline-block !important;\n",
       "  list-style: none;\n",
       "  padding: 0 !important;\n",
       "  margin: 0;\n",
       "}\n",
       "\n",
       ".xr-dim-list li {\n",
       "  display: inline-block;\n",
       "  padding: 0;\n",
       "  margin: 0;\n",
       "}\n",
       "\n",
       ".xr-dim-list:before {\n",
       "  content: '(';\n",
       "}\n",
       "\n",
       ".xr-dim-list:after {\n",
       "  content: ')';\n",
       "}\n",
       "\n",
       ".xr-dim-list li:not(:last-child):after {\n",
       "  content: ',';\n",
       "  padding-right: 5px;\n",
       "}\n",
       "\n",
       ".xr-has-index {\n",
       "  font-weight: bold;\n",
       "}\n",
       "\n",
       ".xr-var-list,\n",
       ".xr-var-item {\n",
       "  display: contents;\n",
       "}\n",
       "\n",
       ".xr-var-item > div,\n",
       ".xr-var-item label,\n",
       ".xr-var-item > .xr-var-name span {\n",
       "  background-color: var(--xr-background-color-row-even);\n",
       "  margin-bottom: 0;\n",
       "}\n",
       "\n",
       ".xr-var-item > .xr-var-name:hover span {\n",
       "  padding-right: 5px;\n",
       "}\n",
       "\n",
       ".xr-var-list > li:nth-child(odd) > div,\n",
       ".xr-var-list > li:nth-child(odd) > label,\n",
       ".xr-var-list > li:nth-child(odd) > .xr-var-name span {\n",
       "  background-color: var(--xr-background-color-row-odd);\n",
       "}\n",
       "\n",
       ".xr-var-name {\n",
       "  grid-column: 1;\n",
       "}\n",
       "\n",
       ".xr-var-dims {\n",
       "  grid-column: 2;\n",
       "}\n",
       "\n",
       ".xr-var-dtype {\n",
       "  grid-column: 3;\n",
       "  text-align: right;\n",
       "  color: var(--xr-font-color2);\n",
       "}\n",
       "\n",
       ".xr-var-preview {\n",
       "  grid-column: 4;\n",
       "}\n",
       "\n",
       ".xr-var-name,\n",
       ".xr-var-dims,\n",
       ".xr-var-dtype,\n",
       ".xr-preview,\n",
       ".xr-attrs dt {\n",
       "  white-space: nowrap;\n",
       "  overflow: hidden;\n",
       "  text-overflow: ellipsis;\n",
       "  padding-right: 10px;\n",
       "}\n",
       "\n",
       ".xr-var-name:hover,\n",
       ".xr-var-dims:hover,\n",
       ".xr-var-dtype:hover,\n",
       ".xr-attrs dt:hover {\n",
       "  overflow: visible;\n",
       "  width: auto;\n",
       "  z-index: 1;\n",
       "}\n",
       "\n",
       ".xr-var-attrs,\n",
       ".xr-var-data {\n",
       "  display: none;\n",
       "  background-color: var(--xr-background-color) !important;\n",
       "  padding-bottom: 5px !important;\n",
       "}\n",
       "\n",
       ".xr-var-attrs-in:checked ~ .xr-var-attrs,\n",
       ".xr-var-data-in:checked ~ .xr-var-data {\n",
       "  display: block;\n",
       "}\n",
       "\n",
       ".xr-var-data > table {\n",
       "  float: right;\n",
       "}\n",
       "\n",
       ".xr-var-name span,\n",
       ".xr-var-data,\n",
       ".xr-attrs {\n",
       "  padding-left: 25px !important;\n",
       "}\n",
       "\n",
       ".xr-attrs,\n",
       ".xr-var-attrs,\n",
       ".xr-var-data {\n",
       "  grid-column: 1 / -1;\n",
       "}\n",
       "\n",
       "dl.xr-attrs {\n",
       "  padding: 0;\n",
       "  margin: 0;\n",
       "  display: grid;\n",
       "  grid-template-columns: 125px auto;\n",
       "}\n",
       "\n",
       ".xr-attrs dt,\n",
       ".xr-attrs dd {\n",
       "  padding: 0;\n",
       "  margin: 0;\n",
       "  float: left;\n",
       "  padding-right: 10px;\n",
       "  width: auto;\n",
       "}\n",
       "\n",
       ".xr-attrs dt {\n",
       "  font-weight: normal;\n",
       "  grid-column: 1;\n",
       "}\n",
       "\n",
       ".xr-attrs dt:hover span {\n",
       "  display: inline-block;\n",
       "  background: var(--xr-background-color);\n",
       "  padding-right: 10px;\n",
       "}\n",
       "\n",
       ".xr-attrs dd {\n",
       "  grid-column: 2;\n",
       "  white-space: pre-wrap;\n",
       "  word-break: break-all;\n",
       "}\n",
       "\n",
       ".xr-icon-database,\n",
       ".xr-icon-file-text2 {\n",
       "  display: inline-block;\n",
       "  vertical-align: middle;\n",
       "  width: 1em;\n",
       "  height: 1.5em !important;\n",
       "  stroke-width: 0;\n",
       "  stroke: currentColor;\n",
       "  fill: currentColor;\n",
       "}\n",
       "</style><pre class='xr-text-repr-fallback'>&lt;xarray.Dataset&gt;\n",
       "Dimensions:  ()\n",
       "Coordinates:\n",
       "    time     float64 0.0\n",
       "Data variables:\n",
       "    co2flux  float64 0.1779</pre><div class='xr-wrap' hidden><div class='xr-header'><div class='xr-obj-type'>xarray.Dataset</div></div><ul class='xr-sections'><li class='xr-section-item'><input id='section-d15a5c6c-8862-4d53-829b-0e0694841485' class='xr-section-summary-in' type='checkbox' disabled ><label for='section-d15a5c6c-8862-4d53-829b-0e0694841485' class='xr-section-summary'  title='Expand/collapse section'>Dimensions:</label><div class='xr-section-inline-details'></div><div class='xr-section-details'></div></li><li class='xr-section-item'><input id='section-9723fdd8-5250-44c1-95c4-e1d2c3f45606' class='xr-section-summary-in' type='checkbox'  checked><label for='section-9723fdd8-5250-44c1-95c4-e1d2c3f45606' class='xr-section-summary' >Coordinates: <span>(1)</span></label><div class='xr-section-inline-details'></div><div class='xr-section-details'><ul class='xr-var-list'><li class='xr-var-item'><div class='xr-var-name'><span>time</span></div><div class='xr-var-dims'>()</div><div class='xr-var-dtype'>float64</div><div class='xr-var-preview xr-preview'>0.0</div><input id='attrs-8dac3baa-0139-4bc9-9a81-e15f0d17ec03' class='xr-var-attrs-in' type='checkbox' ><label for='attrs-8dac3baa-0139-4bc9-9a81-e15f0d17ec03' title='Show/Hide attributes'><svg class='icon xr-icon-file-text2'><use xlink:href='#icon-file-text2'></use></svg></label><input id='data-d0b8daa6-fd5a-4785-bdb5-2c56d72ded1b' class='xr-var-data-in' type='checkbox'><label for='data-d0b8daa6-fd5a-4785-bdb5-2c56d72ded1b' title='Show/Hide data repr'><svg class='icon xr-icon-database'><use xlink:href='#icon-database'></use></svg></label><div class='xr-var-attrs'><dl class='xr-attrs'><dt><span>standard_name :</span></dt><dd>time</dd><dt><span>units :</span></dt><dd>day as %Y%m%d.%f</dd><dt><span>calendar :</span></dt><dd>proleptic_gregorian</dd><dt><span>axis :</span></dt><dd>T</dd></dl></div><div class='xr-var-data'><pre>array(0.)</pre></div></li></ul></div></li><li class='xr-section-item'><input id='section-71099edc-0ea6-49d8-a373-418fe8e0807d' class='xr-section-summary-in' type='checkbox'  checked><label for='section-71099edc-0ea6-49d8-a373-418fe8e0807d' class='xr-section-summary' >Data variables: <span>(1)</span></label><div class='xr-section-inline-details'></div><div class='xr-section-details'><ul class='xr-var-list'><li class='xr-var-item'><div class='xr-var-name'><span>co2flux</span></div><div class='xr-var-dims'>()</div><div class='xr-var-dtype'>float64</div><div class='xr-var-preview xr-preview'>0.1779</div><input id='attrs-538eeb44-be24-4203-a6b0-73dac1b53500' class='xr-var-attrs-in' type='checkbox' disabled><label for='attrs-538eeb44-be24-4203-a6b0-73dac1b53500' title='Show/Hide attributes'><svg class='icon xr-icon-file-text2'><use xlink:href='#icon-file-text2'></use></svg></label><input id='data-5cc5c795-f413-4d1e-ae86-facc65660cf7' class='xr-var-data-in' type='checkbox'><label for='data-5cc5c795-f413-4d1e-ae86-facc65660cf7' title='Show/Hide data repr'><svg class='icon xr-icon-database'><use xlink:href='#icon-database'></use></svg></label><div class='xr-var-attrs'><dl class='xr-attrs'></dl></div><div class='xr-var-data'><pre>array(0.17787995)</pre></div></li></ul></div></li><li class='xr-section-item'><input id='section-71e02c9c-a265-473e-9a24-8ee761274ff8' class='xr-section-summary-in' type='checkbox' disabled ><label for='section-71e02c9c-a265-473e-9a24-8ee761274ff8' class='xr-section-summary'  title='Expand/collapse section'>Attributes: <span>(0)</span></label><div class='xr-section-inline-details'></div><div class='xr-section-details'><dl class='xr-attrs'></dl></div></li></ul></div></div>"
      ],
      "text/plain": [
       "<xarray.Dataset>\n",
       "Dimensions:  ()\n",
       "Coordinates:\n",
       "    time     float64 0.0\n",
       "Data variables:\n",
       "    co2flux  float64 0.1779"
      ]
     },
     "execution_count": 43,
     "metadata": {},
     "output_type": "execute_result"
    }
   ],
   "source": [
    "diff_avg.sum(['x','y'])"
   ]
  },
  {
   "cell_type": "code",
   "execution_count": 38,
   "id": "82300df4-5a86-4534-bf8b-71f932edbba1",
   "metadata": {},
   "outputs": [],
   "source": [
    "# diff_avg.to_netcdf('/Volumes/UnionSine/Cropped_DataTransfer/SSP1_2.6/CO2flux/co2flux_uptakechng_26.nc')"
   ]
  },
  {
   "cell_type": "markdown",
   "id": "f9788e55-3e2f-4c60-9440-31dff1d0b546",
   "metadata": {},
   "source": [
    "### Weighted fCO2"
   ]
  },
  {
   "cell_type": "code",
   "execution_count": 111,
   "id": "647df513-70af-47fc-96d4-0c43339ffa5e",
   "metadata": {},
   "outputs": [],
   "source": [
    "fco2_weighted_base = xr.open_dataset('/Volumes/UnionSine/Cropped_DataTransfer/SSP1_2.6/FCO2/fco2_baseline_2.6_cropped.nc')"
   ]
  },
  {
   "cell_type": "code",
   "execution_count": 112,
   "id": "9e6fdf82-0139-4905-945c-cc2d623f5599",
   "metadata": {},
   "outputs": [],
   "source": [
    "sliced_fco2_baseline = ocean_area_sliced * fco2_weighted_base.fco2 # baseline"
   ]
  },
  {
   "cell_type": "code",
   "execution_count": 113,
   "id": "ec1f3a8b-4865-4825-a1be-56da54d71534",
   "metadata": {},
   "outputs": [],
   "source": [
    "regridded_fco2_base = sliced_fco2_baseline.sum(['x', 'y']) / ocean_area_sliced.sum(['x', 'y'])"
   ]
  },
  {
   "cell_type": "code",
   "execution_count": 114,
   "id": "34cee022-dfe8-4d91-bfae-f3b6694bbe01",
   "metadata": {},
   "outputs": [],
   "source": [
    "regridded_fco2_base = regridded_fco2_base.to_dataset(name='fco2')"
   ]
  },
  {
   "cell_type": "code",
   "execution_count": 115,
   "id": "89c15d0a-32bb-4d0e-a1bf-506b49adb3f5",
   "metadata": {},
   "outputs": [],
   "source": [
    "fco2_weighted_oae = xr.open_dataset('/Volumes/UnionSine/Cropped_DataTransfer/SSP1_2.6/FCO2/fco2_OAE_2.6_cropped.nc')"
   ]
  },
  {
   "cell_type": "code",
   "execution_count": 116,
   "id": "65142fde-bc8d-4485-939f-7b00f6c3204f",
   "metadata": {},
   "outputs": [],
   "source": [
    "sliced_fco2_oae = ocean_area_sliced * fco2_weighted_oae.fco2 # oae"
   ]
  },
  {
   "cell_type": "code",
   "execution_count": 117,
   "id": "fd0acacd-3c82-43f3-a7fe-7ed99eefc776",
   "metadata": {},
   "outputs": [],
   "source": [
    "regridded_fco2_oae = sliced_fco2_oae.sum(['x', 'y']) / ocean_area_sliced.sum(['x', 'y'])"
   ]
  },
  {
   "cell_type": "code",
   "execution_count": 118,
   "id": "1c8fdd6d-4d2e-4119-b4d8-dd5b900df570",
   "metadata": {},
   "outputs": [],
   "source": [
    "regridded_fco2_oae = regridded_fco2_oae.to_dataset(name='fco2')"
   ]
  },
  {
   "cell_type": "code",
   "execution_count": 119,
   "id": "c2e70fa8-2195-4677-a318-94493991e574",
   "metadata": {},
   "outputs": [],
   "source": [
    "#regridded_fco2_base.to_netcdf('/Volumes/UnionSine/Cropped_DataTransfer/SSP1_2.6/FCO2/fco2_baseline_2.6_weighted.nc')\n",
    "#regridded_fco2_oae.to_netcdf('/Volumes/UnionSine/Cropped_DataTransfer/SSP1_2.6/FCO2/fco2_oae_2.6_weighted.nc')"
   ]
  },
  {
   "cell_type": "markdown",
   "id": "06462f67-f32e-4eb6-b915-5af6dac87a9f",
   "metadata": {},
   "source": [
    "### Weighted pH"
   ]
  },
  {
   "cell_type": "code",
   "execution_count": 120,
   "id": "b269d5cd-0b85-4de9-b17d-c141c9d1903a",
   "metadata": {},
   "outputs": [],
   "source": [
    "ph_weighted_base = xr.open_dataset('/Volumes/UnionSine/Cropped_DataTransfer/SSP1_2.6/pH/ph_baseline_2.6_cropped.nc')"
   ]
  },
  {
   "cell_type": "code",
   "execution_count": 121,
   "id": "b22c342e-2525-4f2d-a58a-5cf404546ca9",
   "metadata": {},
   "outputs": [],
   "source": [
    "sliced_ph_baseline = ocean_area_sliced * ph_weighted_base.ph # baseline"
   ]
  },
  {
   "cell_type": "code",
   "execution_count": 122,
   "id": "01173be9-91d0-4b47-b52e-e189e6ca82e5",
   "metadata": {},
   "outputs": [],
   "source": [
    "regridded_ph_base = sliced_ph_baseline.sum(['x', 'y']) / ocean_area_sliced.sum(['x', 'y'])"
   ]
  },
  {
   "cell_type": "code",
   "execution_count": 123,
   "id": "c9295acb-1e15-45c8-a32c-1d52a77a1b8a",
   "metadata": {},
   "outputs": [],
   "source": [
    "regridded_ph_base = regridded_ph_base.to_dataset(name='ph')"
   ]
  },
  {
   "cell_type": "code",
   "execution_count": 124,
   "id": "30c3ecbf-8550-4a09-bdd5-4f2a0cdb668a",
   "metadata": {},
   "outputs": [],
   "source": [
    "ph_weighted_oae = xr.open_dataset('/Volumes/UnionSine/Cropped_DataTransfer/SSP1_2.6/pH/ph_OAE_2.6_cropped.nc')"
   ]
  },
  {
   "cell_type": "code",
   "execution_count": 125,
   "id": "7046ed01-63fc-4e0d-8a9e-809bf2ace9bf",
   "metadata": {},
   "outputs": [],
   "source": [
    "sliced_ph_oae = ocean_area_sliced * ph_weighted_oae.ph # oae"
   ]
  },
  {
   "cell_type": "code",
   "execution_count": 126,
   "id": "52116163-2af0-46d7-b037-14a4223ed804",
   "metadata": {},
   "outputs": [],
   "source": [
    "regridded_ph_oae = sliced_ph_oae.sum(['x', 'y']) / ocean_area_sliced.sum(['x', 'y'])"
   ]
  },
  {
   "cell_type": "code",
   "execution_count": 127,
   "id": "6bf0112b-184d-4e6c-acfd-c74ce6d8bac2",
   "metadata": {},
   "outputs": [],
   "source": [
    "regridded_ph_oae = regridded_ph_oae.to_dataset(name='ph')"
   ]
  },
  {
   "cell_type": "code",
   "execution_count": 128,
   "id": "4e0b3d15-c56a-45f6-a06f-cc9fc40c023b",
   "metadata": {},
   "outputs": [],
   "source": [
    "#regridded_ph_base.to_netcdf('/Volumes/UnionSine/Cropped_DataTransfer/SSP1_2.6/pH/ph_baseline_2.6_weighted.nc')\n",
    "#regridded_ph_oae.to_netcdf('/Volumes/UnionSine/Cropped_DataTransfer/SSP1_2.6/pH/ph_oae_2.6_weighted.nc')"
   ]
  },
  {
   "cell_type": "markdown",
   "id": "ebc50eba-7fa6-4777-b65d-e0d61ea4dc28",
   "metadata": {},
   "source": [
    "### Weighted SST"
   ]
  },
  {
   "cell_type": "code",
   "execution_count": 21,
   "id": "43505a57-9590-4059-8d04-2002f4e7357b",
   "metadata": {},
   "outputs": [],
   "source": [
    "sst_weighted_base = xr.open_dataset('/Volumes/UnionSine/Cropped_DataTransfer/mld&sst&swt/SST_2.6/sst_baseline_2.6_cropped.nc')"
   ]
  },
  {
   "cell_type": "code",
   "execution_count": 22,
   "id": "bbd41d60-e2e0-4d9f-8a85-c17688e1abf2",
   "metadata": {},
   "outputs": [],
   "source": [
    "sliced_sst_baseline = ocean_area_sliced * sst_weighted_base.sst # baseline"
   ]
  },
  {
   "cell_type": "code",
   "execution_count": 23,
   "id": "18bcf918-a09a-4c74-b51e-bad26d71c741",
   "metadata": {},
   "outputs": [],
   "source": [
    "regridded_sst_base = sliced_sst_baseline.sum(['x', 'y']) / ocean_area_sliced.sum(['x', 'y'])"
   ]
  },
  {
   "cell_type": "code",
   "execution_count": 24,
   "id": "64c05a6b-7479-468e-acb4-d6620b5dc262",
   "metadata": {},
   "outputs": [],
   "source": [
    "regridded_sst_base = regridded_sst_base.to_dataset(name='sst')"
   ]
  },
  {
   "cell_type": "code",
   "execution_count": 25,
   "id": "1205c5af-a23a-4755-8ec2-91322fa9aec1",
   "metadata": {},
   "outputs": [],
   "source": [
    "sst_weighted_oae = xr.open_dataset('/Volumes/UnionSine/Cropped_DataTransfer/mld&sst&swt/SST_2.6/sst_OAE_2.6_cropped.nc')"
   ]
  },
  {
   "cell_type": "code",
   "execution_count": 26,
   "id": "57775cbd-21cc-4c4a-bab8-334fb6ea4a4c",
   "metadata": {},
   "outputs": [],
   "source": [
    "sliced_sst_oae = ocean_area_sliced * sst_weighted_oae.sst # oae"
   ]
  },
  {
   "cell_type": "code",
   "execution_count": 27,
   "id": "3c3d8a58-c047-4fa2-a193-679b74b5dbd1",
   "metadata": {},
   "outputs": [],
   "source": [
    "regridded_sst_oae = sliced_sst_oae.sum(['x', 'y']) / ocean_area_sliced.sum(['x', 'y'])"
   ]
  },
  {
   "cell_type": "code",
   "execution_count": 28,
   "id": "bfb942dd-f10e-4234-bea9-47e5a96d1858",
   "metadata": {},
   "outputs": [],
   "source": [
    "regridded_sst_oae = regridded_sst_oae.to_dataset(name='sst')"
   ]
  },
  {
   "cell_type": "code",
   "execution_count": 29,
   "id": "98a1c65a-839f-45ff-98e5-015124c1e948",
   "metadata": {},
   "outputs": [],
   "source": [
    "regridded_sst_base.to_netcdf('/Volumes/UnionSine/Cropped_DataTransfer/mld&sst&swt/SST_2.6/sst_baseline_2.6_weighted.nc')\n",
    "regridded_sst_oae.to_netcdf('/Volumes/UnionSine/Cropped_DataTransfer/mld&sst&swt/SST_2.6/sst_oae_2.6_weighted.nc')"
   ]
  },
  {
   "cell_type": "markdown",
   "id": "5e4eb896-15fb-4ede-94a5-bff1685eeeab",
   "metadata": {},
   "source": [
    "### Weighted Mixed Layer Depth "
   ]
  },
  {
   "cell_type": "code",
   "execution_count": null,
   "id": "61cebb12-aed5-437f-afa6-6063ac469148",
   "metadata": {},
   "outputs": [],
   "source": [
    "mld_weighted_base = xr.open_dataset('/Volumes/UnionSine/Cropped_DataTransfer/SWT&MLD/MLD_2.6/MLD_baseline_2.6_cropped.nc')"
   ]
  },
  {
   "cell_type": "code",
   "execution_count": null,
   "id": "d3491a2d-36fb-4b4f-aa99-d372f5162475",
   "metadata": {},
   "outputs": [],
   "source": [
    "sliced_mld_baseline = ocean_area_sliced * mld_weighted_base.mld # baseline"
   ]
  },
  {
   "cell_type": "code",
   "execution_count": null,
   "id": "2e0f7263-ea61-4095-ad0f-ced7fbad664d",
   "metadata": {},
   "outputs": [],
   "source": [
    "regridded_mld_base = sliced_mld_baseline.sum(['x', 'y']) / ocean_area_sliced.sum(['x', 'y'])"
   ]
  },
  {
   "cell_type": "code",
   "execution_count": null,
   "id": "bf08d0c1-7eb8-4643-b82d-e08ea7ef8212",
   "metadata": {},
   "outputs": [],
   "source": [
    "regridded_mld_base = regridded_mld_base.to_dataset(name='mld')"
   ]
  },
  {
   "cell_type": "code",
   "execution_count": null,
   "id": "8778eaae-1d1c-46dc-b865-a6e633d46464",
   "metadata": {},
   "outputs": [],
   "source": [
    "mld_weighted_oae = xr.open_dataset('/Volumes/UnionSine/Cropped_DataTransfer/SWT&MLD/MLD_2.6/MLD_OAE_2.6_cropped.nc')"
   ]
  },
  {
   "cell_type": "code",
   "execution_count": null,
   "id": "f999d1f6-d35f-41a7-87ca-30b79084605e",
   "metadata": {},
   "outputs": [],
   "source": [
    "sliced_mld_oae = ocean_area_sliced * mld_weighted_oae.mld # oae"
   ]
  },
  {
   "cell_type": "code",
   "execution_count": null,
   "id": "fc8fe23f-1170-4850-891a-15e4ca3cc40f",
   "metadata": {},
   "outputs": [],
   "source": [
    "regridded_mld_oae = sliced_mld_oae.sum(['x', 'y']) / ocean_area_sliced.sum(['x', 'y'])"
   ]
  },
  {
   "cell_type": "code",
   "execution_count": null,
   "id": "8e6da3df-828e-42c2-8ac0-0db21b1154f3",
   "metadata": {},
   "outputs": [],
   "source": [
    "regridded_mld_oae = regridded_mld_oae.to_dataset(name='mld')"
   ]
  },
  {
   "cell_type": "code",
   "execution_count": null,
   "id": "4dece5ec-4463-4191-85c7-4133df030681",
   "metadata": {},
   "outputs": [],
   "source": [
    "#regridded_mld_base.to_netcdf('/Volumes/UnionSine/Cropped_DataTransfer/SSP1_2.6/mld_baseline_2.6_weighted.nc')\n",
    "#regridded_mld_oae.to_netcdf('/Volumes/UnionSine/Cropped_DataTransfer/SSP1_2.6/mld_oae_2.6_weighted.nc')"
   ]
  },
  {
   "cell_type": "markdown",
   "id": "1c703719-e30e-498c-a58d-6ccca45244ae",
   "metadata": {},
   "source": [
    "### Weighted Wind Speed"
   ]
  },
  {
   "cell_type": "code",
   "execution_count": 22,
   "id": "b93138c1-35d7-4d67-8f16-a1079de02b56",
   "metadata": {},
   "outputs": [],
   "source": [
    "wind_weighted_base = xr.open_dataset('/Volumes/UnionSine/Cropped_DataTransfer/mld&sst&swt/wind speed/wind_baseline_2.6_cropped.nc')"
   ]
  },
  {
   "cell_type": "code",
   "execution_count": 23,
   "id": "4f2e3df2-580f-4d44-ad30-84f35ce992de",
   "metadata": {},
   "outputs": [],
   "source": [
    "sliced_wind_baseline = ocean_area_sliced * wind_weighted_base.wind # baseline"
   ]
  },
  {
   "cell_type": "code",
   "execution_count": 24,
   "id": "fdbffb24-4fc0-436a-b983-6114f3c2df0e",
   "metadata": {},
   "outputs": [],
   "source": [
    "regridded_wind_base = sliced_wind_baseline.sum(['x', 'y']) / ocean_area_sliced.sum(['x', 'y'])"
   ]
  },
  {
   "cell_type": "code",
   "execution_count": 25,
   "id": "fb371c22-bc4e-46e9-a96b-4d94c50e5072",
   "metadata": {},
   "outputs": [],
   "source": [
    "regridded_wind_base = regridded_wind_base.to_dataset(name='wind')"
   ]
  },
  {
   "cell_type": "code",
   "execution_count": 26,
   "id": "90a7efc3-f810-4fad-af36-6c7a342aa917",
   "metadata": {},
   "outputs": [],
   "source": [
    "wind_weighted_oae = xr.open_dataset('/Volumes/UnionSine/Cropped_DataTransfer/mld&sst&swt/wind speed/wind_oae_2.6_cropped.nc')"
   ]
  },
  {
   "cell_type": "code",
   "execution_count": 27,
   "id": "82da752d-e105-4b4f-8d72-cd6a0ca879cb",
   "metadata": {},
   "outputs": [],
   "source": [
    "sliced_wind_oae = ocean_area_sliced * wind_weighted_oae.wind # oae"
   ]
  },
  {
   "cell_type": "code",
   "execution_count": 28,
   "id": "0a6fb59c-bc0d-46ab-b396-d322f6a18c6a",
   "metadata": {},
   "outputs": [],
   "source": [
    "regridded_wind_oae = sliced_wind_oae.sum(['x', 'y']) / ocean_area_sliced.sum(['x', 'y'])"
   ]
  },
  {
   "cell_type": "code",
   "execution_count": 29,
   "id": "5ef268c6-fecd-4bce-8717-48840a23415e",
   "metadata": {},
   "outputs": [],
   "source": [
    "regridded_wind_oae = regridded_wind_oae.to_dataset(name='wind')"
   ]
  },
  {
   "cell_type": "code",
   "execution_count": 30,
   "id": "49e36241-ce1d-40cc-83ab-0defd4f74e14",
   "metadata": {},
   "outputs": [],
   "source": [
    "#regridded_wind_base.to_netcdf('/Volumes/UnionSine/Cropped_DataTransfer/mld&sst&swt/wind speed/wind_baseline_2.6_weighted.nc')\n",
    "#regridded_wind_oae.to_netcdf('/Volumes/UnionSine/Cropped_DataTransfer/mld&sst&swt/wind speed/wind_oae_2.6_weighted.nc')"
   ]
  }
 ],
 "metadata": {
  "kernelspec": {
   "display_name": "geomar",
   "language": "python",
   "name": "geomar"
  },
  "language_info": {
   "codemirror_mode": {
    "name": "ipython",
    "version": 3
   },
   "file_extension": ".py",
   "mimetype": "text/x-python",
   "name": "python",
   "nbconvert_exporter": "python",
   "pygments_lexer": "ipython3",
   "version": "3.7.12"
  }
 },
 "nbformat": 4,
 "nbformat_minor": 5
}
