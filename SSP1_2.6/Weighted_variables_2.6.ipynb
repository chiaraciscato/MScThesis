{
 "cells": [
  {
   "cell_type": "code",
   "execution_count": 1,
   "id": "e467d34f-08cb-4a00-a9cd-4e0bfe055488",
   "metadata": {},
   "outputs": [],
   "source": [
    "import netCDF4 as nc\n",
    "from netCDF4 import Dataset\n",
    "import matplotlib as mpl\n",
    "import matplotlib.pyplot as plt\n",
    "import matplotlib.patches as mpatches\n",
    "from matplotlib.legend_handler import HandlerPatch\n",
    "import xarray as xr\n",
    "import numpy as np\n",
    "import pandas as pd\n",
    "import calendar\n",
    "import seaborn as sns\n",
    "import seaborn_image as isns\n",
    "import calendar"
   ]
  },
  {
   "cell_type": "code",
   "execution_count": 2,
   "id": "a22480fb-b73c-4fcf-a7bd-21fb67ee5395",
   "metadata": {},
   "outputs": [],
   "source": [
    "mesh_mask = xr.open_dataset('/Volumes/UnionSine/Cropped_DataTransfer/masks/mesh_mask.nc')"
   ]
  },
  {
   "cell_type": "code",
   "execution_count": 3,
   "id": "dc463ae2-5f49-446f-bc7a-720a9246c859",
   "metadata": {},
   "outputs": [],
   "source": [
    "mask = xr.open_dataset('/Volumes/UnionSine/Cropped_DataTransfer/masks/tmaskm.nc')"
   ]
  },
  {
   "cell_type": "code",
   "execution_count": 4,
   "id": "e02031a7-f355-48d0-9b9c-2c13216be697",
   "metadata": {},
   "outputs": [],
   "source": [
    "mask = mask.tmask.isel(time=0)"
   ]
  },
  {
   "cell_type": "markdown",
   "id": "24c570c4-8ecc-4dad-bad8-82852ef17c7f",
   "metadata": {},
   "source": [
    "### Ocean slicing and mixed layer depth average"
   ]
  },
  {
   "cell_type": "code",
   "execution_count": 5,
   "id": "3588d8e6-bb60-4a4d-be87-d0e436bdfe0f",
   "metadata": {},
   "outputs": [],
   "source": [
    "# calculate volume for each grid cell\n",
    "\n",
    "dx = mesh_mask.e1t \n",
    "dy = mesh_mask.e2t\n",
    "grid_cell_area = dx * dy # m2"
   ]
  },
  {
   "cell_type": "code",
   "execution_count": 6,
   "id": "2460aec0-51ee-4f06-ba5b-a96c0b70502e",
   "metadata": {},
   "outputs": [],
   "source": [
    "gridded_mesh = grid_cell_area.isel(t=0)"
   ]
  },
  {
   "cell_type": "code",
   "execution_count": 7,
   "id": "a3305ffe-9908-4537-b897-1050feeac0c9",
   "metadata": {},
   "outputs": [],
   "source": [
    "# apply mask to weighted grid cells\n",
    "\n",
    "ocean_area = gridded_mesh * mask"
   ]
  },
  {
   "cell_type": "code",
   "execution_count": 8,
   "id": "0d0b6980-5363-44b3-8fbc-5c4c34ea0194",
   "metadata": {},
   "outputs": [],
   "source": [
    "ocean_area_sliced = ocean_area.sel(x=slice(520,595),y=slice(330,435),z=0)"
   ]
  },
  {
   "cell_type": "code",
   "execution_count": 9,
   "id": "d19e4998-b171-4309-85b4-01907fd46ab2",
   "metadata": {},
   "outputs": [],
   "source": [
    "# alkalinity weighed only over the z axis (depth)"
   ]
  },
  {
   "cell_type": "code",
   "execution_count": 10,
   "id": "7786ba61-4fd9-413a-bc1d-509213b8afd8",
   "metadata": {},
   "outputs": [],
   "source": [
    "layer_depth = mask.isel(x=slice(520,595),y=slice(330,435),z=slice(0,7))"
   ]
  },
  {
   "cell_type": "code",
   "execution_count": 11,
   "id": "a023f100-2c10-4ce4-a8d8-92bdbe0064d8",
   "metadata": {},
   "outputs": [],
   "source": [
    "layer_depth = layer_depth.sum('z') # m"
   ]
  },
  {
   "cell_type": "code",
   "execution_count": 12,
   "id": "d22c9501-48f3-4086-8741-71263a3b0838",
   "metadata": {},
   "outputs": [],
   "source": [
    "layer_depth = layer_depth.where(layer_depth)"
   ]
  },
  {
   "cell_type": "code",
   "execution_count": 13,
   "id": "5c56f728-3feb-4dfa-9883-437dbfb7b04a",
   "metadata": {},
   "outputs": [],
   "source": [
    "layer_depth = layer_depth.to_dataset(name='tmask')"
   ]
  },
  {
   "cell_type": "code",
   "execution_count": 14,
   "id": "96ecf3b2-f392-4cc1-b685-70647fad5665",
   "metadata": {},
   "outputs": [],
   "source": [
    "layer_depth = layer_depth.to_dataframe()"
   ]
  },
  {
   "cell_type": "code",
   "execution_count": 15,
   "id": "0146e28c-3f39-457d-9aa3-59853d3460e6",
   "metadata": {},
   "outputs": [],
   "source": [
    "# condition\n",
    "\n",
    "max_depth = [\n",
    "    (layer_depth.tmask == 1),\n",
    "    (layer_depth.tmask == 2),\n",
    "    (layer_depth.tmask == 3),\n",
    "    (layer_depth.tmask == 4),\n",
    "    (layer_depth.tmask == 5),\n",
    "    (layer_depth.tmask == 6),\n",
    "    (layer_depth.tmask == 7)\n",
    "]\n",
    "\n",
    "values_depth = [3.046773, 9.454049, 16.363966, 23.89871, 32.20929, 41.481853, 51.94513]\n",
    "\n",
    "layer_depth['tmask'] = np.select(max_depth, values_depth)"
   ]
  },
  {
   "cell_type": "code",
   "execution_count": 16,
   "id": "ffd6b107-7ff4-4fb2-8e20-25ce9306655f",
   "metadata": {},
   "outputs": [],
   "source": [
    "layer_depth = layer_depth.drop(columns='time')"
   ]
  },
  {
   "cell_type": "code",
   "execution_count": 17,
   "id": "d3a098e1-6103-4137-8e84-5b5e450f4667",
   "metadata": {},
   "outputs": [],
   "source": [
    "layer_depth = layer_depth.to_xarray()"
   ]
  },
  {
   "cell_type": "code",
   "execution_count": 18,
   "id": "b4baf9b4-7f1e-4c2c-8de6-0db99b7716b3",
   "metadata": {},
   "outputs": [],
   "source": [
    "layer_depth = layer_depth.where(layer_depth)"
   ]
  },
  {
   "cell_type": "code",
   "execution_count": 19,
   "id": "7f196673-6962-40f5-8717-8d816cdef082",
   "metadata": {},
   "outputs": [],
   "source": [
    "ocean_area_sliced_dp = ocean_area_sliced.isel(x=slice(58,60),y=slice(41,43))"
   ]
  },
  {
   "cell_type": "markdown",
   "id": "8fbb82d8-e97c-406c-8c86-d0d52ce8a02f",
   "metadata": {},
   "source": [
    "### Alkalinity weighted only over the z axis (depth)"
   ]
  },
  {
   "cell_type": "code",
   "execution_count": 20,
   "id": "83590a52-e4a8-4baf-b48a-ecb37db8cee7",
   "metadata": {},
   "outputs": [],
   "source": [
    "alk_weighted_baseline = xr.open_dataset('/Volumes/UnionSine/Cropped_DataTransfer/SSP1_2.6/Alkalinity/ALK_baseline_2.6_cropped.nc',\n",
    "                                         decode_times=True).isel(deptht=slice(0,7))"
   ]
  },
  {
   "cell_type": "code",
   "execution_count": 21,
   "id": "7b8a7472-98f3-4126-9bd6-79c3b20a3772",
   "metadata": {},
   "outputs": [],
   "source": [
    "alk_weighted_baseline = (alk_weighted_baseline.ALK * 1.025).to_dataset(name='ALK') # mmol/m3"
   ]
  },
  {
   "cell_type": "code",
   "execution_count": 22,
   "id": "50fd1067-83e7-454b-9244-564f95b6552f",
   "metadata": {},
   "outputs": [],
   "source": [
    "alk_0_base = alk_weighted_baseline.ALK.isel(deptht=0) * alk_weighted_baseline.deptht[0] # mmol/m3 * m\n",
    "alk_1_base = alk_weighted_baseline.ALK.isel(deptht=1) * (alk_weighted_baseline.deptht[1] - alk_weighted_baseline.deptht[0])\n",
    "alk_2_base = alk_weighted_baseline.ALK.isel(deptht=2) * (alk_weighted_baseline.deptht[2] - alk_weighted_baseline.deptht[1])\n",
    "alk_3_base = alk_weighted_baseline.ALK.isel(deptht=3) * (alk_weighted_baseline.deptht[3] - alk_weighted_baseline.deptht[2])\n",
    "alk_4_base = alk_weighted_baseline.ALK.isel(deptht=4) * (alk_weighted_baseline.deptht[4] - alk_weighted_baseline.deptht[3])\n",
    "alk_5_base = alk_weighted_baseline.ALK.isel(deptht=5) * (alk_weighted_baseline.deptht[5] - alk_weighted_baseline.deptht[4])\n",
    "alk_6_base = alk_weighted_baseline.ALK.isel(deptht=6) * (alk_weighted_baseline.deptht[6] - alk_weighted_baseline.deptht[5])"
   ]
  },
  {
   "cell_type": "code",
   "execution_count": 23,
   "id": "c28b7f3d-7099-4bfe-92af-2a73fd8a588a",
   "metadata": {},
   "outputs": [],
   "source": [
    "weighted_base_alk = (alk_0_base + alk_1_base + alk_2_base + alk_3_base + alk_4_base + alk_5_base + alk_6_base) / layer_depth.tmask # mmol/m3 * m / m"
   ]
  },
  {
   "cell_type": "code",
   "execution_count": 24,
   "id": "b978c9bc-baa2-4614-9305-ed7a05884041",
   "metadata": {},
   "outputs": [],
   "source": [
    "weighted_base_alk = weighted_base_alk.to_dataset(name='ALK')"
   ]
  },
  {
   "cell_type": "code",
   "execution_count": 25,
   "id": "62ac2cf6-9809-452f-9a03-dbf86f73c239",
   "metadata": {},
   "outputs": [],
   "source": [
    "alk_weighted_oae = xr.open_dataset('/Volumes/UnionSine/Cropped_DataTransfer/SSP1_2.6/Alkalinity/ALK_OAE_2.6_cropped.nc',\n",
    "                                    decode_times=True).isel(deptht=slice(0, 7))"
   ]
  },
  {
   "cell_type": "code",
   "execution_count": 26,
   "id": "b538fb4d-6a58-4eb0-a009-4eabd5bd5fd0",
   "metadata": {},
   "outputs": [],
   "source": [
    "alk_weighted_oae = (alk_weighted_oae.ALK * 1.025).to_dataset(name='ALK') # mmol/m3"
   ]
  },
  {
   "cell_type": "code",
   "execution_count": 27,
   "id": "7c8abd21-a1cb-48fd-a912-42311ab9e3fa",
   "metadata": {},
   "outputs": [],
   "source": [
    "alk_0_oae = alk_weighted_oae.ALK.isel(deptht=0) * alk_weighted_oae.deptht[0] # mmol/m3 * m\n",
    "alk_1_oae = alk_weighted_oae.ALK.isel(deptht=1) * (alk_weighted_oae.deptht[1] - alk_weighted_oae.deptht[0])\n",
    "alk_2_oae = alk_weighted_oae.ALK.isel(deptht=2) * (alk_weighted_oae.deptht[2] - alk_weighted_oae.deptht[1])\n",
    "alk_3_oae = alk_weighted_oae.ALK.isel(deptht=3) * (alk_weighted_oae.deptht[3] - alk_weighted_oae.deptht[2])\n",
    "alk_4_oae = alk_weighted_oae.ALK.isel(deptht=4) * (alk_weighted_oae.deptht[4] - alk_weighted_oae.deptht[3])\n",
    "alk_5_oae = alk_weighted_oae.ALK.isel(deptht=5) * (alk_weighted_oae.deptht[5] - alk_weighted_oae.deptht[4])\n",
    "alk_6_oae = alk_weighted_oae.ALK.isel(deptht=6) * (alk_weighted_oae.deptht[6] - alk_weighted_oae.deptht[5])"
   ]
  },
  {
   "cell_type": "code",
   "execution_count": 28,
   "id": "3f91594c-317c-48bd-9a76-1e2bffaaa668",
   "metadata": {},
   "outputs": [],
   "source": [
    "alk_weighted_oae = (alk_0_oae + alk_1_oae + alk_2_oae + alk_3_oae + alk_4_oae + alk_5_oae + alk_6_oae) / layer_depth.tmask # mmol/m3 * m / m"
   ]
  },
  {
   "cell_type": "code",
   "execution_count": 29,
   "id": "47fca0a8-0d29-47fc-8fc9-62a22d3ac7bf",
   "metadata": {},
   "outputs": [],
   "source": [
    "alk_weighted_oae = alk_weighted_oae.to_dataset(name='ALK')"
   ]
  },
  {
   "cell_type": "code",
   "execution_count": 30,
   "id": "74d11bea-114d-4cbd-a9eb-c866311eba30",
   "metadata": {},
   "outputs": [],
   "source": [
    "#alk_weighted_base.to_netcdf('/Volumes/UnionSine/Cropped_DataTransfer/SSP1_2.6/Alkalinity/ALK_amplitude_base.nc')\n",
    "#alk_weighted_oae.to_netcdf('/Volumes/UnionSine/Cropped_DataTransfer/SSP1_2.6/Alkalinity/ALK_amplitude_oae.nc')"
   ]
  },
  {
   "cell_type": "code",
   "execution_count": 31,
   "id": "f2349eab-fe04-4571-9b09-84e02563a57c",
   "metadata": {},
   "outputs": [],
   "source": [
    "alk_weighted_oae = xr.open_dataset('/Volumes/UnionSine/Cropped_DataTransfer/SSP1_2.6/Alkalinity/ALK_OAE_2.6_cropped.nc',\n",
    "                                    decode_times=True).isel(deptht=slice(0, 7))"
   ]
  },
  {
   "cell_type": "code",
   "execution_count": 32,
   "id": "da8601b8-b5e6-4706-9de5-8e1385f0880f",
   "metadata": {},
   "outputs": [],
   "source": [
    "alk_weighted_oae = (alk_weighted_oae.ALK * 1.025).to_dataset(name='ALK') # mmol/m3"
   ]
  },
  {
   "cell_type": "code",
   "execution_count": 33,
   "id": "b78497d9-7ab9-4866-8da2-efecf63aaa87",
   "metadata": {},
   "outputs": [],
   "source": [
    "alk_0_oae = alk_weighted_oae.ALK.isel(deptht=0) * alk_weighted_oae.deptht[0] # mmol/m3 * m\n",
    "alk_1_oae = alk_weighted_oae.ALK.isel(deptht=1) * (alk_weighted_oae.deptht[1] - alk_weighted_oae.deptht[0])\n",
    "alk_2_oae = alk_weighted_oae.ALK.isel(deptht=2) * (alk_weighted_oae.deptht[2] - alk_weighted_oae.deptht[1])\n",
    "alk_3_oae = alk_weighted_oae.ALK.isel(deptht=3) * (alk_weighted_oae.deptht[3] - alk_weighted_oae.deptht[2])\n",
    "alk_4_oae = alk_weighted_oae.ALK.isel(deptht=4) * (alk_weighted_oae.deptht[4] - alk_weighted_oae.deptht[3])\n",
    "alk_5_oae = alk_weighted_oae.ALK.isel(deptht=5) * (alk_weighted_oae.deptht[5] - alk_weighted_oae.deptht[4])\n",
    "alk_6_oae = alk_weighted_oae.ALK.isel(deptht=6) * (alk_weighted_oae.deptht[6] - alk_weighted_oae.deptht[5])"
   ]
  },
  {
   "cell_type": "code",
   "execution_count": 34,
   "id": "650209c3-fb2d-45e0-ac9d-1aeb1390b860",
   "metadata": {},
   "outputs": [],
   "source": [
    "alk_weighted_oae = (alk_0_oae + alk_1_oae + alk_2_oae + alk_3_oae + alk_4_oae + alk_5_oae + alk_6_oae) / layer_depth.tmask # mmol/m3 * m / m"
   ]
  },
  {
   "cell_type": "code",
   "execution_count": 35,
   "id": "472d1e03-515c-49d6-9f49-00ea891d2c2c",
   "metadata": {},
   "outputs": [],
   "source": [
    "alk_weighted_oae = alk_weighted_oae.to_dataset(name='ALK')"
   ]
  },
  {
   "cell_type": "code",
   "execution_count": 36,
   "id": "3dad8c16-e3d0-4836-a006-21aac223b066",
   "metadata": {},
   "outputs": [],
   "source": [
    "#alk_weighted_base.to_netcdf('/Volumes/UnionSine/Cropped_DataTransfer/SSP1_2.6/Alkalinity/ALK_amplitude_base.nc')\n",
    "#alk_weighted_oae.to_netcdf('/Volumes/UnionSine/Cropped_DataTransfer/SSP1_2.6/Alkalinity/ALK_amplitude_oae.nc')"
   ]
  },
  {
   "cell_type": "markdown",
   "id": "077f89a2-8152-43f6-b357-2225585d7739",
   "metadata": {},
   "source": [
    "### DIC weighted only over the z axis (depth)"
   ]
  },
  {
   "cell_type": "code",
   "execution_count": 37,
   "id": "cc695239-6308-49ce-801a-ee11968167b4",
   "metadata": {},
   "outputs": [],
   "source": [
    "dic_weighted_baseline = xr.open_dataset('/Volumes/UnionSine/Cropped_DataTransfer/SSP1_2.6/DIC/DIC_Baseline_2.6_cropped.nc', decode_times=True)"
   ]
  },
  {
   "cell_type": "code",
   "execution_count": 38,
   "id": "dcd1f9b8-88f1-4522-95dd-5b8be27ffddd",
   "metadata": {},
   "outputs": [],
   "source": [
    "dic_weighted_baseline = (dic_weighted_baseline.DIC * 1.025).to_dataset(name='DIC') # mmol/m3"
   ]
  },
  {
   "cell_type": "code",
   "execution_count": 39,
   "id": "efb44ab1-99c2-44ed-9f8a-375074b052fd",
   "metadata": {},
   "outputs": [],
   "source": [
    "dic_0_base = dic_weighted_baseline.DIC.isel(deptht=0) * dic_weighted_baseline.deptht[0] # mmol/m3 * m\n",
    "dic_1_base = dic_weighted_baseline.DIC.isel(deptht=1) * (dic_weighted_baseline.deptht[1] - dic_weighted_baseline.deptht[0])\n",
    "dic_2_base = dic_weighted_baseline.DIC.isel(deptht=2) * (dic_weighted_baseline.deptht[2] - dic_weighted_baseline.deptht[1])\n",
    "dic_3_base = dic_weighted_baseline.DIC.isel(deptht=3) * (dic_weighted_baseline.deptht[3] - dic_weighted_baseline.deptht[2])\n",
    "dic_4_base = dic_weighted_baseline.DIC.isel(deptht=4) * (dic_weighted_baseline.deptht[4] - dic_weighted_baseline.deptht[3])\n",
    "dic_5_base = dic_weighted_baseline.DIC.isel(deptht=5) * (dic_weighted_baseline.deptht[5] - dic_weighted_baseline.deptht[4])\n",
    "dic_6_base = dic_weighted_baseline.DIC.isel(deptht=6) * (dic_weighted_baseline.deptht[6] - dic_weighted_baseline.deptht[5])"
   ]
  },
  {
   "cell_type": "code",
   "execution_count": 40,
   "id": "d4903709-a027-491f-9229-a018282bfdbd",
   "metadata": {},
   "outputs": [],
   "source": [
    "dic_weighted_base = (dic_0_base + dic_1_base + dic_2_base + dic_3_base + dic_4_base + dic_5_base + dic_6_base) / layer_depth.tmask"
   ]
  },
  {
   "cell_type": "code",
   "execution_count": 41,
   "id": "168b1970-668d-4477-b330-8e0b28ab6f1d",
   "metadata": {},
   "outputs": [],
   "source": [
    "dic_weighted_base = dic_weighted_base.to_dataset(name='DIC')"
   ]
  },
  {
   "cell_type": "code",
   "execution_count": 42,
   "id": "ce003bd2-51dc-4f18-8f9f-e5c531bfe6f2",
   "metadata": {},
   "outputs": [],
   "source": [
    "dic_weighted_oae = xr.open_dataset('/Volumes/UnionSine/Cropped_DataTransfer/SSP1_2.6/DIC/DIC_OAE_2.6_cropped.nc', decode_times=True)"
   ]
  },
  {
   "cell_type": "code",
   "execution_count": 43,
   "id": "507e6d64-fc93-419e-8932-ceb0849c511c",
   "metadata": {},
   "outputs": [],
   "source": [
    "dic_weighted_oae = (dic_weighted_oae.DIC * 1.025).to_dataset(name='DIC') # mmol/m3"
   ]
  },
  {
   "cell_type": "code",
   "execution_count": 44,
   "id": "e8240c11-8f1b-48ac-a522-4e0e00543af0",
   "metadata": {},
   "outputs": [],
   "source": [
    "dic_0_oae = dic_weighted_oae.DIC.isel(deptht=0) * dic_weighted_oae.deptht[0] # mmol/m3 * m\n",
    "dic_1_oae = dic_weighted_oae.DIC.isel(deptht=1) * (dic_weighted_oae.deptht[1] - dic_weighted_oae.deptht[0]) \n",
    "dic_2_oae = dic_weighted_oae.DIC.isel(deptht=2) * (dic_weighted_oae.deptht[2] - dic_weighted_oae.deptht[1])\n",
    "dic_3_oae = dic_weighted_oae.DIC.isel(deptht=3) * (dic_weighted_oae.deptht[3] - dic_weighted_oae.deptht[2])\n",
    "dic_4_oae = dic_weighted_oae.DIC.isel(deptht=4) * (dic_weighted_oae.deptht[4] - dic_weighted_oae.deptht[3])\n",
    "dic_5_oae = dic_weighted_oae.DIC.isel(deptht=5) * (dic_weighted_oae.deptht[5] - dic_weighted_oae.deptht[4])\n",
    "dic_6_oae = dic_weighted_oae.DIC.isel(deptht=6) * (dic_weighted_oae.deptht[6] - dic_weighted_oae.deptht[5])"
   ]
  },
  {
   "cell_type": "code",
   "execution_count": 45,
   "id": "db9aad79-77d2-45f7-a8f4-786698242061",
   "metadata": {},
   "outputs": [],
   "source": [
    "dic_weighted_oae = (dic_0_oae + dic_1_oae + dic_2_oae + dic_3_oae + dic_4_oae + dic_5_oae + dic_6_oae) / layer_depth.tmask # mmol/m3 * m / m"
   ]
  },
  {
   "cell_type": "code",
   "execution_count": 46,
   "id": "a1ec06e0-f76a-4e0f-a1f0-f36f61c64a49",
   "metadata": {},
   "outputs": [],
   "source": [
    "dic_weighted_oae = dic_weighted_oae.to_dataset(name='DIC')"
   ]
  },
  {
   "cell_type": "code",
   "execution_count": 47,
   "id": "2b174b41-9697-40a3-9dd7-b3f9ec760950",
   "metadata": {},
   "outputs": [],
   "source": [
    "#dic_weighted_base.to_netcdf('/Users/chiaraciscato/Desktop/geomar/Cropped_DataTransfer/SSP1_2.6/DIC/DIC_amplitude_base.nc')\n",
    "#dic_weighted_oae.to_netcdf('/Users/chiaraciscato/Desktop/geomar/Cropped_DataTransfer/SSP1_2.6/DIC/DIC_amplitude_oae.nc')"
   ]
  },
  {
   "cell_type": "markdown",
   "id": "20fe41a9-5c2a-46e8-9131-4980bc90de99",
   "metadata": {},
   "source": [
    "### Alkalinity weighted over x,y,z"
   ]
  },
  {
   "cell_type": "code",
   "execution_count": 48,
   "id": "55348944-4558-426b-8aaa-64807d7d5a89",
   "metadata": {},
   "outputs": [],
   "source": [
    "sliced_alk_baseline = ocean_area_sliced * weighted_base_alk.ALK # baseline"
   ]
  },
  {
   "cell_type": "code",
   "execution_count": 49,
   "id": "7d987a1a-5fa6-4564-97c6-eec3cc4be69c",
   "metadata": {},
   "outputs": [],
   "source": [
    "regridded_alk_base = sliced_alk_baseline.sum(['x', 'y']) / ocean_area_sliced.sum(['x', 'y'])"
   ]
  },
  {
   "cell_type": "code",
   "execution_count": 50,
   "id": "4542d54f-3c8c-4648-bf53-b0f22dda1510",
   "metadata": {},
   "outputs": [],
   "source": [
    "regridded_alk_base = regridded_alk_base.to_dataset(name='ALK')"
   ]
  },
  {
   "cell_type": "code",
   "execution_count": 51,
   "id": "c1e620c2-5633-42ec-bcd3-b17ac415fcc4",
   "metadata": {},
   "outputs": [],
   "source": [
    "sliced_alk_oae = ocean_area_sliced * alk_weighted_oae.ALK # oae"
   ]
  },
  {
   "cell_type": "code",
   "execution_count": 52,
   "id": "1c937c2f-458c-49a2-b089-9fdf7770db6b",
   "metadata": {},
   "outputs": [],
   "source": [
    "regridded_alk_oae = sliced_alk_oae.sum(['x', 'y']) / ocean_area_sliced.sum(['x', 'y'])"
   ]
  },
  {
   "cell_type": "code",
   "execution_count": 53,
   "id": "3188de96-abaa-4378-962f-fa89a8cbd6d1",
   "metadata": {},
   "outputs": [],
   "source": [
    "regridded_alk_oae = regridded_alk_oae.to_dataset(name='ALK')"
   ]
  },
  {
   "cell_type": "code",
   "execution_count": 54,
   "id": "4023656f-add7-4dc2-8f43-441cfc51a742",
   "metadata": {},
   "outputs": [],
   "source": [
    "#regridded_alk_base.to_netcdf('/Volumes/UnionSine/Cropped_DataTransfer/SSP1_2.6/Alkalinity/ALK_baseline_2.6_weighted.nc')\n",
    "#regridded_alk_oae.to_netcdf('/Volumes/UnionSine/Cropped_DataTransfer/SSP1_2.6/Alkalinity/ALK_oae_2.6_weighted.nc')"
   ]
  },
  {
   "cell_type": "markdown",
   "id": "ff4efe31-bee7-4ee2-83f4-efdd0f14c12c",
   "metadata": {},
   "source": [
    "### Alkalinity surface weighted over x and y"
   ]
  },
  {
   "cell_type": "code",
   "execution_count": 55,
   "id": "af783d13-62e2-4c79-bd2f-7105cef05334",
   "metadata": {},
   "outputs": [],
   "source": [
    "alk_surface_baseline = xr.open_dataset('/Volumes/UnionSine/Cropped_DataTransfer/SSP1_2.6/Alkalinity/ALK_baseline_2.6_cropped.nc',\n",
    "                                         decode_times=True).isel(deptht=slice(0,1))"
   ]
  },
  {
   "cell_type": "code",
   "execution_count": 56,
   "id": "7a18abb9-d41a-4b7e-8c4b-b7191d96a32d",
   "metadata": {},
   "outputs": [],
   "source": [
    "alk_surface_baseline = (alk_surface_baseline.ALK * 1.025).to_dataset(name='ALK') # mmol/m3"
   ]
  },
  {
   "cell_type": "code",
   "execution_count": 57,
   "id": "3769b4ee-158e-4e72-bab9-b5d68d5c5a34",
   "metadata": {},
   "outputs": [],
   "source": [
    "alk_surface_baseline = ocean_area_sliced * alk_surface_baseline.ALK # mmol/m3 * m2"
   ]
  },
  {
   "cell_type": "code",
   "execution_count": 58,
   "id": "b7563155-5eb3-4af1-98f4-59a95f58e806",
   "metadata": {},
   "outputs": [],
   "source": [
    "regridded_alk_surf_base = alk_surface_baseline.sum(['x', 'y']) / ocean_area_sliced.sum(['x', 'y']) # mmol/m3 * m2 / m2"
   ]
  },
  {
   "cell_type": "code",
   "execution_count": 59,
   "id": "f1623595-51dd-43b6-8781-bffc758b9287",
   "metadata": {},
   "outputs": [],
   "source": [
    "regridded_alk_surf_base = regridded_alk_surf_base.to_dataset(name='ALK')"
   ]
  },
  {
   "cell_type": "code",
   "execution_count": 60,
   "id": "34ca1ead-6419-4724-a5e4-fd84bed68049",
   "metadata": {},
   "outputs": [],
   "source": [
    "alk_surface_oae = xr.open_dataset('/Volumes/UnionSine/Cropped_DataTransfer/SSP1_2.6/Alkalinity/ALK_OAE_2.6_cropped.nc',\n",
    "                                         decode_times=True).isel(deptht=slice(0,1))"
   ]
  },
  {
   "cell_type": "code",
   "execution_count": 61,
   "id": "ca4bc579-312d-48a7-8f63-0b6fe6076aaf",
   "metadata": {},
   "outputs": [],
   "source": [
    "alk_surface_oae = (alk_surface_oae.ALK * 1.025).to_dataset(name='ALK') # mmol/m3"
   ]
  },
  {
   "cell_type": "code",
   "execution_count": 62,
   "id": "884e0ff8-2dbe-4dd9-ba64-a49d4ce6ddf5",
   "metadata": {},
   "outputs": [],
   "source": [
    "alk_surface_oae = ocean_area_sliced * alk_surface_oae.ALK # mmol/m3 * m2"
   ]
  },
  {
   "cell_type": "code",
   "execution_count": 63,
   "id": "d09d76ac-5a33-485c-89c5-ec690a41e770",
   "metadata": {},
   "outputs": [],
   "source": [
    "regridded_alk_surf_oae = alk_surface_oae.sum(['x', 'y']) / ocean_area_sliced.sum(['x', 'y']) # mmol/m3 * m2 / m2"
   ]
  },
  {
   "cell_type": "code",
   "execution_count": 64,
   "id": "b1d0a6fb-b8ea-40ff-9ef4-c4118f5e2ba2",
   "metadata": {},
   "outputs": [],
   "source": [
    "regridded_alk_surf_oae = regridded_alk_surf_oae.to_dataset(name='ALK')"
   ]
  },
  {
   "cell_type": "code",
   "execution_count": 65,
   "id": "9180b40d-7dd8-4d2a-94cf-14d4266f9834",
   "metadata": {},
   "outputs": [],
   "source": [
    "#regridded_alk_surf_base.to_netcdf('/Volumes/UnionSine/Cropped_DataTransfer/SSP1_2.6/Alkalinity/ALK_baseline_surf_2.6_weighted.nc')\n",
    "#regridded_alk_surf_oae.to_netcdf('/Volumes/UnionSine/Cropped_DataTransfer/SSP1_2.6/Alkalinity/ALK_oae_surf_2.6_weighted.nc')"
   ]
  },
  {
   "cell_type": "markdown",
   "id": "17805ab0-2d86-4f56-a054-d9613613a11c",
   "metadata": {},
   "source": [
    "### Alkalinity weighted over x and y for the first 150 metres:"
   ]
  },
  {
   "cell_type": "code",
   "execution_count": 160,
   "id": "180791bc-8fc2-47a2-8b9c-a5bf52035829",
   "metadata": {},
   "outputs": [],
   "source": [
    "alk_col_baseline = xr.open_dataset('/Volumes/UnionSine/Cropped_DataTransfer/SSP1_2.6/Alkalinity/ALK_baseline_2.6_cropped.nc', decode_times=True)"
   ]
  },
  {
   "cell_type": "code",
   "execution_count": 161,
   "id": "ef1d99be-e56c-4e25-a16f-3f697c06e2ef",
   "metadata": {},
   "outputs": [],
   "source": [
    "alk_col_baseline = (alk_col_baseline.ALK * 1.025).to_dataset(name='ALK') # mmol/m3"
   ]
  },
  {
   "cell_type": "code",
   "execution_count": 162,
   "id": "8c815d4a-b260-44d7-8d33-ec8f00f2e638",
   "metadata": {},
   "outputs": [],
   "source": [
    "alk_col_baseline = ocean_area_sliced * alk_col_baseline.ALK # mmol/m3 * m2"
   ]
  },
  {
   "cell_type": "code",
   "execution_count": 163,
   "id": "30fac350-3c43-496f-a0fa-f49bd0ebda31",
   "metadata": {},
   "outputs": [],
   "source": [
    "regridded_alk_col_base = alk_col_baseline.sum(['x', 'y']) / ocean_area_sliced.sum(['x', 'y']) # mmol/m3 * m2 / m2"
   ]
  },
  {
   "cell_type": "code",
   "execution_count": 164,
   "id": "373d86cb-1022-4126-aede-270b03c33a40",
   "metadata": {},
   "outputs": [],
   "source": [
    "regridded_alk_col_base = regridded_alk_col_base.to_dataset(name='ALK')"
   ]
  },
  {
   "cell_type": "code",
   "execution_count": 165,
   "id": "64e4f0e9-8ac9-4665-a2e1-017a7f435cbf",
   "metadata": {},
   "outputs": [],
   "source": [
    "alk_col_oae = xr.open_dataset('/Volumes/UnionSine/Cropped_DataTransfer/SSP1_2.6/Alkalinity/ALK_OAE_2.6_cropped.nc', decode_times=True)"
   ]
  },
  {
   "cell_type": "code",
   "execution_count": 166,
   "id": "3a0d075b-5353-40e3-a63a-ab980ec1d0f8",
   "metadata": {},
   "outputs": [],
   "source": [
    "alk_col_oae = (alk_col_oae.ALK * 1.025).to_dataset(name='ALK') # mmol/m3"
   ]
  },
  {
   "cell_type": "code",
   "execution_count": 167,
   "id": "069fc144-7f84-4d7e-bfd8-2b800b2246b9",
   "metadata": {},
   "outputs": [],
   "source": [
    "alk_col_oae = ocean_area_sliced * alk_col_oae.ALK # mmol/m3 * m2"
   ]
  },
  {
   "cell_type": "code",
   "execution_count": 168,
   "id": "4aa3f579-5b2f-4c9d-941c-aeec886dabb2",
   "metadata": {},
   "outputs": [],
   "source": [
    "regridded_alk_col_oae = alk_col_oae.sum(['x', 'y']) / ocean_area_sliced.sum(['x', 'y']) # mmol/m3 * m2 / m2"
   ]
  },
  {
   "cell_type": "code",
   "execution_count": 169,
   "id": "ae4c7876-759b-4443-a0c2-c02378ffc9c2",
   "metadata": {},
   "outputs": [],
   "source": [
    "regridded_alk_col_oae = regridded_alk_col_oae.to_dataset(name='ALK')"
   ]
  },
  {
   "cell_type": "code",
   "execution_count": 76,
   "id": "92f95aa1-46fa-43db-afa8-85c033e98d7a",
   "metadata": {},
   "outputs": [],
   "source": [
    "#regridded_alk_col_base.to_netcdf('/Volumes/UnionSine/Cropped_DataTransfer/SSP1_2.6/Alkalinity/ALK_baseline_col_2.6_weighted.nc')\n",
    "#regridded_alk_col_oae.to_netcdf('/Volumes/UnionSine/Cropped_DataTransfer/SSP1_2.6/Alkalinity/ALK_oae_col_2.6_weighted.nc')"
   ]
  },
  {
   "cell_type": "markdown",
   "id": "94fed5b8-2dd6-4da8-aba3-c259d06a3d44",
   "metadata": {},
   "source": [
    "### DIC weighted over x,y,z"
   ]
  },
  {
   "cell_type": "code",
   "execution_count": 77,
   "id": "1c1b0e53-c8fd-47d6-aada-71469f291b67",
   "metadata": {},
   "outputs": [],
   "source": [
    "sliced_dic_baseline = ocean_area_sliced * dic_weighted_base.DIC # mmol/m3 * m2"
   ]
  },
  {
   "cell_type": "code",
   "execution_count": 78,
   "id": "120c939e-5b2e-4b7b-a166-46cf3f6dc8cc",
   "metadata": {},
   "outputs": [],
   "source": [
    "regridded_dic_base = sliced_dic_baseline.sum(['x', 'y']) / ocean_area_sliced.sum(['x', 'y']) # mmol/m3 * m2 / m2"
   ]
  },
  {
   "cell_type": "code",
   "execution_count": 79,
   "id": "aa66817f-810e-4c7a-9cd6-7f50b5ce07f7",
   "metadata": {},
   "outputs": [],
   "source": [
    "regridded_dic_base = regridded_dic_base.to_dataset(name='DIC')"
   ]
  },
  {
   "cell_type": "code",
   "execution_count": 80,
   "id": "aea6893a-8cf9-44a7-813a-82287a6ba2c0",
   "metadata": {},
   "outputs": [],
   "source": [
    "sliced_dic_oae = ocean_area_sliced * dic_weighted_oae.DIC # oae"
   ]
  },
  {
   "cell_type": "code",
   "execution_count": 81,
   "id": "780dfe0c-71aa-4c81-ab2c-6b34af3d6cb7",
   "metadata": {},
   "outputs": [],
   "source": [
    "regridded_dic_oae = sliced_alk_oae.sum(['x', 'y']) / ocean_area_sliced.sum(['x', 'y'])"
   ]
  },
  {
   "cell_type": "code",
   "execution_count": 82,
   "id": "2655cdc9-a480-436a-bbf9-f77bf68f1e14",
   "metadata": {},
   "outputs": [],
   "source": [
    "regridded_dic_oae = regridded_dic_oae.to_dataset(name='DIC')"
   ]
  },
  {
   "cell_type": "code",
   "execution_count": 83,
   "id": "5d7b293d-801e-4641-a3e7-40f36a08db0f",
   "metadata": {},
   "outputs": [],
   "source": [
    "#regridded_dic_base.to_netcdf('/Volumes/UnionSine/Cropped_DataTransfer/SSP1_2.6/DIC/DIC_baseline_2.6_weighted.nc')\n",
    "#regridded_dic_oae.to_netcdf('/Volumes/UnionSine/Cropped_DataTransfer/SSP1_2.6/DIC/DIC_oae_2.6_weighted.nc')"
   ]
  },
  {
   "cell_type": "markdown",
   "id": "79245516-7540-4480-91ce-1cf59523788a",
   "metadata": {},
   "source": [
    "### Weighted alkalinity at location point"
   ]
  },
  {
   "cell_type": "code",
   "execution_count": 84,
   "id": "7305f7fa-1e17-4abc-acd3-4b1bbdc074b3",
   "metadata": {},
   "outputs": [],
   "source": [
    "alk_weighted_baseline_dp = weighted_base_alk.isel(x=slice(58,60),y=slice(41,43))"
   ]
  },
  {
   "cell_type": "code",
   "execution_count": 85,
   "id": "87fd3ef8-c898-473f-900a-d688727443db",
   "metadata": {},
   "outputs": [],
   "source": [
    "sliced_alk_baseline_dp = ocean_area_sliced_dp * alk_weighted_baseline_dp.ALK"
   ]
  },
  {
   "cell_type": "code",
   "execution_count": 86,
   "id": "0ab1a77b-5be2-4565-832b-36600c0018d0",
   "metadata": {},
   "outputs": [],
   "source": [
    "regridded_alk_base_dp = sliced_alk_baseline_dp.sum(['x', 'y']) / ocean_area_sliced_dp.sum(['x', 'y'])"
   ]
  },
  {
   "cell_type": "code",
   "execution_count": 87,
   "id": "457585a7-3f60-4dd4-9716-0cf4129b4cc8",
   "metadata": {},
   "outputs": [],
   "source": [
    "regridded_alk_base_dp = regridded_alk_base_dp.to_dataset(name='ALK')"
   ]
  },
  {
   "cell_type": "code",
   "execution_count": 88,
   "id": "92c7823c-b04e-4c6b-aa02-d2e3818e04ee",
   "metadata": {},
   "outputs": [],
   "source": [
    "alk_weighted_oae_dp = alk_weighted_oae.isel(x=slice(58,60),y=slice(41,43)) "
   ]
  },
  {
   "cell_type": "code",
   "execution_count": 89,
   "id": "24db9fd7-26d9-4059-9453-ca0a4d05c9fb",
   "metadata": {},
   "outputs": [],
   "source": [
    "sliced_alk_oae_dp = ocean_area_sliced_dp * alk_weighted_oae_dp.ALK"
   ]
  },
  {
   "cell_type": "code",
   "execution_count": 90,
   "id": "2fbe37f1-bfd3-4ef0-914e-6ecc2cc19eed",
   "metadata": {},
   "outputs": [],
   "source": [
    "regridded_alk_oae_dp = sliced_alk_oae_dp.sum(['x', 'y']) / ocean_area_sliced_dp.sum(['x', 'y'])"
   ]
  },
  {
   "cell_type": "code",
   "execution_count": 91,
   "id": "d5baae66-c458-448f-9aa9-2f289a9633cc",
   "metadata": {},
   "outputs": [],
   "source": [
    "regridded_alk_oae_dp = regridded_alk_oae_dp.to_dataset(name='ALK')"
   ]
  },
  {
   "cell_type": "code",
   "execution_count": 92,
   "id": "abe8acc4-e748-4ea8-b83a-47b7dccee9cd",
   "metadata": {},
   "outputs": [],
   "source": [
    "#regridded_alk_base_dp.to_netcdf('/Volumes/UnionSine/Cropped_DataTransfer/SSP1_2.6/Alkalinity/ALK_baseline_2.6_weighted_dp.nc')\n",
    "#regridded_alk_oae_dp.to_netcdf('/Volumes/UnionSine/Cropped_DataTransfer/SSP1_2.6/Alkalinity/ALK_oae_2.6_weighted_dp.nc')"
   ]
  },
  {
   "cell_type": "markdown",
   "id": "411179cd-1b47-47a8-a5fa-65d879cc5419",
   "metadata": {},
   "source": [
    "### Weighted DIC at location point"
   ]
  },
  {
   "cell_type": "code",
   "execution_count": 93,
   "id": "b0a559d5-71c8-4af4-aa6e-49e848d18674",
   "metadata": {},
   "outputs": [],
   "source": [
    "dic_weighted_baseline_dp = dic_weighted_base.isel(x=slice(58,60),y=slice(41,43))"
   ]
  },
  {
   "cell_type": "code",
   "execution_count": 94,
   "id": "b07e4ea4-6619-4d41-af51-153419cdbb4c",
   "metadata": {},
   "outputs": [],
   "source": [
    "sliced_dic_baseline_dp = ocean_area_sliced_dp * dic_weighted_baseline_dp.DIC"
   ]
  },
  {
   "cell_type": "code",
   "execution_count": 95,
   "id": "ee0d40f6-252c-4a48-a79f-9b83e1d81c1e",
   "metadata": {},
   "outputs": [],
   "source": [
    "regridded_dic_base_dp = sliced_dic_baseline_dp.sum(['x', 'y']) / ocean_area_sliced_dp.sum(['x', 'y'])"
   ]
  },
  {
   "cell_type": "code",
   "execution_count": 96,
   "id": "fe13cffd-a6a8-42f4-980a-a71e29e08e99",
   "metadata": {},
   "outputs": [],
   "source": [
    "regridded_dic_base_dp = regridded_dic_base_dp.to_dataset(name='DIC')"
   ]
  },
  {
   "cell_type": "code",
   "execution_count": 97,
   "id": "7c93c78e-2c6c-44f5-938e-bc93e127772a",
   "metadata": {},
   "outputs": [],
   "source": [
    "dic_weighted_oae_dp = dic_weighted_oae.isel(x=slice(58,60),y=slice(41,43)) "
   ]
  },
  {
   "cell_type": "code",
   "execution_count": 98,
   "id": "0d751dc1-a6a7-4afc-ba0a-e8e2b8d28bf2",
   "metadata": {},
   "outputs": [],
   "source": [
    "sliced_dic_oae_dp = ocean_area_sliced_dp * dic_weighted_oae_dp.DIC"
   ]
  },
  {
   "cell_type": "code",
   "execution_count": 99,
   "id": "287dd85e-8b60-474e-9e6f-6f893c4a8dc5",
   "metadata": {},
   "outputs": [],
   "source": [
    "regridded_dic_oae_dp = sliced_dic_oae_dp.sum(['x', 'y']) / ocean_area_sliced_dp.sum(['x', 'y'])"
   ]
  },
  {
   "cell_type": "code",
   "execution_count": 100,
   "id": "b530682e-4679-4758-ba56-b49cd6e89ff9",
   "metadata": {},
   "outputs": [],
   "source": [
    "regridded_dic_oae_dp = regridded_dic_oae_dp.to_dataset(name='DIC')"
   ]
  },
  {
   "cell_type": "code",
   "execution_count": 101,
   "id": "19917a5b-747b-4589-b341-0ef010d7cc3f",
   "metadata": {},
   "outputs": [],
   "source": [
    "#regridded_dic_base_dp.to_netcdf('/Volumes/UnionSine/Cropped_DataTransfer/SSP1_2.6/DIC/DIC_baseline_2.6_weighted_dp.nc')\n",
    "#regridded_dic_oae_dp.to_netcdf('/Volumes/UnionSine/Cropped_DataTransfer/SSP1_2.6/DIC/DIC_oae_2.6_weighted_dp.nc')"
   ]
  },
  {
   "cell_type": "markdown",
   "id": "f3e43693-55df-4a66-a163-ae3219be6e45",
   "metadata": {},
   "source": [
    "### Weighted CO2 flux"
   ]
  },
  {
   "cell_type": "code",
   "execution_count": 102,
   "id": "5f00371a-fe7a-48a6-a371-d47f77dd949d",
   "metadata": {},
   "outputs": [],
   "source": [
    "co2flux_weighted_base = xr.open_dataset('/Volumes/UnionSine/Cropped_DataTransfer/SSP1_2.6/CO2flux/CO2flux_Baseline_2.6_cropped.nc')"
   ]
  },
  {
   "cell_type": "code",
   "execution_count": 103,
   "id": "54fb3a05-2412-484d-8b32-4877b724d5f9",
   "metadata": {},
   "outputs": [],
   "source": [
    "sliced_co2flux_baseline = ocean_area_sliced * co2flux_weighted_base.co2flux # baseline"
   ]
  },
  {
   "cell_type": "code",
   "execution_count": 104,
   "id": "76f74dff-851e-4cc0-9f2e-d78c84402878",
   "metadata": {},
   "outputs": [],
   "source": [
    "regridded_co2flux_base = sliced_co2flux_baseline.sum(['x', 'y']) / ocean_area_sliced.sum(['x', 'y']) "
   ]
  },
  {
   "cell_type": "code",
   "execution_count": 105,
   "id": "82519e3f-178d-48cb-a35b-9042a19efdb7",
   "metadata": {},
   "outputs": [],
   "source": [
    "regridded_co2flux_base = regridded_co2flux_base.to_dataset(name='co2flux')"
   ]
  },
  {
   "cell_type": "code",
   "execution_count": 106,
   "id": "beb4bb68-e459-4894-8157-18e0e8cfb62e",
   "metadata": {},
   "outputs": [],
   "source": [
    "co2flux_weighted_oae = xr.open_dataset('/Volumes/UnionSine/Cropped_DataTransfer/SSP1_2.6/CO2flux/CO2flux_OAE_2.6_cropped.nc')"
   ]
  },
  {
   "cell_type": "code",
   "execution_count": 107,
   "id": "2ad72df7-3c1b-4948-804c-8531da01ded1",
   "metadata": {},
   "outputs": [],
   "source": [
    "sliced_co2flux_oae = ocean_area_sliced * co2flux_weighted_oae.co2flux # oae"
   ]
  },
  {
   "cell_type": "code",
   "execution_count": 108,
   "id": "b9fba2ed-cb31-4115-90ff-cc67442b0cc4",
   "metadata": {},
   "outputs": [],
   "source": [
    "regridded_co2flux_oae = sliced_co2flux_oae.sum(['x', 'y']) / ocean_area_sliced.sum(['x', 'y'])"
   ]
  },
  {
   "cell_type": "code",
   "execution_count": 109,
   "id": "1f47e1f0-199c-49cd-8358-64a4e972780e",
   "metadata": {},
   "outputs": [],
   "source": [
    "regridded_co2flux_oae = regridded_co2flux_oae.to_dataset(name='co2flux')"
   ]
  },
  {
   "cell_type": "code",
   "execution_count": 110,
   "id": "d0426f26-7f3b-424c-b40c-7eab3fa6abd2",
   "metadata": {},
   "outputs": [],
   "source": [
    "#regridded_co2flux_base.to_netcdf('/Volumes/UnionSine/Cropped_DataTransfer/SSP1_2.6/CO2flux/co2flux_baseline_2.6_weighted.nc')\n",
    "#regridded_co2flux_oae.to_netcdf('/Volumes/UnionSine/Cropped_DataTransfer/SSP1_2.6/CO2flux/co2flux_oae_2.6_weighted.nc')"
   ]
  },
  {
   "cell_type": "markdown",
   "id": "f9788e55-3e2f-4c60-9440-31dff1d0b546",
   "metadata": {},
   "source": [
    "### Weighted fCO2"
   ]
  },
  {
   "cell_type": "code",
   "execution_count": 111,
   "id": "647df513-70af-47fc-96d4-0c43339ffa5e",
   "metadata": {},
   "outputs": [],
   "source": [
    "fco2_weighted_base = xr.open_dataset('/Volumes/UnionSine/Cropped_DataTransfer/SSP1_2.6/FCO2/fco2_baseline_2.6_cropped.nc')"
   ]
  },
  {
   "cell_type": "code",
   "execution_count": 112,
   "id": "9e6fdf82-0139-4905-945c-cc2d623f5599",
   "metadata": {},
   "outputs": [],
   "source": [
    "sliced_fco2_baseline = ocean_area_sliced * fco2_weighted_base.fco2 # baseline"
   ]
  },
  {
   "cell_type": "code",
   "execution_count": 113,
   "id": "ec1f3a8b-4865-4825-a1be-56da54d71534",
   "metadata": {},
   "outputs": [],
   "source": [
    "regridded_fco2_base = sliced_fco2_baseline.sum(['x', 'y']) / ocean_area_sliced.sum(['x', 'y'])"
   ]
  },
  {
   "cell_type": "code",
   "execution_count": 114,
   "id": "34cee022-dfe8-4d91-bfae-f3b6694bbe01",
   "metadata": {},
   "outputs": [],
   "source": [
    "regridded_fco2_base = regridded_fco2_base.to_dataset(name='fco2')"
   ]
  },
  {
   "cell_type": "code",
   "execution_count": 115,
   "id": "89c15d0a-32bb-4d0e-a1bf-506b49adb3f5",
   "metadata": {},
   "outputs": [],
   "source": [
    "fco2_weighted_oae = xr.open_dataset('/Volumes/UnionSine/Cropped_DataTransfer/SSP1_2.6/FCO2/fco2_OAE_2.6_cropped.nc')"
   ]
  },
  {
   "cell_type": "code",
   "execution_count": 116,
   "id": "65142fde-bc8d-4485-939f-7b00f6c3204f",
   "metadata": {},
   "outputs": [],
   "source": [
    "sliced_fco2_oae = ocean_area_sliced * fco2_weighted_oae.fco2 # oae"
   ]
  },
  {
   "cell_type": "code",
   "execution_count": 117,
   "id": "fd0acacd-3c82-43f3-a7fe-7ed99eefc776",
   "metadata": {},
   "outputs": [],
   "source": [
    "regridded_fco2_oae = sliced_fco2_oae.sum(['x', 'y']) / ocean_area_sliced.sum(['x', 'y'])"
   ]
  },
  {
   "cell_type": "code",
   "execution_count": 118,
   "id": "1c8fdd6d-4d2e-4119-b4d8-dd5b900df570",
   "metadata": {},
   "outputs": [],
   "source": [
    "regridded_fco2_oae = regridded_fco2_oae.to_dataset(name='fco2')"
   ]
  },
  {
   "cell_type": "code",
   "execution_count": 119,
   "id": "c2e70fa8-2195-4677-a318-94493991e574",
   "metadata": {},
   "outputs": [],
   "source": [
    "#regridded_fco2_base.to_netcdf('/Volumes/UnionSine/Cropped_DataTransfer/SSP1_2.6/FCO2/fco2_baseline_2.6_weighted.nc')\n",
    "#regridded_fco2_oae.to_netcdf('/Volumes/UnionSine/Cropped_DataTransfer/SSP1_2.6/FCO2/fco2_oae_2.6_weighted.nc')"
   ]
  },
  {
   "cell_type": "markdown",
   "id": "06462f67-f32e-4eb6-b915-5af6dac87a9f",
   "metadata": {},
   "source": [
    "### Weighted pH"
   ]
  },
  {
   "cell_type": "code",
   "execution_count": 120,
   "id": "b269d5cd-0b85-4de9-b17d-c141c9d1903a",
   "metadata": {},
   "outputs": [],
   "source": [
    "ph_weighted_base = xr.open_dataset('/Volumes/UnionSine/Cropped_DataTransfer/SSP1_2.6/pH/ph_baseline_2.6_cropped.nc')"
   ]
  },
  {
   "cell_type": "code",
   "execution_count": 121,
   "id": "b22c342e-2525-4f2d-a58a-5cf404546ca9",
   "metadata": {},
   "outputs": [],
   "source": [
    "sliced_ph_baseline = ocean_area_sliced * ph_weighted_base.ph # baseline"
   ]
  },
  {
   "cell_type": "code",
   "execution_count": 122,
   "id": "01173be9-91d0-4b47-b52e-e189e6ca82e5",
   "metadata": {},
   "outputs": [],
   "source": [
    "regridded_ph_base = sliced_ph_baseline.sum(['x', 'y']) / ocean_area_sliced.sum(['x', 'y'])"
   ]
  },
  {
   "cell_type": "code",
   "execution_count": 123,
   "id": "c9295acb-1e15-45c8-a32c-1d52a77a1b8a",
   "metadata": {},
   "outputs": [],
   "source": [
    "regridded_ph_base = regridded_ph_base.to_dataset(name='ph')"
   ]
  },
  {
   "cell_type": "code",
   "execution_count": 124,
   "id": "30c3ecbf-8550-4a09-bdd5-4f2a0cdb668a",
   "metadata": {},
   "outputs": [],
   "source": [
    "ph_weighted_oae = xr.open_dataset('/Volumes/UnionSine/Cropped_DataTransfer/SSP1_2.6/pH/ph_OAE_2.6_cropped.nc')"
   ]
  },
  {
   "cell_type": "code",
   "execution_count": 125,
   "id": "7046ed01-63fc-4e0d-8a9e-809bf2ace9bf",
   "metadata": {},
   "outputs": [],
   "source": [
    "sliced_ph_oae = ocean_area_sliced * ph_weighted_oae.ph # oae"
   ]
  },
  {
   "cell_type": "code",
   "execution_count": 126,
   "id": "52116163-2af0-46d7-b037-14a4223ed804",
   "metadata": {},
   "outputs": [],
   "source": [
    "regridded_ph_oae = sliced_ph_oae.sum(['x', 'y']) / ocean_area_sliced.sum(['x', 'y'])"
   ]
  },
  {
   "cell_type": "code",
   "execution_count": 127,
   "id": "6bf0112b-184d-4e6c-acfd-c74ce6d8bac2",
   "metadata": {},
   "outputs": [],
   "source": [
    "regridded_ph_oae = regridded_ph_oae.to_dataset(name='ph')"
   ]
  },
  {
   "cell_type": "code",
   "execution_count": 128,
   "id": "4e0b3d15-c56a-45f6-a06f-cc9fc40c023b",
   "metadata": {},
   "outputs": [],
   "source": [
    "#regridded_ph_base.to_netcdf('/Volumes/UnionSine/Cropped_DataTransfer/SSP1_2.6/pH/ph_baseline_2.6_weighted.nc')\n",
    "#regridded_ph_oae.to_netcdf('/Volumes/UnionSine/Cropped_DataTransfer/SSP1_2.6/pH/ph_oae_2.6_weighted.nc')"
   ]
  },
  {
   "cell_type": "markdown",
   "id": "ebc50eba-7fa6-4777-b65d-e0d61ea4dc28",
   "metadata": {},
   "source": [
    "### Weighted SST"
   ]
  },
  {
   "cell_type": "code",
   "execution_count": 129,
   "id": "43505a57-9590-4059-8d04-2002f4e7357b",
   "metadata": {},
   "outputs": [
    {
     "ename": "FileNotFoundError",
     "evalue": "[Errno 2] No such file or directory: b'/Volumes/UnionSine/Cropped_DataTransfer/SSP1_2.6/sst_baseline_2.6_cropped.nc'",
     "output_type": "error",
     "traceback": [
      "\u001b[0;31m---------------------------------------------------------------------------\u001b[0m",
      "\u001b[0;31mKeyError\u001b[0m                                  Traceback (most recent call last)",
      "\u001b[0;32m/opt/anaconda3/envs/geomar/lib/python3.7/site-packages/xarray/backends/file_manager.py\u001b[0m in \u001b[0;36m_acquire_with_cache_info\u001b[0;34m(self, needs_lock)\u001b[0m\n\u001b[1;32m    198\u001b[0m             \u001b[0;32mtry\u001b[0m\u001b[0;34m:\u001b[0m\u001b[0;34m\u001b[0m\u001b[0;34m\u001b[0m\u001b[0m\n\u001b[0;32m--> 199\u001b[0;31m                 \u001b[0mfile\u001b[0m \u001b[0;34m=\u001b[0m \u001b[0mself\u001b[0m\u001b[0;34m.\u001b[0m\u001b[0m_cache\u001b[0m\u001b[0;34m[\u001b[0m\u001b[0mself\u001b[0m\u001b[0;34m.\u001b[0m\u001b[0m_key\u001b[0m\u001b[0;34m]\u001b[0m\u001b[0;34m\u001b[0m\u001b[0;34m\u001b[0m\u001b[0m\n\u001b[0m\u001b[1;32m    200\u001b[0m             \u001b[0;32mexcept\u001b[0m \u001b[0mKeyError\u001b[0m\u001b[0;34m:\u001b[0m\u001b[0;34m\u001b[0m\u001b[0;34m\u001b[0m\u001b[0m\n",
      "\u001b[0;32m/opt/anaconda3/envs/geomar/lib/python3.7/site-packages/xarray/backends/lru_cache.py\u001b[0m in \u001b[0;36m__getitem__\u001b[0;34m(self, key)\u001b[0m\n\u001b[1;32m     52\u001b[0m         \u001b[0;32mwith\u001b[0m \u001b[0mself\u001b[0m\u001b[0;34m.\u001b[0m\u001b[0m_lock\u001b[0m\u001b[0;34m:\u001b[0m\u001b[0;34m\u001b[0m\u001b[0;34m\u001b[0m\u001b[0m\n\u001b[0;32m---> 53\u001b[0;31m             \u001b[0mvalue\u001b[0m \u001b[0;34m=\u001b[0m \u001b[0mself\u001b[0m\u001b[0;34m.\u001b[0m\u001b[0m_cache\u001b[0m\u001b[0;34m[\u001b[0m\u001b[0mkey\u001b[0m\u001b[0;34m]\u001b[0m\u001b[0;34m\u001b[0m\u001b[0;34m\u001b[0m\u001b[0m\n\u001b[0m\u001b[1;32m     54\u001b[0m             \u001b[0mself\u001b[0m\u001b[0;34m.\u001b[0m\u001b[0m_cache\u001b[0m\u001b[0;34m.\u001b[0m\u001b[0mmove_to_end\u001b[0m\u001b[0;34m(\u001b[0m\u001b[0mkey\u001b[0m\u001b[0;34m)\u001b[0m\u001b[0;34m\u001b[0m\u001b[0;34m\u001b[0m\u001b[0m\n",
      "\u001b[0;31mKeyError\u001b[0m: [<class 'netCDF4._netCDF4.Dataset'>, ('/Volumes/UnionSine/Cropped_DataTransfer/SSP1_2.6/sst_baseline_2.6_cropped.nc',), 'r', (('clobber', True), ('diskless', False), ('format', 'NETCDF4'), ('persist', False))]",
      "\nDuring handling of the above exception, another exception occurred:\n",
      "\u001b[0;31mFileNotFoundError\u001b[0m                         Traceback (most recent call last)",
      "\u001b[0;32m/var/folders/hq/35w1hmb96js9vgqq4730r3780000gn/T/ipykernel_79320/3211531204.py\u001b[0m in \u001b[0;36m<module>\u001b[0;34m\u001b[0m\n\u001b[0;32m----> 1\u001b[0;31m \u001b[0msst_weighted_base\u001b[0m \u001b[0;34m=\u001b[0m \u001b[0mxr\u001b[0m\u001b[0;34m.\u001b[0m\u001b[0mopen_dataset\u001b[0m\u001b[0;34m(\u001b[0m\u001b[0;34m'/Volumes/UnionSine/Cropped_DataTransfer/SSP1_2.6/sst_baseline_2.6_cropped.nc'\u001b[0m\u001b[0;34m)\u001b[0m\u001b[0;34m\u001b[0m\u001b[0;34m\u001b[0m\u001b[0m\n\u001b[0m",
      "\u001b[0;32m/opt/anaconda3/envs/geomar/lib/python3.7/site-packages/xarray/backends/api.py\u001b[0m in \u001b[0;36mopen_dataset\u001b[0;34m(filename_or_obj, engine, chunks, cache, decode_cf, mask_and_scale, decode_times, decode_timedelta, use_cftime, concat_characters, decode_coords, drop_variables, backend_kwargs, *args, **kwargs)\u001b[0m\n\u001b[1;32m    499\u001b[0m         \u001b[0mdrop_variables\u001b[0m\u001b[0;34m=\u001b[0m\u001b[0mdrop_variables\u001b[0m\u001b[0;34m,\u001b[0m\u001b[0;34m\u001b[0m\u001b[0;34m\u001b[0m\u001b[0m\n\u001b[1;32m    500\u001b[0m         \u001b[0;34m**\u001b[0m\u001b[0mdecoders\u001b[0m\u001b[0;34m,\u001b[0m\u001b[0;34m\u001b[0m\u001b[0;34m\u001b[0m\u001b[0m\n\u001b[0;32m--> 501\u001b[0;31m         \u001b[0;34m**\u001b[0m\u001b[0mkwargs\u001b[0m\u001b[0;34m,\u001b[0m\u001b[0;34m\u001b[0m\u001b[0;34m\u001b[0m\u001b[0m\n\u001b[0m\u001b[1;32m    502\u001b[0m     )\n\u001b[1;32m    503\u001b[0m     ds = _dataset_from_backend_dataset(\n",
      "\u001b[0;32m/opt/anaconda3/envs/geomar/lib/python3.7/site-packages/xarray/backends/netCDF4_.py\u001b[0m in \u001b[0;36mopen_dataset\u001b[0;34m(self, filename_or_obj, mask_and_scale, decode_times, concat_characters, decode_coords, drop_variables, use_cftime, decode_timedelta, group, mode, format, clobber, diskless, persist, lock, autoclose)\u001b[0m\n\u001b[1;32m    558\u001b[0m             \u001b[0mpersist\u001b[0m\u001b[0;34m=\u001b[0m\u001b[0mpersist\u001b[0m\u001b[0;34m,\u001b[0m\u001b[0;34m\u001b[0m\u001b[0;34m\u001b[0m\u001b[0m\n\u001b[1;32m    559\u001b[0m             \u001b[0mlock\u001b[0m\u001b[0;34m=\u001b[0m\u001b[0mlock\u001b[0m\u001b[0;34m,\u001b[0m\u001b[0;34m\u001b[0m\u001b[0;34m\u001b[0m\u001b[0m\n\u001b[0;32m--> 560\u001b[0;31m             \u001b[0mautoclose\u001b[0m\u001b[0;34m=\u001b[0m\u001b[0mautoclose\u001b[0m\u001b[0;34m,\u001b[0m\u001b[0;34m\u001b[0m\u001b[0;34m\u001b[0m\u001b[0m\n\u001b[0m\u001b[1;32m    561\u001b[0m         )\n\u001b[1;32m    562\u001b[0m \u001b[0;34m\u001b[0m\u001b[0m\n",
      "\u001b[0;32m/opt/anaconda3/envs/geomar/lib/python3.7/site-packages/xarray/backends/netCDF4_.py\u001b[0m in \u001b[0;36mopen\u001b[0;34m(cls, filename, mode, format, group, clobber, diskless, persist, lock, lock_maker, autoclose)\u001b[0m\n\u001b[1;32m    378\u001b[0m             \u001b[0mnetCDF4\u001b[0m\u001b[0;34m.\u001b[0m\u001b[0mDataset\u001b[0m\u001b[0;34m,\u001b[0m \u001b[0mfilename\u001b[0m\u001b[0;34m,\u001b[0m \u001b[0mmode\u001b[0m\u001b[0;34m=\u001b[0m\u001b[0mmode\u001b[0m\u001b[0;34m,\u001b[0m \u001b[0mkwargs\u001b[0m\u001b[0;34m=\u001b[0m\u001b[0mkwargs\u001b[0m\u001b[0;34m\u001b[0m\u001b[0;34m\u001b[0m\u001b[0m\n\u001b[1;32m    379\u001b[0m         )\n\u001b[0;32m--> 380\u001b[0;31m         \u001b[0;32mreturn\u001b[0m \u001b[0mcls\u001b[0m\u001b[0;34m(\u001b[0m\u001b[0mmanager\u001b[0m\u001b[0;34m,\u001b[0m \u001b[0mgroup\u001b[0m\u001b[0;34m=\u001b[0m\u001b[0mgroup\u001b[0m\u001b[0;34m,\u001b[0m \u001b[0mmode\u001b[0m\u001b[0;34m=\u001b[0m\u001b[0mmode\u001b[0m\u001b[0;34m,\u001b[0m \u001b[0mlock\u001b[0m\u001b[0;34m=\u001b[0m\u001b[0mlock\u001b[0m\u001b[0;34m,\u001b[0m \u001b[0mautoclose\u001b[0m\u001b[0;34m=\u001b[0m\u001b[0mautoclose\u001b[0m\u001b[0;34m)\u001b[0m\u001b[0;34m\u001b[0m\u001b[0;34m\u001b[0m\u001b[0m\n\u001b[0m\u001b[1;32m    381\u001b[0m \u001b[0;34m\u001b[0m\u001b[0m\n\u001b[1;32m    382\u001b[0m     \u001b[0;32mdef\u001b[0m \u001b[0m_acquire\u001b[0m\u001b[0;34m(\u001b[0m\u001b[0mself\u001b[0m\u001b[0;34m,\u001b[0m \u001b[0mneeds_lock\u001b[0m\u001b[0;34m=\u001b[0m\u001b[0;32mTrue\u001b[0m\u001b[0;34m)\u001b[0m\u001b[0;34m:\u001b[0m\u001b[0;34m\u001b[0m\u001b[0;34m\u001b[0m\u001b[0m\n",
      "\u001b[0;32m/opt/anaconda3/envs/geomar/lib/python3.7/site-packages/xarray/backends/netCDF4_.py\u001b[0m in \u001b[0;36m__init__\u001b[0;34m(self, manager, group, mode, lock, autoclose)\u001b[0m\n\u001b[1;32m    326\u001b[0m         \u001b[0mself\u001b[0m\u001b[0;34m.\u001b[0m\u001b[0m_group\u001b[0m \u001b[0;34m=\u001b[0m \u001b[0mgroup\u001b[0m\u001b[0;34m\u001b[0m\u001b[0;34m\u001b[0m\u001b[0m\n\u001b[1;32m    327\u001b[0m         \u001b[0mself\u001b[0m\u001b[0;34m.\u001b[0m\u001b[0m_mode\u001b[0m \u001b[0;34m=\u001b[0m \u001b[0mmode\u001b[0m\u001b[0;34m\u001b[0m\u001b[0;34m\u001b[0m\u001b[0m\n\u001b[0;32m--> 328\u001b[0;31m         \u001b[0mself\u001b[0m\u001b[0;34m.\u001b[0m\u001b[0mformat\u001b[0m \u001b[0;34m=\u001b[0m \u001b[0mself\u001b[0m\u001b[0;34m.\u001b[0m\u001b[0mds\u001b[0m\u001b[0;34m.\u001b[0m\u001b[0mdata_model\u001b[0m\u001b[0;34m\u001b[0m\u001b[0;34m\u001b[0m\u001b[0m\n\u001b[0m\u001b[1;32m    329\u001b[0m         \u001b[0mself\u001b[0m\u001b[0;34m.\u001b[0m\u001b[0m_filename\u001b[0m \u001b[0;34m=\u001b[0m \u001b[0mself\u001b[0m\u001b[0;34m.\u001b[0m\u001b[0mds\u001b[0m\u001b[0;34m.\u001b[0m\u001b[0mfilepath\u001b[0m\u001b[0;34m(\u001b[0m\u001b[0;34m)\u001b[0m\u001b[0;34m\u001b[0m\u001b[0;34m\u001b[0m\u001b[0m\n\u001b[1;32m    330\u001b[0m         \u001b[0mself\u001b[0m\u001b[0;34m.\u001b[0m\u001b[0mis_remote\u001b[0m \u001b[0;34m=\u001b[0m \u001b[0mis_remote_uri\u001b[0m\u001b[0;34m(\u001b[0m\u001b[0mself\u001b[0m\u001b[0;34m.\u001b[0m\u001b[0m_filename\u001b[0m\u001b[0;34m)\u001b[0m\u001b[0;34m\u001b[0m\u001b[0;34m\u001b[0m\u001b[0m\n",
      "\u001b[0;32m/opt/anaconda3/envs/geomar/lib/python3.7/site-packages/xarray/backends/netCDF4_.py\u001b[0m in \u001b[0;36mds\u001b[0;34m(self)\u001b[0m\n\u001b[1;32m    387\u001b[0m     \u001b[0;34m@\u001b[0m\u001b[0mproperty\u001b[0m\u001b[0;34m\u001b[0m\u001b[0;34m\u001b[0m\u001b[0m\n\u001b[1;32m    388\u001b[0m     \u001b[0;32mdef\u001b[0m \u001b[0mds\u001b[0m\u001b[0;34m(\u001b[0m\u001b[0mself\u001b[0m\u001b[0;34m)\u001b[0m\u001b[0;34m:\u001b[0m\u001b[0;34m\u001b[0m\u001b[0;34m\u001b[0m\u001b[0m\n\u001b[0;32m--> 389\u001b[0;31m         \u001b[0;32mreturn\u001b[0m \u001b[0mself\u001b[0m\u001b[0;34m.\u001b[0m\u001b[0m_acquire\u001b[0m\u001b[0;34m(\u001b[0m\u001b[0;34m)\u001b[0m\u001b[0;34m\u001b[0m\u001b[0;34m\u001b[0m\u001b[0m\n\u001b[0m\u001b[1;32m    390\u001b[0m \u001b[0;34m\u001b[0m\u001b[0m\n\u001b[1;32m    391\u001b[0m     \u001b[0;32mdef\u001b[0m \u001b[0mopen_store_variable\u001b[0m\u001b[0;34m(\u001b[0m\u001b[0mself\u001b[0m\u001b[0;34m,\u001b[0m \u001b[0mname\u001b[0m\u001b[0;34m,\u001b[0m \u001b[0mvar\u001b[0m\u001b[0;34m)\u001b[0m\u001b[0;34m:\u001b[0m\u001b[0;34m\u001b[0m\u001b[0;34m\u001b[0m\u001b[0m\n",
      "\u001b[0;32m/opt/anaconda3/envs/geomar/lib/python3.7/site-packages/xarray/backends/netCDF4_.py\u001b[0m in \u001b[0;36m_acquire\u001b[0;34m(self, needs_lock)\u001b[0m\n\u001b[1;32m    381\u001b[0m \u001b[0;34m\u001b[0m\u001b[0m\n\u001b[1;32m    382\u001b[0m     \u001b[0;32mdef\u001b[0m \u001b[0m_acquire\u001b[0m\u001b[0;34m(\u001b[0m\u001b[0mself\u001b[0m\u001b[0;34m,\u001b[0m \u001b[0mneeds_lock\u001b[0m\u001b[0;34m=\u001b[0m\u001b[0;32mTrue\u001b[0m\u001b[0;34m)\u001b[0m\u001b[0;34m:\u001b[0m\u001b[0;34m\u001b[0m\u001b[0;34m\u001b[0m\u001b[0m\n\u001b[0;32m--> 383\u001b[0;31m         \u001b[0;32mwith\u001b[0m \u001b[0mself\u001b[0m\u001b[0;34m.\u001b[0m\u001b[0m_manager\u001b[0m\u001b[0;34m.\u001b[0m\u001b[0macquire_context\u001b[0m\u001b[0;34m(\u001b[0m\u001b[0mneeds_lock\u001b[0m\u001b[0;34m)\u001b[0m \u001b[0;32mas\u001b[0m \u001b[0mroot\u001b[0m\u001b[0;34m:\u001b[0m\u001b[0;34m\u001b[0m\u001b[0;34m\u001b[0m\u001b[0m\n\u001b[0m\u001b[1;32m    384\u001b[0m             \u001b[0mds\u001b[0m \u001b[0;34m=\u001b[0m \u001b[0m_nc4_require_group\u001b[0m\u001b[0;34m(\u001b[0m\u001b[0mroot\u001b[0m\u001b[0;34m,\u001b[0m \u001b[0mself\u001b[0m\u001b[0;34m.\u001b[0m\u001b[0m_group\u001b[0m\u001b[0;34m,\u001b[0m \u001b[0mself\u001b[0m\u001b[0;34m.\u001b[0m\u001b[0m_mode\u001b[0m\u001b[0;34m)\u001b[0m\u001b[0;34m\u001b[0m\u001b[0;34m\u001b[0m\u001b[0m\n\u001b[1;32m    385\u001b[0m         \u001b[0;32mreturn\u001b[0m \u001b[0mds\u001b[0m\u001b[0;34m\u001b[0m\u001b[0;34m\u001b[0m\u001b[0m\n",
      "\u001b[0;32m/opt/anaconda3/envs/geomar/lib/python3.7/contextlib.py\u001b[0m in \u001b[0;36m__enter__\u001b[0;34m(self)\u001b[0m\n\u001b[1;32m    110\u001b[0m         \u001b[0;32mdel\u001b[0m \u001b[0mself\u001b[0m\u001b[0;34m.\u001b[0m\u001b[0margs\u001b[0m\u001b[0;34m,\u001b[0m \u001b[0mself\u001b[0m\u001b[0;34m.\u001b[0m\u001b[0mkwds\u001b[0m\u001b[0;34m,\u001b[0m \u001b[0mself\u001b[0m\u001b[0;34m.\u001b[0m\u001b[0mfunc\u001b[0m\u001b[0;34m\u001b[0m\u001b[0;34m\u001b[0m\u001b[0m\n\u001b[1;32m    111\u001b[0m         \u001b[0;32mtry\u001b[0m\u001b[0;34m:\u001b[0m\u001b[0;34m\u001b[0m\u001b[0;34m\u001b[0m\u001b[0m\n\u001b[0;32m--> 112\u001b[0;31m             \u001b[0;32mreturn\u001b[0m \u001b[0mnext\u001b[0m\u001b[0;34m(\u001b[0m\u001b[0mself\u001b[0m\u001b[0;34m.\u001b[0m\u001b[0mgen\u001b[0m\u001b[0;34m)\u001b[0m\u001b[0;34m\u001b[0m\u001b[0;34m\u001b[0m\u001b[0m\n\u001b[0m\u001b[1;32m    113\u001b[0m         \u001b[0;32mexcept\u001b[0m \u001b[0mStopIteration\u001b[0m\u001b[0;34m:\u001b[0m\u001b[0;34m\u001b[0m\u001b[0;34m\u001b[0m\u001b[0m\n\u001b[1;32m    114\u001b[0m             \u001b[0;32mraise\u001b[0m \u001b[0mRuntimeError\u001b[0m\u001b[0;34m(\u001b[0m\u001b[0;34m\"generator didn't yield\"\u001b[0m\u001b[0;34m)\u001b[0m \u001b[0;32mfrom\u001b[0m \u001b[0;32mNone\u001b[0m\u001b[0;34m\u001b[0m\u001b[0;34m\u001b[0m\u001b[0m\n",
      "\u001b[0;32m/opt/anaconda3/envs/geomar/lib/python3.7/site-packages/xarray/backends/file_manager.py\u001b[0m in \u001b[0;36macquire_context\u001b[0;34m(self, needs_lock)\u001b[0m\n\u001b[1;32m    185\u001b[0m     \u001b[0;32mdef\u001b[0m \u001b[0macquire_context\u001b[0m\u001b[0;34m(\u001b[0m\u001b[0mself\u001b[0m\u001b[0;34m,\u001b[0m \u001b[0mneeds_lock\u001b[0m\u001b[0;34m=\u001b[0m\u001b[0;32mTrue\u001b[0m\u001b[0;34m)\u001b[0m\u001b[0;34m:\u001b[0m\u001b[0;34m\u001b[0m\u001b[0;34m\u001b[0m\u001b[0m\n\u001b[1;32m    186\u001b[0m         \u001b[0;34m\"\"\"Context manager for acquiring a file.\"\"\"\u001b[0m\u001b[0;34m\u001b[0m\u001b[0;34m\u001b[0m\u001b[0m\n\u001b[0;32m--> 187\u001b[0;31m         \u001b[0mfile\u001b[0m\u001b[0;34m,\u001b[0m \u001b[0mcached\u001b[0m \u001b[0;34m=\u001b[0m \u001b[0mself\u001b[0m\u001b[0;34m.\u001b[0m\u001b[0m_acquire_with_cache_info\u001b[0m\u001b[0;34m(\u001b[0m\u001b[0mneeds_lock\u001b[0m\u001b[0;34m)\u001b[0m\u001b[0;34m\u001b[0m\u001b[0;34m\u001b[0m\u001b[0m\n\u001b[0m\u001b[1;32m    188\u001b[0m         \u001b[0;32mtry\u001b[0m\u001b[0;34m:\u001b[0m\u001b[0;34m\u001b[0m\u001b[0;34m\u001b[0m\u001b[0m\n\u001b[1;32m    189\u001b[0m             \u001b[0;32myield\u001b[0m \u001b[0mfile\u001b[0m\u001b[0;34m\u001b[0m\u001b[0;34m\u001b[0m\u001b[0m\n",
      "\u001b[0;32m/opt/anaconda3/envs/geomar/lib/python3.7/site-packages/xarray/backends/file_manager.py\u001b[0m in \u001b[0;36m_acquire_with_cache_info\u001b[0;34m(self, needs_lock)\u001b[0m\n\u001b[1;32m    203\u001b[0m                     \u001b[0mkwargs\u001b[0m \u001b[0;34m=\u001b[0m \u001b[0mkwargs\u001b[0m\u001b[0;34m.\u001b[0m\u001b[0mcopy\u001b[0m\u001b[0;34m(\u001b[0m\u001b[0;34m)\u001b[0m\u001b[0;34m\u001b[0m\u001b[0;34m\u001b[0m\u001b[0m\n\u001b[1;32m    204\u001b[0m                     \u001b[0mkwargs\u001b[0m\u001b[0;34m[\u001b[0m\u001b[0;34m\"mode\"\u001b[0m\u001b[0;34m]\u001b[0m \u001b[0;34m=\u001b[0m \u001b[0mself\u001b[0m\u001b[0;34m.\u001b[0m\u001b[0m_mode\u001b[0m\u001b[0;34m\u001b[0m\u001b[0;34m\u001b[0m\u001b[0m\n\u001b[0;32m--> 205\u001b[0;31m                 \u001b[0mfile\u001b[0m \u001b[0;34m=\u001b[0m \u001b[0mself\u001b[0m\u001b[0;34m.\u001b[0m\u001b[0m_opener\u001b[0m\u001b[0;34m(\u001b[0m\u001b[0;34m*\u001b[0m\u001b[0mself\u001b[0m\u001b[0;34m.\u001b[0m\u001b[0m_args\u001b[0m\u001b[0;34m,\u001b[0m \u001b[0;34m**\u001b[0m\u001b[0mkwargs\u001b[0m\u001b[0;34m)\u001b[0m\u001b[0;34m\u001b[0m\u001b[0;34m\u001b[0m\u001b[0m\n\u001b[0m\u001b[1;32m    206\u001b[0m                 \u001b[0;32mif\u001b[0m \u001b[0mself\u001b[0m\u001b[0;34m.\u001b[0m\u001b[0m_mode\u001b[0m \u001b[0;34m==\u001b[0m \u001b[0;34m\"w\"\u001b[0m\u001b[0;34m:\u001b[0m\u001b[0;34m\u001b[0m\u001b[0;34m\u001b[0m\u001b[0m\n\u001b[1;32m    207\u001b[0m                     \u001b[0;31m# ensure file doesn't get overriden when opened again\u001b[0m\u001b[0;34m\u001b[0m\u001b[0;34m\u001b[0m\u001b[0;34m\u001b[0m\u001b[0m\n",
      "\u001b[0;32mnetCDF4/_netCDF4.pyx\u001b[0m in \u001b[0;36mnetCDF4._netCDF4.Dataset.__init__\u001b[0;34m()\u001b[0m\n",
      "\u001b[0;32mnetCDF4/_netCDF4.pyx\u001b[0m in \u001b[0;36mnetCDF4._netCDF4._ensure_nc_success\u001b[0;34m()\u001b[0m\n",
      "\u001b[0;31mFileNotFoundError\u001b[0m: [Errno 2] No such file or directory: b'/Volumes/UnionSine/Cropped_DataTransfer/SSP1_2.6/sst_baseline_2.6_cropped.nc'"
     ]
    }
   ],
   "source": [
    "sst_weighted_base = xr.open_dataset('/Volumes/UnionSine/Cropped_DataTransfer/SSP1_2.6/sst_baseline_2.6_cropped.nc')"
   ]
  },
  {
   "cell_type": "code",
   "execution_count": null,
   "id": "bbd41d60-e2e0-4d9f-8a85-c17688e1abf2",
   "metadata": {},
   "outputs": [],
   "source": [
    "sliced_sst_baseline = ocean_area_sliced * sst_weighted_base.sst # baseline"
   ]
  },
  {
   "cell_type": "code",
   "execution_count": null,
   "id": "18bcf918-a09a-4c74-b51e-bad26d71c741",
   "metadata": {},
   "outputs": [],
   "source": [
    "regridded_sst_base = sliced_sst_baseline.sum(['x', 'y']) / ocean_area_sliced.sum(['x', 'y'])"
   ]
  },
  {
   "cell_type": "code",
   "execution_count": null,
   "id": "64c05a6b-7479-468e-acb4-d6620b5dc262",
   "metadata": {},
   "outputs": [],
   "source": [
    "regridded_sst_base = regridded_sst_base.to_dataset(name='sst')"
   ]
  },
  {
   "cell_type": "code",
   "execution_count": null,
   "id": "1205c5af-a23a-4755-8ec2-91322fa9aec1",
   "metadata": {},
   "outputs": [],
   "source": [
    "sst_weighted_oae = xr.open_dataset('/Volumes/UnionSine/Cropped_DataTransfer/SSP1_2.6/sst_OAE_2.6_cropped.nc')"
   ]
  },
  {
   "cell_type": "code",
   "execution_count": null,
   "id": "57775cbd-21cc-4c4a-bab8-334fb6ea4a4c",
   "metadata": {},
   "outputs": [],
   "source": [
    "sliced_sst_oae = ocean_area_sliced * sst_weighted_oae.sst # oae"
   ]
  },
  {
   "cell_type": "code",
   "execution_count": null,
   "id": "3c3d8a58-c047-4fa2-a193-679b74b5dbd1",
   "metadata": {},
   "outputs": [],
   "source": [
    "regridded_sst_oae = sliced_sst_oae.sum(['x', 'y']) / ocean_area_sliced.sum(['x', 'y'])"
   ]
  },
  {
   "cell_type": "code",
   "execution_count": null,
   "id": "bfb942dd-f10e-4234-bea9-47e5a96d1858",
   "metadata": {},
   "outputs": [],
   "source": [
    "regridded_sst_oae = regridded_sst_oae.to_dataset(name='sst')"
   ]
  },
  {
   "cell_type": "code",
   "execution_count": null,
   "id": "98a1c65a-839f-45ff-98e5-015124c1e948",
   "metadata": {},
   "outputs": [],
   "source": [
    "#regridded_sst_base.to_netcdf('/Volumes/UnionSine/Cropped_DataTransfer/SSP1_2.6/sst_baseline_2.6_weighted.nc')\n",
    "#regridded_sst_oae.to_netcdf('/Volumes/UnionSine/Cropped_DataTransfer/SSP1_2.6/sst_oae_2.6_weighted.nc')"
   ]
  },
  {
   "cell_type": "markdown",
   "id": "5e4eb896-15fb-4ede-94a5-bff1685eeeab",
   "metadata": {},
   "source": [
    "### Weighted Mixed Layer Depth "
   ]
  },
  {
   "cell_type": "code",
   "execution_count": null,
   "id": "61cebb12-aed5-437f-afa6-6063ac469148",
   "metadata": {},
   "outputs": [],
   "source": [
    "mld_weighted_base = xr.open_dataset('/Volumes/UnionSine/Cropped_DataTransfer/SWT&MLD/MLD_2.6/MLD_baseline_2.6_cropped.nc')"
   ]
  },
  {
   "cell_type": "code",
   "execution_count": null,
   "id": "d3491a2d-36fb-4b4f-aa99-d372f5162475",
   "metadata": {},
   "outputs": [],
   "source": [
    "sliced_mld_baseline = ocean_area_sliced * mld_weighted_base.mld # baseline"
   ]
  },
  {
   "cell_type": "code",
   "execution_count": null,
   "id": "2e0f7263-ea61-4095-ad0f-ced7fbad664d",
   "metadata": {},
   "outputs": [],
   "source": [
    "regridded_mld_base = sliced_mld_baseline.sum(['x', 'y']) / ocean_area_sliced.sum(['x', 'y'])"
   ]
  },
  {
   "cell_type": "code",
   "execution_count": null,
   "id": "bf08d0c1-7eb8-4643-b82d-e08ea7ef8212",
   "metadata": {},
   "outputs": [],
   "source": [
    "regridded_mld_base = regridded_mld_base.to_dataset(name='mld')"
   ]
  },
  {
   "cell_type": "code",
   "execution_count": null,
   "id": "8778eaae-1d1c-46dc-b865-a6e633d46464",
   "metadata": {},
   "outputs": [],
   "source": [
    "mld_weighted_oae = xr.open_dataset('/Volumes/UnionSine/Cropped_DataTransfer/SWT&MLD/MLD_2.6/MLD_OAE_2.6_cropped.nc')"
   ]
  },
  {
   "cell_type": "code",
   "execution_count": null,
   "id": "f999d1f6-d35f-41a7-87ca-30b79084605e",
   "metadata": {},
   "outputs": [],
   "source": [
    "sliced_mld_oae = ocean_area_sliced * mld_weighted_oae.mld # oae"
   ]
  },
  {
   "cell_type": "code",
   "execution_count": null,
   "id": "fc8fe23f-1170-4850-891a-15e4ca3cc40f",
   "metadata": {},
   "outputs": [],
   "source": [
    "regridded_mld_oae = sliced_mld_oae.sum(['x', 'y']) / ocean_area_sliced.sum(['x', 'y'])"
   ]
  },
  {
   "cell_type": "code",
   "execution_count": null,
   "id": "8e6da3df-828e-42c2-8ac0-0db21b1154f3",
   "metadata": {},
   "outputs": [],
   "source": [
    "regridded_mld_oae = regridded_mld_oae.to_dataset(name='mld')"
   ]
  },
  {
   "cell_type": "code",
   "execution_count": null,
   "id": "4dece5ec-4463-4191-85c7-4133df030681",
   "metadata": {},
   "outputs": [],
   "source": [
    "#regridded_mld_base.to_netcdf('/Volumes/UnionSine/Cropped_DataTransfer/SSP1_2.6/mld_baseline_2.6_weighted.nc')\n",
    "#regridded_mld_oae.to_netcdf('/Volumes/UnionSine/Cropped_DataTransfer/SSP1_2.6/mld_oae_2.6_weighted.nc')"
   ]
  }
 ],
 "metadata": {
  "kernelspec": {
   "display_name": "geomar",
   "language": "python",
   "name": "geomar"
  },
  "language_info": {
   "codemirror_mode": {
    "name": "ipython",
    "version": 3
   },
   "file_extension": ".py",
   "mimetype": "text/x-python",
   "name": "python",
   "nbconvert_exporter": "python",
   "pygments_lexer": "ipython3",
   "version": "3.7.12"
  }
 },
 "nbformat": 4,
 "nbformat_minor": 5
}
