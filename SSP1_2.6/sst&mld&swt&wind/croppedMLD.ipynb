{
 "cells": [
  {
   "cell_type": "raw",
   "id": "bf0490c0-3d0b-4eab-958c-b8c05d962f63",
   "metadata": {},
   "source": [
    "---\n",
    "title: \"cropped_mld_Comparison_2.6\"\n",
    "author: \"cciscato\"\n",
    "date: \"15/02/2023\"\n",
    "format: \n",
    "  html:\n",
    "    embed-resources: true\n",
    "    theme:\n",
    "              light: flatly\n",
    "              dark: darkly\n",
    "    toc: true\n",
    "    code-fold: true\n",
    "execute:\n",
    "  warning: false\n",
    "jupyter: python3\n",
    "---"
   ]
  },
  {
   "cell_type": "code",
   "execution_count": 1,
   "id": "cf596712-2a14-4ae0-b394-ad0b313053b2",
   "metadata": {
    "tags": []
   },
   "outputs": [],
   "source": [
    "import netCDF4 as nc\n",
    "from netCDF4 import Dataset\n",
    "import matplotlib as mpl\n",
    "import matplotlib.pyplot as plt\n",
    "import matplotlib.patches as mpatches\n",
    "from matplotlib.legend_handler import HandlerPatch\n",
    "import xarray as xr\n",
    "import numpy as np\n",
    "import pandas as pd\n",
    "import calendar\n",
    "import seaborn as sns\n",
    "import seaborn_image as isns"
   ]
  },
  {
   "cell_type": "code",
   "execution_count": 2,
   "id": "f74df557-d5bd-492f-8d1c-08f1d9a640e8",
   "metadata": {},
   "outputs": [],
   "source": [
    "import plotly.io as pio\n",
    "pio.renderers.default='jupyterlab'"
   ]
  },
  {
   "cell_type": "code",
   "execution_count": 3,
   "id": "1be9d20d-fe04-4b73-9f27-55b6bc8fce71",
   "metadata": {},
   "outputs": [],
   "source": [
    "plt.style.use('seaborn-pastel')\n",
    "isns.set_context(mode=\"notebook\", fontfamily=\"Times\")\n",
    "sns.set_context(font_scale=0.8)"
   ]
  },
  {
   "cell_type": "code",
   "execution_count": 4,
   "id": "52871f7e-6f5e-4024-a91b-be439bff12c7",
   "metadata": {},
   "outputs": [
    {
     "ename": "FileNotFoundError",
     "evalue": "[Errno 2] No such file or directory: b'/Volumes/UnionSine/Cropped_DataTransfer/SWT&MLD/MLD_2.6/mld_baseline_2.6_weighted.nc'",
     "output_type": "error",
     "traceback": [
      "\u001b[0;31m---------------------------------------------------------------------------\u001b[0m",
      "\u001b[0;31mKeyError\u001b[0m                                  Traceback (most recent call last)",
      "\u001b[0;32m/opt/anaconda3/envs/geomar/lib/python3.7/site-packages/xarray/backends/file_manager.py\u001b[0m in \u001b[0;36m_acquire_with_cache_info\u001b[0;34m(self, needs_lock)\u001b[0m\n\u001b[1;32m    198\u001b[0m             \u001b[0;32mtry\u001b[0m\u001b[0;34m:\u001b[0m\u001b[0;34m\u001b[0m\u001b[0;34m\u001b[0m\u001b[0m\n\u001b[0;32m--> 199\u001b[0;31m                 \u001b[0mfile\u001b[0m \u001b[0;34m=\u001b[0m \u001b[0mself\u001b[0m\u001b[0;34m.\u001b[0m\u001b[0m_cache\u001b[0m\u001b[0;34m[\u001b[0m\u001b[0mself\u001b[0m\u001b[0;34m.\u001b[0m\u001b[0m_key\u001b[0m\u001b[0;34m]\u001b[0m\u001b[0;34m\u001b[0m\u001b[0;34m\u001b[0m\u001b[0m\n\u001b[0m\u001b[1;32m    200\u001b[0m             \u001b[0;32mexcept\u001b[0m \u001b[0mKeyError\u001b[0m\u001b[0;34m:\u001b[0m\u001b[0;34m\u001b[0m\u001b[0;34m\u001b[0m\u001b[0m\n",
      "\u001b[0;32m/opt/anaconda3/envs/geomar/lib/python3.7/site-packages/xarray/backends/lru_cache.py\u001b[0m in \u001b[0;36m__getitem__\u001b[0;34m(self, key)\u001b[0m\n\u001b[1;32m     52\u001b[0m         \u001b[0;32mwith\u001b[0m \u001b[0mself\u001b[0m\u001b[0;34m.\u001b[0m\u001b[0m_lock\u001b[0m\u001b[0;34m:\u001b[0m\u001b[0;34m\u001b[0m\u001b[0;34m\u001b[0m\u001b[0m\n\u001b[0;32m---> 53\u001b[0;31m             \u001b[0mvalue\u001b[0m \u001b[0;34m=\u001b[0m \u001b[0mself\u001b[0m\u001b[0;34m.\u001b[0m\u001b[0m_cache\u001b[0m\u001b[0;34m[\u001b[0m\u001b[0mkey\u001b[0m\u001b[0;34m]\u001b[0m\u001b[0;34m\u001b[0m\u001b[0;34m\u001b[0m\u001b[0m\n\u001b[0m\u001b[1;32m     54\u001b[0m             \u001b[0mself\u001b[0m\u001b[0;34m.\u001b[0m\u001b[0m_cache\u001b[0m\u001b[0;34m.\u001b[0m\u001b[0mmove_to_end\u001b[0m\u001b[0;34m(\u001b[0m\u001b[0mkey\u001b[0m\u001b[0;34m)\u001b[0m\u001b[0;34m\u001b[0m\u001b[0;34m\u001b[0m\u001b[0m\n",
      "\u001b[0;31mKeyError\u001b[0m: [<class 'netCDF4._netCDF4.Dataset'>, ('/Volumes/UnionSine/Cropped_DataTransfer/SWT&MLD/MLD_2.6/mld_baseline_2.6_weighted.nc',), 'r', (('clobber', True), ('diskless', False), ('format', 'NETCDF4'), ('persist', False))]",
      "\nDuring handling of the above exception, another exception occurred:\n",
      "\u001b[0;31mFileNotFoundError\u001b[0m                         Traceback (most recent call last)",
      "\u001b[0;32m/var/folders/hq/35w1hmb96js9vgqq4730r3780000gn/T/ipykernel_28757/1980241787.py\u001b[0m in \u001b[0;36m<module>\u001b[0;34m\u001b[0m\n\u001b[1;32m      1\u001b[0m \u001b[0mdataset\u001b[0m \u001b[0;34m=\u001b[0m \u001b[0;34m(\u001b[0m\u001b[0;34mr'/Volumes/UnionSine/Cropped_DataTransfer/SWT&MLD/MLD_2.6/mld_baseline_2.6_weighted.nc'\u001b[0m\u001b[0;34m)\u001b[0m\u001b[0;34m\u001b[0m\u001b[0;34m\u001b[0m\u001b[0m\n\u001b[0;32m----> 2\u001b[0;31m \u001b[0mdata_baseline\u001b[0m \u001b[0;34m=\u001b[0m \u001b[0mxr\u001b[0m\u001b[0;34m.\u001b[0m\u001b[0mopen_dataset\u001b[0m\u001b[0;34m(\u001b[0m\u001b[0mdataset\u001b[0m\u001b[0;34m)\u001b[0m\u001b[0;34m\u001b[0m\u001b[0;34m\u001b[0m\u001b[0m\n\u001b[0m",
      "\u001b[0;32m/opt/anaconda3/envs/geomar/lib/python3.7/site-packages/xarray/backends/api.py\u001b[0m in \u001b[0;36mopen_dataset\u001b[0;34m(filename_or_obj, engine, chunks, cache, decode_cf, mask_and_scale, decode_times, decode_timedelta, use_cftime, concat_characters, decode_coords, drop_variables, backend_kwargs, *args, **kwargs)\u001b[0m\n\u001b[1;32m    499\u001b[0m         \u001b[0mdrop_variables\u001b[0m\u001b[0;34m=\u001b[0m\u001b[0mdrop_variables\u001b[0m\u001b[0;34m,\u001b[0m\u001b[0;34m\u001b[0m\u001b[0;34m\u001b[0m\u001b[0m\n\u001b[1;32m    500\u001b[0m         \u001b[0;34m**\u001b[0m\u001b[0mdecoders\u001b[0m\u001b[0;34m,\u001b[0m\u001b[0;34m\u001b[0m\u001b[0;34m\u001b[0m\u001b[0m\n\u001b[0;32m--> 501\u001b[0;31m         \u001b[0;34m**\u001b[0m\u001b[0mkwargs\u001b[0m\u001b[0;34m,\u001b[0m\u001b[0;34m\u001b[0m\u001b[0;34m\u001b[0m\u001b[0m\n\u001b[0m\u001b[1;32m    502\u001b[0m     )\n\u001b[1;32m    503\u001b[0m     ds = _dataset_from_backend_dataset(\n",
      "\u001b[0;32m/opt/anaconda3/envs/geomar/lib/python3.7/site-packages/xarray/backends/netCDF4_.py\u001b[0m in \u001b[0;36mopen_dataset\u001b[0;34m(self, filename_or_obj, mask_and_scale, decode_times, concat_characters, decode_coords, drop_variables, use_cftime, decode_timedelta, group, mode, format, clobber, diskless, persist, lock, autoclose)\u001b[0m\n\u001b[1;32m    558\u001b[0m             \u001b[0mpersist\u001b[0m\u001b[0;34m=\u001b[0m\u001b[0mpersist\u001b[0m\u001b[0;34m,\u001b[0m\u001b[0;34m\u001b[0m\u001b[0;34m\u001b[0m\u001b[0m\n\u001b[1;32m    559\u001b[0m             \u001b[0mlock\u001b[0m\u001b[0;34m=\u001b[0m\u001b[0mlock\u001b[0m\u001b[0;34m,\u001b[0m\u001b[0;34m\u001b[0m\u001b[0;34m\u001b[0m\u001b[0m\n\u001b[0;32m--> 560\u001b[0;31m             \u001b[0mautoclose\u001b[0m\u001b[0;34m=\u001b[0m\u001b[0mautoclose\u001b[0m\u001b[0;34m,\u001b[0m\u001b[0;34m\u001b[0m\u001b[0;34m\u001b[0m\u001b[0m\n\u001b[0m\u001b[1;32m    561\u001b[0m         )\n\u001b[1;32m    562\u001b[0m \u001b[0;34m\u001b[0m\u001b[0m\n",
      "\u001b[0;32m/opt/anaconda3/envs/geomar/lib/python3.7/site-packages/xarray/backends/netCDF4_.py\u001b[0m in \u001b[0;36mopen\u001b[0;34m(cls, filename, mode, format, group, clobber, diskless, persist, lock, lock_maker, autoclose)\u001b[0m\n\u001b[1;32m    378\u001b[0m             \u001b[0mnetCDF4\u001b[0m\u001b[0;34m.\u001b[0m\u001b[0mDataset\u001b[0m\u001b[0;34m,\u001b[0m \u001b[0mfilename\u001b[0m\u001b[0;34m,\u001b[0m \u001b[0mmode\u001b[0m\u001b[0;34m=\u001b[0m\u001b[0mmode\u001b[0m\u001b[0;34m,\u001b[0m \u001b[0mkwargs\u001b[0m\u001b[0;34m=\u001b[0m\u001b[0mkwargs\u001b[0m\u001b[0;34m\u001b[0m\u001b[0;34m\u001b[0m\u001b[0m\n\u001b[1;32m    379\u001b[0m         )\n\u001b[0;32m--> 380\u001b[0;31m         \u001b[0;32mreturn\u001b[0m \u001b[0mcls\u001b[0m\u001b[0;34m(\u001b[0m\u001b[0mmanager\u001b[0m\u001b[0;34m,\u001b[0m \u001b[0mgroup\u001b[0m\u001b[0;34m=\u001b[0m\u001b[0mgroup\u001b[0m\u001b[0;34m,\u001b[0m \u001b[0mmode\u001b[0m\u001b[0;34m=\u001b[0m\u001b[0mmode\u001b[0m\u001b[0;34m,\u001b[0m \u001b[0mlock\u001b[0m\u001b[0;34m=\u001b[0m\u001b[0mlock\u001b[0m\u001b[0;34m,\u001b[0m \u001b[0mautoclose\u001b[0m\u001b[0;34m=\u001b[0m\u001b[0mautoclose\u001b[0m\u001b[0;34m)\u001b[0m\u001b[0;34m\u001b[0m\u001b[0;34m\u001b[0m\u001b[0m\n\u001b[0m\u001b[1;32m    381\u001b[0m \u001b[0;34m\u001b[0m\u001b[0m\n\u001b[1;32m    382\u001b[0m     \u001b[0;32mdef\u001b[0m \u001b[0m_acquire\u001b[0m\u001b[0;34m(\u001b[0m\u001b[0mself\u001b[0m\u001b[0;34m,\u001b[0m \u001b[0mneeds_lock\u001b[0m\u001b[0;34m=\u001b[0m\u001b[0;32mTrue\u001b[0m\u001b[0;34m)\u001b[0m\u001b[0;34m:\u001b[0m\u001b[0;34m\u001b[0m\u001b[0;34m\u001b[0m\u001b[0m\n",
      "\u001b[0;32m/opt/anaconda3/envs/geomar/lib/python3.7/site-packages/xarray/backends/netCDF4_.py\u001b[0m in \u001b[0;36m__init__\u001b[0;34m(self, manager, group, mode, lock, autoclose)\u001b[0m\n\u001b[1;32m    326\u001b[0m         \u001b[0mself\u001b[0m\u001b[0;34m.\u001b[0m\u001b[0m_group\u001b[0m \u001b[0;34m=\u001b[0m \u001b[0mgroup\u001b[0m\u001b[0;34m\u001b[0m\u001b[0;34m\u001b[0m\u001b[0m\n\u001b[1;32m    327\u001b[0m         \u001b[0mself\u001b[0m\u001b[0;34m.\u001b[0m\u001b[0m_mode\u001b[0m \u001b[0;34m=\u001b[0m \u001b[0mmode\u001b[0m\u001b[0;34m\u001b[0m\u001b[0;34m\u001b[0m\u001b[0m\n\u001b[0;32m--> 328\u001b[0;31m         \u001b[0mself\u001b[0m\u001b[0;34m.\u001b[0m\u001b[0mformat\u001b[0m \u001b[0;34m=\u001b[0m \u001b[0mself\u001b[0m\u001b[0;34m.\u001b[0m\u001b[0mds\u001b[0m\u001b[0;34m.\u001b[0m\u001b[0mdata_model\u001b[0m\u001b[0;34m\u001b[0m\u001b[0;34m\u001b[0m\u001b[0m\n\u001b[0m\u001b[1;32m    329\u001b[0m         \u001b[0mself\u001b[0m\u001b[0;34m.\u001b[0m\u001b[0m_filename\u001b[0m \u001b[0;34m=\u001b[0m \u001b[0mself\u001b[0m\u001b[0;34m.\u001b[0m\u001b[0mds\u001b[0m\u001b[0;34m.\u001b[0m\u001b[0mfilepath\u001b[0m\u001b[0;34m(\u001b[0m\u001b[0;34m)\u001b[0m\u001b[0;34m\u001b[0m\u001b[0;34m\u001b[0m\u001b[0m\n\u001b[1;32m    330\u001b[0m         \u001b[0mself\u001b[0m\u001b[0;34m.\u001b[0m\u001b[0mis_remote\u001b[0m \u001b[0;34m=\u001b[0m \u001b[0mis_remote_uri\u001b[0m\u001b[0;34m(\u001b[0m\u001b[0mself\u001b[0m\u001b[0;34m.\u001b[0m\u001b[0m_filename\u001b[0m\u001b[0;34m)\u001b[0m\u001b[0;34m\u001b[0m\u001b[0;34m\u001b[0m\u001b[0m\n",
      "\u001b[0;32m/opt/anaconda3/envs/geomar/lib/python3.7/site-packages/xarray/backends/netCDF4_.py\u001b[0m in \u001b[0;36mds\u001b[0;34m(self)\u001b[0m\n\u001b[1;32m    387\u001b[0m     \u001b[0;34m@\u001b[0m\u001b[0mproperty\u001b[0m\u001b[0;34m\u001b[0m\u001b[0;34m\u001b[0m\u001b[0m\n\u001b[1;32m    388\u001b[0m     \u001b[0;32mdef\u001b[0m \u001b[0mds\u001b[0m\u001b[0;34m(\u001b[0m\u001b[0mself\u001b[0m\u001b[0;34m)\u001b[0m\u001b[0;34m:\u001b[0m\u001b[0;34m\u001b[0m\u001b[0;34m\u001b[0m\u001b[0m\n\u001b[0;32m--> 389\u001b[0;31m         \u001b[0;32mreturn\u001b[0m \u001b[0mself\u001b[0m\u001b[0;34m.\u001b[0m\u001b[0m_acquire\u001b[0m\u001b[0;34m(\u001b[0m\u001b[0;34m)\u001b[0m\u001b[0;34m\u001b[0m\u001b[0;34m\u001b[0m\u001b[0m\n\u001b[0m\u001b[1;32m    390\u001b[0m \u001b[0;34m\u001b[0m\u001b[0m\n\u001b[1;32m    391\u001b[0m     \u001b[0;32mdef\u001b[0m \u001b[0mopen_store_variable\u001b[0m\u001b[0;34m(\u001b[0m\u001b[0mself\u001b[0m\u001b[0;34m,\u001b[0m \u001b[0mname\u001b[0m\u001b[0;34m,\u001b[0m \u001b[0mvar\u001b[0m\u001b[0;34m)\u001b[0m\u001b[0;34m:\u001b[0m\u001b[0;34m\u001b[0m\u001b[0;34m\u001b[0m\u001b[0m\n",
      "\u001b[0;32m/opt/anaconda3/envs/geomar/lib/python3.7/site-packages/xarray/backends/netCDF4_.py\u001b[0m in \u001b[0;36m_acquire\u001b[0;34m(self, needs_lock)\u001b[0m\n\u001b[1;32m    381\u001b[0m \u001b[0;34m\u001b[0m\u001b[0m\n\u001b[1;32m    382\u001b[0m     \u001b[0;32mdef\u001b[0m \u001b[0m_acquire\u001b[0m\u001b[0;34m(\u001b[0m\u001b[0mself\u001b[0m\u001b[0;34m,\u001b[0m \u001b[0mneeds_lock\u001b[0m\u001b[0;34m=\u001b[0m\u001b[0;32mTrue\u001b[0m\u001b[0;34m)\u001b[0m\u001b[0;34m:\u001b[0m\u001b[0;34m\u001b[0m\u001b[0;34m\u001b[0m\u001b[0m\n\u001b[0;32m--> 383\u001b[0;31m         \u001b[0;32mwith\u001b[0m \u001b[0mself\u001b[0m\u001b[0;34m.\u001b[0m\u001b[0m_manager\u001b[0m\u001b[0;34m.\u001b[0m\u001b[0macquire_context\u001b[0m\u001b[0;34m(\u001b[0m\u001b[0mneeds_lock\u001b[0m\u001b[0;34m)\u001b[0m \u001b[0;32mas\u001b[0m \u001b[0mroot\u001b[0m\u001b[0;34m:\u001b[0m\u001b[0;34m\u001b[0m\u001b[0;34m\u001b[0m\u001b[0m\n\u001b[0m\u001b[1;32m    384\u001b[0m             \u001b[0mds\u001b[0m \u001b[0;34m=\u001b[0m \u001b[0m_nc4_require_group\u001b[0m\u001b[0;34m(\u001b[0m\u001b[0mroot\u001b[0m\u001b[0;34m,\u001b[0m \u001b[0mself\u001b[0m\u001b[0;34m.\u001b[0m\u001b[0m_group\u001b[0m\u001b[0;34m,\u001b[0m \u001b[0mself\u001b[0m\u001b[0;34m.\u001b[0m\u001b[0m_mode\u001b[0m\u001b[0;34m)\u001b[0m\u001b[0;34m\u001b[0m\u001b[0;34m\u001b[0m\u001b[0m\n\u001b[1;32m    385\u001b[0m         \u001b[0;32mreturn\u001b[0m \u001b[0mds\u001b[0m\u001b[0;34m\u001b[0m\u001b[0;34m\u001b[0m\u001b[0m\n",
      "\u001b[0;32m/opt/anaconda3/envs/geomar/lib/python3.7/contextlib.py\u001b[0m in \u001b[0;36m__enter__\u001b[0;34m(self)\u001b[0m\n\u001b[1;32m    110\u001b[0m         \u001b[0;32mdel\u001b[0m \u001b[0mself\u001b[0m\u001b[0;34m.\u001b[0m\u001b[0margs\u001b[0m\u001b[0;34m,\u001b[0m \u001b[0mself\u001b[0m\u001b[0;34m.\u001b[0m\u001b[0mkwds\u001b[0m\u001b[0;34m,\u001b[0m \u001b[0mself\u001b[0m\u001b[0;34m.\u001b[0m\u001b[0mfunc\u001b[0m\u001b[0;34m\u001b[0m\u001b[0;34m\u001b[0m\u001b[0m\n\u001b[1;32m    111\u001b[0m         \u001b[0;32mtry\u001b[0m\u001b[0;34m:\u001b[0m\u001b[0;34m\u001b[0m\u001b[0;34m\u001b[0m\u001b[0m\n\u001b[0;32m--> 112\u001b[0;31m             \u001b[0;32mreturn\u001b[0m \u001b[0mnext\u001b[0m\u001b[0;34m(\u001b[0m\u001b[0mself\u001b[0m\u001b[0;34m.\u001b[0m\u001b[0mgen\u001b[0m\u001b[0;34m)\u001b[0m\u001b[0;34m\u001b[0m\u001b[0;34m\u001b[0m\u001b[0m\n\u001b[0m\u001b[1;32m    113\u001b[0m         \u001b[0;32mexcept\u001b[0m \u001b[0mStopIteration\u001b[0m\u001b[0;34m:\u001b[0m\u001b[0;34m\u001b[0m\u001b[0;34m\u001b[0m\u001b[0m\n\u001b[1;32m    114\u001b[0m             \u001b[0;32mraise\u001b[0m \u001b[0mRuntimeError\u001b[0m\u001b[0;34m(\u001b[0m\u001b[0;34m\"generator didn't yield\"\u001b[0m\u001b[0;34m)\u001b[0m \u001b[0;32mfrom\u001b[0m \u001b[0;32mNone\u001b[0m\u001b[0;34m\u001b[0m\u001b[0;34m\u001b[0m\u001b[0m\n",
      "\u001b[0;32m/opt/anaconda3/envs/geomar/lib/python3.7/site-packages/xarray/backends/file_manager.py\u001b[0m in \u001b[0;36macquire_context\u001b[0;34m(self, needs_lock)\u001b[0m\n\u001b[1;32m    185\u001b[0m     \u001b[0;32mdef\u001b[0m \u001b[0macquire_context\u001b[0m\u001b[0;34m(\u001b[0m\u001b[0mself\u001b[0m\u001b[0;34m,\u001b[0m \u001b[0mneeds_lock\u001b[0m\u001b[0;34m=\u001b[0m\u001b[0;32mTrue\u001b[0m\u001b[0;34m)\u001b[0m\u001b[0;34m:\u001b[0m\u001b[0;34m\u001b[0m\u001b[0;34m\u001b[0m\u001b[0m\n\u001b[1;32m    186\u001b[0m         \u001b[0;34m\"\"\"Context manager for acquiring a file.\"\"\"\u001b[0m\u001b[0;34m\u001b[0m\u001b[0;34m\u001b[0m\u001b[0m\n\u001b[0;32m--> 187\u001b[0;31m         \u001b[0mfile\u001b[0m\u001b[0;34m,\u001b[0m \u001b[0mcached\u001b[0m \u001b[0;34m=\u001b[0m \u001b[0mself\u001b[0m\u001b[0;34m.\u001b[0m\u001b[0m_acquire_with_cache_info\u001b[0m\u001b[0;34m(\u001b[0m\u001b[0mneeds_lock\u001b[0m\u001b[0;34m)\u001b[0m\u001b[0;34m\u001b[0m\u001b[0;34m\u001b[0m\u001b[0m\n\u001b[0m\u001b[1;32m    188\u001b[0m         \u001b[0;32mtry\u001b[0m\u001b[0;34m:\u001b[0m\u001b[0;34m\u001b[0m\u001b[0;34m\u001b[0m\u001b[0m\n\u001b[1;32m    189\u001b[0m             \u001b[0;32myield\u001b[0m \u001b[0mfile\u001b[0m\u001b[0;34m\u001b[0m\u001b[0;34m\u001b[0m\u001b[0m\n",
      "\u001b[0;32m/opt/anaconda3/envs/geomar/lib/python3.7/site-packages/xarray/backends/file_manager.py\u001b[0m in \u001b[0;36m_acquire_with_cache_info\u001b[0;34m(self, needs_lock)\u001b[0m\n\u001b[1;32m    203\u001b[0m                     \u001b[0mkwargs\u001b[0m \u001b[0;34m=\u001b[0m \u001b[0mkwargs\u001b[0m\u001b[0;34m.\u001b[0m\u001b[0mcopy\u001b[0m\u001b[0;34m(\u001b[0m\u001b[0;34m)\u001b[0m\u001b[0;34m\u001b[0m\u001b[0;34m\u001b[0m\u001b[0m\n\u001b[1;32m    204\u001b[0m                     \u001b[0mkwargs\u001b[0m\u001b[0;34m[\u001b[0m\u001b[0;34m\"mode\"\u001b[0m\u001b[0;34m]\u001b[0m \u001b[0;34m=\u001b[0m \u001b[0mself\u001b[0m\u001b[0;34m.\u001b[0m\u001b[0m_mode\u001b[0m\u001b[0;34m\u001b[0m\u001b[0;34m\u001b[0m\u001b[0m\n\u001b[0;32m--> 205\u001b[0;31m                 \u001b[0mfile\u001b[0m \u001b[0;34m=\u001b[0m \u001b[0mself\u001b[0m\u001b[0;34m.\u001b[0m\u001b[0m_opener\u001b[0m\u001b[0;34m(\u001b[0m\u001b[0;34m*\u001b[0m\u001b[0mself\u001b[0m\u001b[0;34m.\u001b[0m\u001b[0m_args\u001b[0m\u001b[0;34m,\u001b[0m \u001b[0;34m**\u001b[0m\u001b[0mkwargs\u001b[0m\u001b[0;34m)\u001b[0m\u001b[0;34m\u001b[0m\u001b[0;34m\u001b[0m\u001b[0m\n\u001b[0m\u001b[1;32m    206\u001b[0m                 \u001b[0;32mif\u001b[0m \u001b[0mself\u001b[0m\u001b[0;34m.\u001b[0m\u001b[0m_mode\u001b[0m \u001b[0;34m==\u001b[0m \u001b[0;34m\"w\"\u001b[0m\u001b[0;34m:\u001b[0m\u001b[0;34m\u001b[0m\u001b[0;34m\u001b[0m\u001b[0m\n\u001b[1;32m    207\u001b[0m                     \u001b[0;31m# ensure file doesn't get overriden when opened again\u001b[0m\u001b[0;34m\u001b[0m\u001b[0;34m\u001b[0m\u001b[0;34m\u001b[0m\u001b[0m\n",
      "\u001b[0;32mnetCDF4/_netCDF4.pyx\u001b[0m in \u001b[0;36mnetCDF4._netCDF4.Dataset.__init__\u001b[0;34m()\u001b[0m\n",
      "\u001b[0;32mnetCDF4/_netCDF4.pyx\u001b[0m in \u001b[0;36mnetCDF4._netCDF4._ensure_nc_success\u001b[0;34m()\u001b[0m\n",
      "\u001b[0;31mFileNotFoundError\u001b[0m: [Errno 2] No such file or directory: b'/Volumes/UnionSine/Cropped_DataTransfer/SWT&MLD/MLD_2.6/mld_baseline_2.6_weighted.nc'"
     ]
    }
   ],
   "source": [
    "dataset = (r'/Volumes/UnionSine/Cropped_DataTransfer/SWT&MLD/MLD_2.6/mld_baseline_2.6_weighted.nc')\n",
    "data_baseline = xr.open_dataset(dataset)"
   ]
  },
  {
   "cell_type": "code",
   "execution_count": null,
   "id": "611825c8-8ade-42d7-a98b-e6618be944ba",
   "metadata": {},
   "outputs": [],
   "source": [
    "dataset_oae = (r'/Volumes/UnionSine/Cropped_DataTransfer/SWT&MLD/MLD_2.6/mld_oae_2.6_weighted.nc')\n",
    "data_oae = xr.open_dataset(dataset_oae)"
   ]
  },
  {
   "cell_type": "markdown",
   "id": "01697dc9-7236-403d-8308-7cf795d4025c",
   "metadata": {},
   "source": [
    "### EU Seasonal Average of SST"
   ]
  },
  {
   "cell_type": "code",
   "execution_count": null,
   "id": "350d49b1-1b9d-4968-818f-4a44e2c92a0d",
   "metadata": {},
   "outputs": [],
   "source": [
    "sliced_frame_baseline = data_baseline.sel(time_counter=slice('2090', '2100'))"
   ]
  },
  {
   "cell_type": "code",
   "execution_count": null,
   "id": "5f2e3083-332b-480f-b4f7-0ab90b9dd0a4",
   "metadata": {},
   "outputs": [],
   "source": [
    "sliced_frame_oae = data_oae.sel(time_counter=slice('2090', '2100'))"
   ]
  },
  {
   "cell_type": "code",
   "execution_count": null,
   "id": "10b4d1f0-d405-432d-b4ac-54d732c5e26e",
   "metadata": {
    "tags": []
   },
   "outputs": [],
   "source": [
    "data_baseline_plot = (data_baseline.mld).to_dataset(name='mld')\n",
    "data_oae_plot = (data_oae.mld).to_dataset(name='mld')"
   ]
  },
  {
   "cell_type": "code",
   "execution_count": null,
   "id": "0c4d0d99-c712-4851-84ba-c52d68f6f19f",
   "metadata": {},
   "outputs": [],
   "source": [
    "plt.figure(figsize=(20, 3))\n",
    "plt.plot(data_baseline_plot.time_counter, data_baseline_plot.mld, linewidth=2, label = 'Baseline')\n",
    "plt.plot(data_oae_plot.time_counter, data_oae_plot.mld, linewidth=2, label = 'OAE')\n",
    "plt.xlabel(\"Time\", fontsize=14)\n",
    "plt.ylabel(\"Mixed Layer Depth [m]\", fontsize=14)\n",
    "plt.legend(bbox_to_anchor=(1, 1), loc='upper left', fontsize=14)\n",
    "plt.title('EU Average of SST', fontname=\"Times\", fontsize=17, y=1.06)\n",
    "plt.show()"
   ]
  },
  {
   "cell_type": "code",
   "execution_count": null,
   "id": "f3f8d8d3-b06d-4be3-8fa0-4d02cb0164cb",
   "metadata": {
    "tags": []
   },
   "outputs": [],
   "source": [
    "sliced_frame_baseline_plot = (sliced_frame_baseline.mld).to_dataset(name='mld')\n",
    "sliced_frame_oae_plot = (sliced_frame_oae.mld).to_dataset(name='mld')"
   ]
  },
  {
   "cell_type": "code",
   "execution_count": null,
   "id": "d096a318-f5e1-4be4-8a02-59edfd4e41c2",
   "metadata": {},
   "outputs": [],
   "source": [
    "plt.figure(figsize=(20, 3))\n",
    "plt.plot(sliced_frame_baseline_plot.time_counter, sliced_frame_baseline_plot.mld, linewidth=2, label = 'Baseline')\n",
    "plt.plot(sliced_frame_oae_plot.time_counter, sliced_frame_oae_plot.mld, linewidth=2, label = 'OAE')\n",
    "plt.xlabel(\"Time\", fontsize=14)\n",
    "plt.ylabel(\"Mixed Layer Depth [m]\", fontsize=14)\n",
    "plt.legend(bbox_to_anchor=(1, 1), loc='upper left', fontsize=14)\n",
    "plt.title('EU Average of SST', fontsize=17, y=1.06)\n",
    "plt.show()"
   ]
  },
  {
   "cell_type": "markdown",
   "id": "c4cc877f-6323-4707-a8ed-14b9d99d6364",
   "metadata": {},
   "source": [
    "### Unweighted EU Seasonal Average of SST"
   ]
  },
  {
   "cell_type": "code",
   "execution_count": null,
   "id": "effd2f37-1e41-4c9f-bb66-97a4f6d732dd",
   "metadata": {},
   "outputs": [],
   "source": [
    "# condition\n",
    "\n",
    "start_date = \"2090-01-01\"\n",
    "end_date = \"2100-01-01\""
   ]
  },
  {
   "cell_type": "code",
   "execution_count": null,
   "id": "7f0874b7-2738-441a-9f4d-6141723d21e9",
   "metadata": {},
   "outputs": [],
   "source": [
    "mld_baseline = data_baseline[\"mld\"].sel(time_counter=slice(start_date, end_date))"
   ]
  },
  {
   "cell_type": "code",
   "execution_count": null,
   "id": "3202e92b-daf9-48a5-8ca7-eb79961a417f",
   "metadata": {},
   "outputs": [],
   "source": [
    "mld_seasonal_mean_baseline = (mld_baseline.resample(time_counter='QS-DEC').mean(keep_attrs=True))"
   ]
  },
  {
   "cell_type": "code",
   "execution_count": null,
   "id": "534608bc-f7ce-4fb6-a7a3-56ab1e606909",
   "metadata": {},
   "outputs": [],
   "source": [
    "mld_oae = data_oae[\"mld\"].sel(time_counter=slice(start_date, end_date))"
   ]
  },
  {
   "cell_type": "code",
   "execution_count": null,
   "id": "27c1ee76-5ee1-4dc9-abfa-acdcd19b3b26",
   "metadata": {},
   "outputs": [],
   "source": [
    "mld_seasonal_mean_oae = (mld_oae.resample(time_counter='QS-DEC').mean(keep_attrs=True))"
   ]
  },
  {
   "cell_type": "code",
   "execution_count": null,
   "id": "a9c6b2c4-7e40-49cf-95f1-69cbb20152bf",
   "metadata": {},
   "outputs": [],
   "source": [
    "f, ax = plt.subplots(figsize=(20, 3))\n",
    "\n",
    "mld_seasonal_mean_baseline.plot(marker=\"o\", markersize=7, markeredgewidth=0.5,\n",
    "                        color=\"black\", linewidth=0.5,\n",
    "                        markerfacecolor=\"lightskyblue\", \n",
    "                        markeredgecolor=\"black\", \n",
    "                        label = 'Baseline')\n",
    "\n",
    "mld_seasonal_mean_oae.plot(marker=\"o\", markersize=7, markeredgewidth=0.5,\n",
    "                        color=\"black\", linewidth=0.5, \n",
    "                        markerfacecolor=\"lightgreen\",\n",
    "                        markeredgecolor=\"black\", \n",
    "                        label = 'OAE')\n",
    "ax.set_title(\"Unweighted EU Seasonal Average of SST\", fontsize= 17, y=1.06)\n",
    "\n",
    "plt.xlabel(\"Time\", fontsize=14)\n",
    "plt.ylabel(\"Mixed Layer Depth [m]\", fontsize=14)\n",
    "plt.legend(bbox_to_anchor=(1, 1), loc='upper left', fontsize=14)\n",
    "plt.show()"
   ]
  },
  {
   "cell_type": "markdown",
   "id": "2ff893fb-0a5b-4597-ad6a-3eb1113c700d",
   "metadata": {},
   "source": [
    "### Weighted EU Seasonal Average of SST"
   ]
  },
  {
   "cell_type": "code",
   "execution_count": null,
   "id": "52cb1bb1-7316-4e42-befd-3d103b6b8dd6",
   "metadata": {},
   "outputs": [],
   "source": [
    "month_length_baseline = mld_baseline.time_counter.dt.days_in_month\n",
    "mld_weighted_season_baseline = ((mld_baseline * month_length_baseline).resample(time_counter='QS-DEC').sum() / month_length_baseline.resample(time_counter='QS-DEC').sum())"
   ]
  },
  {
   "cell_type": "code",
   "execution_count": null,
   "id": "6ef3fb02-efe9-42b2-9acb-32b9c008c443",
   "metadata": {},
   "outputs": [],
   "source": [
    "month_length_oae = mld_oae.time_counter.dt.days_in_month\n",
    "mld_weighted_season_oae = ((mld_oae * month_length_oae).resample(time_counter='QS-DEC').sum() / month_length_oae.resample(time_counter='QS-DEC').sum())"
   ]
  },
  {
   "cell_type": "code",
   "execution_count": null,
   "id": "abeca0d1-1a2f-49fa-a0c0-1bb876e7f929",
   "metadata": {},
   "outputs": [],
   "source": [
    "f, ax = plt.subplots(figsize=(20, 3))\n",
    "mld_weighted_season_baseline.plot(marker=\"o\", markersize=7, markeredgewidth=0.5,\n",
    "                        color=\"black\", linewidth=0.5, \n",
    "                        markerfacecolor=\"lightskyblue\",\n",
    "                        markeredgecolor=\"black\", \n",
    "                        label = 'Baseline')\n",
    "\n",
    "mld_weighted_season_oae.plot(marker=\"o\", markersize=7, markeredgewidth=0.5,\n",
    "                        color=\"black\", linewidth=0.5, \n",
    "                        markerfacecolor=\"lightgreen\",\n",
    "                        markeredgecolor=\"black\", \n",
    "                        label = 'OAE')\n",
    "ax.set_title(\"Weighted EU Seasonal Average of SST\", fontsize=17, y=1.06)\n",
    "\n",
    "plt.xlabel(\"Time\", fontsize=14)\n",
    "plt.ylabel(\"Mixed Layer Depth [m]\", fontsize=14)\n",
    "plt.legend(bbox_to_anchor=(1, 1), loc='upper left', fontsize=14)\n",
    "plt.show()"
   ]
  },
  {
   "cell_type": "markdown",
   "id": "faddc49b-6c90-46aa-9481-53289227aba6",
   "metadata": {},
   "source": [
    "### Weighted EU Seasonal Average of SST (seasons displayed)"
   ]
  },
  {
   "cell_type": "code",
   "execution_count": null,
   "id": "8ab9ac20-a316-401b-a9bf-1e826237abbf",
   "metadata": {},
   "outputs": [],
   "source": [
    "# condition\n",
    "\n",
    "colors = {3: \"lightgreen\", 6: \"orange\", 9: \"brown\", 12: \"lightblue\"}\n",
    "seasons = {3: \"Spring\", 6: \"Summer\", 9: \"Fall\", 12: \"Winter\"}"
   ]
  },
  {
   "cell_type": "code",
   "execution_count": null,
   "id": "bb9ea00b-36e4-4044-81c9-e321adf56dd5",
   "metadata": {},
   "outputs": [],
   "source": [
    "f, (ax1, ax2) = plt.subplots(2, 1, figsize=(20, 8), sharey=False)\n",
    "for month, arr in mld_weighted_season_baseline.groupby('time_counter.month'):\n",
    "    arr.plot(ax=ax1,\n",
    "             color=\"black\", linewidth=0.5, \n",
    "             marker=\"o\", markersize=8, markeredgewidth=0.5,\n",
    "             markerfacecolor=colors[month],\n",
    "             markeredgecolor='black',\n",
    "             label=seasons[month])\n",
    "\n",
    "ax1.set_ylim(5,20)\n",
    "ax1.legend(bbox_to_anchor=(1, 1), loc='upper left', fontsize=14)\n",
    "ax1.set_title(\"Weighted EU Seasonal Average of SST without OAE\", fontsize=17, y=1.06)\n",
    "ax1.set_xlabel('Time', fontsize=14)\n",
    "ax1.set_ylabel('Mixed Layer Depth [m]', fontsize=14)\n",
    "\n",
    "for month, arr in mld_weighted_season_oae.groupby('time_counter.month'):\n",
    "    arr.plot(ax=ax2,\n",
    "             color=\"black\", linewidth=0.5, \n",
    "             marker=\"o\", markersize=8, markeredgewidth=0.5,\n",
    "             markerfacecolor=colors[month],\n",
    "             markeredgecolor='black',\n",
    "             label=seasons[month])\n",
    "\n",
    "ax2.set_ylim(5,20) \n",
    "ax2.legend(bbox_to_anchor=(1, 1), loc='upper left', fontsize=14)\n",
    "ax2.set_title(\"Weighted EU Seasonal Average of SST with OAE\", fontsize=17, y=1.06)\n",
    "ax2.set_xlabel('Time', fontsize=14)\n",
    "ax2.set_ylabel('Mixed Layer Depth [m]', fontsize=14)\n",
    "f.tight_layout()\n",
    "plt.show()"
   ]
  },
  {
   "cell_type": "code",
   "execution_count": null,
   "id": "bfdfb2da-4112-4d73-b90d-a120e898b49a",
   "metadata": {},
   "outputs": [],
   "source": [
    "# define handlers for future legends"
   ]
  },
  {
   "cell_type": "code",
   "execution_count": null,
   "id": "a4fd0ffc-8719-4723-bea5-2c07a154f614",
   "metadata": {},
   "outputs": [],
   "source": [
    "class HandlerEllipse(HandlerPatch):\n",
    "    def create_artists(self, legend, orig_handle,\n",
    "                       xdescent, ydescent, width, height, fontsize, trans):\n",
    "        center = 0.5 * width - 0.5 * xdescent, 0.5 * height - 0.5 * ydescent\n",
    "        p = mpatches.Ellipse(xy=center, width=height + xdescent,\n",
    "                             height=height + ydescent)\n",
    "        self.update_prop(p, orig_handle, legend)\n",
    "        p.set_transform(trans)\n",
    "        return [p]"
   ]
  },
  {
   "cell_type": "markdown",
   "id": "d006d875-cb33-4d26-9ec8-e192ca37d340",
   "metadata": {},
   "source": [
    "### Weighted EU Seasonal Average of SST without OAE (seasons displayed)"
   ]
  },
  {
   "cell_type": "code",
   "execution_count": null,
   "id": "e825c63c-af9f-4fe4-85c8-4bbbca8ebddf",
   "metadata": {},
   "outputs": [],
   "source": [
    "mld_weighted_baseline = mld_weighted_season_baseline.to_dataframe('mld')\n",
    "mld_weighted_baseline['Month'] = pd.DatetimeIndex(mld_weighted_baseline.index).month"
   ]
  },
  {
   "cell_type": "code",
   "execution_count": null,
   "id": "c8f114a6-9060-488f-83f0-0c3c5b44aa0b",
   "metadata": {},
   "outputs": [],
   "source": [
    "# condition\n",
    "\n",
    "conditions_season = [\n",
    "    (mld_weighted_baseline['Month'] == 3),\n",
    "    (mld_weighted_baseline['Month'] == 6),\n",
    "    (mld_weighted_baseline['Month'] == 9),\n",
    "    (mld_weighted_baseline['Month'] == 12)\n",
    "]\n",
    "\n",
    "values_season = ['Spring', 'Summer', 'Fall', 'Winter']"
   ]
  },
  {
   "cell_type": "code",
   "execution_count": null,
   "id": "3943592f-9502-4ac8-a273-f70c9001ac69",
   "metadata": {},
   "outputs": [],
   "source": [
    "mld_weighted_baseline['Month'] = np.select(conditions_season, values_season)"
   ]
  },
  {
   "cell_type": "code",
   "execution_count": null,
   "id": "a76b2dcd-8786-4c13-b87e-ca6966ec94b3",
   "metadata": {},
   "outputs": [],
   "source": [
    "# condition\n",
    "\n",
    "colors_season = dict(zip(mld_weighted_baseline.Month.unique(), ['paleturquoise', 'darkseagreen', 'gold', 'lightcoral']))"
   ]
  },
  {
   "cell_type": "code",
   "execution_count": null,
   "id": "652f41a0-60da-4e89-b99c-781eb0b12d9a",
   "metadata": {},
   "outputs": [],
   "source": [
    "fig, ax = plt.subplots(figsize=(15, 3))\n",
    "ax.plot_date(mld_weighted_baseline.index, mld_weighted_baseline.mld, '-', color=\"black\", linewidth=0.5, zorder=1)\n",
    "ax.scatter(mld_weighted_baseline.index, mld_weighted_baseline.mld, color=mld_weighted_baseline.Month.map(lambda x: colors_season[x]), edgecolors='black', linewidth=0.5, s=70)\n",
    "\n",
    "legend = [mpatches.Circle((0.5, 0.5), 1, facecolor = value, edgecolor = \"black\", linewidth=0.5, label = key, alpha = 1) for key, value in colors_season.items()]\n",
    "ax.legend(handles = legend, bbox_to_anchor=(1, 1), loc='best', columnspacing=0.05, handletextpad=0.4, fontsize=12, ncol = 1, handler_map={mpatches.Circle: HandlerEllipse()})\n",
    "\n",
    "ax.set_ylabel('Mixed Layer Depth [m]', fontsize=14)\n",
    "#ax.set_title(\"Weighted EU Seasonal Average of SST without OAE\", fontsize=17, y=1.06)\n",
    "\n",
    "plt.savefig('/Users/chiaraciscato/Desktop/geomar/geomarcode/SSP1_2.6/sst&mld&swt&wind/figures/EUmld_change_monthly_mean.png')\n",
    "\n",
    "pass"
   ]
  },
  {
   "cell_type": "markdown",
   "id": "b6ad11fc-c6a5-4e91-b13c-bd786345ebc9",
   "metadata": {},
   "source": [
    "### Weighted EU Seasonal Average of SST with OAE (seasons displayed)"
   ]
  },
  {
   "cell_type": "code",
   "execution_count": null,
   "id": "1f2879ce-93b7-4e64-96dc-41f746391f8c",
   "metadata": {},
   "outputs": [],
   "source": [
    "mld_weighted_oae = mld_weighted_season_oae.to_dataframe('mld')\n",
    "mld_weighted_oae['Month'] = pd.DatetimeIndex(mld_weighted_oae.index).month"
   ]
  },
  {
   "cell_type": "code",
   "execution_count": null,
   "id": "23254257-3354-4a72-be8b-7cba2a9341ad",
   "metadata": {},
   "outputs": [],
   "source": [
    "mld_weighted_oae['Month'] = np.select(conditions_season, values_season)"
   ]
  },
  {
   "cell_type": "code",
   "execution_count": null,
   "id": "499132f3-20a3-472b-b2e3-57902717404b",
   "metadata": {},
   "outputs": [],
   "source": [
    "fig, ax = plt.subplots(figsize=(20, 3))\n",
    "ax.plot_date(mld_weighted_oae.index, mld_weighted_oae.mld, '-', color=\"black\", linewidth=0.5, zorder=1)\n",
    "ax.scatter(mld_weighted_oae.index, mld_weighted_oae.mld, color=mld_weighted_oae.Month.map(lambda x: colors_season[x]), edgecolors='black', linewidth=0.5, s=70)\n",
    "\n",
    "legend = [mpatches.Circle((0.5, 0.5), 1, facecolor = value, edgecolor = \"black\", linewidth=0.5, label = key, alpha = 1) for key, value in colors_season.items()]\n",
    "ax.legend(handles = legend, bbox_to_anchor=(1, 1), loc='best', columnspacing=0.05, handletextpad=0.4, fontsize=12, ncol = 1, handler_map={mpatches.Circle: HandlerEllipse()})\n",
    "\n",
    "ax.set_xlabel('Time', fontsize=14)\n",
    "ax.set_ylabel('Mixed Layer Depth [m]', fontsize=14)\n",
    "#ax.set_title(\"Weighted EU Seasonal Average of SST with OAE\", fontsize=17, y=1.06)\n",
    "\n",
    "pass"
   ]
  },
  {
   "cell_type": "markdown",
   "id": "c0c67892-e296-4d57-a300-0dc99d97db5d",
   "metadata": {},
   "source": [
    "### Weighted EU Seasonal Average of SST (seasons displayed)"
   ]
  },
  {
   "cell_type": "code",
   "execution_count": null,
   "id": "c2d0641c-b8de-4ef1-be90-3b54a538dc8b",
   "metadata": {},
   "outputs": [],
   "source": [
    "fig, ax = plt.subplots(figsize=(20, 3))\n",
    "\n",
    "ax.plot_date(mld_weighted_baseline.index, mld_weighted_baseline.mld, '-', color=\"black\", linewidth=0.5, zorder=1)\n",
    "ax.text(43700, 8.02, s='Baseline')\n",
    "ax.scatter(mld_weighted_baseline.index, mld_weighted_baseline.mld, color=mld_weighted_baseline.Month.map(lambda x: colors_season[x]), marker='o', edgecolors='black', linewidth=0.5, s=70)\n",
    "\n",
    "ax.plot_date(mld_weighted_oae.index, mld_weighted_oae.mld, '-', color=\"black\", linewidth=0.5, zorder=1)\n",
    "ax.text(43700, 8.08, s='OAE')\n",
    "ax.scatter(mld_weighted_oae.index, mld_weighted_oae.mld, color=mld_weighted_oae.Month.map(lambda x: colors_season[x]), marker='o', edgecolors='black', linewidth=0.5, s=70)\n",
    "\n",
    "legend = [mpatches.Circle((0.5, 0.5), 1, facecolor = value, edgecolor = \"black\", linewidth=0.5, label = key, alpha = 1) for key, value in colors_season.items()]\n",
    "ax.legend(handles = legend, bbox_to_anchor=(1, 1), loc='best', columnspacing=0.05, handletextpad=0.4, fontsize=12, ncol = 1, handler_map={mpatches.Circle: HandlerEllipse()})\n",
    "\n",
    "ax.set_xlabel('Time', fontsize=14)\n",
    "ax.set_ylabel('Mixed Layer Depth [m]', fontsize=14)\n",
    "ax.set_title(\"Weighted EU Seasonal Average of SST\", fontsize=17, y=1.06)\n",
    "\n",
    "pass"
   ]
  },
  {
   "cell_type": "markdown",
   "id": "e0cc6042-0251-4f33-8d37-55069a44e33b",
   "metadata": {},
   "source": [
    "### Map of EU Seasonal Average of SST without OAE"
   ]
  },
  {
   "cell_type": "code",
   "execution_count": null,
   "id": "6347fb39-8e4a-4e63-adb4-5a4146aed6b4",
   "metadata": {},
   "outputs": [],
   "source": [
    "# month_length_baseline = sliced_frame_baseline.time_counter.dt.days_in_month \n",
    "# weights_baseline = (month_length_baseline.groupby(\"time_counter.season\") / month_length_baseline.groupby(\"time_counter.season\").sum())\n",
    "# np.testing.assert_allclose(weights_baseline.groupby('time_counter.season').sum().values, np.ones(4))"
   ]
  },
  {
   "cell_type": "code",
   "execution_count": null,
   "id": "8a3b8efb-ca7f-4875-b722-a3adde0c2ab6",
   "metadata": {},
   "outputs": [],
   "source": [
    "# weights_baseline = weights_baseline.to_dataset()"
   ]
  },
  {
   "cell_type": "code",
   "execution_count": null,
   "id": "13362713-4cca-48ef-8f2e-73d1231f5c85",
   "metadata": {},
   "outputs": [],
   "source": [
    "# ds_weighted_baseline = (sliced_frame_baseline.mld * weights_baseline.days_in_month).groupby(\"time_counter.season\").sum(dim=\"time_counter\")\n",
    "# ds_weighted_baseline = ds_weighted_baseline.to_dataset(name='sst')\n",
    "# ds_unweighted_baseline = sliced_frame_baseline.groupby(\"time_counter.season\").mean(dim=\"time_counter\")\n",
    "# ds_diff_baseline = ds_weighted_baseline - ds_unweighted_baseline"
   ]
  },
  {
   "cell_type": "code",
   "execution_count": null,
   "id": "503cb923-e83a-4e8f-9bcd-9e2daa3e918b",
   "metadata": {},
   "outputs": [],
   "source": [
    "# notnull = pd.notnull(ds_unweighted_baseline[\"mld\"][0])\n",
    "\n",
    "# fig, axes = plt.subplots(nrows=4, ncols=3, figsize=(14, 12))\n",
    "# for i, season in enumerate((\"DJF\", \"MAM\", \"JJA\", \"SON\")):\n",
    "#     ds_weighted_baseline[\"mld\"].sel(season=season).where(notnull).plot.pcolormesh(\n",
    "#         ax=axes[i, 0],\n",
    "#         vmin=5,\n",
    "#         vmax=20,\n",
    "#         cmap=\"RdBu_r\",\n",
    "#         add_colorbar=True, add_labels=False,\n",
    "#         extend=\"both\",\n",
    "#     )\n",
    "\n",
    "#     ds_unweighted_baseline[\"mld\"].sel(season=season).where(notnull).plot.pcolormesh(\n",
    "#         ax=axes[i, 1],\n",
    "#         vmin=5,\n",
    "#         vmax=20,\n",
    "#         cmap=\"RdBu_r\",\n",
    "#         add_colorbar=True, add_labels=False,\n",
    "#         extend=\"both\",\n",
    "#     )\n",
    "\n",
    "#     ds_diff_baseline[\"mld\"].sel(season=season).where(notnull).plot.pcolormesh(\n",
    "#         ax=axes[i, 2],\n",
    "#         vmin=-0.1,\n",
    "#         vmax=0.1,\n",
    "#         cmap=\"RdBu_r\",\n",
    "#         add_colorbar=True, add_labels=False,\n",
    "#         extend=\"both\",\n",
    "#     )\n",
    "\n",
    "#     axes[i, 0].set_ylabel(season)\n",
    "#     axes[i, 1].set_ylabel(\"\")\n",
    "#     axes[i, 2].set_ylabel(\"\")\n",
    "\n",
    "# for ax in axes.flat:\n",
    "#     ax.axes.get_xaxis().set_ticklabels([])\n",
    "#     ax.axes.get_yaxis().set_ticklabels([])\n",
    "#     ax.axes.axis(\"tight\")\n",
    "#     ax.set_xlabel(\"\")\n",
    "\n",
    "# axes[0, 0].set_title(\"Weighted by DPM\", fontsize=15)\n",
    "# axes[0, 1].set_title(\"Equal Weighting\", fontsize=15)\n",
    "# axes[0, 2].set_title(\"Difference\", fontsize=15)\n",
    "\n",
    "# plt.tight_layout()\n",
    "\n",
    "# fig.suptitle(\"EU Seasonal Average of SST from 2090 to 2100 without OAE\", fontsize=17, y=1.03)\n",
    "\n",
    "# pass"
   ]
  },
  {
   "cell_type": "markdown",
   "id": "169fb79b-fb54-41cf-9058-cf7e242f387b",
   "metadata": {},
   "source": [
    "### Map of EU Seasonal Average of SST with OAE"
   ]
  },
  {
   "cell_type": "code",
   "execution_count": null,
   "id": "9412f85a-0a0d-445b-ad71-51ff70b70a12",
   "metadata": {},
   "outputs": [],
   "source": [
    "# month_length_oae = sliced_frame_oae.time_counter.dt.days_in_month \n",
    "# weights_oae = (month_length_oae.groupby(\"time_counter.season\") / month_length_oae.groupby(\"time_counter.season\").sum())\n",
    "# np.testing.assert_allclose(weights_oae.groupby('time_counter.season').sum().values, np.ones(4))"
   ]
  },
  {
   "cell_type": "code",
   "execution_count": null,
   "id": "075682e3-f384-4f07-838d-2c2f3d5f53d1",
   "metadata": {},
   "outputs": [],
   "source": [
    "# weights_oae = weights_oae.to_dataset()"
   ]
  },
  {
   "cell_type": "code",
   "execution_count": null,
   "id": "0e8fdd5f-0ff7-45ec-a4d6-0037c00a96df",
   "metadata": {},
   "outputs": [],
   "source": [
    "# ds_weighted_oae = (sliced_frame_oae.mld * weights_oae.days_in_month).groupby(\"time_counter.season\").sum(dim=\"time_counter\")\n",
    "# ds_weighted_oae = ds_weighted_oae.to_dataset(name='sst')\n",
    "# ds_unweighted_oae = sliced_frame_oae.groupby(\"time_counter.season\").mean(dim=\"time_counter\")\n",
    "# ds_diff_oae = ds_weighted_oae - ds_unweighted_oae"
   ]
  },
  {
   "cell_type": "code",
   "execution_count": null,
   "id": "acfccfd9-1758-44be-be1c-dfd661ff0654",
   "metadata": {},
   "outputs": [],
   "source": [
    "# notnull = pd.notnull(ds_unweighted_oae[\"mld\"][0])\n",
    "\n",
    "# fig, axes = plt.subplots(nrows=4, ncols=3, figsize=(14, 12))\n",
    "# for i, season in enumerate((\"DJF\", \"MAM\", \"JJA\", \"SON\")):\n",
    "#     ds_weighted_oae[\"mld\"].sel(season=season).where(notnull).plot.pcolormesh(\n",
    "#         ax=axes[i, 0],\n",
    "#         vmin=5,\n",
    "#         vmax=20,\n",
    "#         cmap=\"RdBu_r\",\n",
    "#         add_colorbar=True, add_labels=False,\n",
    "#         extend=\"both\",\n",
    "#     )\n",
    "\n",
    "#     ds_unweighted_oae[\"mld\"].sel(season=season).where(notnull).plot.pcolormesh(\n",
    "#         ax=axes[i, 1],\n",
    "#         vmin=5,\n",
    "#         vmax=20,\n",
    "#         cmap=\"RdBu_r\",\n",
    "#         add_colorbar=True, add_labels=False,\n",
    "#         extend=\"both\",\n",
    "#     )\n",
    "\n",
    "#     ds_diff_oae[\"mld\"].sel(season=season).where(notnull).plot.pcolormesh(\n",
    "#         ax=axes[i, 2],\n",
    "#         vmin=-0.1,\n",
    "#         vmax=0.1,\n",
    "#         cmap=\"RdBu_r\",\n",
    "#         add_colorbar=True, add_labels=False,\n",
    "#         extend=\"both\",\n",
    "#     )\n",
    "\n",
    "#     axes[i, 0].set_ylabel(season)\n",
    "#     axes[i, 1].set_ylabel(\"\")\n",
    "#     axes[i, 2].set_ylabel(\"\")\n",
    "\n",
    "# for ax in axes.flat:\n",
    "#     ax.axes.get_xaxis().set_ticklabels([])\n",
    "#     ax.axes.get_yaxis().set_ticklabels([])\n",
    "#     ax.axes.axis(\"tight\")\n",
    "#     ax.set_xlabel(\"\")\n",
    "\n",
    "# axes[0, 0].set_title(\"Weighted by DPM\", fontsize=15)\n",
    "# axes[0, 1].set_title(\"Equal Weighting\", fontsize=15)\n",
    "# axes[0, 2].set_title(\"Difference\", fontsize=15)\n",
    "\n",
    "# plt.tight_layout()\n",
    "\n",
    "# fig.suptitle(\"EU Seasonal Average of SST from 2090 to 2100 with OAE\", fontsize=17, y=1.03)\n",
    "\n",
    "# pass"
   ]
  },
  {
   "cell_type": "markdown",
   "id": "587dd38b-a31d-4a79-bb9d-1c4085a38bb5",
   "metadata": {},
   "source": [
    "### EU Monthly Average of SST without OAE"
   ]
  },
  {
   "cell_type": "code",
   "execution_count": null,
   "id": "06c7b3bf-143b-4b14-a269-1bd7f3d0bc82",
   "metadata": {},
   "outputs": [],
   "source": [
    "mld_monthly_mean_baseline = (data_baseline[\"mld\"].sel(time_counter=slice(start_date, end_date)))"
   ]
  },
  {
   "cell_type": "code",
   "execution_count": null,
   "id": "96931bf7-023f-4afb-bb47-038fa401157b",
   "metadata": {},
   "outputs": [],
   "source": [
    "mld_monthly_mean_oae = (data_oae[\"mld\"].sel(time_counter=slice(start_date, end_date)))"
   ]
  },
  {
   "cell_type": "code",
   "execution_count": null,
   "id": "8a984f77-449c-4f6f-a4d7-03073a5cd328",
   "metadata": {},
   "outputs": [],
   "source": [
    "f, ax = plt.subplots(figsize=(20, 3))\n",
    "\n",
    "mld_monthly_mean_baseline.plot(marker=\"o\", markersize=5, markeredgewidth=0.5,\n",
    "                        color=\"black\", linewidth=0.5,\n",
    "                        markerfacecolor=\"lightskyblue\", \n",
    "                        markeredgecolor=\"black\", \n",
    "                        label = 'Baseline')\n",
    "\n",
    "mld_monthly_mean_oae.plot(marker=\"o\", markersize=5, markeredgewidth=0.5,\n",
    "                        color=\"black\", linewidth=0.5,\n",
    "                        markerfacecolor=\"lightgreen\",\n",
    "                        markeredgecolor=\"black\", \n",
    "                        label = 'OAE')\n",
    "ax.set_title(\"EU Monthly Average of SST\", fontname=\"Times\", fontsize=17, y=1.06)\n",
    "\n",
    "plt.xlabel(\"Time\", fontsize=14)\n",
    "plt.ylabel(\"Mixed Layer Depth [m]\", fontsize=14)\n",
    "plt.legend(bbox_to_anchor=(1, 1), loc='upper left', fontsize=14)\n",
    "plt.show()"
   ]
  },
  {
   "cell_type": "markdown",
   "id": "fa09cf58-5eff-481c-a73d-b5a63b629bb6",
   "metadata": {},
   "source": [
    "### EU Monthly Average of SST without OAE (months displayed)"
   ]
  },
  {
   "cell_type": "code",
   "execution_count": null,
   "id": "ec5708fc-b6b6-4686-bb8a-3333d4f45058",
   "metadata": {},
   "outputs": [],
   "source": [
    "mld_baseline_monthly = mld_monthly_mean_baseline.to_dataframe('mld')\n",
    "mld_baseline_monthly['Month'] = pd.DatetimeIndex(mld_baseline_monthly.index).month"
   ]
  },
  {
   "cell_type": "code",
   "execution_count": null,
   "id": "d7600e56-3af0-47ac-9e3c-a8a93770ed8e",
   "metadata": {},
   "outputs": [],
   "source": [
    "# condition\n",
    "\n",
    "conditions_month = [\n",
    "    (mld_baseline_monthly['Month'] == 1),\n",
    "    (mld_baseline_monthly['Month'] == 2),\n",
    "    (mld_baseline_monthly['Month'] == 3),\n",
    "    (mld_baseline_monthly['Month'] == 4),\n",
    "    (mld_baseline_monthly['Month'] == 5),\n",
    "    (mld_baseline_monthly['Month'] == 6),\n",
    "    (mld_baseline_monthly['Month'] == 7),\n",
    "    (mld_baseline_monthly['Month'] == 8),\n",
    "    (mld_baseline_monthly['Month'] == 9),\n",
    "    (mld_baseline_monthly['Month'] == 10),\n",
    "    (mld_baseline_monthly['Month'] == 11),\n",
    "    (mld_baseline_monthly['Month'] == 12)\n",
    "]\n",
    "\n",
    "values_month = ['Jan', 'Feb', 'Mar', 'Apr', 'May', 'June', 'July', 'Aug', 'Sept', 'Oct', 'Nov', 'Dec']"
   ]
  },
  {
   "cell_type": "code",
   "execution_count": null,
   "id": "4ea6036b-de9f-4a2b-b7b3-6eb35a92114e",
   "metadata": {},
   "outputs": [],
   "source": [
    "mld_baseline_monthly['Month'] = np.select(conditions_month, values_month)"
   ]
  },
  {
   "cell_type": "code",
   "execution_count": null,
   "id": "a2a11da4-8db3-461c-8a76-90fd2e90f887",
   "metadata": {},
   "outputs": [],
   "source": [
    "# condition\n",
    "\n",
    "colors_month = dict(zip(mld_baseline_monthly.Month.unique(), ['powderblue', 'darkcyan', 'forestgreen', 'darkseagreen', \n",
    "                                                        'honeydew', 'bisque', 'khaki', 'gold', \n",
    "                                                        'sandybrown', 'lightcoral', 'chocolate', 'cadetblue']))"
   ]
  },
  {
   "cell_type": "code",
   "execution_count": null,
   "id": "da5e74b8-9182-475a-92de-8ea0eb3cc62b",
   "metadata": {},
   "outputs": [],
   "source": [
    "fig, ax = plt.subplots(figsize=(20, 3))\n",
    "ax.plot_date(mld_baseline_monthly.index, mld_baseline_monthly.mld, '-', color=\"black\", linewidth=0.5, zorder=1)\n",
    "ax.scatter(mld_baseline_monthly.index, mld_baseline_monthly.mld, color=mld_baseline_monthly.Month.map(lambda x: colors_month[x]), edgecolors='black',  linewidth=0.5, s=40)\n",
    "\n",
    "legend = [mpatches.Circle((0.5, 0.5), 1, facecolor = value, edgecolor = \"black\", linewidth=0.5, label = key, alpha = 1) for key, value in colors_month.items()]\n",
    "ax.legend(handles = legend, bbox_to_anchor=(1, 1), loc='best', columnspacing=0.05, handletextpad=0.4, fontsize=9, ncol = 1, handler_map={mpatches.Circle: HandlerEllipse()})\n",
    "\n",
    "ax.set_xlabel('Time', fontsize=14)\n",
    "ax.set_ylabel('Mixed Layer Depth [m]', fontsize=14)\n",
    "ax.set_title(\"EU Monthly Average of SST without OAE\", fontname=\"Times\", fontsize=17, y=1.06)\n",
    "\n",
    "pass"
   ]
  },
  {
   "cell_type": "markdown",
   "id": "35b6136f-58d0-4b47-8ceb-c436956910a4",
   "metadata": {},
   "source": [
    "### EU Monthly Average of SST with OAE (months displayed)"
   ]
  },
  {
   "cell_type": "code",
   "execution_count": null,
   "id": "a738c36d-1b3e-4ad1-82c6-0da262f4275b",
   "metadata": {},
   "outputs": [],
   "source": [
    "mld_oae_monthly = mld_monthly_mean_oae.to_dataframe('mld')\n",
    "mld_oae_monthly['Month'] = pd.DatetimeIndex(mld_oae_monthly.index).month"
   ]
  },
  {
   "cell_type": "code",
   "execution_count": null,
   "id": "ca7c4ee5-3d66-47d6-a36e-44c0bfe8c4b6",
   "metadata": {},
   "outputs": [],
   "source": [
    "mld_oae_monthly['Month'] = np.select(conditions_month, values_month)"
   ]
  },
  {
   "cell_type": "code",
   "execution_count": null,
   "id": "d8bb9e89-80ab-4cc3-a040-4e28bdf908e0",
   "metadata": {},
   "outputs": [],
   "source": [
    "fig, ax = plt.subplots(figsize=(20, 3))\n",
    "ax.plot_date(mld_oae_monthly.index, mld_oae_monthly.mld, '-', color=\"black\", linewidth=0.5, zorder=1)\n",
    "ax.scatter(mld_oae_monthly.index, mld_oae_monthly.mld, color=mld_oae_monthly.Month.map(lambda x: colors_month[x]), edgecolors='black',  linewidth=0.5, s=40)\n",
    "\n",
    "legend = [mpatches.Circle((0.5, 0.5), 1, facecolor = value, edgecolor = \"black\", linewidth=0.5, label = key, alpha = 1) for key, value in colors_month.items()]\n",
    "ax.legend(handles = legend, bbox_to_anchor=(1, 1), loc='upper right', columnspacing=0.05, handletextpad=0.4, fontsize=9, ncol = 4, handler_map={mpatches.Circle: HandlerEllipse()})\n",
    "\n",
    "ax.set_xlabel('Time', fontsize=14)\n",
    "ax.set_ylabel('Mixed Layer Depth [m]', fontsize=14)\n",
    "#ax.set_title(\"EU Monthly Average of SST with OAE\", fontname=\"Times\", fontsize=17, y=1.06)\n",
    "\n",
    "pass"
   ]
  },
  {
   "cell_type": "markdown",
   "id": "9bde3840-051b-4aab-a9c4-abec5c385b27",
   "metadata": {},
   "source": [
    "### EU Monthly Average of SST (months displayed)"
   ]
  },
  {
   "cell_type": "code",
   "execution_count": null,
   "id": "09f5029b-a079-4633-93f5-ac520aee2d10",
   "metadata": {},
   "outputs": [],
   "source": [
    "fig, ax = plt.subplots(figsize=(20, 3))\n",
    "\n",
    "ax.plot_date(mld_baseline_monthly.index, mld_baseline_monthly.mld, '-', color=\"black\", linewidth=0.5, zorder=1)\n",
    "ax.text(43800, 8.02, s='Baseline', fontsize=14)\n",
    "ax.scatter(mld_baseline_monthly.index, mld_baseline_monthly.mld, color=mld_baseline_monthly.Month.map(lambda x: colors_month[x]), marker='o', edgecolors='black', linewidth=0.5, s=40)\n",
    "\n",
    "ax.plot_date(mld_oae_monthly.index, mld_oae_monthly.mld, '-', color=\"black\", linewidth=0.5, zorder=1)\n",
    "ax.text(43800, 8.08, s='OAE', fontsize=14)\n",
    "ax.scatter(mld_oae_monthly.index, mld_oae_monthly.mld, color=mld_oae_monthly.Month.map(lambda x: colors_month[x]), marker='o', edgecolors='black', linewidth=0.5, s=40)\n",
    "\n",
    "legend = [mpatches.Circle((0.5, 0.5), 1, facecolor = value, edgecolor = \"black\", linewidth=0.5, label = key, alpha = 1) for key, value in colors_month.items()]\n",
    "ax.legend(handles = legend, bbox_to_anchor=(1, 1), loc='best', columnspacing=0.05, handletextpad=0.4, fontsize=9, ncol = 1, handler_map={mpatches.Circle: HandlerEllipse()})\n",
    "\n",
    "ax.set_xlabel('Time', fontsize=14)\n",
    "ax.set_ylabel('Mixed Layer Depth [m]', fontsize=14)\n",
    "ax.tick_params(axis='both', which='major', labelsize=14)\n",
    "#ax.set_title(\"EU Monthly Average of SST\", fontsize=17, y=1.06)\n",
    "\n",
    "pass"
   ]
  },
  {
   "cell_type": "code",
   "execution_count": null,
   "id": "0d2d3237-be82-4ce0-ad1b-aace3a2502f8",
   "metadata": {},
   "outputs": [],
   "source": [
    "mean_baseline = (mld_baseline_monthly.groupby(mld_baseline_monthly.index.month).mld.mean()).reset_index()\n",
    "mean_baseline['time_counter'] = mean_baseline['time_counter'].apply(lambda x: calendar.month_abbr[x])"
   ]
  },
  {
   "cell_type": "code",
   "execution_count": null,
   "id": "cc0c0e27-1274-4f4b-9fdb-4f59a27aad43",
   "metadata": {},
   "outputs": [],
   "source": [
    "mean_oae = (mld_oae_monthly.groupby(mld_oae_monthly.index.month).mld.mean()).reset_index()\n",
    "mean_oae['time_counter']= mean_oae['time_counter'].apply(lambda x: calendar.month_abbr[x])"
   ]
  },
  {
   "cell_type": "code",
   "execution_count": null,
   "id": "b1e58faa-aaa0-4c45-98a9-3435cdf15a71",
   "metadata": {},
   "outputs": [],
   "source": [
    "# condition\n",
    "\n",
    "colors_time = dict(zip(mean_baseline.time_counter.unique(), ['powderblue', 'darkcyan', 'forestgreen', 'darkseagreen', \n",
    "                                                        'honeydew', 'bisque', 'khaki', 'gold', \n",
    "                                                        'sandybrown', 'lightcoral', 'chocolate', 'cadetblue']))"
   ]
  },
  {
   "cell_type": "code",
   "execution_count": null,
   "id": "aa3157db-6f06-406f-9f91-fdb7c99304fc",
   "metadata": {},
   "outputs": [],
   "source": [
    "fig, ax = plt.subplots(figsize=(4, 4))\n",
    "ax.plot(mean_baseline.mld, '-', color=\"black\", linewidth=0.5, zorder=1)\n",
    "ax.scatter(mean_baseline.time_counter, mean_baseline.mld, color=mean_baseline.time_counter.map(lambda x: colors_time[x]), edgecolors='black',  linewidth=0.5, s=30)\n",
    "\n",
    "ax.plot(mean_oae.mld, '-', color=\"black\", linewidth=0.5, zorder=1)\n",
    "ax.scatter(mean_oae.time_counter, mean_oae.mld, color=mean_oae.time_counter.map(lambda x: colors_time[x]), edgecolors='black',  linewidth=0.5, s=30)\n",
    "\n",
    "legend = [mpatches.Circle((0.5, 0.5), 1, facecolor = value, edgecolor = \"black\", linewidth=0.5, label = key, alpha = 1) for key, value in colors_time.items()]\n",
    "ax.legend(handles = legend, bbox_to_anchor=(1.05, 1), loc='best', columnspacing=0.05, handletextpad=0.4, fontsize=9, ncol = 1, handler_map={mpatches.Circle: HandlerEllipse()})\n",
    "\n",
    "ax.set_ylabel('Mixed Layer Depth [m]', fontsize=10)\n",
    "ax.tick_params(axis='both', which='major', labelsize=10)\n",
    "ax.yaxis.get_offset_text().set_fontsize(10)\n",
    "\n",
    "ax.set_title(\"EU Monthly Average of CO2 flux over the last decade\", fontname=\"Times\", fontsize=14, y=1.06)\n",
    "\n",
    "pass"
   ]
  },
  {
   "cell_type": "markdown",
   "id": "e7fed447-2f6a-4639-b0f1-3cd51ece403c",
   "metadata": {},
   "source": [
    "### Δ sst between Baseline and OAE"
   ]
  },
  {
   "cell_type": "code",
   "execution_count": null,
   "id": "588402eb-9c9f-4154-a7ea-ce0e2c0d4a64",
   "metadata": {
    "tags": []
   },
   "outputs": [],
   "source": [
    "delta_sst = (mld_oae_monthly.mld - mld_baseline_monthly.mld).to_xarray()"
   ]
  },
  {
   "cell_type": "code",
   "execution_count": null,
   "id": "575e69a1-24cf-44f8-a87e-0b7fdcd959ed",
   "metadata": {},
   "outputs": [],
   "source": [
    "delta_sst = delta_sst.to_dataframe('mld')\n",
    "delta_sst['Month'] = pd.DatetimeIndex(delta_sst.index).month"
   ]
  },
  {
   "cell_type": "code",
   "execution_count": null,
   "id": "272f2494-9083-4945-86a5-09f73678ea93",
   "metadata": {},
   "outputs": [],
   "source": [
    "delta_sst['Month'] = np.select(conditions_month, values_month)"
   ]
  },
  {
   "cell_type": "code",
   "execution_count": null,
   "id": "3dd7623c-79db-4659-85de-09b81b4a1285",
   "metadata": {},
   "outputs": [],
   "source": [
    "fig, ax = plt.subplots(figsize=(20, 3))\n",
    "ax.plot_date(delta_sst.index, delta_sst.mld, '-', color=\"black\", linewidth=0.5, zorder=1)\n",
    "ax.scatter(delta_sst.index, delta_sst.mld, color=delta_sst.Month.map(lambda x: colors_month[x]), edgecolors='black',  linewidth=0.5, s=40)\n",
    "\n",
    "legend = [mpatches.Circle((0.5, 0.5), 1, facecolor = value, edgecolor = \"black\", linewidth=0.5, label = key, alpha = 1) for key, value in colors_month.items()]\n",
    "ax.legend(handles = legend, bbox_to_anchor=(1, 1), loc='best', columnspacing=0.05, handletextpad=0.4, fontsize=9, ncol = 1, handler_map={mpatches.Circle: HandlerEllipse()})\n",
    "\n",
    "ax.set_xlabel('Time', fontsize=14)\n",
    "ax.set_ylabel('Δ Mixed Layer Depth [m]', fontsize=14)\n",
    "ax.set_title(\"Δ SST\", fontname=\"Times\", fontsize=17, y=1.06)\n",
    "\n",
    "pass"
   ]
  },
  {
   "cell_type": "markdown",
   "id": "69a5d895-daa7-4c03-857b-ad7690988e8e",
   "metadata": {},
   "source": [
    "### Averaged monthly cycle of Δ sst"
   ]
  },
  {
   "cell_type": "code",
   "execution_count": null,
   "id": "bc1ba2a2-89c1-4c95-9942-72c834049436",
   "metadata": {},
   "outputs": [],
   "source": [
    "delta_mld_mean = (delta_sst.groupby(delta_sst.index.month).mld.mean()).reset_index()\n",
    "delta_mld_mean['time_counter']= delta_mld_mean['time_counter'].apply(lambda x: calendar.month_abbr[x])"
   ]
  },
  {
   "cell_type": "code",
   "execution_count": null,
   "id": "cfe8eb94-01ed-426d-9b01-c47832c128da",
   "metadata": {},
   "outputs": [],
   "source": [
    "fig, ax = plt.subplots(figsize=(4, 4))\n",
    "ax.plot(delta_mld_mean.mld, '-', color=\"black\", linewidth=0.5, zorder=1)\n",
    "ax.scatter(delta_mld_mean.time_counter, delta_mld_mean.mld, color=delta_mld_mean.time_counter.map(lambda x: colors_time[x]), edgecolors='black',  linewidth=0.5, s=30)\n",
    "\n",
    "legend = [mpatches.Circle((0.5, 0.5), 1, facecolor = value, edgecolor = \"black\", linewidth=0.5, label = key, alpha = 1) for key, value in colors_time.items()]\n",
    "ax.legend(handles = legend, bbox_to_anchor=(1, 1), loc='best', columnspacing=0.05, handletextpad=0.4, fontsize=9, ncol = 1, handler_map={mpatches.Circle: HandlerEllipse()})\n",
    "\n",
    "ax.set_ylabel('Δ Mixed Layer Depth [m]', fontsize=10)\n",
    "ax.tick_params(axis='both', which='major', labelsize=10)\n",
    "ax.set_title(\"EU Monthly Average of SST over the last decade\", fontname=\"Times\", fontsize=14, y=1.06)\n",
    "\n",
    "pass"
   ]
  },
  {
   "cell_type": "markdown",
   "id": "2ab9ce96-bebb-4d88-91ff-8e16e7b4591a",
   "metadata": {},
   "source": [
    "### EU Monthly Average of SST (with annual average)"
   ]
  },
  {
   "cell_type": "code",
   "execution_count": null,
   "id": "331bb271-2b01-4e9b-9594-5e5e781922bc",
   "metadata": {},
   "outputs": [],
   "source": [
    "f, (ax, ax2) = plt.subplots(1,2, figsize=(20, 3), gridspec_kw={'width_ratios': [6, 1]}, sharey=True) \n",
    "plt.subplots_adjust(wspace=0, hspace=0)\n",
    "\n",
    "ax.plot_date(delta_sst.index, delta_sst.mld, '-', label='Baseline', color=\"black\", linewidth=0.5, zorder=0.8)\n",
    "ax.scatter(delta_sst.index, delta_sst.mld, color=delta_sst.Month.map(lambda x: colors_month[x]), marker='o', edgecolors='black', linewidth=0.5, s=30)\n",
    "\n",
    "ax.tick_params(axis='both', which='major', labelsize=10)\n",
    "ax.set_ylabel('Δ Mixed Layer Depth [m]', fontsize=10)\n",
    "\n",
    "legend = [mpatches.Circle((0.5, 0.5), 1, facecolor = value, edgecolor = \"black\", linewidth=0.5, label = key, alpha = 1) for key, value in colors_month.items()]\n",
    "ax2.legend(handles = legend, bbox_to_anchor=(1, 1), loc='best', columnspacing=0.05, handletextpad=0.4, fontsize=9, ncol = 1, handler_map={mpatches.Circle: HandlerEllipse()})\n",
    "\n",
    "ax2.plot(delta_mld_mean.mld, '-', color=\"black\", linewidth=0.5, zorder=1)\n",
    "ax2.scatter(delta_mld_mean.time_counter, delta_mld_mean.mld, color=delta_mld_mean.time_counter.map(lambda x: colors_time[x]), edgecolors='black',  linewidth=0.5, s=20)\n",
    "\n",
    "ax2.tick_params(axis='x', which='major', labelsize=7)\n",
    "\n",
    "pass"
   ]
  },
  {
   "cell_type": "code",
   "execution_count": null,
   "id": "958e0722-7b85-4f9e-a715-1aeaccec768d",
   "metadata": {},
   "outputs": [],
   "source": [
    "f, ((ax, ax2), (ax3, ax4)) = plt.subplots(2,2, figsize=(20, 7), gridspec_kw={'width_ratios': [6, 1], 'height_ratios': [3, 2]}, sharey='row')  \n",
    "plt.subplots_adjust(wspace=0, hspace=0)\n",
    "\n",
    "ax.plot_date(mld_baseline_monthly.index, mld_baseline_monthly.mld, '-', label='Baseline', color=\"black\", linewidth=0.5, zorder=0.8)\n",
    "#ax.text(43775, 8.02, s='Baseline', fontsize=12)\n",
    "ax.scatter(mld_baseline_monthly.index, mld_baseline_monthly.mld, color=mld_baseline_monthly.Month.map(lambda x: colors_month[x]), marker='o', edgecolors='black', linewidth=0.5, s=30)\n",
    "\n",
    "ax.plot_date(mld_oae_monthly.index, mld_oae_monthly.mld, '-', label='OAE', color=\"black\", linewidth=0.5, zorder=1)\n",
    "#ax.text(43775, 8.08, s='OAE', fontsize=12)\n",
    "ax.scatter(mld_oae_monthly.index, mld_oae_monthly.mld, color=mld_oae_monthly.Month.map(lambda x: colors_month[x]), marker='o', edgecolors='black', linewidth=0.5, s=30)\n",
    "\n",
    "ax.tick_params(axis='both', which='major', labelsize=12)\n",
    "ax.set_ylabel(\"Mixed Layer Depth [m]\", fontsize=12)\n",
    "\n",
    "legend = [mpatches.Circle((0.5, 0.5), 1, facecolor = value, edgecolor = \"black\", linewidth=0.5, label = key, alpha = 1) for key, value in colors_month.items()]\n",
    "ax.legend(handles = legend, bbox_to_anchor=(1.17, 1.21), loc='best', columnspacing=0.05, handletextpad=0.4, fontsize=9, ncol = 4, handler_map={mpatches.Circle: HandlerEllipse()})\n",
    "\n",
    "ax2.plot(mean_baseline.mld, '-', color=\"black\", linewidth=0.5, zorder=1)\n",
    "ax2.scatter(mean_baseline.time_counter, mean_baseline.mld, color=mean_baseline.time_counter.map(lambda x: colors_time[x]), edgecolors='black',  linewidth=0.5, s=30)\n",
    "\n",
    "ax2.plot(mean_oae.mld, '-', color=\"black\", linewidth=0.5, zorder=1)\n",
    "ax2.scatter(mean_oae.time_counter, mean_oae.mld, color=mean_oae.time_counter.map(lambda x: colors_time[x]), edgecolors='black',  linewidth=0.5, s=30)\n",
    "\n",
    "ax2.tick_params(axis='x', which='major', labelsize=8)\n",
    "ax2.tick_params(axis='y', which='major', labelsize=12)\n",
    "\n",
    "yticks = ax2.yaxis.get_major_ticks()\n",
    "yticks[-2].label1.set_visible(False)\n",
    "\n",
    "ax3.plot_date(delta_sst.index, delta_sst.mld, '-', label='Baseline', color=\"black\", linewidth=0.5, zorder=0.8)\n",
    "ax3.scatter(delta_sst.index, delta_sst.mld, color=delta_sst.Month.map(lambda x: colors_month[x]), marker='o', edgecolors='black', linewidth=0.5, s=30)\n",
    "\n",
    "ax3.tick_params(axis='both', which='major', labelsize=12)\n",
    "ax3.set_ylabel('Δ Mixed Layer Depth [m]', fontsize=12)\n",
    "\n",
    "ax4.plot(delta_mld_mean.mld, '-', color=\"black\", linewidth=0.5, zorder=1)\n",
    "ax4.scatter(delta_mld_mean.time_counter, delta_mld_mean.mld, color=delta_mld_mean.time_counter.map(lambda x: colors_time[x]), edgecolors='black',  linewidth=0.5, s=30)\n",
    "\n",
    "ax4.tick_params(axis='x', which='major', labelsize=10, rotation=90)\n",
    "ax4.tick_params(axis='y', which='major', labelsize=12)\n",
    "\n",
    "pass"
   ]
  },
  {
   "cell_type": "code",
   "execution_count": null,
   "id": "5e879c8e-25e7-465a-9e09-c8c7e581b6ff",
   "metadata": {},
   "outputs": [],
   "source": [
    "summary_amplitude = pd.read_csv(r'/Users/chiaraciscato/Desktop/geomar/geomarcode/SSP1_2.6/Summary_amplitude.csv', header=[0,1], index_col=0)"
   ]
  },
  {
   "cell_type": "code",
   "execution_count": null,
   "id": "4a8d8f5c-9b73-4a39-8ac6-c171ae896767",
   "metadata": {},
   "outputs": [],
   "source": [
    "summary_amplitude.loc['SST', ('European Average','With OAE')] = round(mean_oae.mld.max() - mean_oae.mld.min(), 3)"
   ]
  },
  {
   "cell_type": "code",
   "execution_count": null,
   "id": "296a9e65-16c3-42a0-bd76-4ca5e4518fdb",
   "metadata": {},
   "outputs": [],
   "source": [
    "summary_amplitude.loc['SST', ('European Average','Without OAE')] = round(mean_baseline.mld.max() - mean_baseline.mld.min(), 3)"
   ]
  },
  {
   "cell_type": "code",
   "execution_count": null,
   "id": "7ec2825f-05a8-4dfe-828b-a968f450e09a",
   "metadata": {},
   "outputs": [],
   "source": [
    "summary_amplitude.to_csv('../Summary_amplitude.csv')"
   ]
  },
  {
   "cell_type": "code",
   "execution_count": null,
   "id": "8cc18a68-d2e4-471f-bd0e-0460fc9c435d",
   "metadata": {},
   "outputs": [],
   "source": [
    "summary_maxmin = pd.read_csv(r'/Users/chiaraciscato/Desktop/geomar/geomarcode/SSP1_2.6/Summary_minmax_eu.csv', header=[0,1], index_col=0)"
   ]
  },
  {
   "cell_type": "code",
   "execution_count": null,
   "id": "c4e908a1-e574-4595-a6c7-2dfc1c4308d3",
   "metadata": {},
   "outputs": [],
   "source": [
    "summary_maxmin.loc['SST', ('Without OAE','Max')] = round(mean_baseline.mld.max(), 3)\n",
    "summary_maxmin.loc['SST', ('Without OAE','Min')] = round(mean_baseline.mld.min(), 3)"
   ]
  },
  {
   "cell_type": "code",
   "execution_count": null,
   "id": "94dc826f-c3f4-4b92-835e-01484fbf87bc",
   "metadata": {},
   "outputs": [],
   "source": [
    "summary_maxmin.loc['SST', ('With OAE','Max')] = round(mean_oae.mld.max(), 3)\n",
    "summary_maxmin.loc['SST', ('With OAE','Min')] = round(mean_oae.mld.min(), 3)"
   ]
  },
  {
   "cell_type": "code",
   "execution_count": null,
   "id": "18b16951-e440-4685-95f9-705e0d42d187",
   "metadata": {},
   "outputs": [],
   "source": [
    "summary_maxmin.to_csv('../Summary_minmax_eu.csv')"
   ]
  }
 ],
 "metadata": {
  "kernelspec": {
   "display_name": "geomar",
   "language": "python",
   "name": "geomar"
  },
  "language_info": {
   "codemirror_mode": {
    "name": "ipython",
    "version": 3
   },
   "file_extension": ".py",
   "mimetype": "text/x-python",
   "name": "python",
   "nbconvert_exporter": "python",
   "pygments_lexer": "ipython3",
   "version": "3.7.12"
  }
 },
 "nbformat": 4,
 "nbformat_minor": 5
}
