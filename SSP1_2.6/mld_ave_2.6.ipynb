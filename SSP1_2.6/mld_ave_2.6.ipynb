{
 "cells": [
  {
   "cell_type": "code",
   "execution_count": 1,
   "id": "e467d34f-08cb-4a00-a9cd-4e0bfe055488",
   "metadata": {},
   "outputs": [],
   "source": [
    "import netCDF4 as nc\n",
    "from netCDF4 import Dataset\n",
    "import matplotlib as mpl\n",
    "import matplotlib.pyplot as plt\n",
    "import matplotlib.patches as mpatches\n",
    "from matplotlib.legend_handler import HandlerPatch\n",
    "import xarray as xr\n",
    "import numpy as np\n",
    "import pandas as pd\n",
    "import calendar\n",
    "import seaborn as sns\n",
    "import seaborn_image as isns"
   ]
  },
  {
   "cell_type": "code",
   "execution_count": 2,
   "id": "66b0a273-f468-460b-93c9-a32d3513f12c",
   "metadata": {},
   "outputs": [],
   "source": [
    "mesh_mask = xr.open_dataset('/Volumes/UnionSine/Cropped_DataTransfer/masks/mesh_mask.nc')"
   ]
  },
  {
   "cell_type": "code",
   "execution_count": 3,
   "id": "dc463ae2-5f49-446f-bc7a-720a9246c859",
   "metadata": {},
   "outputs": [],
   "source": [
    "mask = xr.open_dataset('/Volumes/UnionSine/Cropped_DataTransfer/masks/tmaskm.nc')"
   ]
  },
  {
   "cell_type": "code",
   "execution_count": 4,
   "id": "e02031a7-f355-48d0-9b9c-2c13216be697",
   "metadata": {},
   "outputs": [],
   "source": [
    "mask = mask.tmask.isel(time=0)"
   ]
  },
  {
   "cell_type": "markdown",
   "id": "202520e7-bd53-4fb9-a5f3-f54349531980",
   "metadata": {},
   "source": [
    "### Ocean slicing and mixed layer depth average"
   ]
  },
  {
   "cell_type": "code",
   "execution_count": 58,
   "id": "2d0a1135-98e9-43b1-b895-8dd08ef07999",
   "metadata": {},
   "outputs": [],
   "source": [
    "# calculate volume for each grid cell\n",
    "\n",
    "dx = mesh_mask.e1t \n",
    "dy = mesh_mask.e2t\n",
    "grid_cell_area = dx * dy # m2"
   ]
  },
  {
   "cell_type": "code",
   "execution_count": 59,
   "id": "dc469106-6f9b-4a55-8afb-9dbab36b03a1",
   "metadata": {},
   "outputs": [],
   "source": [
    "gridded_mesh = grid_cell_area.isel(t=0)"
   ]
  },
  {
   "cell_type": "code",
   "execution_count": 60,
   "id": "44da322a-9ee2-4e3c-8292-8b58ea0b6f8a",
   "metadata": {},
   "outputs": [],
   "source": [
    "# apply mask to weighted grid cells\n",
    "\n",
    "ocean_area = gridded_mesh * mask"
   ]
  },
  {
   "cell_type": "code",
   "execution_count": 61,
   "id": "5fe9b7cd-05ba-4807-9853-470253a05771",
   "metadata": {},
   "outputs": [],
   "source": [
    "ocean_area_sliced = ocean_area.sel(x=slice(520,595),y=slice(330,435),z=0)"
   ]
  },
  {
   "cell_type": "code",
   "execution_count": 62,
   "id": "8f3e8169-2e0e-42e1-9a3d-afad1a6918e9",
   "metadata": {},
   "outputs": [],
   "source": [
    "ocean_area_sliced_dp = ocean_area_sliced.isel(x=slice(58,60),y=slice(41,43))"
   ]
  },
  {
   "cell_type": "code",
   "execution_count": 63,
   "id": "7040746d-3e09-4b2a-8af8-acb7d31cad1c",
   "metadata": {},
   "outputs": [],
   "source": [
    "### Alkalinity baseline"
   ]
  },
  {
   "cell_type": "code",
   "execution_count": 64,
   "id": "f61a937c-0b9a-4dd9-ba2c-f67e53cf21cb",
   "metadata": {},
   "outputs": [],
   "source": [
    "alk_weighted_baseline = xr.open_dataset('/Volumes/UnionSine/Cropped_DataTransfer/ALK_baseline_ensemble1_ssp126_1m.nc', decode_times=True)"
   ]
  },
  {
   "cell_type": "code",
   "execution_count": 65,
   "id": "9493e6ac-2be6-4f02-844a-d39e44494449",
   "metadata": {},
   "outputs": [],
   "source": [
    "mld_baseline = xr.open_dataset('/Volumes/UnionSine/Cropped_DataTransfer/FOCI2.0-NM004_FM_ESM_SSP126os_2014CC105_1m_grid_T_somxl010_2015to2099.nc')"
   ]
  },
  {
   "cell_type": "code",
   "execution_count": 66,
   "id": "074797cd-2b12-43fe-9642-b0eb670a4707",
   "metadata": {},
   "outputs": [],
   "source": [
    "alk_weighted_baseline = alk_weighted_baseline.sel(time_counter=slice('2090','2100'))"
   ]
  },
  {
   "cell_type": "code",
   "execution_count": 9,
   "id": "7baa4920-db8b-4057-a687-6ea145c97d52",
   "metadata": {},
   "outputs": [],
   "source": [
    "mld_baseline = mld_baseline.sel(time_counter=slice('2090','2100'))"
   ]
  },
  {
   "cell_type": "code",
   "execution_count": 10,
   "id": "26372c35-2548-489f-a51e-0c70dfb9efb1",
   "metadata": {},
   "outputs": [],
   "source": [
    "alk_weighted_baseline = alk_weighted_baseline.ALK.isel(x=slice(520,595),y=slice(330,435)) "
   ]
  },
  {
   "cell_type": "code",
   "execution_count": 11,
   "id": "28c4a70e-dbb0-4657-a8e4-c5867c63dd9a",
   "metadata": {},
   "outputs": [],
   "source": [
    "mld_baseline = mld_baseline.somxl010.isel(x=slice(520,595),y=slice(330,435)) "
   ]
  },
  {
   "cell_type": "code",
   "execution_count": 12,
   "id": "75b3b988-75bd-4b1a-a4c2-bfd9b1846c58",
   "metadata": {},
   "outputs": [],
   "source": [
    "alk_weighted_baseline = alk_weighted_baseline.to_dataset(name='ALK')"
   ]
  },
  {
   "cell_type": "code",
   "execution_count": 13,
   "id": "c7c045c3-9147-4e01-866e-80257dee2679",
   "metadata": {},
   "outputs": [],
   "source": [
    "mld_baseline = mld_baseline.to_dataset(name='mld')"
   ]
  },
  {
   "cell_type": "code",
   "execution_count": 14,
   "id": "303eb532-d6bd-4eb4-a562-790f51d9b51c",
   "metadata": {},
   "outputs": [],
   "source": [
    "mld = alk_weighted_baseline.deptht < mld_baseline.mld"
   ]
  },
  {
   "cell_type": "code",
   "execution_count": 15,
   "id": "6947a4fe-1be0-4420-86a6-29a07e9effc0",
   "metadata": {},
   "outputs": [],
   "source": [
    "mld = mld.to_dataset(name='mld') "
   ]
  },
  {
   "cell_type": "code",
   "execution_count": 16,
   "id": "88a7a24b-e4e4-4504-80b0-b1430761d3c3",
   "metadata": {},
   "outputs": [],
   "source": [
    "alk_base = alk_weighted_baseline * mld.mld"
   ]
  },
  {
   "cell_type": "code",
   "execution_count": 21,
   "id": "6fbb99f2-352e-4f48-8de8-ba5c64adf788",
   "metadata": {},
   "outputs": [],
   "source": [
    "alk_base = alk_base.where(alk_base)"
   ]
  },
  {
   "cell_type": "code",
   "execution_count": 22,
   "id": "3693ad56-afea-4ca2-aa72-cb3aae24d354",
   "metadata": {},
   "outputs": [],
   "source": [
    "alk_base = alk_base.fillna(0)"
   ]
  },
  {
   "cell_type": "code",
   "execution_count": 23,
   "id": "63d96183-1718-4577-ae65-b46b101d1b2b",
   "metadata": {},
   "outputs": [],
   "source": [
    "alk_base = alk_base * 1.025 # mmol/m3"
   ]
  },
  {
   "cell_type": "code",
   "execution_count": 40,
   "id": "453b6561-34df-46d4-83ab-2cae6c034b6e",
   "metadata": {},
   "outputs": [],
   "source": [
    "# iterate over all layers and append\n",
    "\n",
    "alk_base_layers = []\n",
    "\n",
    "for x in list((range(len(alk_base.deptht)))):\n",
    "    if x == 0:\n",
    "        alk_n_base = alk_base.ALK.isel(deptht=x) * alk_base.deptht[x] \n",
    "        alk_base_layers.append(alk_n_base)\n",
    "    else:\n",
    "        alk_n_base = alk_base.ALK.isel(deptht=x) * (alk_base.deptht[x] - alk_base.deptht[x-1])\n",
    "        alk_base_layers.append(alk_n_base)"
   ]
  },
  {
   "cell_type": "code",
   "execution_count": 54,
   "id": "d03a7400-8ce0-4ab8-a098-f083a11c9e0e",
   "metadata": {},
   "outputs": [],
   "source": [
    "weighted_base_alk = sum(alk_base_layers) / mld_baseline.mld # mmol/m3 * m / m"
   ]
  },
  {
   "cell_type": "code",
   "execution_count": 55,
   "id": "699a2e92-26a2-45b6-9040-7b56de84bd00",
   "metadata": {},
   "outputs": [],
   "source": [
    "weighted_base_alk = weighted_base_alk.to_dataset(name='ALK')"
   ]
  },
  {
   "cell_type": "code",
   "execution_count": 67,
   "id": "d7543026-207b-4b3b-b2e9-250c1b53c5cd",
   "metadata": {},
   "outputs": [],
   "source": [
    "sliced_alk_baseline = ocean_area_sliced * weighted_base_alk.ALK # baseline"
   ]
  },
  {
   "cell_type": "code",
   "execution_count": 68,
   "id": "cc6bd228-f0ef-4d76-81e9-f949e3ba0370",
   "metadata": {},
   "outputs": [],
   "source": [
    "regridded_alk_base = sliced_alk_baseline.sum(['x', 'y']) / ocean_area_sliced.sum(['x', 'y'])"
   ]
  },
  {
   "cell_type": "code",
   "execution_count": 69,
   "id": "b93f257c-f9ca-4407-8b95-3fefc9a497d2",
   "metadata": {},
   "outputs": [],
   "source": [
    "regridded_alk_base = regridded_alk_base.to_dataset(name='ALK')"
   ]
  },
  {
   "cell_type": "code",
   "execution_count": 32,
   "id": "99ec2821-a8c7-4286-adea-2323d5eb3cb1",
   "metadata": {},
   "outputs": [],
   "source": [
    "#regridded_alk_base.to_netcdf('/Volumes/UnionSine/Cropped_DataTransfer/SSP1_2.6/Alkalinity/try_base')"
   ]
  },
  {
   "cell_type": "markdown",
   "id": "3db85d7e-713e-4adf-8084-9e76c1b42c5c",
   "metadata": {},
   "source": [
    "### Alkalinity OAE"
   ]
  },
  {
   "cell_type": "code",
   "execution_count": 33,
   "id": "286ada83-9996-49ba-9c7e-f22957dce4f2",
   "metadata": {},
   "outputs": [],
   "source": [
    "mld_oae = xr.open_dataset('/Volumes/UnionSine/Cropped_DataTransfer/FOCI2.0-TK201_FMESM_SSP126_alkEU_2014CC105_1m_grid_T_somxl010_2015to2099.nc')"
   ]
  },
  {
   "cell_type": "code",
   "execution_count": 34,
   "id": "bbaa8ba9-c8e1-4e0c-bfb4-689ae2ffb134",
   "metadata": {},
   "outputs": [],
   "source": [
    "alk_weighted_oae = xr.open_dataset('/Volumes/UnionSine/Cropped_DataTransfer/ALK_CDR_EU_coast_ssp126_1m.nc', decode_times=True)"
   ]
  },
  {
   "cell_type": "code",
   "execution_count": 35,
   "id": "d8b774d1-97f2-4d4d-909e-146c55f3fa5e",
   "metadata": {},
   "outputs": [],
   "source": [
    "alk_weighted_oae = alk_weighted_oae.sel(time_counter=slice('2090','2100'))"
   ]
  },
  {
   "cell_type": "code",
   "execution_count": 36,
   "id": "426bffb2-61ec-478d-a5cf-d268f93db07a",
   "metadata": {},
   "outputs": [],
   "source": [
    "mld_oae = mld_oae.sel(time_counter=slice('2090','2100'))"
   ]
  },
  {
   "cell_type": "code",
   "execution_count": 37,
   "id": "82ec15bf-ab93-4bf0-8d7a-5aaa55916828",
   "metadata": {},
   "outputs": [],
   "source": [
    "alk_weighted_oae = alk_weighted_oae.ALK.isel(x=slice(520,595),y=slice(330,435)) "
   ]
  },
  {
   "cell_type": "code",
   "execution_count": 38,
   "id": "ce444879-8b47-4524-8e0e-0060df2ee36d",
   "metadata": {},
   "outputs": [],
   "source": [
    "mld_oae = mld_oae.somxl010.isel(x=slice(520,595),y=slice(330,435)) "
   ]
  },
  {
   "cell_type": "code",
   "execution_count": 39,
   "id": "b87d84fa-e3fe-4175-8f86-52cfb6f781df",
   "metadata": {},
   "outputs": [],
   "source": [
    "alk_weighted_oae = alk_weighted_oae.to_dataset(name='ALK')"
   ]
  },
  {
   "cell_type": "code",
   "execution_count": 40,
   "id": "0470a857-5cf2-4826-b356-e89ef621e236",
   "metadata": {},
   "outputs": [],
   "source": [
    "mld_oae = mld_oae.to_dataset(name='mld')"
   ]
  },
  {
   "cell_type": "code",
   "execution_count": 41,
   "id": "6ea37f7b-dad9-45d8-b30b-21e59d5e1d5d",
   "metadata": {},
   "outputs": [],
   "source": [
    "mld = alk_weighted_oae.deptht < mld_oae.mld"
   ]
  },
  {
   "cell_type": "code",
   "execution_count": 42,
   "id": "93b2a96e-2ace-448b-8535-337bc3a862b5",
   "metadata": {},
   "outputs": [],
   "source": [
    "mld = mld.to_dataset(name='mld') "
   ]
  },
  {
   "cell_type": "code",
   "execution_count": 43,
   "id": "61e70ceb-e0b6-4ffd-b804-7d126088df20",
   "metadata": {},
   "outputs": [],
   "source": [
    "alk_oae = alk_weighted_oae * mld.mld"
   ]
  },
  {
   "cell_type": "code",
   "execution_count": 44,
   "id": "e00de88d-e24f-41d4-9d18-4dc783d4e99f",
   "metadata": {},
   "outputs": [],
   "source": [
    "alk_oae = alk_oae.where(alk_oae)"
   ]
  },
  {
   "cell_type": "code",
   "execution_count": 45,
   "id": "f48c6d4d-5890-47f6-bef9-548bf5084ca7",
   "metadata": {},
   "outputs": [],
   "source": [
    "alk_oae = alk_oae.fillna(0)"
   ]
  },
  {
   "cell_type": "code",
   "execution_count": 46,
   "id": "36319c21-c0b8-424d-bede-0f46221a73da",
   "metadata": {},
   "outputs": [],
   "source": [
    "alk_oae = alk_oae * 1.025 # mmol/m3"
   ]
  },
  {
   "cell_type": "code",
   "execution_count": 47,
   "id": "ef1b035c-00eb-4e7a-bf7e-bf748c9f46ff",
   "metadata": {},
   "outputs": [],
   "source": [
    "alk_0_oae = alk_oae.ALK.isel(deptht=0) * alk_oae.deptht[0] # mmol/m3 * m\n",
    "alk_1_oae = alk_oae.ALK.isel(deptht=1) * (alk_oae.deptht[1] - alk_oae.deptht[0])\n",
    "alk_2_oae = alk_oae.ALK.isel(deptht=2) * (alk_oae.deptht[2] - alk_oae.deptht[1])\n",
    "alk_3_oae = alk_oae.ALK.isel(deptht=3) * (alk_oae.deptht[3] - alk_oae.deptht[2])\n",
    "alk_4_oae = alk_oae.ALK.isel(deptht=4) * (alk_oae.deptht[4] - alk_oae.deptht[3])\n",
    "alk_5_oae = alk_oae.ALK.isel(deptht=5) * (alk_oae.deptht[5] - alk_oae.deptht[4])\n",
    "alk_6_oae = alk_oae.ALK.isel(deptht=6) * (alk_oae.deptht[6] - alk_oae.deptht[5])\n",
    "alk_7_oae = alk_oae.ALK.isel(deptht=7) * (alk_oae.deptht[7] - alk_oae.deptht[6])\n",
    "alk_8_oae = alk_oae.ALK.isel(deptht=8) * (alk_oae.deptht[8] - alk_oae.deptht[7])\n",
    "alk_9_oae = alk_oae.ALK.isel(deptht=9) * (alk_oae.deptht[9] - alk_oae.deptht[8])"
   ]
  },
  {
   "cell_type": "code",
   "execution_count": 48,
   "id": "b388d78a-c05b-4034-a110-21f5fe1e3636",
   "metadata": {},
   "outputs": [],
   "source": [
    "alk_10_oae = alk_oae.ALK.isel(deptht=10) * (alk_oae.deptht[10] - alk_oae.deptht[9])\n",
    "alk_11_oae = alk_oae.ALK.isel(deptht=11) * (alk_oae.deptht[11] - alk_oae.deptht[10])\n",
    "alk_12_oae = alk_oae.ALK.isel(deptht=12) * (alk_oae.deptht[12] - alk_oae.deptht[11])\n",
    "alk_13_oae = alk_oae.ALK.isel(deptht=13) * (alk_oae.deptht[13] - alk_oae.deptht[12])\n",
    "alk_14_oae = alk_oae.ALK.isel(deptht=14) * (alk_oae.deptht[14] - alk_oae.deptht[13])\n",
    "alk_15_oae = alk_oae.ALK.isel(deptht=15) * (alk_oae.deptht[15] - alk_oae.deptht[14])\n",
    "alk_16_oae = alk_oae.ALK.isel(deptht=16) * (alk_oae.deptht[16] - alk_oae.deptht[15])\n",
    "alk_17_oae = alk_oae.ALK.isel(deptht=17) * (alk_oae.deptht[17] - alk_oae.deptht[16])"
   ]
  },
  {
   "cell_type": "code",
   "execution_count": 49,
   "id": "124518cb-32ee-4400-8577-10371645da06",
   "metadata": {},
   "outputs": [],
   "source": [
    "alk_18_oae = alk_oae.ALK.isel(deptht=18) * (alk_oae.deptht[18] - alk_oae.deptht[17])\n",
    "alk_19_oae = alk_oae.ALK.isel(deptht=19) * (alk_oae.deptht[19] - alk_oae.deptht[18])\n",
    "alk_20_oae = alk_oae.ALK.isel(deptht=20) * (alk_oae.deptht[20] - alk_oae.deptht[19])\n",
    "alk_21_oae = alk_oae.ALK.isel(deptht=21) * (alk_oae.deptht[21] - alk_oae.deptht[20])\n",
    "alk_22_oae = alk_oae.ALK.isel(deptht=22) * (alk_oae.deptht[22] - alk_oae.deptht[21])\n",
    "alk_23_oae = alk_oae.ALK.isel(deptht=23) * (alk_oae.deptht[23] - alk_oae.deptht[22])"
   ]
  },
  {
   "cell_type": "code",
   "execution_count": 50,
   "id": "b00aede8-cfdb-41f6-bff1-42e3ac6d8420",
   "metadata": {},
   "outputs": [],
   "source": [
    "weighted_oae_alk = (alk_0_oae + alk_1_oae + alk_2_oae + alk_3_oae + alk_4_oae + alk_5_oae + alk_6_oae +\n",
    "                     alk_7_oae + alk_8_oae + alk_9_oae + alk_10_oae + alk_11_oae + alk_12_oae + alk_13_oae +\n",
    "                    alk_14_oae + alk_15_oae + alk_16_oae + alk_17_oae + alk_18_oae + alk_19_oae + alk_20_oae +\n",
    "                    alk_21_oae + alk_22_oae + alk_23_oae) / mld_oae.mld # mmol/m3 * m / m"
   ]
  },
  {
   "cell_type": "code",
   "execution_count": 51,
   "id": "84003bd7-fcd8-496c-bfd7-7ef831916cf7",
   "metadata": {},
   "outputs": [],
   "source": [
    "weighted_oae_alk = weighted_oae_alk.to_dataset(name='ALK')"
   ]
  },
  {
   "cell_type": "code",
   "execution_count": 52,
   "id": "918a2549-0636-4bdb-abfe-79b7c2af7d40",
   "metadata": {},
   "outputs": [],
   "source": [
    "sliced_alk_oae = ocean_area_sliced * weighted_oae_alk.ALK # baseline"
   ]
  },
  {
   "cell_type": "code",
   "execution_count": 53,
   "id": "80c2778a-b051-448c-8874-72b0d968f357",
   "metadata": {},
   "outputs": [],
   "source": [
    "regridded_alk_oae = sliced_alk_oae.sum(['x', 'y']) / ocean_area_sliced.sum(['x', 'y'])"
   ]
  },
  {
   "cell_type": "code",
   "execution_count": 54,
   "id": "98019047-635a-43a5-89e2-8404d3b699d4",
   "metadata": {},
   "outputs": [],
   "source": [
    "regridded_alk_oae = regridded_alk_oae.to_dataset(name='ALK')"
   ]
  },
  {
   "cell_type": "code",
   "execution_count": null,
   "id": "47e1121c-54aa-4026-b50a-797df42a46e2",
   "metadata": {},
   "outputs": [],
   "source": [
    "#regridded_alk_oae.to_netcdf('/Volumes/UnionSine/Cropped_DataTransfer/SSP1_2.6/Alkalinity/try_oae')"
   ]
  },
  {
   "cell_type": "code",
   "execution_count": null,
   "id": "c1051b1a-0e57-479b-8b3f-e7d6c4efd569",
   "metadata": {},
   "outputs": [],
   "source": []
  }
 ],
 "metadata": {
  "kernelspec": {
   "display_name": "geomar",
   "language": "python",
   "name": "geomar"
  },
  "language_info": {
   "codemirror_mode": {
    "name": "ipython",
    "version": 3
   },
   "file_extension": ".py",
   "mimetype": "text/x-python",
   "name": "python",
   "nbconvert_exporter": "python",
   "pygments_lexer": "ipython3",
   "version": "3.7.12"
  }
 },
 "nbformat": 4,
 "nbformat_minor": 5
}
