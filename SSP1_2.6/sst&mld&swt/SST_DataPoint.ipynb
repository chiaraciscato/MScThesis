{
 "cells": [
  {
   "cell_type": "raw",
   "id": "97233c48-b274-4e78-8684-f0b366b326f9",
   "metadata": {},
   "source": [
    "---\n",
    "title: \"sst_DataPoint_2.6\"\n",
    "author: \"cciscato\"\n",
    "date: \"15/02/2023\"\n",
    "format: \n",
    "  html:\n",
    "    embed-resources: true\n",
    "    theme:\n",
    "              light: flatly\n",
    "              dark: darkly\n",
    "    toc: true\n",
    "    code-fold: true\n",
    "execute:\n",
    "  warning: false\n",
    "jupyter: python3\n",
    "---"
   ]
  },
  {
   "cell_type": "code",
   "execution_count": 2,
   "id": "85c7cde6-de70-4a8a-b764-af34629eb251",
   "metadata": {},
   "outputs": [],
   "source": [
    "import netCDF4 as nc\n",
    "from netCDF4 import Dataset\n",
    "import matplotlib as mpl\n",
    "import matplotlib.pyplot as plt\n",
    "import matplotlib.patches as mpatches\n",
    "from matplotlib.legend_handler import HandlerPatch\n",
    "import xarray as xr\n",
    "import numpy as np\n",
    "import pandas as pd\n",
    "import seaborn as sns\n",
    "import seaborn_image as isns\n",
    "import calendar"
   ]
  },
  {
   "cell_type": "code",
   "execution_count": 3,
   "id": "c5bf6d96-a7e8-4aca-8b95-7ee93d202dde",
   "metadata": {},
   "outputs": [],
   "source": [
    "import plotly.io as pio\n",
    "pio.renderers.default='jupyterlab'"
   ]
  },
  {
   "cell_type": "code",
   "execution_count": 4,
   "id": "97c2a259-a63d-4cbc-8550-89266816b797",
   "metadata": {},
   "outputs": [],
   "source": [
    "plt.style.use('seaborn-pastel')\n",
    "isns.set_context(mode=\"notebook\", fontfamily=\"Times\")\n",
    "sns.set_context(font_scale=0.8)"
   ]
  },
  {
   "cell_type": "code",
   "execution_count": 5,
   "id": "a2f58435-c7c7-490d-a549-dff78e9180e0",
   "metadata": {},
   "outputs": [
    {
     "ename": "OSError",
     "evalue": "no files to open",
     "output_type": "error",
     "traceback": [
      "\u001b[0;31m---------------------------------------------------------------------------\u001b[0m",
      "\u001b[0;31mOSError\u001b[0m                                   Traceback (most recent call last)",
      "\u001b[0;32m/var/folders/hq/35w1hmb96js9vgqq4730r3780000gn/T/ipykernel_81274/2608481968.py\u001b[0m in \u001b[0;36m<module>\u001b[0;34m\u001b[0m\n\u001b[0;32m----> 1\u001b[0;31m \u001b[0mdata_baseline\u001b[0m \u001b[0;34m=\u001b[0m \u001b[0mxr\u001b[0m\u001b[0;34m.\u001b[0m\u001b[0mopen_mfdataset\u001b[0m\u001b[0;34m(\u001b[0m\u001b[0;34m'/Volumes/UnionSine/Cropped_DataTransfer/SSP1_2.6/sst_baseline_2.6_cropped.nc'\u001b[0m\u001b[0;34m)\u001b[0m\u001b[0;34m\u001b[0m\u001b[0;34m\u001b[0m\u001b[0m\n\u001b[0m",
      "\u001b[0;32m/opt/anaconda3/envs/geomar/lib/python3.7/site-packages/xarray/backends/api.py\u001b[0m in \u001b[0;36mopen_mfdataset\u001b[0;34m(paths, chunks, concat_dim, compat, preprocess, engine, data_vars, coords, combine, parallel, join, attrs_file, combine_attrs, **kwargs)\u001b[0m\n\u001b[1;32m    872\u001b[0m \u001b[0;34m\u001b[0m\u001b[0m\n\u001b[1;32m    873\u001b[0m     \u001b[0;32mif\u001b[0m \u001b[0;32mnot\u001b[0m \u001b[0mpaths\u001b[0m\u001b[0;34m:\u001b[0m\u001b[0;34m\u001b[0m\u001b[0;34m\u001b[0m\u001b[0m\n\u001b[0;32m--> 874\u001b[0;31m         \u001b[0;32mraise\u001b[0m \u001b[0mOSError\u001b[0m\u001b[0;34m(\u001b[0m\u001b[0;34m\"no files to open\"\u001b[0m\u001b[0;34m)\u001b[0m\u001b[0;34m\u001b[0m\u001b[0;34m\u001b[0m\u001b[0m\n\u001b[0m\u001b[1;32m    875\u001b[0m \u001b[0;34m\u001b[0m\u001b[0m\n\u001b[1;32m    876\u001b[0m     \u001b[0;32mif\u001b[0m \u001b[0mcombine\u001b[0m \u001b[0;34m==\u001b[0m \u001b[0;34m\"nested\"\u001b[0m\u001b[0;34m:\u001b[0m\u001b[0;34m\u001b[0m\u001b[0;34m\u001b[0m\u001b[0m\n",
      "\u001b[0;31mOSError\u001b[0m: no files to open"
     ]
    }
   ],
   "source": [
    "data_baseline = xr.open_mfdataset('/Volumes/UnionSine/Cropped_DataTransfer/SSP1_2.6/sst_baseline_2.6_cropped.nc')"
   ]
  },
  {
   "cell_type": "code",
   "execution_count": null,
   "id": "b4db020f-9bce-4f80-9827-747db63f576a",
   "metadata": {},
   "outputs": [],
   "source": [
    "data_oae = xr.open_mfdataset('/Volumes/UnionSine/Cropped_DataTransfer/SSP1_2.6/sst_OAE_2.6_cropped.nc')"
   ]
  },
  {
   "cell_type": "code",
   "execution_count": null,
   "id": "4188fe02-f4e8-4af6-82d7-395449d49dbd",
   "metadata": {},
   "outputs": [],
   "source": [
    "data_baseline = data_baseline.sst[0,:]\n",
    "data_oae = data_oae.sst[0,:]"
   ]
  },
  {
   "cell_type": "code",
   "execution_count": null,
   "id": "02a16ae9-fe6b-4ec4-a4aa-a0c129fe3365",
   "metadata": {},
   "outputs": [],
   "source": [
    "data_baseline = data_baseline.to_dataset(name='sst')\n",
    "data_oae = data_oae.to_dataset(name='sst')"
   ]
  },
  {
   "cell_type": "code",
   "execution_count": null,
   "id": "a87d4360-0da7-49fe-86a6-67434a81b986",
   "metadata": {},
   "outputs": [],
   "source": [
    "sliced_data_baseline = data_baseline.where((3 < data_baseline.nav_lon) & (data_baseline.nav_lon < 3.1) & (52 < data_baseline.nav_lat) & (data_baseline.nav_lat < 53), drop=True)\n",
    "sliced_frame_baseline = sliced_data_baseline.sel(time_counter=slice('2090', '2100'))"
   ]
  },
  {
   "cell_type": "code",
   "execution_count": null,
   "id": "9640e05e-3ee5-4b91-8756-aeb6121b25c5",
   "metadata": {},
   "outputs": [],
   "source": [
    "sliced_data_oae = data_oae.where((3 < data_oae.nav_lon) & (data_oae.nav_lon < 3.1) & (52 < data_oae.nav_lat) & (data_oae.nav_lat < 53), drop=True)\n",
    "sliced_frame_oae = sliced_data_oae.sel(time_counter=slice('2090', '2100'))"
   ]
  },
  {
   "cell_type": "markdown",
   "id": "b228e8b9-a97d-41a9-a578-81f842213bc2",
   "metadata": {},
   "source": [
    "### Define conditions"
   ]
  },
  {
   "cell_type": "markdown",
   "id": "17d54ab0-75cc-436f-9a68-7d41dfd21d09",
   "metadata": {},
   "source": [
    "### Data Point Average of SST"
   ]
  },
  {
   "cell_type": "code",
   "execution_count": null,
   "id": "35d91d1f-acb0-47fc-a341-0fd45986f109",
   "metadata": {},
   "outputs": [],
   "source": [
    "sliced_data_baseline_plot = (sliced_data_baseline.sst.mean(dim=('y', 'x'))).to_dataset(name='sst')\n",
    "sliced_data_oae_plot = (sliced_data_oae.sst.mean(dim=('y', 'x'))).to_dataset(name='sst')"
   ]
  },
  {
   "cell_type": "code",
   "execution_count": null,
   "id": "c4a6ed96-962c-45d4-ab9a-13640abc0b5c",
   "metadata": {},
   "outputs": [],
   "source": [
    "plt.figure(figsize=(20, 3))\n",
    "plt.plot(sliced_data_baseline_plot.time_counter, sliced_data_baseline_plot.sst, linewidth=2, label = 'Baseline')\n",
    "plt.plot(sliced_data_oae_plot.time_counter, sliced_data_oae_plot.sst, linewidth=2, label = 'OAE')\n",
    "plt.xlabel(\"Time\", fontsize=14)\n",
    "plt.ylabel(\"SST [°C]\", fontsize=14)\n",
    "plt.legend(bbox_to_anchor=(1, 1), loc='upper left', fontsize=14)\n",
    "plt.title('Data Point Average of SST', fontname=\"Times\", fontsize=17, y=1.06)\n",
    "plt.show()"
   ]
  },
  {
   "cell_type": "code",
   "execution_count": null,
   "id": "3664293a-3bd1-4207-955b-0b4d317e99ee",
   "metadata": {},
   "outputs": [],
   "source": [
    "sliced_frame_baseline_plot = (sliced_frame_baseline.sst.mean(dim=('y', 'x'))).to_dataset(name='sst')\n",
    "sliced_frame_oae_plot = (sliced_frame_oae.sst.mean(dim=('y', 'x'))).to_dataset(name='sst')"
   ]
  },
  {
   "cell_type": "code",
   "execution_count": null,
   "id": "2fa40e66-1acb-4bde-8488-b54bc7986e0a",
   "metadata": {},
   "outputs": [],
   "source": [
    "plt.figure(figsize=(20, 3))\n",
    "plt.plot(sliced_frame_baseline_plot.time_counter, sliced_frame_baseline_plot.sst, linewidth=2, label = 'Baseline')\n",
    "plt.plot(sliced_frame_oae_plot.time_counter, sliced_frame_oae_plot.sst, linewidth=2, label = 'OAE')\n",
    "plt.xlabel(\"Time\", fontsize=14)\n",
    "plt.ylabel(\"SST [°C]\", fontsize=14)\n",
    "plt.legend(bbox_to_anchor=(1, 1), loc='upper left', fontsize=14)\n",
    "plt.title('Data Point Average of SST', fontname=\"Times\", fontsize=17, y=1.06)\n",
    "plt.show()"
   ]
  },
  {
   "cell_type": "markdown",
   "id": "f01995a0-4bfa-4383-b71c-f883408743be",
   "metadata": {},
   "source": [
    "### Unweighted Data Point Seasonal Average of SST"
   ]
  },
  {
   "cell_type": "code",
   "execution_count": null,
   "id": "a71ed010-abcf-4ead-83d7-faf189a1ee03",
   "metadata": {},
   "outputs": [],
   "source": [
    "# condition\n",
    "\n",
    "start_date = \"2090-01-01\"\n",
    "end_date = \"2100-01-01\""
   ]
  },
  {
   "cell_type": "code",
   "execution_count": null,
   "id": "cc6544f5-f7c0-4164-a8ae-230f8cdc83ec",
   "metadata": {},
   "outputs": [],
   "source": [
    "sst_baseline = sliced_data_baseline[\"sst\"].sel(time_counter=slice(start_date, end_date))"
   ]
  },
  {
   "cell_type": "code",
   "execution_count": null,
   "id": "30f94cd1-6873-41d0-a700-eb4cfd35b8fb",
   "metadata": {},
   "outputs": [],
   "source": [
    "sst_seasonal_mean_baseline = (sst_baseline.resample(time_counter='QS-DEC').mean(keep_attrs=True)).mean([\"y\", \"x\"])"
   ]
  },
  {
   "cell_type": "code",
   "execution_count": null,
   "id": "085b7d79-1c37-48cc-86a2-f5a3c92c50b4",
   "metadata": {},
   "outputs": [],
   "source": [
    "sst_oae = sliced_data_oae[\"sst\"].sel(time_counter=slice(start_date, end_date))"
   ]
  },
  {
   "cell_type": "code",
   "execution_count": null,
   "id": "686d8787-38f1-4977-b4f9-8cbd7558428a",
   "metadata": {},
   "outputs": [],
   "source": [
    "sst_seasonal_mean_oae = (sst_oae.resample(time_counter='QS-DEC').mean(keep_attrs=True)).mean([\"y\", \"x\"])"
   ]
  },
  {
   "cell_type": "code",
   "execution_count": null,
   "id": "f2a4c580-4a99-4273-8c57-37d0ce9308d8",
   "metadata": {},
   "outputs": [],
   "source": [
    "f, ax = plt.subplots(figsize=(20, 3))\n",
    "\n",
    "sst_seasonal_mean_baseline.plot(marker=\"o\", markersize=7, markeredgewidth=0.5,\n",
    "                        color=\"black\", linewidth=0.5,\n",
    "                        markerfacecolor=\"lightskyblue\", \n",
    "                        markeredgecolor=\"black\", \n",
    "                        label = 'Baseline')\n",
    "\n",
    "sst_seasonal_mean_oae.plot(marker=\"o\", markersize=7, markeredgewidth=0.5,\n",
    "                        color=\"black\", linewidth=0.5,\n",
    "                        markerfacecolor=\"lightgreen\",\n",
    "                        markeredgecolor=\"black\", \n",
    "                        label = 'OAE')\n",
    "ax.set_title(\"Unweighted Data Point Seasonal Average of SST\", fontname=\"Times\", fontsize=17, y=1.06)\n",
    "\n",
    "plt.xlabel(\"Time\", fontsize=14)\n",
    "plt.ylabel(\"SST [°C] [°C]\", fontsize=14)\n",
    "plt.legend(bbox_to_anchor=(1, 1), loc='upper left', fontsize=14)\n",
    "plt.show()"
   ]
  },
  {
   "cell_type": "markdown",
   "id": "7afad3fb-cd6c-4460-86f4-5331fdc33364",
   "metadata": {},
   "source": [
    "### Weighted Data Point Seasonal Average of SST"
   ]
  },
  {
   "cell_type": "code",
   "execution_count": null,
   "id": "3d651550-0ee1-4ec2-af51-f5e588402360",
   "metadata": {},
   "outputs": [],
   "source": [
    "month_length_baseline = sst_baseline.time_counter.dt.days_in_month\n",
    "sst_weighted_mean_baseline = ((sst_baseline * month_length_baseline).resample(time_counter='QS-DEC').sum() / month_length_baseline.resample(time_counter='QS-DEC').sum())\n",
    "sst_weighted_season_baseline = (sst_weighted_mean_baseline.where(sst_weighted_mean_baseline)).mean([\"y\", \"x\"])"
   ]
  },
  {
   "cell_type": "code",
   "execution_count": null,
   "id": "6ac66147-719b-45b7-af38-3e6a61a8c580",
   "metadata": {},
   "outputs": [],
   "source": [
    "month_length_oae = sst_oae.time_counter.dt.days_in_month\n",
    "sst_weighted_mean_oae = ((sst_oae * month_length_oae).resample(time_counter='QS-DEC').sum() / month_length_oae.resample(time_counter='QS-DEC').sum())\n",
    "sst_weighted_season_oae = (sst_weighted_mean_oae.where(sst_weighted_mean_oae)).mean([\"y\", \"x\"])"
   ]
  },
  {
   "cell_type": "code",
   "execution_count": null,
   "id": "8d29d9ca-4d95-4477-8f45-e33ebcd3e883",
   "metadata": {},
   "outputs": [],
   "source": [
    "f, ax = plt.subplots(figsize=(20, 3))\n",
    "sst_weighted_season_baseline.plot(marker=\"o\", markersize=7, markeredgewidth=0.5,\n",
    "                        color=\"black\", linewidth=0.5,\n",
    "                        markerfacecolor=\"lightskyblue\",\n",
    "                        markeredgecolor=\"black\", \n",
    "                        label = 'Baseline')\n",
    "\n",
    "sst_weighted_season_oae.plot(marker=\"o\", markersize=7, markeredgewidth=0.5,\n",
    "                        color=\"black\", linewidth=0.5,\n",
    "                        markerfacecolor=\"lightgreen\",\n",
    "                        markeredgecolor=\"black\", \n",
    "                        label = 'OAE')\n",
    "ax.set_title(\"Weighted Data Point Seasonal Average of SST\", fontname=\"Times\", fontsize=17, y=1.06)\n",
    "\n",
    "plt.xlabel(\"Time\", fontsize=14)\n",
    "plt.ylabel(\"SST [°C]\", fontsize=14)\n",
    "plt.legend(bbox_to_anchor=(1, 1), loc='upper left', fontsize=14)\n",
    "plt.show()"
   ]
  },
  {
   "cell_type": "markdown",
   "id": "a555dae0-d5da-4f83-8df3-24494962ced2",
   "metadata": {},
   "source": [
    "### Weighted Data Point Seasonal Average of SST (seasons displayed)"
   ]
  },
  {
   "cell_type": "code",
   "execution_count": null,
   "id": "61608689-8a55-4791-8d07-4596aa5ef116",
   "metadata": {},
   "outputs": [],
   "source": [
    "# condition\n",
    "\n",
    "colors = {3: \"lightgreen\", 6: \"orange\", 9: \"brown\", 12: \"lightblue\"}\n",
    "seasons = {3: \"Spring\", 6: \"Summer\", 9: \"Fall\", 12: \"Winter\"}"
   ]
  },
  {
   "cell_type": "code",
   "execution_count": null,
   "id": "1e2892bf-2ce2-45c6-883a-a7e94da09f87",
   "metadata": {},
   "outputs": [],
   "source": [
    "f, (ax1, ax2) = plt.subplots(2, 1, figsize=(20, 8), sharey=False)\n",
    "for month, arr in sst_weighted_season_baseline.groupby('time_counter.month'):\n",
    "    arr.plot(ax=ax1,\n",
    "             color=\"black\", linewidth=0.5,\n",
    "             marker=\"o\", markersize=7, markeredgewidth=0.5,\n",
    "             markerfacecolor=colors[month],\n",
    "             markeredgecolor='black',\n",
    "             label=seasons[month])\n",
    "\n",
    "ax1.legend(bbox_to_anchor=(1, 1), loc='upper left', fontsize=14)\n",
    "ax1.set_title(\"Weighted Data Point Seasonal Average of SST without OAE\", fontsize=17, y=1.06)\n",
    "ax1.set_xlabel('Time', fontsize=14)\n",
    "ax1.set_ylabel('SST [°C]', fontsize=14)\n",
    "\n",
    "for month, arr in sst_weighted_season_oae.groupby('time_counter.month'):\n",
    "    arr.plot(ax=ax2,\n",
    "             color=\"black\", linewidth=0.5,\n",
    "             marker=\"o\", markersize=7, markeredgewidth=0.5,\n",
    "             markerfacecolor=colors[month],\n",
    "             markeredgecolor='black',\n",
    "             label=seasons[month])\n",
    "\n",
    "ax2.legend(bbox_to_anchor=(1, 1), loc='upper left', fontsize=14)\n",
    "ax2.set_title(\"Weighted Data Point Seasonal Average of SST with OAE\", fontname=\"Times\", fontsize=17, y=1.06)\n",
    "ax2.set_xlabel('Time', fontsize=14)\n",
    "ax2.set_ylabel('SST [°C]', fontsize=14)\n",
    "f.tight_layout()\n",
    "plt.show()"
   ]
  },
  {
   "cell_type": "code",
   "execution_count": null,
   "id": "1b61121a-20b7-40ce-88a9-a69d91a8c474",
   "metadata": {},
   "outputs": [],
   "source": [
    "# define handlers for future legends"
   ]
  },
  {
   "cell_type": "code",
   "execution_count": null,
   "id": "4640784e-1777-442a-b9e8-e8b3bb9650eb",
   "metadata": {},
   "outputs": [],
   "source": [
    "class HandlerEllipse(HandlerPatch):\n",
    "    def create_artists(self, legend, orig_handle,\n",
    "                       xdescent, ydescent, width, height, fontsize, trans):\n",
    "        center = 0.5 * width - 0.5 * xdescent, 0.5 * height - 0.5 * ydescent\n",
    "        p = mpatches.Ellipse(xy=center, width=height + xdescent,\n",
    "                             height=height + ydescent)\n",
    "        self.update_prop(p, orig_handle, legend)\n",
    "        p.set_transform(trans)\n",
    "        return [p]"
   ]
  },
  {
   "cell_type": "markdown",
   "id": "65624f6c-130c-4165-b2b0-2cc229a25a9e",
   "metadata": {},
   "source": [
    "### Weighted Data Point Seasonal Average of SST without OAE (seasons displayed)"
   ]
  },
  {
   "cell_type": "code",
   "execution_count": null,
   "id": "c3d418d3-6084-42d2-87b9-e23ef1600fc3",
   "metadata": {},
   "outputs": [],
   "source": [
    "sst_weighted_baseline = sst_weighted_season_baseline.to_dataframe('sst')\n",
    "sst_weighted_baseline['Month'] = pd.DatetimeIndex(sst_weighted_baseline.index).month"
   ]
  },
  {
   "cell_type": "code",
   "execution_count": null,
   "id": "6c6337f4-a7be-4071-9e0f-b6012d9fef72",
   "metadata": {},
   "outputs": [],
   "source": [
    "# condition\n",
    "\n",
    "conditions_season = [\n",
    "    (sst_weighted_baseline['Month'] == 3),\n",
    "    (sst_weighted_baseline['Month'] == 6),\n",
    "    (sst_weighted_baseline['Month'] == 9),\n",
    "    (sst_weighted_baseline['Month'] == 12)\n",
    "]\n",
    "\n",
    "values_season = ['Spring', 'Summer', 'Fall', 'Winter']"
   ]
  },
  {
   "cell_type": "code",
   "execution_count": null,
   "id": "4071ed3e-e187-4d21-990d-b13487f6e476",
   "metadata": {},
   "outputs": [],
   "source": [
    "sst_weighted_baseline['Month'] = np.select(conditions_season, values_season)"
   ]
  },
  {
   "cell_type": "code",
   "execution_count": null,
   "id": "df50772d-b6e9-4f3c-9364-e29bdaac0820",
   "metadata": {},
   "outputs": [],
   "source": [
    "# condition\n",
    "\n",
    "colors_season = dict(zip(sst_weighted_baseline.Month.unique(), ['paleturquoise', 'darkseagreen', 'gold', 'lightcoral']))"
   ]
  },
  {
   "cell_type": "code",
   "execution_count": null,
   "id": "722310e1-d23d-4636-9bd1-6fb4e967faea",
   "metadata": {},
   "outputs": [],
   "source": [
    "fig, ax = plt.subplots(figsize=(20, 3))\n",
    "ax.plot_date(sst_weighted_baseline.index, sst_weighted_baseline.sst, '-', color=\"black\",  linewidth=0.5, markeredgewidth=0.5, zorder=1)\n",
    "ax.scatter(sst_weighted_baseline.index, sst_weighted_baseline.sst, color=sst_weighted_baseline.Month.map(lambda x: colors_season[x]), edgecolors='black',  linewidth=0.5, s=70)\n",
    "\n",
    "legend = [mpatches.Circle((0.5, 0.5), 1, facecolor = value, edgecolor = \"black\", linewidth=0.5, label = key, alpha = 1) for key, value in colors_season.items()]\n",
    "ax.legend(handles = legend, bbox_to_anchor=(1, 1), loc='best', columnspacing=0.05, handletextpad=0.4, fontsize=12, ncol = 1, handler_map={mpatches.Circle: HandlerEllipse()})\n",
    "\n",
    "ax.set_xlabel('Time', fontsize=14)\n",
    "ax.set_ylabel('SST [°C]', fontsize=14)\n",
    "ax.set_title(\"Weighted Data Point Seasonal Average of SST without OAE\", fontname=\"Times\", fontsize=17, y=1.06)\n",
    "\n",
    "pass"
   ]
  },
  {
   "cell_type": "markdown",
   "id": "840b2934-1994-42cb-b0d8-606c96f7b426",
   "metadata": {},
   "source": [
    "### Weighted Data Point Seasonal Average of SST with OAE (seasons displayed)"
   ]
  },
  {
   "cell_type": "code",
   "execution_count": null,
   "id": "d044ddd7-125c-422c-989a-cc840773e5a5",
   "metadata": {},
   "outputs": [],
   "source": [
    "sst_weighted_oae = sst_weighted_season_oae.to_dataframe('sst')\n",
    "sst_weighted_oae['Month'] = pd.DatetimeIndex(sst_weighted_oae.index).month"
   ]
  },
  {
   "cell_type": "code",
   "execution_count": null,
   "id": "6a397233-67d9-4fd2-9dbb-a94c7ef6eab5",
   "metadata": {},
   "outputs": [],
   "source": [
    "sst_weighted_oae['Month'] = np.select(conditions_season, values_season)"
   ]
  },
  {
   "cell_type": "code",
   "execution_count": null,
   "id": "09ceaf22-886f-46f5-80f0-2d75d82e3ce7",
   "metadata": {},
   "outputs": [],
   "source": [
    "fig, ax = plt.subplots(figsize=(20, 3))\n",
    "ax.plot_date(sst_weighted_oae.index, sst_weighted_oae.sst, '-', color=\"black\",  linewidth=0.5, zorder=1)\n",
    "ax.scatter(sst_weighted_oae.index, sst_weighted_oae.sst, color=sst_weighted_oae.Month.map(lambda x: colors_season[x]), edgecolors='black',  linewidth=0.5, s=70)\n",
    "\n",
    "legend = [mpatches.Circle((0.5, 0.5), 1, facecolor = value, edgecolor = \"black\", linewidth=0.5, label = key, alpha = 1) for key, value in colors_season.items()]\n",
    "ax.legend(handles = legend, bbox_to_anchor=(1, 1), loc='best', columnspacing=0.05, handletextpad=0.4, fontsize=12, ncol = 1, handler_map={mpatches.Circle: HandlerEllipse()})\n",
    "\n",
    "ax.set_xlabel('Time', fontsize=14)\n",
    "ax.set_ylabel('Sea surface temperature ', fontsize=14)\n",
    "ax.set_title(\"Weighted Data Point Seasonal Average of SST with OAE\", fontname=\"Times\", fontsize=17, y=1.06)\n",
    "\n",
    "pass"
   ]
  },
  {
   "cell_type": "markdown",
   "id": "e308cdf2-f237-4429-b11f-3284f0de9355",
   "metadata": {},
   "source": [
    "### Weighted Data Point Seasonal Average of SST (seasons displayed)"
   ]
  },
  {
   "cell_type": "code",
   "execution_count": null,
   "id": "5697c160-e9b0-4e0d-b8a7-9cbd35ed7a18",
   "metadata": {},
   "outputs": [],
   "source": [
    "fig, ax = plt.subplots(figsize=(20, 3))\n",
    "\n",
    "ax.plot_date(sst_weighted_baseline.index, sst_weighted_baseline.sst, '-', color=\"black\",  linewidth=0.5, zorder=1)\n",
    "ax.text(43900, 8.1, s='Baseline')\n",
    "ax.scatter(sst_weighted_baseline.index, sst_weighted_baseline.sst, color=sst_weighted_baseline.Month.map(lambda x: colors_season[x]), marker='o', edgecolors='black',  linewidth=0.5, s=70)\n",
    "\n",
    "ax.plot_date(sst_weighted_oae.index, sst_weighted_oae.sst, '-', color=\"black\", linewidth=0.5, zorder=1)\n",
    "ax.text(43900, 8.6, s='OAE')\n",
    "ax.scatter(sst_weighted_oae.index, sst_weighted_oae.sst, color=sst_weighted_oae.Month.map(lambda x: colors_season[x]), marker='o', edgecolors='black', linewidth=0.5, s=70)\n",
    "\n",
    "legend = [mpatches.Circle((0.5, 0.5), 1, facecolor = value, edgecolor = \"black\", linewidth=0.5, label = key, alpha = 1) for key, value in colors_season.items()]\n",
    "ax.legend(handles = legend, bbox_to_anchor=(1, 1), loc='best', columnspacing=0.05, handletextpad=0.4, fontsize=12, ncol = 1, handler_map={mpatches.Circle: HandlerEllipse()})\n",
    "\n",
    "ax.set_xlabel('Time', fontsize=14)\n",
    "ax.set_ylabel('SST [°C]', fontsize=14)\n",
    "ax.set_title(\"Weighted Data Point Seasonal Average of SST\", fontname=\"Times\", fontsize=17, y=1.06)\n",
    "\n",
    "pass"
   ]
  },
  {
   "cell_type": "markdown",
   "id": "d434c6cd-4a21-476d-9ee2-7aff958054a8",
   "metadata": {},
   "source": [
    "### Data Point Monthly Average of SST"
   ]
  },
  {
   "cell_type": "code",
   "execution_count": null,
   "id": "4ba0b127-c3d9-486c-ae3e-08c24d20e5e7",
   "metadata": {
    "tags": []
   },
   "outputs": [],
   "source": [
    "sst_monthly_mean_baseline = (sliced_data_baseline[\"sst\"].sel(time_counter=slice(start_date, end_date))).mean([\"y\", \"x\"])"
   ]
  },
  {
   "cell_type": "code",
   "execution_count": null,
   "id": "60ecc5d2-56cd-4f5d-baa2-b54ca2c76e9b",
   "metadata": {},
   "outputs": [],
   "source": [
    "sst_monthly_mean_oae = (sliced_data_oae[\"sst\"].sel(time_counter=slice(start_date, end_date))).mean([\"y\", \"x\"])"
   ]
  },
  {
   "cell_type": "code",
   "execution_count": null,
   "id": "3288c72e-697c-47d1-b8d5-207313b8164d",
   "metadata": {},
   "outputs": [],
   "source": [
    "f, ax = plt.subplots(figsize=(20, 3))\n",
    "\n",
    "sst_monthly_mean_baseline.plot(marker=\"o\", markersize=5, markeredgewidth=0.5,\n",
    "                        color=\"black\", linewidth=0.5,\n",
    "                        markerfacecolor=\"lightskyblue\", \n",
    "                        markeredgecolor=\"black\", \n",
    "                        label = 'Baseline')\n",
    "\n",
    "sst_monthly_mean_oae.plot(marker=\"o\", markersize=5, markeredgewidth=0.5,\n",
    "                        color=\"black\", linewidth=0.5,\n",
    "                        markerfacecolor=\"lightgreen\",\n",
    "                        markeredgecolor=\"black\", \n",
    "                        label = 'OAE')\n",
    "ax.set_title(\"Data Point Monthly Average of SST without OAE\", fontname=\"Times\", fontsize=17, y=1.06)\n",
    "\n",
    "plt.xlabel(\"Time\", fontsize=14)\n",
    "plt.ylabel(\"SST [°C]\", fontsize=14)\n",
    "plt.legend(bbox_to_anchor=(1, 1), loc='upper left', fontsize=14)\n",
    "plt.show()"
   ]
  },
  {
   "cell_type": "markdown",
   "id": "070116ea-4194-4623-8d61-24ee2d887959",
   "metadata": {},
   "source": [
    "### Data Point Monthly Average of SST without OAE (months displayed)"
   ]
  },
  {
   "cell_type": "code",
   "execution_count": null,
   "id": "525754c2-fae9-4a5f-9061-81d281cd1df7",
   "metadata": {},
   "outputs": [],
   "source": [
    "sst_baseline_monthly = sst_monthly_mean_baseline.to_dataframe('sst')\n",
    "sst_baseline_monthly['Month'] = pd.DatetimeIndex(sst_baseline_monthly.index).month"
   ]
  },
  {
   "cell_type": "code",
   "execution_count": null,
   "id": "d63dc31c-88c1-4811-ac73-8c2400fa8330",
   "metadata": {},
   "outputs": [],
   "source": [
    "# condition\n",
    "\n",
    "conditions_month = [\n",
    "    (sst_baseline_monthly['Month'] == 1),\n",
    "    (sst_baseline_monthly['Month'] == 2),\n",
    "    (sst_baseline_monthly['Month'] == 3),\n",
    "    (sst_baseline_monthly['Month'] == 4),\n",
    "    (sst_baseline_monthly['Month'] == 5),\n",
    "    (sst_baseline_monthly['Month'] == 6),\n",
    "    (sst_baseline_monthly['Month'] == 7),\n",
    "    (sst_baseline_monthly['Month'] == 8),\n",
    "    (sst_baseline_monthly['Month'] == 9),\n",
    "    (sst_baseline_monthly['Month'] == 10),\n",
    "    (sst_baseline_monthly['Month'] == 11),\n",
    "    (sst_baseline_monthly['Month'] == 12)\n",
    "]\n",
    "\n",
    "values_month = ['Jan', 'Feb', 'Mar', 'Apr', 'May', 'June', 'July', 'Aug', 'Sept', 'Oct', 'Nov', 'Dec']"
   ]
  },
  {
   "cell_type": "code",
   "execution_count": null,
   "id": "557b2c5c-9001-4373-9bde-b395c40016a1",
   "metadata": {},
   "outputs": [],
   "source": [
    "sst_baseline_monthly['Month'] = np.select(conditions_month, values_month)"
   ]
  },
  {
   "cell_type": "code",
   "execution_count": null,
   "id": "a0b5aee8-14f7-4b0a-9083-e15d46e1af98",
   "metadata": {},
   "outputs": [],
   "source": [
    "# condition\n",
    "\n",
    "colors_month = dict(zip(sst_baseline_monthly.Month.unique(), ['powderblue', 'darkcyan', 'forestgreen', 'darkseagreen', \n",
    "                                                        'honeydew', 'bisque', 'khaki', 'gold', \n",
    "                                                        'sandybrown', 'lightcoral', 'chocolate', 'cadetblue']))"
   ]
  },
  {
   "cell_type": "code",
   "execution_count": null,
   "id": "f972a6db-b909-487b-a9e5-e117dca9edd7",
   "metadata": {},
   "outputs": [],
   "source": [
    "fig, ax = plt.subplots(figsize=(20, 3))\n",
    "ax.plot_date(sst_baseline_monthly.index, sst_baseline_monthly.sst, '-', color=\"black\", linewidth=0.5, zorder=1)\n",
    "ax.scatter(sst_baseline_monthly.index, sst_baseline_monthly.sst, color=sst_baseline_monthly.Month.map(lambda x: colors_month[x]), edgecolors='black',  linewidth=0.5, s=40)\n",
    "\n",
    "legend = [mpatches.Circle((0.5, 0.5), 1, facecolor = value, edgecolor = \"black\", linewidth=0.5, label = key, alpha = 1) for key, value in colors_month.items()]\n",
    "ax.legend(handles = legend, bbox_to_anchor=(1, 1.3), loc='best', columnspacing=0.05, handletextpad=0.4, fontsize=9, ncol = 1, handler_map={mpatches.Circle: HandlerEllipse()})\n",
    "\n",
    "ax.set_xlabel('Time', fontsize=14)\n",
    "ax.set_ylabel('SST [°C]', fontsize=14)\n",
    "ax.set_title(\"Data Point Monthly Average of SST without OAE\", fontname=\"Times\", fontsize=17, y=1.06)\n",
    "\n",
    "pass"
   ]
  },
  {
   "cell_type": "markdown",
   "id": "7e9461bd-e3e0-49d6-b2cd-88f54e3e7945",
   "metadata": {},
   "source": [
    "### Data Point Monthly Average of SST with OAE (months displayed)"
   ]
  },
  {
   "cell_type": "code",
   "execution_count": null,
   "id": "88707829-2295-48df-b575-2110a8be9b8a",
   "metadata": {},
   "outputs": [],
   "source": [
    "sst_oae_monthly = sst_monthly_mean_oae.to_dataframe('sst')\n",
    "sst_oae_monthly['Month'] = pd.DatetimeIndex(sst_oae_monthly.index).month"
   ]
  },
  {
   "cell_type": "code",
   "execution_count": null,
   "id": "0d8ed9bb-0c2b-4a1b-8b7b-f6252f626e51",
   "metadata": {},
   "outputs": [],
   "source": [
    "sst_oae_monthly['Month'] = np.select(conditions_month, values_month)"
   ]
  },
  {
   "cell_type": "code",
   "execution_count": null,
   "id": "e4c60645-9c1f-49d6-9c39-484f015e8d42",
   "metadata": {},
   "outputs": [],
   "source": [
    "fig, ax = plt.subplots(figsize=(20, 3))\n",
    "ax.plot_date(sst_oae_monthly.index, sst_oae_monthly.sst, '-', color=\"black\", linewidth=0.5, zorder=1)\n",
    "ax.scatter(sst_oae_monthly.index, sst_oae_monthly.sst, color=sst_oae_monthly.Month.map(lambda x: colors_month[x]), edgecolors='black',  linewidth=0.5, s=40)\n",
    "\n",
    "legend = [mpatches.Circle((0.5, 0.5), 1, facecolor = value, edgecolor = \"black\", linewidth=0.5, label = key, alpha = 1) for key, value in colors_month.items()]\n",
    "ax.legend(handles = legend, bbox_to_anchor=(1, 1), loc='best', columnspacing=0.05, handletextpad=0.4, fontsize=9, ncol = 4, handler_map={mpatches.Circle: HandlerEllipse()})\n",
    "\n",
    "ax.set_ylabel('SST [°C]', fontsize=14)\n",
    "#ax.set_title(\"Data Point Monthly Average of SST with OAE\", fontname=\"Times\", fontsize=17, y=1.06)\n",
    "\n",
    "pass"
   ]
  },
  {
   "cell_type": "markdown",
   "id": "ac1dd460-644c-4c47-9c86-c8863fd7ecb7",
   "metadata": {},
   "source": [
    "### Data Point Monthly Average of SST (months displayed)"
   ]
  },
  {
   "cell_type": "code",
   "execution_count": null,
   "id": "ffaa9f89-da6d-4446-ac46-76e7cbcceaea",
   "metadata": {},
   "outputs": [],
   "source": [
    "fig, ax = plt.subplots(figsize=(20, 3))\n",
    "\n",
    "ax.plot_date(sst_baseline_monthly.index, sst_baseline_monthly.sst, '-', color=\"black\", linewidth=0.5, zorder=1)\n",
    "ax.text(43750, 8.2, s='Baseline')\n",
    "ax.scatter(sst_baseline_monthly.index, sst_baseline_monthly.sst, color=sst_baseline_monthly.Month.map(lambda x: colors_month[x]), marker='o', edgecolors='black', linewidth=0.5, s=40)\n",
    "\n",
    "ax.plot_date(sst_oae_monthly.index, sst_oae_monthly.sst, '-', color=\"black\", linewidth=0.5, zorder=1)\n",
    "ax.text(43800, 8.6, s='OAE')\n",
    "ax.scatter(sst_oae_monthly.index, sst_oae_monthly.sst, color=sst_oae_monthly.Month.map(lambda x: colors_month[x]), marker='o', edgecolors='black', linewidth=0.5, s=40)\n",
    "\n",
    "legend = [mpatches.Circle((0.5, 0.5), 1, facecolor = value, edgecolor = \"black\", linewidth=0.5, label = key, alpha = 1) for key, value in colors_month.items()]\n",
    "ax.legend(handles = legend, bbox_to_anchor=(1, 1), loc='best', columnspacing=0.05, handletextpad=0.4, fontsize=9, ncol = 1, handler_map={mpatches.Circle: HandlerEllipse()})\n",
    "\n",
    "ax.set_xlabel('Time', fontsize=14)\n",
    "ax.set_ylabel('SST [°C]', fontsize=14)\n",
    "ax.set_title(\"Data Point Monthly Average of SST\", fontsize=17, y=1.06)\n",
    "\n",
    "pass"
   ]
  },
  {
   "cell_type": "code",
   "execution_count": null,
   "id": "c03a5ff1-ad32-4b8f-8b08-bedd74e57234",
   "metadata": {},
   "outputs": [],
   "source": [
    "mean_baseline = (sst_baseline_monthly.groupby(sst_baseline_monthly.index.month).sst.mean()).reset_index()\n",
    "mean_baseline['time_counter'] = mean_baseline['time_counter'].apply(lambda x: calendar.month_abbr[x])"
   ]
  },
  {
   "cell_type": "code",
   "execution_count": null,
   "id": "d5cd330b-cc54-418c-bb2a-57ca5b7fd459",
   "metadata": {},
   "outputs": [],
   "source": [
    "mean_oae = (sst_oae_monthly.groupby(sst_oae_monthly.index.month).sst.mean()).reset_index()\n",
    "mean_oae['time_counter'] = mean_oae['time_counter'].apply(lambda x: calendar.month_abbr[x])"
   ]
  },
  {
   "cell_type": "code",
   "execution_count": null,
   "id": "958242b5-b525-4762-bf85-b61f82e382e5",
   "metadata": {},
   "outputs": [],
   "source": [
    "# condition\n",
    "\n",
    "colors_time = dict(zip(mean_baseline.time_counter.unique(), ['powderblue', 'darkcyan', 'forestgreen', 'darkseagreen', \n",
    "                                                        'honeydew', 'bisque', 'khaki', 'gold', \n",
    "                                                        'sandybrown', 'lightcoral', 'chocolate', 'cadetblue']))"
   ]
  },
  {
   "cell_type": "code",
   "execution_count": null,
   "id": "69afc7f9-8c21-4663-935a-9ad123dce845",
   "metadata": {},
   "outputs": [],
   "source": [
    "fig, ax = plt.subplots(figsize=(4, 4))\n",
    "ax.plot(mean_baseline.sst, '-', color=\"black\", linewidth=0.5, zorder=1)\n",
    "ax.scatter(mean_baseline.time_counter, mean_baseline.sst, color=mean_baseline.time_counter.map(lambda x: colors_time[x]), edgecolors='black',  linewidth=0.5, s=30)\n",
    "\n",
    "ax.plot(mean_oae.sst, '-', color=\"black\", linewidth=0.5, zorder=1)\n",
    "ax.scatter(mean_oae.time_counter, mean_oae.sst, color=mean_oae.time_counter.map(lambda x: colors_time[x]), edgecolors='black',  linewidth=0.5, s=30)\n",
    "\n",
    "legend = [mpatches.Circle((0.5, 0.5), 1, facecolor = value, edgecolor = \"black\", linewidth=0.5, label = key, alpha = 1) for key, value in colors_time.items()]\n",
    "ax.legend(handles = legend, bbox_to_anchor=(1, 1), loc='best', columnspacing=0.05, handletextpad=0.4, fontsize=9, ncol = 1, handler_map={mpatches.Circle: HandlerEllipse()})\n",
    "ax.set_ylabel('SST [°C]', fontsize=10)\n",
    "\n",
    "ax.tick_params(axis='both', which='major', labelsize=10)\n",
    "ax.yaxis.get_offset_text().set_fontsize(10)\n",
    "\n",
    "ax.set_title(\"EU Monthly Average of SST over the last decade\", fontname=\"Times\", fontsize=14, y=1.06)\n",
    "\n",
    "pass"
   ]
  },
  {
   "cell_type": "markdown",
   "id": "ed842132-5c6b-4cc3-8e15-3725d23dba2f",
   "metadata": {},
   "source": [
    "### Δ SST between Baseline and OAE"
   ]
  },
  {
   "cell_type": "code",
   "execution_count": null,
   "id": "768609aa-279a-49b3-95ac-645fbbc57d10",
   "metadata": {
    "tags": []
   },
   "outputs": [],
   "source": [
    "delta_sst = (sst_oae_monthly.sst - sst_baseline_monthly.sst).to_xarray()"
   ]
  },
  {
   "cell_type": "code",
   "execution_count": null,
   "id": "47cdd177-7e2c-4812-8ddf-198874e2a15c",
   "metadata": {},
   "outputs": [],
   "source": [
    "delta_sst = delta_sst.to_dataframe('sst')\n",
    "delta_sst['Month'] = pd.DatetimeIndex(delta_sst.index).month"
   ]
  },
  {
   "cell_type": "code",
   "execution_count": null,
   "id": "5fd8b761-a1b4-410f-9cec-c4ab177ac4ef",
   "metadata": {},
   "outputs": [],
   "source": [
    "delta_sst['Month'] = np.select(conditions_month, values_month)"
   ]
  },
  {
   "cell_type": "code",
   "execution_count": null,
   "id": "1390428e-bf74-4971-93a9-0ccecef13345",
   "metadata": {},
   "outputs": [],
   "source": [
    "fig, ax = plt.subplots(figsize=(20, 3))\n",
    "ax.plot_date(delta_sst.index, delta_sst.sst, '-', color=\"black\", linewidth=0.5, zorder=1)\n",
    "ax.scatter(delta_sst.index, delta_sst.sst, color=delta_sst.Month.map(lambda x: colors_month[x]), edgecolors='black',  linewidth=0.5, s=40)\n",
    "\n",
    "legend = [mpatches.Circle((0.5, 0.5), 1, facecolor = value, edgecolor = \"black\", linewidth=0.5, label = key, alpha = 1) for key, value in colors_month.items()]\n",
    "ax.legend(handles = legend, bbox_to_anchor=(1, 1), loc='best', columnspacing=0.05, handletextpad=0.4, fontsize=9, ncol = 1, handler_map={mpatches.Circle: HandlerEllipse()})\n",
    "\n",
    "ax.set_xlabel('Time', fontsize=14)\n",
    "ax.set_ylabel('Δ SST', fontsize=14)\n",
    "ax.set_title(\"Δ SST\", fontname=\"Times\", fontsize=17, y=1.06)\n",
    "\n",
    "pass"
   ]
  },
  {
   "cell_type": "markdown",
   "id": "f874f51a-6c00-47bf-b3fe-a9bb08790278",
   "metadata": {
    "tags": []
   },
   "source": [
    "### Averaged monthly cycle of Δ SST"
   ]
  },
  {
   "cell_type": "code",
   "execution_count": null,
   "id": "d0549f6b-c79c-497b-81c7-4f433ba748b9",
   "metadata": {},
   "outputs": [],
   "source": [
    "delta_sst_mean = (delta_sst.groupby(delta_sst.index.month).sst.mean()).reset_index()\n",
    "delta_sst_mean['time_counter'] = delta_sst_mean['time_counter'].apply(lambda x: calendar.month_abbr[x])"
   ]
  },
  {
   "cell_type": "code",
   "execution_count": null,
   "id": "93bd47d5-6ce8-4f56-a2b5-3bdd944d58b6",
   "metadata": {},
   "outputs": [],
   "source": [
    "fig, ax = plt.subplots(figsize=(4, 4))\n",
    "ax.plot(delta_sst_mean.sst, '-', color=\"black\", linewidth=0.5, zorder=1)\n",
    "ax.scatter(delta_sst_mean.time_counter, delta_sst_mean.sst, color=delta_sst_mean.time_counter.map(lambda x: colors_time[x]), edgecolors='black',  linewidth=0.5, s=30)\n",
    "\n",
    "legend = [mpatches.Circle((0.5, 0.5), 1, facecolor = value, edgecolor = \"black\", linewidth=0.5, label = key, alpha = 1) for key, value in colors_month.items()]\n",
    "ax.legend(handles = legend, bbox_to_anchor=(1, 1), loc='best', columnspacing=0.05, handletextpad=0.4, fontsize=9, ncol = 1, handler_map={mpatches.Circle: HandlerEllipse()})\n",
    "\n",
    "ax.set_ylabel('Δ SST', fontsize=10)\n",
    "ax.tick_params(axis='both', which='major', labelsize=10)\n",
    "ax.set_title(\"EU Monthly Average of Δ SST over the last decade\", fontname=\"Times\", fontsize=14, y=1.06)\n",
    "\n",
    "pass"
   ]
  },
  {
   "cell_type": "code",
   "execution_count": null,
   "id": "a16e59d9-0a05-4a32-a9b9-b6cadd0b933c",
   "metadata": {},
   "outputs": [],
   "source": [
    "f, (ax, ax2) = plt.subplots(1,2, figsize=(20, 3), gridspec_kw={'width_ratios': [6, 1]}, sharey=True) \n",
    "plt.subplots_adjust(wspace=0, hspace=0)\n",
    "\n",
    "\n",
    "ax.plot_date(delta_sst.index, delta_sst.sst, '-', label='Baseline', color=\"black\", linewidth=0.5, zorder=0.8)\n",
    "ax.scatter(delta_sst.index, delta_sst.sst, color=delta_sst.Month.map(lambda x: colors_month[x]), marker='o', edgecolors='black', linewidth=0.5, s=30)\n",
    "\n",
    "ax.tick_params(axis='both', which='major', labelsize=10)\n",
    "ax.set_ylabel('Δ SST', fontsize=10)\n",
    "\n",
    "legend = [mpatches.Circle((0.5, 0.5), 1, facecolor = value, edgecolor = \"black\", linewidth=0.5, label = key, alpha = 1) for key, value in colors_month.items()]\n",
    "ax2.legend(handles = legend, bbox_to_anchor=(1, 1), loc='best', columnspacing=0.05, handletextpad=0.4, fontsize=9, ncol = 1, handler_map={mpatches.Circle: HandlerEllipse()})\n",
    "\n",
    "ax2.plot(delta_sst_mean.sst, '-', color=\"black\", linewidth=0.5, zorder=1)\n",
    "ax2.scatter(delta_sst_mean.time_counter, delta_sst_mean.sst, color=delta_sst_mean.time_counter.map(lambda x: colors_time[x]), edgecolors='black',  linewidth=0.5, s=20)\n",
    "\n",
    "ax2.tick_params(axis='x', which='major', labelsize=7)\n",
    "\n",
    "#plt.savefig('/Users/chiaraciscato/Desktop/geomar/geomarcode/SSP1_2.6/DPsst_change_monthly_mean.png')\n",
    "\n",
    "pass"
   ]
  },
  {
   "cell_type": "code",
   "execution_count": null,
   "id": "e5d642e9-7f6b-4590-bdbc-2606aa459046",
   "metadata": {},
   "outputs": [],
   "source": [
    "f, ((ax, ax2), (ax3, ax4)) = plt.subplots(2,2, figsize=(20, 7), gridspec_kw={'width_ratios': [6, 1], 'height_ratios': [3, 2]}, sharey='row')  \n",
    "plt.subplots_adjust(wspace=0, hspace=0)\n",
    "\n",
    "ax.plot_date(sst_baseline_monthly.index, sst_baseline_monthly.sst, '-', label='Baseline', color=\"black\", linewidth=0.5, zorder=0.8)\n",
    "ax.text(43750, 8.15, s='Baseline', fontsize=12)\n",
    "ax.scatter(sst_baseline_monthly.index, sst_baseline_monthly.sst, color=sst_baseline_monthly.Month.map(lambda x: colors_month[x]), marker='o', edgecolors='black', linewidth=0.5, s=30)\n",
    "\n",
    "ax.plot_date(sst_oae_monthly.index, sst_oae_monthly.sst, '-', label='OAE', color=\"black\", linewidth=0.5, zorder=1)\n",
    "ax.text(43800, 8.58, s='OAE', fontsize=12)\n",
    "ax.scatter(sst_oae_monthly.index, sst_oae_monthly.sst, color=sst_oae_monthly.Month.map(lambda x: colors_month[x]), marker='o', edgecolors='black', linewidth=0.5, s=30)\n",
    "\n",
    "ax.tick_params(axis='both', which='major', labelsize=12)\n",
    "ax.set_ylabel(\"SST [°C]\", fontsize=12)\n",
    "\n",
    "legend = [mpatches.Circle((0.5, 0.5), 1, facecolor = value, edgecolor = \"black\", linewidth=0.5, label = key, alpha = 1) for key, value in colors_month.items()]\n",
    "ax.legend(handles = legend, bbox_to_anchor=(1.17, 1.21), loc='best', columnspacing=0.05, handletextpad=0.4, fontsize=9, ncol = 4, handler_map={mpatches.Circle: HandlerEllipse()})\n",
    "\n",
    "ax2.plot(mean_baseline.sst, '-', color=\"black\", linewidth=0.5, zorder=1)\n",
    "ax2.scatter(mean_baseline.time_counter, mean_baseline.sst, color=mean_baseline.time_counter.map(lambda x: colors_time[x]), edgecolors='black',  linewidth=0.5, s=30)\n",
    "\n",
    "ax2.plot(mean_oae.sst, '-', color=\"black\", linewidth=0.5, zorder=1)\n",
    "ax2.scatter(mean_oae.time_counter, mean_oae.sst, color=mean_oae.time_counter.map(lambda x: colors_time[x]), edgecolors='black',  linewidth=0.5, s=30)\n",
    "\n",
    "ax2.tick_params(axis='x', which='major', labelsize=8)\n",
    "ax2.tick_params(axis='y', which='major', labelsize=12)\n",
    "\n",
    "ax3.plot_date(delta_sst.index, delta_sst.sst, '-', label='Baseline', color=\"black\", linewidth=0.5, zorder=0.8)\n",
    "ax3.scatter(delta_sst.index, delta_sst.sst, color=delta_sst.Month.map(lambda x: colors_month[x]), marker='o', edgecolors='black', linewidth=0.5, s=30)\n",
    "\n",
    "ax3.tick_params(axis='both', which='major', labelsize=12)\n",
    "ax3.set_ylabel('Δ SST', fontsize=12)\n",
    "\n",
    "ax4.plot(delta_sst_mean.sst, '-', color=\"black\", linewidth=0.5, zorder=1)\n",
    "ax4.scatter(delta_sst_mean.time_counter, delta_sst_mean.sst, color=delta_sst_mean.time_counter.map(lambda x: colors_time[x]), edgecolors='black',  linewidth=0.5, s=20)\n",
    "\n",
    "ax4.tick_params(axis='x', which='major', labelsize=10, rotation=90)\n",
    "ax4.tick_params(axis='y', which='major', labelsize=12)\n",
    "\n",
    "#plt.savefig('/Users/chiaraciscato/Desktop/geomar/geomarcode/SSP1_2.6/DPsst_monthly_mean.png')\n",
    "\n",
    "pass"
   ]
  }
 ],
 "metadata": {
  "kernelspec": {
   "display_name": "geomar",
   "language": "python",
   "name": "geomar"
  },
  "language_info": {
   "codemirror_mode": {
    "name": "ipython",
    "version": 3
   },
   "file_extension": ".py",
   "mimetype": "text/x-python",
   "name": "python",
   "nbconvert_exporter": "python",
   "pygments_lexer": "ipython3",
   "version": "3.7.12"
  }
 },
 "nbformat": 4,
 "nbformat_minor": 5
}
