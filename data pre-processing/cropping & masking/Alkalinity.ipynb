{
 "cells": [
  {
   "cell_type": "code",
   "execution_count": 1,
   "id": "cf596712-2a14-4ae0-b394-ad0b313053b2",
   "metadata": {},
   "outputs": [],
   "source": [
    "import netCDF4 as nc\n",
    "from netCDF4 import Dataset\n",
    "import matplotlib as mpl\n",
    "import matplotlib.pyplot as plt\n",
    "import matplotlib.patches as mpatches\n",
    "import xarray as xr\n",
    "import numpy as np\n",
    "import pandas as pd\n",
    "import calendar\n",
    "import seaborn as sns\n",
    "import seaborn_image as isns"
   ]
  },
  {
   "cell_type": "markdown",
   "id": "e6e0e6b6-7ada-4a5f-a8cd-bcd623efb959",
   "metadata": {},
   "source": [
    "### SSP1_2.6"
   ]
  },
  {
   "cell_type": "code",
   "execution_count": 2,
   "id": "99b5817d-6c89-474f-952c-c73fac37592c",
   "metadata": {},
   "outputs": [],
   "source": [
    "data_baseline = xr.open_dataset('/Volumes/FOCI_Archive_1/Data_Chiara/FOCI_Chiara/SSP1_2.6/Alk/ALK_baseline_ensemble1_ssp126_1m.nc')"
   ]
  },
  {
   "cell_type": "code",
   "execution_count": 3,
   "id": "52871f7e-6f5e-4024-a91b-be439bff12c7",
   "metadata": {},
   "outputs": [],
   "source": [
    "data_oae = xr.open_dataset('/Volumes/FOCI_Archive_1/Data_Chiara/FOCI_Chiara/SSP1_2.6/Alk/ALK_CDR_EU_coast_ssp126_1m.nc')"
   ]
  },
  {
   "cell_type": "code",
   "execution_count": 4,
   "id": "24ba0397-6ccf-449b-b7c9-c40611363503",
   "metadata": {},
   "outputs": [],
   "source": [
    "alk_baseline = data_baseline.ALK.isel(x=slice(520,595),y=slice(330,435))"
   ]
  },
  {
   "cell_type": "code",
   "execution_count": 5,
   "id": "1e1fafdf-e5d5-4f29-957d-4ffddb476723",
   "metadata": {},
   "outputs": [],
   "source": [
    "alk_oae = data_oae.ALK.isel(x=slice(520,595),y=slice(330,435))"
   ]
  },
  {
   "cell_type": "code",
   "execution_count": 7,
   "id": "61c61fdf-3f1e-498a-a9fa-3695b7f3dea4",
   "metadata": {},
   "outputs": [],
   "source": [
    "alk_baseline.to_netcdf('/Volumes/UnionSine/Cropped_DataTransfer/alkalinity_base_26.nc')"
   ]
  },
  {
   "cell_type": "code",
   "execution_count": 8,
   "id": "1a516354-bf8a-4d12-bb90-ee15a443a36c",
   "metadata": {},
   "outputs": [],
   "source": [
    "alk_oae.to_netcdf('/Volumes/UnionSine/Cropped_DataTransfer/alkalinity_oae_26.nc')"
   ]
  },
  {
   "cell_type": "code",
   "execution_count": 4,
   "id": "f14a02fd-58d2-40eb-a7ca-e11f7d6167ec",
   "metadata": {
    "tags": []
   },
   "outputs": [],
   "source": [
    "mask = xr.open_dataset('/Volumes/UnionSine/Cropped_DataTransfer/masks/tmaskm.nc')"
   ]
  },
  {
   "cell_type": "code",
   "execution_count": 5,
   "id": "d890d454-e53b-44e5-964d-02fe1a4fa039",
   "metadata": {},
   "outputs": [],
   "source": [
    "mask = mask.tmask.isel(time=0)"
   ]
  },
  {
   "cell_type": "code",
   "execution_count": 4,
   "id": "b1672030-8f49-4c66-83d7-8a9688f1ca99",
   "metadata": {},
   "outputs": [],
   "source": [
    "data_baseline = data_baseline.ALK.isel(x=slice(520,595),y=slice(330,435),deptht=slice(0,13))"
   ]
  },
  {
   "cell_type": "code",
   "execution_count": 6,
   "id": "59412c39-ef16-406c-8c50-8e0c895abf45",
   "metadata": {},
   "outputs": [],
   "source": [
    "sliced_data_baseline = mask.isel(x=slice(520,595),y=slice(330,435),z=slice(0,13)) * data_baseline.ALK.isel(x=slice(520,595),y=slice(330,435),deptht=slice(0,13))"
   ]
  },
  {
   "cell_type": "code",
   "execution_count": 7,
   "id": "9b02f329-a6ad-4858-80c1-b3e2df2dc7b2",
   "metadata": {},
   "outputs": [],
   "source": [
    "sliced_data_oae = mask.isel(x=slice(520,595),y=slice(330,435),z=slice(0,13)) * data_oae.ALK.isel(x=slice(520,595),y=slice(330,435),deptht=slice(0,13))"
   ]
  },
  {
   "cell_type": "code",
   "execution_count": 58,
   "id": "6ee01204-954e-4ccf-9ac0-917c30fcd1d2",
   "metadata": {},
   "outputs": [],
   "source": [
    "sliced_data_baseline = sliced_data_baseline.to_dataset(name='ALK')\n",
    "sliced_data_oae = sliced_data_oae.to_dataset(name='ALK')"
   ]
  },
  {
   "cell_type": "code",
   "execution_count": null,
   "id": "3b8273ce-972a-46e7-b7d1-70d7fb9f6ca9",
   "metadata": {},
   "outputs": [],
   "source": [
    "sliced_data_baseline.to_netcdf('/Users/chiaraciscato/Desktop/geomar/Cropped_DataTransfer/ALK_Baseline_2.6_cropped.nc')\n",
    "sliced_data_oae.to_netcdf('/Users/chiaraciscato/Desktop/geomar/Cropped_DataTransfer/ALK_OAE_2.6_cropped.nc')"
   ]
  },
  {
   "cell_type": "markdown",
   "id": "b1ae58c5-db60-4b15-b9d8-e40959312b08",
   "metadata": {},
   "source": [
    "### SSP3_7.0"
   ]
  },
  {
   "cell_type": "code",
   "execution_count": 2,
   "id": "9544dd4d-277d-4f0b-ba27-4aa9a2b42346",
   "metadata": {},
   "outputs": [],
   "source": [
    "data_baseline = xr.open_dataset('/Volumes/FOCI_Archive_1/Data_Chiara/FOCI_Chiara/SSP3_7.0/Alk&DIC/FOCI2.0-NM001_FM_ESM_SSP370os_2014CC105_ALK_DIC_2015to2100.nc')"
   ]
  },
  {
   "cell_type": "code",
   "execution_count": 3,
   "id": "64b4775b-c380-40a3-8de4-45e8def5c65a",
   "metadata": {},
   "outputs": [],
   "source": [
    "data_oae = xr.open_dataset('/Volumes/FOCI_Archive_1/Data_Chiara/FOCI_Chiara/SSP3_7.0/Alk&DIC/FOCI2.0-TK200_FMESM_SSP370_alkEU_2014CC105_ALK_DIC_2015to2100.nc')"
   ]
  },
  {
   "cell_type": "code",
   "execution_count": 4,
   "id": "30c5d650-5c13-46b6-a505-d3dcba0a1a4f",
   "metadata": {},
   "outputs": [],
   "source": [
    "data_baseline = data_baseline.ALK.isel(x=slice(520,595),y=slice(330,435))"
   ]
  },
  {
   "cell_type": "code",
   "execution_count": 5,
   "id": "5f3583cb-e0f8-405e-a46e-8c3f8f39fd35",
   "metadata": {},
   "outputs": [],
   "source": [
    "data_oae = data_oae.ALK.isel(x=slice(520,595),y=slice(330,435))"
   ]
  },
  {
   "cell_type": "code",
   "execution_count": 7,
   "id": "bef8ba17-a17b-4d5b-8366-ce12d05c7fe5",
   "metadata": {},
   "outputs": [],
   "source": [
    "data_baseline.to_netcdf('/Volumes/UnionSine/Cropped_DataTransfer/alkalinity_base_70.nc')"
   ]
  },
  {
   "cell_type": "code",
   "execution_count": 8,
   "id": "28a57cb3-b5c5-4f71-b2db-734f957d2e8c",
   "metadata": {},
   "outputs": [],
   "source": [
    "data_oae.to_netcdf('/Volumes/UnionSine/Cropped_DataTransfer/alkalinity_oae_70.nc')"
   ]
  },
  {
   "cell_type": "code",
   "execution_count": 19,
   "id": "7473fbee-76af-45d5-bcf2-12246d69b0a1",
   "metadata": {},
   "outputs": [],
   "source": [
    "sliced_data_baseline = mask.isel(x=slice(520,595),y=slice(330,435),z=slice(0,7)) * data_baseline.ALK.isel(x=slice(520,595),y=slice(330,435),deptht=slice(0,7))"
   ]
  },
  {
   "cell_type": "code",
   "execution_count": 20,
   "id": "2eca0bd7-e9a8-403c-87f7-94fd65e08ab0",
   "metadata": {},
   "outputs": [],
   "source": [
    "sliced_data_oae = mask.isel(x=slice(520,595),y=slice(330,435),z=slice(0,7)) * data_oae.ALK.isel(x=slice(520,595),y=slice(330,435),deptht=slice(0,7))"
   ]
  },
  {
   "cell_type": "code",
   "execution_count": 21,
   "id": "7e2daf09-0a6a-47da-8232-7ed64ae50712",
   "metadata": {},
   "outputs": [],
   "source": [
    "sliced_data_baseline = sliced_data_baseline.to_dataset(name='ALK')"
   ]
  },
  {
   "cell_type": "code",
   "execution_count": 22,
   "id": "4cabde0a-6ba4-46d8-bb9f-18ec942e8b50",
   "metadata": {
    "tags": []
   },
   "outputs": [],
   "source": [
    "sliced_data_oae = sliced_data_oae.to_dataset(name='ALK')"
   ]
  },
  {
   "cell_type": "code",
   "execution_count": 23,
   "id": "0aed968b-8292-45a6-aa81-86be53cf6d77",
   "metadata": {},
   "outputs": [],
   "source": [
    "sliced_data_baseline.to_netcdf('/Users/chiaraciscato/Desktop/geomar/Cropped_DataTransfer/SSP3_7.0/Alk&DIC/ALK_Baseline_7.0_cropped.nc')\n",
    "sliced_data_oae.to_netcdf('/Users/chiaraciscato/Desktop/geomar/Cropped_DataTransfer/SSP3_7.0/Alk&DIC/ALK_OAE_7.0_cropped.nc')"
   ]
  },
  {
   "cell_type": "code",
   "execution_count": null,
   "id": "5a7b9869-8ccd-4917-932c-cdbf6cd8f7dd",
   "metadata": {},
   "outputs": [],
   "source": []
  },
  {
   "cell_type": "code",
   "execution_count": null,
   "id": "8226ae7c-bb08-4b0b-86ba-440ee56a97dd",
   "metadata": {},
   "outputs": [],
   "source": []
  }
 ],
 "metadata": {
  "kernelspec": {
   "display_name": "geomar",
   "language": "python",
   "name": "geomar"
  },
  "language_info": {
   "codemirror_mode": {
    "name": "ipython",
    "version": 3
   },
   "file_extension": ".py",
   "mimetype": "text/x-python",
   "name": "python",
   "nbconvert_exporter": "python",
   "pygments_lexer": "ipython3",
   "version": "3.7.12"
  }
 },
 "nbformat": 4,
 "nbformat_minor": 5
}
