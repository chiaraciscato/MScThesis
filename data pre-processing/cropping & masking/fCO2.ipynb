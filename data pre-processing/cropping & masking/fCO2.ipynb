{
 "cells": [
  {
   "cell_type": "code",
   "execution_count": 1,
   "id": "a87f8062-6407-4e46-8fde-01dc7c71a2d7",
   "metadata": {},
   "outputs": [],
   "source": [
    "import netCDF4 as nc\n",
    "from netCDF4 import Dataset\n",
    "import matplotlib as mpl\n",
    "import matplotlib.pyplot as plt\n",
    "import matplotlib.patches as mpatches\n",
    "import matplotlib.colors as mcolors\n",
    "import xarray as xr\n",
    "import numpy as np\n",
    "import pandas as pd\n",
    "import glob\n",
    "import calendar\n",
    "import seaborn as sns\n",
    "import seaborn_image as isns"
   ]
  },
  {
   "cell_type": "markdown",
   "id": "77d4117c-0e21-4ec1-94d9-7cea66275647",
   "metadata": {},
   "source": [
    "### SSP1_2.6"
   ]
  },
  {
   "cell_type": "code",
   "execution_count": 9,
   "id": "597fede4-5ce3-40ca-83ea-d9ede84471dd",
   "metadata": {},
   "outputs": [],
   "source": [
    "dataset = (r'/Volumes/FOCI_Archive_1/Data_Chiara/FOCI_Chiara/SSP1_2.6/FCO2/FOCI2.0-NM004_FM_ESM_SSP126os_2014CC105_fco2.nc')\n",
    "data = xr.open_dataset(dataset)"
   ]
  },
  {
   "cell_type": "code",
   "execution_count": 10,
   "id": "2fa0520e-9a4e-4c5f-84b1-94ab2207195e",
   "metadata": {},
   "outputs": [],
   "source": [
    "dataset_oae = (r'/Volumes/FOCI_Archive_1/Data_Chiara/FOCI_Chiara/SSP1_2.6/FCO2/FOCI2.0-TK201_FMESM_SSP126_alkEU_2014CC105_fco2.nc')\n",
    "data_oae = xr.open_dataset(dataset_oae)"
   ]
  },
  {
   "cell_type": "code",
   "execution_count": 11,
   "id": "21b3ea90-2e9e-45ae-9ec0-36c06da8d2fd",
   "metadata": {
    "tags": []
   },
   "outputs": [],
   "source": [
    "mask = xr.open_dataset('/Volumes/UnionSine/Cropped_DataTransfer/masks/tmaskm.nc')"
   ]
  },
  {
   "cell_type": "code",
   "execution_count": null,
   "id": "0c7b3245-7a61-4d44-8848-262fa7a38ed4",
   "metadata": {},
   "outputs": [],
   "source": [
    "mask = mask.tmask.isel(z=0, time=0)"
   ]
  },
  {
   "cell_type": "code",
   "execution_count": 12,
   "id": "23950a80-1438-4b9e-84a7-01f6915ea003",
   "metadata": {},
   "outputs": [],
   "source": [
    "sliced_data_baseline = mask.tmask.isel(x=slice(520,595),y=slice(330,435)) * data.fco2.isel(x=slice(520,595),y=slice(330,435))"
   ]
  },
  {
   "cell_type": "code",
   "execution_count": 13,
   "id": "fbddbb90-ff57-49e1-8560-0fdf5ce9141d",
   "metadata": {},
   "outputs": [],
   "source": [
    "sliced_data_oae = mask.tmask.isel(x=slice(520,595),y=slice(330,435)) * data_oae.fco2.isel(x=slice(520,595),y=slice(330,435))"
   ]
  },
  {
   "cell_type": "code",
   "execution_count": 14,
   "id": "383fa249-754c-462f-97ea-db3cf7b03fdf",
   "metadata": {},
   "outputs": [],
   "source": [
    "sliced_data_baseline = sliced_data_baseline.to_dataset(name='fco2')"
   ]
  },
  {
   "cell_type": "code",
   "execution_count": 15,
   "id": "900c22f0-d332-422a-ba57-28ceb2fda866",
   "metadata": {
    "tags": []
   },
   "outputs": [],
   "source": [
    "sliced_data_oae = sliced_data_oae.to_dataset(name='fco2')"
   ]
  },
  {
   "cell_type": "code",
   "execution_count": 16,
   "id": "008811c9-e68c-448e-abbc-36b4d3737269",
   "metadata": {},
   "outputs": [],
   "source": [
    "sliced_data_baseline.to_netcdf('/Users/chiaraciscato/Desktop/geomar/Cropped_DataTransfer/SSP1_2.6/FCO2/fco2_baseline_2.6_cropped.nc')\n",
    "sliced_data_oae.to_netcdf('/Users/chiaraciscato/Desktop/geomar/Cropped_DataTransfer/SSP1_2.6/FCO2/fco2_OAE_2.6_cropped.nc')"
   ]
  },
  {
   "cell_type": "markdown",
   "id": "20b4bed3-be1c-4383-af82-1238400ad42d",
   "metadata": {},
   "source": [
    "### SSP3_7.0"
   ]
  },
  {
   "cell_type": "code",
   "execution_count": 6,
   "id": "358c656a-a6e4-4b27-ade9-eaa5e7635c98",
   "metadata": {},
   "outputs": [],
   "source": [
    "ds = xr.open_mfdataset('/Volumes/FOCI_Archive_1/Data_Chiara/FOCI_Chiara/SSP3_7.0/FCO2/FOCI2.0-NM001_FM_ESM_SSP370os_2014CC105_fco2.nc')"
   ]
  },
  {
   "cell_type": "code",
   "execution_count": 7,
   "id": "585e3a59-aa1c-4d78-9df6-ba6be6065f0f",
   "metadata": {},
   "outputs": [],
   "source": [
    "ds_oae = xr.open_mfdataset('/Volumes/FOCI_Archive_1/Data_Chiara/FOCI_Chiara/SSP3_7.0/FCO2/FOCI2.0-TK200_FMESM_SSP370_alkEU_2014CC105_fco2.nc')"
   ]
  },
  {
   "cell_type": "code",
   "execution_count": 9,
   "id": "e6ccc541-eb9b-4f0d-b534-ce7572e3d987",
   "metadata": {},
   "outputs": [],
   "source": [
    "sliced_data_baseline = mask.tmask.isel(x=slice(520,595),y=slice(330,435)) * ds.fco2.isel(x=slice(520,595),y=slice(330,435))"
   ]
  },
  {
   "cell_type": "code",
   "execution_count": 10,
   "id": "9030d884-6c2e-4a3b-8c06-f6df83d6a91c",
   "metadata": {},
   "outputs": [],
   "source": [
    "sliced_data_oae = mask.tmask.isel(x=slice(520,595),y=slice(330,435)) * ds_oae.fco2.isel(x=slice(520,595),y=slice(330,435))"
   ]
  },
  {
   "cell_type": "code",
   "execution_count": 11,
   "id": "05a6fdca-c45d-425c-9f6c-633ff462a145",
   "metadata": {},
   "outputs": [],
   "source": [
    "sliced_data_baseline = sliced_data_baseline.to_dataset(name='fco2')"
   ]
  },
  {
   "cell_type": "code",
   "execution_count": 12,
   "id": "cca7c992-d137-4159-9e6e-fe0da5c6f72d",
   "metadata": {
    "tags": []
   },
   "outputs": [],
   "source": [
    "sliced_data_oae = sliced_data_oae.to_dataset(name='fco2')"
   ]
  },
  {
   "cell_type": "code",
   "execution_count": 13,
   "id": "7ecbe816-0b6c-4f53-ab44-3bed46220aad",
   "metadata": {},
   "outputs": [],
   "source": [
    "sliced_data_baseline.to_netcdf('/Users/chiaraciscato/Desktop/geomar/Cropped_DataTransfer/SSP3_7.0/FCO2/fco2_baseline_7.0_cropped.nc')\n",
    "sliced_data_oae.to_netcdf('/Users/chiaraciscato/Desktop/geomar/Cropped_DataTransfer/SSP3_7.0/FCO2/fco2_OAE_7.0_cropped.nc')"
   ]
  }
 ],
 "metadata": {
  "kernelspec": {
   "display_name": "geomar",
   "language": "python",
   "name": "geomar"
  },
  "language_info": {
   "codemirror_mode": {
    "name": "ipython",
    "version": 3
   },
   "file_extension": ".py",
   "mimetype": "text/x-python",
   "name": "python",
   "nbconvert_exporter": "python",
   "pygments_lexer": "ipython3",
   "version": "3.7.12"
  }
 },
 "nbformat": 4,
 "nbformat_minor": 5
}
