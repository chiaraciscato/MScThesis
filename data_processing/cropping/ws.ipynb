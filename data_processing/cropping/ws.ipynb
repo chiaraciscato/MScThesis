{
 "cells": [
  {
   "cell_type": "code",
   "execution_count": 1,
   "id": "cf596712-2a14-4ae0-b394-ad0b313053b2",
   "metadata": {},
   "outputs": [],
   "source": [
    "import netCDF4 as nc\n",
    "from netCDF4 import Dataset\n",
    "import xarray as xr"
   ]
  },
  {
   "cell_type": "markdown",
   "id": "3ea739ce-dd77-4456-8ca4-e6a8d5e214e6",
   "metadata": {},
   "source": [
    "### SSP1_2.6"
   ]
  },
  {
   "cell_type": "code",
   "execution_count": 2,
   "id": "76acac0c-70df-44a4-ab0e-b6732f5b4800",
   "metadata": {},
   "outputs": [],
   "source": [
    "dataset = (r'/Volumes/UnionSine/Cropped_DataTransfer/mld&sst&swt/wind speed/FOCI2.0-NM004_FM_ESM_SSP126os_2014CC105_wind_speed.nc')\n",
    "data = xr.open_dataset(dataset)"
   ]
  },
  {
   "cell_type": "code",
   "execution_count": 3,
   "id": "32cd7e33-d20d-4174-92ed-cac3434aa3e2",
   "metadata": {},
   "outputs": [],
   "source": [
    "dataset_oae = (r'/Volumes/UnionSine/Cropped_DataTransfer/mld&sst&swt/wind speed/FOCI2.0-TK201_FMESM_SSP126_alkEU_2014CC105_wind_speed.nc')\n",
    "data_oae = xr.open_dataset(dataset_oae)"
   ]
  },
  {
   "cell_type": "code",
   "execution_count": 6,
   "id": "2bf5b983-31a6-4b38-b12b-3df8f787d054",
   "metadata": {
    "tags": []
   },
   "outputs": [],
   "source": [
    "mask = xr.open_dataset('/Volumes/UnionSine/Cropped_DataTransfer/masks/tmaskm.nc')"
   ]
  },
  {
   "cell_type": "code",
   "execution_count": 7,
   "id": "8645737b-a09e-44e0-88d1-9a87fc0364ac",
   "metadata": {},
   "outputs": [],
   "source": [
    "mask = mask.tmask.isel(z=0, time=0)"
   ]
  },
  {
   "cell_type": "code",
   "execution_count": 9,
   "id": "98614586-d268-48e4-b869-e899c0f6342c",
   "metadata": {},
   "outputs": [],
   "source": [
    "sliced_data_baseline = mask.isel(x=slice(520,595),y=slice(330,435)) * data.sowndspd.isel(x=slice(520,595),y=slice(330,435))"
   ]
  },
  {
   "cell_type": "code",
   "execution_count": 12,
   "id": "c0e44a89-d04c-477c-b8d8-1ed3dfa672ac",
   "metadata": {},
   "outputs": [],
   "source": [
    "sliced_data_oae = mask.isel(x=slice(520,595),y=slice(330,435)) * data_oae.sowndspd.isel(x=slice(520,595),y=slice(330,435))"
   ]
  },
  {
   "cell_type": "code",
   "execution_count": 13,
   "id": "f2781071-2daa-4dac-bea6-d8148603b7da",
   "metadata": {},
   "outputs": [],
   "source": [
    "sliced_data_baseline = sliced_data_baseline.to_dataset(name='wind')"
   ]
  },
  {
   "cell_type": "code",
   "execution_count": 14,
   "id": "f98b47fc-fb44-4af8-bcb1-8edd78272ee7",
   "metadata": {
    "tags": []
   },
   "outputs": [],
   "source": [
    "sliced_data_oae = sliced_data_oae.to_dataset(name='wind')"
   ]
  },
  {
   "cell_type": "code",
   "execution_count": 15,
   "id": "4b9fff3f-aeca-4ae1-b335-6fc079e39087",
   "metadata": {},
   "outputs": [],
   "source": [
    "sliced_data_baseline.to_netcdf('/Volumes/UnionSine/Cropped_DataTransfer/mld&sst&swt/wind speed/wind_baseline_2.6_cropped.nc')\n",
    "sliced_data_oae.to_netcdf('/Volumes/UnionSine/Cropped_DataTransfer/mld&sst&swt/wind speed/wind_oae_2.6_cropped.nc')"
   ]
  },
  {
   "cell_type": "markdown",
   "id": "4accc4b0-5c8c-4777-bad8-dc4083499316",
   "metadata": {},
   "source": [
    "### SSP3_7.0"
   ]
  },
  {
   "cell_type": "code",
   "execution_count": 6,
   "id": "0449087d-8268-4ebb-ba0f-245af1cd1adf",
   "metadata": {},
   "outputs": [],
   "source": [
    "dataset = (r'/Volumes/FOCI_Archive_1/Data_Chiara/FOCI_Chiara/SSP3_7.0/CO2flux/CO2flux_baseline_ensemble1_ssp370_1m.nc')\n",
    "data = xr.open_dataset(dataset)"
   ]
  },
  {
   "cell_type": "code",
   "execution_count": 7,
   "id": "566afa5e-d577-48f6-99bb-20349bad3845",
   "metadata": {},
   "outputs": [],
   "source": [
    "dataset_oae = (r'/Volumes/FOCI_Archive_1/Data_Chiara/FOCI_Chiara/SSP3_7.0/CO2flux/CO2flux_CDR_EU_coast_ssp370_1m.nc')\n",
    "data_oae = xr.open_dataset(dataset_oae)"
   ]
  },
  {
   "cell_type": "code",
   "execution_count": 10,
   "id": "b09a7121-7a10-4d8e-b148-991ce466e447",
   "metadata": {},
   "outputs": [],
   "source": [
    "data_baseline = mask.tmask.sel(x=slice(520,595),y=slice(330,435)) * data.sowndspd.sel(x=slice(520,595),y=slice(330,435))"
   ]
  },
  {
   "cell_type": "code",
   "execution_count": 11,
   "id": "2798411c-81f4-4e3d-b930-8acaf0fa40c5",
   "metadata": {},
   "outputs": [],
   "source": [
    "data_oae = mask.tmask.sel(x=slice(520,595),y=slice(330,435)) * data_oae.sowndspd.sel(x=slice(520,595),y=slice(330,435))"
   ]
  },
  {
   "cell_type": "code",
   "execution_count": 12,
   "id": "29a36dab-74b6-4206-af85-de8d610a2116",
   "metadata": {},
   "outputs": [],
   "source": [
    "data_baseline = data_baseline.to_dataset(name='co2flux')"
   ]
  },
  {
   "cell_type": "code",
   "execution_count": 13,
   "id": "6aeecfdf-6047-4af5-8985-b6286bdb7619",
   "metadata": {},
   "outputs": [],
   "source": [
    "data_oae = data_oae.to_dataset(name='co2flux')"
   ]
  },
  {
   "cell_type": "code",
   "execution_count": 17,
   "id": "d6ec62ec-f760-4e30-8cb8-71e6763e5f99",
   "metadata": {},
   "outputs": [],
   "source": [
    "data_baseline.to_netcdf('/Volumes/UnionSine/Cropped_DataTransfer/SSP3_7.0/CO2flux/CO2flux_Baseline_7.0_cropped.nc')\n",
    "data_oae.to_netcdf('/Volumes/UnionSine/Cropped_DataTransfer/SSP3_7.0/CO2flux/CO2flux_OAE_7.0_cropped.nc')"
   ]
  }
 ],
 "metadata": {
  "kernelspec": {
   "display_name": "geomar",
   "language": "python",
   "name": "geomar"
  },
  "language_info": {
   "codemirror_mode": {
    "name": "ipython",
    "version": 3
   },
   "file_extension": ".py",
   "mimetype": "text/x-python",
   "name": "python",
   "nbconvert_exporter": "python",
   "pygments_lexer": "ipython3",
   "version": "3.7.12"
  }
 },
 "nbformat": 4,
 "nbformat_minor": 5
}
