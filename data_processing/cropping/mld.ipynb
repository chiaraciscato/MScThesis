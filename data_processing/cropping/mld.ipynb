{
 "cells": [
  {
   "cell_type": "code",
   "execution_count": 1,
   "id": "cf596712-2a14-4ae0-b394-ad0b313053b2",
   "metadata": {},
   "outputs": [],
   "source": [
    "import netCDF4 as nc\n",
    "from netCDF4 import Dataset\n",
    "import matplotlib as mpl\n",
    "import matplotlib.pyplot as plt\n",
    "import matplotlib.patches as mpatches\n",
    "import xarray as xr\n",
    "import numpy as np\n",
    "import pandas as pd\n",
    "import calendar\n",
    "import seaborn as sns\n",
    "import seaborn_image as isns"
   ]
  },
  {
   "cell_type": "markdown",
   "id": "577b4d1e-965d-44b8-8e22-da6206a0911e",
   "metadata": {},
   "source": [
    "### SSP1_2.6"
   ]
  },
  {
   "cell_type": "code",
   "execution_count": 2,
   "id": "99b5817d-6c89-474f-952c-c73fac37592c",
   "metadata": {},
   "outputs": [],
   "source": [
    "data_baseline = xr.open_dataset('/Volumes/FOCI_Archive_1/Data_Chiara/FOCI_Chiara/SSP1_2.6/MLD/FOCI2.0-NM004_FM_ESM_SSP126os_2014CC105_1m_grid_T_somxl010_2015to2099.nc', decode_times=True)"
   ]
  },
  {
   "cell_type": "code",
   "execution_count": 3,
   "id": "52871f7e-6f5e-4024-a91b-be439bff12c7",
   "metadata": {},
   "outputs": [],
   "source": [
    "data_oae = xr.open_dataset('/Volumes/FOCI_Archive_1/Data_Chiara/FOCI_Chiara/SSP1_2.6/MLD/FOCI2.0-TK201_FMESM_SSP126_alkEU_2014CC105_1m_grid_T_somxl010_2015to2099.nc', decode_times=True)"
   ]
  },
  {
   "cell_type": "code",
   "execution_count": 4,
   "id": "eb0fa5a9-3d4e-4bf2-8a8e-61eb6be21870",
   "metadata": {},
   "outputs": [],
   "source": [
    "mld_baseline = data_baseline.somxl010.isel(x=slice(520,595),y=slice(330,435))"
   ]
  },
  {
   "cell_type": "code",
   "execution_count": 5,
   "id": "4a58245d-6cf4-4a85-8707-afedb57d2edf",
   "metadata": {},
   "outputs": [],
   "source": [
    "mld_oae = data_oae.somxl010.isel(x=slice(520,595),y=slice(330,435))"
   ]
  },
  {
   "cell_type": "code",
   "execution_count": 6,
   "id": "8f4b0181-2034-4b78-a318-5d088d07a96e",
   "metadata": {},
   "outputs": [],
   "source": [
    "mld_baseline.to_netcdf('/Volumes/UnionSine/Cropped_DataTransfer/mld_base_26.nc')"
   ]
  },
  {
   "cell_type": "code",
   "execution_count": 7,
   "id": "5956ff9b-74eb-48d7-97fd-3ff82752e8c8",
   "metadata": {},
   "outputs": [],
   "source": [
    "mld_oae.to_netcdf('/Volumes/UnionSine/Cropped_DataTransfer/mld_oae_26.nc')"
   ]
  },
  {
   "cell_type": "code",
   "execution_count": 2,
   "id": "d65b1e38-89d6-4061-b5b2-0bfb449de42a",
   "metadata": {
    "tags": []
   },
   "outputs": [],
   "source": [
    "mask = xr.open_dataset('/Volumes/UnionSine/Cropped_DataTransfer/masks/tmaskm.nc')"
   ]
  },
  {
   "cell_type": "code",
   "execution_count": 9,
   "id": "b03016e9-1358-4367-8920-f649bce65b8f",
   "metadata": {},
   "outputs": [],
   "source": [
    "mask = mask.tmask.isel(time=0, z=0)"
   ]
  },
  {
   "cell_type": "code",
   "execution_count": 12,
   "id": "761c37d7-a3ca-4a38-9ea4-87ba22c04b8b",
   "metadata": {},
   "outputs": [],
   "source": [
    "data_baseline = mask.isel(x=slice(520,595),y=slice(330,435)) * data_baseline.somxl010.isel(x=slice(520,595),y=slice(330,435))"
   ]
  },
  {
   "cell_type": "code",
   "execution_count": 13,
   "id": "51b5c936-615e-4ba8-9789-9e9417e7eefd",
   "metadata": {},
   "outputs": [],
   "source": [
    "data_oae = mask.isel(x=slice(520,595),y=slice(330,435)) * data_oae.somxl010.isel(x=slice(520,595),y=slice(330,435))"
   ]
  },
  {
   "cell_type": "code",
   "execution_count": 16,
   "id": "011d4c91-adab-41ad-af82-e9bbee79801b",
   "metadata": {},
   "outputs": [],
   "source": [
    "data_baseline = data_baseline.to_dataset(name='mld')\n",
    "data_oae = data_oae.to_dataset(name='mld')"
   ]
  },
  {
   "cell_type": "code",
   "execution_count": 17,
   "id": "d2cd9d47-2540-4543-b698-f9dfa3b6e3a6",
   "metadata": {},
   "outputs": [],
   "source": [
    "data_baseline.to_netcdf('/Volumes/UnionSine/Cropped_DataTransfer/SWT&MLD/MLD_2.6/MLD_baseline_2.6_cropped.nc')\n",
    "data_oae.to_netcdf('/Volumes/UnionSine/Cropped_DataTransfer/SWT&MLD/MLD_2.6/MLD_OAE_2.6_cropped.nc')"
   ]
  },
  {
   "cell_type": "markdown",
   "id": "fae59eb9-4d8a-4840-a2f6-8c9c6615dd37",
   "metadata": {},
   "source": [
    "### SSP3_7.0"
   ]
  },
  {
   "cell_type": "code",
   "execution_count": 2,
   "id": "3828fba0-5235-4de2-942d-2d8113c17118",
   "metadata": {},
   "outputs": [],
   "source": [
    "data_baseline = xr.open_dataset('/Volumes/FOCI_Archive_1/Data_Chiara/FOCI_Chiara/SSP3_7.0/MLD&SWT/FOCI2.0-NM001_FM_ESM_SSP370os_2014CC105_votemper_somxl010_2015to2100.nc')"
   ]
  },
  {
   "cell_type": "code",
   "execution_count": 3,
   "id": "665f85d2-0da9-488d-9cae-c9f4d71350e0",
   "metadata": {},
   "outputs": [],
   "source": [
    "data_oae = xr.open_dataset('/Volumes/FOCI_Archive_1/Data_Chiara/FOCI_Chiara/SSP3_7.0/MLD&SWT/FOCI2.0-TK200_FMESM_SSP370_alkEU_2014CC105_votemper_somxl010_2015to2100.nc')"
   ]
  },
  {
   "cell_type": "code",
   "execution_count": 4,
   "id": "4549a965-c78b-4538-87b5-32c6f522a70c",
   "metadata": {},
   "outputs": [],
   "source": [
    "mld_baseline = data_baseline.somxl010.isel(x=slice(520,595),y=slice(330,435))"
   ]
  },
  {
   "cell_type": "code",
   "execution_count": 5,
   "id": "58a81116-fd3b-45fb-b1be-bb6e3a15bb77",
   "metadata": {},
   "outputs": [],
   "source": [
    "mld_oae = data_oae.somxl010.isel(x=slice(520,595),y=slice(330,435))"
   ]
  },
  {
   "cell_type": "code",
   "execution_count": 6,
   "id": "1c9f85ab-fc42-40b7-aa88-e7459ca387d8",
   "metadata": {},
   "outputs": [],
   "source": [
    "mld_baseline.to_netcdf('/Volumes/UnionSine/Cropped_DataTransfer/mld_base_70.nc')"
   ]
  },
  {
   "cell_type": "code",
   "execution_count": 7,
   "id": "f56416f9-db71-4626-b759-448e9f8a0882",
   "metadata": {},
   "outputs": [],
   "source": [
    "mld_oae.to_netcdf('/Volumes/UnionSine/Cropped_DataTransfer/mld_oae_70.nc')"
   ]
  },
  {
   "cell_type": "code",
   "execution_count": 10,
   "id": "a0fee246-3824-4441-a8fb-8c441fe9be55",
   "metadata": {},
   "outputs": [],
   "source": [
    "data_baseline = mask.isel(x=slice(520,595),y=slice(330,435)) * data_baseline.somxl010.isel(x=slice(520,595),y=slice(330,435))"
   ]
  },
  {
   "cell_type": "code",
   "execution_count": 11,
   "id": "0079aff7-ffa9-4be4-819b-e185cc3a0a85",
   "metadata": {},
   "outputs": [],
   "source": [
    "data_oae = mask.isel(x=slice(520,595),y=slice(330,435)) * data_oae.somxl010.isel(x=slice(520,595),y=slice(330,435))"
   ]
  },
  {
   "cell_type": "code",
   "execution_count": 12,
   "id": "f498e9ac-b879-4ac6-854b-3cdee3777305",
   "metadata": {},
   "outputs": [],
   "source": [
    "data_baseline = data_baseline.to_dataset(name='mld')\n",
    "data_oae = data_oae.to_dataset(name='mld')"
   ]
  },
  {
   "cell_type": "code",
   "execution_count": 15,
   "id": "45751c70-e9d7-4baf-bfa6-32ff1928e374",
   "metadata": {},
   "outputs": [],
   "source": [
    "data_baseline.to_netcdf('/Volumes/UnionSine/Cropped_DataTransfer/SWT&MLD/MLD_7.0/MLD_baseline_7.0_cropped.nc')\n",
    "data_oae.to_netcdf('/Volumes/UnionSine/Cropped_DataTransfer/SWT&MLD/MLD_7.0/MLD_oae_7.0_cropped.nc')"
   ]
  },
  {
   "cell_type": "code",
   "execution_count": null,
   "id": "538dde78-9fd3-4234-90b0-a3e356f773b6",
   "metadata": {},
   "outputs": [],
   "source": []
  }
 ],
 "metadata": {
  "kernelspec": {
   "display_name": "geomar",
   "language": "python",
   "name": "geomar"
  },
  "language_info": {
   "codemirror_mode": {
    "name": "ipython",
    "version": 3
   },
   "file_extension": ".py",
   "mimetype": "text/x-python",
   "name": "python",
   "nbconvert_exporter": "python",
   "pygments_lexer": "ipython3",
   "version": "3.7.12"
  }
 },
 "nbformat": 4,
 "nbformat_minor": 5
}
