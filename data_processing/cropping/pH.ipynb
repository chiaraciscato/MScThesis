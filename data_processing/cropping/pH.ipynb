{
 "cells": [
  {
   "cell_type": "code",
   "execution_count": 1,
   "id": "df6bee5f-4462-4f8a-a4cd-483bc03c9fbd",
   "metadata": {},
   "outputs": [],
   "source": [
    "import netCDF4 as nc\n",
    "from netCDF4 import Dataset\n",
    "import xarray as xr"
   ]
  },
  {
   "cell_type": "markdown",
   "id": "a7868c06-1859-47d6-81c4-f7c49b622ee1",
   "metadata": {},
   "source": [
    "### SSP1_2.6"
   ]
  },
  {
   "cell_type": "code",
   "execution_count": 5,
   "id": "dc76864d-4811-4be6-afaf-14f7d28eefe8",
   "metadata": {},
   "outputs": [
    {
     "name": "stderr",
     "output_type": "stream",
     "text": [
      "/opt/anaconda3/envs/GEOMAR/lib/python3.7/site-packages/pyproj/__init__.py:89: UserWarning:\n",
      "\n",
      "pyproj unable to set database path.\n",
      "\n"
     ]
    }
   ],
   "source": [
    "ds = xr.open_mfdataset('/Volumes/FOCI_Archive_1/Data_Chiara/FOCI_Chiara/SSP1_2.6/pH/pH_Baseline/*.nc')"
   ]
  },
  {
   "cell_type": "code",
   "execution_count": 6,
   "id": "f0da58a8-d2fa-45c4-bb3a-814f3c3cdec1",
   "metadata": {},
   "outputs": [],
   "source": [
    "ds_oae = xr.open_mfdataset('/Volumes/FOCI_Archive_1/Data_Chiara/FOCI_Chiara/SSP1_2.6/pH/pH_OAE/*.nc')"
   ]
  },
  {
   "cell_type": "code",
   "execution_count": 7,
   "id": "bf33a6de-88e0-4fa4-a1cd-534d7001cf02",
   "metadata": {},
   "outputs": [],
   "source": [
    "mask = xr.open_dataset('/Users/chiaraciscato/Desktop/geomar/Cropped_DataTransfer/tmaskm.nc')"
   ]
  },
  {
   "cell_type": "code",
   "execution_count": null,
   "id": "7613463c-6526-4ab7-807e-c2ffc14cd588",
   "metadata": {},
   "outputs": [],
   "source": [
    "mask = mask.tmask.isel(z=0, time=0)"
   ]
  },
  {
   "cell_type": "code",
   "execution_count": 19,
   "id": "9997b4bc-b788-4121-8bad-a6d67b3d7dca",
   "metadata": {},
   "outputs": [],
   "source": [
    "data_baseline = mask.tmask.isel(x=slice(520,595),y=slice(330,435)) * ds.ph.isel(x=slice(520,595),y=slice(330,435))"
   ]
  },
  {
   "cell_type": "code",
   "execution_count": 20,
   "id": "35734ddc-3db9-457a-becf-078849409348",
   "metadata": {},
   "outputs": [],
   "source": [
    "data_oae = mask.tmask.isel(x=slice(520,595),y=slice(330,435)) * ds_oae.ph.isel(x=slice(520,595),y=slice(330,435))"
   ]
  },
  {
   "cell_type": "code",
   "execution_count": 21,
   "id": "3849fce5-2b0c-413d-83ae-72855238877e",
   "metadata": {
    "tags": []
   },
   "outputs": [],
   "source": [
    "data_baseline = data_baseline.to_dataset(name='ph')\n",
    "data_oae = data_oae.to_dataset(name='ph')"
   ]
  },
  {
   "cell_type": "code",
   "execution_count": 23,
   "id": "ee76f255-9140-4252-a985-0e2d3ddd0d77",
   "metadata": {},
   "outputs": [],
   "source": [
    "data_baseline.to_netcdf('/Users/chiaraciscato/Desktop/geomar/Cropped_DataTransfer/SSP1_2.6/pH/ph_baseline_2.6_cropped.nc')\n",
    "data_oae.to_netcdf('/Users/chiaraciscato/Desktop/geomar/Cropped_DataTransfer/SSP1_2.6/pH/ph_OAE_2.6_cropped.nc')"
   ]
  },
  {
   "cell_type": "markdown",
   "id": "23728598-099e-4afc-856b-43b2e2f13b2f",
   "metadata": {},
   "source": [
    "### SSP3_7.0"
   ]
  },
  {
   "cell_type": "code",
   "execution_count": 6,
   "id": "e53d376a-49aa-418b-913f-c62b26b81364",
   "metadata": {},
   "outputs": [
    {
     "name": "stderr",
     "output_type": "stream",
     "text": [
      "/opt/anaconda3/envs/GEOMAR/lib/python3.7/site-packages/pyproj/__init__.py:89: UserWarning:\n",
      "\n",
      "pyproj unable to set database path.\n",
      "\n"
     ]
    }
   ],
   "source": [
    "ds = xr.open_mfdataset('/Volumes/FOCI_Archive_1/Data_Chiara/FOCI_Chiara/SSP3_7.0/pH/FOCI2.0-NM001_FM_ESM_SSP370os_2014CC105_ph.nc')"
   ]
  },
  {
   "cell_type": "code",
   "execution_count": 7,
   "id": "d59825d5-ead9-40a2-81dd-e92c08c3045a",
   "metadata": {},
   "outputs": [],
   "source": [
    "ds_oae = xr.open_mfdataset('/Volumes/FOCI_Archive_1/Data_Chiara/FOCI_Chiara/SSP3_7.0/pH/FOCI2.0-TK200_FMESM_SSP370_alkEU_2014CC105_ph.nc')"
   ]
  },
  {
   "cell_type": "code",
   "execution_count": 9,
   "id": "ddb9c484-c8d3-49b1-accb-3b6ca6345084",
   "metadata": {},
   "outputs": [],
   "source": [
    "data_baseline = mask.tmask.isel(x=slice(520,595),y=slice(330,435)) * ds.ph.isel(x=slice(520,595),y=slice(330,435))"
   ]
  },
  {
   "cell_type": "code",
   "execution_count": 10,
   "id": "4da045ce-ce6f-4d28-a008-a7ef0a73066a",
   "metadata": {},
   "outputs": [],
   "source": [
    "data_oae = mask.tmask.isel(x=slice(520,595),y=slice(330,435)) * ds_oae.ph.isel(x=slice(520,595),y=slice(330,435))"
   ]
  },
  {
   "cell_type": "code",
   "execution_count": 11,
   "id": "3e3fb715-fb76-461e-8c20-3de9f919623f",
   "metadata": {
    "tags": []
   },
   "outputs": [],
   "source": [
    "data_baseline = data_baseline.to_dataset(name='ph')\n",
    "data_oae = data_oae.to_dataset(name='ph')"
   ]
  },
  {
   "cell_type": "code",
   "execution_count": 14,
   "id": "8e5b60ae-b7a4-45ae-b603-c30a935eeb61",
   "metadata": {},
   "outputs": [],
   "source": [
    "data_baseline.to_netcdf('/Users/chiaraciscato/Desktop/geomar/Cropped_DataTransfer/SSP3_7.0/pH/ph_baseline_7.0_cropped.nc')\n",
    "data_oae.to_netcdf('/Users/chiaraciscato/Desktop/geomar/Cropped_DataTransfer/SSP3_7.0/pH/ph_OAE_7.0_cropped.nc')"
   ]
  }
 ],
 "metadata": {
  "kernelspec": {
   "display_name": "geomar",
   "language": "python",
   "name": "geomar"
  },
  "language_info": {
   "codemirror_mode": {
    "name": "ipython",
    "version": 3
   },
   "file_extension": ".py",
   "mimetype": "text/x-python",
   "name": "python",
   "nbconvert_exporter": "python",
   "pygments_lexer": "ipython3",
   "version": "3.7.12"
  }
 },
 "nbformat": 4,
 "nbformat_minor": 5
}
