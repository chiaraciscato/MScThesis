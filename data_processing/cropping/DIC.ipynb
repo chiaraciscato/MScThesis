{
 "cells": [
  {
   "cell_type": "code",
   "execution_count": 1,
   "id": "cf596712-2a14-4ae0-b394-ad0b313053b2",
   "metadata": {},
   "outputs": [],
   "source": [
    "import netCDF4 as nc\n",
    "from netCDF4 import Dataset\n",
    "import xarray as xr"
   ]
  },
  {
   "cell_type": "markdown",
   "id": "08b5e94d-ecee-4480-ba03-d8b1163f69e9",
   "metadata": {},
   "source": [
    "### SSP1_2.6"
   ]
  },
  {
   "cell_type": "code",
   "execution_count": 2,
   "id": "99b5817d-6c89-474f-952c-c73fac37592c",
   "metadata": {},
   "outputs": [],
   "source": [
    "data_baseline = xr.open_dataset('/Volumes/FOCI_Archive_1/Data_Chiara/FOCI_Chiara/SSP1_2.6/DIC/DIC_baseline_ensemble1_ssp126_1m.nc')"
   ]
  },
  {
   "cell_type": "code",
   "execution_count": 3,
   "id": "52871f7e-6f5e-4024-a91b-be439bff12c7",
   "metadata": {},
   "outputs": [],
   "source": [
    "data_oae = xr.open_dataset('/Volumes/FOCI_Archive_1/Data_Chiara/FOCI_Chiara/SSP1_2.6/DIC/DIC_CDR_EU_coast_ssp126_1m.nc')"
   ]
  },
  {
   "cell_type": "code",
   "execution_count": 4,
   "id": "e47c98a5-427e-4622-b1f8-3537fa2e52e9",
   "metadata": {},
   "outputs": [],
   "source": [
    "dic_baseline = data_baseline.DIC.isel(x=slice(520,595),y=slice(330,435))"
   ]
  },
  {
   "cell_type": "code",
   "execution_count": 5,
   "id": "71300531-6e66-4f7f-9111-63006efe6b4e",
   "metadata": {},
   "outputs": [],
   "source": [
    "dic_oae = data_oae.DIC.isel(x=slice(520,595),y=slice(330,435))"
   ]
  },
  {
   "cell_type": "code",
   "execution_count": 6,
   "id": "3f7e9434-d25e-4116-b095-ca84579e52bf",
   "metadata": {},
   "outputs": [],
   "source": [
    "dic_baseline.to_netcdf('/Volumes/UnionSine/Cropped_DataTransfer/dic_base_26.nc')"
   ]
  },
  {
   "cell_type": "code",
   "execution_count": 7,
   "id": "5c1bcb14-8eeb-4228-8eda-fe0eedf28991",
   "metadata": {},
   "outputs": [],
   "source": [
    "dic_oae.to_netcdf('/Volumes/UnionSine/Cropped_DataTransfer/dic_oae_26.nc')"
   ]
  },
  {
   "cell_type": "code",
   "execution_count": 7,
   "id": "187939e9-7815-42c3-b020-492a6e5b5a5a",
   "metadata": {
    "tags": []
   },
   "outputs": [],
   "source": [
    "mask = xr.open_dataset('/Users/chiaraciscato/Desktop/geomar/Cropped_DataTransfer/masks/tmaskm.nc')"
   ]
  },
  {
   "cell_type": "code",
   "execution_count": 8,
   "id": "058d0332-90e4-4a43-a016-fdfc777995e4",
   "metadata": {},
   "outputs": [],
   "source": [
    "mask = mask.tmask.isel(time=0)"
   ]
  },
  {
   "cell_type": "code",
   "execution_count": 9,
   "id": "02c16b40-9b3b-4dac-9281-19700125c3be",
   "metadata": {},
   "outputs": [],
   "source": [
    "sliced_data_baseline = mask.isel(x=slice(520,595),y=slice(330,435),z=slice(0,7)) * data_baseline.DIC.isel(x=slice(520,595),y=slice(330,435),deptht=slice(0,7))"
   ]
  },
  {
   "cell_type": "code",
   "execution_count": 10,
   "id": "d89d156c-9b6f-4790-9848-700666b02a63",
   "metadata": {},
   "outputs": [],
   "source": [
    "sliced_data_oae = mask.isel(x=slice(520,595),y=slice(330,435),z=slice(0,7)) * data_oae.DIC.isel(x=slice(520,595),y=slice(330,435),deptht=slice(0,7))"
   ]
  },
  {
   "cell_type": "code",
   "execution_count": 11,
   "id": "656e4155-ff85-40b0-af4b-3899603fec54",
   "metadata": {},
   "outputs": [],
   "source": [
    "sliced_data_baseline = sliced_data_baseline.to_dataset(name='DIC')"
   ]
  },
  {
   "cell_type": "code",
   "execution_count": 12,
   "id": "c7292475-5aec-41a8-9077-4e76d1bedeb0",
   "metadata": {
    "tags": []
   },
   "outputs": [],
   "source": [
    "sliced_data_oae = sliced_data_oae.to_dataset(name='DIC')"
   ]
  },
  {
   "cell_type": "code",
   "execution_count": null,
   "id": "1d1100b8-1a37-454f-9b6d-50d26a925ee2",
   "metadata": {},
   "outputs": [],
   "source": [
    "sliced_data_baseline.to_netcdf('/Users/chiaraciscato/Desktop/geomar/Cropped_DataTransfer/SSP1_2.6/DIC/DIC_Baseline_2.6_cropped.nc')\n",
    "sliced_data_oae.to_netcdf('/Users/chiaraciscato/Desktop/geomar/Cropped_DataTransfer/SSP1_2.6/DIC/DIC_OAE_2.6_cropped.nc')"
   ]
  },
  {
   "cell_type": "markdown",
   "id": "3c0e1c5f-5ce0-49bd-885c-4ae2d95a717f",
   "metadata": {},
   "source": [
    "### SSP3_7.0"
   ]
  },
  {
   "cell_type": "code",
   "execution_count": 2,
   "id": "d1748291-a49c-43d8-a035-ad80916a4575",
   "metadata": {},
   "outputs": [],
   "source": [
    "data_baseline = xr.open_dataset('/Volumes/FOCI_Archive_1/Data_Chiara/FOCI_Chiara/SSP3_7.0/Alk&DIC/FOCI2.0-NM001_FM_ESM_SSP370os_2014CC105_ALK_DIC_2015to2100.nc')"
   ]
  },
  {
   "cell_type": "code",
   "execution_count": 3,
   "id": "b4e39e59-3307-46b0-84ca-2679533f63dc",
   "metadata": {},
   "outputs": [],
   "source": [
    "data_oae = xr.open_dataset('/Volumes/FOCI_Archive_1/Data_Chiara/FOCI_Chiara/SSP3_7.0/Alk&DIC/FOCI2.0-TK200_FMESM_SSP370_alkEU_2014CC105_ALK_DIC_2015to2100.nc')"
   ]
  },
  {
   "cell_type": "code",
   "execution_count": 4,
   "id": "32273c25-ed1a-4092-bb62-0267950ce4ab",
   "metadata": {},
   "outputs": [],
   "source": [
    "dic_baseline = data_baseline.DIC.isel(x=slice(520,595),y=slice(330,435))"
   ]
  },
  {
   "cell_type": "code",
   "execution_count": 5,
   "id": "22f85e58-1d62-4c28-85d0-da3b22031a2f",
   "metadata": {},
   "outputs": [],
   "source": [
    "dic_oae = data_oae.DIC.isel(x=slice(520,595),y=slice(330,435))"
   ]
  },
  {
   "cell_type": "code",
   "execution_count": 7,
   "id": "3702faf6-ba8c-4452-a2f0-729ebfb7289f",
   "metadata": {},
   "outputs": [],
   "source": [
    "dic_baseline.to_netcdf('/Volumes/UnionSine/Cropped_DataTransfer/dic_base_70.nc')"
   ]
  },
  {
   "cell_type": "code",
   "execution_count": 8,
   "id": "14f8f136-2d2c-4a00-870a-bd5da3b40f5c",
   "metadata": {},
   "outputs": [],
   "source": [
    "dic_oae.to_netcdf('/Volumes/UnionSine/Cropped_DataTransfer/dic_oae_70.nc')"
   ]
  },
  {
   "cell_type": "code",
   "execution_count": 11,
   "id": "f1abdf81-9183-479c-b291-5938e4cc3b1b",
   "metadata": {},
   "outputs": [],
   "source": [
    "sliced_data_baseline = mask.isel(x=slice(520,595),y=slice(330,435),z=slice(0,7)) * data_baseline.DIC.isel(x=slice(520,595),y=slice(330,435),deptht=slice(0,7))"
   ]
  },
  {
   "cell_type": "code",
   "execution_count": 12,
   "id": "af4ed35a-e8bb-42c1-b5d3-86587098e0ae",
   "metadata": {},
   "outputs": [],
   "source": [
    "sliced_data_oae = mask.isel(x=slice(520,595),y=slice(330,435),z=slice(0,7)) * data_oae.DIC.isel(x=slice(520,595),y=slice(330,435),deptht=slice(0,7))"
   ]
  },
  {
   "cell_type": "code",
   "execution_count": 13,
   "id": "b2f872a6-8e69-44ec-ad62-9c34958d7d20",
   "metadata": {},
   "outputs": [],
   "source": [
    "sliced_data_baseline = sliced_data_baseline.to_dataset(name='DIC')"
   ]
  },
  {
   "cell_type": "code",
   "execution_count": 14,
   "id": "c11f6f2e-2ff0-4088-bcbb-dfb381fe0244",
   "metadata": {
    "tags": []
   },
   "outputs": [],
   "source": [
    "sliced_data_oae = sliced_data_oae.to_dataset(name='DIC')"
   ]
  },
  {
   "cell_type": "code",
   "execution_count": 15,
   "id": "a10dc1e5-164a-4348-ab91-062ae744c1b4",
   "metadata": {},
   "outputs": [],
   "source": [
    "sliced_data_baseline.to_netcdf('/Users/chiaraciscato/Desktop/geomar/Cropped_DataTransfer/SSP3_7.0/Alk&DIC/DIC_Baseline_7.0_cropped.nc')\n",
    "sliced_data_oae.to_netcdf('/Users/chiaraciscato/Desktop/geomar/Cropped_DataTransfer/SSP3_7.0/Alk&DIC/DIC_OAE_7.0_cropped.nc')"
   ]
  }
 ],
 "metadata": {
  "kernelspec": {
   "display_name": "geomar",
   "language": "python",
   "name": "geomar"
  },
  "language_info": {
   "codemirror_mode": {
    "name": "ipython",
    "version": 3
   },
   "file_extension": ".py",
   "mimetype": "text/x-python",
   "name": "python",
   "nbconvert_exporter": "python",
   "pygments_lexer": "ipython3",
   "version": "3.7.12"
  }
 },
 "nbformat": 4,
 "nbformat_minor": 5
}
