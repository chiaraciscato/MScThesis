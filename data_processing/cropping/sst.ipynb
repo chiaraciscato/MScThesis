{
 "cells": [
  {
   "cell_type": "code",
   "execution_count": 4,
   "id": "df6bee5f-4462-4f8a-a4cd-483bc03c9fbd",
   "metadata": {},
   "outputs": [],
   "source": [
    "import netCDF4 as nc\n",
    "from netCDF4 import Dataset\n",
    "import xarray as xr"
   ]
  },
  {
   "cell_type": "markdown",
   "id": "49746659-cecb-4c27-8114-88ba9240742d",
   "metadata": {},
   "source": [
    "### SSP1_2.6"
   ]
  },
  {
   "cell_type": "code",
   "execution_count": 8,
   "id": "dc76864d-4811-4be6-afaf-14f7d28eefe8",
   "metadata": {},
   "outputs": [],
   "source": [
    "ds = xr.open_mfdataset('/Volumes/FOCI_Archive_1/Data_Chiara/FOCI_Chiara/SSP1_2.6/SST/SST_Baseline_2.6/*.nc')"
   ]
  },
  {
   "cell_type": "code",
   "execution_count": 9,
   "id": "f0da58a8-d2fa-45c4-bb3a-814f3c3cdec1",
   "metadata": {},
   "outputs": [],
   "source": [
    "ds_oae = xr.open_mfdataset('/Volumes/FOCI_Archive_1/Data_Chiara/FOCI_Chiara/SSP1_2.6/SST/SST_OAE_2.6/*.nc')"
   ]
  },
  {
   "cell_type": "code",
   "execution_count": 10,
   "id": "bf33a6de-88e0-4fa4-a1cd-534d7001cf02",
   "metadata": {},
   "outputs": [],
   "source": [
    "mask = xr.open_dataset('/Volumes/UnionSine/Cropped_DataTransfer/masks/tmaskm.nc')"
   ]
  },
  {
   "cell_type": "code",
   "execution_count": 11,
   "id": "d49b6079-29bb-4456-9e08-09ab5955e996",
   "metadata": {},
   "outputs": [],
   "source": [
    "mask = mask.tmask.isel(z=0)"
   ]
  },
  {
   "cell_type": "code",
   "execution_count": 13,
   "id": "9997b4bc-b788-4121-8bad-a6d67b3d7dca",
   "metadata": {},
   "outputs": [],
   "source": [
    "data_baseline = mask.isel(x=slice(520,595),y=slice(330,435)) * ds.sosstsst.isel(x=slice(520,595),y=slice(330,435))"
   ]
  },
  {
   "cell_type": "code",
   "execution_count": 14,
   "id": "35734ddc-3db9-457a-becf-078849409348",
   "metadata": {},
   "outputs": [],
   "source": [
    "data_oae = mask.isel(x=slice(520,595),y=slice(330,435)) * ds_oae.sosstsst.isel(x=slice(520,595),y=slice(330,435))"
   ]
  },
  {
   "cell_type": "code",
   "execution_count": 15,
   "id": "3849fce5-2b0c-413d-83ae-72855238877e",
   "metadata": {
    "tags": []
   },
   "outputs": [],
   "source": [
    "data_baseline = data_baseline.to_dataset(name='sst')\n",
    "data_oae = data_oae.to_dataset(name='sst')"
   ]
  },
  {
   "cell_type": "code",
   "execution_count": 16,
   "id": "ee76f255-9140-4252-a985-0e2d3ddd0d77",
   "metadata": {},
   "outputs": [],
   "source": [
    "data_baseline.to_netcdf('/Volumes/UnionSine/Cropped_DataTransfer/mld&sst&swt/SST_2.6/sst_baseline_2.6_cropped.nc')\n",
    "data_oae.to_netcdf('/Volumes/UnionSine/Cropped_DataTransfer/mld&sst&swt/SST_2.6/sst_OAE_2.6_cropped.nc')"
   ]
  },
  {
   "cell_type": "code",
   "execution_count": null,
   "id": "1abcf536-2e60-4682-b3d3-1835381a23d8",
   "metadata": {},
   "outputs": [],
   "source": []
  }
 ],
 "metadata": {
  "kernelspec": {
   "display_name": "geomar",
   "language": "python",
   "name": "geomar"
  },
  "language_info": {
   "codemirror_mode": {
    "name": "ipython",
    "version": 3
   },
   "file_extension": ".py",
   "mimetype": "text/x-python",
   "name": "python",
   "nbconvert_exporter": "python",
   "pygments_lexer": "ipython3",
   "version": "3.7.12"
  }
 },
 "nbformat": 4,
 "nbformat_minor": 5
}
