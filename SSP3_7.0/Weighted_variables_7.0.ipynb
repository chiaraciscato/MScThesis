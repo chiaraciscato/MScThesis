{
 "cells": [
  {
   "cell_type": "code",
   "execution_count": 54,
   "id": "e467d34f-08cb-4a00-a9cd-4e0bfe055488",
   "metadata": {},
   "outputs": [],
   "source": [
    "import netCDF4 as nc\n",
    "from netCDF4 import Dataset\n",
    "import matplotlib as mpl\n",
    "import matplotlib.pyplot as plt\n",
    "import matplotlib.patches as mpatches\n",
    "from matplotlib.legend_handler import HandlerPatch\n",
    "import xarray as xr\n",
    "import numpy as np\n",
    "import pandas as pd\n",
    "import calendar\n",
    "import seaborn as sns\n",
    "import seaborn_image as isns\n",
    "import calendar"
   ]
  },
  {
   "cell_type": "code",
   "execution_count": 55,
   "id": "dc6e2ee7-b320-4922-b29a-f03117fe187b",
   "metadata": {},
   "outputs": [],
   "source": [
    "plt.style.use('seaborn-pastel')\n",
    "isns.set_context(mode=\"notebook\", fontfamily=\"Times\")\n",
    "sns.set_context(font_scale=0.8)"
   ]
  },
  {
   "cell_type": "code",
   "execution_count": 56,
   "id": "a22480fb-b73c-4fcf-a7bd-21fb67ee5395",
   "metadata": {},
   "outputs": [],
   "source": [
    "mesh_mask = xr.open_dataset('/Volumes/UnionSine/Cropped_DataTransfer/masks/mesh_mask.nc')"
   ]
  },
  {
   "cell_type": "code",
   "execution_count": 57,
   "id": "dc463ae2-5f49-446f-bc7a-720a9246c859",
   "metadata": {},
   "outputs": [],
   "source": [
    "mask = xr.open_dataset('/Volumes/UnionSine/Cropped_DataTransfer/masks/tmaskm.nc')"
   ]
  },
  {
   "cell_type": "code",
   "execution_count": 58,
   "id": "e02031a7-f355-48d0-9b9c-2c13216be697",
   "metadata": {},
   "outputs": [],
   "source": [
    "mask = mask.tmask.isel(time=0)"
   ]
  },
  {
   "cell_type": "code",
   "execution_count": 59,
   "id": "3588d8e6-bb60-4a4d-be87-d0e436bdfe0f",
   "metadata": {},
   "outputs": [],
   "source": [
    "# calculate volume for each grid cell\n",
    "\n",
    "dx = mesh_mask.e1t \n",
    "dy = mesh_mask.e2t\n",
    "grid_cell_area = dx * dy"
   ]
  },
  {
   "cell_type": "code",
   "execution_count": 60,
   "id": "2460aec0-51ee-4f06-ba5b-a96c0b70502e",
   "metadata": {},
   "outputs": [],
   "source": [
    "gridded_mesh = grid_cell_area.isel(t=0)"
   ]
  },
  {
   "cell_type": "code",
   "execution_count": 61,
   "id": "a3305ffe-9908-4537-b897-1050feeac0c9",
   "metadata": {},
   "outputs": [],
   "source": [
    "# apply mask to weighted grid cells\n",
    "\n",
    "ocean_area = gridded_mesh * mask"
   ]
  },
  {
   "cell_type": "code",
   "execution_count": 62,
   "id": "0d0b6980-5363-44b3-8fbc-5c4c34ea0194",
   "metadata": {},
   "outputs": [],
   "source": [
    "ocean_area_sliced = ocean_area.sel(x=slice(520,595),y=slice(330,435),z=0)"
   ]
  },
  {
   "cell_type": "code",
   "execution_count": 63,
   "id": "6c200851-8ca1-498c-a5fd-cc0b710f78c5",
   "metadata": {},
   "outputs": [],
   "source": [
    "ocean_area_sliced_dp = ocean_area_sliced.isel(x=slice(58,60),y=slice(41,43))"
   ]
  },
  {
   "cell_type": "code",
   "execution_count": 64,
   "id": "d19e4998-b171-4309-85b4-01907fd46ab2",
   "metadata": {},
   "outputs": [],
   "source": [
    "# alkalinity weighed only over the z axis (depth)"
   ]
  },
  {
   "cell_type": "code",
   "execution_count": 65,
   "id": "7786ba61-4fd9-413a-bc1d-509213b8afd8",
   "metadata": {},
   "outputs": [],
   "source": [
    "layer_depth = mask.isel(x=slice(520,595),y=slice(330,435),z=slice(0,7))"
   ]
  },
  {
   "cell_type": "code",
   "execution_count": 66,
   "id": "a023f100-2c10-4ce4-a8d8-92bdbe0064d8",
   "metadata": {},
   "outputs": [],
   "source": [
    "layer_depth = layer_depth.sum('z')"
   ]
  },
  {
   "cell_type": "code",
   "execution_count": 67,
   "id": "d22c9501-48f3-4086-8741-71263a3b0838",
   "metadata": {},
   "outputs": [],
   "source": [
    "layer_depth = layer_depth.where(layer_depth)"
   ]
  },
  {
   "cell_type": "code",
   "execution_count": 68,
   "id": "5c56f728-3feb-4dfa-9883-437dbfb7b04a",
   "metadata": {},
   "outputs": [],
   "source": [
    "layer_depth = layer_depth.to_dataset(name='tmask')"
   ]
  },
  {
   "cell_type": "code",
   "execution_count": 69,
   "id": "96ecf3b2-f392-4cc1-b685-70647fad5665",
   "metadata": {},
   "outputs": [],
   "source": [
    "layer_depth = layer_depth.to_dataframe()"
   ]
  },
  {
   "cell_type": "code",
   "execution_count": 70,
   "id": "0146e28c-3f39-457d-9aa3-59853d3460e6",
   "metadata": {},
   "outputs": [],
   "source": [
    "# condition\n",
    "\n",
    "max_depth = [\n",
    "    (layer_depth.tmask == 1),\n",
    "    (layer_depth.tmask == 2),\n",
    "    (layer_depth.tmask == 3),\n",
    "    (layer_depth.tmask == 4),\n",
    "    (layer_depth.tmask == 5),\n",
    "    (layer_depth.tmask == 6),\n",
    "    (layer_depth.tmask == 7)\n",
    "]\n",
    "\n",
    "values_depth = [3.046773, 9.454049, 16.363966, 23.89871, 32.20929, 41.481853, 51.94513]\n",
    "\n",
    "layer_depth['tmask'] = np.select(max_depth, values_depth)"
   ]
  },
  {
   "cell_type": "code",
   "execution_count": 71,
   "id": "ffd6b107-7ff4-4fb2-8e20-25ce9306655f",
   "metadata": {},
   "outputs": [],
   "source": [
    "layer_depth = layer_depth.drop(columns='time')"
   ]
  },
  {
   "cell_type": "code",
   "execution_count": 72,
   "id": "d3a098e1-6103-4137-8e84-5b5e450f4667",
   "metadata": {},
   "outputs": [],
   "source": [
    "layer_depth = layer_depth.to_xarray()"
   ]
  },
  {
   "cell_type": "code",
   "execution_count": 73,
   "id": "b4baf9b4-7f1e-4c2c-8de6-0db99b7716b3",
   "metadata": {},
   "outputs": [],
   "source": [
    "layer_depth = layer_depth.where(layer_depth)"
   ]
  },
  {
   "cell_type": "markdown",
   "id": "8fbb82d8-e97c-406c-8c86-d0d52ce8a02f",
   "metadata": {},
   "source": [
    "### Alkalinity weighted only over the z axis (depth)"
   ]
  },
  {
   "cell_type": "code",
   "execution_count": 84,
   "id": "83590a52-e4a8-4baf-b48a-ecb37db8cee7",
   "metadata": {},
   "outputs": [],
   "source": [
    "alk_weighted_baseline = xr.open_dataset('/Volumes/UnionSine/Cropped_DataTransfer/SSP3_7.0/Alkalinity/ALK_Baseline_7.0_cropped.nc', \n",
    "                                         decode_times=True).isel(deptht=slice(0,7))"
   ]
  },
  {
   "cell_type": "code",
   "execution_count": 85,
   "id": "7b8a7472-98f3-4126-9bd6-79c3b20a3772",
   "metadata": {},
   "outputs": [],
   "source": [
    "alk_weighted_baseline = (alk_weighted_baseline.ALK * 1.025).to_dataset(name='ALK')"
   ]
  },
  {
   "cell_type": "code",
   "execution_count": 86,
   "id": "50fd1067-83e7-454b-9244-564f95b6552f",
   "metadata": {},
   "outputs": [],
   "source": [
    "# iterate over all layers and append\n",
    "\n",
    "alk_base_layers = []\n",
    "\n",
    "for x in (range(len(alk_weighted_baseline.deptht))):\n",
    "    if x == 0:\n",
    "        alk_n_base = alk_weighted_baseline.ALK.isel(deptht=x) * alk_weighted_baseline.deptht[x] \n",
    "        alk_base_layers.append(alk_n_base)\n",
    "    else:\n",
    "        alk_n_base = alk_weighted_baseline.ALK.isel(deptht=x) * (alk_weighted_baseline.deptht[x] - alk_weighted_baseline.deptht[x-1])\n",
    "        alk_base_layers.append(alk_n_base)"
   ]
  },
  {
   "cell_type": "code",
   "execution_count": 87,
   "id": "c28b7f3d-7099-4bfe-92af-2a73fd8a588a",
   "metadata": {},
   "outputs": [],
   "source": [
    "weighted_base_alk = sum(alk_base_layers) / layer_depth.tmask # mmol/m3 * m / m"
   ]
  },
  {
   "cell_type": "code",
   "execution_count": 88,
   "id": "b978c9bc-baa2-4614-9305-ed7a05884041",
   "metadata": {},
   "outputs": [],
   "source": [
    "weighted_base_alk = weighted_base_alk.to_dataset(name='ALK')"
   ]
  },
  {
   "cell_type": "code",
   "execution_count": 89,
   "id": "62ac2cf6-9809-452f-9a03-dbf86f73c239",
   "metadata": {},
   "outputs": [],
   "source": [
    "alk_weighted_oae = xr.open_dataset('/Volumes/UnionSine/Cropped_DataTransfer/SSP3_7.0/Alkalinity/ALK_OAE_7.0_cropped.nc', \n",
    "                                    decode_times=True).isel(deptht=slice(0,7))"
   ]
  },
  {
   "cell_type": "code",
   "execution_count": 90,
   "id": "b538fb4d-6a58-4eb0-a009-4eabd5bd5fd0",
   "metadata": {},
   "outputs": [],
   "source": [
    "alk_weighted_oae = (alk_weighted_oae.ALK * 1.025).to_dataset(name='ALK')"
   ]
  },
  {
   "cell_type": "code",
   "execution_count": 91,
   "id": "7c8abd21-a1cb-48fd-a912-42311ab9e3fa",
   "metadata": {},
   "outputs": [],
   "source": [
    "# iterate over all layers and append\n",
    "\n",
    "alk_oae_layers = []\n",
    "\n",
    "for x in list((range(len(alk_weighted_oae.deptht)))):\n",
    "    if x == 0:\n",
    "        alk_n_oae = alk_weighted_oae.ALK.isel(deptht=x) * alk_weighted_oae.deptht[x] \n",
    "        alk_oae_layers.append(alk_n_oae)\n",
    "    else:\n",
    "        alk_n_oae = alk_weighted_oae.ALK.isel(deptht=x) * (alk_weighted_oae.deptht[x] - alk_weighted_oae.deptht[x-1])\n",
    "        alk_oae_layers.append(alk_n_oae)"
   ]
  },
  {
   "cell_type": "code",
   "execution_count": 27,
   "id": "3f91594c-317c-48bd-9a76-1e2bffaaa668",
   "metadata": {},
   "outputs": [],
   "source": [
    "weighted_oae_alk = sum(alk_oae_layers) / layer_depth.tmask # mmol/m3 * m / m"
   ]
  },
  {
   "cell_type": "code",
   "execution_count": 28,
   "id": "47fca0a8-0d29-47fc-8fc9-62a22d3ac7bf",
   "metadata": {},
   "outputs": [],
   "source": [
    "alk_weighted_oae = alk_weighted_oae.to_dataset(name='ALK')"
   ]
  },
  {
   "cell_type": "code",
   "execution_count": 29,
   "id": "74d11bea-114d-4cbd-a9eb-c866311eba30",
   "metadata": {},
   "outputs": [],
   "source": [
    "#weighted_base_alk.to_netcdf('/Volumes/UnionSine/Cropped_DataTransfer/SSP3_7.0/Alk&DIC/ALK_amplitude_base.nc')\n",
    "#alk_weighted_oae.to_netcdf('/Volumes/UnionSine/Cropped_DataTransfer/SSP3_7.0/Alk&DIC/ALK_amplitude_oae.nc')"
   ]
  },
  {
   "cell_type": "markdown",
   "id": "077f89a2-8152-43f6-b357-2225585d7739",
   "metadata": {},
   "source": [
    "### DIC weighted only over the z axis (depth)"
   ]
  },
  {
   "cell_type": "code",
   "execution_count": 28,
   "id": "cc695239-6308-49ce-801a-ee11968167b4",
   "metadata": {},
   "outputs": [],
   "source": [
    "dic_weighted_baseline = xr.open_dataset('/Volumes/UnionSine/Cropped_DataTransfer/SSP3_7.0/DIC/DIC_Baseline_7.0_cropped.nc',\n",
    "                                       decode_times=True).isel(deptht=slice(0, 7), z=0)"
   ]
  },
  {
   "cell_type": "code",
   "execution_count": 31,
   "id": "dcd1f9b8-88f1-4522-95dd-5b8be27ffddd",
   "metadata": {},
   "outputs": [],
   "source": [
    "dic_weighted_baseline = (dic_weighted_baseline.DIC * 1.025).to_dataset(name='DIC')"
   ]
  },
  {
   "cell_type": "code",
   "execution_count": 32,
   "id": "efb44ab1-99c2-44ed-9f8a-375074b052fd",
   "metadata": {},
   "outputs": [],
   "source": [
    "# iterate over all layers and append\n",
    "\n",
    "dic_base_layers = []\n",
    "\n",
    "for x in list((range(len(dic_weighted_base.deptht)))):\n",
    "    if x == 0:\n",
    "        dic_n_base = dic_weighted_base.DIC.isel(deptht=x) * dic_weighted_base.deptht[x] \n",
    "        dic_base_layers.append(dic_n_base)\n",
    "    else:\n",
    "        dic_n_base = dic_weighted_base.DIC.isel(deptht=x) * (dic_weighted_base.deptht[x] - dic_weighted_base.deptht[x-1])\n",
    "        dic_base_layers.append(dic_n_base)"
   ]
  },
  {
   "cell_type": "code",
   "execution_count": 33,
   "id": "d4903709-a027-491f-9229-a018282bfdbd",
   "metadata": {},
   "outputs": [],
   "source": [
    "dic_weighted_base = sum(dic_base_layers) / layer_depth.tmask"
   ]
  },
  {
   "cell_type": "code",
   "execution_count": 34,
   "id": "168b1970-668d-4477-b330-8e0b28ab6f1d",
   "metadata": {},
   "outputs": [],
   "source": [
    "dic_weighted_base = dic_weighted_base.to_dataset(name='DIC')"
   ]
  },
  {
   "cell_type": "code",
   "execution_count": 29,
   "id": "ce003bd2-51dc-4f18-8f9f-e5c531bfe6f2",
   "metadata": {},
   "outputs": [],
   "source": [
    "dic_weighted_oae = xr.open_dataset('/Volumes/UnionSine/Cropped_DataTransfer/SSP3_7.0/DIC/DIC_OAE_7.0_cropped.nc', \n",
    "                                    decode_times=True).isel(deptht=slice(0, 7), z=0)"
   ]
  },
  {
   "cell_type": "code",
   "execution_count": 100,
   "id": "507e6d64-fc93-419e-8932-ceb0849c511c",
   "metadata": {},
   "outputs": [],
   "source": [
    "dic_weighted_oae = (dic_weighted_oae.DIC * 1.025).to_dataset(name='DIC')"
   ]
  },
  {
   "cell_type": "code",
   "execution_count": 101,
   "id": "e8240c11-8f1b-48ac-a522-4e0e00543af0",
   "metadata": {},
   "outputs": [],
   "source": [
    "# iterate over all layers and append\n",
    "\n",
    "dic_oae_layers = []\n",
    "\n",
    "for x in list((range(len(dic_weighted_oae.deptht)))):\n",
    "    if x == 0:\n",
    "        dic_n_oae = dic_weighted_oae.DIC.isel(deptht=x) * dic_weighted_oae.deptht[x] \n",
    "        dic_oae_layers.append(dic_n_oae)\n",
    "    else:\n",
    "        dic_n_oae = dic_weighted_oae.DIC.isel(deptht=x) * (dic_weighted_oae.deptht[x] - dic_weighted_oae.deptht[x-1])\n",
    "        dic_oae_layers.append(dic_n_oae)"
   ]
  },
  {
   "cell_type": "code",
   "execution_count": 102,
   "id": "db9aad79-77d2-45f7-a8f4-786698242061",
   "metadata": {},
   "outputs": [],
   "source": [
    "dic_weighted_oae = sum(dic_oae_layers) / layer_depth.tmask # mmol/m3 * m / m"
   ]
  },
  {
   "cell_type": "code",
   "execution_count": 103,
   "id": "a1ec06e0-f76a-4e0f-a1f0-f36f61c64a49",
   "metadata": {},
   "outputs": [],
   "source": [
    "dic_weighted_oae = dic_weighted_oae.to_dataset(name='DIC')"
   ]
  },
  {
   "cell_type": "code",
   "execution_count": null,
   "id": "2b174b41-9697-40a3-9dd7-b3f9ec760950",
   "metadata": {},
   "outputs": [],
   "source": [
    "#dic_weighted_base.to_netcdf('/Volumes/UnionSine/Cropped_DataTransfer/SSP3_7.0/Alk&DIC/DIC_amplitude_base.nc')\n",
    "#dic_weighted_oae.to_netcdf('/Volumes/UnionSine/Cropped_DataTransfer/SSP3_7.0/Alk&DIC/DIC_amplitude_oae.nc')"
   ]
  },
  {
   "cell_type": "markdown",
   "id": "e30436d0-9996-48ac-870b-490f7a316895",
   "metadata": {},
   "source": [
    "### DIC as a function of depth"
   ]
  },
  {
   "cell_type": "code",
   "execution_count": 30,
   "id": "66c0ac5e-bf1f-4317-bedd-29c6623a22d3",
   "metadata": {},
   "outputs": [],
   "source": [
    "# calculate volume for each grid cell\n",
    "\n",
    "dx = mesh_mask.e1t \n",
    "dy = mesh_mask.e2t\n",
    "\n",
    "grid_cell_area = dx * dy  # m2"
   ]
  },
  {
   "cell_type": "code",
   "execution_count": 31,
   "id": "9b3c916f-8e7d-4128-8586-5b12b9e5f498",
   "metadata": {},
   "outputs": [],
   "source": [
    "gridded_mesh = grid_cell_area.isel(t=0)"
   ]
  },
  {
   "cell_type": "code",
   "execution_count": 32,
   "id": "4bce98f2-f9ad-489d-91c1-a22416135b68",
   "metadata": {},
   "outputs": [],
   "source": [
    "# apply mask to weighted grid cells\n",
    "\n",
    "ocean_area = gridded_mesh * mask"
   ]
  },
  {
   "cell_type": "code",
   "execution_count": 40,
   "id": "122dbff0-be5a-4b15-b14e-58890ccf85ca",
   "metadata": {},
   "outputs": [],
   "source": [
    "ocean_area_sliced = ocean_area.sel(x=slice(520,595),y=slice(330,435),z=slice(0,7))"
   ]
  },
  {
   "cell_type": "code",
   "execution_count": 41,
   "id": "d0e2e98a-de86-4f15-a955-ea95b4fa9bfe",
   "metadata": {},
   "outputs": [],
   "source": [
    "dic_col_base = (dic_weighted_baseline.DIC * 1.025).to_dataset(name='DIC') # mmol/m3"
   ]
  },
  {
   "cell_type": "code",
   "execution_count": 42,
   "id": "499b629d-1e6a-4581-add4-4664b840ecbd",
   "metadata": {},
   "outputs": [],
   "source": [
    "dic_col_base = dic_col_base.where(dic_col_base)"
   ]
  },
  {
   "cell_type": "code",
   "execution_count": 43,
   "id": "8cbd8fef-f229-43d2-b5bb-1b1f884a331c",
   "metadata": {},
   "outputs": [],
   "source": [
    "dic_col_base = dic_col_base.sel(time_counter=slice('2090', '2100'))"
   ]
  },
  {
   "cell_type": "code",
   "execution_count": 44,
   "id": "5ece5f09-72b1-4202-af30-4242e736967a",
   "metadata": {},
   "outputs": [],
   "source": [
    "dic_col_base = ocean_area_sliced * dic_col_base.DIC # mmol/m3 * m2"
   ]
  },
  {
   "cell_type": "code",
   "execution_count": 45,
   "id": "04a59c2f-7099-4be6-bd61-985266b730dd",
   "metadata": {},
   "outputs": [],
   "source": [
    "dic_col_base = dic_col_base.where(dic_col_base)"
   ]
  },
  {
   "cell_type": "code",
   "execution_count": 46,
   "id": "4667cc47-81ea-4468-9714-a9c8c7911ea8",
   "metadata": {},
   "outputs": [],
   "source": [
    "dic_col_layers_base = []\n",
    "\n",
    "for x in list((range(len(dic_col_base.deptht)))):\n",
    "    dic_n_base = (dic_col_base.isel(deptht=x).sum(['x', 'y']) / ocean_area_sliced.isel(z=x).sum(['x', 'y'])).mean()\n",
    "    dic_col_layers_base.append(dic_n_base)"
   ]
  },
  {
   "cell_type": "code",
   "execution_count": 47,
   "id": "765069db-795d-4437-a94f-d3f05ca5e42b",
   "metadata": {},
   "outputs": [],
   "source": [
    "dicList_base = []\n",
    "depthtList_base = []\n",
    "for x in dic_col_layers_base:\n",
    "    dic_base=x.to_dataset(name='DIC').DIC.values\n",
    "    deptht_base=x.to_dataset(name='DIC').deptht.values\n",
    "    dicList_base.append(dic_base)\n",
    "    depthtList_base.append(deptht_base)\n",
    "\n",
    "dic_layers_base = pd.DataFrame({'DIC':dicList_base, 'depth':depthtList_base})"
   ]
  },
  {
   "cell_type": "code",
   "execution_count": 48,
   "id": "84e86068-f2bb-437d-9da6-ea738da68c17",
   "metadata": {},
   "outputs": [],
   "source": [
    "dic_col_oae = (dic_weighted_oae.DIC * 1.025).to_dataset(name='DIC') # mmol/m3"
   ]
  },
  {
   "cell_type": "code",
   "execution_count": 49,
   "id": "96da258a-311a-43be-a56d-1f3ecbb1b3a7",
   "metadata": {},
   "outputs": [],
   "source": [
    "dic_col_oae = dic_col_oae.where(dic_col_oae)"
   ]
  },
  {
   "cell_type": "code",
   "execution_count": 50,
   "id": "b22a00a1-8826-4206-8b9c-6c0b012cb2f1",
   "metadata": {},
   "outputs": [],
   "source": [
    "dic_col_oae = dic_col_oae.sel(time_counter=slice('2090', '2100'))"
   ]
  },
  {
   "cell_type": "code",
   "execution_count": 51,
   "id": "90a34231-12ef-4b32-a34f-36a85c41882c",
   "metadata": {},
   "outputs": [],
   "source": [
    "dic_col_oae = ocean_area_sliced * dic_col_oae.DIC # mmol/m3 * m2"
   ]
  },
  {
   "cell_type": "code",
   "execution_count": 52,
   "id": "cc34e2c2-40a3-4b54-9c69-147c12956fe1",
   "metadata": {},
   "outputs": [],
   "source": [
    "dic_col_oae = dic_col_oae.where(dic_col_oae)"
   ]
  },
  {
   "cell_type": "code",
   "execution_count": 53,
   "id": "01e17ef3-438f-42c3-a210-28edd0aa3d54",
   "metadata": {},
   "outputs": [],
   "source": [
    "dic_col_layers_oae = []\n",
    "\n",
    "for x in list((range(len(dic_col_oae.deptht)))):\n",
    "    dic_n_oae = (dic_col_oae.isel(deptht=x).sum(['x', 'y']) / ocean_area_sliced.isel(z=x).sum(['x', 'y'])).mean()\n",
    "    dic_col_layers_oae.append(dic_n_oae)"
   ]
  },
  {
   "cell_type": "code",
   "execution_count": 54,
   "id": "93939a41-3887-468e-9a3c-38a1854d1789",
   "metadata": {},
   "outputs": [],
   "source": [
    "dicList_oae = []\n",
    "depthtList_oae = []\n",
    "for x in dic_col_layers_oae:\n",
    "    dic_oae=x.to_dataset(name='DIC').DIC.values\n",
    "    deptht_oae=x.to_dataset(name='DIC').deptht.values\n",
    "    dicList_oae.append(dic_oae)\n",
    "    depthtList_oae.append(deptht_oae)\n",
    "\n",
    "dic_layers_oae = pd.DataFrame({'DIC':dicList_oae, 'depth':depthtList_oae})"
   ]
  },
  {
   "cell_type": "markdown",
   "id": "20fe41a9-5c2a-46e8-9131-4980bc90de99",
   "metadata": {},
   "source": [
    "### Alkalinity weighted over x,y,z"
   ]
  },
  {
   "cell_type": "code",
   "execution_count": null,
   "id": "55348944-4558-426b-8aaa-64807d7d5a89",
   "metadata": {},
   "outputs": [],
   "source": [
    "sliced_alk_baseline = ocean_area_sliced * weighted_base_alk.ALK # baseline"
   ]
  },
  {
   "cell_type": "code",
   "execution_count": null,
   "id": "7d987a1a-5fa6-4564-97c6-eec3cc4be69c",
   "metadata": {},
   "outputs": [],
   "source": [
    "regridded_alk_base = sliced_alk_baseline.sum(['x', 'y']) / ocean_area_sliced.sum(['x', 'y'])"
   ]
  },
  {
   "cell_type": "code",
   "execution_count": null,
   "id": "4542d54f-3c8c-4648-bf53-b0f22dda1510",
   "metadata": {},
   "outputs": [],
   "source": [
    "regridded_alk_base = regridded_alk_base.to_dataset(name='ALK')"
   ]
  },
  {
   "cell_type": "code",
   "execution_count": null,
   "id": "c1e620c2-5633-42ec-bcd3-b17ac415fcc4",
   "metadata": {},
   "outputs": [],
   "source": [
    "sliced_alk_oae = ocean_area_sliced * alk_weighted_oae.ALK # oae"
   ]
  },
  {
   "cell_type": "code",
   "execution_count": null,
   "id": "1c937c2f-458c-49a2-b089-9fdf7770db6b",
   "metadata": {},
   "outputs": [],
   "source": [
    "regridded_alk_oae = sliced_alk_oae.sum(['x', 'y']) / ocean_area_sliced.sum(['x', 'y'])"
   ]
  },
  {
   "cell_type": "code",
   "execution_count": null,
   "id": "3188de96-abaa-4378-962f-fa89a8cbd6d1",
   "metadata": {},
   "outputs": [],
   "source": [
    "regridded_alk_oae = regridded_alk_oae.to_dataset(name='ALK')"
   ]
  },
  {
   "cell_type": "code",
   "execution_count": null,
   "id": "4023656f-add7-4dc2-8f43-441cfc51a742",
   "metadata": {},
   "outputs": [],
   "source": [
    "#regridded_alk_base.to_netcdf('/Volumes/UnionSine/Cropped_DataTransfer/SSP3_7.0/Alkalinity/ALK_baseline_7.0_weighted.nc')\n",
    "#regridded_alk_oae.to_netcdf('/Volumes/UnionSine/Cropped_DataTransfer/SSP3_7.0/Alkalinity/ALK_oae_7.0_weighted.nc')"
   ]
  },
  {
   "cell_type": "markdown",
   "id": "94fed5b8-2dd6-4da8-aba3-c259d06a3d44",
   "metadata": {},
   "source": [
    "### DIC weighted over x,y,z"
   ]
  },
  {
   "cell_type": "code",
   "execution_count": null,
   "id": "1c1b0e53-c8fd-47d6-aada-71469f291b67",
   "metadata": {},
   "outputs": [],
   "source": [
    "sliced_dic_baseline = ocean_area_sliced * dic_weighted_base.DIC # baseline"
   ]
  },
  {
   "cell_type": "code",
   "execution_count": null,
   "id": "120c939e-5b2e-4b7b-a166-46cf3f6dc8cc",
   "metadata": {},
   "outputs": [],
   "source": [
    "regridded_dic_base = sliced_dic_baseline.sum(['x', 'y']) / ocean_area_sliced.sum(['x', 'y'])"
   ]
  },
  {
   "cell_type": "code",
   "execution_count": null,
   "id": "aa66817f-810e-4c7a-9cd6-7f50b5ce07f7",
   "metadata": {},
   "outputs": [],
   "source": [
    "regridded_dic_base = regridded_dic_base.to_dataset(name='DIC')"
   ]
  },
  {
   "cell_type": "code",
   "execution_count": null,
   "id": "aea6893a-8cf9-44a7-813a-82287a6ba2c0",
   "metadata": {},
   "outputs": [],
   "source": [
    "sliced_dic_oae = ocean_area_sliced * dic_weighted_oae.DIC # oae"
   ]
  },
  {
   "cell_type": "code",
   "execution_count": null,
   "id": "780dfe0c-71aa-4c81-ab2c-6b34af3d6cb7",
   "metadata": {},
   "outputs": [],
   "source": [
    "regridded_dic_oae = sliced_dic_oae.sum(['x', 'y']) / ocean_area_sliced.sum(['x', 'y'])"
   ]
  },
  {
   "cell_type": "code",
   "execution_count": null,
   "id": "2655cdc9-a480-436a-bbf9-f77bf68f1e14",
   "metadata": {},
   "outputs": [],
   "source": [
    "regridded_dic_oae = regridded_dic_oae.to_dataset(name='DIC')"
   ]
  },
  {
   "cell_type": "code",
   "execution_count": null,
   "id": "5d7b293d-801e-4641-a3e7-40f36a08db0f",
   "metadata": {},
   "outputs": [],
   "source": [
    "#regridded_dic_base.to_netcdf('/Volumes/UnionSine/Cropped_DataTransfer/SSP3_7.0/DIC/DIC_baseline_7.0_weighted.nc')\n",
    "#regridded_dic_oae.to_netcdf('/Volumes/UnionSine/Cropped_DataTransfer/SSP3_7.0/DIC/DIC_oae_7.0_weighted.nc')"
   ]
  },
  {
   "cell_type": "markdown",
   "id": "f38319b1-eee7-47c6-ae82-d187979986c7",
   "metadata": {},
   "source": [
    "### Weighted alkalinity at location point"
   ]
  },
  {
   "cell_type": "code",
   "execution_count": null,
   "id": "7305f7fa-1e17-4abc-acd3-4b1bbdc074b3",
   "metadata": {},
   "outputs": [],
   "source": [
    "alk_weighted_baseline_dp = weighted_base_alk.isel(x=slice(58,60),y=slice(41,43))"
   ]
  },
  {
   "cell_type": "code",
   "execution_count": null,
   "id": "87fd3ef8-c898-473f-900a-d688727443db",
   "metadata": {},
   "outputs": [],
   "source": [
    "sliced_alk_baseline_dp = ocean_area_sliced_dp * alk_weighted_baseline_dp.ALK"
   ]
  },
  {
   "cell_type": "code",
   "execution_count": null,
   "id": "0ab1a77b-5be2-4565-832b-36600c0018d0",
   "metadata": {},
   "outputs": [],
   "source": [
    "regridded_alk_base_dp = sliced_alk_baseline_dp.sum(['x', 'y']) / ocean_area_sliced_dp.sum(['x', 'y'])"
   ]
  },
  {
   "cell_type": "code",
   "execution_count": null,
   "id": "457585a7-3f60-4dd4-9716-0cf4129b4cc8",
   "metadata": {},
   "outputs": [],
   "source": [
    "regridded_alk_base_dp = regridded_alk_base_dp.to_dataset(name='ALK')"
   ]
  },
  {
   "cell_type": "code",
   "execution_count": null,
   "id": "92c7823c-b04e-4c6b-aa02-d2e3818e04ee",
   "metadata": {},
   "outputs": [],
   "source": [
    "alk_weighted_oae_dp = alk_weighted_oae.isel(x=slice(58,60),y=slice(41,43)) "
   ]
  },
  {
   "cell_type": "code",
   "execution_count": null,
   "id": "24db9fd7-26d9-4059-9453-ca0a4d05c9fb",
   "metadata": {},
   "outputs": [],
   "source": [
    "sliced_alk_oae_dp = ocean_area_sliced_dp * alk_weighted_oae_dp.ALK"
   ]
  },
  {
   "cell_type": "code",
   "execution_count": null,
   "id": "2fbe37f1-bfd3-4ef0-914e-6ecc2cc19eed",
   "metadata": {},
   "outputs": [],
   "source": [
    "regridded_alk_oae_dp = sliced_alk_oae_dp.sum(['x', 'y']) / ocean_area_sliced_dp.sum(['x', 'y'])"
   ]
  },
  {
   "cell_type": "code",
   "execution_count": null,
   "id": "d5baae66-c458-448f-9aa9-2f289a9633cc",
   "metadata": {},
   "outputs": [],
   "source": [
    "regridded_alk_oae_dp = regridded_alk_oae_dp.to_dataset(name='ALK')"
   ]
  },
  {
   "cell_type": "code",
   "execution_count": null,
   "id": "abe8acc4-e748-4ea8-b83a-47b7dccee9cd",
   "metadata": {},
   "outputs": [],
   "source": [
    "#regridded_alk_base_dp.to_netcdf('/Volumes/UnionSine/Cropped_DataTransfer/SSP3_7.0/Alkalinity/ALK_baseline_7.0_weighted_dp.nc')\n",
    "#regridded_alk_oae_dp.to_netcdf('/Volumes/UnionSine/Cropped_DataTransfer/SSP3_7.0/Alkalinity/ALK_oae_7.0_weighted_dp.nc')"
   ]
  },
  {
   "cell_type": "markdown",
   "id": "3030222d-261b-4df7-8a05-e30a25fcf58a",
   "metadata": {},
   "source": [
    "### Weighted DIC at location point"
   ]
  },
  {
   "cell_type": "code",
   "execution_count": null,
   "id": "b0a559d5-71c8-4af4-aa6e-49e848d18674",
   "metadata": {},
   "outputs": [],
   "source": [
    "dic_weighted_baseline_dp = dic_weighted_base.isel(x=slice(58,60),y=slice(41,43))"
   ]
  },
  {
   "cell_type": "code",
   "execution_count": null,
   "id": "b07e4ea4-6619-4d41-af51-153419cdbb4c",
   "metadata": {},
   "outputs": [],
   "source": [
    "sliced_dic_baseline_dp = ocean_area_sliced_dp * dic_weighted_baseline_dp.DIC"
   ]
  },
  {
   "cell_type": "code",
   "execution_count": null,
   "id": "ee0d40f6-252c-4a48-a79f-9b83e1d81c1e",
   "metadata": {},
   "outputs": [],
   "source": [
    "regridded_dic_base_dp = sliced_dic_baseline_dp.sum(['x', 'y']) / ocean_area_sliced_dp.sum(['x', 'y'])"
   ]
  },
  {
   "cell_type": "code",
   "execution_count": null,
   "id": "fe13cffd-a6a8-42f4-980a-a71e29e08e99",
   "metadata": {},
   "outputs": [],
   "source": [
    "regridded_dic_base_dp = regridded_dic_base_dp.to_dataset(name='DIC')"
   ]
  },
  {
   "cell_type": "code",
   "execution_count": null,
   "id": "7c93c78e-2c6c-44f5-938e-bc93e127772a",
   "metadata": {},
   "outputs": [],
   "source": [
    "dic_weighted_oae_dp = dic_weighted_oae.isel(x=slice(58,60),y=slice(41,43)) "
   ]
  },
  {
   "cell_type": "code",
   "execution_count": null,
   "id": "0d751dc1-a6a7-4afc-ba0a-e8e2b8d28bf2",
   "metadata": {},
   "outputs": [],
   "source": [
    "sliced_dic_oae_dp = ocean_area_sliced_dp * dic_weighted_oae_dp.DIC"
   ]
  },
  {
   "cell_type": "code",
   "execution_count": null,
   "id": "287dd85e-8b60-474e-9e6f-6f893c4a8dc5",
   "metadata": {},
   "outputs": [],
   "source": [
    "regridded_dic_oae_dp = sliced_dic_oae_dp.sum(['x', 'y']) / ocean_area_sliced_dp.sum(['x', 'y'])"
   ]
  },
  {
   "cell_type": "code",
   "execution_count": null,
   "id": "b530682e-4679-4758-ba56-b49cd6e89ff9",
   "metadata": {},
   "outputs": [],
   "source": [
    "regridded_dic_oae_dp = regridded_dic_oae_dp.to_dataset(name='DIC')"
   ]
  },
  {
   "cell_type": "code",
   "execution_count": null,
   "id": "19917a5b-747b-4589-b341-0ef010d7cc3f",
   "metadata": {},
   "outputs": [],
   "source": [
    "#regridded_dic_base_dp.to_netcdf('/Volumes/UnionSine/Cropped_DataTransfer/SSP3_7.0/DIC_baseline_7.0_weighted_dp.nc')\n",
    "#regridded_dic_oae_dp.to_netcdf('/Volumes/UnionSine/Cropped_DataTransfer/SSP3_7.0/DIC_oae_7.0_weighted_dp.nc')"
   ]
  },
  {
   "cell_type": "markdown",
   "id": "2c16750d-7b88-4ae1-a65c-d66392f6d37b",
   "metadata": {},
   "source": [
    "### Weighted CO2 flux"
   ]
  },
  {
   "cell_type": "code",
   "execution_count": 98,
   "id": "4fa24e83-d459-4e64-8863-3ac81ca4181e",
   "metadata": {},
   "outputs": [],
   "source": [
    "co2flux_weighted_base = xr.open_dataset('/Volumes/UnionSine/Cropped_DataTransfer/SSP3_7.0/CO2flux/CO2flux_Baseline_7.0_cropped.nc')"
   ]
  },
  {
   "cell_type": "code",
   "execution_count": 99,
   "id": "b6741ef5-ad7f-45b5-ad0f-4770a4fcb5f4",
   "metadata": {},
   "outputs": [],
   "source": [
    "sliced_co2flux_baseline = ocean_area_sliced * co2flux_weighted_base.co2flux # baseline"
   ]
  },
  {
   "cell_type": "code",
   "execution_count": 100,
   "id": "ee9755d3-369a-4b83-a39e-844cd2aa3044",
   "metadata": {},
   "outputs": [],
   "source": [
    "regridded_co2flux_base = sliced_co2flux_baseline.sum(['x', 'y']) / ocean_area_sliced.sum(['x', 'y'])"
   ]
  },
  {
   "cell_type": "code",
   "execution_count": 101,
   "id": "6864a8fb-a602-4852-bf2a-c67066bd7189",
   "metadata": {},
   "outputs": [],
   "source": [
    "regridded_co2flux_base = regridded_co2flux_base.to_dataset(name='co2flux')"
   ]
  },
  {
   "cell_type": "code",
   "execution_count": 102,
   "id": "700d9f78-6689-424b-ad69-69f556113d63",
   "metadata": {},
   "outputs": [],
   "source": [
    "co2flux_weighted_oae = xr.open_dataset('/Volumes/UnionSine/Cropped_DataTransfer/SSP3_7.0/CO2flux/CO2flux_OAE_7.0_cropped.nc')"
   ]
  },
  {
   "cell_type": "code",
   "execution_count": 103,
   "id": "a8c3fa97-1347-4c5a-8337-ac82e26e4a82",
   "metadata": {},
   "outputs": [],
   "source": [
    "sliced_co2flux_oae = ocean_area_sliced * co2flux_weighted_oae.co2flux # oae"
   ]
  },
  {
   "cell_type": "code",
   "execution_count": 104,
   "id": "b30288b7-6f0d-4444-8e8c-059d417bf53f",
   "metadata": {},
   "outputs": [],
   "source": [
    "regridded_co2flux_oae = sliced_co2flux_oae.sum(['x', 'y']) / ocean_area_sliced.sum(['x', 'y'])"
   ]
  },
  {
   "cell_type": "code",
   "execution_count": 105,
   "id": "db78ec57-e837-4650-b932-a596a6cd2f25",
   "metadata": {},
   "outputs": [],
   "source": [
    "regridded_co2flux_oae = regridded_co2flux_oae.to_dataset(name='co2flux')"
   ]
  },
  {
   "cell_type": "code",
   "execution_count": 106,
   "id": "7d90a9b9-0c30-49ca-a284-02c3a86784cc",
   "metadata": {},
   "outputs": [],
   "source": [
    "base = (co2flux_weighted_base * 31536000 / 3.6667 * ocean_area_sliced)"
   ]
  },
  {
   "cell_type": "code",
   "execution_count": 107,
   "id": "a287cd54-73fd-47f8-b051-f5c5a17442c2",
   "metadata": {},
   "outputs": [],
   "source": [
    "oae = (co2flux_weighted_oae * 31536000 / 3.6667 * ocean_area_sliced)"
   ]
  },
  {
   "cell_type": "code",
   "execution_count": 108,
   "id": "c3c6cc40-baaf-4b33-8d2a-4cb37877b530",
   "metadata": {},
   "outputs": [],
   "source": [
    "diff = ((oae - base) * 1e-12)"
   ]
  },
  {
   "cell_type": "code",
   "execution_count": 109,
   "id": "e7bf4014-0d7d-4ab5-b4ce-fcba75a2c4ac",
   "metadata": {},
   "outputs": [],
   "source": [
    "diff = diff.isel(time=0).sel(time_counter=slice('2090', '2100'))"
   ]
  },
  {
   "cell_type": "code",
   "execution_count": 110,
   "id": "8e62153d-cfca-42b7-984e-c3e64d636184",
   "metadata": {},
   "outputs": [],
   "source": [
    "month_length = diff.time_counter.dt.days_in_month\n",
    "diff_avg = ((diff * month_length).resample(time_counter='M').sum() / month_length.resample(time_counter='M').sum())"
   ]
  },
  {
   "cell_type": "code",
   "execution_count": 111,
   "id": "c294cb11-5600-47e6-9e58-76004b450521",
   "metadata": {},
   "outputs": [],
   "source": [
    "diff_avg = diff_avg.where(diff_avg)"
   ]
  },
  {
   "cell_type": "code",
   "execution_count": 112,
   "id": "ec349366-9c4d-43a3-bfa4-6f6c04a6f226",
   "metadata": {},
   "outputs": [],
   "source": [
    "diff_avg = -(diff_avg.co2flux.mean(dim='time_counter')).to_dataset(name='co2flux')"
   ]
  },
  {
   "cell_type": "code",
   "execution_count": 115,
   "id": "6ecd4290-ca59-4bbe-9eef-0d3c174b0e8d",
   "metadata": {},
   "outputs": [
    {
     "data": {
      "image/png": "[encoded data removed]",
      "text/plain": [
       "<Figure size 600x500 with 2 Axes>"
      ]
     },
     "metadata": {},
     "output_type": "display_data"
    }
   ],
   "source": [
    "plt.figure(figsize=(6, 5))\n",
    "\n",
    "im = diff_avg.co2flux.plot.pcolormesh(\n",
    "    add_colorbar=False, vmin = 0, vmax = 0.0002, cmap='GnBu'\n",
    ")\n",
    "\n",
    "cbar = plt.colorbar(im, aspect = 30, pad=0.04, ticks=[0, 0.00005, 0.0001, 0.00015, 0.0002])\n",
    "cbar.set_label('Δ C [Gt/yr]', fontsize=12)\n",
    "cbar.ax.set_yticklabels(['0', '0.00005', '0.0001', '0.00015', '0.0002'])\n",
    "\n",
    "plt.xlabel(\"x\", fontsize=14)\n",
    "plt.ylabel(\"y\", fontsize=14)\n",
    "plt.tick_params(axis='both', which='major', labelsize=10)\n",
    "plt.title(\"\")\n",
    "\n",
    "for t in cbar.ax.get_yticklabels():\n",
    "     t.set_fontsize(10)\n",
    "        \n",
    "plt.savefig('/Users/chiaraciscato/Desktop/geomar/geomarcode/SSP3_7.0/CO2flux/figs/co2fluxchg70.png')        "
   ]
  },
  {
   "cell_type": "code",
   "execution_count": 93,
   "id": "f3f8d95c-82cb-4438-908e-edbe7fbb6d36",
   "metadata": {},
   "outputs": [],
   "source": [
    "# regridded_co2flux_base.to_netcdf('/Volumes/UnionSine/Cropped_DataTransfer/SSP3_7.0/CO2flux/co2flux_baseline_7.0_weighted.nc')\n",
    "# regridded_co2flux_oae.to_netcdf('/Volumes/UnionSine/Cropped_DataTransfer/SSP3_7.0/CO2flux/co2flux_oae_7.0_weighted.nc')"
   ]
  },
  {
   "cell_type": "code",
   "execution_count": 117,
   "id": "01782d39-9064-4f23-b340-478001c063b0",
   "metadata": {},
   "outputs": [],
   "source": [
    "diff_avg.to_netcdf('/Volumes/UnionSine/Cropped_DataTransfer/SSP3_7.0/CO2flux/co2flux_uptakechng_70.nc')"
   ]
  },
  {
   "cell_type": "markdown",
   "id": "aaf2a4a4-9509-474e-8aa2-d044aad7f931",
   "metadata": {},
   "source": [
    "### Weighted fCO2"
   ]
  },
  {
   "cell_type": "code",
   "execution_count": 31,
   "id": "ef4426f7-55ce-4ea1-83a5-e088263a945b",
   "metadata": {},
   "outputs": [],
   "source": [
    "fco2_weighted_base = xr.open_dataset('/Volumes/UnionSine/Cropped_DataTransfer/SSP3_7.0/FCO2/fco2_baseline_7.0_cropped.nc')"
   ]
  },
  {
   "cell_type": "code",
   "execution_count": 33,
   "id": "5ee46c63-ec19-4123-99f1-2a6952a42b3a",
   "metadata": {},
   "outputs": [],
   "source": [
    "sliced_fco2_baseline = ocean_area_sliced * fco2_weighted_base.fco2 # baseline"
   ]
  },
  {
   "cell_type": "code",
   "execution_count": 34,
   "id": "68af8d3e-2e78-428e-ad26-51ce9142dcf3",
   "metadata": {},
   "outputs": [],
   "source": [
    "regridded_fco2_base = sliced_fco2_baseline.sum(['x', 'y']) / ocean_area_sliced.sum(['x', 'y'])"
   ]
  },
  {
   "cell_type": "code",
   "execution_count": 35,
   "id": "a0e12828-9489-4094-9e14-f644e94cf949",
   "metadata": {},
   "outputs": [],
   "source": [
    "regridded_fco2_base = regridded_fco2_base.to_dataset(name='fco2')"
   ]
  },
  {
   "cell_type": "code",
   "execution_count": 36,
   "id": "c1f74005-ceb5-4fd9-bd02-9ea4cd1498c4",
   "metadata": {},
   "outputs": [],
   "source": [
    "fco2_weighted_oae = xr.open_dataset('/Volumes/UnionSine/Cropped_DataTransfer/SSP3_7.0/FCO2/fco2_OAE_7.0_cropped.nc')"
   ]
  },
  {
   "cell_type": "code",
   "execution_count": 37,
   "id": "3e630c2a-f255-474a-8255-402102b0aef6",
   "metadata": {},
   "outputs": [],
   "source": [
    "sliced_fco2_oae = ocean_area_sliced * fco2_weighted_oae.fco2 # oae"
   ]
  },
  {
   "cell_type": "code",
   "execution_count": 38,
   "id": "00fe75dc-39e2-49e9-abc8-a6f1ec4bef29",
   "metadata": {},
   "outputs": [],
   "source": [
    "regridded_fco2_oae = sliced_fco2_oae.sum(['x', 'y']) / ocean_area_sliced.sum(['x', 'y'])"
   ]
  },
  {
   "cell_type": "code",
   "execution_count": 39,
   "id": "532168db-409e-48c0-88ec-1657a35a585c",
   "metadata": {},
   "outputs": [],
   "source": [
    "regridded_fco2_oae = regridded_fco2_oae.to_dataset(name='fco2')"
   ]
  },
  {
   "cell_type": "code",
   "execution_count": 40,
   "id": "231ddee7-831f-4f5f-ae44-bea48b18a085",
   "metadata": {},
   "outputs": [],
   "source": [
    "# regridded_fco2_base.to_netcdf('/Volumes/UnionSine/Cropped_DataTransfer/SSP3_7.0/FCO2/fco2_baseline_7.0_weighted.nc')\n",
    "# regridded_fco2_oae.to_netcdf('/Volumes/UnionSine/Cropped_DataTransfer/SSP3_7.0/FCO2/fco2_oae_7.0_weighted.nc')"
   ]
  },
  {
   "cell_type": "markdown",
   "id": "cf37e45b-4852-498f-9cdb-cd6fc5b01607",
   "metadata": {},
   "source": [
    "### Weighted pH"
   ]
  },
  {
   "cell_type": "code",
   "execution_count": 41,
   "id": "16a6cd28-504a-4ef4-998a-4a95149ce647",
   "metadata": {},
   "outputs": [],
   "source": [
    "ph_weighted_base = xr.open_dataset('/Volumes/UnionSine/Cropped_DataTransfer/SSP3_7.0/pH/ph_baseline_7.0_cropped.nc')"
   ]
  },
  {
   "cell_type": "code",
   "execution_count": 43,
   "id": "44b418a5-52c5-4322-ad4f-083a27800496",
   "metadata": {},
   "outputs": [],
   "source": [
    "sliced_ph_baseline = ocean_area_sliced * ph_weighted_base.ph # baseline"
   ]
  },
  {
   "cell_type": "code",
   "execution_count": 44,
   "id": "ce164fbb-939e-49a2-9034-f2719c3112ca",
   "metadata": {},
   "outputs": [],
   "source": [
    "regridded_ph_base = sliced_ph_baseline.sum(['x', 'y']) / ocean_area_sliced.sum(['x', 'y'])"
   ]
  },
  {
   "cell_type": "code",
   "execution_count": 45,
   "id": "e57975b8-c030-48d7-b54f-9465e548af34",
   "metadata": {},
   "outputs": [],
   "source": [
    "regridded_ph_base = regridded_ph_base.to_dataset(name='ph')"
   ]
  },
  {
   "cell_type": "code",
   "execution_count": 46,
   "id": "7c9b4fd7-4d7a-4368-9141-f7410f6e5a21",
   "metadata": {},
   "outputs": [],
   "source": [
    "ph_weighted_oae = xr.open_dataset('/Volumes/UnionSine/Cropped_DataTransfer/SSP3_7.0/pH/ph_OAE_7.0_cropped.nc')"
   ]
  },
  {
   "cell_type": "code",
   "execution_count": 47,
   "id": "90f26af5-11f4-4a4e-8f2b-6caef2682227",
   "metadata": {},
   "outputs": [],
   "source": [
    "sliced_ph_oae = ocean_area_sliced * ph_weighted_oae.ph # oae"
   ]
  },
  {
   "cell_type": "code",
   "execution_count": 48,
   "id": "6c3d34d0-dcb3-4bca-b17c-80f293e9c626",
   "metadata": {},
   "outputs": [],
   "source": [
    "regridded_ph_oae = sliced_ph_oae.sum(['x', 'y']) / ocean_area_sliced.sum(['x', 'y'])"
   ]
  },
  {
   "cell_type": "code",
   "execution_count": 49,
   "id": "f4055de0-8736-4ed2-9998-ff87b7eee83d",
   "metadata": {},
   "outputs": [],
   "source": [
    "regridded_ph_oae = regridded_ph_oae.to_dataset(name='ph')"
   ]
  },
  {
   "cell_type": "code",
   "execution_count": 50,
   "id": "43325a10-4f05-4b8a-97c7-baf48f23895a",
   "metadata": {},
   "outputs": [],
   "source": [
    "# regridded_ph_base.to_netcdf('/Volumes/UnionSine/Cropped_DataTransfer/SSP3_7.0/pH/ph_baseline_7.0_weighted.nc')\n",
    "# regridded_ph_oae.to_netcdf('/Volumes/UnionSine/Cropped_DataTransfer/SSP3_7.0/pH/ph_oae_7.0_weighted.nc')"
   ]
  },
  {
   "cell_type": "code",
   "execution_count": null,
   "id": "356f2301-d0b6-4cd8-bafa-435012d43c7c",
   "metadata": {},
   "outputs": [],
   "source": []
  }
 ],
 "metadata": {
  "kernelspec": {
   "display_name": "geomar",
   "language": "python",
   "name": "geomar"
  },
  "language_info": {
   "codemirror_mode": {
    "name": "ipython",
    "version": 3
   },
   "file_extension": ".py",
   "mimetype": "text/x-python",
   "name": "python",
   "nbconvert_exporter": "python",
   "pygments_lexer": "ipython3",
   "version": "3.7.12"
  }
 },
 "nbformat": 4,
 "nbformat_minor": 5
}
