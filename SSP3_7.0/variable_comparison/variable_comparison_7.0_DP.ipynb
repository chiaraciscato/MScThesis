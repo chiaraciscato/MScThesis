{
 "cells": [
  {
   "cell_type": "raw",
   "id": "eaf7d7fc-ec91-496b-89c0-d9c5611f3db0",
   "metadata": {},
   "source": [
    "---\n",
    "title: \"variable_comparison_7.0_DataPoint\"\n",
    "author: \"cciscato\"\n",
    "date: \"15/02/2023\"\n",
    "format: \n",
    "  html:\n",
    "    embed-resources: true\n",
    "    theme:\n",
    "              light: flatly\n",
    "              dark: darkly\n",
    "    toc: true\n",
    "    code-fold: true\n",
    "execute:\n",
    "  warning: false\n",
    "jupyter: python3\n",
    "---"
   ]
  },
  {
   "cell_type": "code",
   "execution_count": 141,
   "id": "b00b2cfc-e62a-4735-b2a9-7feb7837e44f",
   "metadata": {
    "tags": []
   },
   "outputs": [],
   "source": [
    "import netCDF4 as nc\n",
    "from netCDF4 import Dataset\n",
    "import matplotlib as mpl\n",
    "import matplotlib.pyplot as plt\n",
    "import matplotlib.patches as mpatches\n",
    "import xarray as xr\n",
    "import numpy as np\n",
    "import pandas as pd\n",
    "import calendar\n",
    "import seaborn as sns\n",
    "import seaborn_image as isns"
   ]
  },
  {
   "cell_type": "code",
   "execution_count": 142,
   "id": "21843ec7-cdc4-41e4-83a9-7b160a4ffbfb",
   "metadata": {},
   "outputs": [],
   "source": [
    "import plotly.graph_objects as go\n",
    "import plotly.express as px"
   ]
  },
  {
   "cell_type": "code",
   "execution_count": 143,
   "id": "bce8d776-cde1-4b40-a222-1d3d976cb396",
   "metadata": {},
   "outputs": [],
   "source": [
    "import plotly.io as pio\n",
    "pio.renderers.default='jupyterlab'"
   ]
  },
  {
   "cell_type": "code",
   "execution_count": 144,
   "id": "716ba060-5a7b-4d0c-b596-41143d5de9a9",
   "metadata": {},
   "outputs": [],
   "source": [
    "plt.style.use('seaborn-pastel')\n",
    "isns.set_context(mode=\"notebook\", fontfamily=\"Times\")\n",
    "sns.set_context(font_scale=0.8)"
   ]
  },
  {
   "cell_type": "markdown",
   "id": "e73c0053-f479-4dd3-bae7-b647342e6211",
   "metadata": {},
   "source": [
    "### ƒCO2 against DIC - Baseline"
   ]
  },
  {
   "cell_type": "code",
   "execution_count": 145,
   "id": "e596c144-4e6d-4dd9-8b81-7df1cdff1fcc",
   "metadata": {},
   "outputs": [],
   "source": [
    "dic_baseline = xr.open_dataset('/Users/chiaraciscato/Desktop/geomar/Cropped_DataTransfer/SSP3_7.0/Alk&DIC/DIC&ALK_Baseline_7.0_cropped.nc', decode_times=True).sel(deptht=slice(0, 50))"
   ]
  },
  {
   "cell_type": "code",
   "execution_count": 146,
   "id": "1821fc80-fdfb-4ef8-b664-29ea7a719529",
   "metadata": {},
   "outputs": [],
   "source": [
    "fco2_baseline = xr.open_dataset('/Users/chiaraciscato/Desktop/geomar/Cropped_DataTransfer/SSP3_7.0/FCO2/fco2_baseline_7.0_cropped.nc')"
   ]
  },
  {
   "cell_type": "code",
   "execution_count": 147,
   "id": "0871cf03-d10f-4e02-ad18-c7fc1af05e3b",
   "metadata": {},
   "outputs": [],
   "source": [
    "alk_baseline = xr.open_dataset('/Users/chiaraciscato/Desktop/geomar/Cropped_DataTransfer/SSP3_7.0/Alk&DIC/DIC&ALK_Baseline_7.0_cropped.nc', decode_times=True).sel(deptht=slice(0, 50))"
   ]
  },
  {
   "cell_type": "code",
   "execution_count": 148,
   "id": "3ed1f045-439c-4a55-8b3e-b1004819568d",
   "metadata": {},
   "outputs": [],
   "source": [
    "co2flux_baseline = xr.open_dataset('/Users/chiaraciscato/Desktop/geomar/Cropped_DataTransfer/SSP3_7.0/CO2flux/CO2flux_Baseline_7.0_cropped.nc')"
   ]
  },
  {
   "cell_type": "code",
   "execution_count": 149,
   "id": "3f163ef1-1ecd-4f50-9655-27d77c0877f8",
   "metadata": {
    "tags": []
   },
   "outputs": [],
   "source": [
    "ph_baseline = xr.open_dataset('/Users/chiaraciscato/Desktop/geomar/Cropped_DataTransfer/SSP3_7.0/pH/ph_baseline_7.0_cropped.nc')"
   ]
  },
  {
   "cell_type": "code",
   "execution_count": 150,
   "id": "737b161a-835a-4792-9878-278951d57e23",
   "metadata": {},
   "outputs": [],
   "source": [
    "dic_baseline = dic_baseline.where((3 < dic_baseline.nav_lon) & (dic_baseline.nav_lon < 4) & (52 < dic_baseline.nav_lat) & (dic_baseline.nav_lat < 53), drop=True)"
   ]
  },
  {
   "cell_type": "code",
   "execution_count": 151,
   "id": "5a5d335a-e596-4a23-9890-7a73b619cd94",
   "metadata": {},
   "outputs": [],
   "source": [
    "fco2_baseline = fco2_baseline.where((3 < fco2_baseline.nav_lon) & (fco2_baseline.nav_lon < 4) & (52 < fco2_baseline.nav_lat) & (fco2_baseline.nav_lat < 53), drop=True)"
   ]
  },
  {
   "cell_type": "code",
   "execution_count": 152,
   "id": "1bab3db4-8508-486f-8019-8e802c89b033",
   "metadata": {},
   "outputs": [],
   "source": [
    "co2flux_baseline = co2flux_baseline.where((3 < co2flux_baseline.nav_lon) & (co2flux_baseline.nav_lon < 4) & (52 < co2flux_baseline.nav_lat) & (co2flux_baseline.nav_lat < 53), drop=True)"
   ]
  },
  {
   "cell_type": "code",
   "execution_count": 153,
   "id": "7ce38a52-8902-4e61-920a-7d830fbf93cd",
   "metadata": {},
   "outputs": [],
   "source": [
    "ph_baseline = ph_baseline.where((3 < ph_baseline.nav_lon) & (ph_baseline.nav_lon < 4) & (52 < ph_baseline.nav_lat) & (ph_baseline.nav_lat < 53), drop=True)"
   ]
  },
  {
   "cell_type": "code",
   "execution_count": 154,
   "id": "1e9ec9fe-e2ff-415f-9ca3-44d31562d892",
   "metadata": {},
   "outputs": [],
   "source": [
    "alk_baseline = alk_baseline.where((3 < alk_baseline.nav_lon) & (alk_baseline.nav_lon < 4) & (52 < alk_baseline.nav_lat) & (alk_baseline.nav_lat < 53), drop=True)"
   ]
  },
  {
   "cell_type": "code",
   "execution_count": 155,
   "id": "4e105e0b-fbe4-455f-82ed-6faf423daa1d",
   "metadata": {},
   "outputs": [],
   "source": [
    "dic_baseline = dic_baseline.where(dic_baseline)"
   ]
  },
  {
   "cell_type": "code",
   "execution_count": 156,
   "id": "e79421f0-411f-42b3-a1ef-682626589563",
   "metadata": {},
   "outputs": [],
   "source": [
    "fco2_baseline = fco2_baseline.fco2[0,:]\n",
    "fco2_baseline = fco2_baseline.to_dataset(name='fco2')"
   ]
  },
  {
   "cell_type": "code",
   "execution_count": 157,
   "id": "ec6c2d41-cb59-4ea9-86a1-eea4e0c4860a",
   "metadata": {},
   "outputs": [],
   "source": [
    "start_date = \"2090-01-01\"\n",
    "end_date = \"2100-01-01\"\n",
    "\n",
    "fco2_frame_baseline = fco2_baseline.sel(time_counter=slice(start_date, end_date))\n",
    "fco2_frame_baseline = fco2_frame_baseline.fco2.mean(dim=('y', 'x'))"
   ]
  },
  {
   "cell_type": "code",
   "execution_count": 158,
   "id": "a9b7cd0e-3f86-478d-8a51-15583e2eefbd",
   "metadata": {},
   "outputs": [],
   "source": [
    "start_date = \"2090-01-01\"\n",
    "end_date = \"2100-01-01\"\n",
    "\n",
    "dic_frame_baseline = dic_baseline.sel(time_counter=slice(start_date, end_date))\n",
    "dic_frame_baseline = dic_frame_baseline.DIC.mean(dim=('y', 'x', 'deptht'))"
   ]
  },
  {
   "cell_type": "code",
   "execution_count": 159,
   "id": "6b29c796-055d-44b4-81fa-405ca8ee6bef",
   "metadata": {},
   "outputs": [],
   "source": [
    "fco2_frame_baseline = fco2_frame_baseline.to_dataframe('fco2')\n",
    "dic_frame_baseline = dic_frame_baseline.to_dataframe('DIC')"
   ]
  },
  {
   "cell_type": "code",
   "execution_count": 160,
   "id": "125800d5-3944-4afd-a050-d492f9521886",
   "metadata": {},
   "outputs": [],
   "source": [
    "mean_dic_baseline = dic_frame_baseline.groupby(dic_frame_baseline.index.month).DIC.mean()\n",
    "mean_dic_baseline = mean_dic_baseline.reset_index()\n",
    "mean_dic_baseline['time_counter'] = mean_dic_baseline['time_counter'].apply(lambda x: calendar.month_abbr[x])\n",
    "mean_dic_baseline = mean_dic_baseline.set_index('time_counter')"
   ]
  },
  {
   "cell_type": "code",
   "execution_count": 161,
   "id": "453af1b1-affd-49b4-9429-f0092c468ef4",
   "metadata": {},
   "outputs": [],
   "source": [
    "mean_fco2_baseline = fco2_frame_baseline.groupby(fco2_frame_baseline.index.month).fco2.mean()\n",
    "mean_fco2_baseline = mean_fco2_baseline.reset_index()\n",
    "mean_fco2_baseline['time_counter']= mean_fco2_baseline['time_counter'].apply(lambda x: calendar.month_abbr[x])\n",
    "mean_fco2_baseline = mean_fco2_baseline.set_index('time_counter')"
   ]
  },
  {
   "cell_type": "code",
   "execution_count": 162,
   "id": "6f26b2bc-1c42-43af-9755-522f7f3e5a21",
   "metadata": {},
   "outputs": [],
   "source": [
    "alk_baseline = alk_baseline.where(alk_baseline)"
   ]
  },
  {
   "cell_type": "code",
   "execution_count": 163,
   "id": "402f4eff-903f-4cc5-abe3-876852f43cc5",
   "metadata": {},
   "outputs": [],
   "source": [
    "start_date = \"2090-01-01\"\n",
    "end_date = \"2100-01-01\"\n",
    "\n",
    "alk_frame_baseline = alk_baseline.sel(time_counter=slice(start_date, end_date))\n",
    "alk_frame_baseline = alk_frame_baseline.ALK.mean(dim=('y', 'x', 'deptht'))"
   ]
  },
  {
   "cell_type": "code",
   "execution_count": 164,
   "id": "7473325a-f757-4378-86ee-5eb88e48462a",
   "metadata": {},
   "outputs": [],
   "source": [
    "alk_frame_baseline = alk_frame_baseline.to_dataframe('ALK')"
   ]
  },
  {
   "cell_type": "code",
   "execution_count": 165,
   "id": "acc74fdf-11aa-44ac-8984-574ae80460f7",
   "metadata": {},
   "outputs": [],
   "source": [
    "mean_alk_baseline = alk_frame_baseline.groupby(alk_frame_baseline.index.month).ALK.mean()\n",
    "mean_alk_baseline = mean_alk_baseline.reset_index()\n",
    "mean_alk_baseline['time_counter']= mean_alk_baseline['time_counter'].apply(lambda x: calendar.month_abbr[x])\n",
    "mean_alk_baseline = mean_alk_baseline.set_index('time_counter')"
   ]
  },
  {
   "cell_type": "code",
   "execution_count": 166,
   "id": "dbce2177-1992-4e77-86cb-dc885ea34386",
   "metadata": {
    "tags": []
   },
   "outputs": [],
   "source": [
    "co2flux_baseline = co2flux_baseline.co2flux * 31536000\n",
    "co2flux_baseline = co2flux_baseline / 0.04401 # mol/m2/yr CO2"
   ]
  },
  {
   "cell_type": "code",
   "execution_count": 167,
   "id": "3e14656f-487f-4273-8ab4-3bb0b0121023",
   "metadata": {},
   "outputs": [],
   "source": [
    "co2flux_baseline = co2flux_baseline.to_dataset(name='co2flux')"
   ]
  },
  {
   "cell_type": "code",
   "execution_count": 168,
   "id": "42ad0bee-0ec3-4912-a17f-5bec452f5d04",
   "metadata": {
    "tags": []
   },
   "outputs": [],
   "source": [
    "co2flux_baseline = co2flux_baseline.co2flux[0,:]\n",
    "co2flux_baseline = co2flux_baseline.to_dataset(name='co2flux')"
   ]
  },
  {
   "cell_type": "code",
   "execution_count": 169,
   "id": "31e183e1-3234-4d14-a3d5-ed6995e4e7d7",
   "metadata": {},
   "outputs": [],
   "source": [
    "start_date = \"2090-01-01\"\n",
    "end_date = \"2100-01-01\"\n",
    "\n",
    "co2flux_frame_baseline = co2flux_baseline.sel(time_counter=slice(start_date, end_date))\n",
    "co2flux_frame_baseline = co2flux_frame_baseline.co2flux.mean(dim=('y', 'x'))"
   ]
  },
  {
   "cell_type": "code",
   "execution_count": 170,
   "id": "7797a978-72b6-4d6e-90fc-41037690b3fb",
   "metadata": {},
   "outputs": [],
   "source": [
    "co2flux_frame_baseline = co2flux_frame_baseline.to_dataframe('co2flux')"
   ]
  },
  {
   "cell_type": "code",
   "execution_count": 171,
   "id": "7d47f402-71cb-4599-b961-320dd670eea4",
   "metadata": {},
   "outputs": [],
   "source": [
    "mean_co2flux_baseline = co2flux_frame_baseline.groupby(co2flux_frame_baseline.index.month).co2flux.mean()\n",
    "mean_co2flux_baseline = mean_co2flux_baseline.reset_index()\n",
    "mean_co2flux_baseline['time_counter']= mean_co2flux_baseline['time_counter'].apply(lambda x: calendar.month_abbr[x])\n",
    "mean_co2flux_baseline = mean_co2flux_baseline.set_index('time_counter')"
   ]
  },
  {
   "cell_type": "code",
   "execution_count": 172,
   "id": "569c1597-e5d7-476e-89f4-2147dc861e73",
   "metadata": {
    "tags": []
   },
   "outputs": [],
   "source": [
    "ph_baseline = ph_baseline.ph[0,:]\n",
    "ph_baseline = ph_baseline.to_dataset(name='ph')"
   ]
  },
  {
   "cell_type": "code",
   "execution_count": 173,
   "id": "92e0eea8-21b7-47d9-b29a-0c59fcc7c0cd",
   "metadata": {},
   "outputs": [],
   "source": [
    "start_date = \"2090-01-01\"\n",
    "end_date = \"2100-01-01\"\n",
    "\n",
    "ph_frame_baseline = ph_baseline.sel(time_counter=slice(start_date, end_date))\n",
    "ph_frame_baseline = ph_frame_baseline.ph.mean(dim=('y', 'x'))"
   ]
  },
  {
   "cell_type": "code",
   "execution_count": 174,
   "id": "25a20d2e-0ebf-4929-8f7d-fc86124fdc67",
   "metadata": {},
   "outputs": [],
   "source": [
    "ph_frame_baseline = ph_frame_baseline.to_dataframe('ph')"
   ]
  },
  {
   "cell_type": "code",
   "execution_count": 175,
   "id": "3ae1cd02-fc59-4a99-836b-f0194f6f5030",
   "metadata": {
    "tags": []
   },
   "outputs": [],
   "source": [
    "mean_ph_baseline = ph_frame_baseline.groupby(ph_frame_baseline.index.month).ph.mean()\n",
    "mean_ph_baseline = mean_ph_baseline.reset_index()\n",
    "mean_ph_baseline['time_counter'] = mean_ph_baseline['time_counter'].apply(lambda x: calendar.month_abbr[x])\n",
    "mean_ph_baseline = mean_ph_baseline.set_index('time_counter')"
   ]
  },
  {
   "cell_type": "code",
   "execution_count": 176,
   "id": "0b704a4e-ddb4-4efc-9f47-816128f2a710",
   "metadata": {},
   "outputs": [
    {
     "data": {
      "image/png": "[encoded data removed]",
      "text/plain": [
       "<Figure size 400x400 with 5 Axes>"
      ]
     },
     "metadata": {},
     "output_type": "display_data"
    }
   ],
   "source": [
    "fig = plt.figure(figsize=(4, 4))\n",
    "ax = fig.add_subplot(111, label=\"1\", frame_on=True)\n",
    "ax2 = fig.add_subplot(111, label=\"2\", frame_on=False)\n",
    "ax3 = fig.add_subplot(111, label=\"3\", frame_on=False)\n",
    "ax4 = fig.add_subplot(111, label=\"4\", frame_on=False)\n",
    "ax5 = fig.add_subplot(111, label=\"5\", frame_on=False)\n",
    "\n",
    "ax.plot(mean_alk_baseline.index, mean_alk_baseline.ALK, linewidth=1, color=\"lightsteelblue\", label = 'Alkalinity')\n",
    "ax.set_xticks([], [])\n",
    "\n",
    "ax2.plot(mean_co2flux_baseline.index, mean_co2flux_baseline.co2flux, linewidth=1, color=\"chocolate\", label = 'CO2 flux')\n",
    "ax2.set_xticks([], [])\n",
    "\n",
    "ax3.plot(mean_dic_baseline.index, mean_dic_baseline.DIC, linewidth=1, color=\"c\", label = 'DIC')\n",
    "ax3.set_xticks([], [])\n",
    "\n",
    "ax4.plot(mean_fco2_baseline.index, mean_fco2_baseline.fco2, linewidth=1, color=\"goldenrod\", label = 'ƒCO2')\n",
    "ax4.tick_params(axis='both', which='major', labelsize=10)\n",
    "\n",
    "ax5.plot(mean_ph_baseline.index, mean_ph_baseline.ph, linewidth=1, color=\"seagreen\", label = 'pH')\n",
    "ax5.tick_params(axis='both', which='major', labelsize=10)\n",
    "\n",
    "axl = [ax, ax2, ax3, ax4, ax5]\n",
    "\n",
    "for x in axl:\n",
    "    x.set_yticks([], [])\n",
    "\n",
    "fig.legend(bbox_to_anchor=(0.9, 0.9), loc='upper left', fontsize=8)\n",
    "\n",
    "pass\n",
    "\n",
    "plt.savefig('/Users/chiaraciscato/Desktop/geomar/geomarcode/SSP3_7.0/variable_comparison_baseline_datapoint.png')"
   ]
  },
  {
   "cell_type": "code",
   "execution_count": 177,
   "id": "899c5998-224a-475c-889c-6e80e7430512",
   "metadata": {},
   "outputs": [],
   "source": [
    "co2flux_oae = xr.open_dataset('/Users/chiaraciscato/Desktop/geomar/Cropped_DataTransfer/SSP3_7.0/CO2flux/CO2flux_OAE_7.0_cropped.nc')"
   ]
  },
  {
   "cell_type": "code",
   "execution_count": 178,
   "id": "60313df2-081b-4abc-b1cf-c81e1cdd23c2",
   "metadata": {},
   "outputs": [],
   "source": [
    "ph_oae = xr.open_dataset('/Users/chiaraciscato/Desktop/geomar/Cropped_DataTransfer/SSP3_7.0/pH/ph_OAE_7.0_cropped.nc')"
   ]
  },
  {
   "cell_type": "code",
   "execution_count": 179,
   "id": "1db24d3d-6536-43e5-b0c9-d82d9b61c828",
   "metadata": {},
   "outputs": [],
   "source": [
    "alk_oae = xr.open_dataset('/Users/chiaraciscato/Desktop/geomar/Cropped_DataTransfer/SSP3_7.0/Alk&DIC/DIC&ALK_OAE_7.0_cropped.nc', decode_times=True).sel(deptht=slice(0, 50))"
   ]
  },
  {
   "cell_type": "code",
   "execution_count": 180,
   "id": "9ee8c8f0-50bb-43c5-a96d-c982769e61b8",
   "metadata": {},
   "outputs": [],
   "source": [
    "dic_oae = xr.open_dataset('/Users/chiaraciscato/Desktop/geomar/Cropped_DataTransfer/SSP3_7.0/Alk&DIC/DIC&ALK_OAE_7.0_cropped.nc', decode_times=True).sel(deptht=slice(0, 50))"
   ]
  },
  {
   "cell_type": "code",
   "execution_count": 181,
   "id": "9678a774-d085-4a5e-9c8d-8a2485e2f594",
   "metadata": {},
   "outputs": [],
   "source": [
    "fco2_oae = xr.open_dataset('/Users/chiaraciscato/Desktop/geomar/Cropped_DataTransfer/SSP3_7.0/FCO2/fco2_OAE_7.0_cropped.nc')"
   ]
  },
  {
   "cell_type": "code",
   "execution_count": 182,
   "id": "21a8378a-bb9e-4b24-ae86-8fa77a31f9bb",
   "metadata": {},
   "outputs": [],
   "source": [
    "dic_oae = dic_oae.where((3 < dic_oae.nav_lon) & (dic_oae.nav_lon < 4) & (52 < dic_oae.nav_lat) & (dic_oae.nav_lat < 53), drop=True)"
   ]
  },
  {
   "cell_type": "code",
   "execution_count": 183,
   "id": "5eb48b34-bebe-4532-bbe1-b26ba542dc40",
   "metadata": {},
   "outputs": [],
   "source": [
    "fco2_oae = fco2_oae.where((3 < fco2_oae.nav_lon) & (fco2_oae.nav_lon < 4) & (52 < fco2_oae.nav_lat) & (fco2_oae.nav_lat < 53), drop=True)"
   ]
  },
  {
   "cell_type": "code",
   "execution_count": 184,
   "id": "5409436b-6e8f-4593-8a78-9141d8650e63",
   "metadata": {},
   "outputs": [],
   "source": [
    "co2flux_oae = co2flux_oae.where((3 < co2flux_oae.nav_lon) & (co2flux_oae.nav_lon < 4) & (52 < co2flux_oae.nav_lat) & (co2flux_oae.nav_lat < 53), drop=True)"
   ]
  },
  {
   "cell_type": "code",
   "execution_count": 185,
   "id": "ca3daa25-85fa-4e63-bb31-63f694951d5f",
   "metadata": {},
   "outputs": [],
   "source": [
    "ph_oae = ph_oae.where((3 < ph_oae.nav_lon) & (ph_oae.nav_lon < 4) & (52 < ph_oae.nav_lat) & (ph_oae.nav_lat < 53), drop=True)"
   ]
  },
  {
   "cell_type": "code",
   "execution_count": 186,
   "id": "c6c9629d-0c84-486d-ba92-0dcaeb53952a",
   "metadata": {},
   "outputs": [],
   "source": [
    "alk_oae = alk_oae.where((3 < alk_oae.nav_lon) & (alk_oae.nav_lon < 4) & (52 < alk_oae.nav_lat) & (alk_oae.nav_lat < 53), drop=True)"
   ]
  },
  {
   "cell_type": "code",
   "execution_count": 187,
   "id": "31e23404-03dd-4367-bf76-0292663d22ab",
   "metadata": {},
   "outputs": [],
   "source": [
    "dic_oae = dic_oae.where(dic_oae)"
   ]
  },
  {
   "cell_type": "code",
   "execution_count": 188,
   "id": "a2429073-2049-446b-b292-aeff3829f738",
   "metadata": {},
   "outputs": [],
   "source": [
    "fco2_oae = fco2_oae.fco2[0,:]\n",
    "fco2_oae = fco2_oae.to_dataset(name='fco2')"
   ]
  },
  {
   "cell_type": "code",
   "execution_count": 189,
   "id": "5fe80f47-10d2-4df9-9577-086442052bf4",
   "metadata": {},
   "outputs": [],
   "source": [
    "start_date = \"2090-01-01\"\n",
    "end_date = \"2100-01-01\"\n",
    "\n",
    "fco2_frame_oae = fco2_oae.sel(time_counter=slice(start_date, end_date))\n",
    "fco2_frame_oae = fco2_frame_oae.fco2.mean(dim=('y', 'x'))"
   ]
  },
  {
   "cell_type": "code",
   "execution_count": 190,
   "id": "dc68144b-3662-4139-8217-9b8ef565aaaf",
   "metadata": {},
   "outputs": [],
   "source": [
    "start_date = \"2090-01-01\"\n",
    "end_date = \"2100-01-01\"\n",
    "\n",
    "dic_frame_oae = dic_oae.sel(time_counter=slice(start_date, end_date))\n",
    "dic_frame_oae = dic_frame_oae.DIC.mean(dim=('y', 'x', 'deptht'))"
   ]
  },
  {
   "cell_type": "code",
   "execution_count": 191,
   "id": "eb87c6d4-faaa-4cf1-9df9-f117196083c2",
   "metadata": {},
   "outputs": [],
   "source": [
    "fco2_frame_oae = fco2_frame_oae.to_dataframe('fco2')\n",
    "dic_frame_oae = dic_frame_oae.to_dataframe('DIC')"
   ]
  },
  {
   "cell_type": "code",
   "execution_count": 192,
   "id": "2e813598-92b9-432a-a28d-7a822f464f54",
   "metadata": {},
   "outputs": [],
   "source": [
    "mean_dic_oae = dic_frame_oae.groupby(dic_frame_oae.index.month).DIC.mean()\n",
    "mean_dic_oae = mean_dic_oae.reset_index()\n",
    "mean_dic_oae['time_counter'] = mean_dic_oae['time_counter'].apply(lambda x: calendar.month_abbr[x])\n",
    "mean_dic_oae = mean_dic_oae.set_index('time_counter')"
   ]
  },
  {
   "cell_type": "code",
   "execution_count": 193,
   "id": "5e0619f5-ecc4-48b6-8ce9-3bf890bb23f3",
   "metadata": {},
   "outputs": [],
   "source": [
    "mean_fco2_oae = fco2_frame_oae.groupby(fco2_frame_oae.index.month).fco2.mean()\n",
    "mean_fco2_oae = mean_fco2_oae.reset_index()\n",
    "mean_fco2_oae['time_counter']= mean_fco2_oae['time_counter'].apply(lambda x: calendar.month_abbr[x])\n",
    "mean_fco2_oae = mean_fco2_oae.set_index('time_counter')"
   ]
  },
  {
   "cell_type": "code",
   "execution_count": 194,
   "id": "d9f095f5-f091-4058-801b-af34fcf0eb9c",
   "metadata": {},
   "outputs": [],
   "source": [
    "alk_oae = alk_oae.where(alk_oae)"
   ]
  },
  {
   "cell_type": "code",
   "execution_count": 195,
   "id": "c2ae7981-ca98-4978-9d0d-587ea128b969",
   "metadata": {},
   "outputs": [],
   "source": [
    "start_date = \"2090-01-01\"\n",
    "end_date = \"2100-01-01\"\n",
    "\n",
    "alk_frame_oae = alk_oae.sel(time_counter=slice(start_date, end_date))\n",
    "alk_frame_oae = alk_frame_oae.ALK.mean(dim=('y', 'x', 'deptht'))"
   ]
  },
  {
   "cell_type": "code",
   "execution_count": 196,
   "id": "9c10a8a1-397e-4005-baa4-a9bcf8e86555",
   "metadata": {},
   "outputs": [],
   "source": [
    "alk_frame_oae = alk_frame_oae.to_dataframe('ALK')"
   ]
  },
  {
   "cell_type": "code",
   "execution_count": 197,
   "id": "fa28c72a-8ccc-4b7e-b177-376d93ac5645",
   "metadata": {},
   "outputs": [],
   "source": [
    "mean_alk_oae = alk_frame_oae.groupby(alk_frame_oae.index.month).ALK.mean()\n",
    "mean_alk_oae = mean_alk_oae.reset_index()\n",
    "mean_alk_oae['time_counter']= mean_alk_oae['time_counter'].apply(lambda x: calendar.month_abbr[x])\n",
    "mean_alk_oae = mean_alk_oae.set_index('time_counter')"
   ]
  },
  {
   "cell_type": "code",
   "execution_count": 198,
   "id": "0961e4e8-0278-4e0a-9f07-7b2c45a585f8",
   "metadata": {
    "tags": []
   },
   "outputs": [],
   "source": [
    "co2flux_oae = co2flux_oae.co2flux * 31536000\n",
    "co2flux_oae = co2flux_oae / 0.04401 # mol/m2/yr CO2"
   ]
  },
  {
   "cell_type": "code",
   "execution_count": 199,
   "id": "dbcd0eb0-ac66-47ce-b4d5-206f9f573e88",
   "metadata": {},
   "outputs": [],
   "source": [
    "co2flux_oae = co2flux_oae.to_dataset(name='co2flux')"
   ]
  },
  {
   "cell_type": "code",
   "execution_count": 200,
   "id": "906a884b-da7d-4e7a-9ce8-38dfd6c7cd5b",
   "metadata": {
    "tags": []
   },
   "outputs": [],
   "source": [
    "co2flux_oae = co2flux_oae.co2flux[0,:]\n",
    "co2flux_oae = co2flux_oae.to_dataset(name='co2flux')"
   ]
  },
  {
   "cell_type": "code",
   "execution_count": 201,
   "id": "8fd0ef9d-b2ba-4874-958f-a413f67c3d73",
   "metadata": {},
   "outputs": [],
   "source": [
    "start_date = \"2090-01-01\"\n",
    "end_date = \"2100-01-01\"\n",
    "\n",
    "co2flux_frame_oae = co2flux_oae.sel(time_counter=slice(start_date, end_date))\n",
    "co2flux_frame_oae = co2flux_frame_oae.co2flux.mean(dim=('y', 'x'))"
   ]
  },
  {
   "cell_type": "code",
   "execution_count": 202,
   "id": "bb60fff1-7974-4e5a-9023-40bd1f91782f",
   "metadata": {},
   "outputs": [],
   "source": [
    "co2flux_frame_oae = co2flux_frame_oae.to_dataframe('co2flux')"
   ]
  },
  {
   "cell_type": "code",
   "execution_count": 203,
   "id": "1174104a-b2f5-4ecc-a242-28045f010ea9",
   "metadata": {},
   "outputs": [],
   "source": [
    "mean_co2flux_oae = co2flux_frame_oae.groupby(co2flux_frame_oae.index.month).co2flux.mean()\n",
    "mean_co2flux_oae = mean_co2flux_oae.reset_index()\n",
    "mean_co2flux_oae['time_counter']= mean_co2flux_oae['time_counter'].apply(lambda x: calendar.month_abbr[x])\n",
    "mean_co2flux_oae = mean_co2flux_oae.set_index('time_counter')"
   ]
  },
  {
   "cell_type": "code",
   "execution_count": 204,
   "id": "aeb69d6a-6714-4cd1-a4fb-c319bcc05df6",
   "metadata": {
    "tags": []
   },
   "outputs": [],
   "source": [
    "ph_oae = ph_oae.ph[0,:]\n",
    "ph_oae = ph_oae.to_dataset(name='ph')"
   ]
  },
  {
   "cell_type": "code",
   "execution_count": 205,
   "id": "8607f73c-a992-4fb9-bed3-b3358e2a7ed7",
   "metadata": {},
   "outputs": [],
   "source": [
    "start_date = \"2090-01-01\"\n",
    "end_date = \"2100-01-01\"\n",
    "\n",
    "ph_frame_oae = ph_oae.sel(time_counter=slice(start_date, end_date))\n",
    "ph_frame_oae = ph_frame_oae.ph.mean(dim=('y', 'x'))"
   ]
  },
  {
   "cell_type": "code",
   "execution_count": 206,
   "id": "33675a27-55be-4030-9009-9b6c28b75081",
   "metadata": {},
   "outputs": [],
   "source": [
    "ph_frame_oae = ph_frame_oae.to_dataframe('ph')"
   ]
  },
  {
   "cell_type": "code",
   "execution_count": 207,
   "id": "f257ac55-db2a-4559-b827-466a862ea28f",
   "metadata": {
    "tags": []
   },
   "outputs": [],
   "source": [
    "mean_ph_oae = ph_frame_oae.groupby(ph_frame_oae.index.month).ph.mean()\n",
    "mean_ph_oae = mean_ph_oae.reset_index()\n",
    "mean_ph_oae['time_counter'] = mean_ph_oae['time_counter'].apply(lambda x: calendar.month_abbr[x])\n",
    "mean_ph_oae = mean_ph_oae.set_index('time_counter')"
   ]
  },
  {
   "cell_type": "code",
   "execution_count": 208,
   "id": "949ff6d7-ae54-4fcf-884f-ec2449f2b919",
   "metadata": {},
   "outputs": [
    {
     "data": {
      "image/png": "[encoded data removed]",
      "text/plain": [
       "<Figure size 400x400 with 5 Axes>"
      ]
     },
     "metadata": {},
     "output_type": "display_data"
    }
   ],
   "source": [
    "fig = plt.figure(figsize=(4, 4))\n",
    "ax = fig.add_subplot(111, label=\"1\", frame_on=True)\n",
    "ax2 = fig.add_subplot(111, label=\"2\", frame_on=False)\n",
    "ax3 = fig.add_subplot(111, label=\"3\", frame_on=False)\n",
    "ax4 = fig.add_subplot(111, label=\"4\", frame_on=False)\n",
    "ax5 = fig.add_subplot(111, label=\"5\", frame_on=False)\n",
    "\n",
    "ax.plot(mean_alk_oae.index, mean_alk_oae.ALK, linewidth=1, color=\"lightsteelblue\", label = 'Alkalinity')\n",
    "ax.set_xticks([], [])\n",
    "\n",
    "ax2.plot(mean_co2flux_oae.index, mean_co2flux_oae.co2flux, linewidth=1, color=\"chocolate\", label = 'CO2 flux')\n",
    "ax2.set_xticks([], [])\n",
    "\n",
    "ax3.plot(mean_dic_oae.index, mean_dic_oae.DIC, linewidth=1, color=\"c\", label = 'DIC')\n",
    "ax3.set_xticks([], [])\n",
    "\n",
    "ax4.plot(mean_fco2_oae.index, mean_fco2_oae.fco2, linewidth=1, color=\"goldenrod\", label = 'ƒCO2')\n",
    "ax4.tick_params(axis='both', which='major', labelsize=10)\n",
    "\n",
    "ax5.plot(mean_ph_oae.index, mean_ph_oae.ph, linewidth=1, color=\"seagreen\", label = 'pH')\n",
    "ax5.tick_params(axis='both', which='major', labelsize=10)\n",
    "\n",
    "axl = [ax, ax2, ax3, ax4, ax5]\n",
    "\n",
    "for x in axl:\n",
    "    x.set_yticks([], [])\n",
    "\n",
    "fig.legend(bbox_to_anchor=(0.9, 0.9), loc='upper left', fontsize=8)\n",
    "\n",
    "pass\n",
    "\n",
    "plt.savefig('/Users/chiaraciscato/Desktop/geomar/geomarcode/SSP3_7.0/variable_comparison_oae_datapoint.png')"
   ]
  },
  {
   "cell_type": "code",
   "execution_count": null,
   "id": "873c8fa7-1856-4f84-9341-35fa7fb5556c",
   "metadata": {},
   "outputs": [],
   "source": []
  },
  {
   "cell_type": "code",
   "execution_count": null,
   "id": "c98c0a5b-7710-4fe1-9957-50303d442ad3",
   "metadata": {},
   "outputs": [],
   "source": []
  }
 ],
 "metadata": {
  "kernelspec": {
   "display_name": "GEOMAR",
   "language": "python",
   "name": "geomar"
  },
  "language_info": {
   "codemirror_mode": {
    "name": "ipython",
    "version": 3
   },
   "file_extension": ".py",
   "mimetype": "text/x-python",
   "name": "python",
   "nbconvert_exporter": "python",
   "pygments_lexer": "ipython3",
   "version": "3.7.12"
  }
 },
 "nbformat": 4,
 "nbformat_minor": 5
}
