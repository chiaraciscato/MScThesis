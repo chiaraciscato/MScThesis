{
 "cells": [
  {
   "cell_type": "code",
   "execution_count": 74,
   "id": "e467d34f-08cb-4a00-a9cd-4e0bfe055488",
   "metadata": {},
   "outputs": [],
   "source": [
    "import netCDF4 as nc\n",
    "from netCDF4 import Dataset\n",
    "import matplotlib as mpl\n",
    "import matplotlib.pyplot as plt\n",
    "import matplotlib.patches as mpatches\n",
    "from matplotlib.legend_handler import HandlerPatch\n",
    "import xarray as xr\n",
    "import numpy as np\n",
    "import pandas as pd\n",
    "import calendar\n",
    "import seaborn as sns\n",
    "import seaborn_image as isns\n",
    "import calendar"
   ]
  },
  {
   "cell_type": "code",
   "execution_count": 21,
   "id": "d0eb02a2-6043-4d72-ae11-3773efc46d3e",
   "metadata": {},
   "outputs": [],
   "source": [
    "data_alk_base = (r'/Volumes/FOCI_Archive_1/Data_Chiara/FOCI_Chiara/SSP3_7.0/Alk&DIC/FOCI2.0-NM001_FM_ESM_SSP370os_2014CC105_ALK_DIC_2015to2100.nc')\n",
    "data_baseline_alk = xr.open_dataset(data_alk_base)"
   ]
  },
  {
   "cell_type": "code",
   "execution_count": 22,
   "id": "57ae8138-5dc0-46cf-acf3-e2a21f2b28bb",
   "metadata": {},
   "outputs": [],
   "source": [
    "data_alk_oae = (r'/Volumes/FOCI_Archive_1/Data_Chiara/FOCI_Chiara/SSP3_7.0/Alk&DIC/FOCI2.0-TK200_FMESM_SSP370_alkEU_2014CC105_ALK_DIC_2015to2100.nc')\n",
    "data_oae_alk = xr.open_dataset(data_alk_oae)"
   ]
  },
  {
   "cell_type": "code",
   "execution_count": 23,
   "id": "a22480fb-b73c-4fcf-a7bd-21fb67ee5395",
   "metadata": {},
   "outputs": [],
   "source": [
    "mesh_mask = xr.open_dataset('/Users/chiaraciscato/Desktop/geomar/Cropped_DataTransfer/mesh_mask.nc')"
   ]
  },
  {
   "cell_type": "code",
   "execution_count": 85,
   "id": "dc463ae2-5f49-446f-bc7a-720a9246c859",
   "metadata": {},
   "outputs": [],
   "source": [
    "mask = xr.open_dataset('/Users/chiaraciscato/Desktop/geomar/Cropped_DataTransfer/tmaskm.nc')"
   ]
  },
  {
   "cell_type": "code",
   "execution_count": 86,
   "id": "e02031a7-f355-48d0-9b9c-2c13216be697",
   "metadata": {},
   "outputs": [],
   "source": [
    "mask = mask.tmask.isel(time=0)"
   ]
  },
  {
   "cell_type": "code",
   "execution_count": 26,
   "id": "3588d8e6-bb60-4a4d-be87-d0e436bdfe0f",
   "metadata": {},
   "outputs": [],
   "source": [
    "# calculate volume for each grid cell\n",
    "\n",
    "dx = mesh_mask.e1t \n",
    "dy = mesh_mask.e2t\n",
    "dz = mesh_mask.e3t_0\n",
    "grid_cell_area = dx * dy * dz"
   ]
  },
  {
   "cell_type": "code",
   "execution_count": 27,
   "id": "2460aec0-51ee-4f06-ba5b-a96c0b70502e",
   "metadata": {},
   "outputs": [],
   "source": [
    "gridded_mesh = grid_cell_area.isel(t=0)"
   ]
  },
  {
   "cell_type": "code",
   "execution_count": 28,
   "id": "a3305ffe-9908-4537-b897-1050feeac0c9",
   "metadata": {},
   "outputs": [],
   "source": [
    "# apply mask to weighted grid cells\n",
    "\n",
    "ocean_area = gridded_mesh * mask"
   ]
  },
  {
   "cell_type": "code",
   "execution_count": 29,
   "id": "6b20f11d-17ca-4cba-8ea3-3528d01be193",
   "metadata": {},
   "outputs": [],
   "source": [
    "# multiply alkalinity in kg by seawater density 1.025 kg/m3 - unit conversion to mmol/m3\n",
    "\n",
    "data_baseline_alk = (data_baseline_alk.ALK.isel(x=slice(520,595),y=slice(330,435),deptht=slice(0,7))) * 1.025"
   ]
  },
  {
   "cell_type": "code",
   "execution_count": 30,
   "id": "705c6bde-4823-47ae-89b2-7541528378d9",
   "metadata": {},
   "outputs": [],
   "source": [
    "data_baseline_alk = data_baseline_alk.to_dataset(name='ALK')"
   ]
  },
  {
   "cell_type": "code",
   "execution_count": 31,
   "id": "0d0b6980-5363-44b3-8fbc-5c4c34ea0194",
   "metadata": {},
   "outputs": [],
   "source": [
    "ocean_area_sliced = ocean_area.isel(x=slice(520,595),y=slice(330,435),z=slice(0,7))"
   ]
  },
  {
   "cell_type": "code",
   "execution_count": 32,
   "id": "55348944-4558-426b-8aaa-64807d7d5a89",
   "metadata": {},
   "outputs": [],
   "source": [
    "sliced_alk_baseline = ocean_area_sliced * data_baseline_alk.ALK"
   ]
  },
  {
   "cell_type": "code",
   "execution_count": 33,
   "id": "7d987a1a-5fa6-4564-97c6-eec3cc4be69c",
   "metadata": {},
   "outputs": [],
   "source": [
    "regridded_alk_base = sliced_alk_baseline.sum(['x', 'y', 'z']) / ocean_area_sliced.sum(['x', 'y', 'z'])"
   ]
  },
  {
   "cell_type": "code",
   "execution_count": 34,
   "id": "1a86c67d-c101-456a-a53e-f1e57eda8d67",
   "metadata": {},
   "outputs": [],
   "source": [
    "# multiply alkalinity in kg by seawater density 1.025 kg/m3 - unit conversion to mmol/m3\n",
    "\n",
    "data_oae_alk = (data_oae_alk.ALK.isel(x=slice(520,595),y=slice(330,435),deptht=slice(0,7))) * 1.025"
   ]
  },
  {
   "cell_type": "code",
   "execution_count": 35,
   "id": "2f333f1a-02ca-48ea-92f5-dc94515708fe",
   "metadata": {},
   "outputs": [],
   "source": [
    "data_oae_alk = data_oae_alk.to_dataset(name='ALK')"
   ]
  },
  {
   "cell_type": "code",
   "execution_count": 36,
   "id": "7a75e8a5-f133-413e-b3ef-594ddcd30990",
   "metadata": {},
   "outputs": [],
   "source": [
    "sliced_alk_oae = ocean_area_sliced * data_oae_alk.ALK"
   ]
  },
  {
   "cell_type": "code",
   "execution_count": 37,
   "id": "6eed2d8f-5426-40d3-8d4e-63b44bd0f140",
   "metadata": {},
   "outputs": [],
   "source": [
    "regridded_alk_oae = sliced_alk_oae.sum(['x', 'y', 'z']) / ocean_area_sliced.sum(['x', 'y', 'z'])"
   ]
  },
  {
   "cell_type": "code",
   "execution_count": 38,
   "id": "ce721c59-beb7-4ecf-9bc4-65272a91fe07",
   "metadata": {},
   "outputs": [],
   "source": [
    "regridded_alk_base = regridded_alk_base.to_dataset(name='ALK')\n",
    "regridded_alk_oae = regridded_alk_oae.to_dataset(name='ALK')"
   ]
  },
  {
   "cell_type": "code",
   "execution_count": 40,
   "id": "a52fb092-589f-4ae5-b196-e44f47a31dc7",
   "metadata": {},
   "outputs": [],
   "source": [
    "regridded_alk_base.to_netcdf('/Users/chiaraciscato/Desktop/geomar/Cropped_DataTransfer/SSP3_7.0/Alk&DIC/ALK_baseline_7.0_weighted.nc')\n",
    "regridded_alk_oae.to_netcdf('/Users/chiaraciscato/Desktop/geomar/Cropped_DataTransfer/SSP3_7.0/Alk&DIC/ALK_oae_7.0_weighted.nc')"
   ]
  },
  {
   "cell_type": "code",
   "execution_count": 48,
   "id": "5465b556-64ee-4d1a-8b72-33ef7a192bc2",
   "metadata": {},
   "outputs": [],
   "source": [
    "data_dic_base = (r'/Volumes/FOCI_Archive_1/Data_Chiara/FOCI_Chiara/SSP3_7.0/Alk&DIC/FOCI2.0-NM001_FM_ESM_SSP370os_2014CC105_ALK_DIC_2015to2100.nc')\n",
    "data_baseline_dic = xr.open_dataset(data_dic_base)"
   ]
  },
  {
   "cell_type": "code",
   "execution_count": 49,
   "id": "7222c92d-3b90-4592-bc6a-7dcd4f3dd4e1",
   "metadata": {},
   "outputs": [],
   "source": [
    "date_dic_oae = (r'/Volumes/FOCI_Archive_1/Data_Chiara/FOCI_Chiara/SSP3_7.0/Alk&DIC/FOCI2.0-TK200_FMESM_SSP370_alkEU_2014CC105_ALK_DIC_2015to2100.nc')\n",
    "data_oae_dic = xr.open_dataset(date_dic_oae)"
   ]
  },
  {
   "cell_type": "code",
   "execution_count": 50,
   "id": "56822393-ade1-4673-b957-f27259b195af",
   "metadata": {},
   "outputs": [],
   "source": [
    "# multiply DIC in kg by seawater density 1.025 kg/m3 - unit conversion to mmol/m3\n",
    "\n",
    "data_baseline_dic = (data_baseline_dic.DIC.isel(x=slice(520,595),y=slice(330,435),deptht=slice(0,7))) * 1.025"
   ]
  },
  {
   "cell_type": "code",
   "execution_count": 51,
   "id": "cabcb366-b727-4397-bcf4-fc3ef7eb49a6",
   "metadata": {},
   "outputs": [],
   "source": [
    "data_baseline_dic = data_baseline_dic.to_dataset(name='DIC')"
   ]
  },
  {
   "cell_type": "code",
   "execution_count": 52,
   "id": "74908ae4-3f7a-41f5-a4da-f4a126ac68d4",
   "metadata": {},
   "outputs": [],
   "source": [
    "ocean_area_sliced = ocean_area.isel(x=slice(520,595),y=slice(330,435),z=slice(0,7))"
   ]
  },
  {
   "cell_type": "code",
   "execution_count": 53,
   "id": "eff21c5a-de28-4bd0-ad98-7f31828cd38d",
   "metadata": {},
   "outputs": [],
   "source": [
    "sliced_dic_baseline = ocean_area_sliced * data_baseline_dic.DIC"
   ]
  },
  {
   "cell_type": "code",
   "execution_count": 54,
   "id": "519e3e91-1c14-4563-af65-800a6f458a5e",
   "metadata": {},
   "outputs": [],
   "source": [
    "regridded_dic_base = sliced_dic_baseline.sum(['x', 'y', 'z']) / ocean_area_sliced.sum(['x', 'y', 'z'])"
   ]
  },
  {
   "cell_type": "code",
   "execution_count": 55,
   "id": "313d7e4f-ecf0-4e7a-896c-98c432ff0e27",
   "metadata": {},
   "outputs": [],
   "source": [
    "# multiply DIC in kg by seawater density 1.025 kg/m3 - unit conversion to mmol/m3\n",
    "\n",
    "data_oae_dic = (data_oae_dic.DIC.isel(x=slice(520,595),y=slice(330,435),deptht=slice(0,7))) * 1.025"
   ]
  },
  {
   "cell_type": "code",
   "execution_count": 56,
   "id": "fc59d97f-4eda-403f-9fc6-02778ec7ffd7",
   "metadata": {},
   "outputs": [],
   "source": [
    "data_oae_dic = data_oae_dic.to_dataset(name='DIC')"
   ]
  },
  {
   "cell_type": "code",
   "execution_count": 57,
   "id": "fea92353-acc4-4062-9e2a-5a854f36d375",
   "metadata": {},
   "outputs": [],
   "source": [
    "sliced_dic_oae = ocean_area_sliced * data_oae_dic.DIC"
   ]
  },
  {
   "cell_type": "code",
   "execution_count": 58,
   "id": "b219a2ac-1b7a-4722-9d7c-0dbafa18a272",
   "metadata": {},
   "outputs": [],
   "source": [
    "regridded_dic_oae = sliced_dic_oae.sum(['x', 'y', 'z']) / ocean_area_sliced.sum(['x', 'y', 'z'])"
   ]
  },
  {
   "cell_type": "code",
   "execution_count": 59,
   "id": "9d7893ae-263b-4f05-8567-2eca58fb2077",
   "metadata": {},
   "outputs": [],
   "source": [
    "regridded_dic_base = regridded_dic_base.to_dataset(name='DIC')\n",
    "regridded_dic_oae = regridded_dic_oae.to_dataset(name='DIC')"
   ]
  },
  {
   "cell_type": "code",
   "execution_count": 60,
   "id": "9fa56a12-fc0d-4d14-94d6-4a8dcd254361",
   "metadata": {},
   "outputs": [],
   "source": [
    "regridded_dic_base.to_netcdf('/Users/chiaraciscato/Desktop/geomar/Cropped_DataTransfer/SSP3_7.0/Alk&DIC/DIC_baseline_7.0_weighted.nc')\n",
    "regridded_dic_oae.to_netcdf('/Users/chiaraciscato/Desktop/geomar/Cropped_DataTransfer/SSP3_7.0/Alk&DIC/DIC_oae_7.0_weighted.nc')"
   ]
  },
  {
   "cell_type": "code",
   "execution_count": 61,
   "id": "7f196673-6962-40f5-8717-8d816cdef082",
   "metadata": {},
   "outputs": [],
   "source": [
    "ocean_area_sliced_dp = ocean_area_sliced.isel(x=slice(58,60),y=slice(41,43))"
   ]
  },
  {
   "cell_type": "code",
   "execution_count": 62,
   "id": "66f209c5-7826-4909-813f-2f2cac0a13da",
   "metadata": {},
   "outputs": [],
   "source": [
    "data_baseline_alk_dp = data_baseline_alk.isel(x=slice(58,60),y=slice(41,43)) # mmol/m3"
   ]
  },
  {
   "cell_type": "code",
   "execution_count": 63,
   "id": "87fd3ef8-c898-473f-900a-d688727443db",
   "metadata": {},
   "outputs": [],
   "source": [
    "sliced_alk_baseline_dp = ocean_area_sliced_dp * data_baseline_alk_dp.ALK"
   ]
  },
  {
   "cell_type": "code",
   "execution_count": 64,
   "id": "0ab1a77b-5be2-4565-832b-36600c0018d0",
   "metadata": {},
   "outputs": [],
   "source": [
    "regridded_alk_base_dp = sliced_alk_baseline_dp.sum(['x', 'y', 'z']) / ocean_area_sliced_dp.sum(['x', 'y', 'z'])"
   ]
  },
  {
   "cell_type": "code",
   "execution_count": 65,
   "id": "92c7823c-b04e-4c6b-aa02-d2e3818e04ee",
   "metadata": {},
   "outputs": [],
   "source": [
    "data_oae_alk_dp = data_oae_alk.isel(x=slice(58,60),y=slice(41,43)) # mmol/m3"
   ]
  },
  {
   "cell_type": "code",
   "execution_count": 66,
   "id": "24db9fd7-26d9-4059-9453-ca0a4d05c9fb",
   "metadata": {},
   "outputs": [],
   "source": [
    "sliced_alk_oae_dp = ocean_area_sliced_dp * data_oae_alk_dp.ALK"
   ]
  },
  {
   "cell_type": "code",
   "execution_count": 67,
   "id": "2fbe37f1-bfd3-4ef0-914e-6ecc2cc19eed",
   "metadata": {},
   "outputs": [],
   "source": [
    "regridded_alk_oae_dp = sliced_alk_oae_dp.sum(['x', 'y', 'z']) / ocean_area_sliced_dp.sum(['x', 'y', 'z'])"
   ]
  },
  {
   "cell_type": "code",
   "execution_count": 68,
   "id": "77882d2e-98da-4612-8298-40e55e26ca81",
   "metadata": {},
   "outputs": [],
   "source": [
    "data_baseline_dic_dp = data_baseline_dic.isel(x=slice(58,60),y=slice(41,43)) # mmol/m3"
   ]
  },
  {
   "cell_type": "code",
   "execution_count": 69,
   "id": "553f768a-2c6b-4482-89d7-6c14e9cf8b1e",
   "metadata": {},
   "outputs": [],
   "source": [
    "sliced_dic_baseline_dp = ocean_area_sliced_dp * data_baseline_dic_dp.DIC"
   ]
  },
  {
   "cell_type": "code",
   "execution_count": 70,
   "id": "abc62f84-dcac-4755-9acb-61f94ec30698",
   "metadata": {},
   "outputs": [],
   "source": [
    "regridded_dic_base_dp = sliced_dic_baseline_dp.sum(['x', 'y', 'z']) / ocean_area_sliced_dp.sum(['x', 'y', 'z'])"
   ]
  },
  {
   "cell_type": "code",
   "execution_count": 71,
   "id": "2b5174a6-e256-41d8-9ada-994941c6119f",
   "metadata": {},
   "outputs": [],
   "source": [
    "data_oae_dic_dp = data_oae_dic.isel(x=slice(58,60),y=slice(41,43)) # mmol/m3"
   ]
  },
  {
   "cell_type": "code",
   "execution_count": 72,
   "id": "41d4766e-bed7-44cf-afe9-4cda7e615ec7",
   "metadata": {},
   "outputs": [],
   "source": [
    "sliced_dic_oae_dp = ocean_area_sliced_dp * data_oae_dic_dp.DIC"
   ]
  },
  {
   "cell_type": "code",
   "execution_count": 73,
   "id": "ad06d487-9fbe-44f0-a20f-500cf3f18fb0",
   "metadata": {},
   "outputs": [],
   "source": [
    "regridded_dic_oae_dp = sliced_dic_oae_dp.sum(['x', 'y', 'z']) / ocean_area_sliced_dp.sum(['x', 'y', 'z'])"
   ]
  },
  {
   "cell_type": "code",
   "execution_count": 74,
   "id": "3ccf1cc9-ff80-45f5-9377-dc37ed108ef7",
   "metadata": {},
   "outputs": [],
   "source": [
    "regridded_alk_base_dp = regridded_alk_base_dp.to_dataset(name='ALK')\n",
    "regridded_alk_oae_dp = regridded_alk_oae_dp.to_dataset(name='ALK')\n",
    "regridded_dic_base_dp = regridded_dic_base_dp.to_dataset(name='DIC')\n",
    "regridded_dic_oae_dp = regridded_dic_oae_dp.to_dataset(name='DIC')"
   ]
  },
  {
   "cell_type": "code",
   "execution_count": 75,
   "id": "4151cafb-1750-4423-a72e-041da37893dd",
   "metadata": {},
   "outputs": [],
   "source": [
    "regridded_alk_base_dp.to_netcdf('/Users/chiaraciscato/Desktop/geomar/Cropped_DataTransfer/SSP3_7.0/Alk&DIC/ALK_baseline_7.0_weighted_dp.nc')\n",
    "regridded_alk_oae_dp.to_netcdf('/Users/chiaraciscato/Desktop/geomar/Cropped_DataTransfer/SSP3_7.0/Alk&DIC/ALK_oae_7.0_weighted_dp.nc')"
   ]
  },
  {
   "cell_type": "code",
   "execution_count": 76,
   "id": "19917a5b-747b-4589-b341-0ef010d7cc3f",
   "metadata": {},
   "outputs": [],
   "source": [
    "regridded_dic_base_dp.to_netcdf('/Users/chiaraciscato/Desktop/geomar/Cropped_DataTransfer/SSP3_7.0/Alk&DIC/DIC_baseline_7.0_weighted_dp.nc')\n",
    "regridded_dic_oae_dp.to_netcdf('/Users/chiaraciscato/Desktop/geomar/Cropped_DataTransfer/SSP3_7.0/Alk&DIC/DIC_oae_7.0_weighted_dp.nc')"
   ]
  },
  {
   "cell_type": "code",
   "execution_count": null,
   "id": "e07b80b2-f827-408b-afb4-3ad682a41eb6",
   "metadata": {},
   "outputs": [],
   "source": [
    "# alkalinity weighed only over the z axis (depth)"
   ]
  },
  {
   "cell_type": "code",
   "execution_count": 4,
   "id": "e573a26b-e5f9-489c-b13d-896a7ad8c5e8",
   "metadata": {},
   "outputs": [],
   "source": [
    "layer_depth = xr.open_dataset('/Users/chiaraciscato/Desktop/geomar/Cropped_DataTransfer/SSP3_7.0/Alk&DIC/DIC&ALK_Baseline_7.0_cropped.nc', decode_times=True).isel(deptht=slice(0, 7))"
   ]
  },
  {
   "cell_type": "code",
   "execution_count": 5,
   "id": "25767118-851f-480c-b4c0-4a7cd50ef4ec",
   "metadata": {},
   "outputs": [],
   "source": [
    "layer_depth = layer_depth.where(layer_depth)"
   ]
  },
  {
   "cell_type": "code",
   "execution_count": 6,
   "id": "120121c1-0acf-4ffb-b8c2-c28dbe7dec68",
   "metadata": {},
   "outputs": [],
   "source": [
    "layer_depth = layer_depth.to_dataframe()"
   ]
  },
  {
   "cell_type": "code",
   "execution_count": 7,
   "id": "200691e0-3e0d-4696-a09d-6f61da298279",
   "metadata": {},
   "outputs": [],
   "source": [
    "layer_depth['ALK'] = layer_depth['ALK'].apply(lambda x: 1 if not pd.isnull(x) else np.nan)"
   ]
  },
  {
   "cell_type": "code",
   "execution_count": 8,
   "id": "91235f37-2d58-431b-910f-bf9762853242",
   "metadata": {},
   "outputs": [],
   "source": [
    "layer_depth = layer_depth.to_xarray()"
   ]
  },
  {
   "cell_type": "code",
   "execution_count": 9,
   "id": "ef4ed44d-bb22-4c28-9870-3fb00713ded4",
   "metadata": {},
   "outputs": [],
   "source": [
    "layer_depth = layer_depth.ALK.sum('deptht')"
   ]
  },
  {
   "cell_type": "code",
   "execution_count": 10,
   "id": "cd5fbf48-26b0-4044-9c37-5ca6deda531a",
   "metadata": {},
   "outputs": [],
   "source": [
    "layer_depth = layer_depth.where(layer_depth)"
   ]
  },
  {
   "cell_type": "code",
   "execution_count": 11,
   "id": "5c578825-06af-4ab0-9336-66de20fadfac",
   "metadata": {},
   "outputs": [],
   "source": [
    "layer_depth = layer_depth.to_dataset(name='ALK')"
   ]
  },
  {
   "cell_type": "code",
   "execution_count": 12,
   "id": "e7bad2e9-cd82-46d4-ae62-fa39bc7f021f",
   "metadata": {},
   "outputs": [],
   "source": [
    "layer_depth = layer_depth.to_dataframe()"
   ]
  },
  {
   "cell_type": "code",
   "execution_count": 13,
   "id": "6af94f54-1709-4434-9beb-e84d05ad33a7",
   "metadata": {},
   "outputs": [],
   "source": [
    "# condition\n",
    "\n",
    "max_depth = [\n",
    "    (layer_depth.ALK == 1),\n",
    "    (layer_depth.ALK == 2),\n",
    "    (layer_depth.ALK == 3),\n",
    "    (layer_depth.ALK == 4),\n",
    "    (layer_depth.ALK == 5),\n",
    "    (layer_depth.ALK == 6),\n",
    "    (layer_depth.ALK == 7)\n",
    "]\n",
    "\n",
    "values_depth = [3.046773, 9.454049, 16.363966, 23.89871, 32.20929, 41.481853, 51.94513]\n",
    "\n",
    "layer_depth['ALK'] = np.select(max_depth, values_depth)"
   ]
  },
  {
   "cell_type": "code",
   "execution_count": 14,
   "id": "13fdcdbb-0fe8-4554-8a30-073e390fd624",
   "metadata": {},
   "outputs": [],
   "source": [
    "layer_depth = layer_depth.to_xarray()"
   ]
  },
  {
   "cell_type": "code",
   "execution_count": 15,
   "id": "40ec0702-522b-48a1-bd52-7416a70c565f",
   "metadata": {},
   "outputs": [],
   "source": [
    "layer_depth = layer_depth.where(layer_depth)"
   ]
  },
  {
   "cell_type": "code",
   "execution_count": 16,
   "id": "1329d58e-3a25-4fcf-bf85-32843d5b393e",
   "metadata": {},
   "outputs": [],
   "source": [
    "data_weighted_baseline = xr.open_dataset('/Users/chiaraciscato/Desktop/geomar/Cropped_DataTransfer/SSP3_7.0/Alk&DIC/DIC&ALK_Baseline_7.0_cropped.nc', decode_times=True).isel(deptht=slice(0, 7))"
   ]
  },
  {
   "cell_type": "code",
   "execution_count": 17,
   "id": "715c6aa6-dffd-4814-b986-45b2a7455ed5",
   "metadata": {},
   "outputs": [],
   "source": [
    "data_weighted_baseline = (data_weighted_baseline.ALK * 1.025).to_dataset(name='ALK') # mmol/m3"
   ]
  },
  {
   "cell_type": "code",
   "execution_count": 18,
   "id": "c905f66c-0c7d-4275-b68e-92833e493245",
   "metadata": {},
   "outputs": [],
   "source": [
    "weights_0 = data_weighted_baseline.ALK.isel(deptht=0) * data_weighted_baseline.deptht[0]\n",
    "weights_1 = data_weighted_baseline.ALK.isel(deptht=1) * (data_weighted_baseline.deptht[1] - data_weighted_baseline.deptht[0])\n",
    "weights_2 = data_weighted_baseline.ALK.isel(deptht=2) * (data_weighted_baseline.deptht[2] - data_weighted_baseline.deptht[1])\n",
    "weights_3 = data_weighted_baseline.ALK.isel(deptht=3) * (data_weighted_baseline.deptht[3] - data_weighted_baseline.deptht[2])\n",
    "weights_4 = data_weighted_baseline.ALK.isel(deptht=4) * (data_weighted_baseline.deptht[4] - data_weighted_baseline.deptht[3])\n",
    "weights_5 = data_weighted_baseline.ALK.isel(deptht=5) * (data_weighted_baseline.deptht[5] - data_weighted_baseline.deptht[4])\n",
    "weights_6 = data_weighted_baseline.ALK.isel(deptht=6) * (data_weighted_baseline.deptht[6] - data_weighted_baseline.deptht[5])"
   ]
  },
  {
   "cell_type": "code",
   "execution_count": 19,
   "id": "8de2f19d-77e2-4f44-a3a1-acf2b4b41fd2",
   "metadata": {},
   "outputs": [],
   "source": [
    "weighted_base = (weights_0 + weights_1 + weights_2 + weights_3 + weights_4 + weights_5 + weights_6) / layer_depth"
   ]
  },
  {
   "cell_type": "code",
   "execution_count": 20,
   "id": "b88347f5-e8bf-42cf-9f8b-621c429de1fe",
   "metadata": {},
   "outputs": [],
   "source": [
    "weighted_base = weighted_base.where(weighted_base)"
   ]
  },
  {
   "cell_type": "code",
   "execution_count": 21,
   "id": "70253d9f-119d-4670-832d-0b698f206c90",
   "metadata": {},
   "outputs": [],
   "source": [
    "data_weighted_oae = xr.open_dataset('/Users/chiaraciscato/Desktop/geomar/Cropped_DataTransfer/SSP3_7.0/Alk&DIC/DIC&ALK_OAE_7.0_cropped.nc', decode_times=True).isel(deptht=slice(0, 7))"
   ]
  },
  {
   "cell_type": "code",
   "execution_count": 22,
   "id": "ddb0d596-338d-4d90-83e2-da5491933c84",
   "metadata": {},
   "outputs": [],
   "source": [
    "data_weighted_oae = (data_weighted_oae.ALK * 1.025).to_dataset(name='ALK') # mmol/m3"
   ]
  },
  {
   "cell_type": "code",
   "execution_count": 23,
   "id": "68a1b083-84f9-4255-93b6-a7da8dd1d8c2",
   "metadata": {},
   "outputs": [],
   "source": [
    "weights_0_oae = data_weighted_oae.ALK.isel(deptht=0) * data_weighted_oae.deptht[0]\n",
    "weights_1_oae = data_weighted_oae.ALK.isel(deptht=1) * (data_weighted_oae.deptht[1] - data_weighted_oae.deptht[0])\n",
    "weights_2_oae = data_weighted_oae.ALK.isel(deptht=2) * (data_weighted_oae.deptht[2] - data_weighted_oae.deptht[1])\n",
    "weights_3_oae = data_weighted_oae.ALK.isel(deptht=3) * (data_weighted_oae.deptht[3] - data_weighted_oae.deptht[2])\n",
    "weights_4_oae = data_weighted_oae.ALK.isel(deptht=4) * (data_weighted_oae.deptht[4] - data_weighted_oae.deptht[3])\n",
    "weights_5_oae = data_weighted_oae.ALK.isel(deptht=5) * (data_weighted_oae.deptht[5] - data_weighted_oae.deptht[4])\n",
    "weights_6_oae = data_weighted_oae.ALK.isel(deptht=6) * (data_weighted_oae.deptht[6] - data_weighted_oae.deptht[5])"
   ]
  },
  {
   "cell_type": "code",
   "execution_count": 24,
   "id": "c701ba22-c01f-4171-8847-0a871864fc7a",
   "metadata": {},
   "outputs": [],
   "source": [
    "weighted_oae = (weights_0_oae + weights_1_oae + weights_2_oae + weights_3_oae + weights_4_oae + weights_5_oae + weights_6_oae) / layer_depth"
   ]
  },
  {
   "cell_type": "code",
   "execution_count": 25,
   "id": "39c8bd82-aee8-4ca7-b419-26a3026d1cdd",
   "metadata": {},
   "outputs": [],
   "source": [
    "weighted_oae = weighted_oae.where(weighted_oae)"
   ]
  },
  {
   "cell_type": "code",
   "execution_count": 26,
   "id": "7970d45a-1daf-4ef5-a199-9a971f5edb4a",
   "metadata": {},
   "outputs": [],
   "source": [
    "weighted_base.to_netcdf('/Users/chiaraciscato/Desktop/geomar/Cropped_DataTransfer/SSP3_7.0/Alk&DIC/ALK_amplitude_base.nc')\n",
    "weighted_oae.to_netcdf('/Users/chiaraciscato/Desktop/geomar/Cropped_DataTransfer/SSP3_7.0/Alk&DIC/ALK_amplitude_oae.nc')"
   ]
  },
  {
   "cell_type": "code",
   "execution_count": 27,
   "id": "480410bb-9a26-4d6e-93c5-8cda07ff8087",
   "metadata": {},
   "outputs": [],
   "source": [
    "# DIC weighted only over the z axis (depth)"
   ]
  },
  {
   "cell_type": "code",
   "execution_count": 28,
   "id": "ebeccdf4-f4fd-4c07-a444-6c1e19de1122",
   "metadata": {},
   "outputs": [],
   "source": [
    "layer_depth = xr.open_dataset('/Users/chiaraciscato/Desktop/geomar/Cropped_DataTransfer/SSP3_7.0/Alk&DIC/DIC&ALK_Baseline_7.0_cropped.nc', decode_times=True).isel(deptht=slice(0, 7))"
   ]
  },
  {
   "cell_type": "code",
   "execution_count": 29,
   "id": "9888616e-4b11-470c-ba11-4441a4406aab",
   "metadata": {},
   "outputs": [],
   "source": [
    "layer_depth = layer_depth.where(layer_depth)"
   ]
  },
  {
   "cell_type": "code",
   "execution_count": 30,
   "id": "a56cc7af-8066-47d7-bdd4-088e8aee233b",
   "metadata": {},
   "outputs": [],
   "source": [
    "layer_depth = layer_depth.to_dataframe()"
   ]
  },
  {
   "cell_type": "code",
   "execution_count": 31,
   "id": "6439d912-5be1-4439-ad8e-dfc417f4f96f",
   "metadata": {},
   "outputs": [],
   "source": [
    "layer_depth['DIC'] = layer_depth['DIC'].apply(lambda x: 1 if not pd.isnull(x) else np.nan)"
   ]
  },
  {
   "cell_type": "code",
   "execution_count": 32,
   "id": "234e0277-d67f-45c7-973a-5cf610c48a2c",
   "metadata": {},
   "outputs": [],
   "source": [
    "layer_depth = layer_depth.to_xarray()"
   ]
  },
  {
   "cell_type": "code",
   "execution_count": 33,
   "id": "e3498bc9-9020-404a-9afe-79e37c926868",
   "metadata": {},
   "outputs": [],
   "source": [
    "layer_depth = layer_depth.DIC.sum('deptht')"
   ]
  },
  {
   "cell_type": "code",
   "execution_count": 34,
   "id": "ca9ddd70-6bdb-4968-8cdc-abc69dfbc1a2",
   "metadata": {},
   "outputs": [],
   "source": [
    "layer_depth = layer_depth.where(layer_depth)"
   ]
  },
  {
   "cell_type": "code",
   "execution_count": 35,
   "id": "2534456f-8ffd-4a1d-80a7-930e3f5483f4",
   "metadata": {},
   "outputs": [],
   "source": [
    "layer_depth = layer_depth.to_dataset(name='DIC')"
   ]
  },
  {
   "cell_type": "code",
   "execution_count": 36,
   "id": "a2ef160f-4435-4dce-a87f-b286a413f424",
   "metadata": {},
   "outputs": [],
   "source": [
    "layer_depth = layer_depth.to_dataframe()"
   ]
  },
  {
   "cell_type": "code",
   "execution_count": 37,
   "id": "e1259b39-f580-4b28-a9cd-ec7fb0ba8a79",
   "metadata": {},
   "outputs": [],
   "source": [
    "# condition\n",
    "\n",
    "max_depth = [\n",
    "    (layer_depth.DIC == 1),\n",
    "    (layer_depth.DIC == 2),\n",
    "    (layer_depth.DIC == 3),\n",
    "    (layer_depth.DIC == 4),\n",
    "    (layer_depth.DIC == 5),\n",
    "    (layer_depth.DIC == 6),\n",
    "    (layer_depth.DIC == 7)\n",
    "]\n",
    "\n",
    "values_depth = [3.046773, 9.454049, 16.363966, 23.89871, 32.20929, 41.481853, 51.94513]\n",
    "\n",
    "layer_depth['DIC'] = np.select(max_depth, values_depth)"
   ]
  },
  {
   "cell_type": "code",
   "execution_count": 38,
   "id": "e83b401c-aeca-4b41-9a7a-a2cd3c0f82b9",
   "metadata": {},
   "outputs": [],
   "source": [
    "layer_depth = layer_depth.to_xarray()"
   ]
  },
  {
   "cell_type": "code",
   "execution_count": 39,
   "id": "ab5b6c17-bd7c-460f-9f65-a89410c8b15b",
   "metadata": {},
   "outputs": [],
   "source": [
    "layer_depth = layer_depth.where(layer_depth)"
   ]
  },
  {
   "cell_type": "code",
   "execution_count": 40,
   "id": "2c1ef2a6-405d-4591-9980-9d700bece8d0",
   "metadata": {},
   "outputs": [],
   "source": [
    "data_weighted_baseline = xr.open_dataset('/Users/chiaraciscato/Desktop/geomar/Cropped_DataTransfer/SSP3_7.0/Alk&DIC/DIC&ALK_Baseline_7.0_cropped.nc', decode_times=True).isel(deptht=slice(0, 7))"
   ]
  },
  {
   "cell_type": "code",
   "execution_count": 41,
   "id": "c498a1b4-d0e1-4ff7-87cf-9aee55de7a17",
   "metadata": {},
   "outputs": [],
   "source": [
    "data_weighted_baseline = (data_weighted_baseline.DIC * 1.025).to_dataset(name='DIC') # mmol/m3"
   ]
  },
  {
   "cell_type": "code",
   "execution_count": 42,
   "id": "6e4bb7a8-f2c0-4061-90a0-1fc0ef29de8f",
   "metadata": {},
   "outputs": [],
   "source": [
    "weights_0 = data_weighted_baseline.DIC.isel(deptht=0) * data_weighted_baseline.deptht[0]\n",
    "weights_1 = data_weighted_baseline.DIC.isel(deptht=1) * (data_weighted_baseline.deptht[1] - data_weighted_baseline.deptht[0])\n",
    "weights_2 = data_weighted_baseline.DIC.isel(deptht=2) * (data_weighted_baseline.deptht[2] - data_weighted_baseline.deptht[1])\n",
    "weights_3 = data_weighted_baseline.DIC.isel(deptht=3) * (data_weighted_baseline.deptht[3] - data_weighted_baseline.deptht[2])\n",
    "weights_4 = data_weighted_baseline.DIC.isel(deptht=4) * (data_weighted_baseline.deptht[4] - data_weighted_baseline.deptht[3])\n",
    "weights_5 = data_weighted_baseline.DIC.isel(deptht=5) * (data_weighted_baseline.deptht[5] - data_weighted_baseline.deptht[4])\n",
    "weights_6 = data_weighted_baseline.DIC.isel(deptht=6) * (data_weighted_baseline.deptht[6] - data_weighted_baseline.deptht[5])"
   ]
  },
  {
   "cell_type": "code",
   "execution_count": 43,
   "id": "136738e6-d975-4751-a2ef-d397a0f614b6",
   "metadata": {},
   "outputs": [],
   "source": [
    "weighted_base = (weights_0 + weights_1 + weights_2 + weights_3 + weights_4 + weights_5 + weights_6) / layer_depth"
   ]
  },
  {
   "cell_type": "code",
   "execution_count": 44,
   "id": "90e9cacb-8a6d-4d2a-b6d0-2740cddca21a",
   "metadata": {},
   "outputs": [],
   "source": [
    "weighted_base = weighted_base.where(weighted_base)"
   ]
  },
  {
   "cell_type": "code",
   "execution_count": 45,
   "id": "ebdcbad9-c257-4518-a230-a737c26b6b1b",
   "metadata": {},
   "outputs": [],
   "source": [
    "data_weighted_oae = xr.open_dataset('/Users/chiaraciscato/Desktop/geomar/Cropped_DataTransfer/SSP3_7.0/Alk&DIC/DIC&ALK_OAE_7.0_cropped.nc', decode_times=True).isel(deptht=slice(0, 7))"
   ]
  },
  {
   "cell_type": "code",
   "execution_count": 46,
   "id": "1f032f52-be77-4da8-b052-af538d253ea8",
   "metadata": {},
   "outputs": [],
   "source": [
    "data_weighted_oae = (data_weighted_oae.DIC * 1.025).to_dataset(name='DIC') # mmol/m3"
   ]
  },
  {
   "cell_type": "code",
   "execution_count": 47,
   "id": "10c3391f-379e-46cc-af47-20d097ee0a60",
   "metadata": {},
   "outputs": [],
   "source": [
    "weights_0_oae = data_weighted_oae.DIC.isel(deptht=0) * data_weighted_oae.deptht[0]\n",
    "weights_1_oae = data_weighted_oae.DIC.isel(deptht=1) * (data_weighted_oae.deptht[1] - data_weighted_oae.deptht[0])\n",
    "weights_2_oae = data_weighted_oae.DIC.isel(deptht=2) * (data_weighted_oae.deptht[2] - data_weighted_oae.deptht[1])\n",
    "weights_3_oae = data_weighted_oae.DIC.isel(deptht=3) * (data_weighted_oae.deptht[3] - data_weighted_oae.deptht[2])\n",
    "weights_4_oae = data_weighted_oae.DIC.isel(deptht=4) * (data_weighted_oae.deptht[4] - data_weighted_oae.deptht[3])\n",
    "weights_5_oae = data_weighted_oae.DIC.isel(deptht=5) * (data_weighted_oae.deptht[5] - data_weighted_oae.deptht[4])\n",
    "weights_6_oae = data_weighted_oae.DIC.isel(deptht=6) * (data_weighted_oae.deptht[6] - data_weighted_oae.deptht[5])"
   ]
  },
  {
   "cell_type": "code",
   "execution_count": 48,
   "id": "b836c963-9fda-465e-933b-cb0594e70014",
   "metadata": {},
   "outputs": [],
   "source": [
    "weighted_oae = (weights_0_oae + weights_1_oae + weights_2_oae + weights_3_oae + weights_4_oae + weights_5_oae + weights_6_oae) / layer_depth"
   ]
  },
  {
   "cell_type": "code",
   "execution_count": 49,
   "id": "bc0d9f43-9dd1-4463-87e0-89aa0c2ba873",
   "metadata": {},
   "outputs": [],
   "source": [
    "weighted_oae = weighted_oae.where(weighted_oae)"
   ]
  },
  {
   "cell_type": "code",
   "execution_count": 50,
   "id": "e2422d02-0427-4c2e-8f9f-78cf99f0dffa",
   "metadata": {},
   "outputs": [],
   "source": [
    "weighted_base.to_netcdf('/Users/chiaraciscato/Desktop/geomar/Cropped_DataTransfer/SSP3_7.0/Alk&DIC/DIC_amplitude_base.nc')\n",
    "weighted_oae.to_netcdf('/Users/chiaraciscato/Desktop/geomar/Cropped_DataTransfer/SSP3_7.0/Alk&DIC/DIC_amplitude_oae.nc')"
   ]
  },
  {
   "cell_type": "code",
   "execution_count": 81,
   "id": "92ad49a5-6275-42a0-94f0-5f520c303e43",
   "metadata": {},
   "outputs": [],
   "source": [
    "data_try = xr.open_dataset('/Users/chiaraciscato/Desktop/geomar/Cropped_DataTransfer/SSP1_2.6/DIC/DIC_Baseline_2.6_cropped.nc')"
   ]
  },
  {
   "cell_type": "code",
   "execution_count": 89,
   "id": "cd4553c5-1690-41b4-81a7-3232f87a8935",
   "metadata": {},
   "outputs": [
    {
     "data": {
      "text/plain": [
       "<matplotlib.collections.QuadMesh at 0x7fedd1c31310>"
      ]
     },
     "execution_count": 89,
     "metadata": {},
     "output_type": "execute_result"
    },
    {
     "data": {
      "image/png": "[encoded data removed]",
      "text/plain": [
       "<Figure size 640x480 with 2 Axes>"
      ]
     },
     "metadata": {},
     "output_type": "display_data"
    }
   ],
   "source": [
    "(mask.isel(x=slice(520,595),y=slice(330,435))).isel(z=0).plot()"
   ]
  },
  {
   "cell_type": "code",
   "execution_count": 77,
   "id": "410e2fd7-70d8-4d15-80cb-aba3ea4e53b2",
   "metadata": {},
   "outputs": [],
   "source": [
    "mask = mask.where((-25.226707 < mask.x) & (mask.x < 23.489141) & (40.357502 < mask.y) & (mask.y < 67.128746), drop=True)"
   ]
  }
 ],
 "metadata": {
  "kernelspec": {
   "display_name": "geomar",
   "language": "python",
   "name": "geomar"
  },
  "language_info": {
   "codemirror_mode": {
    "name": "ipython",
    "version": 3
   },
   "file_extension": ".py",
   "mimetype": "text/x-python",
   "name": "python",
   "nbconvert_exporter": "python",
   "pygments_lexer": "ipython3",
   "version": "3.7.12"
  }
 },
 "nbformat": 4,
 "nbformat_minor": 5
}
