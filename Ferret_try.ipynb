{
 "cells": [
  {
   "cell_type": "code",
   "execution_count": 1,
   "id": "07e1e640-b45f-4eb1-bcf1-72a6a5fa10aa",
   "metadata": {},
   "outputs": [
    {
     "name": "stderr",
     "output_type": "stream",
     "text": [
      "           *** NOTE: Environment variable for markers FER_PALETTE is not defined\n"
     ]
    }
   ],
   "source": [
    "%load_ext ferretmagic"
   ]
  },
  {
   "cell_type": "code",
   "execution_count": 2,
   "id": "912d0bb4-feb8-46b1-bc6b-06c5cf1bebfa",
   "metadata": {},
   "outputs": [
    {
     "name": "stdout",
     "output_type": "stream",
     "text": [
      "\n",
      " PPL+ error: Unable to read \"default.spk\" to set shade and fill colors.\n",
      "\n"
     ]
    },
    {
     "name": "stderr",
     "output_type": "stream",
     "text": [
      "           *** NOTE: netCDF bounds variable definition error\n",
      "           *** NOTE: Bounds definition \"deptht_bounds\" is not 2D\n",
      "           *** NOTE: Ignoring BOUNDS attribute\n",
      "           *** NOTE: netCDF bounds variable definition error\n",
      "           *** NOTE: Bounds definition \"time_counter_bounds\" is not 2D\n",
      "           *** NOTE: Ignoring BOUNDS attribute\n"
     ]
    },
    {
     "data": {
      "text/html": [
       "<pre style=\"background-color:#ECF6CE; border-radius: 4px 4px 4px 4px; font-size: smaller\">     currently SET data sets:\n",
       "    1> /Users/chiaraciscato/Desktop/geomar/Cropped_DataTransfer/SSP1_26/Alkalinity/ALK_Baseline_2.6_cropped.nc  (default)\n",
       " name     title                             I         J         K         L\n",
       " TIME_CENTERED_BOUNDS\n",
       "                                           1:70      1:101     1:2       1:1020\n",
       " ALK      Alkalinity                       1:70      1:101     1:46      1:1020\n",
       " NAV_LAT  Latitude                         1:70      1:101     ...       ...\n",
       " NAV_LON  Longitude                        1:70      1:101     ...       ...\n",
       " TIME_CENTERED\n",
       "          Time axis                        ...       ...       ...       1:1020\n",
       " \n",
       "</pre>"
      ]
     },
     "metadata": {},
     "output_type": "display_data"
    }
   ],
   "source": [
    "%%ferret\n",
    "use /Users/chiaraciscato/Desktop/geomar/Cropped_DataTransfer/SSP1_26/Alkalinity/ALK_Baseline_2.6_cropped.nc\n",
    "show data"
   ]
  },
  {
   "cell_type": "code",
   "execution_count": null,
   "id": "24aa0549-306b-4c6c-ac7a-ca7c0deb66a7",
   "metadata": {},
   "outputs": [],
   "source": [
    "%%ferret -q\n",
    "\n",
    "shade ALK[k=1, l=1] ; go land"
   ]
  },
  {
   "cell_type": "code",
   "execution_count": null,
   "id": "236d5cd3-5514-41e1-b242-2f05d161b6b0",
   "metadata": {},
   "outputs": [],
   "source": []
  }
 ],
 "metadata": {
  "kernelspec": {
   "display_name": "pyferret",
   "language": "python",
   "name": "pyferret"
  },
  "language_info": {
   "codemirror_mode": {
    "name": "ipython",
    "version": 3
   },
   "file_extension": ".py",
   "mimetype": "text/x-python",
   "name": "python",
   "nbconvert_exporter": "python",
   "pygments_lexer": "ipython3",
   "version": "3.8.16"
  }
 },
 "nbformat": 4,
 "nbformat_minor": 5
}
