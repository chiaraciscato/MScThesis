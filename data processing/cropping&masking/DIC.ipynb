{
 "cells": [
  {
   "cell_type": "raw",
   "id": "788daa24-040c-465f-9e09-85594f28f515",
   "metadata": {
    "tags": []
   },
   "source": [
    "---\n",
    "title: \"DIC_Comparison\"\n",
    "author: \"cciscato\"\n",
    "date: \"15/02/2023\"\n",
    "format: \n",
    "  html:\n",
    "    embed-resources: true\n",
    "    theme:\n",
    "              light: flatly\n",
    "              dark: darkly\n",
    "    toc: true\n",
    "    code-fold: true\n",
    "execute:\n",
    "  warning: false\n",
    "jupyter: python3\n",
    "---"
   ]
  },
  {
   "cell_type": "code",
   "execution_count": 1,
   "id": "cf596712-2a14-4ae0-b394-ad0b313053b2",
   "metadata": {},
   "outputs": [],
   "source": [
    "import netCDF4 as nc\n",
    "from netCDF4 import Dataset\n",
    "import matplotlib as mpl\n",
    "import matplotlib.pyplot as plt\n",
    "import matplotlib.patches as mpatches\n",
    "import xarray as xr\n",
    "import numpy as np\n",
    "import pandas as pd\n",
    "import calendar\n",
    "import seaborn as sns\n",
    "import seaborn_image as isns"
   ]
  },
  {
   "cell_type": "markdown",
   "id": "08b5e94d-ecee-4480-ba03-d8b1163f69e9",
   "metadata": {},
   "source": [
    "### SSP1_2.6"
   ]
  },
  {
   "cell_type": "code",
   "execution_count": 5,
   "id": "99b5817d-6c89-474f-952c-c73fac37592c",
   "metadata": {},
   "outputs": [],
   "source": [
    "data_baseline = xr.open_dataset('/Volumes/FOCI_Archive_1/Data_Chiara/FOCI_Chiara/SSP1_2.6/DIC/DIC_baseline_ensemble1_ssp126_1m.nc')"
   ]
  },
  {
   "cell_type": "code",
   "execution_count": 6,
   "id": "52871f7e-6f5e-4024-a91b-be439bff12c7",
   "metadata": {},
   "outputs": [],
   "source": [
    "data_oae = xr.open_dataset('/Volumes/FOCI_Archive_1/Data_Chiara/FOCI_Chiara/SSP1_2.6/DIC/DIC_CDR_EU_coast_ssp126_1m.nc')"
   ]
  },
  {
   "cell_type": "code",
   "execution_count": 7,
   "id": "187939e9-7815-42c3-b020-492a6e5b5a5a",
   "metadata": {
    "tags": []
   },
   "outputs": [],
   "source": [
    "mask = xr.open_dataset('/Users/chiaraciscato/Desktop/geomar/Cropped_DataTransfer/masks/tmaskm.nc')"
   ]
  },
  {
   "cell_type": "code",
   "execution_count": 8,
   "id": "058d0332-90e4-4a43-a016-fdfc777995e4",
   "metadata": {},
   "outputs": [],
   "source": [
    "mask = mask.tmask.isel(time=0)"
   ]
  },
  {
   "cell_type": "code",
   "execution_count": 9,
   "id": "02c16b40-9b3b-4dac-9281-19700125c3be",
   "metadata": {},
   "outputs": [],
   "source": [
    "sliced_data_baseline = mask.isel(x=slice(520,595),y=slice(330,435),z=slice(0,7)) * data_baseline.DIC.isel(x=slice(520,595),y=slice(330,435),deptht=slice(0,7))"
   ]
  },
  {
   "cell_type": "code",
   "execution_count": 10,
   "id": "d89d156c-9b6f-4790-9848-700666b02a63",
   "metadata": {},
   "outputs": [],
   "source": [
    "sliced_data_oae = mask.isel(x=slice(520,595),y=slice(330,435),z=slice(0,7)) * data_oae.DIC.isel(x=slice(520,595),y=slice(330,435),deptht=slice(0,7))"
   ]
  },
  {
   "cell_type": "code",
   "execution_count": 11,
   "id": "656e4155-ff85-40b0-af4b-3899603fec54",
   "metadata": {},
   "outputs": [],
   "source": [
    "sliced_data_baseline = sliced_data_baseline.to_dataset(name='DIC')"
   ]
  },
  {
   "cell_type": "code",
   "execution_count": 12,
   "id": "c7292475-5aec-41a8-9077-4e76d1bedeb0",
   "metadata": {
    "tags": []
   },
   "outputs": [],
   "source": [
    "sliced_data_oae = sliced_data_oae.to_dataset(name='DIC')"
   ]
  },
  {
   "cell_type": "code",
   "execution_count": null,
   "id": "1d1100b8-1a37-454f-9b6d-50d26a925ee2",
   "metadata": {},
   "outputs": [],
   "source": [
    "sliced_data_baseline.to_netcdf('/Users/chiaraciscato/Desktop/geomar/Cropped_DataTransfer/SSP1_2.6/DIC/DIC_Baseline_2.6_cropped.nc')\n",
    "sliced_data_oae.to_netcdf('/Users/chiaraciscato/Desktop/geomar/Cropped_DataTransfer/SSP1_2.6/DIC/DIC_OAE_2.6_cropped.nc')"
   ]
  },
  {
   "cell_type": "markdown",
   "id": "3c0e1c5f-5ce0-49bd-885c-4ae2d95a717f",
   "metadata": {},
   "source": [
    "### SSP3_7.0"
   ]
  },
  {
   "cell_type": "code",
   "execution_count": 5,
   "id": "d1748291-a49c-43d8-a035-ad80916a4575",
   "metadata": {},
   "outputs": [],
   "source": [
    "data_baseline = xr.open_dataset('/Volumes/FOCI_Archive_1/Data_Chiara/FOCI_Chiara/SSP3_7.0/Alk&DIC/FOCI2.0-NM001_FM_ESM_SSP370os_2014CC105_ALK_DIC_2015to2100.nc')"
   ]
  },
  {
   "cell_type": "code",
   "execution_count": 6,
   "id": "b4e39e59-3307-46b0-84ca-2679533f63dc",
   "metadata": {},
   "outputs": [],
   "source": [
    "data_oae = xr.open_dataset('/Volumes/FOCI_Archive_1/Data_Chiara/FOCI_Chiara/SSP3_7.0/Alk&DIC/FOCI2.0-TK200_FMESM_SSP370_alkEU_2014CC105_ALK_DIC_2015to2100.nc')"
   ]
  },
  {
   "cell_type": "code",
   "execution_count": 11,
   "id": "f1abdf81-9183-479c-b291-5938e4cc3b1b",
   "metadata": {},
   "outputs": [],
   "source": [
    "sliced_data_baseline = mask.isel(x=slice(520,595),y=slice(330,435),z=slice(0,7)) * data_baseline.DIC.isel(x=slice(520,595),y=slice(330,435),deptht=slice(0,7))"
   ]
  },
  {
   "cell_type": "code",
   "execution_count": 12,
   "id": "af4ed35a-e8bb-42c1-b5d3-86587098e0ae",
   "metadata": {},
   "outputs": [],
   "source": [
    "sliced_data_oae = mask.isel(x=slice(520,595),y=slice(330,435),z=slice(0,7)) * data_oae.DIC.isel(x=slice(520,595),y=slice(330,435),deptht=slice(0,7))"
   ]
  },
  {
   "cell_type": "code",
   "execution_count": 13,
   "id": "b2f872a6-8e69-44ec-ad62-9c34958d7d20",
   "metadata": {},
   "outputs": [],
   "source": [
    "sliced_data_baseline = sliced_data_baseline.to_dataset(name='DIC')"
   ]
  },
  {
   "cell_type": "code",
   "execution_count": 14,
   "id": "c11f6f2e-2ff0-4088-bcbb-dfb381fe0244",
   "metadata": {
    "tags": []
   },
   "outputs": [],
   "source": [
    "sliced_data_oae = sliced_data_oae.to_dataset(name='DIC')"
   ]
  },
  {
   "cell_type": "code",
   "execution_count": 15,
   "id": "a10dc1e5-164a-4348-ab91-062ae744c1b4",
   "metadata": {},
   "outputs": [],
   "source": [
    "sliced_data_baseline.to_netcdf('/Users/chiaraciscato/Desktop/geomar/Cropped_DataTransfer/SSP3_7.0/Alk&DIC/DIC_Baseline_7.0_cropped.nc')\n",
    "sliced_data_oae.to_netcdf('/Users/chiaraciscato/Desktop/geomar/Cropped_DataTransfer/SSP3_7.0/Alk&DIC/DIC_OAE_7.0_cropped.nc')"
   ]
  }
 ],
 "metadata": {
  "kernelspec": {
   "display_name": "geomar",
   "language": "python",
   "name": "geomar"
  },
  "language_info": {
   "codemirror_mode": {
    "name": "ipython",
    "version": 3
   },
   "file_extension": ".py",
   "mimetype": "text/x-python",
   "name": "python",
   "nbconvert_exporter": "python",
   "pygments_lexer": "ipython3",
   "version": "3.7.12"
  }
 },
 "nbformat": 4,
 "nbformat_minor": 5
}
