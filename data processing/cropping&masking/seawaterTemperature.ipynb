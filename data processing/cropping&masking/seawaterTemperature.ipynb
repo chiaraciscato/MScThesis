{
 "cells": [
  {
   "cell_type": "code",
   "execution_count": 18,
   "id": "cf596712-2a14-4ae0-b394-ad0b313053b2",
   "metadata": {},
   "outputs": [],
   "source": [
    "import netCDF4 as nc\n",
    "from netCDF4 import Dataset\n",
    "import matplotlib as mpl\n",
    "import matplotlib.pyplot as plt\n",
    "import matplotlib.patches as mpatches\n",
    "import xarray as xr\n",
    "import numpy as np\n",
    "import pandas as pd\n",
    "import calendar\n",
    "import seaborn as sns\n",
    "import seaborn_image as isns"
   ]
  },
  {
   "cell_type": "markdown",
   "id": "05e7b545-2ae1-41c6-b1dd-a6bc13011c7e",
   "metadata": {},
   "source": [
    "### SSP1_2.6"
   ]
  },
  {
   "cell_type": "code",
   "execution_count": 19,
   "id": "99b5817d-6c89-474f-952c-c73fac37592c",
   "metadata": {},
   "outputs": [],
   "source": [
    "data_baseline = xr.open_dataset('/Volumes/FOCI_Archive_1/Data_Chiara/FOCI_Chiara/SSP1_2.6/SWT/FOCI2.0-NM004_FM_ESM_SSP126os_2014CC105_1m_grid_T_votemper_2015to2099.nc')"
   ]
  },
  {
   "cell_type": "code",
   "execution_count": 20,
   "id": "52871f7e-6f5e-4024-a91b-be439bff12c7",
   "metadata": {},
   "outputs": [],
   "source": [
    "data_oae = xr.open_dataset('/Volumes/FOCI_Archive_1/Data_Chiara/FOCI_Chiara/SSP1_2.6/SWT/FOCI2.0-TK201_FMESM_SSP126_alkEU_2014CC105_1m_grid_T_votemper_2015to2099.nc')"
   ]
  },
  {
   "cell_type": "code",
   "execution_count": 21,
   "id": "8eac1177-f633-4433-9126-8ac62419fdfb",
   "metadata": {
    "tags": []
   },
   "outputs": [],
   "source": [
    "mask = xr.open_dataset('/Volumes/UnionSine/Cropped_DataTransfer/masks/tmaskm.nc')"
   ]
  },
  {
   "cell_type": "code",
   "execution_count": 22,
   "id": "ba2d267e-d4dd-40e0-a36c-7512c05278dc",
   "metadata": {},
   "outputs": [],
   "source": [
    "mask = mask.tmask.isel(time=0)"
   ]
  },
  {
   "cell_type": "code",
   "execution_count": 23,
   "id": "a6895066-75d5-49b5-ab2c-94921e1fbb28",
   "metadata": {},
   "outputs": [],
   "source": [
    "data_baseline = mask.isel(x=slice(520,595),y=slice(330,435),z=slice(0,7)) * data_baseline.votemper.isel(x=slice(520,595),y=slice(330,435),deptht=slice(0,7))"
   ]
  },
  {
   "cell_type": "code",
   "execution_count": 24,
   "id": "cd9ec2c7-f587-4fab-a9e2-ead0e12b29ba",
   "metadata": {},
   "outputs": [],
   "source": [
    "data_oae = mask.isel(x=slice(520,595),y=slice(330,435),z=slice(0,7)) * data_oae.votemper.isel(x=slice(520,595),y=slice(330,435),deptht=slice(0,7))"
   ]
  },
  {
   "cell_type": "code",
   "execution_count": 25,
   "id": "0937f079-8a4f-4b94-a9f9-8ec5d2ee95d3",
   "metadata": {},
   "outputs": [],
   "source": [
    "data_baseline = data_baseline.to_dataset(name='swt')\n",
    "data_oae = data_oae.to_dataset(name='swt')"
   ]
  },
  {
   "cell_type": "code",
   "execution_count": 26,
   "id": "620804d8-ab57-46cb-878b-1f2c20fba50a",
   "metadata": {},
   "outputs": [],
   "source": [
    "data_baseline.to_netcdf('/Volumes/UnionSine/Cropped_DataTransfer/SWT&MLD/SWT_2.6/swt_baseline_2.6_cropped.nc')\n",
    "data_oae.to_netcdf('/Volumes/UnionSine/Cropped_DataTransfer/SWT&MLD/MLD_2.6/swt_oae_2.6_cropped.nc')"
   ]
  },
  {
   "cell_type": "markdown",
   "id": "d19dc2ff-d919-4b57-ab3c-48893e03014b",
   "metadata": {},
   "source": [
    "### SSP3_7.0"
   ]
  },
  {
   "cell_type": "code",
   "execution_count": 10,
   "id": "c290656d-5f35-49db-943a-9b1dcf548031",
   "metadata": {},
   "outputs": [],
   "source": [
    "data_baseline = xr.open_dataset('/Volumes/FOCI_Archive_1/Data_Chiara/FOCI_Chiara/SSP3_7.0/MLD&SWT/FOCI2.0-NM001_FM_ESM_SSP370os_2014CC105_votemper_somxl010_2015to2100.nc')"
   ]
  },
  {
   "cell_type": "code",
   "execution_count": 11,
   "id": "932dd58a-4a25-4ffa-a2e5-ab9978915d08",
   "metadata": {},
   "outputs": [],
   "source": [
    "data_oae = xr.open_dataset('/Volumes/FOCI_Archive_1/Data_Chiara/FOCI_Chiara/SSP3_7.0/MLD&SWT/FOCI2.0-TK200_FMESM_SSP370_alkEU_2014CC105_votemper_somxl010_2015to2100.nc')"
   ]
  },
  {
   "cell_type": "code",
   "execution_count": 12,
   "id": "267483fd-c754-44e7-b456-d5a77185418c",
   "metadata": {
    "tags": []
   },
   "outputs": [],
   "source": [
    "mask = xr.open_dataset('/Volumes/UnionSine/Cropped_DataTransfer/masks/tmaskm.nc')"
   ]
  },
  {
   "cell_type": "code",
   "execution_count": 13,
   "id": "7bb2a371-8bde-47cd-8a85-a00671851ba4",
   "metadata": {},
   "outputs": [],
   "source": [
    "mask = mask.tmask.isel(time=0)"
   ]
  },
  {
   "cell_type": "code",
   "execution_count": 14,
   "id": "bea66b2e-abfa-43a4-8906-dc982a6b8ed2",
   "metadata": {},
   "outputs": [],
   "source": [
    "data_baseline = mask.isel(x=slice(520,595),y=slice(330,435),z=slice(0,7)) * data_baseline.votemper.isel(x=slice(520,595),y=slice(330,435),deptht=slice(0,7))"
   ]
  },
  {
   "cell_type": "code",
   "execution_count": 15,
   "id": "36cbb8e2-07d3-49e2-a6c5-be9974c2736c",
   "metadata": {},
   "outputs": [],
   "source": [
    "data_oae = mask.isel(x=slice(520,595),y=slice(330,435),z=slice(0,7)) * data_oae.votemper.isel(x=slice(520,595),y=slice(330,435),deptht=slice(0,7))"
   ]
  },
  {
   "cell_type": "code",
   "execution_count": 16,
   "id": "45ee022c-60c9-4899-96e1-777aa52e7537",
   "metadata": {},
   "outputs": [],
   "source": [
    "data_baseline = data_baseline.to_dataset(name='swt')\n",
    "data_oae = data_oae.to_dataset(name='swt')"
   ]
  },
  {
   "cell_type": "code",
   "execution_count": 17,
   "id": "8dd4b46d-db87-447a-9668-7b7002ce3198",
   "metadata": {},
   "outputs": [],
   "source": [
    "data_baseline.to_netcdf('/Volumes/UnionSine/Cropped_DataTransfer/SWT&MLD/MLD&SWT_70/swt_baseline_7.0_cropped.nc')\n",
    "data_oae.to_netcdf('/Volumes/UnionSine/Cropped_DataTransfer/SWT&MLD/MLD&SWT_70/swt_oae_7.0_cropped.nc')"
   ]
  },
  {
   "cell_type": "code",
   "execution_count": null,
   "id": "525b0029-4fef-4ef7-b0cc-c6f9f11cb177",
   "metadata": {},
   "outputs": [],
   "source": []
  }
 ],
 "metadata": {
  "kernelspec": {
   "display_name": "geomar",
   "language": "python",
   "name": "geomar"
  },
  "language_info": {
   "codemirror_mode": {
    "name": "ipython",
    "version": 3
   },
   "file_extension": ".py",
   "mimetype": "text/x-python",
   "name": "python",
   "nbconvert_exporter": "python",
   "pygments_lexer": "ipython3",
   "version": "3.7.12"
  }
 },
 "nbformat": 4,
 "nbformat_minor": 5
}
