{
 "cells": [
  {
   "cell_type": "code",
   "execution_count": 1,
   "id": "e79e5ae7-8e8d-46ba-8fae-ae4f3d2a4e10",
   "metadata": {},
   "outputs": [
    {
     "data": {
      "text/plain": [
       "'3.7.12'"
      ]
     },
     "execution_count": 1,
     "metadata": {},
     "output_type": "execute_result"
    }
   ],
   "source": [
    "from platform import python_version \n",
    "python_version()"
   ]
  },
  {
   "cell_type": "code",
   "execution_count": 6,
   "id": "cc4d6154-89bd-4a14-a6f5-8eed53983139",
   "metadata": {},
   "outputs": [],
   "source": [
    "import matplotlib.pyplot as plt\n",
    "import netCDF4 as nc\n",
    "from netCDF4 import Dataset\n",
    "from matplotlib import pyplot as plt\n",
    "import numpy as np\n",
    "import pandas as pd\n",
    "import xarray as xr\n",
    "import cartopy.crs as ccrs"
   ]
  },
  {
   "cell_type": "code",
   "execution_count": 7,
   "id": "324729a0-bf1d-45dd-a469-d6e3f4f66991",
   "metadata": {},
   "outputs": [],
   "source": [
    "dataset = '/Users/chiaraciscato/Desktop/geomar/FOCI data/CO2flux_baseline_ensemble1_ssp126_1m.nc'\n",
    "data = xr.open_dataset(dataset)"
   ]
  },
  {
   "cell_type": "code",
   "execution_count": 8,
   "id": "91ec2967-3612-439f-a738-253e0a029b33",
   "metadata": {},
   "outputs": [
    {
     "name": "stdout",
     "output_type": "stream",
     "text": [
      "<xarray.Variable (y: 511, x: 722)>\n",
      "[368942 values with dtype=float32]\n",
      "Attributes:\n",
      "    standard_name:  latitude\n",
      "    long_name:      Latitude\n",
      "    units:          degrees_north\n",
      "<xarray.Variable (y: 511, x: 722)>\n",
      "[368942 values with dtype=float32]\n",
      "Attributes:\n",
      "    standard_name:  longitude\n",
      "    long_name:      Longitude\n",
      "    units:          degrees_east\n",
      "<xarray.Variable (time_counter: 1020)>\n",
      "array(['2015-01-16T12:00:00.000000000', '2015-02-15T00:00:00.000000000',\n",
      "       '2015-03-16T12:00:00.000000000', ..., '2099-10-16T12:00:00.000000000',\n",
      "       '2099-11-16T00:00:00.000000000', '2099-12-16T12:00:00.000000000'],\n",
      "      dtype='datetime64[ns]')\n",
      "Attributes:\n",
      "    standard_name:  time\n",
      "    long_name:      Time axis\n",
      "    time_origin:    2015-01-01 00:00:00\n",
      "    bounds:         time_centered_bounds\n",
      "<xarray.Variable (time_counter: 1020, axis_nbounds: 2)>\n",
      "array([['2015-01-01T00:00:00.000000000', '2015-02-01T00:00:00.000000000'],\n",
      "       ['2015-02-01T00:00:00.000000000', '2015-03-01T00:00:00.000000000'],\n",
      "       ['2015-03-01T00:00:00.000000000', '2015-04-01T00:00:00.000000000'],\n",
      "       ...,\n",
      "       ['2099-10-01T00:00:00.000000000', '2099-11-01T00:00:00.000000000'],\n",
      "       ['2099-11-01T00:00:00.000000000', '2099-12-01T00:00:00.000000000'],\n",
      "       ['2099-12-01T00:00:00.000000000', '2100-01-01T00:00:00.000000000']],\n",
      "      dtype='datetime64[ns]')\n",
      "<xarray.IndexVariable 'time_counter' (time_counter: 1020)>\n",
      "array(['2015-01-16T12:00:00.000000000', '2015-02-15T00:00:00.000000000',\n",
      "       '2015-03-16T12:00:00.000000000', ..., '2099-10-16T12:00:00.000000000',\n",
      "       '2099-11-16T00:00:00.000000000', '2099-12-16T12:00:00.000000000'],\n",
      "      dtype='datetime64[ns]')\n",
      "Attributes:\n",
      "    axis:           T\n",
      "    standard_name:  time\n",
      "    long_name:      Time axis\n",
      "    time_origin:    2015-01-01 00:00:00\n",
      "    bounds:         time_counter_bounds\n",
      "<xarray.Variable (time_counter: 1020, axis_nbounds: 2)>\n",
      "array([['2015-01-01T00:00:00.000000000', '2015-02-01T00:00:00.000000000'],\n",
      "       ['2015-02-01T00:00:00.000000000', '2015-03-01T00:00:00.000000000'],\n",
      "       ['2015-03-01T00:00:00.000000000', '2015-04-01T00:00:00.000000000'],\n",
      "       ...,\n",
      "       ['2099-10-01T00:00:00.000000000', '2099-11-01T00:00:00.000000000'],\n",
      "       ['2099-11-01T00:00:00.000000000', '2099-12-01T00:00:00.000000000'],\n",
      "       ['2099-12-01T00:00:00.000000000', '2100-01-01T00:00:00.000000000']],\n",
      "      dtype='datetime64[ns]')\n",
      "<xarray.Variable (time_counter: 1020, y: 511, x: 722)>\n",
      "[376320840 values with dtype=float64]\n",
      "Attributes:\n",
      "    long_name:           co2 flux calc in ECHAM\n",
      "    units:               kg/m2/sec\n",
      "    online_operation:    average\n",
      "    interval_operation:  2160 s\n",
      "    interval_write:      1 month\n",
      "    cell_methods:        time: mean (interval: 2160 s)\n"
     ]
    }
   ],
   "source": [
    "for var in ds.variables.values(): # print all variables \n",
    "    print(var)"
   ]
  },
  {
   "cell_type": "code",
   "execution_count": null,
   "id": "18dea60c-5e90-499c-878b-50ad1b6e5f9f",
   "metadata": {},
   "outputs": [],
   "source": [
    "ds.variables.values() # print all variables"
   ]
  },
  {
   "cell_type": "code",
   "execution_count": null,
   "id": "571757de-7c24-456e-b058-0c4b720f8a93",
   "metadata": {},
   "outputs": [],
   "source": [
    "print(ds.variables.keys()) "
   ]
  },
  {
   "cell_type": "code",
   "execution_count": null,
   "id": "d615d793-4bae-40f1-ad18-c2f7a12548b3",
   "metadata": {},
   "outputs": [],
   "source": [
    "ds.variables['time_counter'] # print single variable"
   ]
  },
  {
   "cell_type": "code",
   "execution_count": null,
   "id": "558bdaf2-82c8-447a-b09a-07082d0cf383",
   "metadata": {},
   "outputs": [],
   "source": [
    "ds.nav_lat # inspect variable"
   ]
  },
  {
   "cell_type": "code",
   "execution_count": null,
   "id": "eb3675d0-56e8-47c1-b90c-22cbf9b3ee86",
   "metadata": {},
   "outputs": [],
   "source": [
    "ds['nav_lon'].min()\n",
    "\n",
    "# or - ds.nav_lon.min() -"
   ]
  },
  {
   "cell_type": "code",
   "execution_count": null,
   "id": "614cbb03-06a2-4c45-b2d8-3a9fcc0509b6",
   "metadata": {},
   "outputs": [],
   "source": [
    "ds_date = data.sel(time_counter='2015-01-16') # select one timestep"
   ]
  },
  {
   "cell_type": "code",
   "execution_count": null,
   "id": "370058e7-0dfa-44fe-9d9d-e4be85660d78",
   "metadata": {},
   "outputs": [],
   "source": [
    "ds['nav_lon'] = ds['nav_lon'].values.flatten()\n",
    "ds['nav_lat'] = ds['nav_lat'].values.flatten()\n",
    "\n",
    "ds['nav_lon'] = ds['nav_lon'].round(decimals = 0)\n",
    "ds['nav_lat'] = ds['nav_lat'].round(decimals = 0)"
   ]
  },
  {
   "cell_type": "code",
   "execution_count": null,
   "id": "75115c39-505a-46bf-9139-bf2396d8da31",
   "metadata": {},
   "outputs": [],
   "source": [
    "df = data.to_dataframe() # turn into Pandas dataframe"
   ]
  },
  {
   "cell_type": "code",
   "execution_count": null,
   "id": "808d3b5e-b07b-435b-835d-629b0bdcd552",
   "metadata": {},
   "outputs": [],
   "source": [
    "df.head() # first lines of the dataframe"
   ]
  },
  {
   "cell_type": "code",
   "execution_count": null,
   "id": "a8021066-533b-4b6a-918c-c2b6f3267e34",
   "metadata": {},
   "outputs": [],
   "source": [
    "df.describe() # describe the data "
   ]
  },
  {
   "cell_type": "code",
   "execution_count": null,
   "id": "0228f250-be9e-48d2-bdc1-5e09675c73c0",
   "metadata": {},
   "outputs": [],
   "source": [
    "df.tail() # tail of the dataframe"
   ]
  },
  {
   "cell_type": "code",
   "execution_count": null,
   "id": "e7b01731-1f57-4d12-b2aa-8befd3899698",
   "metadata": {},
   "outputs": [],
   "source": [
    "df.index"
   ]
  },
  {
   "cell_type": "code",
   "execution_count": null,
   "id": "c63f286d-8fc7-469c-8caa-7800b3d349fb",
   "metadata": {},
   "outputs": [],
   "source": [
    "# calculate the month length \n",
    "\n",
    "month_length = data.time_counter.dt.days_in_month \n",
    "month_length \n",
    "\n",
    "# calculate the weights by grouping by season\n",
    "\n",
    "weights = (\n",
    "    month_length.groupby(\"time_counter.season\") / month_length.groupby(\"time_counter.season\").sum()\n",
    ")\n",
    "weights\n",
    "\n",
    "# test that the sum of the weights for each season is 1.0\n",
    "\n",
    "np.testing.assert_allclose(weights.groupby('time_counter.season').sum().values, np.ones(4))"
   ]
  },
  {
   "cell_type": "code",
   "execution_count": null,
   "id": "3cf8e1e3-9d3e-4f0a-8aec-7c3a55db6780",
   "metadata": {},
   "outputs": [],
   "source": [
    "df.to_dataset() # turn into array"
   ]
  },
  {
   "cell_type": "code",
   "execution_count": null,
   "id": "c807f7e5-be9c-4b75-a982-4535cc6e433a",
   "metadata": {},
   "outputs": [],
   "source": [
    "# calculate the mean CO2 flux at each latitude\n",
    "\n",
    "lat_bins = np.arange(0, 91, 2) # define two-degree wide latitude bins\n",
    "\n",
    "lat_center = np.arange(1, 90, 2) # define a label for each bin corresponding to the central latitude\n",
    "\n",
    "co2flux_mean = data.co2flux_cpl.groupby_bins(\"nav_lat\", lat_bins, labels=lat_center).mean(\n",
    "    dim=xr.ALL_DIMS\n",
    ") # group according to those bins and take the mean\n",
    "\n",
    "co2flux_mean.plot()\n",
    "\n",
    "# https://docs.xarray.dev/en/stable/examples/multidimensional-coords.html "
   ]
  },
  {
   "cell_type": "code",
   "execution_count": null,
   "id": "bcc4c7ff-096a-425d-b97d-f9809e2587e7",
   "metadata": {},
   "outputs": [],
   "source": [
    "# calculate the mean CO2 flux at each longitude\n",
    "\n",
    "lon_bins = np.arange(-181, 181, 2) # define two-degree wide latitude bins\n",
    "\n",
    "lon_center = np.arange(-180, 180, 2) # define a label for each bin corresponding to the central latitude\n",
    "\n",
    "co2flux_mean = data.co2flux_cpl.groupby_bins(\"nav_lon\", lon_bins, labels=lon_center).mean(\n",
    "    dim=xr.ALL_DIMS\n",
    ") # group according to those bins and take the mean\n",
    "\n",
    "co2flux_mean.plot()\n",
    "\n",
    "# https://docs.xarray.dev/en/stable/examples/multidimensional-coords.html "
   ]
  },
  {
   "cell_type": "markdown",
   "id": "4a1b5793-e564-4389-994b-84dba8aa7997",
   "metadata": {},
   "source": [
    "### % Amplitude Change Over Time with and without OAE"
   ]
  },
  {
   "cell_type": "code",
   "execution_count": 1,
   "id": "32a6c607-d02c-4a7c-bee1-c49dd01736d9",
   "metadata": {},
   "outputs": [
    {
     "ename": "NameError",
     "evalue": "name 'fco2_amplitude_baseline' is not defined",
     "output_type": "error",
     "traceback": [
      "\u001b[0;31m---------------------------------------------------------------------------\u001b[0m",
      "\u001b[0;31mNameError\u001b[0m                                 Traceback (most recent call last)",
      "\u001b[0;32m/var/folders/hq/35w1hmb96js9vgqq4730r3780000gn/T/ipykernel_27836/889949494.py\u001b[0m in \u001b[0;36m<module>\u001b[0;34m\u001b[0m\n\u001b[0;32m----> 1\u001b[0;31m \u001b[0mfco2_amplitude_baseline_pct\u001b[0m \u001b[0;34m=\u001b[0m \u001b[0mfco2_amplitude_baseline\u001b[0m\u001b[0;34m.\u001b[0m\u001b[0mto_dataframe\u001b[0m\u001b[0;34m(\u001b[0m\u001b[0;34m)\u001b[0m\u001b[0;34m\u001b[0m\u001b[0;34m\u001b[0m\u001b[0m\n\u001b[0m\u001b[1;32m      2\u001b[0m \u001b[0mfco2_amplitude_oae_pct\u001b[0m \u001b[0;34m=\u001b[0m \u001b[0mfco2_amplitude_oae\u001b[0m\u001b[0;34m.\u001b[0m\u001b[0mto_dataframe\u001b[0m\u001b[0;34m(\u001b[0m\u001b[0;34m)\u001b[0m\u001b[0;34m\u001b[0m\u001b[0;34m\u001b[0m\u001b[0m\n",
      "\u001b[0;31mNameError\u001b[0m: name 'fco2_amplitude_baseline' is not defined"
     ]
    }
   ],
   "source": [
    "fco2_amplitude_baseline_pct = fco2_amplitude_baseline.to_dataframe()\n",
    "fco2_amplitude_oae_pct = fco2_amplitude_oae.to_dataframe()"
   ]
  },
  {
   "cell_type": "code",
   "execution_count": 425,
   "id": "d20ff806-f7a6-4905-99e3-ecc5fc6105cc",
   "metadata": {},
   "outputs": [],
   "source": [
    "fco2_amplitude_baseline_pct = fco2_amplitude_baseline_pct.pct_change()\n",
    "fco2_amplitude_oae_pct = fco2_amplitude_oae_pct.pct_change()"
   ]
  },
  {
   "cell_type": "code",
   "execution_count": 426,
   "id": "54ea2081-0e8c-43a5-9dbc-d0897b02fa4f",
   "metadata": {},
   "outputs": [],
   "source": [
    "fco2_amplitude_baseline_pct = fco2_amplitude_baseline_pct.to_xarray()\n",
    "fco2_amplitude_oae_pct = fco2_amplitude_oae_pct.to_xarray()"
   ]
  },
  {
   "cell_type": "code",
   "execution_count": 427,
   "id": "5c751823-0719-418a-9449-d4052282fa26",
   "metadata": {},
   "outputs": [
    {
     "data": {
      "application/vnd.plotly.v1+json": {
       "config": {
        "plotlyServerURL": "https://plot.ly"
       },
       "data": [
        {
         "line": {
          "color": "#0000FF"
         },
         "mode": "lines",
         "name": "Baseline",
         "type": "scatter",
         "x": [
          2015,
          2016,
          2017,
          2018,
          2019,
          2020,
          2021,
          2022,
          2023,
          2024,
          2025,
          2026,
          2027,
          2028,
          2029,
          2030,
          2031,
          2032,
          2033,
          2034,
          2035,
          2036,
          2037,
          2038,
          2039,
          2040,
          2041,
          2042,
          2043,
          2044,
          2045,
          2046,
          2047,
          2048,
          2049,
          2050,
          2051,
          2052,
          2053,
          2054,
          2055,
          2056,
          2057,
          2058,
          2059,
          2060,
          2061,
          2062,
          2063,
          2064,
          2065,
          2066,
          2067,
          2068,
          2069,
          2070,
          2071,
          2072,
          2073,
          2074,
          2075,
          2076,
          2077,
          2078,
          2079,
          2080,
          2081,
          2082,
          2083,
          2084,
          2085,
          2086,
          2087,
          2088,
          2089,
          2090,
          2091,
          2092,
          2093,
          2094,
          2095,
          2096,
          2097,
          2098,
          2099
         ],
         "y": [
          null,
          0.024348858788747485,
          0.09148514326477186,
          0.09590857454294066,
          -0.15479300238311722,
          0.46153183473631154,
          -0.023967785920166573,
          0.24769643441622136,
          -0.22499642589006275,
          -0.10000886237241069,
          0.1902493837093664,
          -0.13888835038497083,
          0.12708489189603833,
          -0.09816369702271888,
          0.1816375673003039,
          -0.03685324985102112,
          -0.18768680328105902,
          0.016571689655328514,
          0.385786759401856,
          0.03382744391567494,
          0.06590335621411736,
          -0.033830499600076225,
          0.0005735919155662739,
          -0.02696820396258337,
          -0.35313079989084795,
          0.69369272064572,
          -0.3440717873178001,
          0.37654750183244357,
          -0.12196204302415825,
          -0.3264202270216291,
          0.5168581560528345,
          -0.19087080274826485,
          0.8925731386943334,
          -0.22534651499608593,
          0.1715938282072238,
          -0.11489496474548211,
          0.030766520772921746,
          0.11275547457029322,
          -0.3603807988582862,
          0.44475125768534296,
          -0.011216746737730543,
          0.003906877510146289,
          -0.15933907115025725,
          0.10820215122427923,
          0.37902146853190644,
          -0.1159487536786793,
          -0.11932733088703862,
          0.17064382140789047,
          -0.2061012190667667,
          0.18435275171239196,
          0.1988611628969652,
          -0.2722210228088231,
          0.306673666289939,
          -0.25760692838908505,
          0.4313420127550931,
          0.12754974596693147,
          -0.03658032283382773,
          -0.09360252581165485,
          -0.0673536846627848,
          -0.11631608499618096,
          0.19751986638668773,
          0.11619647597809135,
          -0.35687392161266873,
          0.14801005945267764,
          0.48810612955036214,
          -0.3888066492189082,
          0.12405004253369034,
          0.22172363647407378,
          0.09748457307138114,
          0.37793296590241154,
          -0.31080309171856235,
          -0.024153265709123684,
          -0.12416115582603016,
          -0.08796188624503698,
          0.33278018977451995,
          -0.014106766303352503,
          -0.1818925477665747,
          0.1725412323783091,
          0.025710218302054555,
          0.11671333432981501,
          -0.32592647226008375,
          0.25402723777721303,
          0.07191347660057823,
          0.005415171227983073,
          0.02311809561574041
         ]
        },
        {
         "line": {
          "color": "#00FF00"
         },
         "mode": "lines",
         "name": "OAE",
         "type": "scatter",
         "x": [
          2015,
          2016,
          2017,
          2018,
          2019,
          2020,
          2021,
          2022,
          2023,
          2024,
          2025,
          2026,
          2027,
          2028,
          2029,
          2030,
          2031,
          2032,
          2033,
          2034,
          2035,
          2036,
          2037,
          2038,
          2039,
          2040,
          2041,
          2042,
          2043,
          2044,
          2045,
          2046,
          2047,
          2048,
          2049,
          2050,
          2051,
          2052,
          2053,
          2054,
          2055,
          2056,
          2057,
          2058,
          2059,
          2060,
          2061,
          2062,
          2063,
          2064,
          2065,
          2066,
          2067,
          2068,
          2069,
          2070,
          2071,
          2072,
          2073,
          2074,
          2075,
          2076,
          2077,
          2078,
          2079,
          2080,
          2081,
          2082,
          2083,
          2084,
          2085,
          2086,
          2087,
          2088,
          2089,
          2090,
          2091,
          2092,
          2093,
          2094,
          2095,
          2096,
          2097,
          2098,
          2099
         ],
         "y": [
          null,
          0.024348858788747485,
          0.09148514326477186,
          0.09590857454294066,
          -0.15479300238311722,
          0.46153183473631154,
          -0.023967785920166573,
          0.24769643441622136,
          -0.22499642589006275,
          -0.10000886237241069,
          0.0007992121157023302,
          0.1573267864213237,
          -0.24875998202109217,
          -0.16514884161222587,
          0.0772560324039171,
          0.3399468643184973,
          -0.30228775401180674,
          0.12426296326186326,
          0.13785685275975812,
          -0.1437348960706455,
          -0.05489905160828601,
          0.2370704033342994,
          -0.30140101212234827,
          0.31627438181845235,
          -0.03142460208372899,
          0.01328380026980236,
          0.08090147819552373,
          -0.08933393731570616,
          0.48008357082338504,
          -0.11107807279862714,
          -0.12325589031614093,
          -0.01871566094628274,
          -0.00846809256967207,
          0.022751006331030554,
          -0.2975290027681642,
          0.0007802166523454002,
          0.6459314793101398,
          0.044877415755606664,
          -0.019960455150497824,
          -0.09275677184378084,
          0.03915102908583057,
          0.10504363799253746,
          -0.21353366559185893,
          0.05784474846104004,
          0.28997776274170595,
          0.10484500062348867,
          -0.24401118287891754,
          0.25346330917398974,
          0.13581223458436464,
          -0.19446241912000406,
          -0.1252329656311808,
          0.5431541564442341,
          -0.3608938259275267,
          0.36944472220889435,
          0.006808697245096695,
          -0.3814496113861573,
          0.3273987162263703,
          -0.058039125400977665,
          0.2529290552010437,
          -0.10572749550048122,
          0.02256759264639152,
          0.336134881032061,
          -0.3139677937820923,
          -0.12029109974926389,
          0.5117099178011306,
          -0.096016912492076,
          -0.005267139417152622,
          0.16089276936690955,
          -0.0002168092852580239,
          -0.16694746873105193,
          0.054315457722013516,
          0.08106256706944914,
          -0.18817566485589587,
          0.5365022276708822,
          0.019438439888001202,
          -0.18386428033300029,
          -0.30111575864791273,
          0.010061479609511093,
          0.09961527691349725,
          0.42615229370512386,
          -0.25817812193256773,
          0.189269254861006,
          0.03926424042022858,
          0.41154886918239875,
          -0.2053936603593851
         ]
        }
       ],
       "layout": {
        "autosize": true,
        "template": {
         "data": {
          "bar": [
           {
            "error_x": {
             "color": "#2a3f5f"
            },
            "error_y": {
             "color": "#2a3f5f"
            },
            "marker": {
             "line": {
              "color": "#E5ECF6",
              "width": 0.5
             },
             "pattern": {
              "fillmode": "overlay",
              "size": 10,
              "solidity": 0.2
             }
            },
            "type": "bar"
           }
          ],
          "barpolar": [
           {
            "marker": {
             "line": {
              "color": "#E5ECF6",
              "width": 0.5
             },
             "pattern": {
              "fillmode": "overlay",
              "size": 10,
              "solidity": 0.2
             }
            },
            "type": "barpolar"
           }
          ],
          "carpet": [
           {
            "aaxis": {
             "endlinecolor": "#2a3f5f",
             "gridcolor": "white",
             "linecolor": "white",
             "minorgridcolor": "white",
             "startlinecolor": "#2a3f5f"
            },
            "baxis": {
             "endlinecolor": "#2a3f5f",
             "gridcolor": "white",
             "linecolor": "white",
             "minorgridcolor": "white",
             "startlinecolor": "#2a3f5f"
            },
            "type": "carpet"
           }
          ],
          "choropleth": [
           {
            "colorbar": {
             "outlinewidth": 0,
             "ticks": ""
            },
            "type": "choropleth"
           }
          ],
          "contour": [
           {
            "colorbar": {
             "outlinewidth": 0,
             "ticks": ""
            },
            "colorscale": [
             [
              0,
              "#0d0887"
             ],
             [
              0.1111111111111111,
              "#46039f"
             ],
             [
              0.2222222222222222,
              "#7201a8"
             ],
             [
              0.3333333333333333,
              "#9c179e"
             ],
             [
              0.4444444444444444,
              "#bd3786"
             ],
             [
              0.5555555555555556,
              "#d8576b"
             ],
             [
              0.6666666666666666,
              "#ed7953"
             ],
             [
              0.7777777777777778,
              "#fb9f3a"
             ],
             [
              0.8888888888888888,
              "#fdca26"
             ],
             [
              1,
              "#f0f921"
             ]
            ],
            "type": "contour"
           }
          ],
          "contourcarpet": [
           {
            "colorbar": {
             "outlinewidth": 0,
             "ticks": ""
            },
            "type": "contourcarpet"
           }
          ],
          "heatmap": [
           {
            "colorbar": {
             "outlinewidth": 0,
             "ticks": ""
            },
            "colorscale": [
             [
              0,
              "#0d0887"
             ],
             [
              0.1111111111111111,
              "#46039f"
             ],
             [
              0.2222222222222222,
              "#7201a8"
             ],
             [
              0.3333333333333333,
              "#9c179e"
             ],
             [
              0.4444444444444444,
              "#bd3786"
             ],
             [
              0.5555555555555556,
              "#d8576b"
             ],
             [
              0.6666666666666666,
              "#ed7953"
             ],
             [
              0.7777777777777778,
              "#fb9f3a"
             ],
             [
              0.8888888888888888,
              "#fdca26"
             ],
             [
              1,
              "#f0f921"
             ]
            ],
            "type": "heatmap"
           }
          ],
          "heatmapgl": [
           {
            "colorbar": {
             "outlinewidth": 0,
             "ticks": ""
            },
            "colorscale": [
             [
              0,
              "#0d0887"
             ],
             [
              0.1111111111111111,
              "#46039f"
             ],
             [
              0.2222222222222222,
              "#7201a8"
             ],
             [
              0.3333333333333333,
              "#9c179e"
             ],
             [
              0.4444444444444444,
              "#bd3786"
             ],
             [
              0.5555555555555556,
              "#d8576b"
             ],
             [
              0.6666666666666666,
              "#ed7953"
             ],
             [
              0.7777777777777778,
              "#fb9f3a"
             ],
             [
              0.8888888888888888,
              "#fdca26"
             ],
             [
              1,
              "#f0f921"
             ]
            ],
            "type": "heatmapgl"
           }
          ],
          "histogram": [
           {
            "marker": {
             "pattern": {
              "fillmode": "overlay",
              "size": 10,
              "solidity": 0.2
             }
            },
            "type": "histogram"
           }
          ],
          "histogram2d": [
           {
            "colorbar": {
             "outlinewidth": 0,
             "ticks": ""
            },
            "colorscale": [
             [
              0,
              "#0d0887"
             ],
             [
              0.1111111111111111,
              "#46039f"
             ],
             [
              0.2222222222222222,
              "#7201a8"
             ],
             [
              0.3333333333333333,
              "#9c179e"
             ],
             [
              0.4444444444444444,
              "#bd3786"
             ],
             [
              0.5555555555555556,
              "#d8576b"
             ],
             [
              0.6666666666666666,
              "#ed7953"
             ],
             [
              0.7777777777777778,
              "#fb9f3a"
             ],
             [
              0.8888888888888888,
              "#fdca26"
             ],
             [
              1,
              "#f0f921"
             ]
            ],
            "type": "histogram2d"
           }
          ],
          "histogram2dcontour": [
           {
            "colorbar": {
             "outlinewidth": 0,
             "ticks": ""
            },
            "colorscale": [
             [
              0,
              "#0d0887"
             ],
             [
              0.1111111111111111,
              "#46039f"
             ],
             [
              0.2222222222222222,
              "#7201a8"
             ],
             [
              0.3333333333333333,
              "#9c179e"
             ],
             [
              0.4444444444444444,
              "#bd3786"
             ],
             [
              0.5555555555555556,
              "#d8576b"
             ],
             [
              0.6666666666666666,
              "#ed7953"
             ],
             [
              0.7777777777777778,
              "#fb9f3a"
             ],
             [
              0.8888888888888888,
              "#fdca26"
             ],
             [
              1,
              "#f0f921"
             ]
            ],
            "type": "histogram2dcontour"
           }
          ],
          "mesh3d": [
           {
            "colorbar": {
             "outlinewidth": 0,
             "ticks": ""
            },
            "type": "mesh3d"
           }
          ],
          "parcoords": [
           {
            "line": {
             "colorbar": {
              "outlinewidth": 0,
              "ticks": ""
             }
            },
            "type": "parcoords"
           }
          ],
          "pie": [
           {
            "automargin": true,
            "type": "pie"
           }
          ],
          "scatter": [
           {
            "fillpattern": {
             "fillmode": "overlay",
             "size": 10,
             "solidity": 0.2
            },
            "type": "scatter"
           }
          ],
          "scatter3d": [
           {
            "line": {
             "colorbar": {
              "outlinewidth": 0,
              "ticks": ""
             }
            },
            "marker": {
             "colorbar": {
              "outlinewidth": 0,
              "ticks": ""
             }
            },
            "type": "scatter3d"
           }
          ],
          "scattercarpet": [
           {
            "marker": {
             "colorbar": {
              "outlinewidth": 0,
              "ticks": ""
             }
            },
            "type": "scattercarpet"
           }
          ],
          "scattergeo": [
           {
            "marker": {
             "colorbar": {
              "outlinewidth": 0,
              "ticks": ""
             }
            },
            "type": "scattergeo"
           }
          ],
          "scattergl": [
           {
            "marker": {
             "colorbar": {
              "outlinewidth": 0,
              "ticks": ""
             }
            },
            "type": "scattergl"
           }
          ],
          "scattermapbox": [
           {
            "marker": {
             "colorbar": {
              "outlinewidth": 0,
              "ticks": ""
             }
            },
            "type": "scattermapbox"
           }
          ],
          "scatterpolar": [
           {
            "marker": {
             "colorbar": {
              "outlinewidth": 0,
              "ticks": ""
             }
            },
            "type": "scatterpolar"
           }
          ],
          "scatterpolargl": [
           {
            "marker": {
             "colorbar": {
              "outlinewidth": 0,
              "ticks": ""
             }
            },
            "type": "scatterpolargl"
           }
          ],
          "scatterternary": [
           {
            "marker": {
             "colorbar": {
              "outlinewidth": 0,
              "ticks": ""
             }
            },
            "type": "scatterternary"
           }
          ],
          "surface": [
           {
            "colorbar": {
             "outlinewidth": 0,
             "ticks": ""
            },
            "colorscale": [
             [
              0,
              "#0d0887"
             ],
             [
              0.1111111111111111,
              "#46039f"
             ],
             [
              0.2222222222222222,
              "#7201a8"
             ],
             [
              0.3333333333333333,
              "#9c179e"
             ],
             [
              0.4444444444444444,
              "#bd3786"
             ],
             [
              0.5555555555555556,
              "#d8576b"
             ],
             [
              0.6666666666666666,
              "#ed7953"
             ],
             [
              0.7777777777777778,
              "#fb9f3a"
             ],
             [
              0.8888888888888888,
              "#fdca26"
             ],
             [
              1,
              "#f0f921"
             ]
            ],
            "type": "surface"
           }
          ],
          "table": [
           {
            "cells": {
             "fill": {
              "color": "#EBF0F8"
             },
             "line": {
              "color": "white"
             }
            },
            "header": {
             "fill": {
              "color": "#C8D4E3"
             },
             "line": {
              "color": "white"
             }
            },
            "type": "table"
           }
          ]
         },
         "layout": {
          "annotationdefaults": {
           "arrowcolor": "#2a3f5f",
           "arrowhead": 0,
           "arrowwidth": 1
          },
          "autotypenumbers": "strict",
          "coloraxis": {
           "colorbar": {
            "outlinewidth": 0,
            "ticks": ""
           }
          },
          "colorscale": {
           "diverging": [
            [
             0,
             "#8e0152"
            ],
            [
             0.1,
             "#c51b7d"
            ],
            [
             0.2,
             "#de77ae"
            ],
            [
             0.3,
             "#f1b6da"
            ],
            [
             0.4,
             "#fde0ef"
            ],
            [
             0.5,
             "#f7f7f7"
            ],
            [
             0.6,
             "#e6f5d0"
            ],
            [
             0.7,
             "#b8e186"
            ],
            [
             0.8,
             "#7fbc41"
            ],
            [
             0.9,
             "#4d9221"
            ],
            [
             1,
             "#276419"
            ]
           ],
           "sequential": [
            [
             0,
             "#0d0887"
            ],
            [
             0.1111111111111111,
             "#46039f"
            ],
            [
             0.2222222222222222,
             "#7201a8"
            ],
            [
             0.3333333333333333,
             "#9c179e"
            ],
            [
             0.4444444444444444,
             "#bd3786"
            ],
            [
             0.5555555555555556,
             "#d8576b"
            ],
            [
             0.6666666666666666,
             "#ed7953"
            ],
            [
             0.7777777777777778,
             "#fb9f3a"
            ],
            [
             0.8888888888888888,
             "#fdca26"
            ],
            [
             1,
             "#f0f921"
            ]
           ],
           "sequentialminus": [
            [
             0,
             "#0d0887"
            ],
            [
             0.1111111111111111,
             "#46039f"
            ],
            [
             0.2222222222222222,
             "#7201a8"
            ],
            [
             0.3333333333333333,
             "#9c179e"
            ],
            [
             0.4444444444444444,
             "#bd3786"
            ],
            [
             0.5555555555555556,
             "#d8576b"
            ],
            [
             0.6666666666666666,
             "#ed7953"
            ],
            [
             0.7777777777777778,
             "#fb9f3a"
            ],
            [
             0.8888888888888888,
             "#fdca26"
            ],
            [
             1,
             "#f0f921"
            ]
           ]
          },
          "colorway": [
           "#636efa",
           "#EF553B",
           "#00cc96",
           "#ab63fa",
           "#FFA15A",
           "#19d3f3",
           "#FF6692",
           "#B6E880",
           "#FF97FF",
           "#FECB52"
          ],
          "font": {
           "color": "#2a3f5f"
          },
          "geo": {
           "bgcolor": "white",
           "lakecolor": "white",
           "landcolor": "#E5ECF6",
           "showlakes": true,
           "showland": true,
           "subunitcolor": "white"
          },
          "hoverlabel": {
           "align": "left"
          },
          "hovermode": "closest",
          "mapbox": {
           "style": "light"
          },
          "paper_bgcolor": "white",
          "plot_bgcolor": "#E5ECF6",
          "polar": {
           "angularaxis": {
            "gridcolor": "white",
            "linecolor": "white",
            "ticks": ""
           },
           "bgcolor": "#E5ECF6",
           "radialaxis": {
            "gridcolor": "white",
            "linecolor": "white",
            "ticks": ""
           }
          },
          "scene": {
           "xaxis": {
            "backgroundcolor": "#E5ECF6",
            "gridcolor": "white",
            "gridwidth": 2,
            "linecolor": "white",
            "showbackground": true,
            "ticks": "",
            "zerolinecolor": "white"
           },
           "yaxis": {
            "backgroundcolor": "#E5ECF6",
            "gridcolor": "white",
            "gridwidth": 2,
            "linecolor": "white",
            "showbackground": true,
            "ticks": "",
            "zerolinecolor": "white"
           },
           "zaxis": {
            "backgroundcolor": "#E5ECF6",
            "gridcolor": "white",
            "gridwidth": 2,
            "linecolor": "white",
            "showbackground": true,
            "ticks": "",
            "zerolinecolor": "white"
           }
          },
          "shapedefaults": {
           "line": {
            "color": "#2a3f5f"
           }
          },
          "ternary": {
           "aaxis": {
            "gridcolor": "white",
            "linecolor": "white",
            "ticks": ""
           },
           "baxis": {
            "gridcolor": "white",
            "linecolor": "white",
            "ticks": ""
           },
           "bgcolor": "#E5ECF6",
           "caxis": {
            "gridcolor": "white",
            "linecolor": "white",
            "ticks": ""
           }
          },
          "title": {
           "x": 0.05
          },
          "xaxis": {
           "automargin": true,
           "gridcolor": "white",
           "linecolor": "white",
           "ticks": "",
           "title": {
            "standoff": 15
           },
           "zerolinecolor": "white",
           "zerolinewidth": 2
          },
          "yaxis": {
           "automargin": true,
           "gridcolor": "white",
           "linecolor": "white",
           "ticks": "",
           "title": {
            "standoff": 15
           },
           "zerolinecolor": "white",
           "zerolinewidth": 2
          }
         }
        },
        "xaxis": {
         "autorange": true,
         "range": [
          2015,
          2099
         ],
         "type": "linear"
        },
        "yaxis": {
         "autorange": true,
         "range": [
          -0.45999441521408824,
          0.9637609046895135
         ],
         "type": "linear"
        }
       }
      },
      "image/png": "[encoded data removed]"
     },
     "metadata": {},
     "output_type": "display_data"
    }
   ],
   "source": [
    "fig = go.Figure()\n",
    "fig.add_trace(go.Scatter(x=fco2_amplitude_baseline_pct.year, y=fco2_amplitude_baseline_pct['fco2'],\n",
    "                    mode='lines', line_color='#0000FF',\n",
    "                    name='Baseline'))\n",
    "fig.add_trace(go.Scatter(x=fco2_amplitude_oae_pct.year, y=fco2_amplitude_oae_pct['fco2'],\n",
    "                    mode='lines', line_color='#00FF00',\n",
    "                    name='OAE'))\n",
    "fig.show()"
   ]
  },
  {
   "cell_type": "code",
   "execution_count": null,
   "id": "59fa8d2e-57f7-4e2a-a798-2e5241bac890",
   "metadata": {},
   "outputs": [],
   "source": [
    "sliced_data = ds.where((-25 < ds.nav_lon) & (ds.nav_lon < 20) & (35 < ds.nav_lat) & (ds.nav_lat < 70), drop=True)\n",
    "\n",
    "# https://stackoverflow.com/questions/41818927/how-to-subset-data-using-multidimensional-coordinates-using-python-xarr"
   ]
  }
 ],
 "metadata": {
  "kernelspec": {
   "display_name": "geomar",
   "language": "python",
   "name": "geomar"
  },
  "language_info": {
   "codemirror_mode": {
    "name": "ipython",
    "version": 3
   },
   "file_extension": ".py",
   "mimetype": "text/x-python",
   "name": "python",
   "nbconvert_exporter": "python",
   "pygments_lexer": "ipython3",
   "version": "3.7.12"
  }
 },
 "nbformat": 4,
 "nbformat_minor": 5
}
