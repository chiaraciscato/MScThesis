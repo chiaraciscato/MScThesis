{
 "cells": [
  {
   "cell_type": "code",
   "execution_count": 1,
   "id": "e79e5ae7-8e8d-46ba-8fae-ae4f3d2a4e10",
   "metadata": {},
   "outputs": [
    {
     "data": {
      "text/plain": [
       "'3.7.12'"
      ]
     },
     "execution_count": 1,
     "metadata": {},
     "output_type": "execute_result"
    }
   ],
   "source": [
    "from platform import python_version \n",
    "python_version()"
   ]
  },
  {
   "cell_type": "code",
   "execution_count": 6,
   "id": "cc4d6154-89bd-4a14-a6f5-8eed53983139",
   "metadata": {},
   "outputs": [],
   "source": [
    "import matplotlib.pyplot as plt\n",
    "import netCDF4 as nc\n",
    "from netCDF4 import Dataset\n",
    "from matplotlib import pyplot as plt\n",
    "import numpy as np\n",
    "import pandas as pd\n",
    "import xarray as xr\n",
    "import cartopy.crs as ccrs"
   ]
  },
  {
   "cell_type": "code",
   "execution_count": 7,
   "id": "324729a0-bf1d-45dd-a469-d6e3f4f66991",
   "metadata": {},
   "outputs": [],
   "source": [
    "dataset = '/Users/chiaraciscato/Desktop/geomar/FOCI data/CO2flux_baseline_ensemble1_ssp126_1m.nc'\n",
    "data = xr.open_dataset(dataset)"
   ]
  },
  {
   "cell_type": "code",
   "execution_count": 8,
   "id": "91ec2967-3612-439f-a738-253e0a029b33",
   "metadata": {},
   "outputs": [
    {
     "name": "stdout",
     "output_type": "stream",
     "text": [
      "<xarray.Variable (y: 511, x: 722)>\n",
      "[368942 values with dtype=float32]\n",
      "Attributes:\n",
      "    standard_name:  latitude\n",
      "    long_name:      Latitude\n",
      "    units:          degrees_north\n",
      "<xarray.Variable (y: 511, x: 722)>\n",
      "[368942 values with dtype=float32]\n",
      "Attributes:\n",
      "    standard_name:  longitude\n",
      "    long_name:      Longitude\n",
      "    units:          degrees_east\n",
      "<xarray.Variable (time_counter: 1020)>\n",
      "array(['2015-01-16T12:00:00.000000000', '2015-02-15T00:00:00.000000000',\n",
      "       '2015-03-16T12:00:00.000000000', ..., '2099-10-16T12:00:00.000000000',\n",
      "       '2099-11-16T00:00:00.000000000', '2099-12-16T12:00:00.000000000'],\n",
      "      dtype='datetime64[ns]')\n",
      "Attributes:\n",
      "    standard_name:  time\n",
      "    long_name:      Time axis\n",
      "    time_origin:    2015-01-01 00:00:00\n",
      "    bounds:         time_centered_bounds\n",
      "<xarray.Variable (time_counter: 1020, axis_nbounds: 2)>\n",
      "array([['2015-01-01T00:00:00.000000000', '2015-02-01T00:00:00.000000000'],\n",
      "       ['2015-02-01T00:00:00.000000000', '2015-03-01T00:00:00.000000000'],\n",
      "       ['2015-03-01T00:00:00.000000000', '2015-04-01T00:00:00.000000000'],\n",
      "       ...,\n",
      "       ['2099-10-01T00:00:00.000000000', '2099-11-01T00:00:00.000000000'],\n",
      "       ['2099-11-01T00:00:00.000000000', '2099-12-01T00:00:00.000000000'],\n",
      "       ['2099-12-01T00:00:00.000000000', '2100-01-01T00:00:00.000000000']],\n",
      "      dtype='datetime64[ns]')\n",
      "<xarray.IndexVariable 'time_counter' (time_counter: 1020)>\n",
      "array(['2015-01-16T12:00:00.000000000', '2015-02-15T00:00:00.000000000',\n",
      "       '2015-03-16T12:00:00.000000000', ..., '2099-10-16T12:00:00.000000000',\n",
      "       '2099-11-16T00:00:00.000000000', '2099-12-16T12:00:00.000000000'],\n",
      "      dtype='datetime64[ns]')\n",
      "Attributes:\n",
      "    axis:           T\n",
      "    standard_name:  time\n",
      "    long_name:      Time axis\n",
      "    time_origin:    2015-01-01 00:00:00\n",
      "    bounds:         time_counter_bounds\n",
      "<xarray.Variable (time_counter: 1020, axis_nbounds: 2)>\n",
      "array([['2015-01-01T00:00:00.000000000', '2015-02-01T00:00:00.000000000'],\n",
      "       ['2015-02-01T00:00:00.000000000', '2015-03-01T00:00:00.000000000'],\n",
      "       ['2015-03-01T00:00:00.000000000', '2015-04-01T00:00:00.000000000'],\n",
      "       ...,\n",
      "       ['2099-10-01T00:00:00.000000000', '2099-11-01T00:00:00.000000000'],\n",
      "       ['2099-11-01T00:00:00.000000000', '2099-12-01T00:00:00.000000000'],\n",
      "       ['2099-12-01T00:00:00.000000000', '2100-01-01T00:00:00.000000000']],\n",
      "      dtype='datetime64[ns]')\n",
      "<xarray.Variable (time_counter: 1020, y: 511, x: 722)>\n",
      "[376320840 values with dtype=float64]\n",
      "Attributes:\n",
      "    long_name:           co2 flux calc in ECHAM\n",
      "    units:               kg/m2/sec\n",
      "    online_operation:    average\n",
      "    interval_operation:  2160 s\n",
      "    interval_write:      1 month\n",
      "    cell_methods:        time: mean (interval: 2160 s)\n"
     ]
    }
   ],
   "source": [
    "for var in ds.variables.values(): # print all variables \n",
    "    print(var)"
   ]
  },
  {
   "cell_type": "code",
   "execution_count": null,
   "id": "18dea60c-5e90-499c-878b-50ad1b6e5f9f",
   "metadata": {},
   "outputs": [],
   "source": [
    "ds.variables.values() # print all variables"
   ]
  },
  {
   "cell_type": "code",
   "execution_count": null,
   "id": "571757de-7c24-456e-b058-0c4b720f8a93",
   "metadata": {},
   "outputs": [],
   "source": [
    "print(ds.variables.keys()) "
   ]
  },
  {
   "cell_type": "code",
   "execution_count": null,
   "id": "d615d793-4bae-40f1-ad18-c2f7a12548b3",
   "metadata": {},
   "outputs": [],
   "source": [
    "ds.variables['time_counter'] # print single variable"
   ]
  },
  {
   "cell_type": "code",
   "execution_count": null,
   "id": "558bdaf2-82c8-447a-b09a-07082d0cf383",
   "metadata": {},
   "outputs": [],
   "source": [
    "ds.nav_lat # inspect variable"
   ]
  },
  {
   "cell_type": "code",
   "execution_count": null,
   "id": "eb3675d0-56e8-47c1-b90c-22cbf9b3ee86",
   "metadata": {},
   "outputs": [],
   "source": [
    "ds['nav_lon'].min()\n",
    "\n",
    "# or - ds.nav_lon.min() -"
   ]
  },
  {
   "cell_type": "code",
   "execution_count": null,
   "id": "614cbb03-06a2-4c45-b2d8-3a9fcc0509b6",
   "metadata": {},
   "outputs": [],
   "source": [
    "ds_date = data.sel(time_counter='2015-01-16') # select one timestep"
   ]
  },
  {
   "cell_type": "code",
   "execution_count": null,
   "id": "370058e7-0dfa-44fe-9d9d-e4be85660d78",
   "metadata": {},
   "outputs": [],
   "source": [
    "ds['nav_lon'] = ds['nav_lon'].values.flatten()\n",
    "ds['nav_lat'] = ds['nav_lat'].values.flatten()\n",
    "\n",
    "ds['nav_lon'] = ds['nav_lon'].round(decimals = 0)\n",
    "ds['nav_lat'] = ds['nav_lat'].round(decimals = 0)"
   ]
  },
  {
   "cell_type": "code",
   "execution_count": null,
   "id": "75115c39-505a-46bf-9139-bf2396d8da31",
   "metadata": {},
   "outputs": [],
   "source": [
    "df = data.to_dataframe() # turn into Pandas dataframe"
   ]
  },
  {
   "cell_type": "code",
   "execution_count": null,
   "id": "808d3b5e-b07b-435b-835d-629b0bdcd552",
   "metadata": {},
   "outputs": [],
   "source": [
    "df.head() # first lines of the dataframe"
   ]
  },
  {
   "cell_type": "code",
   "execution_count": null,
   "id": "a8021066-533b-4b6a-918c-c2b6f3267e34",
   "metadata": {},
   "outputs": [],
   "source": [
    "df.describe() # describe the data "
   ]
  },
  {
   "cell_type": "code",
   "execution_count": null,
   "id": "0228f250-be9e-48d2-bdc1-5e09675c73c0",
   "metadata": {},
   "outputs": [],
   "source": [
    "df.tail() # tail of the dataframe"
   ]
  },
  {
   "cell_type": "code",
   "execution_count": null,
   "id": "e7b01731-1f57-4d12-b2aa-8befd3899698",
   "metadata": {},
   "outputs": [],
   "source": [
    "df.index"
   ]
  },
  {
   "cell_type": "code",
   "execution_count": null,
   "id": "c63f286d-8fc7-469c-8caa-7800b3d349fb",
   "metadata": {},
   "outputs": [],
   "source": [
    "# calculate the month length \n",
    "\n",
    "month_length = data.time_counter.dt.days_in_month \n",
    "month_length \n",
    "\n",
    "# calculate the weights by grouping by season\n",
    "\n",
    "weights = (\n",
    "    month_length.groupby(\"time_counter.season\") / month_length.groupby(\"time_counter.season\").sum()\n",
    ")\n",
    "weights\n",
    "\n",
    "# test that the sum of the weights for each season is 1.0\n",
    "\n",
    "np.testing.assert_allclose(weights.groupby('time_counter.season').sum().values, np.ones(4))"
   ]
  },
  {
   "cell_type": "code",
   "execution_count": null,
   "id": "3cf8e1e3-9d3e-4f0a-8aec-7c3a55db6780",
   "metadata": {},
   "outputs": [],
   "source": [
    "df.to_dataset() # turn into array"
   ]
  }
 ],
 "metadata": {
  "kernelspec": {
   "display_name": "GEOMAR",
   "language": "python",
   "name": "geomar"
  },
  "language_info": {
   "codemirror_mode": {
    "name": "ipython",
    "version": 3
   },
   "file_extension": ".py",
   "mimetype": "text/x-python",
   "name": "python",
   "nbconvert_exporter": "python",
   "pygments_lexer": "ipython3",
   "version": "3.7.12"
  }
 },
 "nbformat": 4,
 "nbformat_minor": 5
}
