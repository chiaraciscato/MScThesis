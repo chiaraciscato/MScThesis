{
 "cells": [
  {
   "cell_type": "code",
   "execution_count": 202,
   "id": "83a722a2-9a33-480d-a6d4-b95886943548",
   "metadata": {},
   "outputs": [],
   "source": [
    "import cf\n",
    "import cfplot as cfp\n",
    "import cfdm"
   ]
  },
  {
   "cell_type": "code",
   "execution_count": 125,
   "id": "f7ac8356-3f65-480e-b073-4bdc51eb7b06",
   "metadata": {},
   "outputs": [],
   "source": [
    "import xarray as xr"
   ]
  },
  {
   "cell_type": "code",
   "execution_count": 143,
   "id": "3a681908-4eec-4b03-b184-3cfd806a9a42",
   "metadata": {},
   "outputs": [],
   "source": [
    "f = cf.read('/Users/chiaraciscato/Desktop/geomar/FOCI data/CO2flux_baseline_ensemble1_ssp126_1m.nc')[0]"
   ]
  },
  {
   "cell_type": "code",
   "execution_count": 153,
   "id": "e214d467-65e9-4fa5-a08f-81c33553cae8",
   "metadata": {},
   "outputs": [
    {
     "data": {
      "text/plain": [
       "<CF Field: long_name=co2 flux calc in ECHAM(time(1), ncdim%y(511), ncdim%x(722)) kg/m2/sec>"
      ]
     },
     "execution_count": 153,
     "metadata": {},
     "output_type": "execute_result"
    }
   ],
   "source": [
    "# basic information like dimensions, units, etc\n",
    "field = f[0]\n",
    "field"
   ]
  },
  {
   "cell_type": "code",
   "execution_count": 132,
   "id": "3927eaa9-2aaa-4aad-a0ce-e501104606fe",
   "metadata": {},
   "outputs": [
    {
     "name": "stdout",
     "output_type": "stream",
     "text": [
      "-----------------------------------------------------------\n",
      "Field: long_name=co2 flux calc in ECHAM (ncvar%co2flux_cpl)\n",
      "-----------------------------------------------------------\n",
      "Conventions = 'CF-1.5'\n",
      "NCO = 'netCDF Operators version 4.9.1 (Homepage = http://nco.sf.net, Code =\n",
      "       http://github.com/nco/nco)'\n",
      "_FillValue = 1e+20\n",
      "description = 'diagnostics 2d bio'\n",
      "history = 'Wed Jul 13 13:57:37 2022: ncrcat -F -O -L 1 -7 -v co2flux_cpl\n",
      "           ./nemo/FOCI2.0-NM004_FM_ESM_SSP126os_2014CC105_1m_20150101_20151231_\n",
      "           diad_T.nc ./nemo/FOCI2.0-NM004_FM_ESM_SSP126os_2014CC105_1m_20160101\n",
      "           _20161231_diad_T.nc ./nemo/FOCI2.0-NM004_FM_ESM_SSP126os_2014CC105_1\n",
      "           m_20170101_20171231_diad_T.nc ./nemo/FOCI2.0-NM004_FM_ESM_SSP126os_2\n",
      "           014CC105_1m_20180101_20181231_diad_T.nc ./nemo/FOCI2.0-NM004_FM_ESM_\n",
      "           SSP126os_2014CC105_1m_20190101_20191231_diad_T.nc ./nemo/FOCI2.0-NM0\n",
      "           04_FM_ESM_SSP126os_2014CC105_1m_20200101_20201231_diad_T.nc ./nemo/F\n",
      "           OCI2.0-NM004_FM_ESM_SSP126os_2014CC105_1m_20210101_20211231_diad_T.n\n",
      "           c ./nemo/FOCI2.0-NM004_FM_ESM_SSP126os_2014CC105_1m_20220101_2022123\n",
      "           1_diad_T.nc ./nemo/FOCI2.0-NM004_FM_ESM_SSP126os_2014CC105_1m_202301\n",
      "           01_20231231_diad_T.nc ./nemo/FOCI2.0-NM004_FM_ESM_SSP126os_2014CC105\n",
      "           _1m_20240101_20241231_diad_T.nc ./nemo/FOCI2.0-NM004_FM_ESM_SSP126os\n",
      "           _2014CC105_1m_20250101_20251231_diad_T.nc ./nemo/FOCI2.0-NM004_FM_ES\n",
      "           M_SSP126os_2014CC105_1m_20260101_20261231_diad_T.nc ./nemo/FOCI2.0-N\n",
      "           M004_FM_ESM_SSP126os_2014CC105_1m_20270101_20271231_diad_T.nc ./nemo\n",
      "           /FOCI2.0-NM004_FM_ESM_SSP126os_2014CC105_1m_20280101_20281231_diad_T\n",
      "           .nc ./nemo/FOCI2.0-NM004_FM_ESM_SSP126os_2014CC105_1m_20290101_20291\n",
      "           231_diad_T.nc ./nemo/FOCI2.0-NM004_FM_ESM_SSP126os_2014CC105_1m_2030\n",
      "           0101_20301231_diad_T.nc ./nemo/FOCI2.0-NM004_FM_ESM_SSP126os_2014CC1\n",
      "           05_1m_20310101_20311231_diad_T.nc ./nemo/FOCI2.0-NM004_FM_ESM_SSP126\n",
      "           os_2014CC105_1m_20320101_20321231_diad_T.nc ./nemo/FOCI2.0-NM004_FM_\n",
      "           ESM_SSP126os_2014CC105_1m_20330101_20331231_diad_T.nc ./nemo/FOCI2.0\n",
      "           -NM004_FM_ESM_SSP126os_2014CC105_1m_20340101_20341231_diad_T.nc ./ne\n",
      "           mo/FOCI2.0-NM004_FM_ESM_SSP126os_2014CC105_1m_20350101_20351231_diad\n",
      "           _T.nc ./nemo/FOCI2.0-NM004_FM_ESM_SSP126os_2014CC105_1m_20360101_203\n",
      "           61231_diad_T.nc ./nemo/FOCI2.0-NM004_FM_ESM_SSP126os_2014CC105_1m_20\n",
      "           370101_20371231_diad_T.nc ./nemo/FOCI2.0-NM004_FM_ESM_SSP126os_2014C\n",
      "           C105_1m_20380101_20381231_diad_T.nc ./nemo/FOCI2.0-NM004_FM_ESM_SSP1\n",
      "           26os_2014CC105_1m_20390101_20391231_diad_T.nc ./nemo/FOCI2.0-NM004_F\n",
      "           M_ESM_SSP126os_2014CC105_1m_20400101_20401231_diad_T.nc ./nemo/FOCI2\n",
      "           .0-NM004_FM_ESM_SSP126os_2014CC105_1m_20410101_20411231_diad_T.nc ./\n",
      "           nemo/FOCI2.0-NM004_FM_ESM_SSP126os_2014CC105_1m_20420101_20421231_di\n",
      "           ad_T.nc ./nemo/FOCI2.0-NM004_FM_ESM_SSP126os_2014CC105_1m_20430101_2\n",
      "           0431231_diad_T.nc ./nemo/FOCI2.0-NM004_FM_ESM_SSP126os_2014CC105_1m_\n",
      "           20440101_20441231_diad_T.nc ./nemo/FOCI2.0-NM004_FM_ESM_SSP126os_201\n",
      "           4CC105_1m_20450101_20451231_diad_T.nc ./nemo/FOCI2.0-NM004_FM_ESM_SS\n",
      "           P126os_2014CC105_1m_20460101_20461231_diad_T.nc ./nemo/FOCI2.0-NM004\n",
      "           _FM_ESM_SSP126os_2014CC105_1m_20470101_20471231_diad_T.nc ./nemo/FOC\n",
      "           I2.0-NM004_FM_ESM_SSP126os_2014CC105_1m_20480101_20481231_diad_T.nc \n",
      "           ./nemo/FOCI2.0-NM004_FM_ESM_SSP126os_2014CC105_1m_20490101_20491231_\n",
      "           diad_T.nc ./nemo/FOCI2.0-NM004_FM_ESM_SSP126os_2014CC105_1m_20500101\n",
      "           _20501231_diad_T.nc ./nemo/FOCI2.0-NM004_FM_ESM_SSP126os_2014CC105_1\n",
      "           m_20510101_20511231_diad_T.nc ./nemo/FOCI2.0-NM004_FM_ESM_SSP126os_2\n",
      "           014CC105_1m_20520101_20521231_diad_T.nc ./nemo/FOCI2.0-NM004_FM_ESM_\n",
      "           SSP126os_2014CC105_1m_20530101_20531231_diad_T.nc ./nemo/FOCI2.0-NM0\n",
      "           04_FM_ESM_SSP126os_2014CC105_1m_20540101_20541231_diad_T.nc ./nemo/F\n",
      "           OCI2.0-NM004_FM_ESM_SSP126os_2014CC105_1m_20550101_20551231_diad_T.n\n",
      "           c ./nemo/FOCI2.0-NM004_FM_ESM_SSP126os_2014CC105_1m_20560101_2056123\n",
      "           1_diad_T.nc ./nemo/FOCI2.0-NM004_FM_ESM_SSP126os_2014CC105_1m_205701\n",
      "           01_20571231_diad_T.nc ./nemo/FOCI2.0-NM004_FM_ESM_SSP126os_2014CC105\n",
      "           _1m_20580101_20581231_diad_T.nc ./nemo/FOCI2.0-NM004_FM_ESM_SSP126os\n",
      "           _2014CC105_1m_20590101_20591231_diad_T.nc ./nemo/FOCI2.0-NM004_FM_ES\n",
      "           M_SSP126os_2014CC105_1m_20600101_20601231_diad_T.nc ./nemo/FOCI2.0-N\n",
      "           M004_FM_ESM_SSP126os_2014CC105_1m_20610101_20611231_diad_T.nc ./nemo\n",
      "           /FOCI2.0-NM004_FM_ESM_SSP126os_2014CC105_1m_20620101_20621231_diad_T\n",
      "           .nc ./nemo/FOCI2.0-NM004_FM_ESM_SSP126os_2014CC105_1m_20630101_20631\n",
      "           231_diad_T.nc ./nemo/FOCI2.0-NM004_FM_ESM_SSP126os_2014CC105_1m_2064\n",
      "           0101_20641231_diad_T.nc ./nemo/FOCI2.0-NM004_FM_ESM_SSP126os_2014CC1\n",
      "           05_1m_20650101_20651231_diad_T.nc ./nemo/FOCI2.0-NM004_FM_ESM_SSP126\n",
      "           os_2014CC105_1m_20660101_20661231_diad_T.nc ./nemo/FOCI2.0-NM004_FM_\n",
      "           ESM_SSP126os_2014CC105_1m_20670101_20671231_diad_T.nc ./nemo/FOCI2.0\n",
      "           -NM004_FM_ESM_SSP126os_2014CC105_1m_20680101_20681231_diad_T.nc ./ne\n",
      "           mo/FOCI2.0-NM004_FM_ESM_SSP126os_2014CC105_1m_20690101_20691231_diad\n",
      "           _T.nc ./nemo/FOCI2.0-NM004_FM_ESM_SSP126os_2014CC105_1m_20700101_207\n",
      "           01231_diad_T.nc ./nemo/FOCI2.0-NM004_FM_ESM_SSP126os_2014CC105_1m_20\n",
      "           710101_20711231_diad_T.nc ./nemo/FOCI2.0-NM004_FM_ESM_SSP126os_2014C\n",
      "           C105_1m_20720101_20721231_diad_T.nc ./nemo/FOCI2.0-NM004_FM_ESM_SSP1\n",
      "           26os_2014CC105_1m_20730101_20731231_diad_T.nc ./nemo/FOCI2.0-NM004_F\n",
      "           M_ESM_SSP126os_2014CC105_1m_20740101_20741231_diad_T.nc ./nemo/FOCI2\n",
      "           .0-NM004_FM_ESM_SSP126os_2014CC105_1m_20750101_20751231_diad_T.nc ./\n",
      "           nemo/FOCI2.0-NM004_FM_ESM_SSP126os_2014CC105_1m_20760101_20761231_di\n",
      "           ad_T.nc ./nemo/FOCI2.0-NM004_FM_ESM_SSP126os_2014CC105_1m_20770101_2\n",
      "           0771231_diad_T.nc ./nemo/FOCI2.0-NM004_FM_ESM_SSP126os_2014CC105_1m_\n",
      "           20780101_20781231_diad_T.nc ./nemo/FOCI2.0-NM004_FM_ESM_SSP126os_201\n",
      "           4CC105_1m_20790101_20791231_diad_T.nc ./nemo/FOCI2.0-NM004_FM_ESM_SS\n",
      "           P126os_2014CC105_1m_20800101_20801231_diad_T.nc ./nemo/FOCI2.0-NM004\n",
      "           _FM_ESM_SSP126os_2014CC105_1m_20810101_20811231_diad_T.nc ./nemo/FOC\n",
      "           I2.0-NM004_FM_ESM_SSP126os_2014CC105_1m_20820101_20821231_diad_T.nc \n",
      "           ./nemo/FOCI2.0-NM004_FM_ESM_SSP126os_2014CC105_1m_20830101_20831231_\n",
      "           diad_T.nc ./nemo/FOCI2.0-NM004_FM_ESM_SSP126os_2014CC105_1m_20840101\n",
      "           _20841231_diad_T.nc ./nemo/FOCI2.0-NM004_FM_ESM_SSP126os_2014CC105_1\n",
      "           m_20850101_20851231_diad_T.nc ./nemo/FOCI2.0-NM004_FM_ESM_SSP126os_2\n",
      "           014CC105_1m_20860101_20861231_diad_T.nc ./nemo/FOCI2.0-NM004_FM_ESM_\n",
      "           SSP126os_2014CC105_1m_20870101_20871231_diad_T.nc ./nemo/FOCI2.0-NM0\n",
      "           04_FM_ESM_SSP126os_2014CC105_1m_20880101_20881231_diad_T.nc ./nemo/F\n",
      "           OCI2.0-NM004_FM_ESM_SSP126os_2014CC105_1m_20890101_20891231_diad_T.n\n",
      "           c ./nemo/FOCI2.0-NM004_FM_ESM_SSP126os_2014CC105_1m_20900101_2090123\n",
      "           1_diad_T.nc ./nemo/FOCI2.0-NM004_FM_ESM_SSP126os_2014CC105_1m_209101\n",
      "           01_20911231_diad_T.nc ./nemo/FOCI2.0-NM004_FM_ESM_SSP126os_2014CC105\n",
      "           _1m_20920101_20921231_diad_T.nc ./nemo/FOCI2.0-NM004_FM_ESM_SSP126os\n",
      "           _2014CC105_1m_20930101_20931231_diad_T.nc ./nemo/FOCI2.0-NM004_FM_ES\n",
      "           M_SSP126os_2014CC105_1m_20940101_20941231_diad_T.nc ./nemo/FOCI2.0-N\n",
      "           M004_FM_ESM_SSP126os_2014CC105_1m_20950101_20951231_diad_T.nc ./nemo\n",
      "           /FOCI2.0-NM004_FM_ESM_SSP126os_2014CC105_1m_20960101_20961231_diad_T\n",
      "           .nc ./nemo/FOCI2.0-NM004_FM_ESM_SSP126os_2014CC105_1m_20970101_20971\n",
      "           231_diad_T.nc ./nemo/FOCI2.0-NM004_FM_ESM_SSP126os_2014CC105_1m_2098\n",
      "           0101_20981231_diad_T.nc ./nemo/FOCI2.0-NM004_FM_ESM_SSP126os_2014CC1\n",
      "           05_1m_20990101_20991231_diad_T.nc /scratch/usr/shktkeme/submission_o\n",
      "           ceannets/ssp126/baseline/ensemble1/CO2flux_baseline_ensemble1_ssp126\n",
      "           _1m.nc\\nMon Apr  4 14:31:21 2022: ncks -7 --no-alphabetize -L 1\n",
      "           --cnk_dmn time,1 --cnk_dmn time_counter,1 --cnk_dmn z,1 --cnk_dmn\n",
      "           depthu,1 --cnk_dmn depthv,1 --cnk_dmn depthw,1 --cnk_dmn deptht,1\n",
      "           --cnk_dmn x,100 --cnk_dmn y,100 FOCI2.0-NM004_FM_ESM_SSP126os_2014CC\n",
      "           105_1m_20150101_20151231_diad_T.nc3 FOCI2.0-NM004_FM_ESM_SSP126os_20\n",
      "           14CC105_1m_20150101_20151231_diad_T.nc'\n",
      "interval_operation = '2160 s'\n",
      "interval_write = '1 month'\n",
      "long_name = 'co2 flux calc in ECHAM'\n",
      "missing_value = 1e+20\n",
      "name = 'FOCI2.0-NM004_FM_ESM_SSP126os_2014CC105_1m_20150101_20151231'\n",
      "online_operation = 'average'\n",
      "production = 'An IPSL model'\n",
      "timeStamp = '2022-Apr-04 13:54:06 CEST'\n",
      "title = 'diagnostics 2d bio'\n",
      "units = 'kg/m2/sec'\n",
      "\n",
      "Data(time(1020), ncdim%y(511), ncdim%x(722)) = [[[0.0, ..., 0.0]]] kg/m2/sec\n",
      "\n",
      "Cell Method: time(1020): mean (interval:  s)\n",
      "\n",
      "Domain Axis: ncdim%x(722)\n",
      "Domain Axis: ncdim%y(511)\n",
      "Domain Axis: time(1020)\n",
      "\n",
      "Dimension coordinate: time\n",
      "    axis = 'T'\n",
      "    calendar = 'gregorian'\n",
      "    long_name = 'Time axis'\n",
      "    standard_name = 'time'\n",
      "    time_origin = '2015-01-01 00:00:00'\n",
      "    units = 'seconds since 2015-01-01 00:00:00'\n",
      "    Data(time(1020)) = [2015-01-16 12:00:00, ..., 2099-12-16 12:00:00] gregorian\n",
      "    Bounds:calendar = 'gregorian'\n",
      "    Bounds:units = 'seconds since 2015-01-01 00:00:00'\n",
      "    Bounds:Data(time(1020), 2) = [[2015-01-01 00:00:00, ..., 2100-01-01 00:00:00]] gregorian\n",
      "\n",
      "Auxiliary coordinate: time\n",
      "    calendar = 'gregorian'\n",
      "    long_name = 'Time axis'\n",
      "    standard_name = 'time'\n",
      "    time_origin = '2015-01-01 00:00:00'\n",
      "    units = 'seconds since 2015-01-01 00:00:00'\n",
      "    Data(time(1020)) = [2015-01-16 12:00:00, ..., 2099-12-16 12:00:00] gregorian\n",
      "    Bounds:calendar = 'gregorian'\n",
      "    Bounds:units = 'seconds since 2015-01-01 00:00:00'\n",
      "    Bounds:Data(time(1020), 2) = [[2015-01-01 00:00:00, ..., 2100-01-01 00:00:00]] gregorian\n",
      "\n",
      "Auxiliary coordinate: latitude\n",
      "    long_name = 'Latitude'\n",
      "    standard_name = 'latitude'\n",
      "    units = 'degrees_north'\n",
      "    Data(ncdim%y(511), ncdim%x(722)) = [[-77.0104751586914, ..., 49.99550247192383]] degrees_north\n",
      "\n",
      "Auxiliary coordinate: longitude\n",
      "    long_name = 'Longitude'\n",
      "    standard_name = 'longitude'\n",
      "    units = 'degrees_east'\n",
      "    Data(ncdim%y(511), ncdim%x(722)) = [[72.75, ..., 72.99998474121094]] degrees_east\n",
      "\n"
     ]
    }
   ],
   "source": [
    "# maximum data information (metadata)\n",
    "field.dump()"
   ]
  },
  {
   "cell_type": "code",
   "execution_count": 123,
   "id": "150506cf-8799-4708-ab57-31ce55657c55",
   "metadata": {},
   "outputs": [
    {
     "name": "stdout",
     "output_type": "stream",
     "text": [
      "Field: long_name=co2 flux calc in ECHAM (ncvar%co2flux_cpl)\n",
      "-----------------------------------------------------------\n",
      "Data            : long_name=co2 flux calc in ECHAM(time(1020), ncdim%y(511), ncdim%x(722)) kg/m2/sec\n",
      "Cell methods    : time(1020): mean (interval:  s)\n",
      "Dimension coords: time(1020) = [2015-01-16 12:00:00, ..., 2099-12-16 12:00:00] gregorian\n",
      "Auxiliary coords: time(time(1020)) = [2015-01-16 12:00:00, ..., 2099-12-16 12:00:00] gregorian\n",
      "                : latitude(ncdim%y(511), ncdim%x(722)) = [[-77.0104751586914, ..., 49.99550247192383]] degrees_north\n",
      "                : longitude(ncdim%y(511), ncdim%x(722)) = [[72.75, ..., 72.99998474121094]] degrees_east\n"
     ]
    }
   ],
   "source": [
    "# more detailed information on the file\n",
    "print(f)"
   ]
  },
  {
   "cell_type": "code",
   "execution_count": null,
   "id": "bcbe0f41-e6ff-4884-8796-8474d8b9def3",
   "metadata": {},
   "outputs": [],
   "source": [
    "field"
   ]
  },
  {
   "cell_type": "code",
   "execution_count": 97,
   "id": "6e3245bc-d25b-4311-9fa8-70df62a62514",
   "metadata": {},
   "outputs": [
    {
     "name": "stdout",
     "output_type": "stream",
     "text": [
      "[[[0. 0. 0. ... 0. 0. 0.]\n",
      "  [0. 0. 0. ... 0. 0. 0.]\n",
      "  [0. 0. 0. ... 0. 0. 0.]\n",
      "  ...\n",
      "  [0. 0. 0. ... 0. 0. 0.]\n",
      "  [0. 0. 0. ... 0. 0. 0.]\n",
      "  [0. 0. 0. ... 0. 0. 0.]]\n",
      "\n",
      " [[0. 0. 0. ... 0. 0. 0.]\n",
      "  [0. 0. 0. ... 0. 0. 0.]\n",
      "  [0. 0. 0. ... 0. 0. 0.]\n",
      "  ...\n",
      "  [0. 0. 0. ... 0. 0. 0.]\n",
      "  [0. 0. 0. ... 0. 0. 0.]\n",
      "  [0. 0. 0. ... 0. 0. 0.]]\n",
      "\n",
      " [[0. 0. 0. ... 0. 0. 0.]\n",
      "  [0. 0. 0. ... 0. 0. 0.]\n",
      "  [0. 0. 0. ... 0. 0. 0.]\n",
      "  ...\n",
      "  [0. 0. 0. ... 0. 0. 0.]\n",
      "  [0. 0. 0. ... 0. 0. 0.]\n",
      "  [0. 0. 0. ... 0. 0. 0.]]\n",
      "\n",
      " ...\n",
      "\n",
      " [[0. 0. 0. ... 0. 0. 0.]\n",
      "  [0. 0. 0. ... 0. 0. 0.]\n",
      "  [0. 0. 0. ... 0. 0. 0.]\n",
      "  ...\n",
      "  [0. 0. 0. ... 0. 0. 0.]\n",
      "  [0. 0. 0. ... 0. 0. 0.]\n",
      "  [0. 0. 0. ... 0. 0. 0.]]\n",
      "\n",
      " [[0. 0. 0. ... 0. 0. 0.]\n",
      "  [0. 0. 0. ... 0. 0. 0.]\n",
      "  [0. 0. 0. ... 0. 0. 0.]\n",
      "  ...\n",
      "  [0. 0. 0. ... 0. 0. 0.]\n",
      "  [0. 0. 0. ... 0. 0. 0.]\n",
      "  [0. 0. 0. ... 0. 0. 0.]]\n",
      "\n",
      " [[0. 0. 0. ... 0. 0. 0.]\n",
      "  [0. 0. 0. ... 0. 0. 0.]\n",
      "  [0. 0. 0. ... 0. 0. 0.]\n",
      "  ...\n",
      "  [0. 0. 0. ... 0. 0. 0.]\n",
      "  [0. 0. 0. ... 0. 0. 0.]\n",
      "  [0. 0. 0. ... 0. 0. 0.]]]\n"
     ]
    }
   ],
   "source": [
    "# create array \n",
    "print(f.array)"
   ]
  },
  {
   "cell_type": "code",
   "execution_count": 138,
   "id": "f228ea98-7090-471b-a9cf-e0b2eef6834b",
   "metadata": {},
   "outputs": [
    {
     "name": "stdout",
     "output_type": "stream",
     "text": [
      "Field: long_name=co2 flux calc in ECHAM (ncvar%co2flux_cpl)\n",
      "-----------------------------------------------------------\n",
      "Data            : long_name=co2 flux calc in ECHAM(time(1), ncdim%y(511), ncdim%x(722)) kg/m2/sec\n",
      "Cell methods    : time(1): mean (interval:  s)\n",
      "Dimension coords: time(1) = [2015-01-16 12:00:00] gregorian\n",
      "Auxiliary coords: time(time(1)) = [2015-01-16 12:00:00] gregorian\n",
      "                : latitude(ncdim%y(511), ncdim%x(722)) = [[-77.0104751586914, ..., 49.99550247192383]] degrees_north\n",
      "                : longitude(ncdim%y(511), ncdim%x(722)) = [[72.75, ..., 72.99998474121094]] degrees_east\n"
     ]
    }
   ],
   "source": [
    "# print dataset at time 0\n",
    "print(f[0]) "
   ]
  },
  {
   "cell_type": "code",
   "execution_count": 100,
   "id": "52f75906-e043-41b1-b59e-15fbcd7c4731",
   "metadata": {},
   "outputs": [
    {
     "data": {
      "text/plain": [
       "3"
      ]
     },
     "execution_count": 100,
     "metadata": {},
     "output_type": "execute_result"
    }
   ],
   "source": [
    "# print n. of dimensions\n",
    "f.ndim"
   ]
  },
  {
   "cell_type": "code",
   "execution_count": 101,
   "id": "fb6718f9-5031-47c1-93cd-f0fbbe849b7f",
   "metadata": {},
   "outputs": [
    {
     "data": {
      "text/plain": [
       "(1020, 511, 722)"
      ]
     },
     "execution_count": 101,
     "metadata": {},
     "output_type": "execute_result"
    }
   ],
   "source": [
    "# print data shape\n",
    "f.shape"
   ]
  },
  {
   "cell_type": "code",
   "execution_count": 102,
   "id": "5cf0baec-7d1f-4df1-a88f-cecfda9920b2",
   "metadata": {},
   "outputs": [
    {
     "data": {
      "text/plain": [
       "376320840"
      ]
     },
     "execution_count": 102,
     "metadata": {},
     "output_type": "execute_result"
    }
   ],
   "source": [
    "f.size"
   ]
  },
  {
   "cell_type": "code",
   "execution_count": 139,
   "id": "485db64f-5dd0-47dd-a412-ec590bcb6caa",
   "metadata": {},
   "outputs": [
    {
     "name": "stdout",
     "output_type": "stream",
     "text": [
      "kg/m2/sec\n"
     ]
    }
   ],
   "source": [
    "print(field.units)"
   ]
  },
  {
   "cell_type": "code",
   "execution_count": 140,
   "id": "47e4a008-ff09-4086-8fdf-f85bba913bdb",
   "metadata": {},
   "outputs": [
    {
     "name": "stdout",
     "output_type": "stream",
     "text": [
      "<bound method domain_axes of <CF Field: long_name=co2 flux calc in ECHAM(time(1020), ncdim%y(511), ncdim%x(722)) kg/m2/sec>>\n"
     ]
    }
   ],
   "source": [
    "print(f.domain_axes)"
   ]
  },
  {
   "cell_type": "code",
   "execution_count": 141,
   "id": "c519e844-f909-49e7-9c93-076b250ae68f",
   "metadata": {},
   "outputs": [
    {
     "data": {
      "text/plain": [
       "(1020, 511, 722)"
      ]
     },
     "execution_count": 141,
     "metadata": {},
     "output_type": "execute_result"
    }
   ],
   "source": [
    "f.data.shape"
   ]
  },
  {
   "cell_type": "code",
   "execution_count": 105,
   "id": "7fe0b5ac-425a-48c9-b655-7fe995104502",
   "metadata": {},
   "outputs": [
    {
     "data": {
      "text/plain": [
       "('domainaxis0', 'domainaxis1', 'domainaxis2')"
      ]
     },
     "execution_count": 105,
     "metadata": {},
     "output_type": "execute_result"
    }
   ],
   "source": [
    "f.get_data_axes()"
   ]
  },
  {
   "cell_type": "code",
   "execution_count": 83,
   "id": "0117f556-1049-4e52-9af2-b5b751f24591",
   "metadata": {},
   "outputs": [
    {
     "data": {
      "text/plain": [
       "1"
      ]
     },
     "execution_count": 83,
     "metadata": {},
     "output_type": "execute_result"
    }
   ],
   "source": [
    "f = cf.read('/Users/chiaraciscato/Desktop/geomar/FOCI data/CO2flux_baseline_ensemble1_ssp126_1m.nc')\n",
    "len(f)"
   ]
  },
  {
   "cell_type": "code",
   "execution_count": 156,
   "id": "068468a2-4fea-4db9-b6c9-356ef7f63242",
   "metadata": {},
   "outputs": [
    {
     "name": "stdout",
     "output_type": "stream",
     "text": [
      "Field: long_name=co2 flux calc in ECHAM (ncvar%co2flux_cpl)\n",
      "-----------------------------------------------------------\n",
      "Data            : long_name=co2 flux calc in ECHAM(time(1), ncdim%y(511), ncdim%x(722)) kg/m2/sec\n",
      "Cell methods    : time(1): mean (interval:  s)\n",
      "Dimension coords: time(1) = [2015-01-16 12:00:00] gregorian\n",
      "Auxiliary coords: time(time(1)) = [2015-01-16 12:00:00] gregorian\n",
      "                : latitude(ncdim%y(511), ncdim%x(722)) = [[-77.0104751586914, ..., 49.99550247192383]] degrees_north\n",
      "                : longitude(ncdim%y(511), ncdim%x(722)) = [[72.75, ..., 72.99998474121094]] degrees_east\n"
     ]
    }
   ],
   "source": [
    "print(f[0])"
   ]
  },
  {
   "cell_type": "code",
   "execution_count": 44,
   "id": "57408072-6f11-4270-90b7-945a85cb226c",
   "metadata": {},
   "outputs": [
    {
     "data": {
      "text/plain": [
       "'1.9'"
      ]
     },
     "execution_count": 44,
     "metadata": {},
     "output_type": "execute_result"
    }
   ],
   "source": [
    "cf.CF()"
   ]
  },
  {
   "cell_type": "code",
   "execution_count": 45,
   "id": "58140b6b-76b4-44cf-a9d7-595848a5484f",
   "metadata": {},
   "outputs": [
    {
     "data": {
      "text/plain": [
       "cf.fieldlist.FieldList"
      ]
     },
     "execution_count": 45,
     "metadata": {},
     "output_type": "execute_result"
    }
   ],
   "source": [
    "type(f)"
   ]
  },
  {
   "cell_type": "code",
   "execution_count": 116,
   "id": "df6efc5c-3263-4c89-a8df-1ccaf244bd0d",
   "metadata": {},
   "outputs": [
    {
     "name": "stdout",
     "output_type": "stream",
     "text": [
      "[[[False False False ... False False False]\n",
      "  [False False False ... False False False]\n",
      "  [False False False ... False False False]\n",
      "  ...\n",
      "  [False False False ... False False False]\n",
      "  [False False False ... False False False]\n",
      "  [False False False ... False False False]]\n",
      "\n",
      " [[False False False ... False False False]\n",
      "  [False False False ... False False False]\n",
      "  [False False False ... False False False]\n",
      "  ...\n",
      "  [False False False ... False False False]\n",
      "  [False False False ... False False False]\n",
      "  [False False False ... False False False]]\n",
      "\n",
      " [[False False False ... False False False]\n",
      "  [False False False ... False False False]\n",
      "  [False False False ... False False False]\n",
      "  ...\n",
      "  [False False False ... False False False]\n",
      "  [False False False ... False False False]\n",
      "  [False False False ... False False False]]\n",
      "\n",
      " ...\n",
      "\n",
      " [[False False False ... False False False]\n",
      "  [False False False ... False False False]\n",
      "  [False False False ... False False False]\n",
      "  ...\n",
      "  [False False False ... False False False]\n",
      "  [False False False ... False False False]\n",
      "  [False False False ... False False False]]\n",
      "\n",
      " [[False False False ... False False False]\n",
      "  [False False False ... False False False]\n",
      "  [False False False ... False False False]\n",
      "  ...\n",
      "  [False False False ... False False False]\n",
      "  [False False False ... False False False]\n",
      "  [False False False ... False False False]]\n",
      "\n",
      " [[False False False ... False False False]\n",
      "  [False False False ... False False False]\n",
      "  [False False False ... False False False]\n",
      "  ...\n",
      "  [False False False ... False False False]\n",
      "  [False False False ... False False False]\n",
      "  [False False False ... False False False]]]\n"
     ]
    }
   ],
   "source": [
    "# boolean array with same dimension as previous one: False = present value and True = missing value\n",
    "print(f.mask.array)"
   ]
  },
  {
   "cell_type": "code",
   "execution_count": 117,
   "id": "95af4402-4679-4930-8a84-9b68e59e4a82",
   "metadata": {},
   "outputs": [
    {
     "data": {
      "text/plain": [
       "False"
      ]
     },
     "execution_count": 117,
     "metadata": {},
     "output_type": "execute_result"
    }
   ],
   "source": [
    "f.mask.all()"
   ]
  },
  {
   "cell_type": "code",
   "execution_count": 120,
   "id": "3b82954f-4d15-4950-b467-2c4b8c2ccbce",
   "metadata": {},
   "outputs": [
    {
     "name": "stdout",
     "output_type": "stream",
     "text": [
      "<bound method coordinates of <CF Field: long_name=co2 flux calc in ECHAM(time(1020), ncdim%y(511), ncdim%x(722)) kg/m2/sec>>\n"
     ]
    }
   ],
   "source": [
    "print(f.coordinates)"
   ]
  },
  {
   "cell_type": "code",
   "execution_count": 172,
   "id": "474edb48-3eac-4b16-8f19-22f312f3551e",
   "metadata": {},
   "outputs": [],
   "source": [
    "# max value for time coordinate\n",
    "b = f.collapse('maximum', axes = 'T') # T is CF python shortcut for time coordinate"
   ]
  },
  {
   "cell_type": "code",
   "execution_count": 149,
   "id": "26e8638d-0421-4e8a-bb85-d0e5d57ebeee",
   "metadata": {},
   "outputs": [
    {
     "data": {
      "text/plain": [
       "<CF Field: long_name=co2 flux calc in ECHAM(time(1), ncdim%y(511), ncdim%x(722)) kg/m2/sec>"
      ]
     },
     "execution_count": 149,
     "metadata": {},
     "output_type": "execute_result"
    }
   ],
   "source": [
    "b"
   ]
  },
  {
   "cell_type": "code",
   "execution_count": null,
   "id": "4ec6754c-82ff-4708-9cc8-bf9876a539fb",
   "metadata": {},
   "outputs": [
    {
     "name": "stdout",
     "output_type": "stream",
     "text": [
      "Field: long_name=co2 flux calc in ECHAM (ncvar%co2flux_cpl)\n",
      "-----------------------------------------------------------\n",
      "Data            : long_name=co2 flux calc in ECHAM(time(1), ncdim%y(511), ncdim%x(722)) kg/m2/sec\n",
      "Cell methods    : time(1): mean (interval:  s) time(1): maximum\n",
      "Dimension coords: time(1) = [2057-07-02 00:00:00] gregorian\n",
      "Auxiliary coords: latitude(ncdim%y(511), ncdim%x(722)) = [[-77.0104751586914, ..., 49.99550247192383]] degrees_north\n",
      "                : longitude(ncdim%y(511), ncdim%x(722)) = [[72.75, ..., 72.99998474121094]] degrees_east\n"
     ]
    }
   ],
   "source": [
    "print(b)"
   ]
  },
  {
   "cell_type": "code",
   "execution_count": 242,
   "id": "5be04ed8-6925-40e9-8a5b-fb7d72a00ade",
   "metadata": {},
   "outputs": [],
   "source": [
    "b_sub = b.subspace(Y=-77.0104751586914)"
   ]
  },
  {
   "cell_type": "code",
   "execution_count": 185,
   "id": "11ecfcf9-8354-440b-b00b-232a144cb6f2",
   "metadata": {},
   "outputs": [
    {
     "ename": "Warning",
     "evalue": "find_data_names error  - cannot find a coordinate for domainaxis1\nin the data\n",
     "output_type": "error",
     "traceback": [
      "\u001b[0;31m---------------------------------------------------------------------------\u001b[0m",
      "\u001b[0;31mWarning\u001b[0m                                   Traceback (most recent call last)",
      "\u001b[0;32m/var/folders/hq/35w1hmb96js9vgqq4730r3780000gn/T/ipykernel_86823/2163849589.py\u001b[0m in \u001b[0;36m<module>\u001b[0;34m\u001b[0m\n\u001b[0;32m----> 1\u001b[0;31m \u001b[0mcfp\u001b[0m\u001b[0;34m.\u001b[0m\u001b[0mcon\u001b[0m\u001b[0;34m(\u001b[0m\u001b[0mb_sub\u001b[0m\u001b[0;34m)\u001b[0m\u001b[0;34m\u001b[0m\u001b[0;34m\u001b[0m\u001b[0m\n\u001b[0m",
      "\u001b[0;32m/opt/anaconda3/envs/GEOMAR/lib/python3.7/site-packages/cfplot/cfplot.py\u001b[0m in \u001b[0;36mcon\u001b[0;34m(f, x, y, fill, lines, line_labels, title, colorbar_title, colorbar, colorbar_label_skip, ptype, negative_linestyle, blockfill, zero_thick, colorbar_shrink, colorbar_orientation, colorbar_position, xlog, ylog, axes, xaxis, yaxis, xticks, xticklabels, yticks, yticklabels, xlabel, ylabel, colors, swap_axes, verbose, linewidths, alpha, colorbar_text_up_down, colorbar_fontsize, colorbar_fontweight, colorbar_text_down_up, colorbar_drawedges, colorbar_fraction, colorbar_thick, colorbar_anchor, colorbar_labels, linestyles, zorder, level_spacing, ugrid, face_lons, face_lats, face_connectivity, titles, mytest, transform_first, blockfill_fast, nlevs)\u001b[0m\n\u001b[1;32m    405\u001b[0m         \u001b[0;31m#if not ugrid_blockfill:\u001b[0m\u001b[0;34m\u001b[0m\u001b[0;34m\u001b[0m\u001b[0;34m\u001b[0m\u001b[0m\n\u001b[1;32m    406\u001b[0m         \u001b[0mfield\u001b[0m\u001b[0;34m,\u001b[0m \u001b[0mx\u001b[0m\u001b[0;34m,\u001b[0m \u001b[0my\u001b[0m\u001b[0;34m,\u001b[0m \u001b[0mptype\u001b[0m\u001b[0;34m,\u001b[0m \u001b[0mcolorbar_title\u001b[0m\u001b[0;34m,\u001b[0m \u001b[0mxlabel\u001b[0m\u001b[0;34m,\u001b[0m \u001b[0mylabel\u001b[0m\u001b[0;34m,\u001b[0m \u001b[0mxpole\u001b[0m\u001b[0;34m,\u001b[0m \u001b[0mypole\u001b[0m \u001b[0;34m=\u001b[0m\u001b[0;31m\\\u001b[0m\u001b[0;34m\u001b[0m\u001b[0;34m\u001b[0m\u001b[0m\n\u001b[0;32m--> 407\u001b[0;31m             \u001b[0mcf_data_assign\u001b[0m\u001b[0;34m(\u001b[0m\u001b[0mf\u001b[0m\u001b[0;34m,\u001b[0m \u001b[0mcolorbar_title\u001b[0m\u001b[0;34m,\u001b[0m \u001b[0mverbose\u001b[0m\u001b[0;34m=\u001b[0m\u001b[0mverbose\u001b[0m\u001b[0;34m)\u001b[0m\u001b[0;34m\u001b[0m\u001b[0;34m\u001b[0m\u001b[0m\n\u001b[0m\u001b[1;32m    408\u001b[0m \u001b[0;34m\u001b[0m\u001b[0m\n\u001b[1;32m    409\u001b[0m         \u001b[0;32mif\u001b[0m \u001b[0muser_xlabel\u001b[0m \u001b[0;32mis\u001b[0m \u001b[0;32mnot\u001b[0m \u001b[0;32mNone\u001b[0m\u001b[0;34m:\u001b[0m\u001b[0;34m\u001b[0m\u001b[0;34m\u001b[0m\u001b[0m\n",
      "\u001b[0;32m/opt/anaconda3/envs/GEOMAR/lib/python3.7/site-packages/cfplot/cfplot.py\u001b[0m in \u001b[0;36mcf_data_assign\u001b[0;34m(f, colorbar_title, verbose, rotated_vect)\u001b[0m\n\u001b[1;32m   3473\u001b[0m \u001b[0;34m\u001b[0m\u001b[0m\n\u001b[1;32m   3474\u001b[0m     \u001b[0;31m# Check for multiple Z coordinates\u001b[0m\u001b[0;34m\u001b[0m\u001b[0;34m\u001b[0m\u001b[0;34m\u001b[0m\u001b[0m\n\u001b[0;32m-> 3475\u001b[0;31m     \u001b[0mmyz\u001b[0m \u001b[0;34m=\u001b[0m \u001b[0mfind_z\u001b[0m\u001b[0;34m(\u001b[0m\u001b[0mf\u001b[0m\u001b[0;34m)\u001b[0m\u001b[0;34m\u001b[0m\u001b[0;34m\u001b[0m\u001b[0m\n\u001b[0m\u001b[1;32m   3476\u001b[0m \u001b[0;34m\u001b[0m\u001b[0m\n\u001b[1;32m   3477\u001b[0m     \u001b[0;31m# Extract coordinate data if a matching CF standard_name or axis is found\u001b[0m\u001b[0;34m\u001b[0m\u001b[0;34m\u001b[0m\u001b[0;34m\u001b[0m\u001b[0m\n",
      "\u001b[0;32m/opt/anaconda3/envs/GEOMAR/lib/python3.7/site-packages/cfplot/cfplot.py\u001b[0m in \u001b[0;36mfind_z\u001b[0;34m(f)\u001b[0m\n\u001b[1;32m   9818\u001b[0m     \u001b[0mz_names\u001b[0m \u001b[0;34m=\u001b[0m\u001b[0;34m[\u001b[0m\u001b[0;34m]\u001b[0m\u001b[0;34m\u001b[0m\u001b[0;34m\u001b[0m\u001b[0m\n\u001b[1;32m   9819\u001b[0m \u001b[0;34m\u001b[0m\u001b[0m\n\u001b[0;32m-> 9820\u001b[0;31m     \u001b[0mmycoords\u001b[0m \u001b[0;34m=\u001b[0m \u001b[0mfind_dim_names\u001b[0m\u001b[0;34m(\u001b[0m\u001b[0mf\u001b[0m\u001b[0;34m)\u001b[0m\u001b[0;34m\u001b[0m\u001b[0;34m\u001b[0m\u001b[0m\n\u001b[0m\u001b[1;32m   9821\u001b[0m \u001b[0;34m\u001b[0m\u001b[0m\n\u001b[1;32m   9822\u001b[0m     \u001b[0mmyz\u001b[0m \u001b[0;34m=\u001b[0m \u001b[0;32mNone\u001b[0m\u001b[0;34m\u001b[0m\u001b[0;34m\u001b[0m\u001b[0m\n",
      "\u001b[0;32m/opt/anaconda3/envs/GEOMAR/lib/python3.7/site-packages/cfplot/cfplot.py\u001b[0m in \u001b[0;36mfind_dim_names\u001b[0;34m(field)\u001b[0m\n\u001b[1;32m   9768\u001b[0m                 \u001b[0merrstr\u001b[0m \u001b[0;34m=\u001b[0m \u001b[0;34m'find_data_names error  - cannot find a coordinate for '\u001b[0m \u001b[0;34m+\u001b[0m \u001b[0mdaxes\u001b[0m\u001b[0;34m[\u001b[0m\u001b[0mi\u001b[0m\u001b[0;34m]\u001b[0m \u001b[0;34m+\u001b[0m \u001b[0;34m'\\n'\u001b[0m\u001b[0;34m\u001b[0m\u001b[0;34m\u001b[0m\u001b[0m\n\u001b[1;32m   9769\u001b[0m                 \u001b[0merrstr\u001b[0m \u001b[0;34m+=\u001b[0m \u001b[0;34m'in the data\\n'\u001b[0m\u001b[0;34m\u001b[0m\u001b[0;34m\u001b[0m\u001b[0m\n\u001b[0;32m-> 9770\u001b[0;31m                 \u001b[0;32mraise\u001b[0m \u001b[0mWarning\u001b[0m\u001b[0;34m(\u001b[0m\u001b[0merrstr\u001b[0m\u001b[0;34m)\u001b[0m\u001b[0;34m\u001b[0m\u001b[0;34m\u001b[0m\u001b[0m\n\u001b[0m\u001b[1;32m   9771\u001b[0m     \u001b[0;32melse\u001b[0m\u001b[0;34m:\u001b[0m\u001b[0;34m\u001b[0m\u001b[0;34m\u001b[0m\u001b[0m\n\u001b[1;32m   9772\u001b[0m         \u001b[0mcoords\u001b[0m \u001b[0;34m=\u001b[0m \u001b[0mdcoords\u001b[0m\u001b[0;34m\u001b[0m\u001b[0;34m\u001b[0m\u001b[0m\n",
      "\u001b[0;31mWarning\u001b[0m: find_data_names error  - cannot find a coordinate for domainaxis1\nin the data\n"
     ]
    }
   ],
   "source": [
    "cfp.con(b_sub)"
   ]
  },
  {
   "cell_type": "code",
   "execution_count": 192,
   "id": "939f2d48-5f52-4d94-ba4f-55e51c587036",
   "metadata": {},
   "outputs": [],
   "source": [
    "# d = f.domain_axes.get('domainaxis1')"
   ]
  },
  {
   "cell_type": "code",
   "execution_count": 228,
   "id": "a347321c-a8d9-4ff2-89c2-7f2cd3c1a107",
   "metadata": {},
   "outputs": [
    {
     "ename": "Warning",
     "evalue": "find_data_names error  - cannot find a coordinate for domainaxis1\nin the data\n",
     "output_type": "error",
     "traceback": [
      "\u001b[0;31m---------------------------------------------------------------------------\u001b[0m",
      "\u001b[0;31mWarning\u001b[0m                                   Traceback (most recent call last)",
      "\u001b[0;32m/var/folders/hq/35w1hmb96js9vgqq4730r3780000gn/T/ipykernel_86823/2489551955.py\u001b[0m in \u001b[0;36m<module>\u001b[0;34m\u001b[0m\n\u001b[0;32m----> 1\u001b[0;31m \u001b[0mcfp\u001b[0m\u001b[0;34m.\u001b[0m\u001b[0mcon\u001b[0m\u001b[0;34m(\u001b[0m\u001b[0mf\u001b[0m\u001b[0;34m.\u001b[0m\u001b[0mcollapse\u001b[0m\u001b[0;34m(\u001b[0m\u001b[0;34m'mean'\u001b[0m\u001b[0;34m,\u001b[0m \u001b[0;34m'time'\u001b[0m\u001b[0;34m)\u001b[0m\u001b[0;34m,\u001b[0m \u001b[0mblockfill\u001b[0m \u001b[0;34m=\u001b[0m \u001b[0;32mTrue\u001b[0m\u001b[0;34m,\u001b[0m \u001b[0mlines\u001b[0m \u001b[0;34m=\u001b[0m \u001b[0;32mFalse\u001b[0m\u001b[0;34m)\u001b[0m\u001b[0;34m\u001b[0m\u001b[0;34m\u001b[0m\u001b[0m\n\u001b[0m",
      "\u001b[0;32m/opt/anaconda3/envs/GEOMAR/lib/python3.7/site-packages/cfplot/cfplot.py\u001b[0m in \u001b[0;36mcon\u001b[0;34m(f, x, y, fill, lines, line_labels, title, colorbar_title, colorbar, colorbar_label_skip, ptype, negative_linestyle, blockfill, zero_thick, colorbar_shrink, colorbar_orientation, colorbar_position, xlog, ylog, axes, xaxis, yaxis, xticks, xticklabels, yticks, yticklabels, xlabel, ylabel, colors, swap_axes, verbose, linewidths, alpha, colorbar_text_up_down, colorbar_fontsize, colorbar_fontweight, colorbar_text_down_up, colorbar_drawedges, colorbar_fraction, colorbar_thick, colorbar_anchor, colorbar_labels, linestyles, zorder, level_spacing, ugrid, face_lons, face_lats, face_connectivity, titles, mytest, transform_first, blockfill_fast, nlevs)\u001b[0m\n\u001b[1;32m    405\u001b[0m         \u001b[0;31m#if not ugrid_blockfill:\u001b[0m\u001b[0;34m\u001b[0m\u001b[0;34m\u001b[0m\u001b[0;34m\u001b[0m\u001b[0m\n\u001b[1;32m    406\u001b[0m         \u001b[0mfield\u001b[0m\u001b[0;34m,\u001b[0m \u001b[0mx\u001b[0m\u001b[0;34m,\u001b[0m \u001b[0my\u001b[0m\u001b[0;34m,\u001b[0m \u001b[0mptype\u001b[0m\u001b[0;34m,\u001b[0m \u001b[0mcolorbar_title\u001b[0m\u001b[0;34m,\u001b[0m \u001b[0mxlabel\u001b[0m\u001b[0;34m,\u001b[0m \u001b[0mylabel\u001b[0m\u001b[0;34m,\u001b[0m \u001b[0mxpole\u001b[0m\u001b[0;34m,\u001b[0m \u001b[0mypole\u001b[0m \u001b[0;34m=\u001b[0m\u001b[0;31m\\\u001b[0m\u001b[0;34m\u001b[0m\u001b[0;34m\u001b[0m\u001b[0m\n\u001b[0;32m--> 407\u001b[0;31m             \u001b[0mcf_data_assign\u001b[0m\u001b[0;34m(\u001b[0m\u001b[0mf\u001b[0m\u001b[0;34m,\u001b[0m \u001b[0mcolorbar_title\u001b[0m\u001b[0;34m,\u001b[0m \u001b[0mverbose\u001b[0m\u001b[0;34m=\u001b[0m\u001b[0mverbose\u001b[0m\u001b[0;34m)\u001b[0m\u001b[0;34m\u001b[0m\u001b[0;34m\u001b[0m\u001b[0m\n\u001b[0m\u001b[1;32m    408\u001b[0m \u001b[0;34m\u001b[0m\u001b[0m\n\u001b[1;32m    409\u001b[0m         \u001b[0;32mif\u001b[0m \u001b[0muser_xlabel\u001b[0m \u001b[0;32mis\u001b[0m \u001b[0;32mnot\u001b[0m \u001b[0;32mNone\u001b[0m\u001b[0;34m:\u001b[0m\u001b[0;34m\u001b[0m\u001b[0;34m\u001b[0m\u001b[0m\n",
      "\u001b[0;32m/opt/anaconda3/envs/GEOMAR/lib/python3.7/site-packages/cfplot/cfplot.py\u001b[0m in \u001b[0;36mcf_data_assign\u001b[0;34m(f, colorbar_title, verbose, rotated_vect)\u001b[0m\n\u001b[1;32m   3473\u001b[0m \u001b[0;34m\u001b[0m\u001b[0m\n\u001b[1;32m   3474\u001b[0m     \u001b[0;31m# Check for multiple Z coordinates\u001b[0m\u001b[0;34m\u001b[0m\u001b[0;34m\u001b[0m\u001b[0;34m\u001b[0m\u001b[0m\n\u001b[0;32m-> 3475\u001b[0;31m     \u001b[0mmyz\u001b[0m \u001b[0;34m=\u001b[0m \u001b[0mfind_z\u001b[0m\u001b[0;34m(\u001b[0m\u001b[0mf\u001b[0m\u001b[0;34m)\u001b[0m\u001b[0;34m\u001b[0m\u001b[0;34m\u001b[0m\u001b[0m\n\u001b[0m\u001b[1;32m   3476\u001b[0m \u001b[0;34m\u001b[0m\u001b[0m\n\u001b[1;32m   3477\u001b[0m     \u001b[0;31m# Extract coordinate data if a matching CF standard_name or axis is found\u001b[0m\u001b[0;34m\u001b[0m\u001b[0;34m\u001b[0m\u001b[0;34m\u001b[0m\u001b[0m\n",
      "\u001b[0;32m/opt/anaconda3/envs/GEOMAR/lib/python3.7/site-packages/cfplot/cfplot.py\u001b[0m in \u001b[0;36mfind_z\u001b[0;34m(f)\u001b[0m\n\u001b[1;32m   9818\u001b[0m     \u001b[0mz_names\u001b[0m \u001b[0;34m=\u001b[0m\u001b[0;34m[\u001b[0m\u001b[0;34m]\u001b[0m\u001b[0;34m\u001b[0m\u001b[0;34m\u001b[0m\u001b[0m\n\u001b[1;32m   9819\u001b[0m \u001b[0;34m\u001b[0m\u001b[0m\n\u001b[0;32m-> 9820\u001b[0;31m     \u001b[0mmycoords\u001b[0m \u001b[0;34m=\u001b[0m \u001b[0mfind_dim_names\u001b[0m\u001b[0;34m(\u001b[0m\u001b[0mf\u001b[0m\u001b[0;34m)\u001b[0m\u001b[0;34m\u001b[0m\u001b[0;34m\u001b[0m\u001b[0m\n\u001b[0m\u001b[1;32m   9821\u001b[0m \u001b[0;34m\u001b[0m\u001b[0m\n\u001b[1;32m   9822\u001b[0m     \u001b[0mmyz\u001b[0m \u001b[0;34m=\u001b[0m \u001b[0;32mNone\u001b[0m\u001b[0;34m\u001b[0m\u001b[0;34m\u001b[0m\u001b[0m\n",
      "\u001b[0;32m/opt/anaconda3/envs/GEOMAR/lib/python3.7/site-packages/cfplot/cfplot.py\u001b[0m in \u001b[0;36mfind_dim_names\u001b[0;34m(field)\u001b[0m\n\u001b[1;32m   9768\u001b[0m                 \u001b[0merrstr\u001b[0m \u001b[0;34m=\u001b[0m \u001b[0;34m'find_data_names error  - cannot find a coordinate for '\u001b[0m \u001b[0;34m+\u001b[0m \u001b[0mdaxes\u001b[0m\u001b[0;34m[\u001b[0m\u001b[0mi\u001b[0m\u001b[0;34m]\u001b[0m \u001b[0;34m+\u001b[0m \u001b[0;34m'\\n'\u001b[0m\u001b[0;34m\u001b[0m\u001b[0;34m\u001b[0m\u001b[0m\n\u001b[1;32m   9769\u001b[0m                 \u001b[0merrstr\u001b[0m \u001b[0;34m+=\u001b[0m \u001b[0;34m'in the data\\n'\u001b[0m\u001b[0;34m\u001b[0m\u001b[0;34m\u001b[0m\u001b[0m\n\u001b[0;32m-> 9770\u001b[0;31m                 \u001b[0;32mraise\u001b[0m \u001b[0mWarning\u001b[0m\u001b[0;34m(\u001b[0m\u001b[0merrstr\u001b[0m\u001b[0;34m)\u001b[0m\u001b[0;34m\u001b[0m\u001b[0;34m\u001b[0m\u001b[0m\n\u001b[0m\u001b[1;32m   9771\u001b[0m     \u001b[0;32melse\u001b[0m\u001b[0;34m:\u001b[0m\u001b[0;34m\u001b[0m\u001b[0;34m\u001b[0m\u001b[0m\n\u001b[1;32m   9772\u001b[0m         \u001b[0mcoords\u001b[0m \u001b[0;34m=\u001b[0m \u001b[0mdcoords\u001b[0m\u001b[0;34m\u001b[0m\u001b[0;34m\u001b[0m\u001b[0m\n",
      "\u001b[0;31mWarning\u001b[0m: find_data_names error  - cannot find a coordinate for domainaxis1\nin the data\n"
     ]
    }
   ],
   "source": [
    "cfp.con(f.collapse('mean', 'time'), blockfill = True, lines = False)"
   ]
  },
  {
   "cell_type": "code",
   "execution_count": 200,
   "id": "996a800d-253c-48bc-96e0-dbaa5b250f2c",
   "metadata": {},
   "outputs": [
    {
     "data": {
      "text/plain": [
       "376320840"
      ]
     },
     "execution_count": 200,
     "metadata": {},
     "output_type": "execute_result"
    }
   ],
   "source": [
    "f.size"
   ]
  },
  {
   "cell_type": "code",
   "execution_count": 210,
   "id": "99ad783e-f18c-4623-96c1-9ecd0ba37db7",
   "metadata": {},
   "outputs": [
    {
     "data": {
      "text/plain": [
       "<bound method domain_axis of <CF Field: long_name=co2 flux calc in ECHAM(time(1020), ncdim%y(511), ncdim%x(722)) kg/m2/sec>>"
      ]
     },
     "execution_count": 210,
     "metadata": {},
     "output_type": "execute_result"
    }
   ],
   "source": [
    "f.domain_axis"
   ]
  },
  {
   "cell_type": "code",
   "execution_count": 248,
   "id": "a38387d6-a362-48ae-abe2-0a14c28f00ad",
   "metadata": {},
   "outputs": [
    {
     "data": {
      "text/plain": [
       "'1.9'"
      ]
     },
     "execution_count": 248,
     "metadata": {},
     "output_type": "execute_result"
    }
   ],
   "source": [
    "cf.CF()"
   ]
  },
  {
   "cell_type": "code",
   "execution_count": 249,
   "id": "24146da0-4686-42d3-8d27-b051ceb4ca9b",
   "metadata": {},
   "outputs": [
    {
     "data": {
      "text/plain": [
       "'co2flux_cpl'"
      ]
     },
     "execution_count": 249,
     "metadata": {},
     "output_type": "execute_result"
    }
   ],
   "source": [
    "f.nc_get_variable()"
   ]
  },
  {
   "cell_type": "code",
   "execution_count": 250,
   "id": "8921413e-e52f-4eae-8dea-b90c49eece86",
   "metadata": {},
   "outputs": [
    {
     "data": {
      "text/plain": [
       "'long_name=co2 flux calc in ECHAM'"
      ]
     },
     "execution_count": 250,
     "metadata": {},
     "output_type": "execute_result"
    }
   ],
   "source": [
    "f.identity()"
   ]
  },
  {
   "cell_type": "code",
   "execution_count": 252,
   "id": "1549f4cb-88c5-46fb-9dd9-2ff3239bbc6b",
   "metadata": {},
   "outputs": [
    {
     "data": {
      "text/plain": [
       "'co2 flux calc in ECHAM'"
      ]
     },
     "execution_count": 252,
     "metadata": {},
     "output_type": "execute_result"
    }
   ],
   "source": [
    "f.del_property('long_name')"
   ]
  },
  {
   "cell_type": "code",
   "execution_count": 253,
   "id": "7b1ba31d-bced-40aa-a8d7-ad5dc949527a",
   "metadata": {},
   "outputs": [
    {
     "data": {
      "text/plain": [
       "'co2flux_cpl'"
      ]
     },
     "execution_count": 253,
     "metadata": {},
     "output_type": "execute_result"
    }
   ],
   "source": [
    "f.nc_del_variable()"
   ]
  },
  {
   "cell_type": "code",
   "execution_count": 255,
   "id": "aa0b06e5-b7bc-4df5-9a40-6683984bf982",
   "metadata": {},
   "outputs": [
    {
     "data": {
      "text/plain": [
       "False"
      ]
     },
     "execution_count": 255,
     "metadata": {},
     "output_type": "execute_result"
    }
   ],
   "source": [
    "f.X"
   ]
  },
  {
   "cell_type": "code",
   "execution_count": 260,
   "id": "45bcbdac-76ba-48b1-9878-f7e25eb2a4b9",
   "metadata": {},
   "outputs": [
    {
     "data": {
      "text/plain": [
       "False"
      ]
     },
     "execution_count": 260,
     "metadata": {},
     "output_type": "execute_result"
    }
   ],
   "source": [
    "f.T"
   ]
  },
  {
   "cell_type": "code",
   "execution_count": 264,
   "id": "7fd5c7b6-d2be-4374-86e2-d09542ace564",
   "metadata": {},
   "outputs": [
    {
     "data": {
      "text/plain": [
       "False"
      ]
     },
     "execution_count": 264,
     "metadata": {},
     "output_type": "execute_result"
    }
   ],
   "source": [
    "f.Y"
   ]
  },
  {
   "cell_type": "code",
   "execution_count": 262,
   "id": "d2517b53-a163-4603-a927-50f6ec056619",
   "metadata": {},
   "outputs": [
    {
     "data": {
      "text/plain": [
       "False"
      ]
     },
     "execution_count": 262,
     "metadata": {},
     "output_type": "execute_result"
    }
   ],
   "source": [
    "f.all()"
   ]
  },
  {
   "cell_type": "code",
   "execution_count": null,
   "id": "e9daa8cf-1818-402c-b5bf-905e5022b3cf",
   "metadata": {},
   "outputs": [],
   "source": []
  }
 ],
 "metadata": {
  "kernelspec": {
   "display_name": "GEOMAR",
   "language": "python",
   "name": "geomar"
  },
  "language_info": {
   "codemirror_mode": {
    "name": "ipython",
    "version": 3
   },
   "file_extension": ".py",
   "mimetype": "text/x-python",
   "name": "python",
   "nbconvert_exporter": "python",
   "pygments_lexer": "ipython3",
   "version": "3.7.12"
  }
 },
 "nbformat": 4,
 "nbformat_minor": 5
}
